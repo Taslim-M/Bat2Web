{
 "cells": [
  {
   "cell_type": "code",
   "execution_count": 1,
   "metadata": {},
   "outputs": [],
   "source": [
    "import keras\n",
    "import tensorflow as tf\n",
    "\n",
    "import numpy as np\n",
    "# from keras.models import Sequential, Model\n",
    "# from keras.layers import Dense, Dropout, Activation, Flatten, Convolution2D, MaxPooling2D, GlobalAveragePooling2D\n",
    "from keras.utils import np_utils\n",
    "\n",
    "from tensorflow.keras.models import Sequential, Model\n",
    "from tensorflow.keras.layers import Dense, Dropout, Activation, Flatten, Convolution2D, MaxPooling2D, GlobalAveragePooling2D, Input,AveragePooling2D, BatchNormalization, LeakyReLU, SpatialDropout2D\n",
    "\n",
    "from tensorflow.keras.optimizers import Adam\n"
   ]
  },
  {
   "cell_type": "code",
   "execution_count": 2,
   "metadata": {},
   "outputs": [],
   "source": [
    "def build_current_model():\n",
    "    inp = Input(shape=(112,170,3))\n",
    "    lay = Convolution2D(filters=56,kernel_size=(7,7),strides=(2,2),padding='same')(inp)\n",
    "    lay = BatchNormalization()(lay)\n",
    "    lay = Activation('relu')(lay)\n",
    "    lay = MaxPooling2D(pool_size=(2,2),strides=2,padding='same')(lay)\n",
    "    lay = Dropout(0.3)(lay)\n",
    "\n",
    "    lay = Convolution2D(filters=72,kernel_size=(5,5),strides=(2,2),padding='same')(lay)\n",
    "    lay = BatchNormalization()(lay)\n",
    "    lay = Activation('relu')(lay)\n",
    "    lay = AveragePooling2D(pool_size=(2,2),strides=2,padding='same')(lay)\n",
    "    lay = Dropout(0.3)(lay)\n",
    "\n",
    "    lay = Convolution2D(filters=56,kernel_size=(3,3),strides=(1,1),padding='same')(lay)\n",
    "    lay = BatchNormalization()(lay)\n",
    "    lay = Activation('relu')(lay)\n",
    "    lay = AveragePooling2D(pool_size=(2,2),strides=2,padding='same')(lay)\n",
    "    lay = Dropout(0.3)(lay)\n",
    "\n",
    "    lay = Convolution2D(filters=72,kernel_size=(3,3),strides=(1,1),padding='same')(lay)\n",
    "    lay = BatchNormalization()(lay)\n",
    "    lay = Activation('relu')(lay)\n",
    "    lay = AveragePooling2D(pool_size=(2,2),strides=2,padding='same')(lay)\n",
    "    lay = Dropout(0.3)(lay)\n",
    "\n",
    "    lay = Flatten()(lay)\n",
    "\n",
    "    lay = Dense(48)(lay)\n",
    "    lay = BatchNormalization()(lay)\n",
    "    lay = Activation('relu')(lay)\n",
    "    lay = Dropout(0.15)(lay)\n",
    "\n",
    "    x_out = Dense(8, name='output', activation='softmax')(lay)\n",
    "    model = Model(inputs=inp, outputs=x_out)\n",
    "    model.compile(\n",
    "        optimizer=Adam(lr=0.003),\n",
    "        loss='categorical_crossentropy',\n",
    "        metrics=['accuracy']\n",
    "    )\n",
    "    return model\n"
   ]
  },
  {
   "cell_type": "code",
   "execution_count": 3,
   "metadata": {
    "scrolled": false
   },
   "outputs": [
    {
     "name": "stdout",
     "output_type": "stream",
     "text": [
      "Model: \"functional_1\"\n",
      "_________________________________________________________________\n",
      "Layer (type)                 Output Shape              Param #   \n",
      "=================================================================\n",
      "input_1 (InputLayer)         [(None, 112, 170, 3)]     0         \n",
      "_________________________________________________________________\n",
      "conv2d (Conv2D)              (None, 56, 85, 56)        8288      \n",
      "_________________________________________________________________\n",
      "batch_normalization (BatchNo (None, 56, 85, 56)        224       \n",
      "_________________________________________________________________\n",
      "activation (Activation)      (None, 56, 85, 56)        0         \n",
      "_________________________________________________________________\n",
      "max_pooling2d (MaxPooling2D) (None, 28, 43, 56)        0         \n",
      "_________________________________________________________________\n",
      "dropout (Dropout)            (None, 28, 43, 56)        0         \n",
      "_________________________________________________________________\n",
      "conv2d_1 (Conv2D)            (None, 14, 22, 72)        100872    \n",
      "_________________________________________________________________\n",
      "batch_normalization_1 (Batch (None, 14, 22, 72)        288       \n",
      "_________________________________________________________________\n",
      "activation_1 (Activation)    (None, 14, 22, 72)        0         \n",
      "_________________________________________________________________\n",
      "average_pooling2d (AveragePo (None, 7, 11, 72)         0         \n",
      "_________________________________________________________________\n",
      "dropout_1 (Dropout)          (None, 7, 11, 72)         0         \n",
      "_________________________________________________________________\n",
      "conv2d_2 (Conv2D)            (None, 7, 11, 56)         36344     \n",
      "_________________________________________________________________\n",
      "batch_normalization_2 (Batch (None, 7, 11, 56)         224       \n",
      "_________________________________________________________________\n",
      "activation_2 (Activation)    (None, 7, 11, 56)         0         \n",
      "_________________________________________________________________\n",
      "average_pooling2d_1 (Average (None, 4, 6, 56)          0         \n",
      "_________________________________________________________________\n",
      "dropout_2 (Dropout)          (None, 4, 6, 56)          0         \n",
      "_________________________________________________________________\n",
      "conv2d_3 (Conv2D)            (None, 4, 6, 72)          36360     \n",
      "_________________________________________________________________\n",
      "batch_normalization_3 (Batch (None, 4, 6, 72)          288       \n",
      "_________________________________________________________________\n",
      "activation_3 (Activation)    (None, 4, 6, 72)          0         \n",
      "_________________________________________________________________\n",
      "average_pooling2d_2 (Average (None, 2, 3, 72)          0         \n",
      "_________________________________________________________________\n",
      "dropout_3 (Dropout)          (None, 2, 3, 72)          0         \n",
      "_________________________________________________________________\n",
      "flatten (Flatten)            (None, 432)               0         \n",
      "_________________________________________________________________\n",
      "dense (Dense)                (None, 48)                20784     \n",
      "_________________________________________________________________\n",
      "batch_normalization_4 (Batch (None, 48)                192       \n",
      "_________________________________________________________________\n",
      "activation_4 (Activation)    (None, 48)                0         \n",
      "_________________________________________________________________\n",
      "dropout_4 (Dropout)          (None, 48)                0         \n",
      "_________________________________________________________________\n",
      "output (Dense)               (None, 8)                 392       \n",
      "=================================================================\n",
      "Total params: 204,256\n",
      "Trainable params: 203,648\n",
      "Non-trainable params: 608\n",
      "_________________________________________________________________\n"
     ]
    }
   ],
   "source": [
    "model = build_current_model()\n",
    "model.summary()"
   ]
  },
  {
   "cell_type": "code",
   "execution_count": 6,
   "metadata": {
    "scrolled": false
   },
   "outputs": [
    {
     "name": "stdout",
     "output_type": "stream",
     "text": [
      "WARNING:tensorflow:From C:\\Users\\pinkb\\anaconda2020\\lib\\site-packages\\tensorflow\\python\\training\\tracking\\tracking.py:111: Model.state_updates (from tensorflow.python.keras.engine.training) is deprecated and will be removed in a future version.\n",
      "Instructions for updating:\n",
      "This property should not be used in TensorFlow 2.0, as updates are applied automatically.\n",
      "WARNING:tensorflow:From C:\\Users\\pinkb\\anaconda2020\\lib\\site-packages\\tensorflow\\python\\training\\tracking\\tracking.py:111: Layer.updates (from tensorflow.python.keras.engine.base_layer) is deprecated and will be removed in a future version.\n",
      "Instructions for updating:\n",
      "This property should not be used in TensorFlow 2.0, as updates are applied automatically.\n",
      "INFO:tensorflow:Assets written to: C:\\Users\\pinkb\\AppData\\Local\\Temp\\tmp_4azz380\\assets\n"
     ]
    },
    {
     "data": {
      "text/plain": [
       "209936"
      ]
     },
     "execution_count": 6,
     "metadata": {},
     "output_type": "execute_result"
    }
   ],
   "source": [
    "converter = tf.lite.TFLiteConverter.from_keras_model(model)\n",
    "converter.optimizations = [tf.lite.Optimize.OPTIMIZE_FOR_SIZE]\n",
    "tflite_model = converter.convert()\n",
    "converted_keras_model= r'ConvertedKerasModel'\n",
    "open(converted_keras_model, \"wb\").write(tflite_model)"
   ]
  },
  {
   "cell_type": "markdown",
   "metadata": {},
   "source": [
    "# Converting saved models"
   ]
  },
  {
   "cell_type": "code",
   "execution_count": 9,
   "metadata": {
    "scrolled": true
   },
   "outputs": [],
   "source": [
    "import os\n",
    "converter = tf.lite.TFLiteConverter.from_saved_model(os. getcwd())\n",
    "# converted_saved_model= r'ConvertedSavedModel'\n",
    "# open(converted_saved_model, \"wb\").write(tflite_model)\n"
   ]
  },
  {
   "cell_type": "code",
   "execution_count": 11,
   "metadata": {},
   "outputs": [],
   "source": [
    "model_file = \"model\" + '.h5'\n",
    "model.save(model_file) #Save the model"
   ]
  },
  {
   "cell_type": "code",
   "execution_count": 23,
   "metadata": {},
   "outputs": [
    {
     "name": "stdout",
     "output_type": "stream",
     "text": [
      "C:\\Users\\pinkb\\OneDrive\\Documents\\Spring 2020\\Deep Learning\\batsproject\\workTriedlocally\\model.h5\n"
     ]
    }
   ],
   "source": [
    "print (os.getcwd()+\"\\model.h5\")"
   ]
  },
  {
   "cell_type": "code",
   "execution_count": 28,
   "metadata": {},
   "outputs": [
    {
     "name": "stdout",
     "output_type": "stream",
     "text": [
      "INFO:tensorflow:Assets written to: C:\\Users\\pinkb\\AppData\\Local\\Temp\\tmpd73g7tcy\\assets\n"
     ]
    },
    {
     "name": "stderr",
     "output_type": "stream",
     "text": [
      "INFO:tensorflow:Assets written to: C:\\Users\\pinkb\\AppData\\Local\\Temp\\tmpd73g7tcy\\assets\n"
     ]
    },
    {
     "data": {
      "text/plain": [
       "816528"
      ]
     },
     "execution_count": 28,
     "metadata": {},
     "output_type": "execute_result"
    }
   ],
   "source": [
    "\n",
    "loaded_model= tf.keras.models.load_model(r\"C:\\Users\\pinkb\\OneDrive\\Documents\\Spring 2020\\Deep Learning\\batsproject\\workTriedlocally\\model.h5\")\n",
    "converter = tf.lite.TFLiteConverter.from_keras_model(loaded_model)\n",
    "tfmodel = converter.convert()\n",
    "open (\"loaded-model.tflite\" , \"wb\") .write(tfmodel)"
   ]
  }
 ],
 "metadata": {
  "kernelspec": {
   "display_name": "Python 3",
   "language": "python",
   "name": "python3"
  },
  "language_info": {
   "codemirror_mode": {
    "name": "ipython",
    "version": 3
   },
   "file_extension": ".py",
   "mimetype": "text/x-python",
   "name": "python",
   "nbconvert_exporter": "python",
   "pygments_lexer": "ipython3",
   "version": "3.8.3"
  }
 },
 "nbformat": 4,
 "nbformat_minor": 2
}
