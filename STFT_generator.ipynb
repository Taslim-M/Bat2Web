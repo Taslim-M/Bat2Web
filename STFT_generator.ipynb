{
 "cells": [
  {
   "cell_type": "code",
   "execution_count": 8,
   "metadata": {},
   "outputs": [],
   "source": [
    "import librosa\n",
    "import librosa.display\n",
    "import os\n",
    "from os import listdir\n",
    "from os.path import isfile, join\n",
    "import pandas as pd\n",
    "import numpy as np\n",
    "import matplotlib.pyplot as plt"
   ]
  },
  {
   "cell_type": "code",
   "execution_count": 9,
   "metadata": {},
   "outputs": [],
   "source": [
    "def convert_single_audio_to_image(audio_path, image_path):\n",
    "    data, sr = librosa.load(audio_path, sr = 44100)\n",
    "\n",
    "    window_width =  0.025 #25 ms  window size \n",
    "    sliding = 0.01 #10ms stride \n",
    "    spec = librosa.core.stft(y=data, n_fft = int(window_width*sr), hop_length =int(sliding*sr))\n",
    "    \n",
    "    #Convert amplitude to decibels\n",
    "    db_spec = librosa.power_to_db(spec, ref=np.max)\n",
    "\n",
    "    for x in range(0, np.size(db_spec,1),300):\n",
    "        fig = plt.figure()\n",
    "        ax = plt.axes()\n",
    "        ax.set_axis_off()\n",
    "        #if there is no more data, slide a bit backwards\n",
    "        if(x+300 > np.size(db_spec,1)):\n",
    "            limit = np.size(db_spec,1)\n",
    "            librosa.display.specshow(np.reshape(np.copy(db_spec[:,limit-300:limit]),(552,-1)), sr=sr, hop_length =int(sliding*sr),fmax=sr/2)\n",
    "        else:\n",
    "            librosa.display.specshow(np.reshape(np.copy(db_spec[:,x:x+300]),(552,-1)), sr=sr, hop_length =int(sliding*sr),fmax=sr/2)\n",
    "        \n",
    "        file_end = \"%d.png\" %(x)\n",
    "        fig.savefig(image_path.replace('.png',file_end),bbox_inches='tight', transparent=True, pad_inches=0.0)\n",
    "        plt.close(fig)\n"
   ]
  },
  {
   "cell_type": "code",
   "execution_count": 10,
   "metadata": {},
   "outputs": [
    {
     "name": "stdout",
     "output_type": "stream",
     "text": [
      "count of Wav_files in 5= Asellia tridens\n"
     ]
    },
    {
     "name": "stderr",
     "output_type": "stream",
     "text": [
      "C:\\Users\\Tasli\\Anaconda3\\envs\\keras-gpu\\lib\\site-packages\\librosa\\core\\spectrum.py:888: UserWarning: power_to_db was called on complex input so phase information will be discarded. To suppress this warning, call power_to_db(np.abs(D)**2) instead.\n",
      "  warnings.warn('power_to_db was called on complex input so phase '\n"
     ]
    },
    {
     "name": "stdout",
     "output_type": "stream",
     "text": [
      "count of Wav_files in 6= Eptesicus bottae\n",
      "count of Wav_files in 9= Myotis emarginatus\n",
      "count of Wav_files in 16= Pipistrellus kuhli\n",
      "count of Wav_files in 99= Rhinopoma muscatellum\n",
      "count of Wav_files in 15= Rhyneptesicus nasutus\n",
      "count of Wav_files in 15= Rousettus aegyptius\n",
      "count of Wav_files in 32= Taphozous perforatus\n"
     ]
    }
   ],
   "source": [
    "valid_species = ['Asellia tridens', 'Eptesicus bottae', 'Myotis emarginatus', 'Pipistrellus kuhli', 'Rhinopoma muscatellum', 'Rhyneptesicus nasutus', 'Rousettus aegyptius', 'Taphozous perforatus']\n",
    "\n",
    "audio_folder_name= r\"data\\Identified calls\"\n",
    "image_folder_name=  r\"data\\STFT\"\n",
    "for sp in valid_species:\n",
    "    curr_file_names = listdir(join(audio_folder_name,sp))\n",
    "    print(\"count of Wav_files in {}= {}\".format(len(curr_file_names),sp))\n",
    "    for f in curr_file_names:\n",
    "        if f.endswith('.WAV') or f.endswith('.wav'):\n",
    "            audio_path = join(audio_folder_name,sp,f)\n",
    "            all_caps_file_name = f.upper()\n",
    "            image_path = join(image_folder_name,all_caps_file_name.replace('.WAV', '.png'))\n",
    "            convert_single_audio_to_image(audio_path,image_path)\n"
   ]
  },
  {
   "cell_type": "code",
   "execution_count": null,
   "metadata": {},
   "outputs": [],
   "source": []
  }
 ],
 "metadata": {
  "kernelspec": {
   "display_name": "Python 3",
   "language": "python",
   "name": "python3"
  },
  "language_info": {
   "codemirror_mode": {
    "name": "ipython",
    "version": 3
   },
   "file_extension": ".py",
   "mimetype": "text/x-python",
   "name": "python",
   "nbconvert_exporter": "python",
   "pygments_lexer": "ipython3",
   "version": "3.6.10"
  }
 },
 "nbformat": 4,
 "nbformat_minor": 2
}
