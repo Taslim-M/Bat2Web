{
 "cells": [
  {
   "cell_type": "code",
   "execution_count": 5,
   "metadata": {},
   "outputs": [],
   "source": [
    "import keras\n",
    "import numpy as np\n",
    "from keras.models import Sequential, Model\n",
    "from keras.layers import Dense, Dropout, Activation, Flatten, Convolution2D, MaxPooling2D, GlobalAveragePooling2D\n",
    "from keras.utils import np_utils\n",
    "from matplotlib import pyplot as plt\n",
    "import os\n",
    "\n",
    "from collections import defaultdict\n",
    "from PIL import Image\n",
    "\n",
    "np.random.seed(123) # for testing\n",
    "\n",
    "image_folder_path = r'C:\\Users\\azada\\Documents\\Uni Files\\Non-Academic Uni Files\\Dr. Imran Research Work\\Data Sets\\Spoken Digit Example\\Spectros'\n",
    "\n",
    "\n",
    "training_specs = []\n",
    "testing_specs = []\n",
    "\n",
    "training_labels = []\n",
    "testing_labels = []\n",
    "\n",
    "\n",
    "file_paths = [f for f in os.listdir(image_folder_path) if os.path.isfile(os.path.join(image_folder_path, f)) and '.png' in f]\n",
    "\n",
    "for file_name in file_paths:\n",
    "    spec_index = file_name.rsplit(\"_\", 1)[1].rsplit(\".\", 1)[0]\n",
    "    label = file_name[0]\n",
    "    spectrogram = Image.open(image_folder_path + '/' + file_name)\n",
    "    spectrogram = spectrogram.convert('RGB')\n",
    "    spectrogram = spectrogram.resize((224,224))\n",
    "    spectrogram = np.array(spectrogram)\n",
    "    if int(spec_index) <= 4:\n",
    "        testing_specs.append(spectrogram)\n",
    "        testing_labels.append(label)\n",
    "    else:\n",
    "        training_specs.append(spectrogram)\n",
    "        training_labels.append(label)\n",
    "\n",
    "training_specs = np.array(training_specs)\n",
    "testing_specs = np.array(testing_specs)\n",
    "training_labels = np.array(training_labels)\n",
    "testing_labels = np.array(testing_labels)\n",
    "\n",
    "\n",
    "training_specs = training_specs.astype('float32') # convert types to float\n",
    "testing_specs = testing_specs.astype('float32')\n",
    "training_specs /= 255 # normalize data to a 0-1 value\n",
    "testing_specs /= 255\n",
    "\n",
    "\n",
    "training_labels = np_utils.to_categorical(training_labels, 10) # convert data to categories\n",
    "testing_labels = np_utils.to_categorical(testing_labels, 10)\n",
    "\n"
   ]
  },
  {
   "cell_type": "code",
   "execution_count": 10,
   "metadata": {},
   "outputs": [],
   "source": [
    "\n",
    "base_model = keras.applications.mobilenet_v2.MobileNetV2(include_top=False, weights='imagenet', input_shape=(224,224,3))\n",
    "\n",
    "for layer in base_model.layers: # here we freeze the layers from mobilenet\n",
    "    layer.trainable=False\n",
    "\n",
    "# here we add our own final layers\n",
    "x=base_model.output \n",
    "x=Flatten()(x)\n",
    "x=Dense(256,activation='relu')(x)\n",
    "x=Dropout(0.3)(x)\n",
    "x=Dense(4096,activation='relu')(x) \n",
    "preds=Dense(10,activation='softmax')(x) #final layer with softmax activation. Here '10' denotes number of classes\n",
    "\n",
    "model=Model(inputs=base_model.input,outputs=preds)\n",
    "\n",
    "\n",
    "    \n",
    "\n"
   ]
  },
  {
   "cell_type": "code",
   "execution_count": 11,
   "metadata": {},
   "outputs": [
    {
     "name": "stdout",
     "output_type": "stream",
     "text": [
      "WARNING:tensorflow:From C:\\Users\\azada\\Anaconda3\\lib\\site-packages\\tensorflow\\python\\ops\\math_ops.py:3066: to_int32 (from tensorflow.python.ops.math_ops) is deprecated and will be removed in a future version.\n",
      "Instructions for updating:\n",
      "Use tf.cast instead.\n"
     ]
    },
    {
     "name": "stderr",
     "output_type": "stream",
     "text": [
      "C:\\Users\\azada\\Anaconda3\\lib\\site-packages\\ipykernel_launcher.py:8: UserWarning: The `nb_epoch` argument in `fit` has been renamed `epochs`.\n",
      "  \n"
     ]
    },
    {
     "name": "stdout",
     "output_type": "stream",
     "text": [
      "Epoch 1/2\n",
      "1800/1800 [==============================] - 322s 179ms/step - loss: 14.3292 - accuracy: 0.1028\n",
      "Epoch 2/2\n",
      "1800/1800 [==============================] - 342s 190ms/step - loss: 14.4974 - accuracy: 0.1006\n",
      "[14.506285858154296, 0.10000000149011612]\n"
     ]
    }
   ],
   "source": [
    "\n",
    "\n",
    "#Compile the model\n",
    "model.compile(loss='categorical_crossentropy',\n",
    "              optimizer='adam',\n",
    "              metrics=['accuracy'])\n",
    "\n",
    "#Train the model\n",
    "model.fit(training_specs, training_labels, \n",
    "          batch_size=8, nb_epoch=2, verbose=1)\n",
    "\n",
    "#Test the results\n",
    "score = model.evaluate(testing_specs, testing_labels, verbose=0)\n",
    "\n",
    "print(score)\n"
   ]
  },
  {
   "cell_type": "code",
   "execution_count": null,
   "metadata": {},
   "outputs": [],
   "source": []
  }
 ],
 "metadata": {
  "kernelspec": {
   "display_name": "Python 3",
   "language": "python",
   "name": "python3"
  },
  "language_info": {
   "codemirror_mode": {
    "name": "ipython",
    "version": 3
   },
   "file_extension": ".py",
   "mimetype": "text/x-python",
   "name": "python",
   "nbconvert_exporter": "python",
   "pygments_lexer": "ipython3",
   "version": "3.6.9"
  }
 },
 "nbformat": 4,
 "nbformat_minor": 2
}
