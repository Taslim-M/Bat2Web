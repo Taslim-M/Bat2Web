{
 "cells": [
  {
   "cell_type": "code",
   "execution_count": 1,
   "metadata": {},
   "outputs": [
    {
     "name": "stderr",
     "output_type": "stream",
     "text": [
      "Using TensorFlow backend.\n"
     ]
    }
   ],
   "source": [
    "import keras\n",
    "import numpy as np\n",
    "from keras.models import Sequential\n",
    "from keras.layers import Dense, Dropout, Activation, Flatten, Convolution2D, MaxPooling2D\n",
    "from keras.utils import np_utils\n",
    "from matplotlib import pyplot as plt\n",
    "import os\n",
    "import cv2\n",
    "from collections import defaultdict\n",
    "#from PIL import Image\n",
    "\n",
    "np.random.seed(123) # for testing\n",
    "\n",
    "image_folder_path = r'C:\\Users\\Tasli\\Desktop\\free-spoken-digit-dataset-master\\Spectros'\n",
    "\n",
    "training_data = []\n",
    "training_specs = []\n",
    "testing_specs = []\n",
    "\n",
    "training_labels = []\n",
    "testing_labels = []\n",
    "\n",
    "\n",
    "file_paths = [f for f in os.listdir(image_folder_path) if os.path.isfile(os.path.join(image_folder_path, f)) and '.png' in f]\n"
   ]
  },
  {
   "cell_type": "code",
   "execution_count": 2,
   "metadata": {},
   "outputs": [],
   "source": [
    "for file_name in file_paths:\n",
    "    spec_index = file_name.rsplit(\"_\", 1)[1].rsplit(\".\", 1)[0]\n",
    "    label = file_name[0]\n",
    "    #spectrogram = Image.open(image_folder_path + '/' + file_name)\n",
    "    #spectrogram = spectrogram.convert('RGB')\n",
    "    #spectrogram = spectrogram.resize((224,224))\n",
    "    spectrogram = cv2.imread(os.path.join(image_folder_path,file_name))\n",
    "    spectrogram = cv2.resize(spectrogram, (224, 224)) \n",
    "    spectrogram = np.array(spectrogram)\n",
    "    if int(spec_index) <= 4:\n",
    "        testing_specs.append(spectrogram)\n",
    "        testing_labels.append(label)\n",
    "    else:\n",
    "        training_data.append([spectrogram,label])\n",
    "\n",
    "#shuffle the training data, then add to the lists\n",
    "import random\n",
    "random.shuffle(training_data)\n",
    "for features,label in training_data:\n",
    "    training_specs.append(features)\n",
    "    training_labels.append(label)\n",
    "\n",
    "training_specs = np.array(training_specs)\n",
    "testing_specs = np.array(testing_specs)\n",
    "training_labels = np.array(training_labels)\n",
    "testing_labels = np.array(testing_labels)\n",
    "\n",
    "\n",
    "training_specs = training_specs.astype('float32') # convert types to float\n",
    "testing_specs = testing_specs.astype('float32')\n",
    "training_specs /= 255 # normalize data to a 0-1 value\n",
    "testing_specs /= 255\n",
    "\n",
    "\n",
    "training_labels = np_utils.to_categorical(training_labels, 10) # convert data to categories\n",
    "testing_labels = np_utils.to_categorical(testing_labels, 10)\n"
   ]
  },
  {
   "cell_type": "code",
   "execution_count": 3,
   "metadata": {},
   "outputs": [
    {
     "name": "stdout",
     "output_type": "stream",
     "text": [
      "Train on 1620 samples, validate on 180 samples\n",
      "Epoch 1/4\n",
      "1620/1620 [==============================] - 685s 423ms/sample - loss: 4.4286 - accuracy: 0.1000 - val_loss: 3.5120 - val_accuracy: 0.0889\n",
      "Epoch 2/4\n",
      "1620/1620 [==============================] - 743s 459ms/sample - loss: 3.5979 - accuracy: 0.1012 - val_loss: 3.5120 - val_accuracy: 0.0889\n",
      "Epoch 3/4\n",
      "1620/1620 [==============================] - 596s 368ms/sample - loss: 3.5979 - accuracy: 0.1012 - val_loss: 3.5120 - val_accuracy: 0.0889\n",
      "Epoch 4/4\n",
      "1620/1620 [==============================] - 582s 359ms/sample - loss: 3.5979 - accuracy: 0.1012 - val_loss: 3.5120 - val_accuracy: 0.0889\n"
     ]
    },
    {
     "data": {
      "text/plain": [
       "<tensorflow.python.keras.callbacks.History at 0x159c6f60860>"
      ]
     },
     "execution_count": 3,
     "metadata": {},
     "output_type": "execute_result"
    }
   ],
   "source": [
    "import tensorflow as tf\n",
    "from tensorflow.keras.datasets import cifar10\n",
    "from tensorflow.keras.preprocessing.image import ImageDataGenerator\n",
    "from tensorflow.keras.models import Sequential\n",
    "from tensorflow.keras.layers import Dense, Dropout, Activation, Flatten\n",
    "from tensorflow.keras.layers import Conv2D, MaxPooling2D\n",
    "\n",
    "model = Sequential()\n",
    "\n",
    "model.add(Conv2D(256, (3, 3), input_shape=training_specs.shape[1:]))\n",
    "model.add(Activation('relu'))\n",
    "model.add(MaxPooling2D(pool_size=(2, 2)))\n",
    "\n",
    "model.add(Conv2D(256, (3, 3)))\n",
    "model.add(Activation('relu'))\n",
    "model.add(MaxPooling2D(pool_size=(2, 2)))\n",
    "\n",
    "model.add(Flatten())  # this converts our 3D feature maps to 1D feature vectors\n",
    "\n",
    "model.add(Dense(64))\n",
    "\n",
    "model.add(Dense(10))\n",
    "model.add(Activation('sigmoid'))\n",
    "\n",
    "model.compile(loss='categorical_crossentropy',\n",
    "              optimizer='adam',\n",
    "              metrics=['accuracy'])\n",
    "\n",
    "model.fit(training_specs, training_labels, batch_size=32, epochs=4, validation_split=0.1)"
   ]
  },
  {
   "cell_type": "code",
   "execution_count": 4,
   "metadata": {},
   "outputs": [
    {
     "name": "stdout",
     "output_type": "stream",
     "text": [
      "3.5893116760253907 0.1\n"
     ]
    }
   ],
   "source": [
    "#Test the results\n",
    "val_loss, val_acc = model.evaluate(testing_specs, testing_labels, verbose=0)\n",
    "\n",
    "print(val_loss, val_acc)"
   ]
  },
  {
   "cell_type": "code",
   "execution_count": null,
   "metadata": {},
   "outputs": [],
   "source": []
  }
 ],
 "metadata": {
  "kernelspec": {
   "display_name": "Python 3",
   "language": "python",
   "name": "python3"
  },
  "language_info": {
   "codemirror_mode": {
    "name": "ipython",
    "version": 3
   },
   "file_extension": ".py",
   "mimetype": "text/x-python",
   "name": "python",
   "nbconvert_exporter": "python",
   "pygments_lexer": "ipython3",
   "version": "3.7.0"
  }
 },
 "nbformat": 4,
 "nbformat_minor": 2
}
