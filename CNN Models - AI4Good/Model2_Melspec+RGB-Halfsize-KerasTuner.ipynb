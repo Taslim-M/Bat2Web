{
 "cells": [
  {
   "cell_type": "code",
   "execution_count": 1,
   "metadata": {
    "scrolled": true
   },
   "outputs": [
    {
     "name": "stderr",
     "output_type": "stream",
     "text": [
      "/home/team4/anaconda3/envs/gpu/lib/python3.7/site-packages/tensorflow/python/framework/dtypes.py:516: FutureWarning: Passing (type, 1) or '1type' as a synonym of type is deprecated; in a future version of numpy, it will be understood as (type, (1,)) / '(1,)type'.\n",
      "  _np_qint8 = np.dtype([(\"qint8\", np.int8, 1)])\n",
      "/home/team4/anaconda3/envs/gpu/lib/python3.7/site-packages/tensorflow/python/framework/dtypes.py:517: FutureWarning: Passing (type, 1) or '1type' as a synonym of type is deprecated; in a future version of numpy, it will be understood as (type, (1,)) / '(1,)type'.\n",
      "  _np_quint8 = np.dtype([(\"quint8\", np.uint8, 1)])\n",
      "/home/team4/anaconda3/envs/gpu/lib/python3.7/site-packages/tensorflow/python/framework/dtypes.py:518: FutureWarning: Passing (type, 1) or '1type' as a synonym of type is deprecated; in a future version of numpy, it will be understood as (type, (1,)) / '(1,)type'.\n",
      "  _np_qint16 = np.dtype([(\"qint16\", np.int16, 1)])\n",
      "/home/team4/anaconda3/envs/gpu/lib/python3.7/site-packages/tensorflow/python/framework/dtypes.py:519: FutureWarning: Passing (type, 1) or '1type' as a synonym of type is deprecated; in a future version of numpy, it will be understood as (type, (1,)) / '(1,)type'.\n",
      "  _np_quint16 = np.dtype([(\"quint16\", np.uint16, 1)])\n",
      "/home/team4/anaconda3/envs/gpu/lib/python3.7/site-packages/tensorflow/python/framework/dtypes.py:520: FutureWarning: Passing (type, 1) or '1type' as a synonym of type is deprecated; in a future version of numpy, it will be understood as (type, (1,)) / '(1,)type'.\n",
      "  _np_qint32 = np.dtype([(\"qint32\", np.int32, 1)])\n",
      "/home/team4/anaconda3/envs/gpu/lib/python3.7/site-packages/tensorflow/python/framework/dtypes.py:525: FutureWarning: Passing (type, 1) or '1type' as a synonym of type is deprecated; in a future version of numpy, it will be understood as (type, (1,)) / '(1,)type'.\n",
      "  np_resource = np.dtype([(\"resource\", np.ubyte, 1)])\n",
      "/home/team4/anaconda3/envs/gpu/lib/python3.7/site-packages/tensorboard/compat/tensorflow_stub/dtypes.py:541: FutureWarning: Passing (type, 1) or '1type' as a synonym of type is deprecated; in a future version of numpy, it will be understood as (type, (1,)) / '(1,)type'.\n",
      "  _np_qint8 = np.dtype([(\"qint8\", np.int8, 1)])\n",
      "/home/team4/anaconda3/envs/gpu/lib/python3.7/site-packages/tensorboard/compat/tensorflow_stub/dtypes.py:542: FutureWarning: Passing (type, 1) or '1type' as a synonym of type is deprecated; in a future version of numpy, it will be understood as (type, (1,)) / '(1,)type'.\n",
      "  _np_quint8 = np.dtype([(\"quint8\", np.uint8, 1)])\n",
      "/home/team4/anaconda3/envs/gpu/lib/python3.7/site-packages/tensorboard/compat/tensorflow_stub/dtypes.py:543: FutureWarning: Passing (type, 1) or '1type' as a synonym of type is deprecated; in a future version of numpy, it will be understood as (type, (1,)) / '(1,)type'.\n",
      "  _np_qint16 = np.dtype([(\"qint16\", np.int16, 1)])\n",
      "/home/team4/anaconda3/envs/gpu/lib/python3.7/site-packages/tensorboard/compat/tensorflow_stub/dtypes.py:544: FutureWarning: Passing (type, 1) or '1type' as a synonym of type is deprecated; in a future version of numpy, it will be understood as (type, (1,)) / '(1,)type'.\n",
      "  _np_quint16 = np.dtype([(\"quint16\", np.uint16, 1)])\n",
      "/home/team4/anaconda3/envs/gpu/lib/python3.7/site-packages/tensorboard/compat/tensorflow_stub/dtypes.py:545: FutureWarning: Passing (type, 1) or '1type' as a synonym of type is deprecated; in a future version of numpy, it will be understood as (type, (1,)) / '(1,)type'.\n",
      "  _np_qint32 = np.dtype([(\"qint32\", np.int32, 1)])\n",
      "/home/team4/anaconda3/envs/gpu/lib/python3.7/site-packages/tensorboard/compat/tensorflow_stub/dtypes.py:550: FutureWarning: Passing (type, 1) or '1type' as a synonym of type is deprecated; in a future version of numpy, it will be understood as (type, (1,)) / '(1,)type'.\n",
      "  np_resource = np.dtype([(\"resource\", np.ubyte, 1)])\n"
     ]
    }
   ],
   "source": [
    "import tensorflow as tf\n",
    "config = tf.ConfigProto()\n",
    "config.gpu_options.allow_growth = True\n",
    "session = tf.Session(config=config)"
   ]
  },
  {
   "cell_type": "code",
   "execution_count": 15,
   "metadata": {},
   "outputs": [],
   "source": [
    "import keras\n",
    "import pandas as pd\n",
    "import tensorflow as tf\n",
    "\n",
    "import numpy as np\n",
    "# from keras.models import Sequential, Model\n",
    "# from keras.layers import Dense, Dropout, Activation, Flatten, Convolution2D, MaxPooling2D, GlobalAveragePooling2D\n",
    "from keras.utils import np_utils\n",
    "\n",
    "from tensorflow.keras.models import Sequential, Model\n",
    "from tensorflow.keras.layers import Dense, Dropout, Activation, Flatten, Convolution2D, MaxPooling2D, GlobalAveragePooling2D, Input,AveragePooling2D, BatchNormalization, LeakyReLU, SpatialDropout2D\n",
    "\n",
    "# from keras.applications import MobileNet\n",
    "# from keras.optimizers import Adam\n",
    "from tensorflow.keras.applications import MobileNetV2, InceptionV3\n",
    "from tensorflow.keras.optimizers import Adam\n",
    "\n",
    "from matplotlib import pyplot as plt\n",
    "import os\n",
    "from sklearn.model_selection import train_test_split\n",
    "\n",
    "import seaborn as sns\n",
    "from sklearn.metrics import recall_score\n",
    "from sklearn.metrics import precision_score\n",
    "from sklearn.model_selection import KFold\n",
    "\n",
    "from collections import defaultdict,Counter\n",
    "from imblearn.over_sampling import SMOTE\n",
    "from PIL import Image\n",
    "\n",
    "from kerastuner import HyperModel"
   ]
  },
  {
   "cell_type": "markdown",
   "metadata": {},
   "source": [
    "<h2>Data Loading and Preparation</h2>"
   ]
  },
  {
   "cell_type": "code",
   "execution_count": 3,
   "metadata": {},
   "outputs": [],
   "source": [
    "def getSpeciesCode(x):\n",
    "    part = x.split('_')\n",
    "    if part[0] == 'ASETRI':\n",
    "        return 0\n",
    "    elif part[0] == 'EPTBOT':\n",
    "        return 1\n",
    "    elif part[0] == 'MYOEMA':\n",
    "        return 2\n",
    "    elif part[0] == 'PIPKUH':\n",
    "        return 3\n",
    "    elif part[0] == 'RHIMUS':\n",
    "        return 4\n",
    "    elif part[0] == 'RHYNAS':\n",
    "        return 5\n",
    "    elif part[0] == 'ROUAEG':\n",
    "        return 6\n",
    "    elif part[0] == 'TAPPER':\n",
    "        return 7\n",
    "    else:\n",
    "        return 'Unknown'\n",
    "    \n",
    "def getSpecies(x):\n",
    "    if x == 0:\n",
    "        return 'A.tridens'\n",
    "    elif x == 1:\n",
    "        return 'E.bottae'\n",
    "    elif x == 2:\n",
    "        return 'M.emarginatus'\n",
    "    elif x == 3:\n",
    "        return 'P.kuhli'\n",
    "    elif x == 4:\n",
    "        return 'R.muscatellum'\n",
    "    elif x == 5:\n",
    "        return 'R.nasutus'\n",
    "    elif x == 6:\n",
    "        return 'R.aegyptius'\n",
    "    elif x == 7:\n",
    "        return 'T.perforatus'\n",
    "    else:\n",
    "        return 'Unknown'\n",
    "    \n",
    "    \n",
    "def generate_actual_predicted(Y_pred, X_test, Y_test): \n",
    "    predicted = list()\n",
    "    for i in range(len(Y_pred)):\n",
    "        predicted.append(np.argmax(Y_pred[i]))\n",
    "        \n",
    "    actual = list()\n",
    "    for i in range(len(Y_test)):\n",
    "        actual.append(np.argmax(Y_test[i]))\n",
    "        \n",
    "    return actual, predicted"
   ]
  },
  {
   "cell_type": "code",
   "execution_count": 4,
   "metadata": {
    "scrolled": true
   },
   "outputs": [
    {
     "data": {
      "text/plain": [
       "RHIMUS    1665\n",
       "TAPPER     403\n",
       "PIPKUH     299\n",
       "RHYNAS     269\n",
       "EPTBOT     124\n",
       "ROUAEG     121\n",
       "MYOEMA     112\n",
       "ASETRI      25\n",
       "Name: Species, dtype: int64"
      ]
     },
     "execution_count": 4,
     "metadata": {},
     "output_type": "execute_result"
    }
   ],
   "source": [
    "image_folder_path = '../data/refspec'\n",
    "file_paths = [f for f in os.listdir(image_folder_path)]\n",
    "species = []\n",
    "for file_name in file_paths:\n",
    "    sp = file_name.split('_')\n",
    "    species.append(sp[0])\n",
    "\n",
    "df = pd.DataFrame(species, columns=['Species'])\n",
    "df['Species'].value_counts()"
   ]
  },
  {
   "cell_type": "code",
   "execution_count": 5,
   "metadata": {
    "scrolled": true
   },
   "outputs": [],
   "source": [
    "X_all = []\n",
    "Y_all = []\n",
    "\n",
    "image_folder_path = '../data/refspec'\n",
    "file_paths = [f for f in os.listdir(image_folder_path)]\n",
    "\n",
    "for file_name in file_paths:\n",
    "    spectrogram = Image.open(image_folder_path + '/' + file_name)\n",
    "    spectrogram = spectrogram.convert('RGB')\n",
    "    spectrogram = spectrogram.resize((170, 112))  \n",
    "    spectrogram = np.array(spectrogram)\n",
    "    #spectrogram = np.expand_dims(spectrogram, axis=2) \n",
    "    X_all.append(spectrogram)\n",
    "    Y_all.append(getSpeciesCode(file_name))\n"
   ]
  },
  {
   "cell_type": "code",
   "execution_count": 6,
   "metadata": {
    "scrolled": false
   },
   "outputs": [
    {
     "name": "stdout",
     "output_type": "stream",
     "text": [
      "(3018, 112, 170, 3)\n",
      "(3018,)\n"
     ]
    }
   ],
   "source": [
    "X_all = np.array(X_all)\n",
    "Y_all = np.array(Y_all)\n",
    "\n",
    "print(X_all.shape)\n",
    "print(Y_all.shape)\n",
    "\n",
    "X_all = X_all.astype('float32')\n",
    "X_all /= 255\n",
    "\n",
    "Y_all = np_utils.to_categorical(Y_all, num_classes=8) \n"
   ]
  },
  {
   "cell_type": "code",
   "execution_count": 7,
   "metadata": {},
   "outputs": [],
   "source": [
    "# train /test= 80/20% split\n",
    "# Data is stratified\n",
    "X_train, X_test, Y_train, Y_test = train_test_split(X_all, Y_all, test_size=0.2, random_state = 245, stratify=Y_all)\n"
   ]
  },
  {
   "cell_type": "markdown",
   "metadata": {},
   "source": [
    "<h2>Keras Tuner</h2>"
   ]
  },
  {
   "cell_type": "code",
   "execution_count": 62,
   "metadata": {},
   "outputs": [],
   "source": [
    "class CNNHyperModel(HyperModel):\n",
    "    def __init__(self, input_shape, num_classes):\n",
    "        self.input_shape = input_shape\n",
    "        self.num_classes = num_classes\n",
    "\n",
    "    def build(self, hp):        \n",
    "        inp = Input(shape=self.input_shape)\n",
    "        lay = Convolution2D(filters=56,kernel_size=(7,7),strides=(2,2),padding='same')(inp)\n",
    "        lay = BatchNormalization()(lay)\n",
    "        lay = Activation('relu')(lay)\n",
    "        lay = MaxPooling2D(pool_size=(2,2),strides=2,padding='same')(lay)\n",
    "        lay = SpatialDropout2D(hp.Float('spdrop1',min_value=0.02, max_value=0.1, step=0.02, default=0.06))(lay)\n",
    "\n",
    "        lay = Convolution2D(filters=72,kernel_size=(5,5),strides=(2,2),padding='same')(lay)\n",
    "        lay = BatchNormalization()(lay)\n",
    "        lay = Activation('relu')(lay)\n",
    "        lay = AveragePooling2D(pool_size=(2,2),strides=2,padding='same')(lay)\n",
    "        lay = SpatialDropout2D(hp.Float('spdrop2',min_value=0.02, max_value=0.1, step=0.02, default=0.06))(lay)\n",
    "        \n",
    "        lay = Convolution2D(filters=56,kernel_size=(3,3),strides=(1,1),padding='same')(lay)\n",
    "        lay = BatchNormalization()(lay)\n",
    "        lay = Activation('relu')(lay)\n",
    "        lay = AveragePooling2D(pool_size=(2,2),strides=2,padding='same')(lay)\n",
    "        lay = SpatialDropout2D(hp.Float('spdrop3',min_value=0.02, max_value=0.1, step=0.02, default=0.06))(lay)\n",
    "        \n",
    "        lay = Convolution2D(filters=72,kernel_size=(3,3),strides=(1,1),padding='same')(lay)\n",
    "        lay = BatchNormalization()(lay)\n",
    "        lay = Activation('relu')(lay)\n",
    "        lay = AveragePooling2D(pool_size=(2,2),strides=2,padding='same')(lay)\n",
    "        lay = SpatialDropout2D(hp.Float('spdrop4',min_value=0.02, max_value=0.1, step=0.02, default=0.06))(lay)\n",
    "\n",
    "        lay = Flatten()(lay)\n",
    "\n",
    "        lay = Dense(80)(lay)\n",
    "        lay = BatchNormalization()(lay)\n",
    "        lay = Activation('relu')(lay)\n",
    "        lay = Dropout(hp.Float('drop1',min_value=0.05, max_value=0.2, step=0.05, default=0.2))(lay)\n",
    "\n",
    "        lay = Dense(64)(lay)\n",
    "        lay = BatchNormalization()(lay)\n",
    "        lay = Activation('relu')(lay)\n",
    "        lay = Dropout(hp.Float('drop2',min_value=0.05, max_value=0.2, step=0.05, default=0.2))(lay)\n",
    "\n",
    "        lay = Dense(64)(lay)\n",
    "        lay = BatchNormalization()(lay)\n",
    "        lay = Activation('relu')(lay)\n",
    "        lay = Dropout(hp.Float('drop3',min_value=0.05, max_value=0.2, step=0.05, default=0.2))(lay)\n",
    "\n",
    "        x_out = Dense(8, name='output', activation='softmax')(lay)\n",
    "        model = Model(inputs=inp, outputs=x_out)\n",
    "        model.compile(\n",
    "            optimizer=Adam(lr=0.003),\n",
    "            loss='categorical_crossentropy',\n",
    "            metrics=['accuracy']\n",
    "        )\n",
    "        return model"
   ]
  },
  {
   "cell_type": "code",
   "execution_count": 64,
   "metadata": {
    "scrolled": false
   },
   "outputs": [],
   "source": [
    "from kerastuner.tuners import RandomSearch\n",
    "\n",
    "hypermodel = CNNHyperModel(input_shape=(112,170,3), num_classes=8)\n",
    "\n",
    "tuner = RandomSearch(\n",
    "    hypermodel,\n",
    "    objective='val_acc',\n",
    "    seed=1,\n",
    "    max_trials=5,\n",
    "    executions_per_trial=2,\n",
    "    directory='random_search',\n",
    "    project_name='bat',\n",
    "    overwrite=True\n",
    ")"
   ]
  },
  {
   "cell_type": "code",
   "execution_count": 65,
   "metadata": {
    "scrolled": true
   },
   "outputs": [
    {
     "name": "stdout",
     "output_type": "stream",
     "text": [
      "Train on 2172 samples, validate on 242 samples\n",
      "Epoch 1/70\n",
      "2172/2172 - 3s - loss: 1.4249 - acc: 0.5239 - val_loss: 1.2796 - val_acc: 0.5868\n",
      "Epoch 2/70\n",
      "2172/2172 - 2s - loss: 1.2905 - acc: 0.5792 - val_loss: 1.1603 - val_acc: 0.6033\n",
      "Epoch 3/70\n",
      "2172/2172 - 2s - loss: 1.2315 - acc: 0.5958 - val_loss: 1.2764 - val_acc: 0.5372\n",
      "Epoch 4/70\n",
      "2172/2172 - 2s - loss: 1.2185 - acc: 0.6041 - val_loss: 1.0750 - val_acc: 0.6612\n",
      "Epoch 5/70\n",
      "2172/2172 - 2s - loss: 1.1688 - acc: 0.6146 - val_loss: 1.0954 - val_acc: 0.6529\n",
      "Epoch 6/70\n",
      "2172/2172 - 2s - loss: 1.0743 - acc: 0.6358 - val_loss: 0.8313 - val_acc: 0.6860\n",
      "Epoch 7/70\n",
      "2172/2172 - 2s - loss: 0.9735 - acc: 0.6671 - val_loss: 0.9036 - val_acc: 0.6983\n",
      "Epoch 8/70\n",
      "2172/2172 - 2s - loss: 0.9191 - acc: 0.6920 - val_loss: 0.8894 - val_acc: 0.6777\n",
      "Epoch 9/70\n",
      "2172/2172 - 2s - loss: 0.9034 - acc: 0.6842 - val_loss: 0.7543 - val_acc: 0.7397\n",
      "Epoch 10/70\n",
      "2172/2172 - 2s - loss: 0.8148 - acc: 0.7187 - val_loss: 0.7021 - val_acc: 0.7810\n",
      "Epoch 11/70\n",
      "2172/2172 - 2s - loss: 0.7491 - acc: 0.7569 - val_loss: 0.5748 - val_acc: 0.7934\n",
      "Epoch 12/70\n",
      "2172/2172 - 2s - loss: 0.7005 - acc: 0.7822 - val_loss: 0.5569 - val_acc: 0.8140\n",
      "Epoch 13/70\n",
      "2172/2172 - 2s - loss: 0.6295 - acc: 0.7956 - val_loss: 0.5363 - val_acc: 0.8140\n",
      "Epoch 14/70\n",
      "2172/2172 - 2s - loss: 0.5985 - acc: 0.8126 - val_loss: 0.4790 - val_acc: 0.8430\n",
      "Epoch 15/70\n",
      "2172/2172 - 2s - loss: 0.5328 - acc: 0.8315 - val_loss: 0.3377 - val_acc: 0.8760\n",
      "Epoch 16/70\n",
      "2172/2172 - 2s - loss: 0.5356 - acc: 0.8347 - val_loss: 0.3686 - val_acc: 0.8554\n",
      "Epoch 17/70\n",
      "2172/2172 - 2s - loss: 0.5040 - acc: 0.8444 - val_loss: 0.3424 - val_acc: 0.8678\n",
      "Epoch 18/70\n",
      "2172/2172 - 2s - loss: 0.4801 - acc: 0.8476 - val_loss: 0.4152 - val_acc: 0.8347\n",
      "Epoch 19/70\n",
      "2172/2172 - 2s - loss: 0.4654 - acc: 0.8531 - val_loss: 0.2515 - val_acc: 0.8926\n",
      "Epoch 20/70\n",
      "2172/2172 - 2s - loss: 0.4384 - acc: 0.8600 - val_loss: 0.2620 - val_acc: 0.8926\n",
      "Epoch 21/70\n",
      "2172/2172 - 2s - loss: 0.3864 - acc: 0.8743 - val_loss: 0.3488 - val_acc: 0.8719\n",
      "Epoch 22/70\n",
      "2172/2172 - 2s - loss: 0.3820 - acc: 0.8780 - val_loss: 0.2598 - val_acc: 0.9132\n",
      "Epoch 23/70\n",
      "2172/2172 - 2s - loss: 0.4075 - acc: 0.8725 - val_loss: 0.3431 - val_acc: 0.8719\n",
      "Epoch 24/70\n",
      "2172/2172 - 2s - loss: 0.3924 - acc: 0.8794 - val_loss: 0.2397 - val_acc: 0.9215\n",
      "Epoch 25/70\n",
      "2172/2172 - 2s - loss: 0.3698 - acc: 0.8849 - val_loss: 0.2836 - val_acc: 0.9050\n",
      "Epoch 26/70\n",
      "2172/2172 - 2s - loss: 0.3512 - acc: 0.8923 - val_loss: 0.2228 - val_acc: 0.9256\n",
      "Epoch 27/70\n",
      "2172/2172 - 2s - loss: 0.3413 - acc: 0.8812 - val_loss: 0.2590 - val_acc: 0.9132\n",
      "Epoch 28/70\n",
      "2172/2172 - 2s - loss: 0.3140 - acc: 0.8936 - val_loss: 0.2089 - val_acc: 0.9339\n",
      "Epoch 29/70\n",
      "2172/2172 - 2s - loss: 0.3260 - acc: 0.8983 - val_loss: 0.2371 - val_acc: 0.9008\n",
      "Epoch 30/70\n",
      "2172/2172 - 2s - loss: 0.3174 - acc: 0.9047 - val_loss: 0.2212 - val_acc: 0.9298\n",
      "Epoch 31/70\n",
      "2172/2172 - 2s - loss: 0.3166 - acc: 0.9033 - val_loss: 0.2779 - val_acc: 0.9008\n",
      "Epoch 32/70\n",
      "2172/2172 - 2s - loss: 0.2684 - acc: 0.9061 - val_loss: 0.2516 - val_acc: 0.9091\n",
      "Epoch 33/70\n",
      "2172/2172 - 2s - loss: 0.2760 - acc: 0.9102 - val_loss: 0.1733 - val_acc: 0.9380\n",
      "Epoch 34/70\n",
      "2172/2172 - 2s - loss: 0.2484 - acc: 0.9190 - val_loss: 0.1816 - val_acc: 0.9380\n",
      "Epoch 35/70\n",
      "2172/2172 - 2s - loss: 0.3250 - acc: 0.9052 - val_loss: 0.2131 - val_acc: 0.9174\n",
      "Epoch 36/70\n",
      "2172/2172 - 2s - loss: 0.2909 - acc: 0.9052 - val_loss: 0.1895 - val_acc: 0.9339\n",
      "Epoch 37/70\n",
      "2172/2172 - 2s - loss: 0.2611 - acc: 0.9199 - val_loss: 0.1641 - val_acc: 0.9504\n",
      "Epoch 38/70\n",
      "2172/2172 - 2s - loss: 0.2352 - acc: 0.9286 - val_loss: 0.1988 - val_acc: 0.9215\n",
      "Epoch 39/70\n",
      "2172/2172 - 2s - loss: 0.2457 - acc: 0.9282 - val_loss: 0.1604 - val_acc: 0.9421\n",
      "Epoch 40/70\n",
      "2172/2172 - 2s - loss: 0.2164 - acc: 0.9342 - val_loss: 0.2292 - val_acc: 0.9215\n",
      "Epoch 41/70\n",
      "2172/2172 - 2s - loss: 0.2242 - acc: 0.9346 - val_loss: 0.1576 - val_acc: 0.9545\n",
      "Epoch 42/70\n",
      "2172/2172 - 2s - loss: 0.2028 - acc: 0.9332 - val_loss: 0.1290 - val_acc: 0.9545\n",
      "Epoch 43/70\n",
      "2172/2172 - 2s - loss: 0.2336 - acc: 0.9245 - val_loss: 0.1906 - val_acc: 0.9380\n",
      "Epoch 44/70\n",
      "2172/2172 - 2s - loss: 0.2091 - acc: 0.9420 - val_loss: 0.1319 - val_acc: 0.9545\n",
      "Epoch 45/70\n",
      "2172/2172 - 2s - loss: 0.1833 - acc: 0.9392 - val_loss: 0.1524 - val_acc: 0.9380\n",
      "Epoch 46/70\n",
      "2172/2172 - 2s - loss: 0.2218 - acc: 0.9355 - val_loss: 0.2074 - val_acc: 0.9339\n",
      "Epoch 47/70\n",
      "2172/2172 - 2s - loss: 0.1901 - acc: 0.9429 - val_loss: 0.1634 - val_acc: 0.9421\n",
      "Epoch 48/70\n",
      "2172/2172 - 2s - loss: 0.1971 - acc: 0.9365 - val_loss: 0.1595 - val_acc: 0.9587\n",
      "Epoch 49/70\n",
      "2172/2172 - 2s - loss: 0.1679 - acc: 0.9471 - val_loss: 0.1331 - val_acc: 0.9587\n",
      "Epoch 50/70\n",
      "2172/2172 - 2s - loss: 0.1909 - acc: 0.9466 - val_loss: 0.1309 - val_acc: 0.9628\n",
      "Epoch 51/70\n",
      "2172/2172 - 2s - loss: 0.1615 - acc: 0.9461 - val_loss: 0.3553 - val_acc: 0.9050\n",
      "Epoch 52/70\n",
      "2172/2172 - 2s - loss: 0.1807 - acc: 0.9443 - val_loss: 0.1526 - val_acc: 0.9545\n",
      "Epoch 53/70\n",
      "2172/2172 - 2s - loss: 0.1703 - acc: 0.9466 - val_loss: 0.1665 - val_acc: 0.9545\n",
      "Epoch 54/70\n",
      "2172/2172 - 2s - loss: 0.1822 - acc: 0.9503 - val_loss: 0.1505 - val_acc: 0.9421\n",
      "Epoch 55/70\n",
      "2172/2172 - 2s - loss: 0.1941 - acc: 0.9397 - val_loss: 0.1629 - val_acc: 0.9504\n",
      "Epoch 56/70\n",
      "2172/2172 - 2s - loss: 0.1595 - acc: 0.9507 - val_loss: 0.1629 - val_acc: 0.9421\n",
      "Epoch 57/70\n",
      "2172/2172 - 2s - loss: 0.1644 - acc: 0.9489 - val_loss: 0.3641 - val_acc: 0.9008\n",
      "Epoch 58/70\n",
      "2172/2172 - 2s - loss: 0.1653 - acc: 0.9457 - val_loss: 0.1659 - val_acc: 0.9463\n",
      "Epoch 59/70\n",
      "2172/2172 - 2s - loss: 0.1456 - acc: 0.9544 - val_loss: 0.1722 - val_acc: 0.9504\n",
      "Epoch 60/70\n",
      "2172/2172 - 2s - loss: 0.1369 - acc: 0.9558 - val_loss: 0.1587 - val_acc: 0.9463\n",
      "Epoch 61/70\n",
      "2172/2172 - 2s - loss: 0.1899 - acc: 0.9572 - val_loss: 0.2239 - val_acc: 0.9339\n",
      "Epoch 62/70\n",
      "2172/2172 - 2s - loss: 0.1418 - acc: 0.9563 - val_loss: 0.1445 - val_acc: 0.9504\n",
      "Epoch 63/70\n",
      "2172/2172 - 2s - loss: 0.1210 - acc: 0.9595 - val_loss: 0.1351 - val_acc: 0.9628\n",
      "Epoch 64/70\n",
      "2172/2172 - 2s - loss: 0.1393 - acc: 0.9544 - val_loss: 0.1637 - val_acc: 0.9421\n",
      "Epoch 65/70\n",
      "2172/2172 - 2s - loss: 0.1028 - acc: 0.9710 - val_loss: 0.2219 - val_acc: 0.9463\n",
      "Epoch 66/70\n",
      "2172/2172 - 2s - loss: 0.1183 - acc: 0.9627 - val_loss: 0.1213 - val_acc: 0.9628\n",
      "Epoch 67/70\n",
      "2172/2172 - 2s - loss: 0.1060 - acc: 0.9678 - val_loss: 0.4585 - val_acc: 0.8760\n",
      "Epoch 68/70\n",
      "2172/2172 - 2s - loss: 0.1515 - acc: 0.9563 - val_loss: 0.1268 - val_acc: 0.9628\n",
      "Epoch 69/70\n",
      "2172/2172 - 2s - loss: 0.0898 - acc: 0.9701 - val_loss: 0.1502 - val_acc: 0.9628\n",
      "Epoch 70/70\n",
      "2172/2172 - 2s - loss: 0.1470 - acc: 0.9535 - val_loss: 0.2100 - val_acc: 0.9421\n",
      "Train on 2172 samples, validate on 242 samples\n",
      "Epoch 1/70\n",
      "2172/2172 - 3s - loss: 1.4636 - acc: 0.5249 - val_loss: 1.4848 - val_acc: 0.5413\n",
      "Epoch 2/70\n",
      "2172/2172 - 2s - loss: 1.3080 - acc: 0.5746 - val_loss: 1.1878 - val_acc: 0.5744\n",
      "Epoch 3/70\n",
      "2172/2172 - 2s - loss: 1.2205 - acc: 0.5912 - val_loss: 1.2123 - val_acc: 0.6074\n",
      "Epoch 4/70\n",
      "2172/2172 - 2s - loss: 1.2078 - acc: 0.6041 - val_loss: 1.1616 - val_acc: 0.6529\n",
      "Epoch 5/70\n",
      "2172/2172 - 2s - loss: 1.1561 - acc: 0.6192 - val_loss: 1.0510 - val_acc: 0.6281\n",
      "Epoch 6/70\n",
      "2172/2172 - 2s - loss: 1.0703 - acc: 0.6317 - val_loss: 1.2420 - val_acc: 0.6281\n",
      "Epoch 7/70\n",
      "2172/2172 - 2s - loss: 0.9891 - acc: 0.6630 - val_loss: 0.7682 - val_acc: 0.7314\n",
      "Epoch 8/70\n",
      "2172/2172 - 2s - loss: 0.8879 - acc: 0.7040 - val_loss: 0.7842 - val_acc: 0.7190\n",
      "Epoch 9/70\n",
      "2172/2172 - 2s - loss: 0.8489 - acc: 0.7178 - val_loss: 0.6222 - val_acc: 0.8058\n",
      "Epoch 10/70\n",
      "2172/2172 - 2s - loss: 0.8042 - acc: 0.7399 - val_loss: 0.5712 - val_acc: 0.8223\n",
      "Epoch 11/70\n",
      "2172/2172 - 2s - loss: 0.7674 - acc: 0.7518 - val_loss: 0.5158 - val_acc: 0.8264\n",
      "Epoch 12/70\n",
      "2172/2172 - 2s - loss: 0.6788 - acc: 0.7712 - val_loss: 0.6148 - val_acc: 0.8058\n",
      "Epoch 13/70\n",
      "2172/2172 - 2s - loss: 0.6824 - acc: 0.7855 - val_loss: 0.5201 - val_acc: 0.8264\n",
      "Epoch 14/70\n",
      "2172/2172 - 2s - loss: 0.5886 - acc: 0.8094 - val_loss: 0.4158 - val_acc: 0.8554\n",
      "Epoch 15/70\n",
      "2172/2172 - 2s - loss: 0.5782 - acc: 0.8250 - val_loss: 0.3344 - val_acc: 0.8843\n",
      "Epoch 16/70\n",
      "2172/2172 - 2s - loss: 0.5255 - acc: 0.8352 - val_loss: 0.4411 - val_acc: 0.8512\n",
      "Epoch 17/70\n",
      "2172/2172 - 2s - loss: 0.4840 - acc: 0.8453 - val_loss: 0.5800 - val_acc: 0.7975\n",
      "Epoch 18/70\n",
      "2172/2172 - 2s - loss: 0.5170 - acc: 0.8384 - val_loss: 0.5807 - val_acc: 0.8140\n"
     ]
    },
    {
     "name": "stdout",
     "output_type": "stream",
     "text": [
      "Epoch 19/70\n",
      "2172/2172 - 2s - loss: 0.4939 - acc: 0.8435 - val_loss: 0.2826 - val_acc: 0.8802\n",
      "Epoch 20/70\n",
      "2172/2172 - 2s - loss: 0.4155 - acc: 0.8715 - val_loss: 0.3408 - val_acc: 0.9008\n",
      "Epoch 21/70\n",
      "2172/2172 - 2s - loss: 0.4315 - acc: 0.8591 - val_loss: 0.3030 - val_acc: 0.9091\n",
      "Epoch 22/70\n",
      "2172/2172 - 2s - loss: 0.3714 - acc: 0.8817 - val_loss: 0.3768 - val_acc: 0.8802\n",
      "Epoch 23/70\n",
      "2172/2172 - 2s - loss: 0.3909 - acc: 0.8711 - val_loss: 0.3008 - val_acc: 0.8719\n",
      "Epoch 24/70\n",
      "2172/2172 - 2s - loss: 0.3392 - acc: 0.8877 - val_loss: 0.2495 - val_acc: 0.9256\n",
      "Epoch 25/70\n",
      "2172/2172 - 2s - loss: 0.3250 - acc: 0.8959 - val_loss: 0.2521 - val_acc: 0.9174\n",
      "Epoch 26/70\n",
      "2172/2172 - 2s - loss: 0.3458 - acc: 0.8877 - val_loss: 0.2389 - val_acc: 0.9132\n",
      "Epoch 27/70\n",
      "2172/2172 - 2s - loss: 0.3151 - acc: 0.8950 - val_loss: 0.3095 - val_acc: 0.8967\n",
      "Epoch 28/70\n",
      "2172/2172 - 2s - loss: 0.3134 - acc: 0.8973 - val_loss: 0.3442 - val_acc: 0.8802\n",
      "Epoch 29/70\n",
      "2172/2172 - 2s - loss: 0.3047 - acc: 0.9029 - val_loss: 0.2113 - val_acc: 0.9339\n",
      "Epoch 30/70\n",
      "2172/2172 - 2s - loss: 0.3328 - acc: 0.9019 - val_loss: 0.2422 - val_acc: 0.9091\n",
      "Epoch 31/70\n",
      "2172/2172 - 2s - loss: 0.2964 - acc: 0.9098 - val_loss: 0.2038 - val_acc: 0.9298\n",
      "Epoch 32/70\n",
      "2172/2172 - 2s - loss: 0.2812 - acc: 0.9144 - val_loss: 0.1775 - val_acc: 0.9545\n",
      "Epoch 33/70\n",
      "2172/2172 - 2s - loss: 0.2550 - acc: 0.9180 - val_loss: 0.2604 - val_acc: 0.9256\n",
      "Epoch 34/70\n",
      "2172/2172 - 2s - loss: 0.2344 - acc: 0.9222 - val_loss: 0.1789 - val_acc: 0.9298\n",
      "Epoch 35/70\n",
      "2172/2172 - 2s - loss: 0.2207 - acc: 0.9250 - val_loss: 0.1410 - val_acc: 0.9380\n",
      "Epoch 36/70\n",
      "2172/2172 - 2s - loss: 0.2439 - acc: 0.9259 - val_loss: 0.2107 - val_acc: 0.9298\n",
      "Epoch 37/70\n",
      "2172/2172 - 2s - loss: 0.2268 - acc: 0.9263 - val_loss: 0.1811 - val_acc: 0.9380\n",
      "Epoch 38/70\n",
      "2172/2172 - 2s - loss: 0.2055 - acc: 0.9263 - val_loss: 0.3709 - val_acc: 0.8719\n",
      "Epoch 39/70\n",
      "2172/2172 - 2s - loss: 0.2485 - acc: 0.9273 - val_loss: 0.1510 - val_acc: 0.9504\n",
      "Epoch 40/70\n",
      "2172/2172 - 2s - loss: 0.2049 - acc: 0.9392 - val_loss: 0.1554 - val_acc: 0.9463\n",
      "Epoch 41/70\n",
      "2172/2172 - 2s - loss: 0.1865 - acc: 0.9374 - val_loss: 0.2156 - val_acc: 0.9215\n",
      "Epoch 42/70\n",
      "2172/2172 - 2s - loss: 0.1621 - acc: 0.9471 - val_loss: 0.1139 - val_acc: 0.9545\n",
      "Epoch 43/70\n",
      "2172/2172 - 2s - loss: 0.2037 - acc: 0.9355 - val_loss: 0.1580 - val_acc: 0.9380\n",
      "Epoch 44/70\n",
      "2172/2172 - 2s - loss: 0.1902 - acc: 0.9397 - val_loss: 0.1491 - val_acc: 0.9545\n",
      "Epoch 45/70\n",
      "2172/2172 - 2s - loss: 0.1931 - acc: 0.9397 - val_loss: 0.1645 - val_acc: 0.9463\n",
      "Epoch 46/70\n",
      "2172/2172 - 2s - loss: 0.1615 - acc: 0.9471 - val_loss: 0.1889 - val_acc: 0.9463\n",
      "Epoch 47/70\n",
      "2172/2172 - 2s - loss: 0.2053 - acc: 0.9438 - val_loss: 0.1334 - val_acc: 0.9545\n",
      "Epoch 48/70\n",
      "2172/2172 - 2s - loss: 0.1573 - acc: 0.9521 - val_loss: 0.1888 - val_acc: 0.9421\n",
      "Epoch 49/70\n",
      "2172/2172 - 2s - loss: 0.1485 - acc: 0.9530 - val_loss: 0.1742 - val_acc: 0.9380\n",
      "Epoch 50/70\n",
      "2172/2172 - 2s - loss: 0.1469 - acc: 0.9535 - val_loss: 0.1793 - val_acc: 0.9545\n",
      "Epoch 51/70\n",
      "2172/2172 - 2s - loss: 0.1391 - acc: 0.9563 - val_loss: 0.1180 - val_acc: 0.9463\n",
      "Epoch 52/70\n",
      "2172/2172 - 2s - loss: 0.1759 - acc: 0.9420 - val_loss: 0.1204 - val_acc: 0.9463\n",
      "Epoch 53/70\n",
      "2172/2172 - 2s - loss: 0.1441 - acc: 0.9572 - val_loss: 0.1527 - val_acc: 0.9504\n",
      "Epoch 54/70\n",
      "2172/2172 - 2s - loss: 0.1605 - acc: 0.9517 - val_loss: 0.1279 - val_acc: 0.9587\n",
      "Epoch 55/70\n",
      "2172/2172 - 2s - loss: 0.1874 - acc: 0.9480 - val_loss: 0.1582 - val_acc: 0.9504\n",
      "Epoch 56/70\n",
      "2172/2172 - 2s - loss: 0.1344 - acc: 0.9567 - val_loss: 0.1398 - val_acc: 0.9587\n",
      "Epoch 57/70\n",
      "2172/2172 - 2s - loss: 0.1826 - acc: 0.9558 - val_loss: 0.1399 - val_acc: 0.9463\n",
      "Epoch 58/70\n",
      "2172/2172 - 2s - loss: 0.1253 - acc: 0.9595 - val_loss: 0.1546 - val_acc: 0.9504\n",
      "Epoch 59/70\n",
      "2172/2172 - 2s - loss: 0.1107 - acc: 0.9664 - val_loss: 0.2794 - val_acc: 0.9132\n",
      "Epoch 60/70\n",
      "2172/2172 - 2s - loss: 0.1644 - acc: 0.9586 - val_loss: 0.1067 - val_acc: 0.9587\n",
      "Epoch 61/70\n",
      "2172/2172 - 2s - loss: 0.1219 - acc: 0.9650 - val_loss: 0.0987 - val_acc: 0.9628\n",
      "Epoch 62/70\n",
      "2172/2172 - 2s - loss: 0.1430 - acc: 0.9618 - val_loss: 0.1256 - val_acc: 0.9587\n",
      "Epoch 63/70\n",
      "2172/2172 - 2s - loss: 0.1745 - acc: 0.9526 - val_loss: 0.1701 - val_acc: 0.9587\n",
      "Epoch 64/70\n",
      "2172/2172 - 2s - loss: 0.1119 - acc: 0.9618 - val_loss: 0.1237 - val_acc: 0.9504\n",
      "Epoch 65/70\n",
      "2172/2172 - 2s - loss: 0.1451 - acc: 0.9604 - val_loss: 0.1646 - val_acc: 0.9545\n",
      "Epoch 66/70\n",
      "2172/2172 - 2s - loss: 0.1286 - acc: 0.9636 - val_loss: 0.1228 - val_acc: 0.9463\n",
      "Epoch 67/70\n",
      "2172/2172 - 2s - loss: 0.1166 - acc: 0.9696 - val_loss: 0.1508 - val_acc: 0.9587\n",
      "Epoch 68/70\n",
      "2172/2172 - 2s - loss: 0.1192 - acc: 0.9659 - val_loss: 0.1403 - val_acc: 0.9587\n",
      "Epoch 69/70\n",
      "2172/2172 - 2s - loss: 0.1030 - acc: 0.9650 - val_loss: 0.1288 - val_acc: 0.9587\n",
      "Epoch 70/70\n",
      "2172/2172 - 2s - loss: 0.1146 - acc: 0.9673 - val_loss: 0.2473 - val_acc: 0.9380\n"
     ]
    },
    {
     "data": {
      "text/html": [
       "<span style=\"color:#4527A0\"><h1 style=\"font-size:18px\">Trial complete</h1></span>"
      ],
      "text/plain": [
       "<IPython.core.display.HTML object>"
      ]
     },
     "metadata": {},
     "output_type": "display_data"
    },
    {
     "data": {
      "text/html": [
       "<span style=\"color:#4527A0\"><h1 style=\"font-size:18px\">Trial summary</h1></span>"
      ],
      "text/plain": [
       "<IPython.core.display.HTML object>"
      ]
     },
     "metadata": {},
     "output_type": "display_data"
    },
    {
     "data": {
      "text/html": [
       "<span style=\"color:cyan\"> |-Trial ID: 711ea148133390653806cd6be177b569</span>"
      ],
      "text/plain": [
       "<IPython.core.display.HTML object>"
      ]
     },
     "metadata": {},
     "output_type": "display_data"
    },
    {
     "data": {
      "text/html": [
       "<span style=\"color:cyan\"> |-Score: 0.9628099203109741</span>"
      ],
      "text/plain": [
       "<IPython.core.display.HTML object>"
      ]
     },
     "metadata": {},
     "output_type": "display_data"
    },
    {
     "data": {
      "text/html": [
       "<span style=\"color:cyan\"> |-Best step: 0</span>"
      ],
      "text/plain": [
       "<IPython.core.display.HTML object>"
      ]
     },
     "metadata": {},
     "output_type": "display_data"
    },
    {
     "data": {
      "text/html": [
       "<span style=\"color:#7E57C2\"><h2 style=\"font-size:16px\">Hyperparameters:</h2></span>"
      ],
      "text/plain": [
       "<IPython.core.display.HTML object>"
      ]
     },
     "metadata": {},
     "output_type": "display_data"
    },
    {
     "data": {
      "text/html": [
       "<span style=\"color:cyan\"> |-drop1: 0.15000000000000002</span>"
      ],
      "text/plain": [
       "<IPython.core.display.HTML object>"
      ]
     },
     "metadata": {},
     "output_type": "display_data"
    },
    {
     "data": {
      "text/html": [
       "<span style=\"color:blue\"> |-drop2: 0.15000000000000002</span>"
      ],
      "text/plain": [
       "<IPython.core.display.HTML object>"
      ]
     },
     "metadata": {},
     "output_type": "display_data"
    },
    {
     "data": {
      "text/html": [
       "<span style=\"color:cyan\"> |-drop3: 0.1</span>"
      ],
      "text/plain": [
       "<IPython.core.display.HTML object>"
      ]
     },
     "metadata": {},
     "output_type": "display_data"
    },
    {
     "data": {
      "text/html": [
       "<span style=\"color:blue\"> |-spdrop1: 0.04</span>"
      ],
      "text/plain": [
       "<IPython.core.display.HTML object>"
      ]
     },
     "metadata": {},
     "output_type": "display_data"
    },
    {
     "data": {
      "text/html": [
       "<span style=\"color:cyan\"> |-spdrop2: 0.1</span>"
      ],
      "text/plain": [
       "<IPython.core.display.HTML object>"
      ]
     },
     "metadata": {},
     "output_type": "display_data"
    },
    {
     "data": {
      "text/html": [
       "<span style=\"color:blue\"> |-spdrop3: 0.04</span>"
      ],
      "text/plain": [
       "<IPython.core.display.HTML object>"
      ]
     },
     "metadata": {},
     "output_type": "display_data"
    },
    {
     "data": {
      "text/html": [
       "<span style=\"color:cyan\"> |-spdrop4: 0.04</span>"
      ],
      "text/plain": [
       "<IPython.core.display.HTML object>"
      ]
     },
     "metadata": {},
     "output_type": "display_data"
    },
    {
     "name": "stdout",
     "output_type": "stream",
     "text": [
      "Train on 2172 samples, validate on 242 samples\n",
      "Epoch 1/70\n",
      "2172/2172 - 3s - loss: 1.4856 - acc: 0.5193 - val_loss: 1.5308 - val_acc: 0.4711\n",
      "Epoch 2/70\n",
      "2172/2172 - 2s - loss: 1.3120 - acc: 0.5737 - val_loss: 1.5272 - val_acc: 0.4545\n",
      "Epoch 3/70\n",
      "2172/2172 - 2s - loss: 1.1867 - acc: 0.6128 - val_loss: 1.2501 - val_acc: 0.5826\n",
      "Epoch 4/70\n",
      "2172/2172 - 2s - loss: 1.0588 - acc: 0.6455 - val_loss: 0.8890 - val_acc: 0.6983\n",
      "Epoch 5/70\n",
      "2172/2172 - 2s - loss: 0.9908 - acc: 0.6593 - val_loss: 0.9250 - val_acc: 0.6488\n",
      "Epoch 6/70\n",
      "2172/2172 - 2s - loss: 0.9077 - acc: 0.6998 - val_loss: 0.7709 - val_acc: 0.7438\n",
      "Epoch 7/70\n",
      "2172/2172 - 2s - loss: 0.8403 - acc: 0.7316 - val_loss: 1.3991 - val_acc: 0.6860\n",
      "Epoch 8/70\n",
      "2172/2172 - 2s - loss: 0.7753 - acc: 0.7440 - val_loss: 0.7215 - val_acc: 0.7521\n",
      "Epoch 9/70\n",
      "2172/2172 - 2s - loss: 0.7034 - acc: 0.7735 - val_loss: 0.5467 - val_acc: 0.8182\n",
      "Epoch 10/70\n",
      "2172/2172 - 2s - loss: 0.6662 - acc: 0.7831 - val_loss: 0.4995 - val_acc: 0.8512\n",
      "Epoch 11/70\n",
      "2172/2172 - 2s - loss: 0.5994 - acc: 0.8057 - val_loss: 0.7379 - val_acc: 0.8099\n",
      "Epoch 12/70\n",
      "2172/2172 - 2s - loss: 0.5916 - acc: 0.8094 - val_loss: 0.4370 - val_acc: 0.8678\n",
      "Epoch 13/70\n",
      "2172/2172 - 2s - loss: 0.5154 - acc: 0.8425 - val_loss: 0.3606 - val_acc: 0.8678\n",
      "Epoch 14/70\n",
      "2172/2172 - 2s - loss: 0.5369 - acc: 0.8338 - val_loss: 0.5290 - val_acc: 0.8099\n",
      "Epoch 15/70\n",
      "2172/2172 - 2s - loss: 0.4965 - acc: 0.8504 - val_loss: 0.3337 - val_acc: 0.8926\n",
      "Epoch 16/70\n",
      "2172/2172 - 2s - loss: 0.4235 - acc: 0.8669 - val_loss: 0.4113 - val_acc: 0.8678\n",
      "Epoch 17/70\n",
      "2172/2172 - 2s - loss: 0.4198 - acc: 0.8683 - val_loss: 0.4413 - val_acc: 0.8388\n",
      "Epoch 18/70\n",
      "2172/2172 - 2s - loss: 0.3831 - acc: 0.8725 - val_loss: 0.2234 - val_acc: 0.9174\n",
      "Epoch 19/70\n",
      "2172/2172 - 2s - loss: 0.3731 - acc: 0.8785 - val_loss: 0.2419 - val_acc: 0.9215\n",
      "Epoch 20/70\n",
      "2172/2172 - 2s - loss: 0.3665 - acc: 0.8738 - val_loss: 0.3442 - val_acc: 0.8967\n",
      "Epoch 21/70\n",
      "2172/2172 - 2s - loss: 0.3334 - acc: 0.8872 - val_loss: 0.2831 - val_acc: 0.8926\n",
      "Epoch 22/70\n",
      "2172/2172 - 2s - loss: 0.3466 - acc: 0.8844 - val_loss: 0.2577 - val_acc: 0.9050\n",
      "Epoch 23/70\n",
      "2172/2172 - 2s - loss: 0.3286 - acc: 0.8978 - val_loss: 0.3180 - val_acc: 0.8967\n",
      "Epoch 24/70\n",
      "2172/2172 - 2s - loss: 0.3067 - acc: 0.9024 - val_loss: 0.2003 - val_acc: 0.9421\n",
      "Epoch 25/70\n",
      "2172/2172 - 2s - loss: 0.2965 - acc: 0.9042 - val_loss: 0.1912 - val_acc: 0.9339\n",
      "Epoch 26/70\n",
      "2172/2172 - 2s - loss: 0.3107 - acc: 0.8992 - val_loss: 0.2217 - val_acc: 0.9298\n",
      "Epoch 27/70\n",
      "2172/2172 - 2s - loss: 0.2503 - acc: 0.9213 - val_loss: 0.2251 - val_acc: 0.9298\n",
      "Epoch 28/70\n",
      "2172/2172 - 2s - loss: 0.2941 - acc: 0.9144 - val_loss: 0.2813 - val_acc: 0.9050\n",
      "Epoch 29/70\n",
      "2172/2172 - 2s - loss: 0.2401 - acc: 0.9273 - val_loss: 0.1729 - val_acc: 0.9298\n",
      "Epoch 30/70\n",
      "2172/2172 - 2s - loss: 0.2649 - acc: 0.9176 - val_loss: 0.1799 - val_acc: 0.9298\n",
      "Epoch 31/70\n",
      "2172/2172 - 2s - loss: 0.2418 - acc: 0.9213 - val_loss: 0.2871 - val_acc: 0.9091\n",
      "Epoch 32/70\n",
      "2172/2172 - 2s - loss: 0.2443 - acc: 0.9185 - val_loss: 0.1642 - val_acc: 0.9463\n",
      "Epoch 33/70\n",
      "2172/2172 - 2s - loss: 0.2037 - acc: 0.9351 - val_loss: 0.3112 - val_acc: 0.8884\n",
      "Epoch 34/70\n",
      "2172/2172 - 2s - loss: 0.2741 - acc: 0.9153 - val_loss: 0.1857 - val_acc: 0.9380\n",
      "Epoch 35/70\n",
      "2172/2172 - 2s - loss: 0.2347 - acc: 0.9305 - val_loss: 0.2611 - val_acc: 0.9215\n",
      "Epoch 36/70\n",
      "2172/2172 - 2s - loss: 0.2104 - acc: 0.9360 - val_loss: 0.1573 - val_acc: 0.9380\n",
      "Epoch 37/70\n",
      "2172/2172 - 2s - loss: 0.2259 - acc: 0.9323 - val_loss: 0.1932 - val_acc: 0.9504\n",
      "Epoch 38/70\n",
      "2172/2172 - 2s - loss: 0.2230 - acc: 0.9263 - val_loss: 0.1934 - val_acc: 0.9504\n",
      "Epoch 39/70\n",
      "2172/2172 - 2s - loss: 0.1820 - acc: 0.9480 - val_loss: 0.1600 - val_acc: 0.9504\n",
      "Epoch 40/70\n",
      "2172/2172 - 2s - loss: 0.1810 - acc: 0.9452 - val_loss: 0.1389 - val_acc: 0.9587\n",
      "Epoch 41/70\n",
      "2172/2172 - 2s - loss: 0.1942 - acc: 0.9448 - val_loss: 0.2571 - val_acc: 0.9050\n",
      "Epoch 42/70\n",
      "2172/2172 - 2s - loss: 0.1907 - acc: 0.9438 - val_loss: 0.1808 - val_acc: 0.9339\n",
      "Epoch 43/70\n",
      "2172/2172 - 2s - loss: 0.1729 - acc: 0.9457 - val_loss: 0.1486 - val_acc: 0.9545\n",
      "Epoch 44/70\n",
      "2172/2172 - 2s - loss: 0.1857 - acc: 0.9471 - val_loss: 0.2256 - val_acc: 0.9215\n",
      "Epoch 45/70\n",
      "2172/2172 - 2s - loss: 0.1535 - acc: 0.9489 - val_loss: 0.1580 - val_acc: 0.9463\n",
      "Epoch 46/70\n",
      "2172/2172 - 2s - loss: 0.2080 - acc: 0.9378 - val_loss: 0.2087 - val_acc: 0.9256\n",
      "Epoch 47/70\n",
      "2172/2172 - 2s - loss: 0.1391 - acc: 0.9563 - val_loss: 0.1390 - val_acc: 0.9380\n",
      "Epoch 48/70\n",
      "2172/2172 - 2s - loss: 0.1373 - acc: 0.9567 - val_loss: 0.2215 - val_acc: 0.9174\n",
      "Epoch 49/70\n",
      "2172/2172 - 2s - loss: 0.1527 - acc: 0.9540 - val_loss: 0.1018 - val_acc: 0.9711\n",
      "Epoch 50/70\n",
      "2172/2172 - 2s - loss: 0.1359 - acc: 0.9576 - val_loss: 0.1689 - val_acc: 0.9504\n",
      "Epoch 51/70\n",
      "2172/2172 - 2s - loss: 0.1500 - acc: 0.9558 - val_loss: 0.1309 - val_acc: 0.9545\n",
      "Epoch 52/70\n",
      "2172/2172 - 2s - loss: 0.1108 - acc: 0.9710 - val_loss: 0.1017 - val_acc: 0.9587\n",
      "Epoch 53/70\n",
      "2172/2172 - 2s - loss: 0.1292 - acc: 0.9622 - val_loss: 0.2024 - val_acc: 0.9339\n",
      "Epoch 54/70\n",
      "2172/2172 - 2s - loss: 0.1203 - acc: 0.9627 - val_loss: 0.1474 - val_acc: 0.9545\n",
      "Epoch 55/70\n",
      "2172/2172 - 2s - loss: 0.1060 - acc: 0.9696 - val_loss: 0.2310 - val_acc: 0.9215\n",
      "Epoch 56/70\n",
      "2172/2172 - 2s - loss: 0.1353 - acc: 0.9590 - val_loss: 0.1932 - val_acc: 0.9504\n",
      "Epoch 57/70\n",
      "2172/2172 - 2s - loss: 0.1444 - acc: 0.9604 - val_loss: 0.1359 - val_acc: 0.9587\n",
      "Epoch 58/70\n",
      "2172/2172 - 2s - loss: 0.1228 - acc: 0.9622 - val_loss: 0.1512 - val_acc: 0.9380\n",
      "Epoch 59/70\n",
      "2172/2172 - 2s - loss: 0.1223 - acc: 0.9627 - val_loss: 0.1821 - val_acc: 0.9380\n",
      "Epoch 60/70\n",
      "2172/2172 - 2s - loss: 0.1153 - acc: 0.9641 - val_loss: 0.1350 - val_acc: 0.9380\n",
      "Epoch 61/70\n",
      "2172/2172 - 2s - loss: 0.1392 - acc: 0.9659 - val_loss: 0.1428 - val_acc: 0.9628\n",
      "Epoch 62/70\n",
      "2172/2172 - 2s - loss: 0.1194 - acc: 0.9669 - val_loss: 0.1697 - val_acc: 0.9463\n",
      "Epoch 63/70\n",
      "2172/2172 - 2s - loss: 0.0796 - acc: 0.9747 - val_loss: 0.1733 - val_acc: 0.9421\n",
      "Epoch 64/70\n",
      "2172/2172 - 2s - loss: 0.1588 - acc: 0.9498 - val_loss: 0.1243 - val_acc: 0.9587\n",
      "Epoch 65/70\n",
      "2172/2172 - 2s - loss: 0.0850 - acc: 0.9747 - val_loss: 0.0974 - val_acc: 0.9628\n",
      "Epoch 66/70\n",
      "2172/2172 - 2s - loss: 0.0428 - acc: 0.9866 - val_loss: 0.1068 - val_acc: 0.9711\n",
      "Epoch 67/70\n",
      "2172/2172 - 2s - loss: 0.1239 - acc: 0.9636 - val_loss: 0.1129 - val_acc: 0.9669\n",
      "Epoch 68/70\n",
      "2172/2172 - 2s - loss: 0.0856 - acc: 0.9761 - val_loss: 0.0967 - val_acc: 0.9752\n",
      "Epoch 69/70\n",
      "2172/2172 - 2s - loss: 0.1074 - acc: 0.9719 - val_loss: 0.1355 - val_acc: 0.9669\n",
      "Epoch 70/70\n",
      "2172/2172 - 2s - loss: 0.0835 - acc: 0.9738 - val_loss: 0.0750 - val_acc: 0.9793\n",
      "Train on 2172 samples, validate on 242 samples\n",
      "Epoch 1/70\n",
      "2172/2172 - 3s - loss: 1.4656 - acc: 0.5180 - val_loss: 1.3530 - val_acc: 0.5826\n",
      "Epoch 2/70\n",
      "2172/2172 - 2s - loss: 1.2975 - acc: 0.5806 - val_loss: 1.3833 - val_acc: 0.6240\n",
      "Epoch 3/70\n",
      "2172/2172 - 2s - loss: 1.2561 - acc: 0.5852 - val_loss: 1.4023 - val_acc: 0.5041\n",
      "Epoch 4/70\n",
      "2172/2172 - 2s - loss: 1.2096 - acc: 0.6031 - val_loss: 1.2963 - val_acc: 0.5868\n",
      "Epoch 5/70\n",
      "2172/2172 - 2s - loss: 1.1156 - acc: 0.6234 - val_loss: 0.9726 - val_acc: 0.6860\n",
      "Epoch 6/70\n",
      "2172/2172 - 2s - loss: 0.9983 - acc: 0.6515 - val_loss: 0.9093 - val_acc: 0.7066\n",
      "Epoch 7/70\n",
      "2172/2172 - 2s - loss: 0.9088 - acc: 0.6865 - val_loss: 0.9448 - val_acc: 0.7025\n",
      "Epoch 8/70\n",
      "2172/2172 - 2s - loss: 0.8428 - acc: 0.7164 - val_loss: 0.6740 - val_acc: 0.7603\n",
      "Epoch 9/70\n",
      "2172/2172 - 2s - loss: 0.8141 - acc: 0.7274 - val_loss: 0.6920 - val_acc: 0.7934\n",
      "Epoch 10/70\n",
      "2172/2172 - 2s - loss: 0.7537 - acc: 0.7472 - val_loss: 0.6437 - val_acc: 0.7727\n",
      "Epoch 11/70\n",
      "2172/2172 - 2s - loss: 0.6867 - acc: 0.7712 - val_loss: 0.4751 - val_acc: 0.8430\n",
      "Epoch 12/70\n",
      "2172/2172 - 2s - loss: 0.6364 - acc: 0.7988 - val_loss: 0.8313 - val_acc: 0.7562\n",
      "Epoch 13/70\n",
      "2172/2172 - 2s - loss: 0.6107 - acc: 0.7983 - val_loss: 0.4785 - val_acc: 0.8554\n",
      "Epoch 14/70\n",
      "2172/2172 - 2s - loss: 0.5856 - acc: 0.8149 - val_loss: 0.3740 - val_acc: 0.8926\n",
      "Epoch 15/70\n",
      "2172/2172 - 2s - loss: 0.5486 - acc: 0.8269 - val_loss: 0.3628 - val_acc: 0.8843\n",
      "Epoch 16/70\n",
      "2172/2172 - 2s - loss: 0.4912 - acc: 0.8439 - val_loss: 0.4160 - val_acc: 0.8512\n",
      "Epoch 17/70\n",
      "2172/2172 - 2s - loss: 0.4828 - acc: 0.8490 - val_loss: 1.0848 - val_acc: 0.7562\n",
      "Epoch 18/70\n",
      "2172/2172 - 2s - loss: 0.4301 - acc: 0.8568 - val_loss: 0.3780 - val_acc: 0.8719\n"
     ]
    },
    {
     "name": "stdout",
     "output_type": "stream",
     "text": [
      "Epoch 19/70\n",
      "2172/2172 - 2s - loss: 0.4043 - acc: 0.8651 - val_loss: 0.3033 - val_acc: 0.8678\n",
      "Epoch 20/70\n",
      "2172/2172 - 2s - loss: 0.3972 - acc: 0.8711 - val_loss: 0.2210 - val_acc: 0.9298\n",
      "Epoch 21/70\n",
      "2172/2172 - 2s - loss: 0.3704 - acc: 0.8748 - val_loss: 0.3854 - val_acc: 0.8802\n",
      "Epoch 22/70\n",
      "2172/2172 - 2s - loss: 0.3558 - acc: 0.8780 - val_loss: 0.3884 - val_acc: 0.8760\n",
      "Epoch 23/70\n",
      "2172/2172 - 2s - loss: 0.3427 - acc: 0.8844 - val_loss: 0.3607 - val_acc: 0.8926\n",
      "Epoch 24/70\n",
      "2172/2172 - 2s - loss: 0.3339 - acc: 0.8936 - val_loss: 0.2650 - val_acc: 0.9091\n",
      "Epoch 25/70\n",
      "2172/2172 - 2s - loss: 0.3588 - acc: 0.8835 - val_loss: 0.2921 - val_acc: 0.8967\n",
      "Epoch 26/70\n",
      "2172/2172 - 2s - loss: 0.2976 - acc: 0.8969 - val_loss: 0.2216 - val_acc: 0.9091\n",
      "Epoch 27/70\n",
      "2172/2172 - 2s - loss: 0.3168 - acc: 0.8904 - val_loss: 0.4111 - val_acc: 0.8884\n",
      "Epoch 28/70\n",
      "2172/2172 - 2s - loss: 0.3150 - acc: 0.8927 - val_loss: 0.1931 - val_acc: 0.9298\n",
      "Epoch 29/70\n",
      "2172/2172 - 2s - loss: 0.2792 - acc: 0.9144 - val_loss: 0.2695 - val_acc: 0.9008\n",
      "Epoch 30/70\n",
      "2172/2172 - 2s - loss: 0.2778 - acc: 0.9157 - val_loss: 0.1779 - val_acc: 0.9380\n",
      "Epoch 31/70\n",
      "2172/2172 - 2s - loss: 0.2698 - acc: 0.9102 - val_loss: 0.2651 - val_acc: 0.9215\n",
      "Epoch 32/70\n",
      "2172/2172 - 2s - loss: 0.2251 - acc: 0.9236 - val_loss: 0.2040 - val_acc: 0.9339\n",
      "Epoch 33/70\n",
      "2172/2172 - 2s - loss: 0.2361 - acc: 0.9199 - val_loss: 0.1684 - val_acc: 0.9463\n",
      "Epoch 34/70\n",
      "2172/2172 - 2s - loss: 0.2442 - acc: 0.9190 - val_loss: 0.1802 - val_acc: 0.9463\n",
      "Epoch 35/70\n",
      "2172/2172 - 2s - loss: 0.2405 - acc: 0.9217 - val_loss: 0.2055 - val_acc: 0.9215\n",
      "Epoch 36/70\n",
      "2172/2172 - 2s - loss: 0.2517 - acc: 0.9203 - val_loss: 0.2226 - val_acc: 0.9174\n",
      "Epoch 37/70\n",
      "2172/2172 - 2s - loss: 0.2025 - acc: 0.9337 - val_loss: 0.2683 - val_acc: 0.9174\n",
      "Epoch 38/70\n",
      "2172/2172 - 2s - loss: 0.2121 - acc: 0.9305 - val_loss: 0.2230 - val_acc: 0.9298\n",
      "Epoch 39/70\n",
      "2172/2172 - 2s - loss: 0.2327 - acc: 0.9259 - val_loss: 0.3049 - val_acc: 0.8967\n",
      "Epoch 40/70\n",
      "2172/2172 - 2s - loss: 0.1877 - acc: 0.9411 - val_loss: 0.1617 - val_acc: 0.9463\n",
      "Epoch 41/70\n",
      "2172/2172 - 2s - loss: 0.1929 - acc: 0.9374 - val_loss: 0.1664 - val_acc: 0.9463\n",
      "Epoch 42/70\n",
      "2172/2172 - 2s - loss: 0.1893 - acc: 0.9438 - val_loss: 0.1714 - val_acc: 0.9504\n",
      "Epoch 43/70\n",
      "2172/2172 - 2s - loss: 0.2165 - acc: 0.9369 - val_loss: 0.1978 - val_acc: 0.9339\n",
      "Epoch 44/70\n",
      "2172/2172 - 2s - loss: 0.1885 - acc: 0.9438 - val_loss: 0.1559 - val_acc: 0.9545\n",
      "Epoch 45/70\n",
      "2172/2172 - 2s - loss: 0.1814 - acc: 0.9461 - val_loss: 0.1680 - val_acc: 0.9380\n",
      "Epoch 46/70\n",
      "2172/2172 - 2s - loss: 0.1689 - acc: 0.9507 - val_loss: 0.1936 - val_acc: 0.9421\n",
      "Epoch 47/70\n",
      "2172/2172 - 2s - loss: 0.1500 - acc: 0.9540 - val_loss: 0.1161 - val_acc: 0.9421\n",
      "Epoch 48/70\n",
      "2172/2172 - 2s - loss: 0.1723 - acc: 0.9448 - val_loss: 0.1678 - val_acc: 0.9421\n",
      "Epoch 49/70\n",
      "2172/2172 - 2s - loss: 0.1546 - acc: 0.9507 - val_loss: 0.1851 - val_acc: 0.9298\n",
      "Epoch 50/70\n",
      "2172/2172 - 2s - loss: 0.1547 - acc: 0.9471 - val_loss: 0.2323 - val_acc: 0.9298\n",
      "Epoch 51/70\n",
      "2172/2172 - 2s - loss: 0.1352 - acc: 0.9567 - val_loss: 0.1444 - val_acc: 0.9628\n",
      "Epoch 52/70\n",
      "2172/2172 - 2s - loss: 0.1610 - acc: 0.9512 - val_loss: 0.0983 - val_acc: 0.9628\n",
      "Epoch 53/70\n",
      "2172/2172 - 2s - loss: 0.1270 - acc: 0.9604 - val_loss: 0.1562 - val_acc: 0.9463\n",
      "Epoch 54/70\n",
      "2172/2172 - 2s - loss: 0.1601 - acc: 0.9512 - val_loss: 0.1903 - val_acc: 0.9421\n",
      "Epoch 55/70\n",
      "2172/2172 - 2s - loss: 0.1292 - acc: 0.9590 - val_loss: 0.0954 - val_acc: 0.9587\n",
      "Epoch 56/70\n",
      "2172/2172 - 2s - loss: 0.1252 - acc: 0.9599 - val_loss: 0.1468 - val_acc: 0.9421\n",
      "Epoch 57/70\n",
      "2172/2172 - 2s - loss: 0.1325 - acc: 0.9599 - val_loss: 0.1343 - val_acc: 0.9504\n",
      "Epoch 58/70\n",
      "2172/2172 - 2s - loss: 0.1246 - acc: 0.9590 - val_loss: 0.1647 - val_acc: 0.9463\n",
      "Epoch 59/70\n",
      "2172/2172 - 2s - loss: 0.1202 - acc: 0.9590 - val_loss: 0.1412 - val_acc: 0.9587\n",
      "Epoch 60/70\n",
      "2172/2172 - 2s - loss: 0.1394 - acc: 0.9599 - val_loss: 0.2360 - val_acc: 0.9421\n",
      "Epoch 61/70\n",
      "2172/2172 - 2s - loss: 0.1106 - acc: 0.9673 - val_loss: 0.1900 - val_acc: 0.9463\n",
      "Epoch 62/70\n",
      "2172/2172 - 2s - loss: 0.1171 - acc: 0.9645 - val_loss: 0.1419 - val_acc: 0.9463\n",
      "Epoch 63/70\n",
      "2172/2172 - 2s - loss: 0.1208 - acc: 0.9655 - val_loss: 0.1735 - val_acc: 0.9545\n",
      "Epoch 64/70\n",
      "2172/2172 - 2s - loss: 0.1095 - acc: 0.9715 - val_loss: 0.1570 - val_acc: 0.9545\n",
      "Epoch 65/70\n",
      "2172/2172 - 2s - loss: 0.1016 - acc: 0.9655 - val_loss: 0.1161 - val_acc: 0.9504\n",
      "Epoch 66/70\n",
      "2172/2172 - 2s - loss: 0.0901 - acc: 0.9756 - val_loss: 0.1983 - val_acc: 0.9421\n",
      "Epoch 67/70\n",
      "2172/2172 - 2s - loss: 0.1491 - acc: 0.9622 - val_loss: 0.1500 - val_acc: 0.9587\n",
      "Epoch 68/70\n",
      "2172/2172 - 2s - loss: 0.0943 - acc: 0.9724 - val_loss: 0.1742 - val_acc: 0.9504\n",
      "Epoch 69/70\n",
      "2172/2172 - 2s - loss: 0.1024 - acc: 0.9719 - val_loss: 0.1723 - val_acc: 0.9545\n",
      "Epoch 70/70\n",
      "2172/2172 - 2s - loss: 0.0888 - acc: 0.9701 - val_loss: 0.0873 - val_acc: 0.9669\n"
     ]
    },
    {
     "data": {
      "text/html": [
       "<span style=\"color:#4527A0\"><h1 style=\"font-size:18px\">Trial complete</h1></span>"
      ],
      "text/plain": [
       "<IPython.core.display.HTML object>"
      ]
     },
     "metadata": {},
     "output_type": "display_data"
    },
    {
     "data": {
      "text/html": [
       "<span style=\"color:#4527A0\"><h1 style=\"font-size:18px\">Trial summary</h1></span>"
      ],
      "text/plain": [
       "<IPython.core.display.HTML object>"
      ]
     },
     "metadata": {},
     "output_type": "display_data"
    },
    {
     "data": {
      "text/html": [
       "<span style=\"color:cyan\"> |-Trial ID: e0bb8265dcb87eef0a3a6b08c6a305ea</span>"
      ],
      "text/plain": [
       "<IPython.core.display.HTML object>"
      ]
     },
     "metadata": {},
     "output_type": "display_data"
    },
    {
     "data": {
      "text/html": [
       "<span style=\"color:cyan\"> |-Score: 0.9731404781341553</span>"
      ],
      "text/plain": [
       "<IPython.core.display.HTML object>"
      ]
     },
     "metadata": {},
     "output_type": "display_data"
    },
    {
     "data": {
      "text/html": [
       "<span style=\"color:cyan\"> |-Best step: 0</span>"
      ],
      "text/plain": [
       "<IPython.core.display.HTML object>"
      ]
     },
     "metadata": {},
     "output_type": "display_data"
    },
    {
     "data": {
      "text/html": [
       "<span style=\"color:#7E57C2\"><h2 style=\"font-size:16px\">Hyperparameters:</h2></span>"
      ],
      "text/plain": [
       "<IPython.core.display.HTML object>"
      ]
     },
     "metadata": {},
     "output_type": "display_data"
    },
    {
     "data": {
      "text/html": [
       "<span style=\"color:cyan\"> |-drop1: 0.1</span>"
      ],
      "text/plain": [
       "<IPython.core.display.HTML object>"
      ]
     },
     "metadata": {},
     "output_type": "display_data"
    },
    {
     "data": {
      "text/html": [
       "<span style=\"color:blue\"> |-drop2: 0.1</span>"
      ],
      "text/plain": [
       "<IPython.core.display.HTML object>"
      ]
     },
     "metadata": {},
     "output_type": "display_data"
    },
    {
     "data": {
      "text/html": [
       "<span style=\"color:cyan\"> |-drop3: 0.05</span>"
      ],
      "text/plain": [
       "<IPython.core.display.HTML object>"
      ]
     },
     "metadata": {},
     "output_type": "display_data"
    },
    {
     "data": {
      "text/html": [
       "<span style=\"color:blue\"> |-spdrop1: 0.04</span>"
      ],
      "text/plain": [
       "<IPython.core.display.HTML object>"
      ]
     },
     "metadata": {},
     "output_type": "display_data"
    },
    {
     "data": {
      "text/html": [
       "<span style=\"color:cyan\"> |-spdrop2: 0.06</span>"
      ],
      "text/plain": [
       "<IPython.core.display.HTML object>"
      ]
     },
     "metadata": {},
     "output_type": "display_data"
    },
    {
     "data": {
      "text/html": [
       "<span style=\"color:blue\"> |-spdrop3: 0.06</span>"
      ],
      "text/plain": [
       "<IPython.core.display.HTML object>"
      ]
     },
     "metadata": {},
     "output_type": "display_data"
    },
    {
     "data": {
      "text/html": [
       "<span style=\"color:cyan\"> |-spdrop4: 0.06</span>"
      ],
      "text/plain": [
       "<IPython.core.display.HTML object>"
      ]
     },
     "metadata": {},
     "output_type": "display_data"
    },
    {
     "name": "stdout",
     "output_type": "stream",
     "text": [
      "Train on 2172 samples, validate on 242 samples\n",
      "Epoch 1/70\n",
      "2172/2172 - 3s - loss: 1.4764 - acc: 0.5221 - val_loss: 1.4563 - val_acc: 0.5909\n",
      "Epoch 2/70\n",
      "2172/2172 - 2s - loss: 1.3350 - acc: 0.5631 - val_loss: 1.2742 - val_acc: 0.5868\n",
      "Epoch 3/70\n",
      "2172/2172 - 2s - loss: 1.2486 - acc: 0.5824 - val_loss: 1.2003 - val_acc: 0.5785\n",
      "Epoch 4/70\n",
      "2172/2172 - 2s - loss: 1.2247 - acc: 0.5981 - val_loss: 1.0786 - val_acc: 0.6529\n",
      "Epoch 5/70\n",
      "2172/2172 - 2s - loss: 1.1846 - acc: 0.6146 - val_loss: 1.1000 - val_acc: 0.6529\n",
      "Epoch 6/70\n",
      "2172/2172 - 2s - loss: 1.1324 - acc: 0.6248 - val_loss: 0.9976 - val_acc: 0.6612\n",
      "Epoch 7/70\n",
      "2172/2172 - 2s - loss: 1.0908 - acc: 0.6377 - val_loss: 1.0501 - val_acc: 0.6818\n",
      "Epoch 8/70\n",
      "2172/2172 - 2s - loss: 1.0287 - acc: 0.6515 - val_loss: 0.8831 - val_acc: 0.6860\n",
      "Epoch 9/70\n",
      "2172/2172 - 2s - loss: 0.9445 - acc: 0.6731 - val_loss: 0.7977 - val_acc: 0.7231\n",
      "Epoch 10/70\n",
      "2172/2172 - 2s - loss: 0.9109 - acc: 0.6934 - val_loss: 0.8347 - val_acc: 0.7149\n",
      "Epoch 11/70\n",
      "2172/2172 - 2s - loss: 0.8256 - acc: 0.7261 - val_loss: 1.1068 - val_acc: 0.6818\n",
      "Epoch 12/70\n",
      "2172/2172 - 2s - loss: 0.7987 - acc: 0.7454 - val_loss: 0.6769 - val_acc: 0.7810\n",
      "Epoch 13/70\n",
      "2172/2172 - 2s - loss: 0.7290 - acc: 0.7698 - val_loss: 0.5990 - val_acc: 0.7893\n",
      "Epoch 14/70\n",
      "2172/2172 - 2s - loss: 0.7107 - acc: 0.7762 - val_loss: 0.4799 - val_acc: 0.8595\n",
      "Epoch 15/70\n",
      "2172/2172 - 2s - loss: 0.6164 - acc: 0.8006 - val_loss: 0.5456 - val_acc: 0.8306\n",
      "Epoch 16/70\n",
      "2172/2172 - 2s - loss: 0.5958 - acc: 0.8052 - val_loss: 0.4332 - val_acc: 0.8554\n",
      "Epoch 17/70\n",
      "2172/2172 - 2s - loss: 0.5629 - acc: 0.8177 - val_loss: 0.3825 - val_acc: 0.8760\n",
      "Epoch 18/70\n",
      "2172/2172 - 2s - loss: 0.5035 - acc: 0.8416 - val_loss: 0.3432 - val_acc: 0.8843\n",
      "Epoch 19/70\n",
      "2172/2172 - 2s - loss: 0.4883 - acc: 0.8448 - val_loss: 0.5547 - val_acc: 0.8306\n",
      "Epoch 20/70\n",
      "2172/2172 - 2s - loss: 0.4797 - acc: 0.8504 - val_loss: 0.4716 - val_acc: 0.8512\n",
      "Epoch 21/70\n",
      "2172/2172 - 2s - loss: 0.4711 - acc: 0.8504 - val_loss: 0.2533 - val_acc: 0.9215\n",
      "Epoch 22/70\n",
      "2172/2172 - 2s - loss: 0.4120 - acc: 0.8646 - val_loss: 0.2687 - val_acc: 0.9256\n",
      "Epoch 23/70\n",
      "2172/2172 - 2s - loss: 0.3839 - acc: 0.8711 - val_loss: 0.2550 - val_acc: 0.9298\n",
      "Epoch 24/70\n",
      "2172/2172 - 2s - loss: 0.3599 - acc: 0.8812 - val_loss: 0.2772 - val_acc: 0.9256\n",
      "Epoch 25/70\n",
      "2172/2172 - 2s - loss: 0.3486 - acc: 0.8785 - val_loss: 0.2688 - val_acc: 0.9091\n",
      "Epoch 26/70\n",
      "2172/2172 - 2s - loss: 0.3281 - acc: 0.8900 - val_loss: 0.2777 - val_acc: 0.8926\n",
      "Epoch 27/70\n",
      "2172/2172 - 2s - loss: 0.3387 - acc: 0.8877 - val_loss: 0.2200 - val_acc: 0.9421\n",
      "Epoch 28/70\n",
      "2172/2172 - 2s - loss: 0.3446 - acc: 0.8918 - val_loss: 0.2199 - val_acc: 0.9256\n",
      "Epoch 29/70\n",
      "2172/2172 - 2s - loss: 0.3462 - acc: 0.8941 - val_loss: 0.2444 - val_acc: 0.9174\n",
      "Epoch 30/70\n",
      "2172/2172 - 2s - loss: 0.3442 - acc: 0.8959 - val_loss: 0.2120 - val_acc: 0.9380\n",
      "Epoch 31/70\n",
      "2172/2172 - 2s - loss: 0.2425 - acc: 0.9213 - val_loss: 0.2273 - val_acc: 0.9215\n",
      "Epoch 32/70\n",
      "2172/2172 - 2s - loss: 0.3240 - acc: 0.9056 - val_loss: 0.3343 - val_acc: 0.9008\n",
      "Epoch 33/70\n",
      "2172/2172 - 2s - loss: 0.3180 - acc: 0.8978 - val_loss: 0.2347 - val_acc: 0.9215\n",
      "Epoch 34/70\n",
      "2172/2172 - 2s - loss: 0.2760 - acc: 0.9157 - val_loss: 0.2175 - val_acc: 0.9298\n",
      "Epoch 35/70\n",
      "2172/2172 - 2s - loss: 0.2387 - acc: 0.9203 - val_loss: 0.2200 - val_acc: 0.9339\n",
      "Epoch 36/70\n",
      "2172/2172 - 2s - loss: 0.2551 - acc: 0.9236 - val_loss: 0.1578 - val_acc: 0.9545\n",
      "Epoch 37/70\n",
      "2172/2172 - 2s - loss: 0.2860 - acc: 0.9162 - val_loss: 0.1973 - val_acc: 0.9380\n",
      "Epoch 38/70\n",
      "2172/2172 - 2s - loss: 0.2213 - acc: 0.9227 - val_loss: 0.1666 - val_acc: 0.9463\n",
      "Epoch 39/70\n",
      "2172/2172 - 2s - loss: 0.2253 - acc: 0.9369 - val_loss: 0.2081 - val_acc: 0.9215\n",
      "Epoch 40/70\n",
      "2172/2172 - 2s - loss: 0.2463 - acc: 0.9176 - val_loss: 0.1607 - val_acc: 0.9628\n",
      "Epoch 41/70\n",
      "2172/2172 - 2s - loss: 0.2068 - acc: 0.9328 - val_loss: 0.2390 - val_acc: 0.9174\n",
      "Epoch 42/70\n",
      "2172/2172 - 2s - loss: 0.2189 - acc: 0.9342 - val_loss: 0.1875 - val_acc: 0.9463\n",
      "Epoch 43/70\n",
      "2172/2172 - 2s - loss: 0.2137 - acc: 0.9388 - val_loss: 0.1584 - val_acc: 0.9421\n",
      "Epoch 44/70\n",
      "2172/2172 - 2s - loss: 0.2487 - acc: 0.9323 - val_loss: 0.2016 - val_acc: 0.9339\n",
      "Epoch 45/70\n",
      "2172/2172 - 2s - loss: 0.2257 - acc: 0.9291 - val_loss: 0.1788 - val_acc: 0.9421\n",
      "Epoch 46/70\n",
      "2172/2172 - 2s - loss: 0.2017 - acc: 0.9434 - val_loss: 0.1425 - val_acc: 0.9545\n",
      "Epoch 47/70\n",
      "2172/2172 - 2s - loss: 0.1549 - acc: 0.9512 - val_loss: 0.8103 - val_acc: 0.7438\n",
      "Epoch 48/70\n",
      "2172/2172 - 2s - loss: 0.2172 - acc: 0.9351 - val_loss: 0.1699 - val_acc: 0.9545\n",
      "Epoch 49/70\n",
      "2172/2172 - 2s - loss: 0.2227 - acc: 0.9360 - val_loss: 0.1680 - val_acc: 0.9545\n",
      "Epoch 50/70\n",
      "2172/2172 - 2s - loss: 0.1875 - acc: 0.9397 - val_loss: 0.1261 - val_acc: 0.9587\n",
      "Epoch 51/70\n",
      "2172/2172 - 2s - loss: 0.1420 - acc: 0.9553 - val_loss: 0.1706 - val_acc: 0.9421\n",
      "Epoch 52/70\n",
      "2172/2172 - 2s - loss: 0.1824 - acc: 0.9457 - val_loss: 0.1950 - val_acc: 0.9380\n",
      "Epoch 53/70\n",
      "2172/2172 - 2s - loss: 0.1751 - acc: 0.9498 - val_loss: 0.2867 - val_acc: 0.9132\n",
      "Epoch 54/70\n",
      "2172/2172 - 2s - loss: 0.2121 - acc: 0.9309 - val_loss: 0.1379 - val_acc: 0.9628\n",
      "Epoch 55/70\n",
      "2172/2172 - 2s - loss: 0.1302 - acc: 0.9576 - val_loss: 0.1874 - val_acc: 0.9463\n",
      "Epoch 56/70\n",
      "2172/2172 - 2s - loss: 0.1567 - acc: 0.9521 - val_loss: 0.1607 - val_acc: 0.9463\n",
      "Epoch 57/70\n",
      "2172/2172 - 2s - loss: 0.1445 - acc: 0.9586 - val_loss: 0.1718 - val_acc: 0.9463\n",
      "Epoch 58/70\n",
      "2172/2172 - 2s - loss: 0.1300 - acc: 0.9599 - val_loss: 0.1475 - val_acc: 0.9463\n",
      "Epoch 59/70\n",
      "2172/2172 - 2s - loss: 0.1556 - acc: 0.9512 - val_loss: 0.1864 - val_acc: 0.9380\n",
      "Epoch 60/70\n",
      "2172/2172 - 2s - loss: 0.1532 - acc: 0.9609 - val_loss: 0.1488 - val_acc: 0.9545\n",
      "Epoch 61/70\n",
      "2172/2172 - 2s - loss: 0.1301 - acc: 0.9618 - val_loss: 0.2175 - val_acc: 0.9421\n",
      "Epoch 62/70\n",
      "2172/2172 - 2s - loss: 0.1395 - acc: 0.9586 - val_loss: 0.1260 - val_acc: 0.9545\n",
      "Epoch 63/70\n",
      "2172/2172 - 2s - loss: 0.1652 - acc: 0.9507 - val_loss: 0.1349 - val_acc: 0.9628\n",
      "Epoch 64/70\n",
      "2172/2172 - 2s - loss: 0.1057 - acc: 0.9645 - val_loss: 0.1475 - val_acc: 0.9504\n",
      "Epoch 65/70\n",
      "2172/2172 - 2s - loss: 0.1695 - acc: 0.9553 - val_loss: 0.1607 - val_acc: 0.9545\n",
      "Epoch 66/70\n",
      "2172/2172 - 2s - loss: 0.1493 - acc: 0.9494 - val_loss: 0.1376 - val_acc: 0.9463\n",
      "Epoch 67/70\n",
      "2172/2172 - 2s - loss: 0.0917 - acc: 0.9728 - val_loss: 0.1091 - val_acc: 0.9504\n",
      "Epoch 68/70\n",
      "2172/2172 - 2s - loss: 0.1087 - acc: 0.9659 - val_loss: 0.2677 - val_acc: 0.9050\n",
      "Epoch 69/70\n",
      "2172/2172 - 2s - loss: 0.1021 - acc: 0.9650 - val_loss: 0.2124 - val_acc: 0.9504\n",
      "Epoch 70/70\n",
      "2172/2172 - 2s - loss: 0.1090 - acc: 0.9664 - val_loss: 0.1669 - val_acc: 0.9545\n",
      "Train on 2172 samples, validate on 242 samples\n",
      "Epoch 1/70\n",
      "2172/2172 - 3s - loss: 1.5068 - acc: 0.5110 - val_loss: 1.5361 - val_acc: 0.6074\n",
      "Epoch 2/70\n",
      "2172/2172 - 2s - loss: 1.3199 - acc: 0.5681 - val_loss: 1.2066 - val_acc: 0.6240\n",
      "Epoch 3/70\n",
      "2172/2172 - 2s - loss: 1.2415 - acc: 0.5962 - val_loss: 1.2374 - val_acc: 0.6240\n",
      "Epoch 4/70\n",
      "2172/2172 - 2s - loss: 1.1189 - acc: 0.6197 - val_loss: 0.9355 - val_acc: 0.6777\n",
      "Epoch 5/70\n",
      "2172/2172 - 2s - loss: 1.0249 - acc: 0.6547 - val_loss: 0.9814 - val_acc: 0.6736\n",
      "Epoch 6/70\n",
      "2172/2172 - 2s - loss: 0.9583 - acc: 0.6805 - val_loss: 0.9330 - val_acc: 0.6364\n",
      "Epoch 7/70\n",
      "2172/2172 - 2s - loss: 0.8986 - acc: 0.6819 - val_loss: 0.7124 - val_acc: 0.7521\n",
      "Epoch 8/70\n",
      "2172/2172 - 2s - loss: 0.8946 - acc: 0.6980 - val_loss: 0.7417 - val_acc: 0.7190\n",
      "Epoch 9/70\n",
      "2172/2172 - 2s - loss: 0.8293 - acc: 0.7145 - val_loss: 0.6526 - val_acc: 0.7521\n",
      "Epoch 10/70\n",
      "2172/2172 - 2s - loss: 0.7897 - acc: 0.7362 - val_loss: 0.5864 - val_acc: 0.7975\n",
      "Epoch 11/70\n",
      "2172/2172 - 2s - loss: 0.7570 - acc: 0.7537 - val_loss: 0.5581 - val_acc: 0.8017\n",
      "Epoch 12/70\n",
      "2172/2172 - 2s - loss: 0.7067 - acc: 0.7689 - val_loss: 0.4760 - val_acc: 0.8099\n",
      "Epoch 13/70\n",
      "2172/2172 - 2s - loss: 0.6365 - acc: 0.7956 - val_loss: 0.4930 - val_acc: 0.8140\n",
      "Epoch 14/70\n",
      "2172/2172 - 2s - loss: 0.5980 - acc: 0.8062 - val_loss: 0.4861 - val_acc: 0.7975\n",
      "Epoch 15/70\n",
      "2172/2172 - 2s - loss: 0.5597 - acc: 0.8149 - val_loss: 0.5020 - val_acc: 0.8223\n",
      "Epoch 16/70\n",
      "2172/2172 - 2s - loss: 0.5393 - acc: 0.8283 - val_loss: 0.3500 - val_acc: 0.8554\n",
      "Epoch 17/70\n",
      "2172/2172 - 2s - loss: 0.4697 - acc: 0.8485 - val_loss: 0.3494 - val_acc: 0.8843\n",
      "Epoch 18/70\n",
      "2172/2172 - 2s - loss: 0.4727 - acc: 0.8513 - val_loss: 0.3768 - val_acc: 0.8512\n"
     ]
    },
    {
     "name": "stdout",
     "output_type": "stream",
     "text": [
      "Epoch 19/70\n",
      "2172/2172 - 2s - loss: 0.4464 - acc: 0.8577 - val_loss: 0.3060 - val_acc: 0.8884\n",
      "Epoch 20/70\n",
      "2172/2172 - 2s - loss: 0.4322 - acc: 0.8554 - val_loss: 0.2690 - val_acc: 0.9132\n",
      "Epoch 21/70\n",
      "2172/2172 - 2s - loss: 0.4233 - acc: 0.8605 - val_loss: 0.3907 - val_acc: 0.8719\n",
      "Epoch 22/70\n",
      "2172/2172 - 2s - loss: 0.3949 - acc: 0.8697 - val_loss: 0.2639 - val_acc: 0.8843\n",
      "Epoch 23/70\n",
      "2172/2172 - 2s - loss: 0.3781 - acc: 0.8798 - val_loss: 0.2687 - val_acc: 0.8926\n",
      "Epoch 24/70\n",
      "2172/2172 - 2s - loss: 0.3512 - acc: 0.8831 - val_loss: 0.3061 - val_acc: 0.8802\n",
      "Epoch 25/70\n",
      "2172/2172 - 2s - loss: 0.3919 - acc: 0.8743 - val_loss: 0.3385 - val_acc: 0.8843\n",
      "Epoch 26/70\n",
      "2172/2172 - 2s - loss: 0.3803 - acc: 0.8789 - val_loss: 0.2279 - val_acc: 0.9050\n",
      "Epoch 27/70\n",
      "2172/2172 - 2s - loss: 0.3275 - acc: 0.8831 - val_loss: 0.1861 - val_acc: 0.9339\n",
      "Epoch 28/70\n",
      "2172/2172 - 2s - loss: 0.3242 - acc: 0.8913 - val_loss: 0.1974 - val_acc: 0.9380\n",
      "Epoch 29/70\n",
      "2172/2172 - 2s - loss: 0.3225 - acc: 0.8936 - val_loss: 0.2029 - val_acc: 0.9298\n",
      "Epoch 30/70\n",
      "2172/2172 - 2s - loss: 0.3289 - acc: 0.8900 - val_loss: 0.3435 - val_acc: 0.8802\n",
      "Epoch 31/70\n",
      "2172/2172 - 2s - loss: 0.3445 - acc: 0.8936 - val_loss: 0.2590 - val_acc: 0.9174\n",
      "Epoch 32/70\n",
      "2172/2172 - 2s - loss: 0.3027 - acc: 0.9010 - val_loss: 0.2161 - val_acc: 0.9256\n",
      "Epoch 33/70\n",
      "2172/2172 - 2s - loss: 0.2827 - acc: 0.9176 - val_loss: 0.1813 - val_acc: 0.9380\n",
      "Epoch 34/70\n",
      "2172/2172 - 2s - loss: 0.2641 - acc: 0.9153 - val_loss: 0.2039 - val_acc: 0.9380\n",
      "Epoch 35/70\n",
      "2172/2172 - 2s - loss: 0.2449 - acc: 0.9227 - val_loss: 0.4009 - val_acc: 0.8554\n",
      "Epoch 36/70\n",
      "2172/2172 - 2s - loss: 0.2812 - acc: 0.9111 - val_loss: 0.1597 - val_acc: 0.9463\n",
      "Epoch 37/70\n",
      "2172/2172 - 2s - loss: 0.2361 - acc: 0.9134 - val_loss: 0.2877 - val_acc: 0.9050\n",
      "Epoch 38/70\n",
      "2172/2172 - 2s - loss: 0.2527 - acc: 0.9167 - val_loss: 0.3037 - val_acc: 0.8967\n",
      "Epoch 39/70\n",
      "2172/2172 - 2s - loss: 0.3146 - acc: 0.8992 - val_loss: 0.1977 - val_acc: 0.9339\n",
      "Epoch 40/70\n",
      "2172/2172 - 2s - loss: 0.2414 - acc: 0.9203 - val_loss: 0.2146 - val_acc: 0.9215\n",
      "Epoch 41/70\n",
      "2172/2172 - 2s - loss: 0.2254 - acc: 0.9309 - val_loss: 0.1772 - val_acc: 0.9421\n",
      "Epoch 42/70\n",
      "2172/2172 - 2s - loss: 0.2117 - acc: 0.9309 - val_loss: 0.2097 - val_acc: 0.9215\n",
      "Epoch 43/70\n",
      "2172/2172 - 2s - loss: 0.2740 - acc: 0.9167 - val_loss: 0.1583 - val_acc: 0.9339\n",
      "Epoch 44/70\n",
      "2172/2172 - 2s - loss: 0.2339 - acc: 0.9250 - val_loss: 0.2343 - val_acc: 0.9256\n",
      "Epoch 45/70\n",
      "2172/2172 - 2s - loss: 0.1884 - acc: 0.9411 - val_loss: 0.1436 - val_acc: 0.9587\n",
      "Epoch 46/70\n",
      "2172/2172 - 2s - loss: 0.2353 - acc: 0.9314 - val_loss: 0.4156 - val_acc: 0.8802\n",
      "Epoch 47/70\n",
      "2172/2172 - 2s - loss: 0.1974 - acc: 0.9277 - val_loss: 0.1583 - val_acc: 0.9463\n",
      "Epoch 48/70\n",
      "2172/2172 - 2s - loss: 0.1635 - acc: 0.9475 - val_loss: 0.1461 - val_acc: 0.9463\n",
      "Epoch 49/70\n",
      "2172/2172 - 2s - loss: 0.1728 - acc: 0.9443 - val_loss: 0.1011 - val_acc: 0.9587\n",
      "Epoch 50/70\n",
      "2172/2172 - 2s - loss: 0.1600 - acc: 0.9484 - val_loss: 0.1260 - val_acc: 0.9463\n",
      "Epoch 51/70\n",
      "2172/2172 - 2s - loss: 0.2043 - acc: 0.9406 - val_loss: 0.2248 - val_acc: 0.9298\n",
      "Epoch 52/70\n",
      "2172/2172 - 2s - loss: 0.1887 - acc: 0.9397 - val_loss: 0.1388 - val_acc: 0.9421\n",
      "Epoch 53/70\n",
      "2172/2172 - 2s - loss: 0.1880 - acc: 0.9383 - val_loss: 0.1557 - val_acc: 0.9298\n",
      "Epoch 54/70\n",
      "2172/2172 - 2s - loss: 0.1781 - acc: 0.9438 - val_loss: 0.2325 - val_acc: 0.9256\n",
      "Epoch 55/70\n",
      "2172/2172 - 2s - loss: 0.1642 - acc: 0.9572 - val_loss: 0.1106 - val_acc: 0.9628\n",
      "Epoch 56/70\n",
      "2172/2172 - 2s - loss: 0.1615 - acc: 0.9503 - val_loss: 0.1410 - val_acc: 0.9587\n",
      "Epoch 57/70\n",
      "2172/2172 - 2s - loss: 0.2171 - acc: 0.9392 - val_loss: 0.1389 - val_acc: 0.9545\n",
      "Epoch 58/70\n",
      "2172/2172 - 2s - loss: 0.1617 - acc: 0.9503 - val_loss: 0.1020 - val_acc: 0.9587\n",
      "Epoch 59/70\n",
      "2172/2172 - 2s - loss: 0.1367 - acc: 0.9544 - val_loss: 0.1062 - val_acc: 0.9587\n",
      "Epoch 60/70\n",
      "2172/2172 - 2s - loss: 0.1245 - acc: 0.9576 - val_loss: 0.1476 - val_acc: 0.9669\n",
      "Epoch 61/70\n",
      "2172/2172 - 2s - loss: 0.1316 - acc: 0.9609 - val_loss: 0.1376 - val_acc: 0.9504\n",
      "Epoch 62/70\n",
      "2172/2172 - 2s - loss: 0.1899 - acc: 0.9438 - val_loss: 0.2632 - val_acc: 0.9174\n",
      "Epoch 63/70\n",
      "2172/2172 - 2s - loss: 0.1485 - acc: 0.9544 - val_loss: 0.1461 - val_acc: 0.9504\n",
      "Epoch 64/70\n",
      "2172/2172 - 2s - loss: 0.1206 - acc: 0.9627 - val_loss: 0.1662 - val_acc: 0.9463\n",
      "Epoch 65/70\n",
      "2172/2172 - 3s - loss: 0.1576 - acc: 0.9540 - val_loss: 0.2445 - val_acc: 0.9463\n",
      "Epoch 66/70\n",
      "2172/2172 - 2s - loss: 0.1444 - acc: 0.9613 - val_loss: 0.1076 - val_acc: 0.9711\n",
      "Epoch 67/70\n",
      "2172/2172 - 2s - loss: 0.1461 - acc: 0.9581 - val_loss: 0.1174 - val_acc: 0.9669\n",
      "Epoch 68/70\n",
      "2172/2172 - 2s - loss: 0.1666 - acc: 0.9530 - val_loss: 0.1907 - val_acc: 0.9504\n",
      "Epoch 69/70\n",
      "2172/2172 - 2s - loss: 0.1276 - acc: 0.9641 - val_loss: 0.1218 - val_acc: 0.9587\n",
      "Epoch 70/70\n",
      "2172/2172 - 2s - loss: 0.1381 - acc: 0.9604 - val_loss: 0.1648 - val_acc: 0.9545\n"
     ]
    },
    {
     "data": {
      "text/html": [
       "<span style=\"color:#4527A0\"><h1 style=\"font-size:18px\">Trial complete</h1></span>"
      ],
      "text/plain": [
       "<IPython.core.display.HTML object>"
      ]
     },
     "metadata": {},
     "output_type": "display_data"
    },
    {
     "data": {
      "text/html": [
       "<span style=\"color:#4527A0\"><h1 style=\"font-size:18px\">Trial summary</h1></span>"
      ],
      "text/plain": [
       "<IPython.core.display.HTML object>"
      ]
     },
     "metadata": {},
     "output_type": "display_data"
    },
    {
     "data": {
      "text/html": [
       "<span style=\"color:cyan\"> |-Trial ID: 5414abe7397961e48b0c6d1a466026b1</span>"
      ],
      "text/plain": [
       "<IPython.core.display.HTML object>"
      ]
     },
     "metadata": {},
     "output_type": "display_data"
    },
    {
     "data": {
      "text/html": [
       "<span style=\"color:cyan\"> |-Score: 0.9669421911239624</span>"
      ],
      "text/plain": [
       "<IPython.core.display.HTML object>"
      ]
     },
     "metadata": {},
     "output_type": "display_data"
    },
    {
     "data": {
      "text/html": [
       "<span style=\"color:cyan\"> |-Best step: 0</span>"
      ],
      "text/plain": [
       "<IPython.core.display.HTML object>"
      ]
     },
     "metadata": {},
     "output_type": "display_data"
    },
    {
     "data": {
      "text/html": [
       "<span style=\"color:#7E57C2\"><h2 style=\"font-size:16px\">Hyperparameters:</h2></span>"
      ],
      "text/plain": [
       "<IPython.core.display.HTML object>"
      ]
     },
     "metadata": {},
     "output_type": "display_data"
    },
    {
     "data": {
      "text/html": [
       "<span style=\"color:cyan\"> |-drop1: 0.15000000000000002</span>"
      ],
      "text/plain": [
       "<IPython.core.display.HTML object>"
      ]
     },
     "metadata": {},
     "output_type": "display_data"
    },
    {
     "data": {
      "text/html": [
       "<span style=\"color:blue\"> |-drop2: 0.2</span>"
      ],
      "text/plain": [
       "<IPython.core.display.HTML object>"
      ]
     },
     "metadata": {},
     "output_type": "display_data"
    },
    {
     "data": {
      "text/html": [
       "<span style=\"color:cyan\"> |-drop3: 0.05</span>"
      ],
      "text/plain": [
       "<IPython.core.display.HTML object>"
      ]
     },
     "metadata": {},
     "output_type": "display_data"
    },
    {
     "data": {
      "text/html": [
       "<span style=\"color:blue\"> |-spdrop1: 0.1</span>"
      ],
      "text/plain": [
       "<IPython.core.display.HTML object>"
      ]
     },
     "metadata": {},
     "output_type": "display_data"
    },
    {
     "data": {
      "text/html": [
       "<span style=\"color:cyan\"> |-spdrop2: 0.04</span>"
      ],
      "text/plain": [
       "<IPython.core.display.HTML object>"
      ]
     },
     "metadata": {},
     "output_type": "display_data"
    },
    {
     "data": {
      "text/html": [
       "<span style=\"color:blue\"> |-spdrop3: 0.06</span>"
      ],
      "text/plain": [
       "<IPython.core.display.HTML object>"
      ]
     },
     "metadata": {},
     "output_type": "display_data"
    },
    {
     "data": {
      "text/html": [
       "<span style=\"color:cyan\"> |-spdrop4: 0.04</span>"
      ],
      "text/plain": [
       "<IPython.core.display.HTML object>"
      ]
     },
     "metadata": {},
     "output_type": "display_data"
    },
    {
     "name": "stdout",
     "output_type": "stream",
     "text": [
      "Train on 2172 samples, validate on 242 samples\n",
      "Epoch 1/70\n",
      "2172/2172 - 3s - loss: 1.4409 - acc: 0.5249 - val_loss: 1.2426 - val_acc: 0.6198\n",
      "Epoch 2/70\n",
      "2172/2172 - 2s - loss: 1.2830 - acc: 0.5847 - val_loss: 1.2962 - val_acc: 0.5909\n",
      "Epoch 3/70\n",
      "2172/2172 - 2s - loss: 1.2339 - acc: 0.5953 - val_loss: 1.2302 - val_acc: 0.6198\n",
      "Epoch 4/70\n",
      "2172/2172 - 2s - loss: 1.1646 - acc: 0.6151 - val_loss: 1.0485 - val_acc: 0.6736\n",
      "Epoch 5/70\n",
      "2172/2172 - 2s - loss: 1.0747 - acc: 0.6326 - val_loss: 0.9193 - val_acc: 0.6529\n",
      "Epoch 6/70\n",
      "2172/2172 - 2s - loss: 1.0069 - acc: 0.6533 - val_loss: 0.8712 - val_acc: 0.7149\n",
      "Epoch 7/70\n",
      "2172/2172 - 2s - loss: 0.9558 - acc: 0.6699 - val_loss: 0.8587 - val_acc: 0.6777\n",
      "Epoch 8/70\n",
      "2172/2172 - 2s - loss: 0.8537 - acc: 0.7053 - val_loss: 0.6672 - val_acc: 0.7521\n",
      "Epoch 9/70\n",
      "2172/2172 - 2s - loss: 0.8077 - acc: 0.7339 - val_loss: 0.6392 - val_acc: 0.7769\n",
      "Epoch 10/70\n",
      "2172/2172 - 2s - loss: 0.7426 - acc: 0.7509 - val_loss: 0.4751 - val_acc: 0.8388\n",
      "Epoch 11/70\n",
      "2172/2172 - 2s - loss: 0.6885 - acc: 0.7758 - val_loss: 0.4560 - val_acc: 0.8678\n",
      "Epoch 12/70\n",
      "2172/2172 - 2s - loss: 0.6349 - acc: 0.7905 - val_loss: 0.4152 - val_acc: 0.8636\n",
      "Epoch 13/70\n",
      "2172/2172 - 2s - loss: 0.5710 - acc: 0.8177 - val_loss: 0.4090 - val_acc: 0.8595\n",
      "Epoch 14/70\n",
      "2172/2172 - 2s - loss: 0.5734 - acc: 0.8237 - val_loss: 0.3714 - val_acc: 0.8595\n",
      "Epoch 15/70\n",
      "2172/2172 - 2s - loss: 0.5086 - acc: 0.8356 - val_loss: 0.3451 - val_acc: 0.8595\n",
      "Epoch 16/70\n",
      "2172/2172 - 2s - loss: 0.5284 - acc: 0.8329 - val_loss: 0.8198 - val_acc: 0.8099\n",
      "Epoch 17/70\n",
      "2172/2172 - 2s - loss: 0.4729 - acc: 0.8481 - val_loss: 0.2872 - val_acc: 0.9215\n",
      "Epoch 18/70\n",
      "2172/2172 - 2s - loss: 0.4501 - acc: 0.8522 - val_loss: 0.3114 - val_acc: 0.8967\n",
      "Epoch 19/70\n",
      "2172/2172 - 2s - loss: 0.4569 - acc: 0.8504 - val_loss: 0.2965 - val_acc: 0.8760\n",
      "Epoch 20/70\n",
      "2172/2172 - 2s - loss: 0.4459 - acc: 0.8559 - val_loss: 0.2787 - val_acc: 0.8967\n",
      "Epoch 21/70\n",
      "2172/2172 - 2s - loss: 0.4033 - acc: 0.8697 - val_loss: 0.3344 - val_acc: 0.8884\n",
      "Epoch 22/70\n",
      "2172/2172 - 3s - loss: 0.4193 - acc: 0.8669 - val_loss: 0.2973 - val_acc: 0.9008\n",
      "Epoch 23/70\n",
      "2172/2172 - 2s - loss: 0.3836 - acc: 0.8738 - val_loss: 0.2684 - val_acc: 0.9132\n",
      "Epoch 24/70\n",
      "2172/2172 - 2s - loss: 0.4062 - acc: 0.8646 - val_loss: 0.2696 - val_acc: 0.8967\n",
      "Epoch 25/70\n",
      "2172/2172 - 2s - loss: 0.3713 - acc: 0.8697 - val_loss: 0.2505 - val_acc: 0.8967\n",
      "Epoch 26/70\n",
      "2172/2172 - 2s - loss: 0.3332 - acc: 0.8941 - val_loss: 0.2451 - val_acc: 0.9174\n",
      "Epoch 27/70\n",
      "2172/2172 - 2s - loss: 0.3092 - acc: 0.8983 - val_loss: 0.2706 - val_acc: 0.9050\n",
      "Epoch 28/70\n",
      "2172/2172 - 2s - loss: 0.3609 - acc: 0.8831 - val_loss: 0.2301 - val_acc: 0.9132\n",
      "Epoch 29/70\n",
      "2172/2172 - 2s - loss: 0.3252 - acc: 0.8927 - val_loss: 0.2528 - val_acc: 0.9174\n",
      "Epoch 30/70\n",
      "2172/2172 - 2s - loss: 0.3270 - acc: 0.8978 - val_loss: 0.2253 - val_acc: 0.9256\n",
      "Epoch 31/70\n",
      "2172/2172 - 2s - loss: 0.2907 - acc: 0.9065 - val_loss: 0.1718 - val_acc: 0.9545\n",
      "Epoch 32/70\n",
      "2172/2172 - 2s - loss: 0.3088 - acc: 0.9024 - val_loss: 0.2276 - val_acc: 0.9256\n",
      "Epoch 33/70\n",
      "2172/2172 - 2s - loss: 0.3271 - acc: 0.8936 - val_loss: 0.1728 - val_acc: 0.9421\n",
      "Epoch 34/70\n",
      "2172/2172 - 2s - loss: 0.2749 - acc: 0.9056 - val_loss: 0.2184 - val_acc: 0.9215\n",
      "Epoch 35/70\n",
      "2172/2172 - 2s - loss: 0.2770 - acc: 0.9065 - val_loss: 0.1939 - val_acc: 0.9298\n",
      "Epoch 36/70\n",
      "2172/2172 - 2s - loss: 0.2764 - acc: 0.9176 - val_loss: 0.2169 - val_acc: 0.9298\n",
      "Epoch 37/70\n",
      "2172/2172 - 2s - loss: 0.2360 - acc: 0.9180 - val_loss: 0.1940 - val_acc: 0.9339\n",
      "Epoch 38/70\n",
      "2172/2172 - 2s - loss: 0.2776 - acc: 0.9084 - val_loss: 0.2043 - val_acc: 0.9298\n",
      "Epoch 39/70\n",
      "2172/2172 - 2s - loss: 0.2697 - acc: 0.9134 - val_loss: 0.2607 - val_acc: 0.8967\n",
      "Epoch 40/70\n",
      "2172/2172 - 2s - loss: 0.2508 - acc: 0.9153 - val_loss: 0.1964 - val_acc: 0.9298\n",
      "Epoch 41/70\n",
      "2172/2172 - 3s - loss: 0.2382 - acc: 0.9208 - val_loss: 0.1441 - val_acc: 0.9504\n",
      "Epoch 42/70\n",
      "2172/2172 - 2s - loss: 0.2309 - acc: 0.9194 - val_loss: 0.1435 - val_acc: 0.9463\n",
      "Epoch 43/70\n",
      "2172/2172 - 2s - loss: 0.2503 - acc: 0.9231 - val_loss: 0.1494 - val_acc: 0.9504\n",
      "Epoch 44/70\n",
      "2172/2172 - 2s - loss: 0.2161 - acc: 0.9282 - val_loss: 0.1885 - val_acc: 0.9215\n",
      "Epoch 45/70\n",
      "2172/2172 - 2s - loss: 0.2312 - acc: 0.9199 - val_loss: 0.1291 - val_acc: 0.9463\n",
      "Epoch 46/70\n",
      "2172/2172 - 2s - loss: 0.2279 - acc: 0.9319 - val_loss: 0.1343 - val_acc: 0.9504\n",
      "Epoch 47/70\n",
      "2172/2172 - 2s - loss: 0.2391 - acc: 0.9277 - val_loss: 0.1327 - val_acc: 0.9504\n",
      "Epoch 48/70\n",
      "2172/2172 - 2s - loss: 0.2256 - acc: 0.9227 - val_loss: 0.1439 - val_acc: 0.9504\n",
      "Epoch 49/70\n",
      "2172/2172 - 2s - loss: 0.2069 - acc: 0.9282 - val_loss: 0.1333 - val_acc: 0.9628\n",
      "Epoch 50/70\n",
      "2172/2172 - 2s - loss: 0.2161 - acc: 0.9351 - val_loss: 0.1832 - val_acc: 0.9463\n",
      "Epoch 51/70\n",
      "2172/2172 - 2s - loss: 0.2034 - acc: 0.9365 - val_loss: 0.1580 - val_acc: 0.9421\n",
      "Epoch 52/70\n",
      "2172/2172 - 2s - loss: 0.2352 - acc: 0.9300 - val_loss: 0.1551 - val_acc: 0.9587\n",
      "Epoch 53/70\n",
      "2172/2172 - 2s - loss: 0.1909 - acc: 0.9365 - val_loss: 0.1719 - val_acc: 0.9421\n",
      "Epoch 54/70\n",
      "2172/2172 - 2s - loss: 0.1655 - acc: 0.9424 - val_loss: 0.1433 - val_acc: 0.9463\n",
      "Epoch 55/70\n",
      "2172/2172 - 2s - loss: 0.1976 - acc: 0.9346 - val_loss: 0.1299 - val_acc: 0.9628\n",
      "Epoch 56/70\n",
      "2172/2172 - 2s - loss: 0.1999 - acc: 0.9374 - val_loss: 0.1786 - val_acc: 0.9545\n",
      "Epoch 57/70\n",
      "2172/2172 - 2s - loss: 0.2592 - acc: 0.9199 - val_loss: 0.1427 - val_acc: 0.9545\n",
      "Epoch 58/70\n",
      "2172/2172 - 2s - loss: 0.1827 - acc: 0.9429 - val_loss: 0.1380 - val_acc: 0.9545\n",
      "Epoch 59/70\n",
      "2172/2172 - 2s - loss: 0.1915 - acc: 0.9378 - val_loss: 0.1228 - val_acc: 0.9628\n",
      "Epoch 60/70\n",
      "2172/2172 - 2s - loss: 0.1775 - acc: 0.9466 - val_loss: 0.1704 - val_acc: 0.9463\n",
      "Epoch 61/70\n",
      "2172/2172 - 2s - loss: 0.1713 - acc: 0.9438 - val_loss: 0.1364 - val_acc: 0.9587\n",
      "Epoch 62/70\n",
      "2172/2172 - 2s - loss: 0.1860 - acc: 0.9466 - val_loss: 0.1962 - val_acc: 0.9421\n",
      "Epoch 63/70\n",
      "2172/2172 - 2s - loss: 0.1653 - acc: 0.9466 - val_loss: 0.1355 - val_acc: 0.9587\n",
      "Epoch 64/70\n",
      "2172/2172 - 2s - loss: 0.1769 - acc: 0.9526 - val_loss: 0.1556 - val_acc: 0.9545\n",
      "Epoch 65/70\n",
      "2172/2172 - 2s - loss: 0.1488 - acc: 0.9480 - val_loss: 0.1582 - val_acc: 0.9298\n",
      "Epoch 66/70\n",
      "2172/2172 - 2s - loss: 0.1764 - acc: 0.9452 - val_loss: 0.1450 - val_acc: 0.9421\n",
      "Epoch 67/70\n",
      "2172/2172 - 2s - loss: 0.1440 - acc: 0.9540 - val_loss: 0.1685 - val_acc: 0.9421\n",
      "Epoch 68/70\n",
      "2172/2172 - 3s - loss: 0.1852 - acc: 0.9429 - val_loss: 0.1116 - val_acc: 0.9587\n",
      "Epoch 69/70\n",
      "2172/2172 - 2s - loss: 0.1496 - acc: 0.9544 - val_loss: 0.1093 - val_acc: 0.9711\n",
      "Epoch 70/70\n",
      "2172/2172 - 2s - loss: 0.1821 - acc: 0.9429 - val_loss: 0.1787 - val_acc: 0.9587\n",
      "Train on 2172 samples, validate on 242 samples\n",
      "Epoch 1/70\n",
      "2172/2172 - 3s - loss: 1.4609 - acc: 0.5262 - val_loss: 1.5000 - val_acc: 0.4917\n",
      "Epoch 2/70\n",
      "2172/2172 - 2s - loss: 1.3084 - acc: 0.5691 - val_loss: 1.2045 - val_acc: 0.6322\n",
      "Epoch 3/70\n",
      "2172/2172 - 2s - loss: 1.2534 - acc: 0.5912 - val_loss: 1.0840 - val_acc: 0.6405\n",
      "Epoch 4/70\n",
      "2172/2172 - 2s - loss: 1.1731 - acc: 0.6087 - val_loss: 1.0532 - val_acc: 0.6860\n",
      "Epoch 5/70\n",
      "2172/2172 - 2s - loss: 1.1002 - acc: 0.6289 - val_loss: 1.0539 - val_acc: 0.6653\n",
      "Epoch 6/70\n",
      "2172/2172 - 2s - loss: 1.0139 - acc: 0.6611 - val_loss: 1.0916 - val_acc: 0.5868\n",
      "Epoch 7/70\n",
      "2172/2172 - 2s - loss: 0.9553 - acc: 0.6685 - val_loss: 0.9205 - val_acc: 0.6942\n",
      "Epoch 8/70\n",
      "2172/2172 - 2s - loss: 0.9052 - acc: 0.6929 - val_loss: 0.7525 - val_acc: 0.7314\n",
      "Epoch 9/70\n",
      "2172/2172 - 2s - loss: 0.8530 - acc: 0.7049 - val_loss: 0.7639 - val_acc: 0.7231\n",
      "Epoch 10/70\n",
      "2172/2172 - 2s - loss: 0.7943 - acc: 0.7330 - val_loss: 0.6187 - val_acc: 0.7645\n",
      "Epoch 11/70\n",
      "2172/2172 - 2s - loss: 0.7430 - acc: 0.7472 - val_loss: 0.6056 - val_acc: 0.7851\n",
      "Epoch 12/70\n",
      "2172/2172 - 2s - loss: 0.7533 - acc: 0.7638 - val_loss: 0.6176 - val_acc: 0.8264\n",
      "Epoch 13/70\n",
      "2172/2172 - 2s - loss: 0.6769 - acc: 0.7776 - val_loss: 0.5032 - val_acc: 0.8471\n",
      "Epoch 14/70\n",
      "2172/2172 - 2s - loss: 0.6246 - acc: 0.8016 - val_loss: 0.4955 - val_acc: 0.8595\n",
      "Epoch 15/70\n",
      "2172/2172 - 2s - loss: 0.6143 - acc: 0.8094 - val_loss: 0.3805 - val_acc: 0.8802\n",
      "Epoch 16/70\n",
      "2172/2172 - 2s - loss: 0.5659 - acc: 0.8269 - val_loss: 0.5411 - val_acc: 0.8140\n",
      "Epoch 17/70\n",
      "2172/2172 - 2s - loss: 0.5326 - acc: 0.8264 - val_loss: 0.3402 - val_acc: 0.8554\n",
      "Epoch 18/70\n",
      "2172/2172 - 2s - loss: 0.4924 - acc: 0.8439 - val_loss: 0.5844 - val_acc: 0.8058\n"
     ]
    },
    {
     "name": "stdout",
     "output_type": "stream",
     "text": [
      "Epoch 19/70\n",
      "2172/2172 - 2s - loss: 0.4739 - acc: 0.8462 - val_loss: 0.3199 - val_acc: 0.8760\n",
      "Epoch 20/70\n",
      "2172/2172 - 2s - loss: 0.4659 - acc: 0.8517 - val_loss: 0.2923 - val_acc: 0.8802\n",
      "Epoch 21/70\n",
      "2172/2172 - 2s - loss: 0.4382 - acc: 0.8610 - val_loss: 0.3470 - val_acc: 0.8884\n",
      "Epoch 22/70\n",
      "2172/2172 - 2s - loss: 0.4157 - acc: 0.8633 - val_loss: 0.3267 - val_acc: 0.8554\n",
      "Epoch 23/70\n",
      "2172/2172 - 2s - loss: 0.4043 - acc: 0.8674 - val_loss: 0.2893 - val_acc: 0.9050\n",
      "Epoch 24/70\n",
      "2172/2172 - 2s - loss: 0.4088 - acc: 0.8702 - val_loss: 0.3295 - val_acc: 0.8884\n",
      "Epoch 25/70\n",
      "2172/2172 - 2s - loss: 0.3831 - acc: 0.8711 - val_loss: 0.3506 - val_acc: 0.8760\n",
      "Epoch 26/70\n",
      "2172/2172 - 2s - loss: 0.3795 - acc: 0.8766 - val_loss: 0.4037 - val_acc: 0.8719\n",
      "Epoch 27/70\n",
      "2172/2172 - 2s - loss: 0.3580 - acc: 0.8872 - val_loss: 0.2702 - val_acc: 0.9050\n",
      "Epoch 28/70\n",
      "2172/2172 - 2s - loss: 0.3119 - acc: 0.8959 - val_loss: 0.2579 - val_acc: 0.9091\n",
      "Epoch 29/70\n",
      "2172/2172 - 2s - loss: 0.3462 - acc: 0.8881 - val_loss: 0.2106 - val_acc: 0.9421\n",
      "Epoch 30/70\n",
      "2172/2172 - 2s - loss: 0.3125 - acc: 0.8936 - val_loss: 0.2009 - val_acc: 0.9463\n",
      "Epoch 31/70\n",
      "2172/2172 - 2s - loss: 0.3197 - acc: 0.8959 - val_loss: 0.2496 - val_acc: 0.9215\n",
      "Epoch 32/70\n",
      "2172/2172 - 2s - loss: 0.2780 - acc: 0.9088 - val_loss: 0.2013 - val_acc: 0.9504\n",
      "Epoch 33/70\n",
      "2172/2172 - 2s - loss: 0.3230 - acc: 0.8950 - val_loss: 0.2662 - val_acc: 0.9050\n",
      "Epoch 34/70\n",
      "2172/2172 - 2s - loss: 0.3300 - acc: 0.8927 - val_loss: 0.2457 - val_acc: 0.9174\n",
      "Epoch 35/70\n",
      "2172/2172 - 2s - loss: 0.3112 - acc: 0.8987 - val_loss: 0.2290 - val_acc: 0.9256\n",
      "Epoch 36/70\n",
      "2172/2172 - 2s - loss: 0.2440 - acc: 0.9130 - val_loss: 0.1783 - val_acc: 0.9421\n",
      "Epoch 37/70\n",
      "2172/2172 - 2s - loss: 0.2718 - acc: 0.9171 - val_loss: 0.2231 - val_acc: 0.9421\n",
      "Epoch 38/70\n",
      "2172/2172 - 2s - loss: 0.2736 - acc: 0.9176 - val_loss: 0.2137 - val_acc: 0.9380\n",
      "Epoch 39/70\n",
      "2172/2172 - 2s - loss: 0.2480 - acc: 0.9217 - val_loss: 0.1572 - val_acc: 0.9545\n",
      "Epoch 40/70\n",
      "2172/2172 - 2s - loss: 0.2044 - acc: 0.9296 - val_loss: 0.1569 - val_acc: 0.9504\n",
      "Epoch 41/70\n",
      "2172/2172 - 2s - loss: 0.1841 - acc: 0.9438 - val_loss: 0.1718 - val_acc: 0.9463\n",
      "Epoch 42/70\n",
      "2172/2172 - 2s - loss: 0.2150 - acc: 0.9300 - val_loss: 0.2106 - val_acc: 0.9256\n",
      "Epoch 43/70\n",
      "2172/2172 - 2s - loss: 0.2456 - acc: 0.9203 - val_loss: 0.1547 - val_acc: 0.9587\n",
      "Epoch 44/70\n",
      "2172/2172 - 2s - loss: 0.2027 - acc: 0.9337 - val_loss: 0.2089 - val_acc: 0.9421\n",
      "Epoch 45/70\n",
      "2172/2172 - 2s - loss: 0.1828 - acc: 0.9365 - val_loss: 0.1829 - val_acc: 0.9339\n",
      "Epoch 46/70\n",
      "2172/2172 - 2s - loss: 0.1929 - acc: 0.9401 - val_loss: 0.1512 - val_acc: 0.9421\n",
      "Epoch 47/70\n",
      "2172/2172 - 2s - loss: 0.1589 - acc: 0.9457 - val_loss: 0.1689 - val_acc: 0.9628\n",
      "Epoch 48/70\n",
      "2172/2172 - 2s - loss: 0.1977 - acc: 0.9323 - val_loss: 0.1356 - val_acc: 0.9587\n",
      "Epoch 49/70\n",
      "2172/2172 - 2s - loss: 0.1909 - acc: 0.9383 - val_loss: 0.2408 - val_acc: 0.9174\n",
      "Epoch 50/70\n",
      "2172/2172 - 2s - loss: 0.1984 - acc: 0.9374 - val_loss: 0.1448 - val_acc: 0.9504\n",
      "Epoch 51/70\n",
      "2172/2172 - 2s - loss: 0.1804 - acc: 0.9429 - val_loss: 0.2597 - val_acc: 0.9008\n",
      "Epoch 52/70\n",
      "2172/2172 - 2s - loss: 0.1877 - acc: 0.9411 - val_loss: 0.1091 - val_acc: 0.9587\n",
      "Epoch 53/70\n",
      "2172/2172 - 2s - loss: 0.1333 - acc: 0.9558 - val_loss: 0.1182 - val_acc: 0.9628\n",
      "Epoch 54/70\n",
      "2172/2172 - 2s - loss: 0.2395 - acc: 0.9332 - val_loss: 0.3503 - val_acc: 0.9050\n",
      "Epoch 55/70\n",
      "2172/2172 - 2s - loss: 0.1643 - acc: 0.9452 - val_loss: 0.1166 - val_acc: 0.9587\n",
      "Epoch 56/70\n",
      "2172/2172 - 2s - loss: 0.1621 - acc: 0.9498 - val_loss: 0.2197 - val_acc: 0.9339\n",
      "Epoch 57/70\n",
      "2172/2172 - 2s - loss: 0.1943 - acc: 0.9457 - val_loss: 0.1674 - val_acc: 0.9587\n",
      "Epoch 58/70\n",
      "2172/2172 - 2s - loss: 0.1146 - acc: 0.9609 - val_loss: 0.2043 - val_acc: 0.9504\n",
      "Epoch 59/70\n",
      "2172/2172 - 2s - loss: 0.1605 - acc: 0.9512 - val_loss: 0.1595 - val_acc: 0.9504\n",
      "Epoch 60/70\n",
      "2172/2172 - 2s - loss: 0.1737 - acc: 0.9434 - val_loss: 0.1384 - val_acc: 0.9545\n",
      "Epoch 61/70\n",
      "2172/2172 - 2s - loss: 0.1524 - acc: 0.9553 - val_loss: 0.1852 - val_acc: 0.9463\n",
      "Epoch 62/70\n",
      "2172/2172 - 2s - loss: 0.1358 - acc: 0.9581 - val_loss: 0.1303 - val_acc: 0.9545\n",
      "Epoch 63/70\n",
      "2172/2172 - 2s - loss: 0.1266 - acc: 0.9586 - val_loss: 0.1447 - val_acc: 0.9504\n",
      "Epoch 64/70\n",
      "2172/2172 - 2s - loss: 0.1445 - acc: 0.9632 - val_loss: 0.1398 - val_acc: 0.9504\n",
      "Epoch 65/70\n",
      "2172/2172 - 2s - loss: 0.1085 - acc: 0.9701 - val_loss: 0.1978 - val_acc: 0.9545\n",
      "Epoch 66/70\n",
      "2172/2172 - 2s - loss: 0.1597 - acc: 0.9590 - val_loss: 0.1510 - val_acc: 0.9545\n",
      "Epoch 67/70\n",
      "2172/2172 - 2s - loss: 0.0920 - acc: 0.9705 - val_loss: 0.3207 - val_acc: 0.9339\n",
      "Epoch 68/70\n",
      "2172/2172 - 2s - loss: 0.2073 - acc: 0.9429 - val_loss: 0.1681 - val_acc: 0.9545\n",
      "Epoch 69/70\n",
      "2172/2172 - 2s - loss: 0.1206 - acc: 0.9622 - val_loss: 0.1893 - val_acc: 0.9504\n",
      "Epoch 70/70\n",
      "2172/2172 - 2s - loss: 0.0865 - acc: 0.9728 - val_loss: 0.1734 - val_acc: 0.9587\n"
     ]
    },
    {
     "data": {
      "text/html": [
       "<span style=\"color:#4527A0\"><h1 style=\"font-size:18px\">Trial complete</h1></span>"
      ],
      "text/plain": [
       "<IPython.core.display.HTML object>"
      ]
     },
     "metadata": {},
     "output_type": "display_data"
    },
    {
     "data": {
      "text/html": [
       "<span style=\"color:#4527A0\"><h1 style=\"font-size:18px\">Trial summary</h1></span>"
      ],
      "text/plain": [
       "<IPython.core.display.HTML object>"
      ]
     },
     "metadata": {},
     "output_type": "display_data"
    },
    {
     "data": {
      "text/html": [
       "<span style=\"color:cyan\"> |-Trial ID: ec85072cb85a51caa740a54d0f98e029</span>"
      ],
      "text/plain": [
       "<IPython.core.display.HTML object>"
      ]
     },
     "metadata": {},
     "output_type": "display_data"
    },
    {
     "data": {
      "text/html": [
       "<span style=\"color:cyan\"> |-Score: 0.9669421911239624</span>"
      ],
      "text/plain": [
       "<IPython.core.display.HTML object>"
      ]
     },
     "metadata": {},
     "output_type": "display_data"
    },
    {
     "data": {
      "text/html": [
       "<span style=\"color:cyan\"> |-Best step: 0</span>"
      ],
      "text/plain": [
       "<IPython.core.display.HTML object>"
      ]
     },
     "metadata": {},
     "output_type": "display_data"
    },
    {
     "data": {
      "text/html": [
       "<span style=\"color:#7E57C2\"><h2 style=\"font-size:16px\">Hyperparameters:</h2></span>"
      ],
      "text/plain": [
       "<IPython.core.display.HTML object>"
      ]
     },
     "metadata": {},
     "output_type": "display_data"
    },
    {
     "data": {
      "text/html": [
       "<span style=\"color:cyan\"> |-drop1: 0.15000000000000002</span>"
      ],
      "text/plain": [
       "<IPython.core.display.HTML object>"
      ]
     },
     "metadata": {},
     "output_type": "display_data"
    },
    {
     "data": {
      "text/html": [
       "<span style=\"color:blue\"> |-drop2: 0.15000000000000002</span>"
      ],
      "text/plain": [
       "<IPython.core.display.HTML object>"
      ]
     },
     "metadata": {},
     "output_type": "display_data"
    },
    {
     "data": {
      "text/html": [
       "<span style=\"color:cyan\"> |-drop3: 0.05</span>"
      ],
      "text/plain": [
       "<IPython.core.display.HTML object>"
      ]
     },
     "metadata": {},
     "output_type": "display_data"
    },
    {
     "data": {
      "text/html": [
       "<span style=\"color:blue\"> |-spdrop1: 0.1</span>"
      ],
      "text/plain": [
       "<IPython.core.display.HTML object>"
      ]
     },
     "metadata": {},
     "output_type": "display_data"
    },
    {
     "data": {
      "text/html": [
       "<span style=\"color:cyan\"> |-spdrop2: 0.1</span>"
      ],
      "text/plain": [
       "<IPython.core.display.HTML object>"
      ]
     },
     "metadata": {},
     "output_type": "display_data"
    },
    {
     "data": {
      "text/html": [
       "<span style=\"color:blue\"> |-spdrop3: 0.08</span>"
      ],
      "text/plain": [
       "<IPython.core.display.HTML object>"
      ]
     },
     "metadata": {},
     "output_type": "display_data"
    },
    {
     "data": {
      "text/html": [
       "<span style=\"color:cyan\"> |-spdrop4: 0.06</span>"
      ],
      "text/plain": [
       "<IPython.core.display.HTML object>"
      ]
     },
     "metadata": {},
     "output_type": "display_data"
    },
    {
     "name": "stdout",
     "output_type": "stream",
     "text": [
      "Train on 2172 samples, validate on 242 samples\n",
      "Epoch 1/70\n",
      "2172/2172 - 3s - loss: 1.4630 - acc: 0.5134 - val_loss: 1.4176 - val_acc: 0.6116\n",
      "Epoch 2/70\n",
      "2172/2172 - 2s - loss: 1.3295 - acc: 0.5626 - val_loss: 1.1313 - val_acc: 0.5992\n",
      "Epoch 3/70\n",
      "2172/2172 - 2s - loss: 1.2501 - acc: 0.5838 - val_loss: 1.0863 - val_acc: 0.6529\n",
      "Epoch 4/70\n",
      "2172/2172 - 2s - loss: 1.1839 - acc: 0.6096 - val_loss: 0.9557 - val_acc: 0.6736\n",
      "Epoch 5/70\n",
      "2172/2172 - 2s - loss: 1.0585 - acc: 0.6409 - val_loss: 0.8483 - val_acc: 0.6983\n",
      "Epoch 6/70\n",
      "2172/2172 - 2s - loss: 0.9831 - acc: 0.6625 - val_loss: 0.8025 - val_acc: 0.7190\n",
      "Epoch 7/70\n",
      "2172/2172 - 2s - loss: 0.9157 - acc: 0.6814 - val_loss: 0.7150 - val_acc: 0.7149\n",
      "Epoch 8/70\n",
      "2172/2172 - 2s - loss: 0.8720 - acc: 0.6948 - val_loss: 0.8653 - val_acc: 0.7066\n",
      "Epoch 9/70\n",
      "2172/2172 - 2s - loss: 0.8407 - acc: 0.7155 - val_loss: 0.6245 - val_acc: 0.7851\n",
      "Epoch 10/70\n",
      "2172/2172 - 2s - loss: 0.7763 - acc: 0.7436 - val_loss: 0.7537 - val_acc: 0.7851\n",
      "Epoch 11/70\n",
      "2172/2172 - 2s - loss: 0.7449 - acc: 0.7601 - val_loss: 0.8130 - val_acc: 0.7810\n",
      "Epoch 12/70\n",
      "2172/2172 - 2s - loss: 0.6755 - acc: 0.7827 - val_loss: 0.5270 - val_acc: 0.8017\n",
      "Epoch 13/70\n",
      "2172/2172 - 2s - loss: 0.6710 - acc: 0.7864 - val_loss: 0.4562 - val_acc: 0.8430\n",
      "Epoch 14/70\n",
      "2172/2172 - 2s - loss: 0.5815 - acc: 0.8062 - val_loss: 0.3525 - val_acc: 0.8760\n",
      "Epoch 15/70\n",
      "2172/2172 - 2s - loss: 0.5665 - acc: 0.8168 - val_loss: 0.5318 - val_acc: 0.8554\n",
      "Epoch 16/70\n",
      "2172/2172 - 2s - loss: 0.5048 - acc: 0.8398 - val_loss: 0.4109 - val_acc: 0.8388\n",
      "Epoch 17/70\n",
      "2172/2172 - 2s - loss: 0.5424 - acc: 0.8297 - val_loss: 0.4064 - val_acc: 0.8512\n",
      "Epoch 18/70\n",
      "2172/2172 - 2s - loss: 0.5191 - acc: 0.8402 - val_loss: 0.2811 - val_acc: 0.8884\n",
      "Epoch 19/70\n",
      "2172/2172 - 2s - loss: 0.4039 - acc: 0.8656 - val_loss: 0.2605 - val_acc: 0.8884\n",
      "Epoch 20/70\n",
      "2172/2172 - 3s - loss: 0.4557 - acc: 0.8559 - val_loss: 0.4265 - val_acc: 0.8719\n",
      "Epoch 21/70\n",
      "2172/2172 - 2s - loss: 0.3959 - acc: 0.8674 - val_loss: 0.2545 - val_acc: 0.9091\n",
      "Epoch 22/70\n",
      "2172/2172 - 2s - loss: 0.3879 - acc: 0.8697 - val_loss: 0.4853 - val_acc: 0.8430\n",
      "Epoch 23/70\n",
      "2172/2172 - 2s - loss: 0.3808 - acc: 0.8762 - val_loss: 0.2691 - val_acc: 0.9215\n",
      "Epoch 24/70\n",
      "2172/2172 - 3s - loss: 0.3631 - acc: 0.8844 - val_loss: 0.2712 - val_acc: 0.9091\n",
      "Epoch 25/70\n",
      "2172/2172 - 2s - loss: 0.3315 - acc: 0.8913 - val_loss: 0.2009 - val_acc: 0.9339\n",
      "Epoch 26/70\n",
      "2172/2172 - 2s - loss: 0.3430 - acc: 0.8927 - val_loss: 0.2386 - val_acc: 0.9174\n",
      "Epoch 27/70\n",
      "2172/2172 - 2s - loss: 0.3263 - acc: 0.9010 - val_loss: 0.1911 - val_acc: 0.9298\n",
      "Epoch 28/70\n",
      "2172/2172 - 2s - loss: 0.2896 - acc: 0.9116 - val_loss: 0.1726 - val_acc: 0.9339\n",
      "Epoch 29/70\n",
      "2172/2172 - 3s - loss: 0.2857 - acc: 0.8996 - val_loss: 0.1970 - val_acc: 0.9256\n",
      "Epoch 30/70\n",
      "2172/2172 - 2s - loss: 0.2845 - acc: 0.9070 - val_loss: 0.2419 - val_acc: 0.9174\n",
      "Epoch 31/70\n",
      "2172/2172 - 3s - loss: 0.2975 - acc: 0.9116 - val_loss: 0.1805 - val_acc: 0.9298\n",
      "Epoch 32/70\n",
      "2172/2172 - 2s - loss: 0.2448 - acc: 0.9162 - val_loss: 0.2033 - val_acc: 0.9298\n",
      "Epoch 33/70\n",
      "2172/2172 - 2s - loss: 0.2447 - acc: 0.9236 - val_loss: 0.3111 - val_acc: 0.9132\n",
      "Epoch 34/70\n",
      "2172/2172 - 2s - loss: 0.2581 - acc: 0.9231 - val_loss: 0.1470 - val_acc: 0.9628\n",
      "Epoch 35/70\n",
      "2172/2172 - 3s - loss: 0.2596 - acc: 0.9148 - val_loss: 0.1741 - val_acc: 0.9380\n",
      "Epoch 36/70\n",
      "2172/2172 - 2s - loss: 0.2203 - acc: 0.9360 - val_loss: 0.1615 - val_acc: 0.9421\n",
      "Epoch 37/70\n",
      "2172/2172 - 2s - loss: 0.2446 - acc: 0.9194 - val_loss: 0.1444 - val_acc: 0.9628\n",
      "Epoch 38/70\n",
      "2172/2172 - 2s - loss: 0.2467 - acc: 0.9250 - val_loss: 0.2612 - val_acc: 0.9091\n",
      "Epoch 39/70\n",
      "2172/2172 - 2s - loss: 0.2146 - acc: 0.9296 - val_loss: 0.1710 - val_acc: 0.9463\n",
      "Epoch 40/70\n",
      "2172/2172 - 3s - loss: 0.2063 - acc: 0.9309 - val_loss: 0.1436 - val_acc: 0.9545\n",
      "Epoch 41/70\n",
      "2172/2172 - 2s - loss: 0.1983 - acc: 0.9392 - val_loss: 0.1636 - val_acc: 0.9380\n",
      "Epoch 42/70\n",
      "2172/2172 - 2s - loss: 0.1749 - acc: 0.9498 - val_loss: 0.1656 - val_acc: 0.9545\n",
      "Epoch 43/70\n",
      "2172/2172 - 2s - loss: 0.2199 - acc: 0.9342 - val_loss: 0.2130 - val_acc: 0.9339\n",
      "Epoch 44/70\n",
      "2172/2172 - 2s - loss: 0.2278 - acc: 0.9360 - val_loss: 0.1745 - val_acc: 0.9421\n",
      "Epoch 45/70\n",
      "2172/2172 - 2s - loss: 0.1993 - acc: 0.9415 - val_loss: 0.1596 - val_acc: 0.9545\n",
      "Epoch 46/70\n",
      "2172/2172 - 2s - loss: 0.1876 - acc: 0.9461 - val_loss: 0.1680 - val_acc: 0.9463\n",
      "Epoch 47/70\n",
      "2172/2172 - 2s - loss: 0.1651 - acc: 0.9494 - val_loss: 0.1235 - val_acc: 0.9545\n",
      "Epoch 48/70\n",
      "2172/2172 - 2s - loss: 0.1398 - acc: 0.9549 - val_loss: 0.1463 - val_acc: 0.9504\n",
      "Epoch 49/70\n",
      "2172/2172 - 2s - loss: 0.1664 - acc: 0.9553 - val_loss: 0.1318 - val_acc: 0.9545\n",
      "Epoch 50/70\n",
      "2172/2172 - 2s - loss: 0.1791 - acc: 0.9466 - val_loss: 0.1032 - val_acc: 0.9628\n",
      "Epoch 51/70\n",
      "2172/2172 - 3s - loss: 0.1285 - acc: 0.9563 - val_loss: 0.1535 - val_acc: 0.9587\n",
      "Epoch 52/70\n",
      "2172/2172 - 2s - loss: 0.1543 - acc: 0.9595 - val_loss: 0.1560 - val_acc: 0.9463\n",
      "Epoch 53/70\n",
      "2172/2172 - 2s - loss: 0.1665 - acc: 0.9448 - val_loss: 0.1840 - val_acc: 0.9421\n",
      "Epoch 54/70\n",
      "2172/2172 - 2s - loss: 0.2011 - acc: 0.9388 - val_loss: 0.1991 - val_acc: 0.9504\n",
      "Epoch 55/70\n",
      "2172/2172 - 2s - loss: 0.1459 - acc: 0.9540 - val_loss: 0.1337 - val_acc: 0.9504\n",
      "Epoch 56/70\n",
      "2172/2172 - 3s - loss: 0.1594 - acc: 0.9530 - val_loss: 0.1820 - val_acc: 0.9463\n",
      "Epoch 57/70\n",
      "2172/2172 - 2s - loss: 0.1317 - acc: 0.9581 - val_loss: 0.1575 - val_acc: 0.9504\n",
      "Epoch 58/70\n",
      "2172/2172 - 2s - loss: 0.1109 - acc: 0.9613 - val_loss: 0.0875 - val_acc: 0.9752\n",
      "Epoch 59/70\n",
      "2172/2172 - 2s - loss: 0.1089 - acc: 0.9701 - val_loss: 0.1323 - val_acc: 0.9587\n",
      "Epoch 60/70\n",
      "2172/2172 - 2s - loss: 0.1398 - acc: 0.9572 - val_loss: 0.0975 - val_acc: 0.9711\n",
      "Epoch 61/70\n",
      "2172/2172 - 2s - loss: 0.1179 - acc: 0.9604 - val_loss: 0.0998 - val_acc: 0.9752\n",
      "Epoch 62/70\n",
      "2172/2172 - 3s - loss: 0.1220 - acc: 0.9645 - val_loss: 0.1604 - val_acc: 0.9628\n",
      "Epoch 63/70\n",
      "2172/2172 - 2s - loss: 0.1350 - acc: 0.9618 - val_loss: 0.1911 - val_acc: 0.9463\n",
      "Epoch 64/70\n",
      "2172/2172 - 2s - loss: 0.1314 - acc: 0.9572 - val_loss: 0.1004 - val_acc: 0.9669\n",
      "Epoch 65/70\n",
      "2172/2172 - 2s - loss: 0.1288 - acc: 0.9627 - val_loss: 0.1155 - val_acc: 0.9628\n",
      "Epoch 66/70\n",
      "2172/2172 - 2s - loss: 0.1142 - acc: 0.9687 - val_loss: 0.1380 - val_acc: 0.9628\n",
      "Epoch 67/70\n",
      "2172/2172 - 2s - loss: 0.0941 - acc: 0.9728 - val_loss: 0.1928 - val_acc: 0.9380\n",
      "Epoch 68/70\n",
      "2172/2172 - 2s - loss: 0.0802 - acc: 0.9779 - val_loss: 0.1037 - val_acc: 0.9669\n",
      "Epoch 69/70\n",
      "2172/2172 - 2s - loss: 0.1119 - acc: 0.9641 - val_loss: 0.1510 - val_acc: 0.9421\n",
      "Epoch 70/70\n",
      "2172/2172 - 2s - loss: 0.0983 - acc: 0.9724 - val_loss: 0.2550 - val_acc: 0.9421\n",
      "Train on 2172 samples, validate on 242 samples\n",
      "Epoch 1/70\n",
      "2172/2172 - 2s - loss: 1.4765 - acc: 0.5175 - val_loss: 1.3922 - val_acc: 0.5909\n",
      "Epoch 2/70\n",
      "2172/2172 - 2s - loss: 1.3030 - acc: 0.5861 - val_loss: 1.3362 - val_acc: 0.6281\n",
      "Epoch 3/70\n",
      "2172/2172 - 2s - loss: 1.2280 - acc: 0.5985 - val_loss: 1.0293 - val_acc: 0.6736\n",
      "Epoch 4/70\n",
      "2172/2172 - 2s - loss: 1.1396 - acc: 0.6266 - val_loss: 0.9969 - val_acc: 0.6777\n",
      "Epoch 5/70\n",
      "2172/2172 - 2s - loss: 1.0397 - acc: 0.6487 - val_loss: 0.9126 - val_acc: 0.6942\n",
      "Epoch 6/70\n",
      "2172/2172 - 2s - loss: 0.9695 - acc: 0.6653 - val_loss: 0.7956 - val_acc: 0.7273\n",
      "Epoch 7/70\n",
      "2172/2172 - 2s - loss: 0.9652 - acc: 0.6717 - val_loss: 0.8074 - val_acc: 0.7314\n",
      "Epoch 8/70\n",
      "2172/2172 - 2s - loss: 0.8736 - acc: 0.7053 - val_loss: 0.7018 - val_acc: 0.7603\n",
      "Epoch 9/70\n",
      "2172/2172 - 2s - loss: 0.8297 - acc: 0.7251 - val_loss: 0.5747 - val_acc: 0.7810\n",
      "Epoch 10/70\n",
      "2172/2172 - 2s - loss: 0.7727 - acc: 0.7445 - val_loss: 0.5532 - val_acc: 0.8182\n",
      "Epoch 11/70\n",
      "2172/2172 - 2s - loss: 0.7158 - acc: 0.7629 - val_loss: 0.6704 - val_acc: 0.7851\n",
      "Epoch 12/70\n",
      "2172/2172 - 2s - loss: 0.6869 - acc: 0.7767 - val_loss: 0.5224 - val_acc: 0.8140\n",
      "Epoch 13/70\n",
      "2172/2172 - 2s - loss: 0.6237 - acc: 0.8020 - val_loss: 0.5924 - val_acc: 0.7769\n",
      "Epoch 14/70\n",
      "2172/2172 - 2s - loss: 0.5724 - acc: 0.8131 - val_loss: 0.4463 - val_acc: 0.8471\n",
      "Epoch 15/70\n",
      "2172/2172 - 2s - loss: 0.5430 - acc: 0.8301 - val_loss: 0.4416 - val_acc: 0.8636\n",
      "Epoch 16/70\n",
      "2172/2172 - 2s - loss: 0.4916 - acc: 0.8444 - val_loss: 0.3887 - val_acc: 0.8636\n",
      "Epoch 17/70\n",
      "2172/2172 - 2s - loss: 0.4647 - acc: 0.8522 - val_loss: 0.3556 - val_acc: 0.8636\n",
      "Epoch 18/70\n",
      "2172/2172 - 2s - loss: 0.4451 - acc: 0.8550 - val_loss: 0.3201 - val_acc: 0.9091\n"
     ]
    },
    {
     "name": "stdout",
     "output_type": "stream",
     "text": [
      "Epoch 19/70\n",
      "2172/2172 - 2s - loss: 0.4258 - acc: 0.8633 - val_loss: 0.2698 - val_acc: 0.8884\n",
      "Epoch 20/70\n",
      "2172/2172 - 2s - loss: 0.4266 - acc: 0.8669 - val_loss: 0.3349 - val_acc: 0.8884\n",
      "Epoch 21/70\n",
      "2172/2172 - 2s - loss: 0.3965 - acc: 0.8697 - val_loss: 0.2489 - val_acc: 0.9215\n",
      "Epoch 22/70\n",
      "2172/2172 - 2s - loss: 0.3758 - acc: 0.8785 - val_loss: 0.2770 - val_acc: 0.8926\n",
      "Epoch 23/70\n",
      "2172/2172 - 2s - loss: 0.3423 - acc: 0.8849 - val_loss: 0.2475 - val_acc: 0.9256\n",
      "Epoch 24/70\n",
      "2172/2172 - 2s - loss: 0.3536 - acc: 0.8844 - val_loss: 0.2703 - val_acc: 0.8760\n",
      "Epoch 25/70\n",
      "2172/2172 - 2s - loss: 0.3037 - acc: 0.8973 - val_loss: 0.2161 - val_acc: 0.9339\n",
      "Epoch 26/70\n",
      "2172/2172 - 2s - loss: 0.3180 - acc: 0.9079 - val_loss: 0.2202 - val_acc: 0.9215\n",
      "Epoch 27/70\n",
      "2172/2172 - 2s - loss: 0.3436 - acc: 0.8969 - val_loss: 0.2182 - val_acc: 0.9339\n",
      "Epoch 28/70\n",
      "2172/2172 - 2s - loss: 0.2777 - acc: 0.9075 - val_loss: 0.2476 - val_acc: 0.9298\n",
      "Epoch 29/70\n",
      "2172/2172 - 2s - loss: 0.3161 - acc: 0.9006 - val_loss: 0.2199 - val_acc: 0.9421\n",
      "Epoch 30/70\n",
      "2172/2172 - 2s - loss: 0.2642 - acc: 0.9194 - val_loss: 0.1984 - val_acc: 0.9463\n",
      "Epoch 31/70\n",
      "2172/2172 - 2s - loss: 0.2581 - acc: 0.9167 - val_loss: 0.1922 - val_acc: 0.9463\n",
      "Epoch 32/70\n",
      "2172/2172 - 2s - loss: 0.2498 - acc: 0.9227 - val_loss: 0.1732 - val_acc: 0.9463\n",
      "Epoch 33/70\n",
      "2172/2172 - 2s - loss: 0.2738 - acc: 0.9116 - val_loss: 0.2285 - val_acc: 0.9215\n",
      "Epoch 34/70\n",
      "2172/2172 - 2s - loss: 0.2180 - acc: 0.9332 - val_loss: 0.1541 - val_acc: 0.9504\n",
      "Epoch 35/70\n",
      "2172/2172 - 2s - loss: 0.2577 - acc: 0.9263 - val_loss: 0.2160 - val_acc: 0.9339\n",
      "Epoch 36/70\n",
      "2172/2172 - 2s - loss: 0.2471 - acc: 0.9194 - val_loss: 0.2166 - val_acc: 0.9339\n",
      "Epoch 37/70\n",
      "2172/2172 - 2s - loss: 0.2433 - acc: 0.9305 - val_loss: 0.2950 - val_acc: 0.9380\n",
      "Epoch 38/70\n",
      "2172/2172 - 2s - loss: 0.2136 - acc: 0.9360 - val_loss: 0.1748 - val_acc: 0.9380\n",
      "Epoch 39/70\n",
      "2172/2172 - 2s - loss: 0.2052 - acc: 0.9388 - val_loss: 0.2435 - val_acc: 0.9339\n",
      "Epoch 40/70\n",
      "2172/2172 - 2s - loss: 0.1967 - acc: 0.9424 - val_loss: 0.2227 - val_acc: 0.9339\n",
      "Epoch 41/70\n",
      "2172/2172 - 2s - loss: 0.2104 - acc: 0.9383 - val_loss: 0.1906 - val_acc: 0.9339\n",
      "Epoch 42/70\n",
      "2172/2172 - 2s - loss: 0.1775 - acc: 0.9452 - val_loss: 0.1870 - val_acc: 0.9380\n",
      "Epoch 43/70\n",
      "2172/2172 - 2s - loss: 0.1835 - acc: 0.9415 - val_loss: 0.1999 - val_acc: 0.9545\n",
      "Epoch 44/70\n",
      "2172/2172 - 2s - loss: 0.2084 - acc: 0.9360 - val_loss: 0.2851 - val_acc: 0.9215\n",
      "Epoch 45/70\n",
      "2172/2172 - 2s - loss: 0.1692 - acc: 0.9484 - val_loss: 0.1351 - val_acc: 0.9628\n",
      "Epoch 46/70\n",
      "2172/2172 - 2s - loss: 0.1816 - acc: 0.9401 - val_loss: 0.1723 - val_acc: 0.9298\n",
      "Epoch 47/70\n",
      "2172/2172 - 2s - loss: 0.1527 - acc: 0.9512 - val_loss: 0.2075 - val_acc: 0.9380\n",
      "Epoch 48/70\n",
      "2172/2172 - 2s - loss: 0.2001 - acc: 0.9471 - val_loss: 0.1511 - val_acc: 0.9545\n",
      "Epoch 49/70\n",
      "2172/2172 - 2s - loss: 0.1502 - acc: 0.9503 - val_loss: 0.1281 - val_acc: 0.9587\n",
      "Epoch 50/70\n",
      "2172/2172 - 2s - loss: 0.1552 - acc: 0.9553 - val_loss: 0.1103 - val_acc: 0.9669\n",
      "Epoch 51/70\n",
      "2172/2172 - 2s - loss: 0.1337 - acc: 0.9604 - val_loss: 0.2744 - val_acc: 0.9256\n",
      "Epoch 52/70\n",
      "2172/2172 - 2s - loss: 0.1442 - acc: 0.9494 - val_loss: 0.2057 - val_acc: 0.9298\n",
      "Epoch 53/70\n",
      "2172/2172 - 2s - loss: 0.1699 - acc: 0.9549 - val_loss: 0.1778 - val_acc: 0.9421\n",
      "Epoch 54/70\n",
      "2172/2172 - 2s - loss: 0.1807 - acc: 0.9480 - val_loss: 0.2820 - val_acc: 0.9339\n",
      "Epoch 55/70\n",
      "2172/2172 - 2s - loss: 0.1598 - acc: 0.9567 - val_loss: 0.1976 - val_acc: 0.9463\n",
      "Epoch 56/70\n",
      "2172/2172 - 2s - loss: 0.1569 - acc: 0.9632 - val_loss: 0.1827 - val_acc: 0.9504\n",
      "Epoch 57/70\n",
      "2172/2172 - 2s - loss: 0.1476 - acc: 0.9503 - val_loss: 0.1469 - val_acc: 0.9587\n",
      "Epoch 58/70\n",
      "2172/2172 - 2s - loss: 0.1322 - acc: 0.9627 - val_loss: 0.1727 - val_acc: 0.9628\n",
      "Epoch 59/70\n",
      "2172/2172 - 2s - loss: 0.1368 - acc: 0.9590 - val_loss: 0.3016 - val_acc: 0.9298\n",
      "Epoch 60/70\n",
      "2172/2172 - 2s - loss: 0.1440 - acc: 0.9599 - val_loss: 0.2341 - val_acc: 0.9504\n",
      "Epoch 61/70\n",
      "2172/2172 - 2s - loss: 0.0915 - acc: 0.9747 - val_loss: 0.2267 - val_acc: 0.9504\n",
      "Epoch 62/70\n",
      "2172/2172 - 2s - loss: 0.1074 - acc: 0.9659 - val_loss: 0.1493 - val_acc: 0.9504\n",
      "Epoch 63/70\n",
      "2172/2172 - 2s - loss: 0.1019 - acc: 0.9682 - val_loss: 0.1710 - val_acc: 0.9545\n",
      "Epoch 64/70\n",
      "2172/2172 - 2s - loss: 0.1026 - acc: 0.9664 - val_loss: 0.1693 - val_acc: 0.9711\n",
      "Epoch 65/70\n",
      "2172/2172 - 2s - loss: 0.0797 - acc: 0.9761 - val_loss: 0.1925 - val_acc: 0.9628\n",
      "Epoch 66/70\n",
      "2172/2172 - 2s - loss: 0.1337 - acc: 0.9604 - val_loss: 0.2025 - val_acc: 0.9628\n",
      "Epoch 67/70\n",
      "2172/2172 - 2s - loss: 0.1601 - acc: 0.9507 - val_loss: 0.3000 - val_acc: 0.9174\n",
      "Epoch 68/70\n",
      "2172/2172 - 2s - loss: 0.1221 - acc: 0.9655 - val_loss: 0.2781 - val_acc: 0.9421\n",
      "Epoch 69/70\n",
      "2172/2172 - 2s - loss: 0.1053 - acc: 0.9692 - val_loss: 0.1506 - val_acc: 0.9628\n",
      "Epoch 70/70\n",
      "2172/2172 - 2s - loss: 0.1057 - acc: 0.9673 - val_loss: 0.0978 - val_acc: 0.9752\n"
     ]
    },
    {
     "data": {
      "text/html": [
       "<span style=\"color:#4527A0\"><h1 style=\"font-size:18px\">Trial complete</h1></span>"
      ],
      "text/plain": [
       "<IPython.core.display.HTML object>"
      ]
     },
     "metadata": {},
     "output_type": "display_data"
    },
    {
     "data": {
      "text/html": [
       "<span style=\"color:#4527A0\"><h1 style=\"font-size:18px\">Trial summary</h1></span>"
      ],
      "text/plain": [
       "<IPython.core.display.HTML object>"
      ]
     },
     "metadata": {},
     "output_type": "display_data"
    },
    {
     "data": {
      "text/html": [
       "<span style=\"color:cyan\"> |-Trial ID: 76dfe44eed253530b7b771732a5bcefc</span>"
      ],
      "text/plain": [
       "<IPython.core.display.HTML object>"
      ]
     },
     "metadata": {},
     "output_type": "display_data"
    },
    {
     "data": {
      "text/html": [
       "<span style=\"color:cyan\"> |-Score: 0.9752066135406494</span>"
      ],
      "text/plain": [
       "<IPython.core.display.HTML object>"
      ]
     },
     "metadata": {},
     "output_type": "display_data"
    },
    {
     "data": {
      "text/html": [
       "<span style=\"color:cyan\"> |-Best step: 0</span>"
      ],
      "text/plain": [
       "<IPython.core.display.HTML object>"
      ]
     },
     "metadata": {},
     "output_type": "display_data"
    },
    {
     "data": {
      "text/html": [
       "<span style=\"color:#7E57C2\"><h2 style=\"font-size:16px\">Hyperparameters:</h2></span>"
      ],
      "text/plain": [
       "<IPython.core.display.HTML object>"
      ]
     },
     "metadata": {},
     "output_type": "display_data"
    },
    {
     "data": {
      "text/html": [
       "<span style=\"color:cyan\"> |-drop1: 0.15000000000000002</span>"
      ],
      "text/plain": [
       "<IPython.core.display.HTML object>"
      ]
     },
     "metadata": {},
     "output_type": "display_data"
    },
    {
     "data": {
      "text/html": [
       "<span style=\"color:blue\"> |-drop2: 0.15000000000000002</span>"
      ],
      "text/plain": [
       "<IPython.core.display.HTML object>"
      ]
     },
     "metadata": {},
     "output_type": "display_data"
    },
    {
     "data": {
      "text/html": [
       "<span style=\"color:cyan\"> |-drop3: 0.15000000000000002</span>"
      ],
      "text/plain": [
       "<IPython.core.display.HTML object>"
      ]
     },
     "metadata": {},
     "output_type": "display_data"
    },
    {
     "data": {
      "text/html": [
       "<span style=\"color:blue\"> |-spdrop1: 0.06</span>"
      ],
      "text/plain": [
       "<IPython.core.display.HTML object>"
      ]
     },
     "metadata": {},
     "output_type": "display_data"
    },
    {
     "data": {
      "text/html": [
       "<span style=\"color:cyan\"> |-spdrop2: 0.06</span>"
      ],
      "text/plain": [
       "<IPython.core.display.HTML object>"
      ]
     },
     "metadata": {},
     "output_type": "display_data"
    },
    {
     "data": {
      "text/html": [
       "<span style=\"color:blue\"> |-spdrop3: 0.02</span>"
      ],
      "text/plain": [
       "<IPython.core.display.HTML object>"
      ]
     },
     "metadata": {},
     "output_type": "display_data"
    },
    {
     "data": {
      "text/html": [
       "<span style=\"color:cyan\"> |-spdrop4: 0.02</span>"
      ],
      "text/plain": [
       "<IPython.core.display.HTML object>"
      ]
     },
     "metadata": {},
     "output_type": "display_data"
    },
    {
     "name": "stdout",
     "output_type": "stream",
     "text": [
      "INFO:tensorflow:Oracle triggered exit\n"
     ]
    }
   ],
   "source": [
    "tuner.search(X_train, Y_train, epochs=70, validation_split=0.1, batch_size=8, verbose=2)"
   ]
  },
  {
   "cell_type": "code",
   "execution_count": 66,
   "metadata": {},
   "outputs": [
    {
     "data": {
      "text/html": [
       "<span style=\"color:#4527A0\"><h1 style=\"font-size:18px\">Results summary</h1></span>"
      ],
      "text/plain": [
       "<IPython.core.display.HTML object>"
      ]
     },
     "metadata": {},
     "output_type": "display_data"
    },
    {
     "data": {
      "text/html": [
       "<span style=\"color:cyan\"> |-Results in random_search/bat</span>"
      ],
      "text/plain": [
       "<IPython.core.display.HTML object>"
      ]
     },
     "metadata": {},
     "output_type": "display_data"
    },
    {
     "data": {
      "text/html": [
       "<span style=\"color:cyan\"> |-Showing 10 best trials</span>"
      ],
      "text/plain": [
       "<IPython.core.display.HTML object>"
      ]
     },
     "metadata": {},
     "output_type": "display_data"
    },
    {
     "data": {
      "text/html": [
       "<span style=\"color:cyan\"> |-Objective(name='val_acc', direction='max')</span>"
      ],
      "text/plain": [
       "<IPython.core.display.HTML object>"
      ]
     },
     "metadata": {},
     "output_type": "display_data"
    },
    {
     "data": {
      "text/html": [
       "<span style=\"color:#4527A0\"><h1 style=\"font-size:18px\">Trial summary</h1></span>"
      ],
      "text/plain": [
       "<IPython.core.display.HTML object>"
      ]
     },
     "metadata": {},
     "output_type": "display_data"
    },
    {
     "data": {
      "text/html": [
       "<span style=\"color:cyan\"> |-Trial ID: 76dfe44eed253530b7b771732a5bcefc</span>"
      ],
      "text/plain": [
       "<IPython.core.display.HTML object>"
      ]
     },
     "metadata": {},
     "output_type": "display_data"
    },
    {
     "data": {
      "text/html": [
       "<span style=\"color:cyan\"> |-Score: 0.9752066135406494</span>"
      ],
      "text/plain": [
       "<IPython.core.display.HTML object>"
      ]
     },
     "metadata": {},
     "output_type": "display_data"
    },
    {
     "data": {
      "text/html": [
       "<span style=\"color:cyan\"> |-Best step: 0</span>"
      ],
      "text/plain": [
       "<IPython.core.display.HTML object>"
      ]
     },
     "metadata": {},
     "output_type": "display_data"
    },
    {
     "data": {
      "text/html": [
       "<span style=\"color:#7E57C2\"><h2 style=\"font-size:16px\">Hyperparameters:</h2></span>"
      ],
      "text/plain": [
       "<IPython.core.display.HTML object>"
      ]
     },
     "metadata": {},
     "output_type": "display_data"
    },
    {
     "data": {
      "text/html": [
       "<span style=\"color:cyan\"> |-drop1: 0.15000000000000002</span>"
      ],
      "text/plain": [
       "<IPython.core.display.HTML object>"
      ]
     },
     "metadata": {},
     "output_type": "display_data"
    },
    {
     "data": {
      "text/html": [
       "<span style=\"color:blue\"> |-drop2: 0.15000000000000002</span>"
      ],
      "text/plain": [
       "<IPython.core.display.HTML object>"
      ]
     },
     "metadata": {},
     "output_type": "display_data"
    },
    {
     "data": {
      "text/html": [
       "<span style=\"color:cyan\"> |-drop3: 0.15000000000000002</span>"
      ],
      "text/plain": [
       "<IPython.core.display.HTML object>"
      ]
     },
     "metadata": {},
     "output_type": "display_data"
    },
    {
     "data": {
      "text/html": [
       "<span style=\"color:blue\"> |-spdrop1: 0.06</span>"
      ],
      "text/plain": [
       "<IPython.core.display.HTML object>"
      ]
     },
     "metadata": {},
     "output_type": "display_data"
    },
    {
     "data": {
      "text/html": [
       "<span style=\"color:cyan\"> |-spdrop2: 0.06</span>"
      ],
      "text/plain": [
       "<IPython.core.display.HTML object>"
      ]
     },
     "metadata": {},
     "output_type": "display_data"
    },
    {
     "data": {
      "text/html": [
       "<span style=\"color:blue\"> |-spdrop3: 0.02</span>"
      ],
      "text/plain": [
       "<IPython.core.display.HTML object>"
      ]
     },
     "metadata": {},
     "output_type": "display_data"
    },
    {
     "data": {
      "text/html": [
       "<span style=\"color:cyan\"> |-spdrop4: 0.02</span>"
      ],
      "text/plain": [
       "<IPython.core.display.HTML object>"
      ]
     },
     "metadata": {},
     "output_type": "display_data"
    },
    {
     "data": {
      "text/html": [
       "<span style=\"color:#4527A0\"><h1 style=\"font-size:18px\">Trial summary</h1></span>"
      ],
      "text/plain": [
       "<IPython.core.display.HTML object>"
      ]
     },
     "metadata": {},
     "output_type": "display_data"
    },
    {
     "data": {
      "text/html": [
       "<span style=\"color:cyan\"> |-Trial ID: e0bb8265dcb87eef0a3a6b08c6a305ea</span>"
      ],
      "text/plain": [
       "<IPython.core.display.HTML object>"
      ]
     },
     "metadata": {},
     "output_type": "display_data"
    },
    {
     "data": {
      "text/html": [
       "<span style=\"color:cyan\"> |-Score: 0.9731404781341553</span>"
      ],
      "text/plain": [
       "<IPython.core.display.HTML object>"
      ]
     },
     "metadata": {},
     "output_type": "display_data"
    },
    {
     "data": {
      "text/html": [
       "<span style=\"color:cyan\"> |-Best step: 0</span>"
      ],
      "text/plain": [
       "<IPython.core.display.HTML object>"
      ]
     },
     "metadata": {},
     "output_type": "display_data"
    },
    {
     "data": {
      "text/html": [
       "<span style=\"color:#7E57C2\"><h2 style=\"font-size:16px\">Hyperparameters:</h2></span>"
      ],
      "text/plain": [
       "<IPython.core.display.HTML object>"
      ]
     },
     "metadata": {},
     "output_type": "display_data"
    },
    {
     "data": {
      "text/html": [
       "<span style=\"color:cyan\"> |-drop1: 0.1</span>"
      ],
      "text/plain": [
       "<IPython.core.display.HTML object>"
      ]
     },
     "metadata": {},
     "output_type": "display_data"
    },
    {
     "data": {
      "text/html": [
       "<span style=\"color:blue\"> |-drop2: 0.1</span>"
      ],
      "text/plain": [
       "<IPython.core.display.HTML object>"
      ]
     },
     "metadata": {},
     "output_type": "display_data"
    },
    {
     "data": {
      "text/html": [
       "<span style=\"color:cyan\"> |-drop3: 0.05</span>"
      ],
      "text/plain": [
       "<IPython.core.display.HTML object>"
      ]
     },
     "metadata": {},
     "output_type": "display_data"
    },
    {
     "data": {
      "text/html": [
       "<span style=\"color:blue\"> |-spdrop1: 0.04</span>"
      ],
      "text/plain": [
       "<IPython.core.display.HTML object>"
      ]
     },
     "metadata": {},
     "output_type": "display_data"
    },
    {
     "data": {
      "text/html": [
       "<span style=\"color:cyan\"> |-spdrop2: 0.06</span>"
      ],
      "text/plain": [
       "<IPython.core.display.HTML object>"
      ]
     },
     "metadata": {},
     "output_type": "display_data"
    },
    {
     "data": {
      "text/html": [
       "<span style=\"color:blue\"> |-spdrop3: 0.06</span>"
      ],
      "text/plain": [
       "<IPython.core.display.HTML object>"
      ]
     },
     "metadata": {},
     "output_type": "display_data"
    },
    {
     "data": {
      "text/html": [
       "<span style=\"color:cyan\"> |-spdrop4: 0.06</span>"
      ],
      "text/plain": [
       "<IPython.core.display.HTML object>"
      ]
     },
     "metadata": {},
     "output_type": "display_data"
    },
    {
     "data": {
      "text/html": [
       "<span style=\"color:#4527A0\"><h1 style=\"font-size:18px\">Trial summary</h1></span>"
      ],
      "text/plain": [
       "<IPython.core.display.HTML object>"
      ]
     },
     "metadata": {},
     "output_type": "display_data"
    },
    {
     "data": {
      "text/html": [
       "<span style=\"color:cyan\"> |-Trial ID: 5414abe7397961e48b0c6d1a466026b1</span>"
      ],
      "text/plain": [
       "<IPython.core.display.HTML object>"
      ]
     },
     "metadata": {},
     "output_type": "display_data"
    },
    {
     "data": {
      "text/html": [
       "<span style=\"color:cyan\"> |-Score: 0.9669421911239624</span>"
      ],
      "text/plain": [
       "<IPython.core.display.HTML object>"
      ]
     },
     "metadata": {},
     "output_type": "display_data"
    },
    {
     "data": {
      "text/html": [
       "<span style=\"color:cyan\"> |-Best step: 0</span>"
      ],
      "text/plain": [
       "<IPython.core.display.HTML object>"
      ]
     },
     "metadata": {},
     "output_type": "display_data"
    },
    {
     "data": {
      "text/html": [
       "<span style=\"color:#7E57C2\"><h2 style=\"font-size:16px\">Hyperparameters:</h2></span>"
      ],
      "text/plain": [
       "<IPython.core.display.HTML object>"
      ]
     },
     "metadata": {},
     "output_type": "display_data"
    },
    {
     "data": {
      "text/html": [
       "<span style=\"color:cyan\"> |-drop1: 0.15000000000000002</span>"
      ],
      "text/plain": [
       "<IPython.core.display.HTML object>"
      ]
     },
     "metadata": {},
     "output_type": "display_data"
    },
    {
     "data": {
      "text/html": [
       "<span style=\"color:blue\"> |-drop2: 0.2</span>"
      ],
      "text/plain": [
       "<IPython.core.display.HTML object>"
      ]
     },
     "metadata": {},
     "output_type": "display_data"
    },
    {
     "data": {
      "text/html": [
       "<span style=\"color:cyan\"> |-drop3: 0.05</span>"
      ],
      "text/plain": [
       "<IPython.core.display.HTML object>"
      ]
     },
     "metadata": {},
     "output_type": "display_data"
    },
    {
     "data": {
      "text/html": [
       "<span style=\"color:blue\"> |-spdrop1: 0.1</span>"
      ],
      "text/plain": [
       "<IPython.core.display.HTML object>"
      ]
     },
     "metadata": {},
     "output_type": "display_data"
    },
    {
     "data": {
      "text/html": [
       "<span style=\"color:cyan\"> |-spdrop2: 0.04</span>"
      ],
      "text/plain": [
       "<IPython.core.display.HTML object>"
      ]
     },
     "metadata": {},
     "output_type": "display_data"
    },
    {
     "data": {
      "text/html": [
       "<span style=\"color:blue\"> |-spdrop3: 0.06</span>"
      ],
      "text/plain": [
       "<IPython.core.display.HTML object>"
      ]
     },
     "metadata": {},
     "output_type": "display_data"
    },
    {
     "data": {
      "text/html": [
       "<span style=\"color:cyan\"> |-spdrop4: 0.04</span>"
      ],
      "text/plain": [
       "<IPython.core.display.HTML object>"
      ]
     },
     "metadata": {},
     "output_type": "display_data"
    },
    {
     "data": {
      "text/html": [
       "<span style=\"color:#4527A0\"><h1 style=\"font-size:18px\">Trial summary</h1></span>"
      ],
      "text/plain": [
       "<IPython.core.display.HTML object>"
      ]
     },
     "metadata": {},
     "output_type": "display_data"
    },
    {
     "data": {
      "text/html": [
       "<span style=\"color:cyan\"> |-Trial ID: ec85072cb85a51caa740a54d0f98e029</span>"
      ],
      "text/plain": [
       "<IPython.core.display.HTML object>"
      ]
     },
     "metadata": {},
     "output_type": "display_data"
    },
    {
     "data": {
      "text/html": [
       "<span style=\"color:cyan\"> |-Score: 0.9669421911239624</span>"
      ],
      "text/plain": [
       "<IPython.core.display.HTML object>"
      ]
     },
     "metadata": {},
     "output_type": "display_data"
    },
    {
     "data": {
      "text/html": [
       "<span style=\"color:cyan\"> |-Best step: 0</span>"
      ],
      "text/plain": [
       "<IPython.core.display.HTML object>"
      ]
     },
     "metadata": {},
     "output_type": "display_data"
    },
    {
     "data": {
      "text/html": [
       "<span style=\"color:#7E57C2\"><h2 style=\"font-size:16px\">Hyperparameters:</h2></span>"
      ],
      "text/plain": [
       "<IPython.core.display.HTML object>"
      ]
     },
     "metadata": {},
     "output_type": "display_data"
    },
    {
     "data": {
      "text/html": [
       "<span style=\"color:cyan\"> |-drop1: 0.15000000000000002</span>"
      ],
      "text/plain": [
       "<IPython.core.display.HTML object>"
      ]
     },
     "metadata": {},
     "output_type": "display_data"
    },
    {
     "data": {
      "text/html": [
       "<span style=\"color:blue\"> |-drop2: 0.15000000000000002</span>"
      ],
      "text/plain": [
       "<IPython.core.display.HTML object>"
      ]
     },
     "metadata": {},
     "output_type": "display_data"
    },
    {
     "data": {
      "text/html": [
       "<span style=\"color:cyan\"> |-drop3: 0.05</span>"
      ],
      "text/plain": [
       "<IPython.core.display.HTML object>"
      ]
     },
     "metadata": {},
     "output_type": "display_data"
    },
    {
     "data": {
      "text/html": [
       "<span style=\"color:blue\"> |-spdrop1: 0.1</span>"
      ],
      "text/plain": [
       "<IPython.core.display.HTML object>"
      ]
     },
     "metadata": {},
     "output_type": "display_data"
    },
    {
     "data": {
      "text/html": [
       "<span style=\"color:cyan\"> |-spdrop2: 0.1</span>"
      ],
      "text/plain": [
       "<IPython.core.display.HTML object>"
      ]
     },
     "metadata": {},
     "output_type": "display_data"
    },
    {
     "data": {
      "text/html": [
       "<span style=\"color:blue\"> |-spdrop3: 0.08</span>"
      ],
      "text/plain": [
       "<IPython.core.display.HTML object>"
      ]
     },
     "metadata": {},
     "output_type": "display_data"
    },
    {
     "data": {
      "text/html": [
       "<span style=\"color:cyan\"> |-spdrop4: 0.06</span>"
      ],
      "text/plain": [
       "<IPython.core.display.HTML object>"
      ]
     },
     "metadata": {},
     "output_type": "display_data"
    },
    {
     "data": {
      "text/html": [
       "<span style=\"color:#4527A0\"><h1 style=\"font-size:18px\">Trial summary</h1></span>"
      ],
      "text/plain": [
       "<IPython.core.display.HTML object>"
      ]
     },
     "metadata": {},
     "output_type": "display_data"
    },
    {
     "data": {
      "text/html": [
       "<span style=\"color:cyan\"> |-Trial ID: 711ea148133390653806cd6be177b569</span>"
      ],
      "text/plain": [
       "<IPython.core.display.HTML object>"
      ]
     },
     "metadata": {},
     "output_type": "display_data"
    },
    {
     "data": {
      "text/html": [
       "<span style=\"color:cyan\"> |-Score: 0.9628099203109741</span>"
      ],
      "text/plain": [
       "<IPython.core.display.HTML object>"
      ]
     },
     "metadata": {},
     "output_type": "display_data"
    },
    {
     "data": {
      "text/html": [
       "<span style=\"color:cyan\"> |-Best step: 0</span>"
      ],
      "text/plain": [
       "<IPython.core.display.HTML object>"
      ]
     },
     "metadata": {},
     "output_type": "display_data"
    },
    {
     "data": {
      "text/html": [
       "<span style=\"color:#7E57C2\"><h2 style=\"font-size:16px\">Hyperparameters:</h2></span>"
      ],
      "text/plain": [
       "<IPython.core.display.HTML object>"
      ]
     },
     "metadata": {},
     "output_type": "display_data"
    },
    {
     "data": {
      "text/html": [
       "<span style=\"color:cyan\"> |-drop1: 0.15000000000000002</span>"
      ],
      "text/plain": [
       "<IPython.core.display.HTML object>"
      ]
     },
     "metadata": {},
     "output_type": "display_data"
    },
    {
     "data": {
      "text/html": [
       "<span style=\"color:blue\"> |-drop2: 0.15000000000000002</span>"
      ],
      "text/plain": [
       "<IPython.core.display.HTML object>"
      ]
     },
     "metadata": {},
     "output_type": "display_data"
    },
    {
     "data": {
      "text/html": [
       "<span style=\"color:cyan\"> |-drop3: 0.1</span>"
      ],
      "text/plain": [
       "<IPython.core.display.HTML object>"
      ]
     },
     "metadata": {},
     "output_type": "display_data"
    },
    {
     "data": {
      "text/html": [
       "<span style=\"color:blue\"> |-spdrop1: 0.04</span>"
      ],
      "text/plain": [
       "<IPython.core.display.HTML object>"
      ]
     },
     "metadata": {},
     "output_type": "display_data"
    },
    {
     "data": {
      "text/html": [
       "<span style=\"color:cyan\"> |-spdrop2: 0.1</span>"
      ],
      "text/plain": [
       "<IPython.core.display.HTML object>"
      ]
     },
     "metadata": {},
     "output_type": "display_data"
    },
    {
     "data": {
      "text/html": [
       "<span style=\"color:blue\"> |-spdrop3: 0.04</span>"
      ],
      "text/plain": [
       "<IPython.core.display.HTML object>"
      ]
     },
     "metadata": {},
     "output_type": "display_data"
    },
    {
     "data": {
      "text/html": [
       "<span style=\"color:cyan\"> |-spdrop4: 0.04</span>"
      ],
      "text/plain": [
       "<IPython.core.display.HTML object>"
      ]
     },
     "metadata": {},
     "output_type": "display_data"
    }
   ],
   "source": [
    "tuner.results_summary()"
   ]
  },
  {
   "cell_type": "code",
   "execution_count": 67,
   "metadata": {},
   "outputs": [
    {
     "name": "stdout",
     "output_type": "stream",
     "text": [
      "604/604 [==============================] - ETA: 1s - loss: 0.0511 - acc: 0.968 - ETA: 0s - loss: 0.1263 - acc: 0.962 - 0s 356us/sample - loss: 0.1009 - acc: 0.9669\n"
     ]
    }
   ],
   "source": [
    "best_model = tuner.get_best_models(num_models=1)[0]\n",
    "loss, accuracy = best_model.evaluate(X_test, Y_test)"
   ]
  },
  {
   "cell_type": "code",
   "execution_count": 68,
   "metadata": {},
   "outputs": [
    {
     "data": {
      "text/plain": [
       "0.9668874"
      ]
     },
     "execution_count": 68,
     "metadata": {},
     "output_type": "execute_result"
    }
   ],
   "source": [
    "accuracy"
   ]
  },
  {
   "cell_type": "markdown",
   "metadata": {},
   "source": [
    "<h2>Evaluate Best Model</h2>"
   ]
  },
  {
   "cell_type": "code",
   "execution_count": 69,
   "metadata": {},
   "outputs": [],
   "source": [
    "model = best_model"
   ]
  },
  {
   "cell_type": "code",
   "execution_count": 70,
   "metadata": {},
   "outputs": [
    {
     "name": "stdout",
     "output_type": "stream",
     "text": [
      "[[  5   0   0   0   0   0   0   0]\n",
      " [  0  25   0   0   0   0   0   0]\n",
      " [  0   0  21   0   0   0   0   1]\n",
      " [  0   0   0  59   0   1   0   0]\n",
      " [  0   2   1   0 325   0   2   3]\n",
      " [  0   3   2   0   0  49   0   0]\n",
      " [  0   0   0   0   0   0  24   0]\n",
      " [  0   0   0   1   3   0   1  76]]\n"
     ]
    },
    {
     "data": {
      "image/png": "[encoded data removed]",
      "text/plain": [
       "<Figure size 432x288 with 2 Axes>"
      ]
     },
     "metadata": {
      "needs_background": "light"
     },
     "output_type": "display_data"
    }
   ],
   "source": [
    "Y_pred = model.predict(X_test)\n",
    "actual, predicted = generate_actual_predicted(Y_pred, X_test, Y_test)\n",
    "\n",
    "##Confusion Matrix\n",
    "from sklearn.metrics import confusion_matrix\n",
    "actual_labeled = list()\n",
    "predict_labeled = list()\n",
    "for x,y in zip(actual,predicted):\n",
    "    actual_labeled.append(getSpecies(x))\n",
    "    predict_labeled.append(getSpecies(y))\n",
    "\n",
    "labels = ['A.tridens','E.bottae','M.emarginatus','P.kuhli','R.muscatellum','R.nasutus', 'R.aegyptius', 'T.perforatus']\n",
    "cm=confusion_matrix(actual_labeled,predict_labeled,labels=labels)\n",
    "print(cm)\n",
    "\n",
    "ax= plt.subplot()\n",
    "sns.heatmap(cm, annot=True, ax = ax); #annot=True to annotate cells\n",
    "\n",
    "# labels, title and ticks\n",
    "ax.set_xlabel('Predicted labels');ax.set_ylabel('True labels'); \n",
    "ax.set_title('Confusion Matrix'); \n",
    "ax.xaxis.set_ticklabels(labels,rotation=45); ax.yaxis.set_ticklabels(labels,rotation=45);"
   ]
  },
  {
   "cell_type": "code",
   "execution_count": 71,
   "metadata": {},
   "outputs": [
    {
     "name": "stdout",
     "output_type": "stream",
     "text": [
      "accuracy 0.9668874172185431\n"
     ]
    }
   ],
   "source": [
    "## Test accuracy\n",
    "from sklearn.metrics import accuracy_score\n",
    "print('accuracy', accuracy_score(actual, predicted))\n"
   ]
  },
  {
   "cell_type": "code",
   "execution_count": 72,
   "metadata": {},
   "outputs": [
    {
     "name": "stdout",
     "output_type": "stream",
     "text": [
      "               precision    recall  f1-score   support\n",
      "\n",
      "    A.tridens       1.00      1.00      1.00         5\n",
      "     E.bottae       0.83      1.00      0.91        25\n",
      "M.emarginatus       0.88      0.95      0.91        22\n",
      "      P.kuhli       0.98      0.98      0.98        60\n",
      "R.muscatellum       0.99      0.98      0.98       333\n",
      "    R.nasutus       0.98      0.91      0.94        54\n",
      "  R.aegyptius       0.89      1.00      0.94        24\n",
      " T.perforatus       0.95      0.94      0.94        81\n",
      "\n",
      "     accuracy                           0.97       604\n",
      "    macro avg       0.94      0.97      0.95       604\n",
      " weighted avg       0.97      0.97      0.97       604\n",
      "\n"
     ]
    }
   ],
   "source": [
    "## Precision, Recall, F1, Support\n",
    "from sklearn.metrics import classification_report\n",
    "print(classification_report(actual_labeled, predict_labeled,labels=labels))"
   ]
  },
  {
   "cell_type": "markdown",
   "metadata": {},
   "source": [
    "<h2>K-Fold Training and Evaluation</h2>"
   ]
  },
  {
   "cell_type": "code",
   "execution_count": 84,
   "metadata": {},
   "outputs": [],
   "source": [
    "def build_current_model():\n",
    "    inp = Input(shape=(112,170,3))\n",
    "    lay = Convolution2D(filters=56,kernel_size=(7,7),strides=(2,2),padding='same')(inp)\n",
    "    lay = BatchNormalization()(lay)\n",
    "    lay = Activation('relu')(lay)\n",
    "    lay = MaxPooling2D(pool_size=(2,2),strides=2,padding='same')(lay)\n",
    "    lay = SpatialDropout2D(0.06)(lay)\n",
    "\n",
    "    lay = Convolution2D(filters=72,kernel_size=(5,5),strides=(2,2),padding='same')(lay)\n",
    "    lay = BatchNormalization()(lay)\n",
    "    lay = Activation('relu')(lay)\n",
    "    lay = AveragePooling2D(pool_size=(2,2),strides=2,padding='same')(lay)\n",
    "    lay = SpatialDropout2D(0.06)(lay)\n",
    "\n",
    "    lay = Convolution2D(filters=56,kernel_size=(3,3),strides=(1,1),padding='same')(lay)\n",
    "    lay = BatchNormalization()(lay)\n",
    "    lay = Activation('relu')(lay)\n",
    "    lay = AveragePooling2D(pool_size=(2,2),strides=2,padding='same')(lay)\n",
    "    lay = SpatialDropout2D(0.02)(lay)\n",
    "\n",
    "    lay = Convolution2D(filters=72,kernel_size=(3,3),strides=(1,1),padding='same')(lay)\n",
    "    lay = BatchNormalization()(lay)\n",
    "    lay = Activation('relu')(lay)\n",
    "    lay = AveragePooling2D(pool_size=(2,2),strides=2,padding='same')(lay)\n",
    "    lay = SpatialDropout2D(0.02)(lay)\n",
    "\n",
    "    lay = Flatten()(lay)\n",
    "\n",
    "    lay = Dense(80)(lay)\n",
    "    lay = BatchNormalization()(lay)\n",
    "    lay = Activation('relu')(lay)\n",
    "    lay = Dropout(0.15)(lay)\n",
    "\n",
    "    lay = Dense(64)(lay)\n",
    "    lay = BatchNormalization()(lay)\n",
    "    lay = Activation('relu')(lay)\n",
    "    lay = Dropout(0.15)(lay)\n",
    "\n",
    "    lay = Dense(64)(lay)\n",
    "    lay = BatchNormalization()(lay)\n",
    "    lay = Activation('relu')(lay)\n",
    "    lay = Dropout(0.15)(lay)\n",
    "\n",
    "    x_out = Dense(8, name='output', activation='softmax')(lay)\n",
    "    model = Model(inputs=inp, outputs=x_out)\n",
    "    model.compile(\n",
    "        optimizer=Adam(lr=0.003),\n",
    "        loss='categorical_crossentropy',\n",
    "        metrics=['accuracy']\n",
    "    )\n",
    "    return model\n"
   ]
  },
  {
   "cell_type": "code",
   "execution_count": 85,
   "metadata": {},
   "outputs": [
    {
     "name": "stdout",
     "output_type": "stream",
     "text": [
      "Model: \"model_8\"\n",
      "_________________________________________________________________\n",
      "Layer (type)                 Output Shape              Param #   \n",
      "=================================================================\n",
      "input_9 (InputLayer)         [(None, 112, 170, 3)]     0         \n",
      "_________________________________________________________________\n",
      "conv2d_32 (Conv2D)           (None, 56, 85, 56)        8288      \n",
      "_________________________________________________________________\n",
      "batch_normalization_56 (Batc (None, 56, 85, 56)        224       \n",
      "_________________________________________________________________\n",
      "activation_56 (Activation)   (None, 56, 85, 56)        0         \n",
      "_________________________________________________________________\n",
      "max_pooling2d_8 (MaxPooling2 (None, 28, 43, 56)        0         \n",
      "_________________________________________________________________\n",
      "spatial_dropout2d_32 (Spatia (None, 28, 43, 56)        0         \n",
      "_________________________________________________________________\n",
      "conv2d_33 (Conv2D)           (None, 14, 22, 72)        100872    \n",
      "_________________________________________________________________\n",
      "batch_normalization_57 (Batc (None, 14, 22, 72)        288       \n",
      "_________________________________________________________________\n",
      "activation_57 (Activation)   (None, 14, 22, 72)        0         \n",
      "_________________________________________________________________\n",
      "average_pooling2d_24 (Averag (None, 7, 11, 72)         0         \n",
      "_________________________________________________________________\n",
      "spatial_dropout2d_33 (Spatia (None, 7, 11, 72)         0         \n",
      "_________________________________________________________________\n",
      "conv2d_34 (Conv2D)           (None, 7, 11, 56)         36344     \n",
      "_________________________________________________________________\n",
      "batch_normalization_58 (Batc (None, 7, 11, 56)         224       \n",
      "_________________________________________________________________\n",
      "activation_58 (Activation)   (None, 7, 11, 56)         0         \n",
      "_________________________________________________________________\n",
      "average_pooling2d_25 (Averag (None, 4, 6, 56)          0         \n",
      "_________________________________________________________________\n",
      "spatial_dropout2d_34 (Spatia (None, 4, 6, 56)          0         \n",
      "_________________________________________________________________\n",
      "conv2d_35 (Conv2D)           (None, 4, 6, 72)          36360     \n",
      "_________________________________________________________________\n",
      "batch_normalization_59 (Batc (None, 4, 6, 72)          288       \n",
      "_________________________________________________________________\n",
      "activation_59 (Activation)   (None, 4, 6, 72)          0         \n",
      "_________________________________________________________________\n",
      "average_pooling2d_26 (Averag (None, 2, 3, 72)          0         \n",
      "_________________________________________________________________\n",
      "spatial_dropout2d_35 (Spatia (None, 2, 3, 72)          0         \n",
      "_________________________________________________________________\n",
      "flatten_8 (Flatten)          (None, 432)               0         \n",
      "_________________________________________________________________\n",
      "dense_24 (Dense)             (None, 80)                34640     \n",
      "_________________________________________________________________\n",
      "batch_normalization_60 (Batc (None, 80)                320       \n",
      "_________________________________________________________________\n",
      "activation_60 (Activation)   (None, 80)                0         \n",
      "_________________________________________________________________\n",
      "dropout_24 (Dropout)         (None, 80)                0         \n",
      "_________________________________________________________________\n",
      "dense_25 (Dense)             (None, 64)                5184      \n",
      "_________________________________________________________________\n",
      "batch_normalization_61 (Batc (None, 64)                256       \n",
      "_________________________________________________________________\n",
      "activation_61 (Activation)   (None, 64)                0         \n",
      "_________________________________________________________________\n",
      "dropout_25 (Dropout)         (None, 64)                0         \n",
      "_________________________________________________________________\n",
      "dense_26 (Dense)             (None, 64)                4160      \n",
      "_________________________________________________________________\n",
      "batch_normalization_62 (Batc (None, 64)                256       \n",
      "_________________________________________________________________\n",
      "activation_62 (Activation)   (None, 64)                0         \n",
      "_________________________________________________________________\n",
      "dropout_26 (Dropout)         (None, 64)                0         \n",
      "_________________________________________________________________\n",
      "output (Dense)               (None, 8)                 520       \n",
      "=================================================================\n",
      "Total params: 228,224\n",
      "Trainable params: 227,296\n",
      "Non-trainable params: 928\n",
      "_________________________________________________________________\n"
     ]
    }
   ],
   "source": [
    "model = build_current_model()\n",
    "model.summary()"
   ]
  },
  {
   "cell_type": "code",
   "execution_count": 77,
   "metadata": {},
   "outputs": [
    {
     "name": "stdout",
     "output_type": "stream",
     "text": [
      "Train on 2172 samples, validate on 242 samples\n",
      "Epoch 1/100\n",
      "2172/2172 - 3s - loss: 1.4437 - acc: 0.5368 - val_loss: 1.5183 - val_acc: 0.5579\n",
      "Epoch 2/100\n",
      "2172/2172 - 3s - loss: 1.2918 - acc: 0.5893 - val_loss: 1.1638 - val_acc: 0.6116\n",
      "Epoch 3/100\n",
      "2172/2172 - 2s - loss: 1.2148 - acc: 0.6123 - val_loss: 1.1223 - val_acc: 0.6198\n",
      "Epoch 4/100\n",
      "2172/2172 - 2s - loss: 1.1647 - acc: 0.6192 - val_loss: 1.1055 - val_acc: 0.6074\n",
      "Epoch 5/100\n",
      "2172/2172 - 2s - loss: 1.1081 - acc: 0.6271 - val_loss: 1.0729 - val_acc: 0.6116\n",
      "Epoch 6/100\n",
      "2172/2172 - 3s - loss: 0.9651 - acc: 0.6731 - val_loss: 1.0529 - val_acc: 0.7025\n",
      "Epoch 7/100\n",
      "2172/2172 - 2s - loss: 0.9477 - acc: 0.6800 - val_loss: 0.7998 - val_acc: 0.7107\n",
      "Epoch 8/100\n",
      "2172/2172 - 2s - loss: 0.8799 - acc: 0.7049 - val_loss: 1.0749 - val_acc: 0.6322\n",
      "Epoch 9/100\n",
      "2172/2172 - 2s - loss: 0.8423 - acc: 0.7159 - val_loss: 0.7658 - val_acc: 0.7273\n",
      "Epoch 10/100\n",
      "2172/2172 - 2s - loss: 0.7702 - acc: 0.7426 - val_loss: 0.6579 - val_acc: 0.7769\n",
      "Epoch 11/100\n",
      "2172/2172 - 2s - loss: 0.7333 - acc: 0.7606 - val_loss: 0.6917 - val_acc: 0.7562\n",
      "Epoch 12/100\n",
      "2172/2172 - 2s - loss: 0.6982 - acc: 0.7776 - val_loss: 0.5493 - val_acc: 0.8140\n",
      "Epoch 13/100\n",
      "2172/2172 - 2s - loss: 0.6469 - acc: 0.7956 - val_loss: 0.5721 - val_acc: 0.8140\n",
      "Epoch 14/100\n",
      "2172/2172 - 2s - loss: 0.5883 - acc: 0.8029 - val_loss: 0.4451 - val_acc: 0.8595\n",
      "Epoch 15/100\n",
      "2172/2172 - 2s - loss: 0.5490 - acc: 0.8306 - val_loss: 0.4475 - val_acc: 0.8471\n",
      "Epoch 16/100\n",
      "2172/2172 - 2s - loss: 0.5720 - acc: 0.8287 - val_loss: 0.4322 - val_acc: 0.8347\n",
      "Epoch 17/100\n",
      "2172/2172 - 2s - loss: 0.4701 - acc: 0.8453 - val_loss: 0.3429 - val_acc: 0.8719\n",
      "Epoch 18/100\n",
      "2172/2172 - 2s - loss: 0.4384 - acc: 0.8591 - val_loss: 0.4071 - val_acc: 0.8719\n",
      "Epoch 19/100\n",
      "2172/2172 - 2s - loss: 0.4356 - acc: 0.8573 - val_loss: 0.2585 - val_acc: 0.8967\n",
      "Epoch 20/100\n",
      "2172/2172 - 2s - loss: 0.4103 - acc: 0.8702 - val_loss: 0.3610 - val_acc: 0.8678\n",
      "Epoch 21/100\n",
      "2172/2172 - 2s - loss: 0.3828 - acc: 0.8729 - val_loss: 0.3564 - val_acc: 0.8264\n",
      "Epoch 22/100\n",
      "2172/2172 - 2s - loss: 0.4089 - acc: 0.8757 - val_loss: 0.2414 - val_acc: 0.9132\n",
      "Epoch 23/100\n",
      "2172/2172 - 2s - loss: 0.3417 - acc: 0.8877 - val_loss: 0.4006 - val_acc: 0.8843\n",
      "Epoch 24/100\n",
      "2172/2172 - 2s - loss: 0.3617 - acc: 0.8821 - val_loss: 0.3038 - val_acc: 0.9091\n",
      "Epoch 25/100\n",
      "2172/2172 - 2s - loss: 0.3598 - acc: 0.8780 - val_loss: 0.2856 - val_acc: 0.8926\n",
      "Epoch 26/100\n",
      "2172/2172 - 2s - loss: 0.3626 - acc: 0.8969 - val_loss: 0.2269 - val_acc: 0.9215\n",
      "Epoch 27/100\n",
      "2172/2172 - 2s - loss: 0.3332 - acc: 0.8895 - val_loss: 0.3354 - val_acc: 0.8967\n",
      "Epoch 28/100\n",
      "2172/2172 - 2s - loss: 0.3199 - acc: 0.8996 - val_loss: 0.2379 - val_acc: 0.9298\n",
      "Epoch 29/100\n",
      "2172/2172 - 2s - loss: 0.2892 - acc: 0.8996 - val_loss: 0.3794 - val_acc: 0.8843\n",
      "Epoch 30/100\n",
      "2172/2172 - 2s - loss: 0.3234 - acc: 0.8913 - val_loss: 0.2049 - val_acc: 0.9132\n",
      "Epoch 31/100\n",
      "2172/2172 - 2s - loss: 0.2756 - acc: 0.9111 - val_loss: 0.2611 - val_acc: 0.9050\n",
      "Epoch 32/100\n",
      "2172/2172 - 2s - loss: 0.2838 - acc: 0.9107 - val_loss: 0.2368 - val_acc: 0.9215\n",
      "Epoch 33/100\n",
      "2172/2172 - 2s - loss: 0.3405 - acc: 0.8983 - val_loss: 0.2164 - val_acc: 0.9504\n",
      "Epoch 34/100\n",
      "2172/2172 - 2s - loss: 0.3018 - acc: 0.9015 - val_loss: 0.2714 - val_acc: 0.8926\n",
      "Epoch 35/100\n",
      "2172/2172 - 2s - loss: 0.2807 - acc: 0.9144 - val_loss: 0.2974 - val_acc: 0.9050\n",
      "Epoch 36/100\n",
      "2172/2172 - 2s - loss: 0.2308 - acc: 0.9254 - val_loss: 0.3306 - val_acc: 0.8926\n",
      "Epoch 37/100\n",
      "2172/2172 - 2s - loss: 0.2775 - acc: 0.9167 - val_loss: 0.2452 - val_acc: 0.9298\n",
      "Epoch 38/100\n",
      "2172/2172 - 2s - loss: 0.2631 - acc: 0.9171 - val_loss: 0.1626 - val_acc: 0.9504\n",
      "Epoch 39/100\n",
      "2172/2172 - 2s - loss: 0.2128 - acc: 0.9309 - val_loss: 0.1707 - val_acc: 0.9339\n",
      "Epoch 40/100\n",
      "2172/2172 - 2s - loss: 0.1945 - acc: 0.9365 - val_loss: 0.3490 - val_acc: 0.8967\n",
      "Epoch 41/100\n",
      "2172/2172 - 2s - loss: 0.2139 - acc: 0.9328 - val_loss: 0.2165 - val_acc: 0.9215\n",
      "Epoch 42/100\n",
      "2172/2172 - 2s - loss: 0.2215 - acc: 0.9323 - val_loss: 0.2789 - val_acc: 0.9132\n",
      "Epoch 43/100\n",
      "2172/2172 - 2s - loss: 0.1859 - acc: 0.9438 - val_loss: 0.1803 - val_acc: 0.9380\n",
      "Epoch 44/100\n",
      "2172/2172 - 2s - loss: 0.2280 - acc: 0.9259 - val_loss: 0.1923 - val_acc: 0.9298\n",
      "Epoch 45/100\n",
      "2172/2172 - 2s - loss: 0.1620 - acc: 0.9448 - val_loss: 0.1552 - val_acc: 0.9339\n",
      "Epoch 46/100\n",
      "2172/2172 - 2s - loss: 0.2017 - acc: 0.9411 - val_loss: 0.2864 - val_acc: 0.9132\n",
      "Epoch 47/100\n",
      "2172/2172 - 2s - loss: 0.1937 - acc: 0.9383 - val_loss: 0.1493 - val_acc: 0.9587\n",
      "Epoch 48/100\n",
      "2172/2172 - 2s - loss: 0.1914 - acc: 0.9388 - val_loss: 0.1566 - val_acc: 0.9463\n",
      "Epoch 49/100\n",
      "2172/2172 - 2s - loss: 0.1811 - acc: 0.9424 - val_loss: 0.2086 - val_acc: 0.9091\n",
      "Epoch 50/100\n",
      "2172/2172 - 2s - loss: 0.2142 - acc: 0.9369 - val_loss: 0.2353 - val_acc: 0.9256\n",
      "Epoch 51/100\n",
      "2172/2172 - 2s - loss: 0.1754 - acc: 0.9397 - val_loss: 0.1168 - val_acc: 0.9628\n",
      "Epoch 52/100\n",
      "2172/2172 - 2s - loss: 0.1729 - acc: 0.9461 - val_loss: 0.1680 - val_acc: 0.9421\n",
      "Epoch 53/100\n",
      "2172/2172 - 2s - loss: 0.2275 - acc: 0.9392 - val_loss: 0.1467 - val_acc: 0.9545\n",
      "Epoch 54/100\n",
      "2172/2172 - 2s - loss: 0.1872 - acc: 0.9452 - val_loss: 0.1237 - val_acc: 0.9421\n",
      "Epoch 55/100\n",
      "2172/2172 - 2s - loss: 0.1593 - acc: 0.9480 - val_loss: 0.1159 - val_acc: 0.9669\n",
      "Epoch 56/100\n",
      "2172/2172 - 2s - loss: 0.1450 - acc: 0.9599 - val_loss: 0.1540 - val_acc: 0.9421\n",
      "Epoch 57/100\n",
      "2172/2172 - 2s - loss: 0.1731 - acc: 0.9448 - val_loss: 0.1304 - val_acc: 0.9504\n",
      "Epoch 58/100\n",
      "2172/2172 - 2s - loss: 0.1632 - acc: 0.9475 - val_loss: 0.1312 - val_acc: 0.9421\n",
      "Epoch 59/100\n",
      "2172/2172 - 2s - loss: 0.1049 - acc: 0.9659 - val_loss: 0.2088 - val_acc: 0.9587\n",
      "Epoch 60/100\n",
      "2172/2172 - 2s - loss: 0.1327 - acc: 0.9599 - val_loss: 0.1206 - val_acc: 0.9628\n",
      "Epoch 61/100\n",
      "2172/2172 - 2s - loss: 0.1575 - acc: 0.9544 - val_loss: 0.0936 - val_acc: 0.9752\n",
      "Epoch 62/100\n",
      "2172/2172 - 2s - loss: 0.1516 - acc: 0.9613 - val_loss: 0.1318 - val_acc: 0.9504\n",
      "Epoch 63/100\n",
      "2172/2172 - 2s - loss: 0.1449 - acc: 0.9553 - val_loss: 0.1464 - val_acc: 0.9504\n",
      "Epoch 64/100\n",
      "2172/2172 - 2s - loss: 0.1228 - acc: 0.9604 - val_loss: 0.0990 - val_acc: 0.9752\n",
      "Epoch 65/100\n",
      "2172/2172 - 2s - loss: 0.1052 - acc: 0.9687 - val_loss: 0.2038 - val_acc: 0.9504\n",
      "Epoch 66/100\n",
      "2172/2172 - 2s - loss: 0.1314 - acc: 0.9632 - val_loss: 0.1249 - val_acc: 0.9711\n",
      "Epoch 67/100\n",
      "2172/2172 - 2s - loss: 0.1383 - acc: 0.9576 - val_loss: 0.1380 - val_acc: 0.9628\n",
      "Epoch 68/100\n",
      "2172/2172 - 2s - loss: 0.1294 - acc: 0.9581 - val_loss: 0.1565 - val_acc: 0.9545\n",
      "Epoch 69/100\n",
      "2172/2172 - 2s - loss: 0.1148 - acc: 0.9659 - val_loss: 0.2287 - val_acc: 0.9587\n",
      "Epoch 70/100\n",
      "2172/2172 - 3s - loss: 0.1392 - acc: 0.9613 - val_loss: 0.0903 - val_acc: 0.9711\n",
      "Epoch 71/100\n",
      "2172/2172 - 2s - loss: 0.1119 - acc: 0.9636 - val_loss: 0.2176 - val_acc: 0.9380\n",
      "Epoch 72/100\n",
      "2172/2172 - 2s - loss: 0.0960 - acc: 0.9705 - val_loss: 0.0933 - val_acc: 0.9752\n",
      "Epoch 73/100\n",
      "2172/2172 - 2s - loss: 0.0938 - acc: 0.9682 - val_loss: 0.2408 - val_acc: 0.9339\n",
      "Epoch 74/100\n",
      "2172/2172 - 2s - loss: 0.0918 - acc: 0.9705 - val_loss: 0.1013 - val_acc: 0.9628\n",
      "Epoch 75/100\n",
      "2172/2172 - 2s - loss: 0.1276 - acc: 0.9659 - val_loss: 0.1653 - val_acc: 0.9504\n",
      "Epoch 76/100\n",
      "2172/2172 - 2s - loss: 0.2239 - acc: 0.9424 - val_loss: 0.1468 - val_acc: 0.9463\n",
      "Epoch 77/100\n",
      "2172/2172 - 2s - loss: 0.1170 - acc: 0.9687 - val_loss: 0.1306 - val_acc: 0.9793\n",
      "Epoch 78/100\n",
      "2172/2172 - 2s - loss: 0.1256 - acc: 0.9655 - val_loss: 0.0813 - val_acc: 0.9793\n",
      "Epoch 79/100\n",
      "2172/2172 - 2s - loss: 0.1069 - acc: 0.9669 - val_loss: 0.0934 - val_acc: 0.9752\n",
      "Epoch 80/100\n",
      "2172/2172 - 2s - loss: 0.0500 - acc: 0.9830 - val_loss: 0.1724 - val_acc: 0.9545\n",
      "Epoch 81/100\n",
      "2172/2172 - 2s - loss: 0.1169 - acc: 0.9669 - val_loss: 0.2528 - val_acc: 0.9215\n",
      "Epoch 82/100\n",
      "2172/2172 - 2s - loss: 0.1222 - acc: 0.9604 - val_loss: 0.1500 - val_acc: 0.9504\n",
      "Epoch 83/100\n",
      "2172/2172 - 2s - loss: 0.0775 - acc: 0.9788 - val_loss: 0.1235 - val_acc: 0.9587\n",
      "Epoch 84/100\n",
      "2172/2172 - 2s - loss: 0.0843 - acc: 0.9747 - val_loss: 0.1896 - val_acc: 0.9380\n",
      "Epoch 85/100\n",
      "2172/2172 - 2s - loss: 0.1474 - acc: 0.9622 - val_loss: 0.1057 - val_acc: 0.9711\n",
      "Epoch 86/100\n",
      "2172/2172 - 2s - loss: 0.1152 - acc: 0.9733 - val_loss: 0.1602 - val_acc: 0.9504\n",
      "Epoch 87/100\n",
      "2172/2172 - 2s - loss: 0.1039 - acc: 0.9705 - val_loss: 0.0885 - val_acc: 0.9752\n"
     ]
    },
    {
     "name": "stdout",
     "output_type": "stream",
     "text": [
      "Epoch 88/100\n",
      "2172/2172 - 2s - loss: 0.0752 - acc: 0.9788 - val_loss: 0.1353 - val_acc: 0.9545\n",
      "Epoch 89/100\n",
      "2172/2172 - 2s - loss: 0.1589 - acc: 0.9558 - val_loss: 0.0554 - val_acc: 0.9793\n",
      "Epoch 90/100\n",
      "2172/2172 - 2s - loss: 0.0962 - acc: 0.9742 - val_loss: 0.0464 - val_acc: 0.9876\n",
      "Epoch 91/100\n",
      "2172/2172 - 2s - loss: 0.0959 - acc: 0.9715 - val_loss: 0.0597 - val_acc: 0.9876\n",
      "Epoch 92/100\n",
      "2172/2172 - 2s - loss: 0.0721 - acc: 0.9747 - val_loss: 0.0692 - val_acc: 0.9669\n",
      "Epoch 93/100\n",
      "2172/2172 - 2s - loss: 0.0749 - acc: 0.9765 - val_loss: 0.0735 - val_acc: 0.9752\n",
      "Epoch 94/100\n",
      "2172/2172 - 2s - loss: 0.0947 - acc: 0.9733 - val_loss: 0.0910 - val_acc: 0.9587\n",
      "Epoch 95/100\n",
      "2172/2172 - 2s - loss: 0.0739 - acc: 0.9774 - val_loss: 0.1253 - val_acc: 0.9628\n",
      "Epoch 96/100\n",
      "2172/2172 - 2s - loss: 0.0832 - acc: 0.9751 - val_loss: 0.1323 - val_acc: 0.9628\n",
      "Epoch 97/100\n",
      "2172/2172 - 2s - loss: 0.0975 - acc: 0.9669 - val_loss: 0.1054 - val_acc: 0.9711\n",
      "Epoch 98/100\n",
      "2172/2172 - 2s - loss: 0.0567 - acc: 0.9825 - val_loss: 0.1367 - val_acc: 0.9669\n",
      "Epoch 99/100\n",
      "2172/2172 - 2s - loss: 0.0583 - acc: 0.9853 - val_loss: 0.1053 - val_acc: 0.9669\n",
      "Epoch 100/100\n",
      "2172/2172 - 2s - loss: 0.0560 - acc: 0.9820 - val_loss: 0.1035 - val_acc: 0.9752\n",
      "Train on 2172 samples, validate on 242 samples\n",
      "Epoch 1/100\n",
      "2172/2172 - 3s - loss: 1.4567 - acc: 0.5175 - val_loss: 1.2302 - val_acc: 0.5785\n",
      "Epoch 2/100\n",
      "2172/2172 - 2s - loss: 1.3061 - acc: 0.5677 - val_loss: 1.1735 - val_acc: 0.5909\n",
      "Epoch 3/100\n",
      "2172/2172 - 2s - loss: 1.2458 - acc: 0.6022 - val_loss: 1.2670 - val_acc: 0.5620\n",
      "Epoch 4/100\n",
      "2172/2172 - 2s - loss: 1.1624 - acc: 0.6243 - val_loss: 1.0746 - val_acc: 0.6322\n",
      "Epoch 5/100\n",
      "2172/2172 - 2s - loss: 1.0868 - acc: 0.6354 - val_loss: 0.9591 - val_acc: 0.6612\n",
      "Epoch 6/100\n",
      "2172/2172 - 2s - loss: 0.9795 - acc: 0.6588 - val_loss: 0.9723 - val_acc: 0.6488\n",
      "Epoch 7/100\n",
      "2172/2172 - 2s - loss: 0.9362 - acc: 0.6892 - val_loss: 0.9899 - val_acc: 0.6860\n",
      "Epoch 8/100\n",
      "2172/2172 - 2s - loss: 0.8751 - acc: 0.7178 - val_loss: 0.7533 - val_acc: 0.7479\n",
      "Epoch 9/100\n",
      "2172/2172 - 2s - loss: 0.8034 - acc: 0.7495 - val_loss: 0.6565 - val_acc: 0.7603\n",
      "Epoch 10/100\n",
      "2172/2172 - 2s - loss: 0.7512 - acc: 0.7597 - val_loss: 0.5725 - val_acc: 0.7851\n",
      "Epoch 11/100\n",
      "2172/2172 - 2s - loss: 0.6914 - acc: 0.7831 - val_loss: 0.5387 - val_acc: 0.8058\n",
      "Epoch 12/100\n",
      "2172/2172 - 2s - loss: 0.6429 - acc: 0.7965 - val_loss: 0.5950 - val_acc: 0.8140\n",
      "Epoch 13/100\n",
      "2172/2172 - 2s - loss: 0.6027 - acc: 0.8085 - val_loss: 0.3986 - val_acc: 0.8678\n",
      "Epoch 14/100\n",
      "2172/2172 - 2s - loss: 0.5361 - acc: 0.8283 - val_loss: 0.4991 - val_acc: 0.8223\n",
      "Epoch 15/100\n",
      "2172/2172 - 2s - loss: 0.5167 - acc: 0.8324 - val_loss: 0.4774 - val_acc: 0.8471\n",
      "Epoch 16/100\n",
      "2172/2172 - 2s - loss: 0.4642 - acc: 0.8522 - val_loss: 0.3437 - val_acc: 0.8719\n",
      "Epoch 17/100\n",
      "2172/2172 - 2s - loss: 0.4313 - acc: 0.8582 - val_loss: 0.3124 - val_acc: 0.9008\n",
      "Epoch 18/100\n",
      "2172/2172 - 2s - loss: 0.4426 - acc: 0.8610 - val_loss: 0.3339 - val_acc: 0.8760\n",
      "Epoch 19/100\n",
      "2172/2172 - 2s - loss: 0.4373 - acc: 0.8600 - val_loss: 0.3169 - val_acc: 0.8884\n",
      "Epoch 20/100\n",
      "2172/2172 - 2s - loss: 0.3916 - acc: 0.8738 - val_loss: 0.2633 - val_acc: 0.9008\n",
      "Epoch 21/100\n",
      "2172/2172 - 2s - loss: 0.3871 - acc: 0.8757 - val_loss: 0.3680 - val_acc: 0.8760\n",
      "Epoch 22/100\n",
      "2172/2172 - 2s - loss: 0.3735 - acc: 0.8798 - val_loss: 0.2497 - val_acc: 0.9215\n",
      "Epoch 23/100\n",
      "2172/2172 - 2s - loss: 0.3488 - acc: 0.8886 - val_loss: 0.2342 - val_acc: 0.9091\n",
      "Epoch 24/100\n",
      "2172/2172 - 2s - loss: 0.3580 - acc: 0.8918 - val_loss: 0.6572 - val_acc: 0.8140\n",
      "Epoch 25/100\n",
      "2172/2172 - 2s - loss: 0.3272 - acc: 0.9070 - val_loss: 0.2866 - val_acc: 0.9091\n",
      "Epoch 26/100\n",
      "2172/2172 - 2s - loss: 0.2822 - acc: 0.9084 - val_loss: 0.1942 - val_acc: 0.9380\n",
      "Epoch 27/100\n",
      "2172/2172 - 2s - loss: 0.3318 - acc: 0.8973 - val_loss: 0.3258 - val_acc: 0.8802\n",
      "Epoch 28/100\n",
      "2172/2172 - 2s - loss: 0.2780 - acc: 0.9111 - val_loss: 0.1742 - val_acc: 0.9545\n",
      "Epoch 29/100\n",
      "2172/2172 - 2s - loss: 0.3159 - acc: 0.9065 - val_loss: 0.2519 - val_acc: 0.9256\n",
      "Epoch 30/100\n",
      "2172/2172 - 2s - loss: 0.2740 - acc: 0.9144 - val_loss: 0.1965 - val_acc: 0.9380\n",
      "Epoch 31/100\n",
      "2172/2172 - 2s - loss: 0.2307 - acc: 0.9254 - val_loss: 0.1876 - val_acc: 0.9628\n",
      "Epoch 32/100\n",
      "2172/2172 - 2s - loss: 0.2552 - acc: 0.9240 - val_loss: 0.2099 - val_acc: 0.9174\n",
      "Epoch 33/100\n",
      "2172/2172 - 2s - loss: 0.2203 - acc: 0.9291 - val_loss: 0.1495 - val_acc: 0.9628\n",
      "Epoch 34/100\n",
      "2172/2172 - 2s - loss: 0.2140 - acc: 0.9355 - val_loss: 0.1817 - val_acc: 0.9504\n",
      "Epoch 35/100\n",
      "2172/2172 - 2s - loss: 0.2202 - acc: 0.9300 - val_loss: 0.1698 - val_acc: 0.9587\n",
      "Epoch 36/100\n",
      "2172/2172 - 2s - loss: 0.2130 - acc: 0.9300 - val_loss: 0.1942 - val_acc: 0.9339\n",
      "Epoch 37/100\n",
      "2172/2172 - 2s - loss: 0.2741 - acc: 0.9231 - val_loss: 0.2553 - val_acc: 0.9091\n",
      "Epoch 38/100\n",
      "2172/2172 - 2s - loss: 0.2033 - acc: 0.9346 - val_loss: 0.1385 - val_acc: 0.9628\n",
      "Epoch 39/100\n",
      "2172/2172 - 2s - loss: 0.1955 - acc: 0.9406 - val_loss: 0.2215 - val_acc: 0.9215\n",
      "Epoch 40/100\n",
      "2172/2172 - 2s - loss: 0.2568 - acc: 0.9314 - val_loss: 0.2067 - val_acc: 0.9339\n",
      "Epoch 41/100\n",
      "2172/2172 - 2s - loss: 0.1765 - acc: 0.9461 - val_loss: 0.1330 - val_acc: 0.9587\n",
      "Epoch 42/100\n",
      "2172/2172 - 2s - loss: 0.1975 - acc: 0.9365 - val_loss: 0.1629 - val_acc: 0.9504\n",
      "Epoch 43/100\n",
      "2172/2172 - 2s - loss: 0.2360 - acc: 0.9277 - val_loss: 0.1168 - val_acc: 0.9711\n",
      "Epoch 44/100\n",
      "2172/2172 - 2s - loss: 0.1871 - acc: 0.9420 - val_loss: 0.1410 - val_acc: 0.9587\n",
      "Epoch 45/100\n",
      "2172/2172 - 2s - loss: 0.2151 - acc: 0.9355 - val_loss: 0.1121 - val_acc: 0.9752\n",
      "Epoch 46/100\n",
      "2172/2172 - 2s - loss: 0.1702 - acc: 0.9466 - val_loss: 0.1698 - val_acc: 0.9380\n",
      "Epoch 47/100\n",
      "2172/2172 - 2s - loss: 0.1869 - acc: 0.9392 - val_loss: 0.1708 - val_acc: 0.9587\n",
      "Epoch 48/100\n",
      "2172/2172 - 2s - loss: 0.1440 - acc: 0.9553 - val_loss: 0.1684 - val_acc: 0.9628\n",
      "Epoch 49/100\n",
      "2172/2172 - 2s - loss: 0.1647 - acc: 0.9549 - val_loss: 0.1224 - val_acc: 0.9711\n",
      "Epoch 50/100\n",
      "2172/2172 - 2s - loss: 0.1496 - acc: 0.9517 - val_loss: 0.1918 - val_acc: 0.9421\n",
      "Epoch 51/100\n",
      "2172/2172 - 2s - loss: 0.1775 - acc: 0.9443 - val_loss: 0.1584 - val_acc: 0.9587\n",
      "Epoch 52/100\n",
      "2172/2172 - 2s - loss: 0.1393 - acc: 0.9586 - val_loss: 0.0960 - val_acc: 0.9711\n",
      "Epoch 53/100\n",
      "2172/2172 - 2s - loss: 0.1632 - acc: 0.9572 - val_loss: 0.1882 - val_acc: 0.9463\n",
      "Epoch 54/100\n",
      "2172/2172 - 2s - loss: 0.1530 - acc: 0.9622 - val_loss: 0.5242 - val_acc: 0.8264\n",
      "Epoch 55/100\n",
      "2172/2172 - 2s - loss: 0.1364 - acc: 0.9636 - val_loss: 0.1652 - val_acc: 0.9421\n",
      "Epoch 56/100\n",
      "2172/2172 - 2s - loss: 0.1333 - acc: 0.9576 - val_loss: 0.1226 - val_acc: 0.9545\n",
      "Epoch 57/100\n",
      "2172/2172 - 2s - loss: 0.1728 - acc: 0.9507 - val_loss: 0.1407 - val_acc: 0.9587\n",
      "Epoch 58/100\n",
      "2172/2172 - 2s - loss: 0.1038 - acc: 0.9669 - val_loss: 0.1019 - val_acc: 0.9628\n",
      "Epoch 59/100\n",
      "2172/2172 - 2s - loss: 0.1548 - acc: 0.9590 - val_loss: 0.1195 - val_acc: 0.9711\n",
      "Epoch 60/100\n",
      "2172/2172 - 2s - loss: 0.1072 - acc: 0.9627 - val_loss: 0.0882 - val_acc: 0.9752\n",
      "Epoch 61/100\n",
      "2172/2172 - 2s - loss: 0.1179 - acc: 0.9655 - val_loss: 0.1406 - val_acc: 0.9628\n",
      "Epoch 62/100\n",
      "2172/2172 - 2s - loss: 0.1456 - acc: 0.9563 - val_loss: 0.0920 - val_acc: 0.9669\n",
      "Epoch 63/100\n",
      "2172/2172 - 2s - loss: 0.1097 - acc: 0.9669 - val_loss: 0.1877 - val_acc: 0.9339\n",
      "Epoch 64/100\n",
      "2172/2172 - 2s - loss: 0.1106 - acc: 0.9682 - val_loss: 0.0923 - val_acc: 0.9711\n",
      "Epoch 65/100\n",
      "2172/2172 - 2s - loss: 0.1303 - acc: 0.9632 - val_loss: 0.1060 - val_acc: 0.9669\n",
      "Epoch 66/100\n",
      "2172/2172 - 2s - loss: 0.1067 - acc: 0.9701 - val_loss: 0.1383 - val_acc: 0.9628\n",
      "Epoch 67/100\n",
      "2172/2172 - 2s - loss: 0.1435 - acc: 0.9604 - val_loss: 0.1605 - val_acc: 0.9545\n",
      "Epoch 68/100\n",
      "2172/2172 - 2s - loss: 0.1316 - acc: 0.9618 - val_loss: 0.1451 - val_acc: 0.9669\n",
      "Epoch 69/100\n",
      "2172/2172 - 2s - loss: 0.1354 - acc: 0.9673 - val_loss: 0.1484 - val_acc: 0.9545\n",
      "Epoch 70/100\n",
      "2172/2172 - 2s - loss: 0.1163 - acc: 0.9687 - val_loss: 0.1382 - val_acc: 0.9628\n",
      "Epoch 71/100\n",
      "2172/2172 - 2s - loss: 0.0872 - acc: 0.9733 - val_loss: 0.1328 - val_acc: 0.9669\n",
      "Epoch 72/100\n",
      "2172/2172 - 2s - loss: 0.1129 - acc: 0.9678 - val_loss: 0.1133 - val_acc: 0.9628\n",
      "Epoch 73/100\n",
      "2172/2172 - 2s - loss: 0.1267 - acc: 0.9673 - val_loss: 0.2441 - val_acc: 0.9256\n",
      "Epoch 74/100\n",
      "2172/2172 - 2s - loss: 0.1447 - acc: 0.9613 - val_loss: 0.2101 - val_acc: 0.9463\n"
     ]
    },
    {
     "name": "stdout",
     "output_type": "stream",
     "text": [
      "Epoch 75/100\n",
      "2172/2172 - 2s - loss: 0.1173 - acc: 0.9669 - val_loss: 0.1442 - val_acc: 0.9628\n",
      "Epoch 76/100\n",
      "2172/2172 - 2s - loss: 0.0940 - acc: 0.9779 - val_loss: 0.1797 - val_acc: 0.9545\n",
      "Epoch 77/100\n",
      "2172/2172 - 2s - loss: 0.0527 - acc: 0.9853 - val_loss: 0.1408 - val_acc: 0.9711\n",
      "Epoch 78/100\n",
      "2172/2172 - 2s - loss: 0.1025 - acc: 0.9724 - val_loss: 0.0988 - val_acc: 0.9711\n",
      "Epoch 79/100\n",
      "2172/2172 - 2s - loss: 0.0845 - acc: 0.9761 - val_loss: 0.1320 - val_acc: 0.9711\n",
      "Epoch 80/100\n",
      "Restoring model weights from the end of the best epoch.\n",
      "2172/2172 - 2s - loss: 0.0620 - acc: 0.9802 - val_loss: 0.1741 - val_acc: 0.9711\n",
      "Epoch 00080: early stopping\n",
      "Train on 2172 samples, validate on 242 samples\n",
      "Epoch 1/100\n",
      "2172/2172 - 3s - loss: 1.4938 - acc: 0.5258 - val_loss: 1.4351 - val_acc: 0.4256\n",
      "Epoch 2/100\n",
      "2172/2172 - 2s - loss: 1.3420 - acc: 0.5714 - val_loss: 1.2613 - val_acc: 0.5579\n",
      "Epoch 3/100\n",
      "2172/2172 - 2s - loss: 1.2576 - acc: 0.5889 - val_loss: 1.1959 - val_acc: 0.5909\n",
      "Epoch 4/100\n",
      "2172/2172 - 2s - loss: 1.1868 - acc: 0.6123 - val_loss: 1.1655 - val_acc: 0.6240\n",
      "Epoch 5/100\n",
      "2172/2172 - 2s - loss: 1.1001 - acc: 0.6289 - val_loss: 0.8491 - val_acc: 0.6901\n",
      "Epoch 6/100\n",
      "2172/2172 - 2s - loss: 0.9758 - acc: 0.6634 - val_loss: 1.1723 - val_acc: 0.6281\n",
      "Epoch 7/100\n",
      "2172/2172 - 2s - loss: 0.9055 - acc: 0.6901 - val_loss: 0.7464 - val_acc: 0.7521\n",
      "Epoch 8/100\n",
      "2172/2172 - 2s - loss: 0.8342 - acc: 0.7099 - val_loss: 0.7666 - val_acc: 0.7149\n",
      "Epoch 9/100\n",
      "2172/2172 - 2s - loss: 0.8486 - acc: 0.7132 - val_loss: 0.9850 - val_acc: 0.7149\n",
      "Epoch 10/100\n",
      "2172/2172 - 2s - loss: 0.7767 - acc: 0.7528 - val_loss: 0.5731 - val_acc: 0.8017\n",
      "Epoch 11/100\n",
      "2172/2172 - 2s - loss: 0.6790 - acc: 0.7841 - val_loss: 0.5805 - val_acc: 0.8388\n",
      "Epoch 12/100\n",
      "2172/2172 - 2s - loss: 0.6248 - acc: 0.8016 - val_loss: 0.4655 - val_acc: 0.8636\n",
      "Epoch 13/100\n",
      "2172/2172 - 2s - loss: 0.5705 - acc: 0.8227 - val_loss: 0.4476 - val_acc: 0.8554\n",
      "Epoch 14/100\n",
      "2172/2172 - 2s - loss: 0.4931 - acc: 0.8379 - val_loss: 0.7001 - val_acc: 0.8017\n",
      "Epoch 15/100\n",
      "2172/2172 - 2s - loss: 0.5287 - acc: 0.8370 - val_loss: 0.4463 - val_acc: 0.8636\n",
      "Epoch 16/100\n",
      "2172/2172 - 2s - loss: 0.4620 - acc: 0.8494 - val_loss: 0.3027 - val_acc: 0.8926\n",
      "Epoch 17/100\n",
      "2172/2172 - 2s - loss: 0.4131 - acc: 0.8669 - val_loss: 0.3730 - val_acc: 0.8967\n",
      "Epoch 18/100\n",
      "2172/2172 - 2s - loss: 0.4491 - acc: 0.8462 - val_loss: 0.2931 - val_acc: 0.8967\n",
      "Epoch 19/100\n",
      "2172/2172 - 2s - loss: 0.3768 - acc: 0.8711 - val_loss: 0.3702 - val_acc: 0.8678\n",
      "Epoch 20/100\n",
      "2172/2172 - 2s - loss: 0.4095 - acc: 0.8692 - val_loss: 0.3226 - val_acc: 0.9050\n",
      "Epoch 21/100\n",
      "2172/2172 - 2s - loss: 0.4319 - acc: 0.8568 - val_loss: 0.2321 - val_acc: 0.9339\n",
      "Epoch 22/100\n",
      "2172/2172 - 2s - loss: 0.3583 - acc: 0.8817 - val_loss: 0.5098 - val_acc: 0.8636\n",
      "Epoch 23/100\n",
      "2172/2172 - 2s - loss: 0.3539 - acc: 0.8895 - val_loss: 0.2544 - val_acc: 0.9050\n",
      "Epoch 24/100\n",
      "2172/2172 - 2s - loss: 0.3112 - acc: 0.8941 - val_loss: 0.2320 - val_acc: 0.9339\n",
      "Epoch 25/100\n",
      "2172/2172 - 2s - loss: 0.2901 - acc: 0.9148 - val_loss: 0.2839 - val_acc: 0.9174\n",
      "Epoch 26/100\n",
      "2172/2172 - 2s - loss: 0.3275 - acc: 0.9033 - val_loss: 0.2729 - val_acc: 0.9050\n",
      "Epoch 27/100\n",
      "2172/2172 - 2s - loss: 0.2975 - acc: 0.9024 - val_loss: 0.2380 - val_acc: 0.9215\n",
      "Epoch 28/100\n",
      "2172/2172 - 2s - loss: 0.2832 - acc: 0.9098 - val_loss: 0.2163 - val_acc: 0.9339\n",
      "Epoch 29/100\n",
      "2172/2172 - 2s - loss: 0.2638 - acc: 0.9102 - val_loss: 0.2405 - val_acc: 0.9421\n",
      "Epoch 30/100\n",
      "2172/2172 - 2s - loss: 0.2680 - acc: 0.9130 - val_loss: 0.1555 - val_acc: 0.9711\n",
      "Epoch 31/100\n",
      "2172/2172 - 2s - loss: 0.2414 - acc: 0.9245 - val_loss: 0.1587 - val_acc: 0.9628\n",
      "Epoch 32/100\n",
      "2172/2172 - 2s - loss: 0.2379 - acc: 0.9250 - val_loss: 0.3553 - val_acc: 0.8967\n",
      "Epoch 33/100\n",
      "2172/2172 - 2s - loss: 0.2245 - acc: 0.9217 - val_loss: 0.1802 - val_acc: 0.9545\n",
      "Epoch 34/100\n",
      "2172/2172 - 2s - loss: 0.2121 - acc: 0.9323 - val_loss: 0.1912 - val_acc: 0.9545\n",
      "Epoch 35/100\n",
      "2172/2172 - 2s - loss: 0.2440 - acc: 0.9286 - val_loss: 0.2066 - val_acc: 0.9463\n",
      "Epoch 36/100\n",
      "2172/2172 - 2s - loss: 0.2278 - acc: 0.9236 - val_loss: 0.1696 - val_acc: 0.9628\n",
      "Epoch 37/100\n",
      "2172/2172 - 2s - loss: 0.1805 - acc: 0.9420 - val_loss: 0.2139 - val_acc: 0.9463\n",
      "Epoch 38/100\n",
      "2172/2172 - 2s - loss: 0.2263 - acc: 0.9296 - val_loss: 0.1639 - val_acc: 0.9711\n",
      "Epoch 39/100\n",
      "2172/2172 - 2s - loss: 0.2249 - acc: 0.9346 - val_loss: 0.1362 - val_acc: 0.9628\n",
      "Epoch 40/100\n",
      "2172/2172 - 2s - loss: 0.1822 - acc: 0.9443 - val_loss: 0.2977 - val_acc: 0.9091\n",
      "Epoch 41/100\n",
      "2172/2172 - 2s - loss: 0.1875 - acc: 0.9355 - val_loss: 0.2025 - val_acc: 0.9298\n",
      "Epoch 42/100\n",
      "2172/2172 - 2s - loss: 0.2256 - acc: 0.9328 - val_loss: 0.2267 - val_acc: 0.9215\n",
      "Epoch 43/100\n",
      "2172/2172 - 2s - loss: 0.1715 - acc: 0.9448 - val_loss: 0.2052 - val_acc: 0.9545\n",
      "Epoch 44/100\n",
      "2172/2172 - 2s - loss: 0.1801 - acc: 0.9411 - val_loss: 0.2209 - val_acc: 0.9339\n",
      "Epoch 45/100\n",
      "2172/2172 - 2s - loss: 0.1344 - acc: 0.9604 - val_loss: 0.1731 - val_acc: 0.9504\n",
      "Epoch 46/100\n",
      "2172/2172 - 2s - loss: 0.1662 - acc: 0.9378 - val_loss: 0.2075 - val_acc: 0.9587\n",
      "Epoch 47/100\n",
      "2172/2172 - 2s - loss: 0.2110 - acc: 0.9397 - val_loss: 0.3280 - val_acc: 0.9132\n",
      "Epoch 48/100\n",
      "2172/2172 - 2s - loss: 0.1898 - acc: 0.9429 - val_loss: 0.1594 - val_acc: 0.9463\n",
      "Epoch 49/100\n",
      "2172/2172 - 2s - loss: 0.1342 - acc: 0.9581 - val_loss: 0.1568 - val_acc: 0.9669\n",
      "Epoch 50/100\n",
      "2172/2172 - 2s - loss: 0.1414 - acc: 0.9590 - val_loss: 0.2168 - val_acc: 0.9380\n",
      "Epoch 51/100\n",
      "2172/2172 - 2s - loss: 0.1318 - acc: 0.9558 - val_loss: 0.1644 - val_acc: 0.9628\n",
      "Epoch 52/100\n",
      "2172/2172 - 2s - loss: 0.1262 - acc: 0.9595 - val_loss: 0.0843 - val_acc: 0.9793\n",
      "Epoch 53/100\n",
      "2172/2172 - 2s - loss: 0.1552 - acc: 0.9471 - val_loss: 0.1659 - val_acc: 0.9587\n",
      "Epoch 54/100\n",
      "2172/2172 - 2s - loss: 0.1614 - acc: 0.9503 - val_loss: 0.2397 - val_acc: 0.9380\n",
      "Epoch 55/100\n",
      "2172/2172 - 2s - loss: 0.1820 - acc: 0.9438 - val_loss: 0.2690 - val_acc: 0.9132\n",
      "Epoch 56/100\n",
      "2172/2172 - 2s - loss: 0.1059 - acc: 0.9692 - val_loss: 0.2216 - val_acc: 0.9463\n",
      "Epoch 57/100\n",
      "2172/2172 - 2s - loss: 0.1237 - acc: 0.9622 - val_loss: 0.1673 - val_acc: 0.9504\n",
      "Epoch 58/100\n",
      "2172/2172 - 2s - loss: 0.1212 - acc: 0.9664 - val_loss: 0.1110 - val_acc: 0.9711\n",
      "Epoch 59/100\n",
      "2172/2172 - 2s - loss: 0.1595 - acc: 0.9494 - val_loss: 0.1409 - val_acc: 0.9628\n",
      "Epoch 60/100\n",
      "2172/2172 - 2s - loss: 0.1057 - acc: 0.9655 - val_loss: 0.1116 - val_acc: 0.9752\n",
      "Epoch 61/100\n",
      "2172/2172 - 2s - loss: 0.1376 - acc: 0.9632 - val_loss: 0.1494 - val_acc: 0.9587\n",
      "Epoch 62/100\n",
      "2172/2172 - 2s - loss: 0.1106 - acc: 0.9687 - val_loss: 0.1075 - val_acc: 0.9752\n",
      "Epoch 63/100\n",
      "2172/2172 - 2s - loss: 0.0989 - acc: 0.9733 - val_loss: 0.2317 - val_acc: 0.9421\n",
      "Epoch 64/100\n",
      "2172/2172 - 2s - loss: 0.1759 - acc: 0.9480 - val_loss: 0.1060 - val_acc: 0.9835\n",
      "Epoch 65/100\n",
      "2172/2172 - 2s - loss: 0.0974 - acc: 0.9664 - val_loss: 0.0711 - val_acc: 0.9793\n",
      "Epoch 66/100\n",
      "2172/2172 - 2s - loss: 0.0856 - acc: 0.9710 - val_loss: 0.0973 - val_acc: 0.9752\n",
      "Epoch 67/100\n",
      "2172/2172 - 2s - loss: 0.1089 - acc: 0.9715 - val_loss: 0.2633 - val_acc: 0.9339\n",
      "Epoch 68/100\n",
      "2172/2172 - 2s - loss: 0.1148 - acc: 0.9655 - val_loss: 0.1040 - val_acc: 0.9711\n",
      "Epoch 69/100\n",
      "2172/2172 - 2s - loss: 0.1224 - acc: 0.9669 - val_loss: 0.0812 - val_acc: 0.9793\n",
      "Epoch 70/100\n",
      "2172/2172 - 2s - loss: 0.0932 - acc: 0.9710 - val_loss: 0.1655 - val_acc: 0.9380\n",
      "Epoch 71/100\n",
      "2172/2172 - 2s - loss: 0.0965 - acc: 0.9701 - val_loss: 0.0862 - val_acc: 0.9752\n",
      "Epoch 72/100\n",
      "2172/2172 - 2s - loss: 0.1292 - acc: 0.9733 - val_loss: 0.0640 - val_acc: 0.9835\n",
      "Epoch 73/100\n",
      "2172/2172 - 2s - loss: 0.0640 - acc: 0.9802 - val_loss: 0.1310 - val_acc: 0.9752\n",
      "Epoch 74/100\n",
      "2172/2172 - 2s - loss: 0.0864 - acc: 0.9719 - val_loss: 0.2363 - val_acc: 0.9421\n",
      "Epoch 75/100\n",
      "2172/2172 - 2s - loss: 0.0775 - acc: 0.9751 - val_loss: 0.1153 - val_acc: 0.9669\n",
      "Epoch 76/100\n",
      "2172/2172 - 2s - loss: 0.1317 - acc: 0.9636 - val_loss: 0.1187 - val_acc: 0.9752\n",
      "Epoch 77/100\n",
      "2172/2172 - 2s - loss: 0.1106 - acc: 0.9669 - val_loss: 0.2211 - val_acc: 0.9380\n",
      "Epoch 78/100\n",
      "2172/2172 - 2s - loss: 0.0654 - acc: 0.9788 - val_loss: 0.1125 - val_acc: 0.9711\n",
      "Epoch 79/100\n",
      "2172/2172 - 2s - loss: 0.0828 - acc: 0.9733 - val_loss: 0.1052 - val_acc: 0.9711\n",
      "Epoch 80/100\n",
      "2172/2172 - 2s - loss: 0.1491 - acc: 0.9669 - val_loss: 0.1211 - val_acc: 0.9669\n"
     ]
    },
    {
     "name": "stdout",
     "output_type": "stream",
     "text": [
      "Epoch 81/100\n",
      "2172/2172 - 2s - loss: 0.0559 - acc: 0.9820 - val_loss: 0.1231 - val_acc: 0.9793\n",
      "Epoch 82/100\n",
      "2172/2172 - 2s - loss: 0.0832 - acc: 0.9793 - val_loss: 0.0702 - val_acc: 0.9917\n",
      "Epoch 83/100\n",
      "2172/2172 - 2s - loss: 0.1157 - acc: 0.9715 - val_loss: 0.1333 - val_acc: 0.9711\n",
      "Epoch 84/100\n",
      "2172/2172 - 2s - loss: 0.0768 - acc: 0.9761 - val_loss: 0.2739 - val_acc: 0.9339\n",
      "Epoch 85/100\n",
      "2172/2172 - 2s - loss: 0.0796 - acc: 0.9770 - val_loss: 0.1845 - val_acc: 0.9628\n",
      "Epoch 86/100\n",
      "2172/2172 - 2s - loss: 0.0853 - acc: 0.9784 - val_loss: 0.1563 - val_acc: 0.9669\n",
      "Epoch 87/100\n",
      "2172/2172 - 2s - loss: 0.1288 - acc: 0.9669 - val_loss: 0.2706 - val_acc: 0.9339\n",
      "Epoch 88/100\n",
      "2172/2172 - 2s - loss: 0.0721 - acc: 0.9820 - val_loss: 0.0979 - val_acc: 0.9752\n",
      "Epoch 89/100\n",
      "2172/2172 - 2s - loss: 0.1121 - acc: 0.9678 - val_loss: 0.2897 - val_acc: 0.9380\n",
      "Epoch 90/100\n",
      "2172/2172 - 2s - loss: 0.0605 - acc: 0.9816 - val_loss: 0.0927 - val_acc: 0.9752\n",
      "Epoch 91/100\n",
      "2172/2172 - 2s - loss: 0.0478 - acc: 0.9839 - val_loss: 0.1148 - val_acc: 0.9752\n",
      "Epoch 92/100\n",
      "Restoring model weights from the end of the best epoch.\n",
      "2172/2172 - 2s - loss: 0.1020 - acc: 0.9788 - val_loss: 0.0796 - val_acc: 0.9752\n",
      "Epoch 00092: early stopping\n",
      "WARNING:tensorflow:Unresolved object in checkpoint: (root).optimizer.iter\n",
      "WARNING:tensorflow:Unresolved object in checkpoint: (root).optimizer.beta_1\n",
      "WARNING:tensorflow:Unresolved object in checkpoint: (root).optimizer.beta_2\n",
      "WARNING:tensorflow:Unresolved object in checkpoint: (root).optimizer.decay\n",
      "WARNING:tensorflow:Unresolved object in checkpoint: (root).optimizer.learning_rate\n",
      "WARNING:tensorflow:Unresolved object in checkpoint: (root).optimizer's state 'm' for (root).layer_with_weights-0.kernel\n",
      "WARNING:tensorflow:Unresolved object in checkpoint: (root).optimizer's state 'm' for (root).layer_with_weights-0.bias\n",
      "WARNING:tensorflow:Unresolved object in checkpoint: (root).optimizer's state 'm' for (root).layer_with_weights-1.gamma\n",
      "WARNING:tensorflow:Unresolved object in checkpoint: (root).optimizer's state 'm' for (root).layer_with_weights-1.beta\n",
      "WARNING:tensorflow:Unresolved object in checkpoint: (root).optimizer's state 'm' for (root).layer_with_weights-2.kernel\n",
      "WARNING:tensorflow:Unresolved object in checkpoint: (root).optimizer's state 'm' for (root).layer_with_weights-2.bias\n",
      "WARNING:tensorflow:Unresolved object in checkpoint: (root).optimizer's state 'm' for (root).layer_with_weights-3.gamma\n",
      "WARNING:tensorflow:Unresolved object in checkpoint: (root).optimizer's state 'm' for (root).layer_with_weights-3.beta\n",
      "WARNING:tensorflow:Unresolved object in checkpoint: (root).optimizer's state 'm' for (root).layer_with_weights-4.kernel\n",
      "WARNING:tensorflow:Unresolved object in checkpoint: (root).optimizer's state 'm' for (root).layer_with_weights-4.bias\n",
      "WARNING:tensorflow:Unresolved object in checkpoint: (root).optimizer's state 'm' for (root).layer_with_weights-5.gamma\n",
      "WARNING:tensorflow:Unresolved object in checkpoint: (root).optimizer's state 'm' for (root).layer_with_weights-5.beta\n",
      "WARNING:tensorflow:Unresolved object in checkpoint: (root).optimizer's state 'm' for (root).layer_with_weights-6.kernel\n",
      "WARNING:tensorflow:Unresolved object in checkpoint: (root).optimizer's state 'm' for (root).layer_with_weights-6.bias\n",
      "WARNING:tensorflow:Unresolved object in checkpoint: (root).optimizer's state 'm' for (root).layer_with_weights-7.gamma\n",
      "WARNING:tensorflow:Unresolved object in checkpoint: (root).optimizer's state 'm' for (root).layer_with_weights-7.beta\n",
      "WARNING:tensorflow:Unresolved object in checkpoint: (root).optimizer's state 'm' for (root).layer_with_weights-8.kernel\n",
      "WARNING:tensorflow:Unresolved object in checkpoint: (root).optimizer's state 'm' for (root).layer_with_weights-8.bias\n",
      "WARNING:tensorflow:Unresolved object in checkpoint: (root).optimizer's state 'm' for (root).layer_with_weights-9.gamma\n",
      "WARNING:tensorflow:Unresolved object in checkpoint: (root).optimizer's state 'm' for (root).layer_with_weights-9.beta\n",
      "WARNING:tensorflow:Unresolved object in checkpoint: (root).optimizer's state 'm' for (root).layer_with_weights-10.kernel\n",
      "WARNING:tensorflow:Unresolved object in checkpoint: (root).optimizer's state 'm' for (root).layer_with_weights-10.bias\n",
      "WARNING:tensorflow:Unresolved object in checkpoint: (root).optimizer's state 'm' for (root).layer_with_weights-11.gamma\n",
      "WARNING:tensorflow:Unresolved object in checkpoint: (root).optimizer's state 'm' for (root).layer_with_weights-11.beta\n",
      "WARNING:tensorflow:Unresolved object in checkpoint: (root).optimizer's state 'm' for (root).layer_with_weights-12.kernel\n",
      "WARNING:tensorflow:Unresolved object in checkpoint: (root).optimizer's state 'm' for (root).layer_with_weights-12.bias\n",
      "WARNING:tensorflow:Unresolved object in checkpoint: (root).optimizer's state 'm' for (root).layer_with_weights-13.gamma\n",
      "WARNING:tensorflow:Unresolved object in checkpoint: (root).optimizer's state 'm' for (root).layer_with_weights-13.beta\n",
      "WARNING:tensorflow:Unresolved object in checkpoint: (root).optimizer's state 'm' for (root).layer_with_weights-14.kernel\n",
      "WARNING:tensorflow:Unresolved object in checkpoint: (root).optimizer's state 'm' for (root).layer_with_weights-14.bias\n",
      "WARNING:tensorflow:Unresolved object in checkpoint: (root).optimizer's state 'v' for (root).layer_with_weights-0.kernel\n",
      "WARNING:tensorflow:Unresolved object in checkpoint: (root).optimizer's state 'v' for (root).layer_with_weights-0.bias\n",
      "WARNING:tensorflow:Unresolved object in checkpoint: (root).optimizer's state 'v' for (root).layer_with_weights-1.gamma\n",
      "WARNING:tensorflow:Unresolved object in checkpoint: (root).optimizer's state 'v' for (root).layer_with_weights-1.beta\n",
      "WARNING:tensorflow:Unresolved object in checkpoint: (root).optimizer's state 'v' for (root).layer_with_weights-2.kernel\n",
      "WARNING:tensorflow:Unresolved object in checkpoint: (root).optimizer's state 'v' for (root).layer_with_weights-2.bias\n",
      "WARNING:tensorflow:Unresolved object in checkpoint: (root).optimizer's state 'v' for (root).layer_with_weights-3.gamma\n",
      "WARNING:tensorflow:Unresolved object in checkpoint: (root).optimizer's state 'v' for (root).layer_with_weights-3.beta\n",
      "WARNING:tensorflow:Unresolved object in checkpoint: (root).optimizer's state 'v' for (root).layer_with_weights-4.kernel\n",
      "WARNING:tensorflow:Unresolved object in checkpoint: (root).optimizer's state 'v' for (root).layer_with_weights-4.bias\n",
      "WARNING:tensorflow:Unresolved object in checkpoint: (root).optimizer's state 'v' for (root).layer_with_weights-5.gamma\n",
      "WARNING:tensorflow:Unresolved object in checkpoint: (root).optimizer's state 'v' for (root).layer_with_weights-5.beta\n",
      "WARNING:tensorflow:Unresolved object in checkpoint: (root).optimizer's state 'v' for (root).layer_with_weights-6.kernel\n",
      "WARNING:tensorflow:Unresolved object in checkpoint: (root).optimizer's state 'v' for (root).layer_with_weights-6.bias\n",
      "WARNING:tensorflow:Unresolved object in checkpoint: (root).optimizer's state 'v' for (root).layer_with_weights-7.gamma\n",
      "WARNING:tensorflow:Unresolved object in checkpoint: (root).optimizer's state 'v' for (root).layer_with_weights-7.beta\n",
      "WARNING:tensorflow:Unresolved object in checkpoint: (root).optimizer's state 'v' for (root).layer_with_weights-8.kernel\n",
      "WARNING:tensorflow:Unresolved object in checkpoint: (root).optimizer's state 'v' for (root).layer_with_weights-8.bias\n",
      "WARNING:tensorflow:Unresolved object in checkpoint: (root).optimizer's state 'v' for (root).layer_with_weights-9.gamma\n",
      "WARNING:tensorflow:Unresolved object in checkpoint: (root).optimizer's state 'v' for (root).layer_with_weights-9.beta\n",
      "WARNING:tensorflow:Unresolved object in checkpoint: (root).optimizer's state 'v' for (root).layer_with_weights-10.kernel\n",
      "WARNING:tensorflow:Unresolved object in checkpoint: (root).optimizer's state 'v' for (root).layer_with_weights-10.bias\n",
      "WARNING:tensorflow:Unresolved object in checkpoint: (root).optimizer's state 'v' for (root).layer_with_weights-11.gamma\n",
      "WARNING:tensorflow:Unresolved object in checkpoint: (root).optimizer's state 'v' for (root).layer_with_weights-11.beta\n",
      "WARNING:tensorflow:Unresolved object in checkpoint: (root).optimizer's state 'v' for (root).layer_with_weights-12.kernel\n",
      "WARNING:tensorflow:Unresolved object in checkpoint: (root).optimizer's state 'v' for (root).layer_with_weights-12.bias\n"
     ]
    },
    {
     "name": "stdout",
     "output_type": "stream",
     "text": [
      "WARNING:tensorflow:Unresolved object in checkpoint: (root).optimizer's state 'v' for (root).layer_with_weights-13.gamma\n",
      "WARNING:tensorflow:Unresolved object in checkpoint: (root).optimizer's state 'v' for (root).layer_with_weights-13.beta\n",
      "WARNING:tensorflow:Unresolved object in checkpoint: (root).optimizer's state 'v' for (root).layer_with_weights-14.kernel\n",
      "WARNING:tensorflow:Unresolved object in checkpoint: (root).optimizer's state 'v' for (root).layer_with_weights-14.bias\n",
      "WARNING:tensorflow:A checkpoint was restored (e.g. tf.train.Checkpoint.restore or tf.keras.Model.load_weights) but not all checkpointed values were used. See above for specific issues. Use expect_partial() on the load status object, e.g. tf.train.Checkpoint.restore(...).expect_partial(), to silence these warnings, or use assert_consumed() to make the check explicit. See https://www.tensorflow.org/alpha/guide/checkpoints#loading_mechanics for details.\n",
      "Train on 2173 samples, validate on 242 samples\n",
      "Epoch 1/100\n",
      "2173/2173 - 3s - loss: 1.5435 - acc: 0.4988 - val_loss: 1.4403 - val_acc: 0.4711\n",
      "Epoch 2/100\n",
      "2173/2173 - 2s - loss: 1.3053 - acc: 0.5757 - val_loss: 1.3660 - val_acc: 0.5620\n",
      "Epoch 3/100\n",
      "2173/2173 - 2s - loss: 1.2464 - acc: 0.5886 - val_loss: 1.1401 - val_acc: 0.5992\n",
      "Epoch 4/100\n",
      "2173/2173 - 2s - loss: 1.1420 - acc: 0.6203 - val_loss: 1.0807 - val_acc: 0.6240\n",
      "Epoch 5/100\n",
      "2173/2173 - 2s - loss: 1.0232 - acc: 0.6521 - val_loss: 1.1103 - val_acc: 0.6777\n",
      "Epoch 6/100\n",
      "2173/2173 - 2s - loss: 0.9657 - acc: 0.6608 - val_loss: 0.8663 - val_acc: 0.7066\n",
      "Epoch 7/100\n",
      "2173/2173 - 2s - loss: 0.9232 - acc: 0.6852 - val_loss: 0.8255 - val_acc: 0.7314\n",
      "Epoch 8/100\n",
      "2173/2173 - 2s - loss: 0.8798 - acc: 0.6903 - val_loss: 0.8048 - val_acc: 0.7521\n",
      "Epoch 9/100\n",
      "2173/2173 - 2s - loss: 0.8189 - acc: 0.7105 - val_loss: 0.7196 - val_acc: 0.7603\n",
      "Epoch 10/100\n",
      "2173/2173 - 2s - loss: 0.7661 - acc: 0.7533 - val_loss: 0.5570 - val_acc: 0.8140\n",
      "Epoch 11/100\n",
      "2173/2173 - 2s - loss: 0.6594 - acc: 0.7874 - val_loss: 0.6476 - val_acc: 0.8099\n",
      "Epoch 12/100\n",
      "2173/2173 - 2s - loss: 0.6999 - acc: 0.7763 - val_loss: 0.5485 - val_acc: 0.8306\n",
      "Epoch 13/100\n",
      "2173/2173 - 2s - loss: 0.6487 - acc: 0.7883 - val_loss: 0.6886 - val_acc: 0.7934\n",
      "Epoch 14/100\n",
      "2173/2173 - 2s - loss: 0.5620 - acc: 0.8205 - val_loss: 0.4895 - val_acc: 0.8430\n",
      "Epoch 15/100\n",
      "2173/2173 - 2s - loss: 0.5527 - acc: 0.8233 - val_loss: 0.4876 - val_acc: 0.8430\n",
      "Epoch 16/100\n",
      "2173/2173 - 2s - loss: 0.5098 - acc: 0.8279 - val_loss: 0.5720 - val_acc: 0.7975\n",
      "Epoch 17/100\n",
      "2173/2173 - 2s - loss: 0.5110 - acc: 0.8403 - val_loss: 0.5001 - val_acc: 0.8347\n",
      "Epoch 18/100\n",
      "2173/2173 - 2s - loss: 0.4441 - acc: 0.8550 - val_loss: 0.3881 - val_acc: 0.8678\n",
      "Epoch 19/100\n",
      "2173/2173 - 2s - loss: 0.4427 - acc: 0.8583 - val_loss: 0.3072 - val_acc: 0.8926\n",
      "Epoch 20/100\n",
      "2173/2173 - 2s - loss: 0.4509 - acc: 0.8661 - val_loss: 0.3028 - val_acc: 0.8926\n",
      "Epoch 21/100\n",
      "2173/2173 - 2s - loss: 0.4106 - acc: 0.8702 - val_loss: 0.3339 - val_acc: 0.9008\n",
      "Epoch 22/100\n",
      "2173/2173 - 2s - loss: 0.3602 - acc: 0.8896 - val_loss: 0.3741 - val_acc: 0.8760\n",
      "Epoch 23/100\n",
      "2173/2173 - 2s - loss: 0.3308 - acc: 0.8882 - val_loss: 0.2543 - val_acc: 0.9174\n",
      "Epoch 24/100\n",
      "2173/2173 - 2s - loss: 0.3858 - acc: 0.8780 - val_loss: 0.4595 - val_acc: 0.8223\n",
      "Epoch 25/100\n",
      "2173/2173 - 2s - loss: 0.3381 - acc: 0.8905 - val_loss: 0.2704 - val_acc: 0.8926\n",
      "Epoch 26/100\n",
      "2173/2173 - 2s - loss: 0.3605 - acc: 0.8859 - val_loss: 1.0385 - val_acc: 0.7397\n",
      "Epoch 27/100\n",
      "2173/2173 - 2s - loss: 0.3305 - acc: 0.8978 - val_loss: 0.2892 - val_acc: 0.9008\n",
      "Epoch 28/100\n",
      "2173/2173 - 2s - loss: 0.2873 - acc: 0.9080 - val_loss: 0.2535 - val_acc: 0.8926\n",
      "Epoch 29/100\n",
      "2173/2173 - 2s - loss: 0.2912 - acc: 0.9075 - val_loss: 0.3605 - val_acc: 0.8802\n",
      "Epoch 30/100\n",
      "2173/2173 - 2s - loss: 0.3088 - acc: 0.8997 - val_loss: 0.1884 - val_acc: 0.9215\n",
      "Epoch 31/100\n",
      "2173/2173 - 2s - loss: 0.2804 - acc: 0.9015 - val_loss: 0.1815 - val_acc: 0.9545\n",
      "Epoch 32/100\n",
      "2173/2173 - 2s - loss: 0.2549 - acc: 0.9250 - val_loss: 0.1520 - val_acc: 0.9545\n",
      "Epoch 33/100\n",
      "2173/2173 - 2s - loss: 0.2915 - acc: 0.9126 - val_loss: 0.1755 - val_acc: 0.9504\n",
      "Epoch 34/100\n",
      "2173/2173 - 2s - loss: 0.2245 - acc: 0.9259 - val_loss: 0.2936 - val_acc: 0.9215\n",
      "Epoch 35/100\n",
      "2173/2173 - 2s - loss: 0.2428 - acc: 0.9167 - val_loss: 0.2956 - val_acc: 0.9091\n",
      "Epoch 36/100\n",
      "2173/2173 - 2s - loss: 0.2484 - acc: 0.9231 - val_loss: 0.2516 - val_acc: 0.9256\n",
      "Epoch 37/100\n",
      "2173/2173 - 2s - loss: 0.2170 - acc: 0.9231 - val_loss: 0.2149 - val_acc: 0.9421\n",
      "Epoch 38/100\n",
      "2173/2173 - 2s - loss: 0.2124 - acc: 0.9301 - val_loss: 0.3156 - val_acc: 0.8926\n",
      "Epoch 39/100\n",
      "2173/2173 - 2s - loss: 0.2072 - acc: 0.9342 - val_loss: 0.1913 - val_acc: 0.9298\n",
      "Epoch 40/100\n",
      "2173/2173 - 2s - loss: 0.1804 - acc: 0.9370 - val_loss: 0.1646 - val_acc: 0.9545\n",
      "Epoch 41/100\n",
      "2173/2173 - 2s - loss: 0.2959 - acc: 0.9273 - val_loss: 0.1618 - val_acc: 0.9545\n",
      "Epoch 42/100\n",
      "2173/2173 - 2s - loss: 0.2009 - acc: 0.9342 - val_loss: 0.3207 - val_acc: 0.9050\n",
      "Epoch 43/100\n",
      "2173/2173 - 2s - loss: 0.1998 - acc: 0.9351 - val_loss: 0.1182 - val_acc: 0.9628\n",
      "Epoch 44/100\n",
      "2173/2173 - 2s - loss: 0.1622 - acc: 0.9439 - val_loss: 0.1565 - val_acc: 0.9545\n",
      "Epoch 45/100\n",
      "2173/2173 - 2s - loss: 0.2154 - acc: 0.9434 - val_loss: 0.1309 - val_acc: 0.9669\n",
      "Epoch 46/100\n",
      "2173/2173 - 2s - loss: 0.1640 - acc: 0.9480 - val_loss: 0.1573 - val_acc: 0.9587\n",
      "Epoch 47/100\n",
      "2173/2173 - 2s - loss: 0.1800 - acc: 0.9416 - val_loss: 0.1681 - val_acc: 0.9380\n",
      "Epoch 48/100\n",
      "2173/2173 - 2s - loss: 0.2036 - acc: 0.9411 - val_loss: 0.1849 - val_acc: 0.9380\n",
      "Epoch 49/100\n",
      "2173/2173 - 2s - loss: 0.1499 - acc: 0.9531 - val_loss: 0.1665 - val_acc: 0.9339\n",
      "Epoch 50/100\n",
      "2173/2173 - 2s - loss: 0.1233 - acc: 0.9590 - val_loss: 0.1828 - val_acc: 0.9463\n",
      "Epoch 51/100\n",
      "2173/2173 - 2s - loss: 0.2027 - acc: 0.9416 - val_loss: 0.1770 - val_acc: 0.9463\n",
      "Epoch 52/100\n",
      "2173/2173 - 2s - loss: 0.1393 - acc: 0.9549 - val_loss: 0.2049 - val_acc: 0.9380\n",
      "Epoch 53/100\n",
      "2173/2173 - 2s - loss: 0.1373 - acc: 0.9554 - val_loss: 0.1260 - val_acc: 0.9669\n",
      "Epoch 54/100\n",
      "2173/2173 - 2s - loss: 0.1434 - acc: 0.9586 - val_loss: 0.1339 - val_acc: 0.9628\n",
      "Epoch 55/100\n",
      "2173/2173 - 2s - loss: 0.1741 - acc: 0.9517 - val_loss: 0.1825 - val_acc: 0.9504\n",
      "Epoch 56/100\n",
      "2173/2173 - 2s - loss: 0.1399 - acc: 0.9521 - val_loss: 0.1200 - val_acc: 0.9587\n",
      "Epoch 57/100\n",
      "2173/2173 - 2s - loss: 0.1843 - acc: 0.9577 - val_loss: 0.2736 - val_acc: 0.9298\n",
      "Epoch 58/100\n",
      "2173/2173 - 2s - loss: 0.1416 - acc: 0.9572 - val_loss: 0.1503 - val_acc: 0.9504\n",
      "Epoch 59/100\n",
      "2173/2173 - 2s - loss: 0.1235 - acc: 0.9632 - val_loss: 0.1989 - val_acc: 0.9545\n",
      "Epoch 60/100\n",
      "2173/2173 - 2s - loss: 0.1327 - acc: 0.9563 - val_loss: 0.1315 - val_acc: 0.9587\n",
      "Epoch 61/100\n",
      "2173/2173 - 2s - loss: 0.1986 - acc: 0.9489 - val_loss: 0.3627 - val_acc: 0.9008\n",
      "Epoch 62/100\n",
      "2173/2173 - 2s - loss: 0.1517 - acc: 0.9503 - val_loss: 0.1877 - val_acc: 0.9298\n",
      "Epoch 63/100\n",
      "2173/2173 - 2s - loss: 0.1019 - acc: 0.9673 - val_loss: 0.1027 - val_acc: 0.9793\n",
      "Epoch 64/100\n",
      "2173/2173 - 2s - loss: 0.1195 - acc: 0.9655 - val_loss: 0.1245 - val_acc: 0.9545\n",
      "Epoch 65/100\n",
      "2173/2173 - 2s - loss: 0.1066 - acc: 0.9682 - val_loss: 0.0966 - val_acc: 0.9752\n",
      "Epoch 66/100\n",
      "2173/2173 - 2s - loss: 0.0969 - acc: 0.9692 - val_loss: 0.2321 - val_acc: 0.9504\n",
      "Epoch 67/100\n",
      "2173/2173 - 2s - loss: 0.1074 - acc: 0.9678 - val_loss: 0.1633 - val_acc: 0.9587\n",
      "Epoch 68/100\n",
      "2173/2173 - 2s - loss: 0.1058 - acc: 0.9664 - val_loss: 0.1229 - val_acc: 0.9587\n",
      "Epoch 69/100\n",
      "2173/2173 - 2s - loss: 0.2336 - acc: 0.9526 - val_loss: 0.1711 - val_acc: 0.9504\n",
      "Epoch 70/100\n",
      "2173/2173 - 2s - loss: 0.1091 - acc: 0.9682 - val_loss: 0.1893 - val_acc: 0.9463\n",
      "Epoch 71/100\n",
      "2173/2173 - 2s - loss: 0.0906 - acc: 0.9747 - val_loss: 0.1302 - val_acc: 0.9752\n",
      "Epoch 72/100\n",
      "2173/2173 - 2s - loss: 0.0884 - acc: 0.9802 - val_loss: 0.1690 - val_acc: 0.9504\n",
      "Epoch 73/100\n",
      "2173/2173 - 2s - loss: 0.0833 - acc: 0.9719 - val_loss: 0.1916 - val_acc: 0.9504\n",
      "Epoch 74/100\n",
      "2173/2173 - 2s - loss: 0.1146 - acc: 0.9710 - val_loss: 0.2058 - val_acc: 0.9463\n",
      "Epoch 75/100\n",
      "2173/2173 - 2s - loss: 0.0845 - acc: 0.9765 - val_loss: 0.1714 - val_acc: 0.9587\n",
      "Epoch 76/100\n",
      "2173/2173 - 2s - loss: 0.1027 - acc: 0.9687 - val_loss: 0.1510 - val_acc: 0.9669\n",
      "Epoch 77/100\n",
      "2173/2173 - 2s - loss: 0.1167 - acc: 0.9659 - val_loss: 0.1376 - val_acc: 0.9545\n"
     ]
    },
    {
     "name": "stdout",
     "output_type": "stream",
     "text": [
      "Epoch 78/100\n",
      "2173/2173 - 2s - loss: 0.0734 - acc: 0.9765 - val_loss: 0.1503 - val_acc: 0.9628\n",
      "Epoch 79/100\n",
      "2173/2173 - 2s - loss: 0.0799 - acc: 0.9765 - val_loss: 0.2298 - val_acc: 0.9215\n",
      "Epoch 80/100\n",
      "2173/2173 - 2s - loss: 0.1004 - acc: 0.9719 - val_loss: 0.0894 - val_acc: 0.9628\n",
      "Epoch 81/100\n",
      "2173/2173 - 2s - loss: 0.1233 - acc: 0.9673 - val_loss: 0.1021 - val_acc: 0.9628\n",
      "Epoch 82/100\n",
      "2173/2173 - 2s - loss: 0.1223 - acc: 0.9604 - val_loss: 0.1372 - val_acc: 0.9628\n",
      "Epoch 83/100\n",
      "2173/2173 - 2s - loss: 0.1262 - acc: 0.9659 - val_loss: 0.7653 - val_acc: 0.7603\n",
      "Epoch 84/100\n",
      "2173/2173 - 2s - loss: 0.1198 - acc: 0.9682 - val_loss: 0.1656 - val_acc: 0.9628\n",
      "Epoch 85/100\n",
      "2173/2173 - 2s - loss: 0.0577 - acc: 0.9830 - val_loss: 0.1082 - val_acc: 0.9628\n",
      "Epoch 86/100\n",
      "2173/2173 - 2s - loss: 0.0981 - acc: 0.9765 - val_loss: 0.1816 - val_acc: 0.9587\n",
      "Epoch 87/100\n",
      "2173/2173 - 2s - loss: 0.0877 - acc: 0.9788 - val_loss: 0.1113 - val_acc: 0.9711\n",
      "Epoch 88/100\n",
      "2173/2173 - 2s - loss: 0.0957 - acc: 0.9742 - val_loss: 0.1421 - val_acc: 0.9587\n",
      "Epoch 89/100\n",
      "2173/2173 - 2s - loss: 0.0835 - acc: 0.9802 - val_loss: 0.1431 - val_acc: 0.9669\n",
      "Epoch 90/100\n",
      "2173/2173 - 2s - loss: 0.0920 - acc: 0.9719 - val_loss: 0.1633 - val_acc: 0.9628\n",
      "Epoch 91/100\n",
      "2173/2173 - 2s - loss: 0.0862 - acc: 0.9765 - val_loss: 0.1132 - val_acc: 0.9711\n",
      "Epoch 92/100\n",
      "2173/2173 - 2s - loss: 0.0719 - acc: 0.9816 - val_loss: 0.1600 - val_acc: 0.9504\n",
      "Epoch 93/100\n",
      "2173/2173 - 2s - loss: 0.0667 - acc: 0.9802 - val_loss: 0.1316 - val_acc: 0.9669\n",
      "Epoch 94/100\n",
      "2173/2173 - 2s - loss: 0.0590 - acc: 0.9807 - val_loss: 0.1853 - val_acc: 0.9711\n",
      "Epoch 95/100\n",
      "2173/2173 - 2s - loss: 0.0911 - acc: 0.9807 - val_loss: 0.1291 - val_acc: 0.9628\n",
      "Epoch 96/100\n",
      "2173/2173 - 2s - loss: 0.0792 - acc: 0.9728 - val_loss: 0.1107 - val_acc: 0.9752\n",
      "Epoch 97/100\n",
      "2173/2173 - 2s - loss: 0.0825 - acc: 0.9738 - val_loss: 0.1162 - val_acc: 0.9669\n",
      "Epoch 98/100\n",
      "2173/2173 - 2s - loss: 0.0844 - acc: 0.9793 - val_loss: 0.1388 - val_acc: 0.9545\n",
      "Epoch 99/100\n",
      "2173/2173 - 2s - loss: 0.0581 - acc: 0.9825 - val_loss: 0.1777 - val_acc: 0.9545\n",
      "Epoch 100/100\n",
      "Restoring model weights from the end of the best epoch.\n",
      "2173/2173 - 2s - loss: 0.1047 - acc: 0.9701 - val_loss: 0.1519 - val_acc: 0.9587\n",
      "Epoch 00100: early stopping\n",
      "Train on 2173 samples, validate on 242 samples\n",
      "Epoch 1/100\n",
      "2173/2173 - 3s - loss: 1.4743 - acc: 0.5214 - val_loss: 1.2991 - val_acc: 0.5661\n",
      "Epoch 2/100\n",
      "2173/2173 - 2s - loss: 1.3143 - acc: 0.5647 - val_loss: 1.2579 - val_acc: 0.5620\n",
      "Epoch 3/100\n",
      "2173/2173 - 2s - loss: 1.2118 - acc: 0.6042 - val_loss: 1.0990 - val_acc: 0.6116\n",
      "Epoch 4/100\n",
      "2173/2173 - 2s - loss: 1.0863 - acc: 0.6351 - val_loss: 0.9582 - val_acc: 0.6405\n",
      "Epoch 5/100\n",
      "2173/2173 - 2s - loss: 0.9778 - acc: 0.6613 - val_loss: 1.2842 - val_acc: 0.6818\n",
      "Epoch 6/100\n",
      "2173/2173 - 2s - loss: 0.9337 - acc: 0.6815 - val_loss: 0.7506 - val_acc: 0.7521\n",
      "Epoch 7/100\n",
      "2173/2173 - 2s - loss: 0.8536 - acc: 0.7078 - val_loss: 0.7196 - val_acc: 0.7603\n",
      "Epoch 8/100\n",
      "2173/2173 - 2s - loss: 0.8148 - acc: 0.7271 - val_loss: 0.8056 - val_acc: 0.6942\n",
      "Epoch 9/100\n",
      "2173/2173 - 2s - loss: 0.7727 - acc: 0.7474 - val_loss: 0.6566 - val_acc: 0.7810\n",
      "Epoch 10/100\n",
      "2173/2173 - 2s - loss: 0.6748 - acc: 0.7773 - val_loss: 1.1368 - val_acc: 0.6446\n",
      "Epoch 11/100\n",
      "2173/2173 - 2s - loss: 0.6009 - acc: 0.8044 - val_loss: 0.6803 - val_acc: 0.7893\n",
      "Epoch 12/100\n",
      "2173/2173 - 2s - loss: 0.6041 - acc: 0.8076 - val_loss: 0.4518 - val_acc: 0.8512\n",
      "Epoch 13/100\n",
      "2173/2173 - 2s - loss: 0.5264 - acc: 0.8316 - val_loss: 0.4059 - val_acc: 0.8636\n",
      "Epoch 14/100\n",
      "2173/2173 - 2s - loss: 0.4935 - acc: 0.8435 - val_loss: 0.6117 - val_acc: 0.7727\n",
      "Epoch 15/100\n",
      "2173/2173 - 2s - loss: 0.5070 - acc: 0.8412 - val_loss: 0.4325 - val_acc: 0.8636\n",
      "Epoch 16/100\n",
      "2173/2173 - 2s - loss: 0.4574 - acc: 0.8504 - val_loss: 0.4797 - val_acc: 0.8347\n",
      "Epoch 17/100\n",
      "2173/2173 - 2s - loss: 0.4303 - acc: 0.8652 - val_loss: 0.3492 - val_acc: 0.8595\n",
      "Epoch 18/100\n",
      "2173/2173 - 2s - loss: 0.4179 - acc: 0.8665 - val_loss: 0.2956 - val_acc: 0.9008\n",
      "Epoch 19/100\n",
      "2173/2173 - 2s - loss: 0.4067 - acc: 0.8716 - val_loss: 0.4707 - val_acc: 0.8347\n",
      "Epoch 20/100\n",
      "2173/2173 - 2s - loss: 0.3525 - acc: 0.8896 - val_loss: 0.2786 - val_acc: 0.8926\n",
      "Epoch 21/100\n",
      "2173/2173 - 2s - loss: 0.3750 - acc: 0.8863 - val_loss: 0.3641 - val_acc: 0.8636\n",
      "Epoch 22/100\n",
      "2173/2173 - 2s - loss: 0.3239 - acc: 0.8978 - val_loss: 0.2772 - val_acc: 0.9091\n",
      "Epoch 23/100\n",
      "2173/2173 - 2s - loss: 0.3182 - acc: 0.9057 - val_loss: 0.5079 - val_acc: 0.8471\n",
      "Epoch 24/100\n",
      "2173/2173 - 2s - loss: 0.3371 - acc: 0.8886 - val_loss: 0.4123 - val_acc: 0.8760\n",
      "Epoch 25/100\n",
      "2173/2173 - 2s - loss: 0.3232 - acc: 0.8997 - val_loss: 0.2991 - val_acc: 0.8926\n",
      "Epoch 26/100\n",
      "2173/2173 - 2s - loss: 0.2624 - acc: 0.9218 - val_loss: 0.2205 - val_acc: 0.9256\n",
      "Epoch 27/100\n",
      "2173/2173 - 2s - loss: 0.3231 - acc: 0.8988 - val_loss: 0.2516 - val_acc: 0.9091\n",
      "Epoch 28/100\n",
      "2173/2173 - 2s - loss: 0.2354 - acc: 0.9208 - val_loss: 0.1457 - val_acc: 0.9421\n",
      "Epoch 29/100\n",
      "2173/2173 - 2s - loss: 0.2806 - acc: 0.9116 - val_loss: 0.2956 - val_acc: 0.8760\n",
      "Epoch 30/100\n",
      "2173/2173 - 2s - loss: 0.2432 - acc: 0.9204 - val_loss: 0.1975 - val_acc: 0.9380\n",
      "Epoch 31/100\n",
      "2173/2173 - 2s - loss: 0.2358 - acc: 0.9195 - val_loss: 0.1631 - val_acc: 0.9504\n",
      "Epoch 32/100\n",
      "2173/2173 - 2s - loss: 0.2491 - acc: 0.9264 - val_loss: 0.2488 - val_acc: 0.9174\n",
      "Epoch 33/100\n",
      "2173/2173 - 2s - loss: 0.2014 - acc: 0.9342 - val_loss: 0.1677 - val_acc: 0.9545\n",
      "Epoch 34/100\n",
      "2173/2173 - 2s - loss: 0.2063 - acc: 0.9365 - val_loss: 0.1870 - val_acc: 0.9504\n",
      "Epoch 35/100\n",
      "2173/2173 - 2s - loss: 0.1673 - acc: 0.9508 - val_loss: 0.2420 - val_acc: 0.9215\n",
      "Epoch 36/100\n",
      "2173/2173 - 2s - loss: 0.2231 - acc: 0.9273 - val_loss: 0.1671 - val_acc: 0.9380\n",
      "Epoch 37/100\n",
      "2173/2173 - 2s - loss: 0.1729 - acc: 0.9462 - val_loss: 0.1706 - val_acc: 0.9587\n",
      "Epoch 38/100\n",
      "2173/2173 - 2s - loss: 0.2512 - acc: 0.9268 - val_loss: 0.1751 - val_acc: 0.9545\n",
      "Epoch 39/100\n",
      "2173/2173 - 2s - loss: 0.2168 - acc: 0.9342 - val_loss: 0.1856 - val_acc: 0.9587\n",
      "Epoch 40/100\n",
      "2173/2173 - 2s - loss: 0.1774 - acc: 0.9434 - val_loss: 0.2618 - val_acc: 0.9256\n",
      "Epoch 41/100\n",
      "2173/2173 - 2s - loss: 0.1752 - acc: 0.9452 - val_loss: 0.1739 - val_acc: 0.9463\n",
      "Epoch 42/100\n",
      "2173/2173 - 2s - loss: 0.1518 - acc: 0.9567 - val_loss: 0.1625 - val_acc: 0.9504\n",
      "Epoch 43/100\n",
      "2173/2173 - 2s - loss: 0.1368 - acc: 0.9572 - val_loss: 0.2817 - val_acc: 0.9174\n",
      "Epoch 44/100\n",
      "2173/2173 - 2s - loss: 0.1791 - acc: 0.9434 - val_loss: 0.1318 - val_acc: 0.9628\n",
      "Epoch 45/100\n",
      "2173/2173 - 2s - loss: 0.1711 - acc: 0.9443 - val_loss: 0.1298 - val_acc: 0.9628\n",
      "Epoch 46/100\n",
      "2173/2173 - 2s - loss: 0.2012 - acc: 0.9429 - val_loss: 0.1211 - val_acc: 0.9669\n",
      "Epoch 47/100\n",
      "2173/2173 - 2s - loss: 0.1684 - acc: 0.9531 - val_loss: 0.1441 - val_acc: 0.9711\n",
      "Epoch 48/100\n",
      "2173/2173 - 2s - loss: 0.1361 - acc: 0.9604 - val_loss: 0.1383 - val_acc: 0.9628\n",
      "Epoch 49/100\n",
      "2173/2173 - 2s - loss: 0.1543 - acc: 0.9531 - val_loss: 0.2863 - val_acc: 0.9215\n",
      "Epoch 50/100\n",
      "2173/2173 - 2s - loss: 0.1389 - acc: 0.9632 - val_loss: 0.1886 - val_acc: 0.9587\n",
      "Epoch 51/100\n",
      "2173/2173 - 2s - loss: 0.1423 - acc: 0.9549 - val_loss: 0.1945 - val_acc: 0.9421\n",
      "Epoch 52/100\n",
      "2173/2173 - 2s - loss: 0.1427 - acc: 0.9586 - val_loss: 0.1654 - val_acc: 0.9628\n",
      "Epoch 53/100\n",
      "2173/2173 - 2s - loss: 0.1236 - acc: 0.9595 - val_loss: 0.1608 - val_acc: 0.9504\n",
      "Epoch 54/100\n",
      "2173/2173 - 2s - loss: 0.1560 - acc: 0.9554 - val_loss: 0.1912 - val_acc: 0.9463\n",
      "Epoch 55/100\n",
      "2173/2173 - 2s - loss: 0.0932 - acc: 0.9742 - val_loss: 0.1712 - val_acc: 0.9463\n",
      "Epoch 56/100\n",
      "2173/2173 - 2s - loss: 0.1166 - acc: 0.9650 - val_loss: 0.1444 - val_acc: 0.9628\n",
      "Epoch 57/100\n",
      "2173/2173 - 2s - loss: 0.1582 - acc: 0.9572 - val_loss: 0.1620 - val_acc: 0.9545\n",
      "Epoch 58/100\n",
      "2173/2173 - 2s - loss: 0.1258 - acc: 0.9627 - val_loss: 0.1764 - val_acc: 0.9545\n",
      "Epoch 59/100\n",
      "2173/2173 - 2s - loss: 0.0962 - acc: 0.9710 - val_loss: 0.1608 - val_acc: 0.9587\n",
      "Epoch 60/100\n",
      "2173/2173 - 2s - loss: 0.1487 - acc: 0.9623 - val_loss: 0.2876 - val_acc: 0.9132\n",
      "Epoch 61/100\n",
      "2173/2173 - 2s - loss: 0.1249 - acc: 0.9636 - val_loss: 0.1789 - val_acc: 0.9545\n",
      "Epoch 62/100\n",
      "2173/2173 - 2s - loss: 0.1723 - acc: 0.9494 - val_loss: 0.1621 - val_acc: 0.9545\n",
      "Epoch 63/100\n",
      "2173/2173 - 2s - loss: 0.1070 - acc: 0.9724 - val_loss: 0.1609 - val_acc: 0.9628\n"
     ]
    },
    {
     "name": "stdout",
     "output_type": "stream",
     "text": [
      "Epoch 64/100\n",
      "2173/2173 - 2s - loss: 0.1289 - acc: 0.9692 - val_loss: 0.1292 - val_acc: 0.9545\n",
      "Epoch 65/100\n",
      "2173/2173 - 2s - loss: 0.1329 - acc: 0.9600 - val_loss: 0.1052 - val_acc: 0.9628\n",
      "Epoch 66/100\n",
      "2173/2173 - 2s - loss: 0.0809 - acc: 0.9751 - val_loss: 0.1331 - val_acc: 0.9711\n",
      "Epoch 67/100\n",
      "2173/2173 - 2s - loss: 0.0966 - acc: 0.9719 - val_loss: 0.1787 - val_acc: 0.9504\n",
      "Epoch 68/100\n",
      "2173/2173 - 2s - loss: 0.1067 - acc: 0.9724 - val_loss: 0.1360 - val_acc: 0.9545\n",
      "Epoch 69/100\n",
      "2173/2173 - 2s - loss: 0.0993 - acc: 0.9701 - val_loss: 0.1414 - val_acc: 0.9463\n",
      "Epoch 70/100\n",
      "2173/2173 - 2s - loss: 0.1056 - acc: 0.9669 - val_loss: 0.1665 - val_acc: 0.9463\n",
      "Epoch 71/100\n",
      "2173/2173 - 2s - loss: 0.0991 - acc: 0.9701 - val_loss: 0.1285 - val_acc: 0.9628\n",
      "Epoch 72/100\n",
      "2173/2173 - 2s - loss: 0.0838 - acc: 0.9710 - val_loss: 0.3350 - val_acc: 0.9091\n",
      "Epoch 73/100\n",
      "2173/2173 - 2s - loss: 0.0961 - acc: 0.9673 - val_loss: 0.2484 - val_acc: 0.9256\n",
      "Epoch 74/100\n",
      "2173/2173 - 2s - loss: 0.1421 - acc: 0.9636 - val_loss: 0.1402 - val_acc: 0.9587\n",
      "Epoch 75/100\n",
      "2173/2173 - 2s - loss: 0.1242 - acc: 0.9669 - val_loss: 0.1357 - val_acc: 0.9628\n",
      "Epoch 76/100\n",
      "2173/2173 - 2s - loss: 0.1176 - acc: 0.9788 - val_loss: 0.1332 - val_acc: 0.9545\n",
      "Epoch 77/100\n",
      "2173/2173 - 2s - loss: 0.1213 - acc: 0.9705 - val_loss: 0.1407 - val_acc: 0.9628\n",
      "Epoch 78/100\n",
      "2173/2173 - 2s - loss: 0.0806 - acc: 0.9761 - val_loss: 0.1485 - val_acc: 0.9669\n",
      "Epoch 79/100\n",
      "2173/2173 - 2s - loss: 0.0909 - acc: 0.9761 - val_loss: 0.2511 - val_acc: 0.9174\n",
      "Epoch 80/100\n",
      "2173/2173 - 2s - loss: 0.0765 - acc: 0.9779 - val_loss: 0.1116 - val_acc: 0.9711\n",
      "Epoch 81/100\n",
      "2173/2173 - 2s - loss: 0.1204 - acc: 0.9664 - val_loss: 0.1093 - val_acc: 0.9752\n",
      "Epoch 82/100\n",
      "2173/2173 - 2s - loss: 0.0978 - acc: 0.9682 - val_loss: 0.2074 - val_acc: 0.9421\n",
      "Epoch 83/100\n",
      "2173/2173 - 2s - loss: 0.0622 - acc: 0.9830 - val_loss: 0.2018 - val_acc: 0.9504\n",
      "Epoch 84/100\n",
      "2173/2173 - 2s - loss: 0.0496 - acc: 0.9834 - val_loss: 0.1813 - val_acc: 0.9339\n",
      "Epoch 85/100\n",
      "Restoring model weights from the end of the best epoch.\n",
      "2173/2173 - 2s - loss: 0.0994 - acc: 0.9696 - val_loss: 0.1232 - val_acc: 0.9669\n",
      "Epoch 00085: early stopping\n"
     ]
    }
   ],
   "source": [
    "from sklearn.metrics import precision_recall_fscore_support\n",
    "from sklearn.model_selection import StratifiedKFold\n",
    "from sklearn.metrics import accuracy_score, precision_score, recall_score, f1_score, roc_auc_score, roc_curve, auc, precision_recall_curve\n",
    "from sklearn.metrics import confusion_matrix\n",
    "\n",
    "all_base_precision = list()\n",
    "all_base_recall = list()\n",
    "all_macro_precision = list()\n",
    "all_macro_recall = list()\n",
    "all_f1 = list()\n",
    "all_macro_f1 = list()\n",
    "\n",
    "\n",
    "all_tpr = list()\n",
    "all_fpr = list()\n",
    "all_precision = list()\n",
    "all_recall = list()\n",
    "all_cm=list()\n",
    "all_accuracy = list()\n",
    "\n",
    "\n",
    "n_split=5\n",
    "n_classes=8\n",
    "\n",
    "y_all_labelled=[]\n",
    "for i in range(len(Y_all)):\n",
    "        y_all_labelled.append(np.argmax(Y_all[i]))\n",
    "        \n",
    "my_callbacks = [tf.keras.callbacks.EarlyStopping(monitor='val_loss',patience=20,verbose=1, mode='min',restore_best_weights=True)]\n",
    "       \n",
    "for train_index,test_index in StratifiedKFold(n_split, shuffle=True, random_state=123).split(X_all,y_all_labelled):  \n",
    "    # use the index to generate training an testing sets\n",
    "    x_train,x_test=X_all[train_index],X_all[test_index]\n",
    "    y_train,y_test=Y_all[train_index],Y_all[test_index]\n",
    "    \n",
    "           \n",
    "    # create and fit the model\n",
    "    cv_model=build_current_model() # lr,dense,cnn\n",
    "    history = cv_model.fit(x_train, y_train,\n",
    "              batch_size=8,\n",
    "              epochs=75,\n",
    "              validation_split=0.1,\n",
    "              verbose=2)\n",
    "    \n",
    "    #generate predictions\n",
    "    y_pred = cv_model.predict(x_test)\n",
    "    actual, predicted = generate_actual_predicted(y_pred, x_test, y_test)\n",
    "    \n",
    "    #calc metrics\n",
    "    curr_base_prec, curr_base_rec, curr_f1, _ = precision_recall_fscore_support(actual, predicted)\n",
    "    curr_macro_prec = precision_score(actual, predicted,average='macro')\n",
    "    curr_macro_rec = recall_score(actual, predicted,average='macro')\n",
    "    curr_macro_f1 = f1_score(actual, predicted,average='macro')\n",
    "    \n",
    "    \n",
    "    actual_labeled = list()\n",
    "    predict_labeled = list()\n",
    "    for x,y in zip(actual,predicted):\n",
    "        actual_labeled.append(getSpecies(x))\n",
    "        predict_labeled.append(getSpecies(y))\n",
    "        \n",
    "    labels = ['A.tridens','E.bottae','M.emarginatus','P.kuhli','R.muscatellum','R.nasutus', 'R.aegyptius', 'T.perforatus']\n",
    "    curr_cm=confusion_matrix(actual_labeled,predict_labeled,labels=labels)\n",
    "    \n",
    "    curr_fpr = [0] * n_classes\n",
    "    curr_tpr = [0] * n_classes\n",
    "    for i in range(n_classes):\n",
    "        curr_fpr[i], curr_tpr[i], _ = roc_curve(y_test[:,i], y_pred[:,i])\n",
    "        \n",
    "    curr_prec = [0] * n_classes\n",
    "    curr_rec = [0] * n_classes\n",
    "    for i in range(n_classes):\n",
    "        curr_prec[i], curr_rec[i], _ = precision_recall_curve(y_test[:,i], y_pred[:,i])\n",
    "\n",
    "        \n",
    "    curr_accuracy = accuracy_score(actual, predicted)\n",
    "    \n",
    "    #add to lists\n",
    "    all_base_precision.append(curr_base_prec)\n",
    "    all_base_recall.append(curr_base_rec)\n",
    "    all_macro_precision.append(curr_macro_prec)\n",
    "    all_macro_recall.append(curr_macro_rec)\n",
    "    \n",
    "    all_f1.append(curr_f1)\n",
    "    all_macro_f1.append(curr_macro_f1)\n",
    "    \n",
    "    all_accuracy.append(curr_accuracy)\n",
    "\n",
    "    \n",
    "    all_fpr.append(curr_fpr)\n",
    "    all_tpr.append(curr_tpr)\n",
    "    all_precision.append(curr_prec)\n",
    "    all_recall.append(curr_rec)\n",
    "    all_cm.append(curr_cm)\n",
    "    \n",
    "    \n",
    "    "
   ]
  },
  {
   "cell_type": "code",
   "execution_count": 78,
   "metadata": {},
   "outputs": [
    {
     "name": "stdout",
     "output_type": "stream",
     "text": [
      "precision mean by class [1.         0.90629345 0.93520898 0.9303372  0.9767616  0.96180169\n",
      " 0.83159907 0.93659826]\n",
      "precision sdev by class [0.         0.05173373 0.01815025 0.0454683  0.00849991 0.01113832\n",
      " 0.05408764 0.0402963 ]\n",
      "macro precision mean 0.9348250319218359\n",
      "macro precision sdev 0.010883292256298338\n",
      "recall mean [0.88       0.911      0.76758893 0.94649718 0.97957958 0.93291405\n",
      " 0.87566667 0.96271605]\n",
      "recall sdev [0.16       0.018      0.06108734 0.02865671 0.01207192 0.03862667\n",
      " 0.05941006 0.01767918]\n",
      "macro recall mean 0.9069953062122653\n",
      "macro recall sdev 0.022067241606826243\n",
      "f1 mean [0.92777778 0.9079819  0.84182011 0.93755689 0.97809215 0.94670311\n",
      " 0.85085307 0.94897037]\n",
      "f1 sdev [0.09875772 0.02949493 0.0385016  0.02695475 0.00583691 0.02077428\n",
      " 0.03662111 0.02324759]\n",
      "macro f1 mean 0.9174694229839128\n",
      "macro f1 sdev 0.01857268192597333\n",
      "accuracy mean 0.9542700405258475\n",
      "accuracy sdev 0.009197275369660706\n"
     ]
    }
   ],
   "source": [
    "print('precision mean by class', np.array(all_base_precision).mean(axis=0))\n",
    "print('precision sdev by class', np.array(all_base_precision).std(axis=0))\n",
    "\n",
    "print('macro precision mean', np.array(all_macro_precision).mean())\n",
    "print('macro precision sdev', np.array(all_macro_precision).std())\n",
    "\n",
    "\n",
    "print('recall mean', np.array(all_base_recall).mean(axis=0))\n",
    "print('recall sdev', np.array(all_base_recall).std(axis=0))\n",
    "\n",
    "print('macro recall mean', np.array(all_macro_recall).mean())\n",
    "print('macro recall sdev', np.array(all_macro_recall).std())\n",
    "\n",
    "print('f1 mean', np.array(all_f1).mean(axis=0))\n",
    "print('f1 sdev', np.array(all_f1).std(axis=0))\n",
    "\n",
    "print('macro f1 mean', np.array(all_macro_f1).mean())\n",
    "print('macro f1 sdev', np.array(all_macro_f1).std())\n",
    "\n",
    "print('accuracy mean', np.array(all_accuracy).mean())\n",
    "print('accuracy sdev', np.array(all_accuracy).std())\n",
    "\n"
   ]
  },
  {
   "cell_type": "code",
   "execution_count": 79,
   "metadata": {},
   "outputs": [
    {
     "data": {
      "image/png": "[encoded data removed]",
      "text/plain": [
       "<Figure size 432x288 with 1 Axes>"
      ]
     },
     "metadata": {
      "needs_background": "light"
     },
     "output_type": "display_data"
    },
    {
     "data": {
      "image/png": "[encoded data removed]",
      "text/plain": [
       "<Figure size 432x288 with 1 Axes>"
      ]
     },
     "metadata": {
      "needs_background": "light"
     },
     "output_type": "display_data"
    },
    {
     "data": {
      "image/png": "[encoded data removed]",
      "text/plain": [
       "<Figure size 432x288 with 1 Axes>"
      ]
     },
     "metadata": {
      "needs_background": "light"
     },
     "output_type": "display_data"
    },
    {
     "data": {
      "image/png": "[encoded data removed]",
      "text/plain": [
       "<Figure size 432x288 with 1 Axes>"
      ]
     },
     "metadata": {
      "needs_background": "light"
     },
     "output_type": "display_data"
    },
    {
     "data": {
      "image/png": "[encoded data removed]",
      "text/plain": [
       "<Figure size 432x288 with 1 Axes>"
      ]
     },
     "metadata": {
      "needs_background": "light"
     },
     "output_type": "display_data"
    }
   ],
   "source": [
    "# Plot all K-Fold ROC curves\n",
    "\n",
    "for i in range(n_split):\n",
    "    _, axs = plt.subplots(ncols=1)\n",
    "    axs.set(xlabel='False Positive Rate',ylabel='True Positive Rate', title='ROC Curve K-Fold#'+str(i+1))\n",
    "    for j in range(n_classes):\n",
    "        auc_val = auc(all_fpr[i][j], all_tpr[i][j])\n",
    "        auc_val = np.around(auc_val,4)\n",
    "        sns.lineplot(x=all_fpr[i][j],y=all_tpr[i][j],ax=axs, label='Class '+ getSpecies(j) +' (area = ' + str(auc_val) + ')', legend='brief')\n",
    "        "
   ]
  },
  {
   "cell_type": "code",
   "execution_count": 80,
   "metadata": {},
   "outputs": [
    {
     "data": {
      "image/png": "[encoded data removed]",
      "text/plain": [
       "<Figure size 432x288 with 1 Axes>"
      ]
     },
     "metadata": {
      "needs_background": "light"
     },
     "output_type": "display_data"
    },
    {
     "data": {
      "image/png": "[encoded data removed]",
      "text/plain": [
       "<Figure size 432x288 with 1 Axes>"
      ]
     },
     "metadata": {
      "needs_background": "light"
     },
     "output_type": "display_data"
    },
    {
     "data": {
      "image/png": "[encoded data removed]",
      "text/plain": [
       "<Figure size 432x288 with 1 Axes>"
      ]
     },
     "metadata": {
      "needs_background": "light"
     },
     "output_type": "display_data"
    },
    {
     "data": {
      "image/png": "[encoded data removed]",
      "text/plain": [
       "<Figure size 432x288 with 1 Axes>"
      ]
     },
     "metadata": {
      "needs_background": "light"
     },
     "output_type": "display_data"
    },
    {
     "data": {
      "image/png": "[encoded data removed]",
      "text/plain": [
       "<Figure size 432x288 with 1 Axes>"
      ]
     },
     "metadata": {
      "needs_background": "light"
     },
     "output_type": "display_data"
    }
   ],
   "source": [
    "#Plot all K-Fold Precision/Recall curves\n",
    "for i in range(n_split):\n",
    "    _, axs = plt.subplots(ncols=1)\n",
    "    axs.set(xlabel='Recall',ylabel='Precision', title='Precision/Recall Curve K-Fold#'+str(i+1))\n",
    "    for j in range(n_classes):\n",
    "        sns.lineplot(x=all_recall[i][j],y=all_precision[i][j],ax=axs, label='Class '+ getSpecies(j), legend='brief')"
   ]
  },
  {
   "cell_type": "code",
   "execution_count": 81,
   "metadata": {},
   "outputs": [
    {
     "name": "stdout",
     "output_type": "stream",
     "text": [
      "Confusion Matrix K-Fold #1\n",
      "\n",
      "[[  5   0   0   0   0   0   0   0]\n",
      " [  0  23   0   0   1   1   0   0]\n",
      " [  0   0  19   0   1   0   0   2]\n",
      " [  0   1   0  56   1   1   0   0]\n",
      " [  0   1   0   0 328   0   1   3]\n",
      " [  0   2   0   0   0  51   1   0]\n",
      " [  0   0   0   1   0   0  23   1]\n",
      " [  0   0   1   0   3   0   0  77]]\n",
      "\n",
      "\n",
      "Confusion Matrix K-Fold #2\n",
      "\n",
      "[[  5   0   0   0   0   0   0   0]\n",
      " [  0  23   0   0   1   1   0   0]\n",
      " [  0   0  18   0   5   0   0   0]\n",
      " [  0   0   1  56   1   1   0   1]\n",
      " [  0   1   0   0 330   0   2   0]\n",
      " [  0   2   0   2   0  47   2   0]\n",
      " [  0   0   0   0   3   0  20   1]\n",
      " [  0   0   0   0   0   0   1  80]]\n",
      "\n",
      "\n",
      "Confusion Matrix K-Fold #3\n",
      "\n",
      "[[  3   0   0   0   0   0   2   0]\n",
      " [  0  21   0   1   1   1   0   0]\n",
      " [  0   0  18   5   0   0   0   0]\n",
      " [  0   0   0  59   0   0   0   1]\n",
      " [  0   1   2   2 323   0   1   4]\n",
      " [  0   2   0   0   0  52   0   0]\n",
      " [  0   0   0   1   2   0  21   0]\n",
      " [  0   0   0   0   0   0   2  79]]\n",
      "\n",
      "\n",
      "Confusion Matrix K-Fold #4\n",
      "\n",
      "[[  5   0   0   0   0   0   0   0]\n",
      " [  0  23   0   0   0   2   0   0]\n",
      " [  0   1  15   2   3   0   0   1]\n",
      " [  0   0   0  58   0   0   2   0]\n",
      " [  0   1   0   0 330   0   1   1]\n",
      " [  0   0   0   1   0  53   0   0]\n",
      " [  0   0   0   0   4   1  19   0]\n",
      " [  0   0   1   0   4   0   0  75]]\n",
      "\n",
      "\n",
      "Confusion Matrix K-Fold #5\n",
      "\n",
      "[[  4   0   0   0   1   0   0   0]\n",
      " [  0  23   0   0   2   0   0   0]\n",
      " [  0   0  16   0   1   0   3   2]\n",
      " [  0   0   0  54   3   2   0   1]\n",
      " [  0   0   0   2 320   0   2   9]\n",
      " [  0   0   0   5   0  48   1   0]\n",
      " [  0   0   0   0   1   0  23   0]\n",
      " [  0   0   1   0   1   0   1  77]]\n",
      "\n",
      "\n"
     ]
    },
    {
     "data": {
      "image/png": "[encoded data removed]",
      "text/plain": [
       "<Figure size 432x288 with 2 Axes>"
      ]
     },
     "metadata": {
      "needs_background": "light"
     },
     "output_type": "display_data"
    },
    {
     "data": {
      "image/png": "[encoded data removed]",
      "text/plain": [
       "<Figure size 432x288 with 2 Axes>"
      ]
     },
     "metadata": {
      "needs_background": "light"
     },
     "output_type": "display_data"
    },
    {
     "data": {
      "image/png": "[encoded data removed]",
      "text/plain": [
       "<Figure size 432x288 with 2 Axes>"
      ]
     },
     "metadata": {
      "needs_background": "light"
     },
     "output_type": "display_data"
    },
    {
     "data": {
      "image/png": "[encoded data removed]",
      "text/plain": [
       "<Figure size 432x288 with 2 Axes>"
      ]
     },
     "metadata": {
      "needs_background": "light"
     },
     "output_type": "display_data"
    },
    {
     "data": {
      "image/png": "[encoded data removed]",
      "text/plain": [
       "<Figure size 432x288 with 2 Axes>"
      ]
     },
     "metadata": {
      "needs_background": "light"
     },
     "output_type": "display_data"
    }
   ],
   "source": [
    "## Plot all K-Fold confusion matrices\n",
    "import numpy as np\n",
    "import matplotlib.pylab as pl\n",
    "import matplotlib.gridspec as gridspec\n",
    "from matplotlib import pyplot as plt\n",
    "\n",
    "# Create 1X 5 sub plots\n",
    "# gs = gridspec.GridSpec(1,n_split)\n",
    "figs=[]\n",
    "for i in range(n_split):\n",
    "    figs.append(plt.figure())\n",
    "    \n",
    "for i in range(n_split):\n",
    "    print('Confusion Matrix K-Fold #'+ str(i+1)+\"\\n\")\n",
    "    print(all_cm[i])\n",
    "    print(\"\\n\")\n",
    "    \n",
    "    ax=figs[i].add_subplot()\n",
    "    sns.heatmap(all_cm[i], annot=True, ax = ax); #annot=True to annotate cells\n",
    "\n",
    "    \n",
    "    # labels, title and ticks\n",
    "    ax.set_xlabel('Predicted labels');ax.set_ylabel('True labels'); \n",
    "    ax.set_title('Confusion Matrix K-Fold #'+ str(i+1)); \n",
    "    ax.xaxis.set_ticklabels(labels,rotation=45); ax.yaxis.set_ticklabels(labels,rotation=45);"
   ]
  },
  {
   "cell_type": "code",
   "execution_count": 82,
   "metadata": {},
   "outputs": [
    {
     "name": "stdout",
     "output_type": "stream",
     "text": [
      "sum of all confuion matrices\n",
      " [[  22    0    0    0    1    0    2    0]\n",
      " [   0  113    0    1    5    5    0    0]\n",
      " [   0    1   86    7   10    0    3    5]\n",
      " [   0    1    1  283    5    4    2    3]\n",
      " [   0    4    2    4 1631    0    7   17]\n",
      " [   0    6    0    8    0  251    4    0]\n",
      " [   0    0    0    2   10    1  106    2]\n",
      " [   0    0    3    0    8    0    4  388]]\n",
      "\n",
      "average of all confuion matrices\n",
      " [[  4   0   0   0   0   0   0   0]\n",
      " [  0  22   0   0   1   1   0   0]\n",
      " [  0   0  17   1   2   0   0   1]\n",
      " [  0   0   0  56   1   0   0   0]\n",
      " [  0   0   0   0 326   0   1   3]\n",
      " [  0   1   0   1   0  50   0   0]\n",
      " [  0   0   0   0   2   0  21   0]\n",
      " [  0   0   0   0   1   0   0  77]]\n"
     ]
    },
    {
     "data": {
      "image/png": "[encoded data removed]",
      "text/plain": [
       "<Figure size 432x288 with 2 Axes>"
      ]
     },
     "metadata": {
      "needs_background": "light"
     },
     "output_type": "display_data"
    },
    {
     "data": {
      "image/png": "[encoded data removed]",
      "text/plain": [
       "<Figure size 432x288 with 2 Axes>"
      ]
     },
     "metadata": {
      "needs_background": "light"
     },
     "output_type": "display_data"
    }
   ],
   "source": [
    "## plot macro cm\n",
    "\n",
    "sum_all_cm=np.zeros((n_classes,n_classes)).astype('int64')\n",
    "for i in range(n_split):\n",
    "    sum_all_cm+=all_cm[i]\n",
    "    \n",
    "    \n",
    "#plot \n",
    "figs=[]\n",
    "for i in range(2):\n",
    "    figs.append(plt.figure())\n",
    "       \n",
    "print(\"sum of all confuion matrices\\n\",sum_all_cm)\n",
    "ax=figs[0].add_subplot()\n",
    "sns.heatmap(sum_all_cm, annot=True, ax = ax);\n",
    "\n",
    "avg_all_cm=np.divide(sum_all_cm,n_split).astype('int64')\n",
    "print(\"\\naverage of all confuion matrices\\n\",avg_all_cm)\n",
    "ax=figs[1].add_subplot()\n",
    "sns.heatmap(avg_all_cm, annot=True, ax = ax);"
   ]
  },
  {
   "cell_type": "code",
   "execution_count": 83,
   "metadata": {},
   "outputs": [
    {
     "name": "stdout",
     "output_type": "stream",
     "text": [
      "[[0.88 0.   0.   0.   0.04 0.   0.08 0.  ]\n",
      " [0.   0.91 0.   0.01 0.04 0.04 0.   0.  ]\n",
      " [0.   0.01 0.77 0.06 0.09 0.   0.03 0.04]\n",
      " [0.   0.   0.   0.95 0.02 0.01 0.01 0.01]\n",
      " [0.   0.   0.   0.   0.98 0.   0.   0.01]\n",
      " [0.   0.02 0.   0.03 0.   0.93 0.01 0.  ]\n",
      " [0.   0.   0.   0.02 0.08 0.01 0.88 0.02]\n",
      " [0.   0.   0.01 0.   0.02 0.   0.01 0.96]]\n"
     ]
    },
    {
     "data": {
      "image/png": "[encoded data removed]",
      "text/plain": [
       "<Figure size 432x288 with 2 Axes>"
      ]
     },
     "metadata": {
      "needs_background": "light"
     },
     "output_type": "display_data"
    }
   ],
   "source": [
    "import numpy as np\n",
    "import matplotlib.pyplot as plt\n",
    "import seaborn as sns\n",
    "\n",
    "\n",
    "cm= sum_all_cm/ sum_all_cm.astype(np.float).sum(axis=1,keepdims = True)\n",
    "cm = (np.around(cm,2))\n",
    "print(cm)\n",
    "\n",
    "\n",
    "labels = ['A.tridens','E.bottae','M.emarginatus','P.kuhli','R.muscatellum','R.nasutus', 'R.aegyptius', 'T.perforatus']\n",
    "\n",
    "\n",
    "ax= plt.subplot()\n",
    "sns.heatmap(cm, annot=True, ax = ax); #annot=True to annotate cells\n",
    "\n",
    "# labels, title and ticks\n",
    "ax.set_xlabel('Predicted labels');ax.set_ylabel('True labels'); \n",
    "ax.set_title('Confusion Matrix'); \n",
    "ax.xaxis.set_ticklabels(labels,rotation=45); ax.yaxis.set_ticklabels(labels,rotation=45);"
   ]
  },
  {
   "cell_type": "markdown",
   "metadata": {},
   "source": [
    "<h2>Storing/Loading history and model to file</h2>"
   ]
  },
  {
   "cell_type": "code",
   "execution_count": 23,
   "metadata": {},
   "outputs": [],
   "source": [
    "#Store History\n",
    "hist_df = pd.DataFrame(history.history) \n",
    "hist_json_file = 'Model2-P-bats.json' \n",
    "with open(hist_json_file, mode='w') as f:\n",
    "    hist_df.to_json(f)"
   ]
  },
  {
   "cell_type": "code",
   "execution_count": 25,
   "metadata": {},
   "outputs": [],
   "source": [
    "#Load History \n",
    "history_info = pd.read_json('Model2-P-bats.json')"
   ]
  },
  {
   "cell_type": "code",
   "execution_count": 26,
   "metadata": {},
   "outputs": [],
   "source": [
    "##Save Model\n",
    "model.save('Model2-P-bats_trained.model') #Save the model"
   ]
  },
  {
   "cell_type": "code",
   "execution_count": 27,
   "metadata": {},
   "outputs": [
    {
     "name": "stdout",
     "output_type": "stream",
     "text": [
      "WARNING:tensorflow:From /home/team3/anaconda3/envs/gpu/lib/python3.7/site-packages/tensorflow/python/ops/init_ops.py:97: calling GlorotUniform.__init__ (from tensorflow.python.ops.init_ops) with dtype is deprecated and will be removed in a future version.\n",
      "Instructions for updating:\n",
      "Call initializer instance with the dtype argument instead of passing it to the constructor\n",
      "WARNING:tensorflow:From /home/team3/anaconda3/envs/gpu/lib/python3.7/site-packages/tensorflow/python/ops/init_ops.py:97: calling Zeros.__init__ (from tensorflow.python.ops.init_ops) with dtype is deprecated and will be removed in a future version.\n",
      "Instructions for updating:\n",
      "Call initializer instance with the dtype argument instead of passing it to the constructor\n",
      "WARNING:tensorflow:From /home/team3/anaconda3/envs/gpu/lib/python3.7/site-packages/tensorflow/python/ops/init_ops.py:97: calling Ones.__init__ (from tensorflow.python.ops.init_ops) with dtype is deprecated and will be removed in a future version.\n",
      "Instructions for updating:\n",
      "Call initializer instance with the dtype argument instead of passing it to the constructor\n"
     ]
    }
   ],
   "source": [
    "## Load Model\n",
    "model = tf.keras.models.load_model('Model2V2-bats_trained.model') #Re load model"
   ]
  }
 ],
 "metadata": {
  "kernelspec": {
   "display_name": "Python 3",
   "language": "python",
   "name": "python3"
  }
 },
 "nbformat": 4,
 "nbformat_minor": 4
}
