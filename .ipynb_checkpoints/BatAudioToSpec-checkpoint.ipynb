{
 "cells": [
  {
   "cell_type": "code",
   "execution_count": null,
   "metadata": {},
   "outputs": [
    {
     "name": "stdout",
     "output_type": "stream",
     "text": [
      "['Asellia tridens', 'Eptesicus bottae', 'Myotis emarginatus', 'Pipistrellus kuhli', 'Rhinopoma muscatellum', 'Rhyneptesicus nasutus', 'Rousettus aegyptius', 'Taphozous perforatus']\n",
      "Asellia tridens 4\n",
      "Eptesicus bottae 6\n"
     ]
    }
   ],
   "source": [
    "import os\n",
    "import librosa\n",
    "import librosa.display\n",
    "import numpy as np\n",
    "import matplotlib.pyplot as plt\n",
    "#from os import listdir\n",
    "#from os.path import isfile, join\n",
    "\n",
    "\n",
    "\n",
    "##FUNCTIONS\n",
    "def convert_single_audio_to_image(audio_path, image_path, spectrogram_dimensions = (64,64)):\n",
    "    \n",
    "    ##Changed to default sampling rate of 22050\n",
    "    #data, sr = librosa.load(audio_path, sr = 8000)  \n",
    "    data, sr = librosa.load(audio_path)  \n",
    "    \n",
    "    #Make a mel spectrogram from audio\n",
    "    spec = librosa.feature.melspectrogram(y=data, sr=sr)\n",
    "    #Convert amplitude to decibels\n",
    "    db_spec = librosa.power_to_db(spec, ref=np.max)\n",
    "    fig = plt.figure()\n",
    "    \n",
    "    \n",
    "   # fig.set_size_inches((spectrogram_dimensions[0]/fig.get_dpi(), spectrogram_dimensions[1]/fig.get_dpi()))\n",
    "    \n",
    "    #Display final mel spectrogram\n",
    "    librosa.display.specshow(db_spec, sr=sr)\n",
    "    fig.savefig(image_path)\n",
    "    plt.close(fig)\n",
    "\n",
    "    \n",
    "    \n",
    "if __name__ == '__main__':\n",
    "    path = r'C:\\Users\\Tasli\\Desktop\\PythonFolder\\BatData\\Identified calls'\n",
    "    internalDirectories=[d for d in os.listdir(path) if os.path.isdir(os.path.join(path,d))]\n",
    "    print(internalDirectories)\n",
    "    for folders in internalDirectories:\n",
    "        file_names = [f for f in os.listdir(os.path.join(path,folders)) if os.path.isfile(os.path.join(path,folders,f)) and ('.wav' or '.WAV' in f) and not '.png' in f]\n",
    "        count =0\n",
    "        for file_name in file_names:\n",
    "            #print(file_name)\n",
    "            audio_path = os.path.join(path,folders,file_name)\n",
    "            all_caps_file_name = file_name.upper()\n",
    "            spectogram_path = os.path.join(path,folders,all_caps_file_name.replace('.WAV','.png'))\n",
    "            convert_single_audio_to_image(audio_path,spectogram_path)\n",
    "            count +=1\n",
    "        print(folders,count)"
   ]
  },
  {
   "cell_type": "code",
   "execution_count": null,
   "metadata": {},
   "outputs": [],
   "source": []
  },
  {
   "cell_type": "code",
   "execution_count": null,
   "metadata": {},
   "outputs": [],
   "source": []
  }
 ],
 "metadata": {
  "kernelspec": {
   "display_name": "Python 3",
   "language": "python",
   "name": "python3"
  },
  "language_info": {
   "codemirror_mode": {
    "name": "ipython",
    "version": 3
   },
   "file_extension": ".py",
   "mimetype": "text/x-python",
   "name": "python",
   "nbconvert_exporter": "python",
   "pygments_lexer": "ipython3",
   "version": "3.6.9"
  }
 },
 "nbformat": 4,
 "nbformat_minor": 2
}
