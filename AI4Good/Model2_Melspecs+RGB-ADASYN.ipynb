{
 "cells": [
  {
   "cell_type": "code",
   "execution_count": 1,
   "metadata": {
    "scrolled": true
   },
   "outputs": [
    {
     "name": "stderr",
     "output_type": "stream",
     "text": [
      "/home/team3/anaconda3/envs/gpu/lib/python3.7/site-packages/tensorflow/python/framework/dtypes.py:516: FutureWarning: Passing (type, 1) or '1type' as a synonym of type is deprecated; in a future version of numpy, it will be understood as (type, (1,)) / '(1,)type'.\n",
      "  _np_qint8 = np.dtype([(\"qint8\", np.int8, 1)])\n",
      "/home/team3/anaconda3/envs/gpu/lib/python3.7/site-packages/tensorflow/python/framework/dtypes.py:517: FutureWarning: Passing (type, 1) or '1type' as a synonym of type is deprecated; in a future version of numpy, it will be understood as (type, (1,)) / '(1,)type'.\n",
      "  _np_quint8 = np.dtype([(\"quint8\", np.uint8, 1)])\n",
      "/home/team3/anaconda3/envs/gpu/lib/python3.7/site-packages/tensorflow/python/framework/dtypes.py:518: FutureWarning: Passing (type, 1) or '1type' as a synonym of type is deprecated; in a future version of numpy, it will be understood as (type, (1,)) / '(1,)type'.\n",
      "  _np_qint16 = np.dtype([(\"qint16\", np.int16, 1)])\n",
      "/home/team3/anaconda3/envs/gpu/lib/python3.7/site-packages/tensorflow/python/framework/dtypes.py:519: FutureWarning: Passing (type, 1) or '1type' as a synonym of type is deprecated; in a future version of numpy, it will be understood as (type, (1,)) / '(1,)type'.\n",
      "  _np_quint16 = np.dtype([(\"quint16\", np.uint16, 1)])\n",
      "/home/team3/anaconda3/envs/gpu/lib/python3.7/site-packages/tensorflow/python/framework/dtypes.py:520: FutureWarning: Passing (type, 1) or '1type' as a synonym of type is deprecated; in a future version of numpy, it will be understood as (type, (1,)) / '(1,)type'.\n",
      "  _np_qint32 = np.dtype([(\"qint32\", np.int32, 1)])\n",
      "/home/team3/anaconda3/envs/gpu/lib/python3.7/site-packages/tensorflow/python/framework/dtypes.py:525: FutureWarning: Passing (type, 1) or '1type' as a synonym of type is deprecated; in a future version of numpy, it will be understood as (type, (1,)) / '(1,)type'.\n",
      "  np_resource = np.dtype([(\"resource\", np.ubyte, 1)])\n",
      "/home/team3/anaconda3/envs/gpu/lib/python3.7/site-packages/tensorboard/compat/tensorflow_stub/dtypes.py:541: FutureWarning: Passing (type, 1) or '1type' as a synonym of type is deprecated; in a future version of numpy, it will be understood as (type, (1,)) / '(1,)type'.\n",
      "  _np_qint8 = np.dtype([(\"qint8\", np.int8, 1)])\n",
      "/home/team3/anaconda3/envs/gpu/lib/python3.7/site-packages/tensorboard/compat/tensorflow_stub/dtypes.py:542: FutureWarning: Passing (type, 1) or '1type' as a synonym of type is deprecated; in a future version of numpy, it will be understood as (type, (1,)) / '(1,)type'.\n",
      "  _np_quint8 = np.dtype([(\"quint8\", np.uint8, 1)])\n",
      "/home/team3/anaconda3/envs/gpu/lib/python3.7/site-packages/tensorboard/compat/tensorflow_stub/dtypes.py:543: FutureWarning: Passing (type, 1) or '1type' as a synonym of type is deprecated; in a future version of numpy, it will be understood as (type, (1,)) / '(1,)type'.\n",
      "  _np_qint16 = np.dtype([(\"qint16\", np.int16, 1)])\n",
      "/home/team3/anaconda3/envs/gpu/lib/python3.7/site-packages/tensorboard/compat/tensorflow_stub/dtypes.py:544: FutureWarning: Passing (type, 1) or '1type' as a synonym of type is deprecated; in a future version of numpy, it will be understood as (type, (1,)) / '(1,)type'.\n",
      "  _np_quint16 = np.dtype([(\"quint16\", np.uint16, 1)])\n",
      "/home/team3/anaconda3/envs/gpu/lib/python3.7/site-packages/tensorboard/compat/tensorflow_stub/dtypes.py:545: FutureWarning: Passing (type, 1) or '1type' as a synonym of type is deprecated; in a future version of numpy, it will be understood as (type, (1,)) / '(1,)type'.\n",
      "  _np_qint32 = np.dtype([(\"qint32\", np.int32, 1)])\n",
      "/home/team3/anaconda3/envs/gpu/lib/python3.7/site-packages/tensorboard/compat/tensorflow_stub/dtypes.py:550: FutureWarning: Passing (type, 1) or '1type' as a synonym of type is deprecated; in a future version of numpy, it will be understood as (type, (1,)) / '(1,)type'.\n",
      "  np_resource = np.dtype([(\"resource\", np.ubyte, 1)])\n"
     ]
    }
   ],
   "source": [
    "import tensorflow as tf\n",
    "config = tf.ConfigProto()\n",
    "config.gpu_options.allow_growth = True\n",
    "session = tf.Session(config=config)"
   ]
  },
  {
   "cell_type": "code",
   "execution_count": 2,
   "metadata": {},
   "outputs": [
    {
     "name": "stderr",
     "output_type": "stream",
     "text": [
      "Using TensorFlow backend.\n"
     ]
    }
   ],
   "source": [
    "import keras\n",
    "import pandas as pd\n",
    "import tensorflow as tf\n",
    "\n",
    "import numpy as np\n",
    "# from keras.models import Sequential, Model\n",
    "# from keras.layers import Dense, Dropout, Activation, Flatten, Convolution2D, MaxPooling2D, GlobalAveragePooling2D\n",
    "from keras.utils import np_utils\n",
    "\n",
    "from tensorflow.keras.models import Sequential, Model\n",
    "from tensorflow.keras.layers import Dense, Dropout, Activation, Flatten, Convolution2D, MaxPooling2D, GlobalAveragePooling2D, Input,AveragePooling2D, BatchNormalization, LeakyReLU\n",
    "\n",
    "# from keras.applications import MobileNet\n",
    "# from keras.optimizers import Adam\n",
    "from tensorflow.keras.applications import MobileNetV2, InceptionV3\n",
    "from tensorflow.keras.optimizers import Adam\n",
    "\n",
    "from matplotlib import pyplot as plt\n",
    "import os\n",
    "from sklearn.model_selection import train_test_split\n",
    "\n",
    "import seaborn as sns\n",
    "from sklearn.metrics import recall_score\n",
    "from sklearn.metrics import precision_score\n",
    "from sklearn.model_selection import KFold\n",
    "\n",
    "from collections import defaultdict,Counter\n",
    "from imblearn.over_sampling import SMOTE,ADASYN \n",
    "from PIL import Image\n",
    "\n",
    "\n"
   ]
  },
  {
   "cell_type": "markdown",
   "metadata": {},
   "source": [
    "<h2>Data Loading and Preparation</h2>"
   ]
  },
  {
   "cell_type": "code",
   "execution_count": 3,
   "metadata": {},
   "outputs": [],
   "source": [
    "##utility functions\n",
    "\n",
    "def getSpeciesCode(x):\n",
    "    part = x.split('_')\n",
    "    if part[0] == 'ASETRI':\n",
    "        return 0\n",
    "    elif part[0] == 'EPTBOT':\n",
    "        return 1\n",
    "    elif part[0] == 'MYOEMA':\n",
    "        return 2\n",
    "    elif part[0] == 'PIPKUH':\n",
    "        return 3\n",
    "    elif part[0] == 'RHIMUS':\n",
    "        return 4\n",
    "    elif part[0] == 'RHYNAS':\n",
    "        return 5\n",
    "    elif part[0] == 'ROUAEG':\n",
    "        return 6\n",
    "    elif part[0] == 'TAPPER':\n",
    "        return 7\n",
    "    else:\n",
    "        return 'Unknown'\n",
    "    \n",
    "def getSpecies(x):\n",
    "    if x == 0:\n",
    "        return 'ASETRI'\n",
    "    elif x == 1:\n",
    "        return 'EPTBOT'\n",
    "    elif x == 2:\n",
    "        return 'MYOEMA'\n",
    "    elif x == 3:\n",
    "        return 'PIPKUH'\n",
    "    elif x == 4:\n",
    "        return 'RHIMUS'\n",
    "    elif x == 5:\n",
    "        return 'RHYNAS'\n",
    "    elif x == 6:\n",
    "        return 'ROUAEG'\n",
    "    elif x == 7:\n",
    "        return 'TAPPER'\n",
    "    else:\n",
    "        return 'Unknown'\n",
    "    \n",
    "\n",
    "def makeOverSamplesSMOTE(X,y):\n",
    " #input DataFrame\n",
    " #X →Independent Variable in DataFrame\\\n",
    " #y →dependent Variable in Pandas DataFrame format\n",
    "    sm = ADASYN()\n",
    "    X, y = sm.fit_resample(X, y)\n",
    "    return(X,y)"
   ]
  },
  {
   "cell_type": "code",
   "execution_count": 4,
   "metadata": {
    "scrolled": false
   },
   "outputs": [
    {
     "data": {
      "text/plain": [
       "RHIMUS    1799\n",
       "TAPPER     429\n",
       "PIPKUH     303\n",
       "RHYNAS     271\n",
       "EPTBOT     131\n",
       "ROUAEG     121\n",
       "MYOEMA     114\n",
       "ASETRI      25\n",
       "Name: Species, dtype: int64"
      ]
     },
     "execution_count": 4,
     "metadata": {},
     "output_type": "execute_result"
    }
   ],
   "source": [
    "image_folder_path = '../data/SpectogramInitial'\n",
    "file_paths = [f for f in os.listdir(image_folder_path)]\n",
    "species = []\n",
    "for file_name in file_paths:\n",
    "    sp = file_name.split('_')\n",
    "    species.append(sp[0])\n",
    "\n",
    "df = pd.DataFrame(species, columns=['Species'])\n",
    "df['Species'].value_counts()"
   ]
  },
  {
   "cell_type": "code",
   "execution_count": 5,
   "metadata": {
    "scrolled": true
   },
   "outputs": [],
   "source": [
    "X_all = []\n",
    "Y_all = []\n",
    "\n",
    "image_folder_path = '../data/SpectogramInitial'\n",
    "file_paths = [f for f in os.listdir(image_folder_path)]\n",
    "\n",
    "for file_name in file_paths:\n",
    "    spectrogram = Image.open(image_folder_path + '/' + file_name)\n",
    "    spectrogram = spectrogram.convert('RGB')\n",
    "    spectrogram = spectrogram.resize((341, 224)) \n",
    "    spectrogram = np.array(spectrogram) \n",
    "    X_all.append(spectrogram)\n",
    "    Y_all.append(getSpeciesCode(file_name))\n",
    "    \n",
    "# print(X_all)\n",
    "# print(Y_all)\n",
    "# # plt.imshow(X_all[0])\n"
   ]
  },
  {
   "cell_type": "code",
   "execution_count": 6,
   "metadata": {
    "scrolled": false
   },
   "outputs": [
    {
     "name": "stdout",
     "output_type": "stream",
     "text": [
      "(3193, 224, 341, 3)\n",
      "(3193,)\n"
     ]
    }
   ],
   "source": [
    "X_all = np.array(X_all)\n",
    "Y_all = np.array(Y_all)\n",
    "\n",
    "#normalize\n",
    "print(X_all.shape)\n",
    "print(Y_all.shape)\n",
    "\n",
    "X_all = X_all.astype('float32')\n",
    "X_all /= 255\n",
    "\n",
    "Y_all = np_utils.to_categorical(Y_all, num_classes=8) \n",
    "\n",
    "# print(X_all)\n",
    "# print(Y_all)"
   ]
  },
  {
   "cell_type": "code",
   "execution_count": 7,
   "metadata": {
    "scrolled": true
   },
   "outputs": [
    {
     "name": "stdout",
     "output_type": "stream",
     "text": [
      "Before OverSampling\n",
      "X_train: shape=  (2554, 224, 341, 3)\n",
      "Y_train: shape=  (2554, 8)\n",
      "Original trainingset shape [('RHYNAS', 217), ('EPTBOT', 105), ('RHIMUS', 1439), ('TAPPER', 343), ('ASETRI', 20), ('PIPKUH', 242), ('MYOEMA', 91), ('ROUAEG', 97)]\n",
      "Resampled training set shape [('RHYNAS', 1439), ('EPTBOT', 1441), ('RHIMUS', 1439), ('TAPPER', 1446), ('ASETRI', 1439), ('PIPKUH', 1452), ('MYOEMA', 1471), ('ROUAEG', 1430)]\n",
      "After OverSampling\n",
      "X_train: shape=  (11557, 224, 341, 3)\n",
      "Y_train: shape=  (11557, 8)\n"
     ]
    }
   ],
   "source": [
    "# train /test= 80/20% split\n",
    "# Data is stratified\n",
    "\n",
    "X_train, X_test, Y_train, Y_test = train_test_split(X_all, Y_all, test_size=0.2, random_state = 245, stratify=Y_all)\n",
    "print(\"Before OverSampling\\nX_train: shape= \",X_train.shape)\n",
    "print(\"Y_train: shape= \",Y_train.shape)\n",
    "#oversample\n",
    "\n",
    "Y_train_labelled=[]\n",
    "for i in range(len(Y_train)):\n",
    "    Y_train_labelled.append(np.argmax(Y_train[i]))\n",
    "       \n",
    "print('Original trainingset shape %s' %  [(getSpecies(k),v) for k,v in Counter(Y_train_labelled).items()])       \n",
    "X_dims=X_train.shape\n",
    "X_train= X_train.reshape(-1,X_dims[1]*X_dims[2]*X_dims[3])\n",
    "X_train, Y_train_labelled= makeOverSamplesSMOTE(X_train, Y_train_labelled)\n",
    "print('Resampled training set shape %s' % [(getSpecies(k),v) for k,v in Counter(Y_train_labelled).items()])\n",
    "\n",
    "\n",
    "#reshape X_all\n",
    "X_train= X_train.reshape(-1,X_dims[1],X_dims[2],X_dims[3])\n",
    "\n",
    "# update Y_train\n",
    "Y_train= np_utils.to_categorical(Y_train_labelled, num_classes=8)\n",
    "\n",
    "print(\"After OverSampling\\nX_train: shape= \",X_train.shape)\n",
    "print(\"Y_train: shape= \",Y_train.shape)"
   ]
  },
  {
   "cell_type": "markdown",
   "metadata": {},
   "source": [
    "<h2>Model Building</h2>"
   ]
  },
  {
   "cell_type": "code",
   "execution_count": 10,
   "metadata": {},
   "outputs": [],
   "source": [
    "\n",
    "   def build_current_model():\n",
    "    inp = Input(shape=(224,341,3))\n",
    "    \n",
    "    c1 = Convolution2D(filters=128,kernel_size=(7,7),strides=(2,2),padding='same')(inp)\n",
    "    bt = BatchNormalization()(c1)\n",
    "    bt = Activation('relu')(bt)\n",
    "    #bt = LeakyReLU(alpha=0.01)(bt)\n",
    "    mpool = MaxPooling2D(pool_size=(2,2),strides=2,padding='same')(bt)\n",
    "    mpool = Dropout(0.2)(mpool)\n",
    "\n",
    "    \n",
    "    c2 = Convolution2D(filters=256,kernel_size=(5,5),strides=(2,2),padding='same')(mpool)\n",
    "    bt = BatchNormalization()(c2)\n",
    "    bt = Activation('relu')(bt)\n",
    "    #bt = LeakyReLU(alpha=0.01)(bt)\n",
    "    mpool = AveragePooling2D(pool_size=(2,2),strides=2,padding='same')(bt)\n",
    "    mpool = Dropout(0.3)(mpool)\n",
    "    \n",
    "    c2 = Convolution2D(filters=512,kernel_size=(3,3),strides=(1,1),padding='same')(mpool)\n",
    "    bt = BatchNormalization()(c2)\n",
    "    bt = Activation('relu')(bt)\n",
    "    #bt = LeakyReLU(alpha=0.01)(bt)\n",
    "    mpool = AveragePooling2D(pool_size=(2,2),strides=2,padding='same')(bt)\n",
    "    mpool = Dropout(0.3)(mpool)\n",
    "    \n",
    "    c3 = Convolution2D(filters=512,kernel_size=(3,3),strides=(1,1),padding='same')(mpool)\n",
    "    bt = BatchNormalization()(c3)\n",
    "    bt = Activation('relu')(bt)\n",
    "    #bt = LeakyReLU(alpha=0.01)(bt)\n",
    "    mpool = AveragePooling2D(pool_size=(2,2),strides=2,padding='same')(bt)\n",
    "    mpool = Dropout(0.4)(mpool)\n",
    "    \n",
    "    f = Flatten()(mpool)\n",
    "    \n",
    "    x_dense = Dense(2048)(f)\n",
    "    bt = BatchNormalization()(x_dense)\n",
    "    bt = Activation('relu')(bt)\n",
    "    bt = Dropout(0.4)(bt)\n",
    "\n",
    "    \n",
    "    x_dense = Dense(1024)(bt)\n",
    "    bt = BatchNormalization()(x_dense)\n",
    "    bt = Activation('relu')(bt)\n",
    "    bt = Dropout(0.3)(bt)\n",
    "    \n",
    "    x_dense = Dense(512)(bt)\n",
    "    bt = BatchNormalization()(x_dense)\n",
    "    bt = Activation('relu')(bt)\n",
    "    bt = Dropout(0.2)(bt)\n",
    "\n",
    "    x_out = Dense(8, name='output', activation='softmax')(bt)\n",
    "    \n",
    "    model = Model(inputs=inp, outputs=x_out)\n",
    "    model.compile(optimizer=Adam(lr=0.003), \n",
    "                  loss='categorical_crossentropy', \n",
    "                  metrics = ['accuracy'])\n",
    "    return model\n",
    "\n",
    "\n"
   ]
  },
  {
   "cell_type": "code",
   "execution_count": 11,
   "metadata": {
    "scrolled": false
   },
   "outputs": [
    {
     "name": "stdout",
     "output_type": "stream",
     "text": [
      "WARNING:tensorflow:From /home/team3/anaconda3/envs/gpu/lib/python3.7/site-packages/tensorflow/python/ops/init_ops.py:1251: calling VarianceScaling.__init__ (from tensorflow.python.ops.init_ops) with dtype is deprecated and will be removed in a future version.\n",
      "Instructions for updating:\n",
      "Call initializer instance with the dtype argument instead of passing it to the constructor\n",
      "Model: \"model\"\n",
      "_________________________________________________________________\n",
      "Layer (type)                 Output Shape              Param #   \n",
      "=================================================================\n",
      "input_1 (InputLayer)         [(None, 224, 341, 3)]     0         \n",
      "_________________________________________________________________\n",
      "conv2d (Conv2D)              (None, 112, 171, 128)     18944     \n",
      "_________________________________________________________________\n",
      "batch_normalization (BatchNo (None, 112, 171, 128)     512       \n",
      "_________________________________________________________________\n",
      "activation (Activation)      (None, 112, 171, 128)     0         \n",
      "_________________________________________________________________\n",
      "max_pooling2d (MaxPooling2D) (None, 56, 86, 128)       0         \n",
      "_________________________________________________________________\n",
      "dropout (Dropout)            (None, 56, 86, 128)       0         \n",
      "_________________________________________________________________\n",
      "conv2d_1 (Conv2D)            (None, 28, 43, 256)       819456    \n",
      "_________________________________________________________________\n",
      "batch_normalization_1 (Batch (None, 28, 43, 256)       1024      \n",
      "_________________________________________________________________\n",
      "activation_1 (Activation)    (None, 28, 43, 256)       0         \n",
      "_________________________________________________________________\n",
      "average_pooling2d (AveragePo (None, 14, 22, 256)       0         \n",
      "_________________________________________________________________\n",
      "dropout_1 (Dropout)          (None, 14, 22, 256)       0         \n",
      "_________________________________________________________________\n",
      "conv2d_2 (Conv2D)            (None, 14, 22, 512)       1180160   \n",
      "_________________________________________________________________\n",
      "batch_normalization_2 (Batch (None, 14, 22, 512)       2048      \n",
      "_________________________________________________________________\n",
      "activation_2 (Activation)    (None, 14, 22, 512)       0         \n",
      "_________________________________________________________________\n",
      "average_pooling2d_1 (Average (None, 7, 11, 512)        0         \n",
      "_________________________________________________________________\n",
      "dropout_2 (Dropout)          (None, 7, 11, 512)        0         \n",
      "_________________________________________________________________\n",
      "conv2d_3 (Conv2D)            (None, 7, 11, 512)        2359808   \n",
      "_________________________________________________________________\n",
      "batch_normalization_3 (Batch (None, 7, 11, 512)        2048      \n",
      "_________________________________________________________________\n",
      "activation_3 (Activation)    (None, 7, 11, 512)        0         \n",
      "_________________________________________________________________\n",
      "average_pooling2d_2 (Average (None, 4, 6, 512)         0         \n",
      "_________________________________________________________________\n",
      "dropout_3 (Dropout)          (None, 4, 6, 512)         0         \n",
      "_________________________________________________________________\n",
      "flatten (Flatten)            (None, 12288)             0         \n",
      "_________________________________________________________________\n",
      "dense (Dense)                (None, 2048)              25167872  \n",
      "_________________________________________________________________\n",
      "batch_normalization_4 (Batch (None, 2048)              8192      \n",
      "_________________________________________________________________\n",
      "activation_4 (Activation)    (None, 2048)              0         \n",
      "_________________________________________________________________\n",
      "dropout_4 (Dropout)          (None, 2048)              0         \n",
      "_________________________________________________________________\n",
      "dense_1 (Dense)              (None, 1024)              2098176   \n",
      "_________________________________________________________________\n",
      "batch_normalization_5 (Batch (None, 1024)              4096      \n",
      "_________________________________________________________________\n",
      "activation_5 (Activation)    (None, 1024)              0         \n",
      "_________________________________________________________________\n",
      "dropout_5 (Dropout)          (None, 1024)              0         \n",
      "_________________________________________________________________\n",
      "dense_2 (Dense)              (None, 512)               524800    \n",
      "_________________________________________________________________\n",
      "batch_normalization_6 (Batch (None, 512)               2048      \n",
      "_________________________________________________________________\n",
      "activation_6 (Activation)    (None, 512)               0         \n",
      "_________________________________________________________________\n",
      "dropout_6 (Dropout)          (None, 512)               0         \n",
      "_________________________________________________________________\n",
      "output (Dense)               (None, 8)                 4104      \n",
      "=================================================================\n",
      "Total params: 32,193,288\n",
      "Trainable params: 32,183,304\n",
      "Non-trainable params: 9,984\n",
      "_________________________________________________________________\n"
     ]
    }
   ],
   "source": [
    "model = build_current_model()\n",
    "model.summary()"
   ]
  },
  {
   "cell_type": "code",
   "execution_count": null,
   "metadata": {},
   "outputs": [],
   "source": [
    "#tf.keras.utils.plot_model(model, \"Model2V7.png\", show_shapes=True)"
   ]
  },
  {
   "cell_type": "code",
   "execution_count": 12,
   "metadata": {
    "scrolled": false
   },
   "outputs": [
    {
     "name": "stdout",
     "output_type": "stream",
     "text": [
      "Train on 10401 samples, validate on 1156 samples\n",
      "Epoch 1/100\n",
      "10401/10401 [==============================] - 48s 5ms/sample - loss: 1.7487 - acc: 0.3778 - val_loss: 5.6675 - val_acc: 0.0026\n",
      "Epoch 2/100\n",
      "10401/10401 [==============================] - 47s 5ms/sample - loss: 1.0537 - acc: 0.6148 - val_loss: 3.1324 - val_acc: 0.0458\n",
      "Epoch 3/100\n",
      "10401/10401 [==============================] - 48s 5ms/sample - loss: 0.6520 - acc: 0.7674 - val_loss: 2.0397 - val_acc: 0.2102\n",
      "Epoch 4/100\n",
      "10401/10401 [==============================] - 48s 5ms/sample - loss: 0.4327 - acc: 0.8519 - val_loss: 2.0685 - val_acc: 0.4118\n",
      "Epoch 5/100\n",
      "10401/10401 [==============================] - 48s 5ms/sample - loss: 0.3013 - acc: 0.9012 - val_loss: 1.1585 - val_acc: 0.5770\n",
      "Epoch 6/100\n",
      "10401/10401 [==============================] - 49s 5ms/sample - loss: 0.2250 - acc: 0.9300 - val_loss: 1.2166 - val_acc: 0.6107\n",
      "Epoch 7/100\n",
      "10401/10401 [==============================] - 49s 5ms/sample - loss: 0.1843 - acc: 0.9431 - val_loss: 1.7139 - val_acc: 0.5502\n",
      "Epoch 8/100\n",
      "10401/10401 [==============================] - 49s 5ms/sample - loss: 0.1449 - acc: 0.9558 - val_loss: 0.4315 - val_acc: 0.8339\n",
      "Epoch 9/100\n",
      "10401/10401 [==============================] - 49s 5ms/sample - loss: 0.1357 - acc: 0.9606 - val_loss: 0.8950 - val_acc: 0.7258\n",
      "Epoch 10/100\n",
      "10401/10401 [==============================] - 49s 5ms/sample - loss: 0.0996 - acc: 0.9696 - val_loss: 0.1982 - val_acc: 0.9161\n",
      "Epoch 11/100\n",
      "10401/10401 [==============================] - 49s 5ms/sample - loss: 0.1038 - acc: 0.9697 - val_loss: 0.2575 - val_acc: 0.9204\n",
      "Epoch 12/100\n",
      "10401/10401 [==============================] - 49s 5ms/sample - loss: 0.0766 - acc: 0.9778 - val_loss: 0.2281 - val_acc: 0.9161\n",
      "Epoch 13/100\n",
      "10401/10401 [==============================] - 49s 5ms/sample - loss: 0.0851 - acc: 0.9746 - val_loss: 0.1903 - val_acc: 0.9455\n",
      "Epoch 14/100\n",
      "10401/10401 [==============================] - 49s 5ms/sample - loss: 0.0714 - acc: 0.9774 - val_loss: 0.1735 - val_acc: 0.9394\n",
      "Epoch 15/100\n",
      "10401/10401 [==============================] - 49s 5ms/sample - loss: 0.0549 - acc: 0.9836 - val_loss: 0.2304 - val_acc: 0.9187\n",
      "Epoch 16/100\n",
      "10401/10401 [==============================] - 49s 5ms/sample - loss: 0.0749 - acc: 0.9794 - val_loss: 0.1040 - val_acc: 0.9645\n",
      "Epoch 17/100\n",
      "10401/10401 [==============================] - 49s 5ms/sample - loss: 0.0608 - acc: 0.9822 - val_loss: 0.2356 - val_acc: 0.8901\n",
      "Epoch 18/100\n",
      "10401/10401 [==============================] - 49s 5ms/sample - loss: 0.0512 - acc: 0.9845 - val_loss: 0.0710 - val_acc: 0.9706\n",
      "Epoch 19/100\n",
      "10401/10401 [==============================] - 49s 5ms/sample - loss: 0.0566 - acc: 0.9851 - val_loss: 0.0528 - val_acc: 0.9844\n",
      "Epoch 20/100\n",
      "10401/10401 [==============================] - 49s 5ms/sample - loss: 0.0467 - acc: 0.9860 - val_loss: 0.2182 - val_acc: 0.9196\n",
      "Epoch 21/100\n",
      "10401/10401 [==============================] - 49s 5ms/sample - loss: 0.0482 - acc: 0.9878 - val_loss: 0.1092 - val_acc: 0.9550\n",
      "Epoch 22/100\n",
      "10401/10401 [==============================] - 49s 5ms/sample - loss: 0.0455 - acc: 0.9870 - val_loss: 0.0972 - val_acc: 0.9654\n",
      "Epoch 23/100\n",
      "10401/10401 [==============================] - 49s 5ms/sample - loss: 0.0508 - acc: 0.9850 - val_loss: 0.0347 - val_acc: 0.9879\n",
      "Epoch 24/100\n",
      "10401/10401 [==============================] - 49s 5ms/sample - loss: 0.0335 - acc: 0.9904 - val_loss: 0.0766 - val_acc: 0.9792\n",
      "Epoch 25/100\n",
      "10401/10401 [==============================] - 49s 5ms/sample - loss: 0.0516 - acc: 0.9873 - val_loss: 0.0522 - val_acc: 0.9784\n",
      "Epoch 26/100\n",
      "10401/10401 [==============================] - 49s 5ms/sample - loss: 0.0376 - acc: 0.9893 - val_loss: 0.1082 - val_acc: 0.9585\n",
      "Epoch 27/100\n",
      "10401/10401 [==============================] - 49s 5ms/sample - loss: 0.0403 - acc: 0.9893 - val_loss: 0.0452 - val_acc: 0.9870\n",
      "Epoch 28/100\n",
      "10401/10401 [==============================] - 49s 5ms/sample - loss: 0.0352 - acc: 0.9892 - val_loss: 0.0225 - val_acc: 0.9913\n",
      "Epoch 29/100\n",
      "10401/10401 [==============================] - 49s 5ms/sample - loss: 0.0443 - acc: 0.9871 - val_loss: 0.0296 - val_acc: 0.9879\n",
      "Epoch 30/100\n",
      "10401/10401 [==============================] - 49s 5ms/sample - loss: 0.0342 - acc: 0.9900 - val_loss: 0.3421 - val_acc: 0.9126\n",
      "Epoch 31/100\n",
      "10401/10401 [==============================] - 49s 5ms/sample - loss: 0.0332 - acc: 0.9914 - val_loss: 0.0204 - val_acc: 0.9931\n",
      "Epoch 32/100\n",
      "10401/10401 [==============================] - 49s 5ms/sample - loss: 0.0476 - acc: 0.9876 - val_loss: 0.0183 - val_acc: 0.9965\n",
      "Epoch 33/100\n",
      "10401/10401 [==============================] - 49s 5ms/sample - loss: 0.0302 - acc: 0.9916 - val_loss: 0.1050 - val_acc: 0.9559\n",
      "Epoch 34/100\n",
      "10401/10401 [==============================] - 49s 5ms/sample - loss: 0.0237 - acc: 0.9937 - val_loss: 0.2893 - val_acc: 0.9282\n",
      "Epoch 35/100\n",
      "10401/10401 [==============================] - 49s 5ms/sample - loss: 0.0321 - acc: 0.9898 - val_loss: 0.0625 - val_acc: 0.9758\n",
      "Epoch 36/100\n",
      "10401/10401 [==============================] - 49s 5ms/sample - loss: 0.0300 - acc: 0.9915 - val_loss: 0.0290 - val_acc: 0.9913\n",
      "Epoch 37/100\n",
      "10401/10401 [==============================] - 49s 5ms/sample - loss: 0.0309 - acc: 0.9924 - val_loss: 0.0067 - val_acc: 0.9991\n",
      "Epoch 38/100\n",
      "10401/10401 [==============================] - 49s 5ms/sample - loss: 0.0365 - acc: 0.9913 - val_loss: 0.0012 - val_acc: 1.0000\n",
      "Epoch 39/100\n",
      "10401/10401 [==============================] - 49s 5ms/sample - loss: 0.0307 - acc: 0.9924 - val_loss: 0.0186 - val_acc: 0.9939\n",
      "Epoch 40/100\n",
      "10401/10401 [==============================] - 49s 5ms/sample - loss: 0.0207 - acc: 0.9927 - val_loss: 3.5787e-04 - val_acc: 1.0000\n",
      "Epoch 41/100\n",
      "10401/10401 [==============================] - 49s 5ms/sample - loss: 0.0457 - acc: 0.9895 - val_loss: 0.0347 - val_acc: 0.9870\n",
      "Epoch 42/100\n",
      "10401/10401 [==============================] - 49s 5ms/sample - loss: 0.0285 - acc: 0.9925 - val_loss: 3.9539e-04 - val_acc: 1.0000\n",
      "Epoch 43/100\n",
      "10401/10401 [==============================] - 49s 5ms/sample - loss: 0.0200 - acc: 0.9948 - val_loss: 0.0832 - val_acc: 0.9689\n",
      "Epoch 44/100\n",
      "10401/10401 [==============================] - 49s 5ms/sample - loss: 0.0324 - acc: 0.9931 - val_loss: 0.0118 - val_acc: 0.9957\n",
      "Epoch 45/100\n",
      "10401/10401 [==============================] - 49s 5ms/sample - loss: 0.0404 - acc: 0.9914 - val_loss: 0.0198 - val_acc: 0.9922\n",
      "Epoch 46/100\n",
      "10401/10401 [==============================] - 49s 5ms/sample - loss: 0.0252 - acc: 0.9921 - val_loss: 0.0017 - val_acc: 1.0000\n",
      "Epoch 47/100\n",
      "10401/10401 [==============================] - 49s 5ms/sample - loss: 0.0139 - acc: 0.9963 - val_loss: 0.0021 - val_acc: 1.0000\n",
      "Epoch 48/100\n",
      "10401/10401 [==============================] - 49s 5ms/sample - loss: 0.0336 - acc: 0.9916 - val_loss: 0.0036 - val_acc: 0.9983\n",
      "Epoch 49/100\n",
      "10401/10401 [==============================] - 49s 5ms/sample - loss: 0.0228 - acc: 0.9943 - val_loss: 0.1103 - val_acc: 0.9680\n",
      "Epoch 50/100\n",
      "10401/10401 [==============================] - 49s 5ms/sample - loss: 0.0257 - acc: 0.9937 - val_loss: 0.0073 - val_acc: 0.9965\n",
      "Epoch 51/100\n",
      "10401/10401 [==============================] - 49s 5ms/sample - loss: 0.0276 - acc: 0.9927 - val_loss: 0.0373 - val_acc: 0.9836\n",
      "Epoch 52/100\n",
      "10401/10401 [==============================] - 49s 5ms/sample - loss: 0.0182 - acc: 0.9967 - val_loss: 0.0019 - val_acc: 0.9991\n",
      "Epoch 53/100\n",
      "10401/10401 [==============================] - 49s 5ms/sample - loss: 0.0241 - acc: 0.9934 - val_loss: 0.0473 - val_acc: 0.9844\n",
      "Epoch 54/100\n",
      "10401/10401 [==============================] - 49s 5ms/sample - loss: 0.0185 - acc: 0.9944 - val_loss: 0.0131 - val_acc: 0.9965\n",
      "Epoch 55/100\n",
      "10401/10401 [==============================] - 49s 5ms/sample - loss: 0.0156 - acc: 0.9952 - val_loss: 0.1041 - val_acc: 0.9680\n",
      "Epoch 56/100\n",
      "10401/10401 [==============================] - 49s 5ms/sample - loss: 0.0251 - acc: 0.9931 - val_loss: 0.0175 - val_acc: 0.9974\n",
      "Epoch 57/100\n",
      "10401/10401 [==============================] - 49s 5ms/sample - loss: 0.0307 - acc: 0.9931 - val_loss: 2.5523e-04 - val_acc: 1.0000\n",
      "Epoch 58/100\n",
      "10401/10401 [==============================] - 49s 5ms/sample - loss: 0.0189 - acc: 0.9956 - val_loss: 0.0850 - val_acc: 0.9758\n"
     ]
    },
    {
     "name": "stdout",
     "output_type": "stream",
     "text": [
      "Epoch 59/100\n",
      "10401/10401 [==============================] - 49s 5ms/sample - loss: 0.0179 - acc: 0.9952 - val_loss: 0.0052 - val_acc: 0.9983\n",
      "Epoch 60/100\n",
      "10401/10401 [==============================] - 49s 5ms/sample - loss: 0.0154 - acc: 0.9959 - val_loss: 0.0021 - val_acc: 0.9991\n",
      "Epoch 61/100\n",
      "10401/10401 [==============================] - 49s 5ms/sample - loss: 0.0196 - acc: 0.9942 - val_loss: 0.0132 - val_acc: 0.9948\n",
      "Epoch 62/100\n",
      "10401/10401 [==============================] - 49s 5ms/sample - loss: 0.0263 - acc: 0.9930 - val_loss: 0.0781 - val_acc: 0.9758\n",
      "Epoch 63/100\n",
      "10392/10401 [============================>.] - ETA: 0s - loss: 0.0324 - acc: 0.9926Restoring model weights from the end of the best epoch.\n",
      "10401/10401 [==============================] - 49s 5ms/sample - loss: 0.0325 - acc: 0.9925 - val_loss: 0.0270 - val_acc: 0.9939\n",
      "Epoch 00063: early stopping\n"
     ]
    }
   ],
   "source": [
    "\n",
    "my_callbacks = [tf.keras.callbacks.EarlyStopping(monitor='val_acc',patience=25,verbose=1, mode='max',restore_best_weights=True)]\n",
    "\n",
    "history = model.fit(X_train, Y_train, \n",
    "              epochs = 100, \n",
    "              validation_split=0.1, \n",
    "              verbose=1, \n",
    "              batch_size = 8,\n",
    "#             class_weight = class_weight\n",
    "                 callbacks=my_callbacks   )\n",
    "\n",
    "history_info = history.history\n",
    "\n"
   ]
  },
  {
   "cell_type": "markdown",
   "metadata": {},
   "source": [
    "<h2>Evaluation (Basic)</h2>"
   ]
  },
  {
   "cell_type": "code",
   "execution_count": 23,
   "metadata": {
    "scrolled": true
   },
   "outputs": [
    {
     "data": {
      "text/plain": [
       "<matplotlib.axes._subplots.AxesSubplot at 0x7f0af9f1bc10>"
      ]
     },
     "execution_count": 23,
     "metadata": {},
     "output_type": "execute_result"
    },
    {
     "data": {
      "image/png": "[encoded data removed]",
      "text/plain": [
       "<Figure size 432x288 with 2 Axes>"
      ]
     },
     "metadata": {
      "needs_background": "light"
     },
     "output_type": "display_data"
    }
   ],
   "source": [
    "## Loss and accuracy history\n",
    "_, axs = plt.subplots(ncols=2)\n",
    "df_history_info = pd.DataFrame(history_info) \n",
    "\n",
    "\n",
    "sns.lineplot(data=df_history_info['loss'],ax=axs[0], label='Training Loss', legend='brief')\n",
    "sns.lineplot(data=df_history_info['val_loss'],ax=axs[0], label='Validation Loss', legend='brief')\n",
    "\n",
    "sns.lineplot(data=df_history_info['acc'],ax=axs[1], label='Training Accuracy', legend='brief')\n",
    "sns.lineplot(data=df_history_info['val_acc'],ax=axs[1], label='Validation Accuracy', legend='brief')"
   ]
  },
  {
   "cell_type": "code",
   "execution_count": 24,
   "metadata": {},
   "outputs": [],
   "source": [
    "def generate_actual_predicted(Y_pred, X_test, Y_test): \n",
    "    predicted = list()\n",
    "    for i in range(len(Y_pred)):\n",
    "        predicted.append(np.argmax(Y_pred[i]))\n",
    "        \n",
    "    actual = list()\n",
    "    for i in range(len(Y_test)):\n",
    "        actual.append(np.argmax(Y_test[i]))\n",
    "        \n",
    "    return actual, predicted"
   ]
  },
  {
   "cell_type": "code",
   "execution_count": 25,
   "metadata": {},
   "outputs": [
    {
     "name": "stdout",
     "output_type": "stream",
     "text": [
      "[[  5   0   0   0   0   0   0   0]\n",
      " [  0  25   0   0   0   0   0   1]\n",
      " [  0   0  18   0   2   0   0   3]\n",
      " [  0   0   0  59   2   0   0   0]\n",
      " [  0   1   1   0 357   0   1   0]\n",
      " [  0   0   2   1   1  50   0   0]\n",
      " [  0   0   1   0   2   0  20   1]\n",
      " [  0   0   0   0   2   0   0  84]]\n"
     ]
    },
    {
     "data": {
      "image/png": "[encoded data removed]",
      "text/plain": [
       "<Figure size 432x288 with 2 Axes>"
      ]
     },
     "metadata": {
      "needs_background": "light"
     },
     "output_type": "display_data"
    }
   ],
   "source": [
    "Y_pred = model.predict(X_test)\n",
    "actual, predicted = generate_actual_predicted(Y_pred, X_test, Y_test)\n",
    "\n",
    "##Confusion Matrix\n",
    "from sklearn.metrics import confusion_matrix\n",
    "actual_labeled = list()\n",
    "predict_labeled = list()\n",
    "for x,y in zip(actual,predicted):\n",
    "    actual_labeled.append(getSpecies(x))\n",
    "    predict_labeled.append(getSpecies(y))\n",
    "\n",
    "labels = ['ASETRI','EPTBOT','MYOEMA','PIPKUH','RHIMUS','RHYNAS', 'ROUAEG', 'TAPPER']\n",
    "cm=confusion_matrix(actual_labeled,predict_labeled,labels=labels)\n",
    "print(cm)\n",
    "\n",
    "ax= plt.subplot()\n",
    "sns.heatmap(cm, annot=True, ax = ax); #annot=True to annotate cells\n",
    "\n",
    "# labels, title and ticks\n",
    "ax.set_xlabel('Predicted labels');ax.set_ylabel('True labels'); \n",
    "ax.set_title('Confusion Matrix'); \n",
    "ax.xaxis.set_ticklabels(labels,rotation=45); ax.yaxis.set_ticklabels(labels,rotation=45);"
   ]
  },
  {
   "cell_type": "code",
   "execution_count": 16,
   "metadata": {
    "scrolled": true
   },
   "outputs": [
    {
     "name": "stdout",
     "output_type": "stream",
     "text": [
      "accuracy 0.9671361502347418\n"
     ]
    }
   ],
   "source": [
    "## Test accuracy\n",
    "from sklearn.metrics import accuracy_score\n",
    "print('accuracy', accuracy_score(actual, predicted))\n"
   ]
  },
  {
   "cell_type": "code",
   "execution_count": 17,
   "metadata": {
    "scrolled": false
   },
   "outputs": [
    {
     "name": "stdout",
     "output_type": "stream",
     "text": [
      "              precision    recall  f1-score   support\n",
      "\n",
      "      ASETRI       1.00      1.00      1.00         5\n",
      "      EPTBOT       0.96      0.96      0.96        26\n",
      "      MYOEMA       0.82      0.78      0.80        23\n",
      "      PIPKUH       0.98      0.97      0.98        61\n",
      "      RHIMUS       0.98      0.99      0.98       360\n",
      "      RHYNAS       1.00      0.93      0.96        54\n",
      "      ROUAEG       0.95      0.83      0.89        24\n",
      "      TAPPER       0.94      0.98      0.96        86\n",
      "\n",
      "    accuracy                           0.97       639\n",
      "   macro avg       0.95      0.93      0.94       639\n",
      "weighted avg       0.97      0.97      0.97       639\n",
      "\n"
     ]
    }
   ],
   "source": [
    "## Precision, Recall, F1, Support\n",
    "from sklearn.metrics import classification_report\n",
    "print(classification_report(actual_labeled, predict_labeled,labels=labels))"
   ]
  },
  {
   "cell_type": "code",
   "execution_count": 18,
   "metadata": {
    "scrolled": false
   },
   "outputs": [
    {
     "name": "stdout",
     "output_type": "stream",
     "text": [
      "One-vs-One ROC AUC scores:\n",
      "0.9921223378760874 (macro)\n",
      "0.9953477869016885 (weighted by prevalence)\n",
      "\n",
      "One-vs-Rest ROC AUC scores:\n",
      "0.9945803980388042 (macro)\n",
      "0.9976448011729748 (weighted by prevalence)\n"
     ]
    }
   ],
   "source": [
    "##ROC AUC Scores\n",
    "from sklearn.metrics import roc_auc_score\n",
    "print('One-vs-One ROC AUC scores:')\n",
    "print(roc_auc_score(actual, Y_pred, average='macro', multi_class='ovo'), '(macro)')\n",
    "print(roc_auc_score(actual, Y_pred, average='weighted', multi_class='ovo'), '(weighted by prevalence)')\n",
    "\n",
    "\n",
    "print()\n",
    "print('One-vs-Rest ROC AUC scores:')\n",
    "print(roc_auc_score(actual, Y_pred, average='macro', multi_class='ovr'), '(macro)')\n",
    "print(roc_auc_score(actual, Y_pred, average='weighted', multi_class='ovr'), '(weighted by prevalence)')"
   ]
  },
  {
   "cell_type": "code",
   "execution_count": 19,
   "metadata": {},
   "outputs": [
    {
     "name": "stderr",
     "output_type": "stream",
     "text": [
      "/home/team3/anaconda3/envs/gpu/lib/python3.7/site-packages/ipykernel_launcher.py:26: DeprecationWarning: scipy.interp is deprecated and will be removed in SciPy 2.0.0, use numpy.interp instead\n"
     ]
    },
    {
     "data": {
      "text/plain": [
       "[<matplotlib.lines.Line2D at 0x7f0afa183490>]"
      ]
     },
     "execution_count": 19,
     "metadata": {},
     "output_type": "execute_result"
    },
    {
     "data": {
      "image/png": "[encoded data removed]",
      "text/plain": [
       "<Figure size 432x288 with 1 Axes>"
      ]
     },
     "metadata": {
      "needs_background": "light"
     },
     "output_type": "display_data"
    }
   ],
   "source": [
    "## ROC Curves\n",
    "from sklearn.metrics import roc_curve, auc\n",
    "import seaborn as sns\n",
    "from scipy import interp\n",
    "\n",
    "### The following curves are generated s.t each point is a model from differing thresholds\n",
    "\n",
    "### ROC Curves + AUC per class\n",
    "\n",
    "_, axs = plt.subplots(ncols=1)\n",
    "axs.set(xlabel='False Positive Rate',ylabel='True Positive Rate', title='ROC Curve')\n",
    "\n",
    "fpr = [0] * 8\n",
    "tpr = [0] * 8\n",
    "for i in range(8):\n",
    "    fpr[i], tpr[i], _ = roc_curve(Y_test[:,i], Y_pred[:,i])\n",
    "    auc_val = auc(fpr[i], tpr[i])\n",
    "    auc_val = np.around(auc_val,4)\n",
    "    sns.lineplot(x=fpr[i],y=tpr[i],ax=axs, label='Class '+ getSpecies(i) +' (area = ' + str(auc_val) + ')', legend='brief')\n",
    "\n",
    "#### Micro/Macro ROC Curves + AUC over all classes\n",
    "\n",
    "all_fpr = np.unique(np.concatenate([fpr[i] for i in range(8)]))\n",
    "mean_tpr = np.zeros_like(all_fpr)\n",
    "for i in range(8):\n",
    "    mean_tpr += interp(all_fpr, fpr[i], tpr[i])\n",
    "\n",
    "mean_tpr /= 8\n",
    "\n",
    "fpr_macro = all_fpr\n",
    "tpr_macro = mean_tpr\n",
    "roc_auc_macro = auc(fpr_macro, tpr_macro)\n",
    "fpr_micro, tpr_micro,_ = roc_curve(Y_test.ravel(), Y_pred.ravel())\n",
    "roc_auc_micro = auc(fpr_micro, tpr_micro)\n",
    "\n",
    "\n",
    "## Diagonal line for comparison\n",
    "plt.plot([0, 1], [0, 1], 'k--', lw=2)\n",
    "\n",
    "# get the best threshold\n",
    "J = tpr - fpr\n",
    "ix = argmax(J)\n",
    "best_thresh = thresholds[ix]\n",
    "print('Best Threshold=%f' % (best_thresh))"
   ]
  },
  {
   "cell_type": "code",
   "execution_count": 20,
   "metadata": {
    "scrolled": true
   },
   "outputs": [
    {
     "name": "stderr",
     "output_type": "stream",
     "text": [
      "/home/team3/anaconda3/envs/gpu/lib/python3.7/site-packages/ipykernel_launcher.py:26: DeprecationWarning: scipy.interp is deprecated and will be removed in SciPy 2.0.0, use numpy.interp instead\n"
     ]
    },
    {
     "data": {
      "text/plain": [
       "[<matplotlib.lines.Line2D at 0x7f0afa0eabd0>]"
      ]
     },
     "execution_count": 20,
     "metadata": {},
     "output_type": "execute_result"
    },
    {
     "data": {
      "image/png": "[encoded data removed]",
      "text/plain": [
       "<Figure size 432x288 with 1 Axes>"
      ]
     },
     "metadata": {
      "needs_background": "light"
     },
     "output_type": "display_data"
    }
   ],
   "source": [
    "## ROC Curves\n",
    "from sklearn.metrics import roc_curve, auc\n",
    "import seaborn as sns\n",
    "from scipy import interp\n",
    "\n",
    "### The following curves are generated s.t each point is a model from differing thresholds\n",
    "\n",
    "### ROC Curves + AUC per class\n",
    "\n",
    "_, axs = plt.subplots(ncols=1)\n",
    "axs.set(xlabel='False Positive Rate',ylabel='True Positive Rate', title='ROC Curve')\n",
    "\n",
    "fpr = [0] * 8\n",
    "tpr = [0] * 8\n",
    "for i in range(8):\n",
    "    fpr[i], tpr[i], _ = roc_curve(Y_test[:,i], Y_pred[:,i])\n",
    "    auc_val = auc(fpr[i], tpr[i])\n",
    "    auc_val = np.around(auc_val,4)\n",
    "    sns.lineplot(x=fpr[i],y=tpr[i],ax=axs, label='Class '+ getSpecies(i) +' (area = ' + str(auc_val) + ')', legend='brief')\n",
    "\n",
    "#### Micro/Macro ROC Curves + AUC over all classes\n",
    "\n",
    "all_fpr = np.unique(np.concatenate([fpr[i] for i in range(8)]))\n",
    "mean_tpr = np.zeros_like(all_fpr)\n",
    "for i in range(8):\n",
    "    mean_tpr += interp(all_fpr, fpr[i], tpr[i])\n",
    "\n",
    "mean_tpr /= 8\n",
    "\n",
    "fpr_macro = all_fpr\n",
    "tpr_macro = mean_tpr\n",
    "roc_auc_macro = auc(fpr_macro, tpr_macro)\n",
    "fpr_micro, tpr_micro,_ = roc_curve(Y_test.ravel(), Y_pred.ravel())\n",
    "roc_auc_micro = auc(fpr_micro, tpr_micro)\n",
    "\n",
    "roc_auc_macro = np.around(roc_auc_macro,4)\n",
    "roc_auc_micro = np.around(roc_auc_micro,4)\n",
    "sns.lineplot(x=fpr_macro,y=tpr_macro,ax=axs, label='Macro-average ROC curve (area = ' + str(roc_auc_macro) + ')', legend='brief')\n",
    "sns.lineplot(x=fpr_micro,y=tpr_micro,ax=axs, label='Micro-average ROC curve (area = ' + str(roc_auc_micro) + ')', legend='brief')\n",
    "\n",
    "## Diagonal line for comparison\n",
    "plt.plot([0, 1], [0, 1], 'k--', lw=2)"
   ]
  },
  {
   "cell_type": "code",
   "execution_count": 26,
   "metadata": {},
   "outputs": [
    {
     "data": {
      "text/plain": [
       "[<matplotlib.lines.Line2D at 0x7f0af9c4d290>]"
      ]
     },
     "execution_count": 26,
     "metadata": {},
     "output_type": "execute_result"
    },
    {
     "data": {
      "image/png": "[encoded data removed]",
      "text/plain": [
       "<Figure size 432x288 with 1 Axes>"
      ]
     },
     "metadata": {
      "needs_background": "light"
     },
     "output_type": "display_data"
    }
   ],
   "source": [
    "## Precision/Recall Curves per class\n",
    "### The following curves are generated s.t each point is a model from differing thresholds\n",
    "from sklearn.metrics import precision_recall_curve\n",
    "\n",
    "_, axs = plt.subplots(ncols=1)\n",
    "axs.set(xlabel='Recall',ylabel='Precision', title='Precision/Recall Curve')\n",
    "\n",
    "prec = [0] * 8\n",
    "rec = [0] * 8\n",
    "threshold=[]\n",
    "for i in range(8):\n",
    "    prec[i], rec[i], threshold = precision_recall_curve(Y_test[:,i], Y_pred[:,i])\n",
    "    sns.lineplot(x=rec[i],y=prec[i],ax=axs, label='Class '+ getSpecies(i), legend='brief')\n",
    "\n",
    "# Diagonal line for comparison\n",
    "plt.plot([1, 0], [0, 1], 'k--', lw=2)"
   ]
  },
  {
   "cell_type": "markdown",
   "metadata": {},
   "source": [
    "<h2>K-Fold Training and Evaluation</h2>"
   ]
  },
  {
   "cell_type": "code",
   "execution_count": 22,
   "metadata": {},
   "outputs": [],
   "source": [
    "#Precision Mean and Standard Deviation\n",
    "#Recall Mean and Standard Deviation\n",
    "#F1 Measure Mean and Standard Deviation\n",
    "#True Positive Rate. Mean and Standard Deviation\n",
    "#False Negative Rate Mean and Standard Deviation\n",
    "#Best/Worst ROC\n",
    "#Best/Worst Precision/Recall\n",
    "#Accuracy Mean and Standard Deviation"
   ]
  },
  {
   "cell_type": "code",
   "execution_count": null,
   "metadata": {},
   "outputs": [],
   "source": [
    "from sklearn.metrics import precision_recall_fscore_support\n",
    "from sklearn.model_selection import StratifiedKFold\n",
    "from sklearn.metrics import accuracy_score, precision_score, recall_score, f1_score, roc_auc_score, roc_curve, auc, precision_recall_curve\n",
    "from sklearn.metrics import confusion_matrix\n",
    "\n",
    "all_base_precision = list()\n",
    "all_base_recall = list()\n",
    "all_macro_precision = list()\n",
    "all_macro_recall = list()\n",
    "all_f1 = list()\n",
    "all_macro_f1 = list()\n",
    "\n",
    "\n",
    "all_tpr = list()\n",
    "all_fpr = list()\n",
    "all_precision = list()\n",
    "all_recall = list()\n",
    "all_cm=list()\n",
    "all_accuracy = list()\n",
    "\n",
    "\n",
    "n_split=5\n",
    "n_classes=8\n",
    "\n",
    "y_all_labelled=[]\n",
    "for i in range(len(Y_all)):\n",
    "        y_all_labelled.append(np.argmax(Y_all[i]))\n",
    "        \n",
    "my_callbacks = [tf.keras.callbacks.EarlyStopping(monitor='val_acc',patience=25,verbose=1, mode='max',restore_best_weights=True)]\n",
    "       \n",
    "for train_index,test_index in StratifiedKFold(n_split).split(X_all,y_all_labelled):  \n",
    "    # use the index to generate training an testing sets\n",
    "    x_train,x_test=X_all[train_index],X_all[test_index]\n",
    "    y_train,y_test=Y_all[train_index],Y_all[test_index]\n",
    "\n",
    "       \n",
    "    # create and fit the model\n",
    "   \n",
    "    cv_model=build_current_model() # lr,dense,cnn\n",
    "    history = cv_model.fit(x_train, y_train,\n",
    "              batch_size=8,\n",
    "              epochs=100,\n",
    "              validation_split=0.1,\n",
    "              verbose=1,\n",
    "            callbacks=my_callbacks)\n",
    "    \n",
    "    #generate predictions\n",
    "    y_pred = cv_model.predict(x_test)\n",
    "    actual, predicted = generate_actual_predicted(y_pred, x_test, y_test)\n",
    "    \n",
    "    #calc metrics\n",
    "    curr_base_prec, curr_base_rec, curr_f1, _ = precision_recall_fscore_support(actual, predicted)\n",
    "    curr_macro_prec = precision_score(actual, predicted,average='macro')\n",
    "    curr_macro_rec = recall_score(actual, predicted,average='macro')\n",
    "    curr_macro_f1 = f1_score(actual, predicted,average='macro')\n",
    "    \n",
    "    \n",
    "    actual_labeled = list()\n",
    "    predict_labeled = list()\n",
    "    for x,y in zip(actual,predicted):\n",
    "        actual_labeled.append(getSpecies(x))\n",
    "        predict_labeled.append(getSpecies(y))\n",
    "        \n",
    "    labels = ['ASETRI','EPTBOT','MYOEMA','PIPKUH','RHIMUS','RHYNAS', 'ROUAEG', 'TAPPER']\n",
    "    curr_cm=confusion_matrix(actual_labeled,predict_labeled,labels=labels)\n",
    "    \n",
    "    curr_fpr = [0] * n_classes\n",
    "    curr_tpr = [0] * n_classes\n",
    "    for i in range(n_classes):\n",
    "        curr_fpr[i], curr_tpr[i], _ = roc_curve(y_test[:,i], y_pred[:,i])\n",
    "        \n",
    "    curr_prec = [0] * n_classes\n",
    "    curr_rec = [0] * n_classes\n",
    "    for i in range(n_classes):\n",
    "        curr_prec[i], curr_rec[i], _ = precision_recall_curve(y_test[:,i], y_pred[:,i])\n",
    "\n",
    "        \n",
    "    curr_accuracy = accuracy_score(actual, predicted)\n",
    "    \n",
    "    #add to lists\n",
    "    all_base_precision.append(curr_base_prec)\n",
    "    all_base_recall.append(curr_base_rec)\n",
    "    all_macro_precision.append(curr_macro_prec)\n",
    "    all_macro_recall.append(curr_macro_rec)\n",
    "    \n",
    "    all_f1.append(curr_f1)\n",
    "    all_macro_f1.append(curr_macro_f1)\n",
    "    \n",
    "    all_accuracy.append(curr_accuracy)\n",
    "\n",
    "    \n",
    "    all_fpr.append(curr_fpr)\n",
    "    all_tpr.append(curr_tpr)\n",
    "    all_precision.append(curr_prec)\n",
    "    all_recall.append(curr_rec)\n",
    "    all_cm.append(curr_cm)\n",
    "    \n",
    "    \n",
    "    "
   ]
  },
  {
   "cell_type": "code",
   "execution_count": null,
   "metadata": {},
   "outputs": [],
   "source": [
    "print('precision mean by class', np.array(all_base_precision).mean(axis=0))\n",
    "print('precision sdev by class', np.array(all_base_precision).std(axis=0))\n",
    "\n",
    "print('macro precision mean', np.array(all_macro_precision).mean())\n",
    "print('macro precision sdev', np.array(all_macro_precision).std())\n",
    "\n",
    "\n",
    "print('recall mean', np.array(all_base_recall).mean(axis=0))\n",
    "print('recall sdev', np.array(all_base_recall).std(axis=0))\n",
    "\n",
    "print('macro recall mean', np.array(all_macro_recall).mean())\n",
    "print('macro recall sdev', np.array(all_macro_recall).std())\n",
    "\n",
    "print('f1 mean', np.array(all_f1).mean(axis=0))\n",
    "print('f1 sdev', np.array(all_f1).std(axis=0))\n",
    "\n",
    "print('macro f1 mean', np.array(all_macro_f1).mean())\n",
    "print('macro f1 sdev', np.array(all_macro_f1).std())\n",
    "\n",
    "print('accuracy mean', np.array(all_accuracy).mean())\n",
    "print('accuracy sdev', np.array(all_accuracy).std())\n",
    "\n"
   ]
  },
  {
   "cell_type": "code",
   "execution_count": null,
   "metadata": {},
   "outputs": [],
   "source": [
    "# Plot all K-Fold ROC curves\n",
    "\n",
    "for i in range(n_split):\n",
    "    _, axs = plt.subplots(ncols=1)\n",
    "    axs.set(xlabel='False Positive Rate',ylabel='True Positive Rate', title='ROC Curve K-Fold#'+str(i+1))\n",
    "    for j in range(n_classes):\n",
    "        auc_val = auc(all_fpr[i][j], all_tpr[i][j])\n",
    "        sns.lineplot(x=all_fpr[i][j],y=all_tpr[i][j],ax=axs, label='Class '+ getSpecies(j) +' (area = ' + str(auc_val) + ')', legend='brief')\n",
    "        "
   ]
  },
  {
   "cell_type": "code",
   "execution_count": null,
   "metadata": {},
   "outputs": [],
   "source": [
    "#Plot all K-Fold Precision/Recall curves\n",
    "for i in range(n_split):\n",
    "    _, axs = plt.subplots(ncols=1)\n",
    "    axs.set(xlabel='Recall',ylabel='Precision', title='Precision/Recall Curve K-Fold#'+str(i+1))\n",
    "    for j in range(n_classes):\n",
    "        sns.lineplot(x=all_recall[i][j],y=all_precision[i][j],ax=axs, label='Class '+ getSpecies(j), legend='brief')"
   ]
  },
  {
   "cell_type": "code",
   "execution_count": null,
   "metadata": {},
   "outputs": [],
   "source": [
    "## Plot all K-Fold confusion matrices\n",
    "import numpy as np\n",
    "import matplotlib.pylab as pl\n",
    "import matplotlib.gridspec as gridspec\n",
    "from matplotlib import pyplot as plt\n",
    "\n",
    "# Create 1X 5 sub plots\n",
    "# gs = gridspec.GridSpec(1,n_split)\n",
    "figs=[]\n",
    "for i in range(n_split):\n",
    "    figs.append(plt.figure())\n",
    "    \n",
    "for i in range(n_split):\n",
    "    print('Confusion Matrix K-Fold #'+ str(i+1)+\"\\n\")\n",
    "    print(all_cm[i])\n",
    "    print(\"\\n\")\n",
    "    \n",
    "    ax=figs[i].add_subplot()\n",
    "    sns.heatmap(all_cm[i], annot=True, ax = ax); #annot=True to annotate cells\n",
    "\n",
    "    \n",
    "    # labels, title and ticks\n",
    "    ax.set_xlabel('Predicted labels');ax.set_ylabel('True labels'); \n",
    "    ax.set_title('Confusion Matrix K-Fold #'+ str(i+1)); \n",
    "    ax.xaxis.set_ticklabels(labels,rotation=45); ax.yaxis.set_ticklabels(labels,rotation=45);\n",
    "    \n",
    "    \n",
    "    "
   ]
  },
  {
   "cell_type": "code",
   "execution_count": null,
   "metadata": {},
   "outputs": [],
   "source": [
    "# plot macro cm\n",
    "\n",
    "sum_all_cm=np.zeros((n_classes,n_classes)).astype('int64')\n",
    "for i in range(n_split):\n",
    "    sum_all_cm+=all_cm[i]\n",
    "    \n",
    "    \n",
    "#plot \n",
    "figs=[]\n",
    "for i in range(2):\n",
    "    figs.append(plt.figure())\n",
    "       \n",
    "print(\"sum of all confuion matrices\\n\",sum_all_cm)\n",
    "ax=figs[0].add_subplot()\n",
    "sns.heatmap(sum_all_cm, annot=True, ax = ax);\n",
    "\n",
    "avg_all_cm=np.divide(sum_all_cm,n_split).astype('int64')\n",
    "print(\"\\naverage of all confuion matrices\\n\",avg_all_cm)\n",
    "ax=figs[1].add_subplot()\n",
    "sns.heatmap(avg_all_cm, annot=True, ax = ax);"
   ]
  },
  {
   "cell_type": "code",
   "execution_count": null,
   "metadata": {},
   "outputs": [],
   "source": [
    "import numpy as np\n",
    "import matplotlib.pyplot as plt\n",
    "import seaborn as sns\n",
    "\n",
    "C = np.array([[  23, 0, 0 , 0, 1,  0,    1,    0],\n",
    " [   0, 119   , 1 ,   0,    6,    3,    1,    1],\n",
    " [   0,    0,   93,    3,    4,    2,    8,    4],\n",
    " [   0,    2,    0,  292,    3,    4,    1,    1],\n",
    " [   0,    3,    4,    2, 1768,    3,   11,    8],\n",
    " [   0,    3,    0,    5,    2,  257,    2,    2],\n",
    " [   0,    2,    5,    1,    4,   0 ,  109,    0],\n",
    " [   0,    3,    1,    0,   15,    0,    2,  408]])\n",
    "\n",
    "cm= C / C.astype(np.float).sum(axis=1,keepdims = True)\n",
    "cm = (np.around(cm,2))\n",
    "print(cm)\n",
    "\n",
    "\n",
    "labels = ['ASETRI','EPTBOT','MYOEMA','PIPKUH','RHIMUS','RHYNAS', 'ROUAEG', 'TAPPER']\n",
    "\n",
    "\n",
    "ax= plt.subplot()\n",
    "sns.heatmap(cm, annot=True, ax = ax); #annot=True to annotate cells\n",
    "\n",
    "# labels, title and ticks\n",
    "ax.set_xlabel('Predicted labels');ax.set_ylabel('True labels'); \n",
    "ax.set_title('Confusion Matrix'); \n",
    "ax.xaxis.set_ticklabels(labels,rotation=45); ax.yaxis.set_ticklabels(labels,rotation=45);"
   ]
  },
  {
   "cell_type": "markdown",
   "metadata": {},
   "source": [
    "<h2>Storing/Loading history and model to file</h2>"
   ]
  }
 ],
 "metadata": {
  "kernelspec": {
   "display_name": "Python 3",
   "language": "python",
   "name": "python3"
  },
  "language_info": {
   "codemirror_mode": {
    "name": "ipython",
    "version": 3
   },
   "file_extension": ".py",
   "mimetype": "text/x-python",
   "name": "python",
   "nbconvert_exporter": "python",
   "pygments_lexer": "ipython3",
   "version": "3.7.7"
  }
 },
 "nbformat": 4,
 "nbformat_minor": 4
}
