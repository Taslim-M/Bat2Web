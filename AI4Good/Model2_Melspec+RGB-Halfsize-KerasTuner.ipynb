{
 "cells": [
  {
   "cell_type": "code",
   "execution_count": 1,
   "metadata": {
    "scrolled": true
   },
   "outputs": [
    {
     "name": "stderr",
     "output_type": "stream",
     "text": [
      "/home/team4/anaconda3/envs/gpu/lib/python3.7/site-packages/tensorflow/python/framework/dtypes.py:516: FutureWarning: Passing (type, 1) or '1type' as a synonym of type is deprecated; in a future version of numpy, it will be understood as (type, (1,)) / '(1,)type'.\n",
      "  _np_qint8 = np.dtype([(\"qint8\", np.int8, 1)])\n",
      "/home/team4/anaconda3/envs/gpu/lib/python3.7/site-packages/tensorflow/python/framework/dtypes.py:517: FutureWarning: Passing (type, 1) or '1type' as a synonym of type is deprecated; in a future version of numpy, it will be understood as (type, (1,)) / '(1,)type'.\n",
      "  _np_quint8 = np.dtype([(\"quint8\", np.uint8, 1)])\n",
      "/home/team4/anaconda3/envs/gpu/lib/python3.7/site-packages/tensorflow/python/framework/dtypes.py:518: FutureWarning: Passing (type, 1) or '1type' as a synonym of type is deprecated; in a future version of numpy, it will be understood as (type, (1,)) / '(1,)type'.\n",
      "  _np_qint16 = np.dtype([(\"qint16\", np.int16, 1)])\n",
      "/home/team4/anaconda3/envs/gpu/lib/python3.7/site-packages/tensorflow/python/framework/dtypes.py:519: FutureWarning: Passing (type, 1) or '1type' as a synonym of type is deprecated; in a future version of numpy, it will be understood as (type, (1,)) / '(1,)type'.\n",
      "  _np_quint16 = np.dtype([(\"quint16\", np.uint16, 1)])\n",
      "/home/team4/anaconda3/envs/gpu/lib/python3.7/site-packages/tensorflow/python/framework/dtypes.py:520: FutureWarning: Passing (type, 1) or '1type' as a synonym of type is deprecated; in a future version of numpy, it will be understood as (type, (1,)) / '(1,)type'.\n",
      "  _np_qint32 = np.dtype([(\"qint32\", np.int32, 1)])\n",
      "/home/team4/anaconda3/envs/gpu/lib/python3.7/site-packages/tensorflow/python/framework/dtypes.py:525: FutureWarning: Passing (type, 1) or '1type' as a synonym of type is deprecated; in a future version of numpy, it will be understood as (type, (1,)) / '(1,)type'.\n",
      "  np_resource = np.dtype([(\"resource\", np.ubyte, 1)])\n",
      "/home/team4/anaconda3/envs/gpu/lib/python3.7/site-packages/tensorboard/compat/tensorflow_stub/dtypes.py:541: FutureWarning: Passing (type, 1) or '1type' as a synonym of type is deprecated; in a future version of numpy, it will be understood as (type, (1,)) / '(1,)type'.\n",
      "  _np_qint8 = np.dtype([(\"qint8\", np.int8, 1)])\n",
      "/home/team4/anaconda3/envs/gpu/lib/python3.7/site-packages/tensorboard/compat/tensorflow_stub/dtypes.py:542: FutureWarning: Passing (type, 1) or '1type' as a synonym of type is deprecated; in a future version of numpy, it will be understood as (type, (1,)) / '(1,)type'.\n",
      "  _np_quint8 = np.dtype([(\"quint8\", np.uint8, 1)])\n",
      "/home/team4/anaconda3/envs/gpu/lib/python3.7/site-packages/tensorboard/compat/tensorflow_stub/dtypes.py:543: FutureWarning: Passing (type, 1) or '1type' as a synonym of type is deprecated; in a future version of numpy, it will be understood as (type, (1,)) / '(1,)type'.\n",
      "  _np_qint16 = np.dtype([(\"qint16\", np.int16, 1)])\n",
      "/home/team4/anaconda3/envs/gpu/lib/python3.7/site-packages/tensorboard/compat/tensorflow_stub/dtypes.py:544: FutureWarning: Passing (type, 1) or '1type' as a synonym of type is deprecated; in a future version of numpy, it will be understood as (type, (1,)) / '(1,)type'.\n",
      "  _np_quint16 = np.dtype([(\"quint16\", np.uint16, 1)])\n",
      "/home/team4/anaconda3/envs/gpu/lib/python3.7/site-packages/tensorboard/compat/tensorflow_stub/dtypes.py:545: FutureWarning: Passing (type, 1) or '1type' as a synonym of type is deprecated; in a future version of numpy, it will be understood as (type, (1,)) / '(1,)type'.\n",
      "  _np_qint32 = np.dtype([(\"qint32\", np.int32, 1)])\n",
      "/home/team4/anaconda3/envs/gpu/lib/python3.7/site-packages/tensorboard/compat/tensorflow_stub/dtypes.py:550: FutureWarning: Passing (type, 1) or '1type' as a synonym of type is deprecated; in a future version of numpy, it will be understood as (type, (1,)) / '(1,)type'.\n",
      "  np_resource = np.dtype([(\"resource\", np.ubyte, 1)])\n"
     ]
    }
   ],
   "source": [
    "import tensorflow as tf\n",
    "config = tf.ConfigProto()\n",
    "config.gpu_options.allow_growth = True\n",
    "session = tf.Session(config=config)"
   ]
  },
  {
   "cell_type": "code",
   "execution_count": 2,
   "metadata": {},
   "outputs": [
    {
     "name": "stderr",
     "output_type": "stream",
     "text": [
      "Using TensorFlow backend.\n"
     ]
    }
   ],
   "source": [
    "import keras\n",
    "import pandas as pd\n",
    "import tensorflow as tf\n",
    "\n",
    "import numpy as np\n",
    "# from keras.models import Sequential, Model\n",
    "# from keras.layers import Dense, Dropout, Activation, Flatten, Convolution2D, MaxPooling2D, GlobalAveragePooling2D\n",
    "from keras.utils import np_utils\n",
    "\n",
    "from tensorflow.keras.models import Sequential, Model\n",
    "from tensorflow.keras.layers import Dense, Dropout, Activation, Flatten, Convolution2D, MaxPooling2D, GlobalAveragePooling2D, Input,AveragePooling2D, BatchNormalization, LeakyReLU\n",
    "\n",
    "# from keras.applications import MobileNet\n",
    "# from keras.optimizers import Adam\n",
    "from tensorflow.keras.applications import MobileNetV2, InceptionV3\n",
    "from tensorflow.keras.optimizers import Adam\n",
    "\n",
    "from matplotlib import pyplot as plt\n",
    "import os\n",
    "from sklearn.model_selection import train_test_split\n",
    "\n",
    "import seaborn as sns\n",
    "from sklearn.metrics import recall_score\n",
    "from sklearn.metrics import precision_score\n",
    "from sklearn.model_selection import KFold\n",
    "\n",
    "from collections import defaultdict,Counter\n",
    "from imblearn.over_sampling import SMOTE\n",
    "from PIL import Image\n",
    "\n",
    "from kerastuner import HyperModel"
   ]
  },
  {
   "cell_type": "markdown",
   "metadata": {},
   "source": [
    "<h2>Data Loading and Preparation</h2>"
   ]
  },
  {
   "cell_type": "code",
   "execution_count": 3,
   "metadata": {},
   "outputs": [],
   "source": [
    "def getSpeciesCode(x):\n",
    "    part = x.split('_')\n",
    "    if part[0] == 'ASETRI':\n",
    "        return 0\n",
    "    elif part[0] == 'EPTBOT':\n",
    "        return 1\n",
    "    elif part[0] == 'MYOEMA':\n",
    "        return 2\n",
    "    elif part[0] == 'PIPKUH':\n",
    "        return 3\n",
    "    elif part[0] == 'RHIMUS':\n",
    "        return 4\n",
    "    elif part[0] == 'RHYNAS':\n",
    "        return 5\n",
    "    elif part[0] == 'ROUAEG':\n",
    "        return 6\n",
    "    elif part[0] == 'TAPPER':\n",
    "        return 7\n",
    "    else:\n",
    "        return 'Unknown'\n",
    "    \n",
    "def getSpecies(x):\n",
    "    if x == 0:\n",
    "        return 'A.tridens'\n",
    "    elif x == 1:\n",
    "        return 'E.bottae'\n",
    "    elif x == 2:\n",
    "        return 'M.emarginatus'\n",
    "    elif x == 3:\n",
    "        return 'P.kuhli'\n",
    "    elif x == 4:\n",
    "        return 'R.muscatellum'\n",
    "    elif x == 5:\n",
    "        return 'R.nasutus'\n",
    "    elif x == 6:\n",
    "        return 'R.aegyptius'\n",
    "    elif x == 7:\n",
    "        return 'T.perforatus'\n",
    "    else:\n",
    "        return 'Unknown'\n",
    "    \n",
    "    \n",
    "def generate_actual_predicted(Y_pred, X_test, Y_test): \n",
    "    predicted = list()\n",
    "    for i in range(len(Y_pred)):\n",
    "        predicted.append(np.argmax(Y_pred[i]))\n",
    "        \n",
    "    actual = list()\n",
    "    for i in range(len(Y_test)):\n",
    "        actual.append(np.argmax(Y_test[i]))\n",
    "        \n",
    "    return actual, predicted"
   ]
  },
  {
   "cell_type": "code",
   "execution_count": 4,
   "metadata": {
    "scrolled": true
   },
   "outputs": [
    {
     "data": {
      "text/plain": [
       "RHIMUS    1665\n",
       "TAPPER     403\n",
       "PIPKUH     299\n",
       "RHYNAS     269\n",
       "EPTBOT     124\n",
       "ROUAEG     121\n",
       "MYOEMA     112\n",
       "ASETRI      25\n",
       "Name: Species, dtype: int64"
      ]
     },
     "execution_count": 4,
     "metadata": {},
     "output_type": "execute_result"
    }
   ],
   "source": [
    "image_folder_path = '../data/refspec'\n",
    "file_paths = [f for f in os.listdir(image_folder_path)]\n",
    "species = []\n",
    "for file_name in file_paths:\n",
    "    sp = file_name.split('_')\n",
    "    species.append(sp[0])\n",
    "\n",
    "df = pd.DataFrame(species, columns=['Species'])\n",
    "df['Species'].value_counts()"
   ]
  },
  {
   "cell_type": "code",
   "execution_count": 5,
   "metadata": {
    "scrolled": true
   },
   "outputs": [],
   "source": [
    "X_all = []\n",
    "Y_all = []\n",
    "\n",
    "image_folder_path = '../data/refspec'\n",
    "file_paths = [f for f in os.listdir(image_folder_path)]\n",
    "\n",
    "for file_name in file_paths:\n",
    "    spectrogram = Image.open(image_folder_path + '/' + file_name)\n",
    "    spectrogram = spectrogram.convert('RGB')\n",
    "    spectrogram = spectrogram.resize((170, 112))  \n",
    "    spectrogram = np.array(spectrogram)\n",
    "    #spectrogram = np.expand_dims(spectrogram, axis=2) \n",
    "    X_all.append(spectrogram)\n",
    "    Y_all.append(getSpeciesCode(file_name))\n"
   ]
  },
  {
   "cell_type": "code",
   "execution_count": 6,
   "metadata": {
    "scrolled": false
   },
   "outputs": [
    {
     "name": "stdout",
     "output_type": "stream",
     "text": [
      "(3018, 112, 170, 3)\n",
      "(3018,)\n"
     ]
    }
   ],
   "source": [
    "X_all = np.array(X_all)\n",
    "Y_all = np.array(Y_all)\n",
    "\n",
    "print(X_all.shape)\n",
    "print(Y_all.shape)\n",
    "\n",
    "X_all = X_all.astype('float32')\n",
    "X_all /= 255\n",
    "\n",
    "Y_all = np_utils.to_categorical(Y_all, num_classes=8) \n"
   ]
  },
  {
   "cell_type": "code",
   "execution_count": 7,
   "metadata": {},
   "outputs": [],
   "source": [
    "# train /test= 80/20% split\n",
    "# Data is stratified\n",
    "X_train, X_test, Y_train, Y_test = train_test_split(X_all, Y_all, test_size=0.2, random_state = 245, stratify=Y_all)\n"
   ]
  },
  {
   "cell_type": "markdown",
   "metadata": {},
   "source": [
    "<h2>Keras Tuner</h2>"
   ]
  },
  {
   "cell_type": "code",
   "execution_count": 8,
   "metadata": {},
   "outputs": [],
   "source": [
    "class CNNHyperModel(HyperModel):\n",
    "    def __init__(self, input_shape, num_classes):\n",
    "        self.input_shape = input_shape\n",
    "        self.num_classes = num_classes\n",
    "\n",
    "    def build(self, hp):        \n",
    "        inp = Input(shape=self.input_shape)\n",
    "        c1 = Convolution2D(filters=hp.Int('conv1',\n",
    "                                 min_value=8,\n",
    "                                 max_value=128,\n",
    "                                 step=16,\n",
    "                                 default=64),kernel_size=(7,7),strides=(2,2),padding='same')(inp)\n",
    "        bt = BatchNormalization()(c1)\n",
    "        bt = Activation('relu')(bt)\n",
    "        mpool = MaxPooling2D(pool_size=(2,2),strides=2,padding='same')(bt)\n",
    "        mpool = Dropout(0.2)(mpool)\n",
    "\n",
    "\n",
    "        c2 = Convolution2D(filters=hp.Int('conv2',\n",
    "                                 min_value=8,\n",
    "                                 max_value=128,\n",
    "                                 step=16,\n",
    "                                 default=64),kernel_size=(5,5),strides=(2,2),padding='same')(mpool)\n",
    "        bt = BatchNormalization()(c2)\n",
    "        bt = Activation('relu')(bt)\n",
    "        #bt = LeakyReLU(alpha=0.01)(bt)\n",
    "        mpool = AveragePooling2D(pool_size=(2,2),strides=2,padding='same')(bt)\n",
    "        mpool = Dropout(0.3)(mpool)\n",
    "\n",
    "        c2 = Convolution2D(filters=hp.Int('conv3',\n",
    "                                 min_value=8,\n",
    "                                 max_value=128,\n",
    "                                 step=16,\n",
    "                                 default=64),kernel_size=(3,3),strides=(1,1),padding='same')(mpool)\n",
    "        bt = BatchNormalization()(c2)\n",
    "        bt = Activation('relu')(bt)\n",
    "        #bt = LeakyReLU(alpha=0.01)(bt)\n",
    "        mpool = AveragePooling2D(pool_size=(2,2),strides=2,padding='same')(bt)\n",
    "        mpool = Dropout(rate=0.3)(mpool)\n",
    "\n",
    "        c3 = Convolution2D(filters=hp.Int('conv4',\n",
    "                                 min_value=8,\n",
    "                                 max_value=128,\n",
    "                                 step=16,\n",
    "                                 default=64),kernel_size=(3,3),strides=(1,1),padding='same')(mpool)\n",
    "        bt = BatchNormalization()(c3)\n",
    "        bt = Activation('relu')(bt)\n",
    "        #bt = LeakyReLU(alpha=0.01)(bt)\n",
    "        mpool = AveragePooling2D(pool_size=(2,2),strides=2,padding='same')(bt)\n",
    "        mpool = Dropout(rate=0.4)(mpool)\n",
    "\n",
    "        f = Flatten()(mpool)\n",
    "\n",
    "        x_dense = Dense(256)(f)\n",
    "        bt = BatchNormalization()(x_dense)\n",
    "        bt = Activation('relu')(bt)\n",
    "        bt = Dropout(0.4)(bt)\n",
    "\n",
    "\n",
    "        x_dense = Dense(128)(bt)\n",
    "        bt = BatchNormalization()(x_dense)\n",
    "        bt = Activation('relu')(bt)\n",
    "        bt = Dropout(0.3)(bt)\n",
    "\n",
    "        x_dense = Dense(64)(bt)\n",
    "        bt = BatchNormalization()(x_dense)\n",
    "        bt = Activation('relu')(bt)\n",
    "        bt = Dropout(0.2)(bt)\n",
    "\n",
    "        x_out = Dense(8, name='output', activation='softmax')(bt)\n",
    "        model = Model(inputs=inp, outputs=x_out)\n",
    "        model.compile(\n",
    "            optimizer=Adam(lr=0.003),\n",
    "            loss='categorical_crossentropy',\n",
    "            metrics=['accuracy']\n",
    "        )\n",
    "        return model"
   ]
  },
  {
   "cell_type": "code",
   "execution_count": 24,
   "metadata": {
    "scrolled": false
   },
   "outputs": [],
   "source": [
    "from kerastuner.tuners import RandomSearch\n",
    "\n",
    "hypermodel = CNNHyperModel(input_shape=(112,170,3), num_classes=8)\n",
    "\n",
    "tuner = RandomSearch(\n",
    "    hypermodel,\n",
    "    objective='val_acc',\n",
    "    seed=1,\n",
    "    max_trials=5,\n",
    "    executions_per_trial=2,\n",
    "    directory='random_search',\n",
    "    project_name='bat',\n",
    "    overwrite=True\n",
    ")"
   ]
  },
  {
   "cell_type": "code",
   "execution_count": 25,
   "metadata": {
    "scrolled": true
   },
   "outputs": [
    {
     "name": "stdout",
     "output_type": "stream",
     "text": [
      "Train on 2172 samples, validate on 242 samples\n",
      "Epoch 1/70\n",
      "2172/2172 - 3s - loss: 1.5801 - acc: 0.4908 - val_loss: 1.8514 - val_acc: 0.4545\n",
      "Epoch 2/70\n",
      "2172/2172 - 2s - loss: 1.3581 - acc: 0.5608 - val_loss: 1.3437 - val_acc: 0.5744\n",
      "Epoch 3/70\n",
      "2172/2172 - 3s - loss: 1.3156 - acc: 0.5792 - val_loss: 1.4030 - val_acc: 0.5331\n",
      "Epoch 4/70\n",
      "2172/2172 - 2s - loss: 1.2314 - acc: 0.5824 - val_loss: 1.2603 - val_acc: 0.5496\n",
      "Epoch 5/70\n",
      "2172/2172 - 2s - loss: 1.1416 - acc: 0.6105 - val_loss: 1.0018 - val_acc: 0.6983\n",
      "Epoch 6/70\n",
      "2172/2172 - 2s - loss: 0.9996 - acc: 0.6593 - val_loss: 0.9858 - val_acc: 0.6736\n",
      "Epoch 7/70\n",
      "2172/2172 - 2s - loss: 0.9524 - acc: 0.6717 - val_loss: 0.7249 - val_acc: 0.7438\n",
      "Epoch 8/70\n",
      "2172/2172 - 2s - loss: 0.9070 - acc: 0.7049 - val_loss: 0.6169 - val_acc: 0.7934\n",
      "Epoch 9/70\n",
      "2172/2172 - 2s - loss: 0.8466 - acc: 0.7261 - val_loss: 0.6526 - val_acc: 0.7645\n",
      "Epoch 10/70\n",
      "2172/2172 - 2s - loss: 0.8510 - acc: 0.7210 - val_loss: 0.7193 - val_acc: 0.7521\n",
      "Epoch 11/70\n",
      "2172/2172 - 2s - loss: 0.7989 - acc: 0.7353 - val_loss: 0.5600 - val_acc: 0.8140\n",
      "Epoch 12/70\n",
      "2172/2172 - 2s - loss: 0.8157 - acc: 0.7311 - val_loss: 0.5051 - val_acc: 0.8388\n",
      "Epoch 13/70\n",
      "2172/2172 - 2s - loss: 0.7532 - acc: 0.7624 - val_loss: 0.5196 - val_acc: 0.8264\n",
      "Epoch 14/70\n",
      "2172/2172 - 2s - loss: 0.6972 - acc: 0.7785 - val_loss: 0.4665 - val_acc: 0.8223\n",
      "Epoch 15/70\n",
      "2172/2172 - 2s - loss: 0.6790 - acc: 0.7776 - val_loss: 0.4200 - val_acc: 0.8719\n",
      "Epoch 16/70\n",
      "2172/2172 - 2s - loss: 0.6556 - acc: 0.8071 - val_loss: 0.4232 - val_acc: 0.8636\n",
      "Epoch 17/70\n",
      "2172/2172 - 2s - loss: 0.6020 - acc: 0.8052 - val_loss: 0.3790 - val_acc: 0.8843\n",
      "Epoch 18/70\n",
      "2172/2172 - 3s - loss: 0.6114 - acc: 0.8145 - val_loss: 0.4023 - val_acc: 0.8388\n",
      "Epoch 19/70\n",
      "2172/2172 - 2s - loss: 0.5638 - acc: 0.8260 - val_loss: 0.3886 - val_acc: 0.8595\n",
      "Epoch 20/70\n",
      "2172/2172 - 2s - loss: 0.5176 - acc: 0.8333 - val_loss: 0.3293 - val_acc: 0.8802\n",
      "Epoch 21/70\n",
      "2172/2172 - 2s - loss: 0.5137 - acc: 0.8393 - val_loss: 0.2451 - val_acc: 0.9050\n",
      "Epoch 22/70\n",
      "2172/2172 - 3s - loss: 0.5497 - acc: 0.8278 - val_loss: 0.3766 - val_acc: 0.8388\n",
      "Epoch 23/70\n",
      "2172/2172 - 3s - loss: 0.4988 - acc: 0.8430 - val_loss: 0.2256 - val_acc: 0.9298\n",
      "Epoch 24/70\n",
      "2172/2172 - 2s - loss: 0.4641 - acc: 0.8471 - val_loss: 0.2934 - val_acc: 0.9050\n",
      "Epoch 25/70\n",
      "2172/2172 - 2s - loss: 0.4507 - acc: 0.8573 - val_loss: 0.3132 - val_acc: 0.9008\n",
      "Epoch 26/70\n",
      "2172/2172 - 2s - loss: 0.4842 - acc: 0.8531 - val_loss: 0.2305 - val_acc: 0.9463\n",
      "Epoch 27/70\n",
      "2172/2172 - 2s - loss: 0.4383 - acc: 0.8646 - val_loss: 0.2214 - val_acc: 0.9421\n",
      "Epoch 28/70\n",
      "2172/2172 - 3s - loss: 0.4016 - acc: 0.8771 - val_loss: 0.1705 - val_acc: 0.9256\n",
      "Epoch 29/70\n",
      "2172/2172 - 2s - loss: 0.3756 - acc: 0.8725 - val_loss: 0.2133 - val_acc: 0.9339\n",
      "Epoch 30/70\n",
      "2172/2172 - 2s - loss: 0.4103 - acc: 0.8762 - val_loss: 0.5046 - val_acc: 0.8595\n",
      "Epoch 31/70\n",
      "2172/2172 - 2s - loss: 0.4239 - acc: 0.8789 - val_loss: 0.2174 - val_acc: 0.9339\n",
      "Epoch 32/70\n",
      "2172/2172 - 2s - loss: 0.4044 - acc: 0.8785 - val_loss: 0.4894 - val_acc: 0.8554\n",
      "Epoch 33/70\n",
      "2172/2172 - 2s - loss: 0.3599 - acc: 0.8909 - val_loss: 0.2407 - val_acc: 0.9256\n",
      "Epoch 34/70\n",
      "2172/2172 - 2s - loss: 0.3457 - acc: 0.8959 - val_loss: 0.2008 - val_acc: 0.9380\n",
      "Epoch 35/70\n",
      "2172/2172 - 2s - loss: 0.3289 - acc: 0.8978 - val_loss: 0.2490 - val_acc: 0.9132\n",
      "Epoch 36/70\n",
      "2172/2172 - 2s - loss: 0.3407 - acc: 0.8992 - val_loss: 0.4459 - val_acc: 0.8512\n",
      "Epoch 37/70\n",
      "2172/2172 - 2s - loss: 0.3688 - acc: 0.8812 - val_loss: 0.2159 - val_acc: 0.9298\n",
      "Epoch 38/70\n",
      "2172/2172 - 2s - loss: 0.3353 - acc: 0.8969 - val_loss: 0.2070 - val_acc: 0.9380\n",
      "Epoch 39/70\n",
      "2172/2172 - 2s - loss: 0.3531 - acc: 0.9006 - val_loss: 0.1926 - val_acc: 0.9339\n",
      "Epoch 40/70\n",
      "2172/2172 - 2s - loss: 0.3632 - acc: 0.8872 - val_loss: 0.4134 - val_acc: 0.8719\n",
      "Epoch 41/70\n",
      "2172/2172 - 2s - loss: 0.3062 - acc: 0.9116 - val_loss: 0.2047 - val_acc: 0.9256\n",
      "Epoch 42/70\n",
      "2172/2172 - 2s - loss: 0.3215 - acc: 0.9070 - val_loss: 0.1815 - val_acc: 0.9463\n",
      "Epoch 43/70\n",
      "2172/2172 - 2s - loss: 0.3051 - acc: 0.9015 - val_loss: 0.1531 - val_acc: 0.9463\n",
      "Epoch 44/70\n",
      "2172/2172 - 2s - loss: 0.2883 - acc: 0.9111 - val_loss: 0.1801 - val_acc: 0.9504\n",
      "Epoch 45/70\n",
      "2172/2172 - 2s - loss: 0.2885 - acc: 0.9084 - val_loss: 0.1622 - val_acc: 0.9504\n",
      "Epoch 46/70\n",
      "2172/2172 - 3s - loss: 0.2820 - acc: 0.9134 - val_loss: 0.3682 - val_acc: 0.8926\n",
      "Epoch 47/70\n",
      "2172/2172 - 2s - loss: 0.3172 - acc: 0.8992 - val_loss: 0.1542 - val_acc: 0.9463\n",
      "Epoch 48/70\n",
      "2172/2172 - 2s - loss: 0.3023 - acc: 0.9134 - val_loss: 0.1777 - val_acc: 0.9504\n",
      "Epoch 49/70\n",
      "2172/2172 - 2s - loss: 0.2730 - acc: 0.9162 - val_loss: 0.1475 - val_acc: 0.9545\n",
      "Epoch 50/70\n",
      "2172/2172 - 2s - loss: 0.2523 - acc: 0.9236 - val_loss: 0.1696 - val_acc: 0.9504\n",
      "Epoch 51/70\n",
      "2172/2172 - 2s - loss: 0.2522 - acc: 0.9213 - val_loss: 0.3285 - val_acc: 0.9050\n",
      "Epoch 52/70\n",
      "2172/2172 - 2s - loss: 0.2593 - acc: 0.9222 - val_loss: 0.3524 - val_acc: 0.8802\n",
      "Epoch 53/70\n",
      "2172/2172 - 2s - loss: 0.2590 - acc: 0.9245 - val_loss: 0.1231 - val_acc: 0.9545\n",
      "Epoch 54/70\n",
      "2172/2172 - 2s - loss: 0.2426 - acc: 0.9300 - val_loss: 0.2566 - val_acc: 0.9298\n",
      "Epoch 55/70\n",
      "2172/2172 - 2s - loss: 0.2737 - acc: 0.9213 - val_loss: 0.3271 - val_acc: 0.8926\n",
      "Epoch 56/70\n",
      "2172/2172 - 2s - loss: 0.2590 - acc: 0.9254 - val_loss: 0.2007 - val_acc: 0.9339\n",
      "Epoch 57/70\n",
      "2172/2172 - 2s - loss: 0.2352 - acc: 0.9323 - val_loss: 0.1579 - val_acc: 0.9628\n",
      "Epoch 58/70\n",
      "2172/2172 - 2s - loss: 0.2494 - acc: 0.9203 - val_loss: 0.1313 - val_acc: 0.9545\n",
      "Epoch 59/70\n",
      "2172/2172 - 2s - loss: 0.2407 - acc: 0.9231 - val_loss: 0.2084 - val_acc: 0.9256\n",
      "Epoch 60/70\n",
      "2172/2172 - 2s - loss: 0.2141 - acc: 0.9305 - val_loss: 0.1494 - val_acc: 0.9421\n",
      "Epoch 61/70\n",
      "2172/2172 - 2s - loss: 0.2515 - acc: 0.9286 - val_loss: 0.1480 - val_acc: 0.9504\n",
      "Epoch 62/70\n",
      "2172/2172 - 2s - loss: 0.2195 - acc: 0.9277 - val_loss: 0.1394 - val_acc: 0.9587\n",
      "Epoch 63/70\n",
      "2172/2172 - 2s - loss: 0.2176 - acc: 0.9342 - val_loss: 0.1347 - val_acc: 0.9504\n",
      "Epoch 64/70\n",
      "2172/2172 - 2s - loss: 0.1946 - acc: 0.9346 - val_loss: 0.1472 - val_acc: 0.9545\n",
      "Epoch 65/70\n",
      "2172/2172 - 2s - loss: 0.1950 - acc: 0.9388 - val_loss: 0.1835 - val_acc: 0.9339\n",
      "Epoch 66/70\n",
      "2172/2172 - 2s - loss: 0.2178 - acc: 0.9355 - val_loss: 0.1556 - val_acc: 0.9421\n",
      "Epoch 67/70\n",
      "2172/2172 - 2s - loss: 0.2199 - acc: 0.9374 - val_loss: 0.1753 - val_acc: 0.9463\n",
      "Epoch 68/70\n",
      "2172/2172 - 2s - loss: 0.2327 - acc: 0.9277 - val_loss: 0.1661 - val_acc: 0.9380\n",
      "Epoch 69/70\n",
      "2172/2172 - 2s - loss: 0.1948 - acc: 0.9443 - val_loss: 0.2318 - val_acc: 0.9215\n",
      "Epoch 70/70\n",
      "2172/2172 - 2s - loss: 0.2360 - acc: 0.9305 - val_loss: 0.1064 - val_acc: 0.9669\n",
      "Train on 2172 samples, validate on 242 samples\n",
      "Epoch 1/70\n",
      "2172/2172 - 3s - loss: 1.5528 - acc: 0.4917 - val_loss: 1.3906 - val_acc: 0.5537\n",
      "Epoch 2/70\n",
      "2172/2172 - 2s - loss: 1.4158 - acc: 0.5424 - val_loss: 1.4120 - val_acc: 0.5661\n",
      "Epoch 3/70\n",
      "2172/2172 - 2s - loss: 1.3296 - acc: 0.5741 - val_loss: 1.1485 - val_acc: 0.6488\n",
      "Epoch 4/70\n",
      "2172/2172 - 2s - loss: 1.1890 - acc: 0.6064 - val_loss: 1.3699 - val_acc: 0.6488\n",
      "Epoch 5/70\n",
      "2172/2172 - 2s - loss: 1.0503 - acc: 0.6377 - val_loss: 0.8856 - val_acc: 0.6818\n",
      "Epoch 6/70\n",
      "2172/2172 - 2s - loss: 1.0179 - acc: 0.6579 - val_loss: 0.8645 - val_acc: 0.7190\n",
      "Epoch 7/70\n",
      "2172/2172 - 2s - loss: 0.9291 - acc: 0.6888 - val_loss: 0.6942 - val_acc: 0.7521\n",
      "Epoch 8/70\n",
      "2172/2172 - 2s - loss: 0.8999 - acc: 0.7169 - val_loss: 0.6590 - val_acc: 0.7810\n",
      "Epoch 9/70\n",
      "2172/2172 - 2s - loss: 0.8625 - acc: 0.7279 - val_loss: 0.8800 - val_acc: 0.7066\n",
      "Epoch 10/70\n",
      "2172/2172 - 2s - loss: 0.7976 - acc: 0.7477 - val_loss: 0.7342 - val_acc: 0.7521\n",
      "Epoch 11/70\n",
      "2172/2172 - 2s - loss: 0.7903 - acc: 0.7436 - val_loss: 0.5231 - val_acc: 0.8140\n",
      "Epoch 12/70\n",
      "2172/2172 - 2s - loss: 0.7274 - acc: 0.7643 - val_loss: 0.5719 - val_acc: 0.7934\n",
      "Epoch 13/70\n",
      "2172/2172 - 2s - loss: 0.7078 - acc: 0.7629 - val_loss: 0.5169 - val_acc: 0.8430\n",
      "Epoch 14/70\n",
      "2172/2172 - 2s - loss: 0.6699 - acc: 0.7914 - val_loss: 0.5319 - val_acc: 0.8306\n",
      "Epoch 15/70\n",
      "2172/2172 - 2s - loss: 0.6432 - acc: 0.7988 - val_loss: 0.4601 - val_acc: 0.8430\n",
      "Epoch 16/70\n",
      "2172/2172 - 2s - loss: 0.6130 - acc: 0.7983 - val_loss: 0.4422 - val_acc: 0.8264\n",
      "Epoch 17/70\n",
      "2172/2172 - 2s - loss: 0.5731 - acc: 0.8177 - val_loss: 0.4900 - val_acc: 0.8099\n",
      "Epoch 18/70\n",
      "2172/2172 - 2s - loss: 0.5764 - acc: 0.8218 - val_loss: 0.3760 - val_acc: 0.8595\n"
     ]
    },
    {
     "name": "stdout",
     "output_type": "stream",
     "text": [
      "Epoch 19/70\n",
      "2172/2172 - 2s - loss: 0.5861 - acc: 0.8149 - val_loss: 0.3685 - val_acc: 0.8760\n",
      "Epoch 20/70\n",
      "2172/2172 - 2s - loss: 0.5378 - acc: 0.8283 - val_loss: 0.3734 - val_acc: 0.8719\n",
      "Epoch 21/70\n",
      "2172/2172 - 2s - loss: 0.5134 - acc: 0.8407 - val_loss: 0.5305 - val_acc: 0.8099\n",
      "Epoch 22/70\n",
      "2172/2172 - 2s - loss: 0.4909 - acc: 0.8435 - val_loss: 0.4002 - val_acc: 0.8719\n",
      "Epoch 23/70\n",
      "2172/2172 - 2s - loss: 0.4813 - acc: 0.8476 - val_loss: 0.3135 - val_acc: 0.8926\n",
      "Epoch 24/70\n",
      "2172/2172 - 2s - loss: 0.4287 - acc: 0.8665 - val_loss: 0.3445 - val_acc: 0.8719\n",
      "Epoch 25/70\n",
      "2172/2172 - 2s - loss: 0.4633 - acc: 0.8471 - val_loss: 0.3281 - val_acc: 0.8926\n",
      "Epoch 26/70\n",
      "2172/2172 - 2s - loss: 0.4329 - acc: 0.8623 - val_loss: 0.3757 - val_acc: 0.8678\n",
      "Epoch 27/70\n",
      "2172/2172 - 2s - loss: 0.4603 - acc: 0.8568 - val_loss: 0.2576 - val_acc: 0.9132\n",
      "Epoch 28/70\n",
      "2172/2172 - 2s - loss: 0.4104 - acc: 0.8697 - val_loss: 0.3407 - val_acc: 0.8802\n",
      "Epoch 29/70\n",
      "2172/2172 - 2s - loss: 0.4165 - acc: 0.8766 - val_loss: 0.4147 - val_acc: 0.8802\n",
      "Epoch 30/70\n",
      "2172/2172 - 2s - loss: 0.3944 - acc: 0.8683 - val_loss: 0.2566 - val_acc: 0.9215\n",
      "Epoch 31/70\n",
      "2172/2172 - 2s - loss: 0.3964 - acc: 0.8757 - val_loss: 0.2451 - val_acc: 0.9298\n",
      "Epoch 32/70\n",
      "2172/2172 - 2s - loss: 0.3637 - acc: 0.8821 - val_loss: 0.2470 - val_acc: 0.9132\n",
      "Epoch 33/70\n",
      "2172/2172 - 2s - loss: 0.3422 - acc: 0.8895 - val_loss: 0.2216 - val_acc: 0.9298\n",
      "Epoch 34/70\n",
      "2172/2172 - 2s - loss: 0.3433 - acc: 0.8936 - val_loss: 0.2711 - val_acc: 0.9174\n",
      "Epoch 35/70\n",
      "2172/2172 - 2s - loss: 0.3367 - acc: 0.8932 - val_loss: 0.2350 - val_acc: 0.9174\n",
      "Epoch 36/70\n",
      "2172/2172 - 2s - loss: 0.3303 - acc: 0.8941 - val_loss: 0.3258 - val_acc: 0.9174\n",
      "Epoch 37/70\n",
      "2172/2172 - 2s - loss: 0.3643 - acc: 0.8909 - val_loss: 0.1740 - val_acc: 0.9421\n",
      "Epoch 38/70\n",
      "2172/2172 - 2s - loss: 0.3210 - acc: 0.9029 - val_loss: 0.1937 - val_acc: 0.9339\n",
      "Epoch 39/70\n",
      "2172/2172 - 2s - loss: 0.3091 - acc: 0.9052 - val_loss: 0.1899 - val_acc: 0.9298\n",
      "Epoch 40/70\n",
      "2172/2172 - 2s - loss: 0.2920 - acc: 0.9033 - val_loss: 0.2733 - val_acc: 0.9091\n",
      "Epoch 41/70\n",
      "2172/2172 - 2s - loss: 0.2557 - acc: 0.9148 - val_loss: 0.2169 - val_acc: 0.9504\n",
      "Epoch 42/70\n",
      "2172/2172 - 2s - loss: 0.2837 - acc: 0.9038 - val_loss: 0.2089 - val_acc: 0.9421\n",
      "Epoch 43/70\n",
      "2172/2172 - 2s - loss: 0.2803 - acc: 0.9121 - val_loss: 0.2921 - val_acc: 0.9132\n",
      "Epoch 44/70\n",
      "2172/2172 - 2s - loss: 0.2935 - acc: 0.9125 - val_loss: 0.2134 - val_acc: 0.9174\n",
      "Epoch 45/70\n",
      "2172/2172 - 2s - loss: 0.2519 - acc: 0.9203 - val_loss: 0.1968 - val_acc: 0.9463\n",
      "Epoch 46/70\n",
      "2172/2172 - 2s - loss: 0.2557 - acc: 0.9217 - val_loss: 0.1423 - val_acc: 0.9504\n",
      "Epoch 47/70\n",
      "2172/2172 - 2s - loss: 0.2700 - acc: 0.9199 - val_loss: 0.2547 - val_acc: 0.9132\n",
      "Epoch 48/70\n",
      "2172/2172 - 2s - loss: 0.2536 - acc: 0.9176 - val_loss: 0.1945 - val_acc: 0.9298\n",
      "Epoch 49/70\n",
      "2172/2172 - 2s - loss: 0.2417 - acc: 0.9240 - val_loss: 0.1543 - val_acc: 0.9504\n",
      "Epoch 50/70\n",
      "2172/2172 - 2s - loss: 0.2682 - acc: 0.9268 - val_loss: 0.1859 - val_acc: 0.9421\n",
      "Epoch 51/70\n",
      "2172/2172 - 2s - loss: 0.2447 - acc: 0.9227 - val_loss: 0.1901 - val_acc: 0.9339\n",
      "Epoch 52/70\n",
      "2172/2172 - 2s - loss: 0.2423 - acc: 0.9203 - val_loss: 0.1686 - val_acc: 0.9504\n",
      "Epoch 53/70\n",
      "2172/2172 - 2s - loss: 0.2407 - acc: 0.9259 - val_loss: 0.1758 - val_acc: 0.9545\n",
      "Epoch 54/70\n",
      "2172/2172 - 2s - loss: 0.2691 - acc: 0.9144 - val_loss: 0.2104 - val_acc: 0.9298\n",
      "Epoch 55/70\n",
      "2172/2172 - 2s - loss: 0.2089 - acc: 0.9323 - val_loss: 0.1523 - val_acc: 0.9504\n",
      "Epoch 56/70\n",
      "2172/2172 - 2s - loss: 0.2391 - acc: 0.9286 - val_loss: 0.1474 - val_acc: 0.9504\n",
      "Epoch 57/70\n",
      "2172/2172 - 2s - loss: 0.2298 - acc: 0.9401 - val_loss: 0.1659 - val_acc: 0.9463\n",
      "Epoch 58/70\n",
      "2172/2172 - 2s - loss: 0.1964 - acc: 0.9374 - val_loss: 0.1613 - val_acc: 0.9504\n",
      "Epoch 59/70\n",
      "2172/2172 - 2s - loss: 0.2123 - acc: 0.9346 - val_loss: 0.2858 - val_acc: 0.9132\n",
      "Epoch 60/70\n",
      "2172/2172 - 2s - loss: 0.2192 - acc: 0.9369 - val_loss: 0.1280 - val_acc: 0.9545\n",
      "Epoch 61/70\n",
      "2172/2172 - 2s - loss: 0.1880 - acc: 0.9438 - val_loss: 0.1640 - val_acc: 0.9545\n",
      "Epoch 62/70\n",
      "2172/2172 - 2s - loss: 0.1792 - acc: 0.9452 - val_loss: 0.2173 - val_acc: 0.9256\n",
      "Epoch 63/70\n",
      "2172/2172 - 2s - loss: 0.2399 - acc: 0.9337 - val_loss: 0.2098 - val_acc: 0.9215\n",
      "Epoch 64/70\n",
      "2172/2172 - 2s - loss: 0.2067 - acc: 0.9346 - val_loss: 0.2385 - val_acc: 0.9380\n",
      "Epoch 65/70\n",
      "2172/2172 - 2s - loss: 0.2242 - acc: 0.9397 - val_loss: 0.1277 - val_acc: 0.9628\n",
      "Epoch 66/70\n",
      "2172/2172 - 2s - loss: 0.2121 - acc: 0.9355 - val_loss: 0.1581 - val_acc: 0.9504\n",
      "Epoch 67/70\n",
      "2172/2172 - 2s - loss: 0.1778 - acc: 0.9443 - val_loss: 0.1380 - val_acc: 0.9545\n",
      "Epoch 68/70\n",
      "2172/2172 - 2s - loss: 0.1732 - acc: 0.9480 - val_loss: 0.2301 - val_acc: 0.9256\n",
      "Epoch 69/70\n",
      "2172/2172 - 2s - loss: 0.1727 - acc: 0.9503 - val_loss: 0.1620 - val_acc: 0.9463\n",
      "Epoch 70/70\n",
      "2172/2172 - 2s - loss: 0.1920 - acc: 0.9392 - val_loss: 0.2719 - val_acc: 0.9174\n"
     ]
    },
    {
     "data": {
      "text/html": [
       "<span style=\"color:#4527A0\"><h1 style=\"font-size:18px\">Trial complete</h1></span>"
      ],
      "text/plain": [
       "<IPython.core.display.HTML object>"
      ]
     },
     "metadata": {},
     "output_type": "display_data"
    },
    {
     "data": {
      "text/html": [
       "<span style=\"color:#4527A0\"><h1 style=\"font-size:18px\">Trial summary</h1></span>"
      ],
      "text/plain": [
       "<IPython.core.display.HTML object>"
      ]
     },
     "metadata": {},
     "output_type": "display_data"
    },
    {
     "data": {
      "text/html": [
       "<span style=\"color:cyan\"> |-Trial ID: 13b338704b2a2ffb6dfed5a6c50fea25</span>"
      ],
      "text/plain": [
       "<IPython.core.display.HTML object>"
      ]
     },
     "metadata": {},
     "output_type": "display_data"
    },
    {
     "data": {
      "text/html": [
       "<span style=\"color:cyan\"> |-Score: 0.9648760557174683</span>"
      ],
      "text/plain": [
       "<IPython.core.display.HTML object>"
      ]
     },
     "metadata": {},
     "output_type": "display_data"
    },
    {
     "data": {
      "text/html": [
       "<span style=\"color:cyan\"> |-Best step: 0</span>"
      ],
      "text/plain": [
       "<IPython.core.display.HTML object>"
      ]
     },
     "metadata": {},
     "output_type": "display_data"
    },
    {
     "data": {
      "text/html": [
       "<span style=\"color:#7E57C2\"><h2 style=\"font-size:16px\">Hyperparameters:</h2></span>"
      ],
      "text/plain": [
       "<IPython.core.display.HTML object>"
      ]
     },
     "metadata": {},
     "output_type": "display_data"
    },
    {
     "data": {
      "text/html": [
       "<span style=\"color:cyan\"> |-conv1: 24</span>"
      ],
      "text/plain": [
       "<IPython.core.display.HTML object>"
      ]
     },
     "metadata": {},
     "output_type": "display_data"
    },
    {
     "data": {
      "text/html": [
       "<span style=\"color:blue\"> |-conv2: 120</span>"
      ],
      "text/plain": [
       "<IPython.core.display.HTML object>"
      ]
     },
     "metadata": {},
     "output_type": "display_data"
    },
    {
     "data": {
      "text/html": [
       "<span style=\"color:cyan\"> |-conv3: 40</span>"
      ],
      "text/plain": [
       "<IPython.core.display.HTML object>"
      ]
     },
     "metadata": {},
     "output_type": "display_data"
    },
    {
     "data": {
      "text/html": [
       "<span style=\"color:blue\"> |-conv4: 40</span>"
      ],
      "text/plain": [
       "<IPython.core.display.HTML object>"
      ]
     },
     "metadata": {},
     "output_type": "display_data"
    },
    {
     "name": "stdout",
     "output_type": "stream",
     "text": [
      "Train on 2172 samples, validate on 242 samples\n",
      "Epoch 1/70\n",
      "2172/2172 - 3s - loss: 1.5446 - acc: 0.5069 - val_loss: 1.7894 - val_acc: 0.4298\n",
      "Epoch 2/70\n",
      "2172/2172 - 2s - loss: 1.3998 - acc: 0.5479 - val_loss: 1.2457 - val_acc: 0.5992\n",
      "Epoch 3/70\n",
      "2172/2172 - 2s - loss: 1.3205 - acc: 0.5691 - val_loss: 1.1567 - val_acc: 0.6281\n",
      "Epoch 4/70\n",
      "2172/2172 - 2s - loss: 1.2607 - acc: 0.5856 - val_loss: 1.1242 - val_acc: 0.6529\n",
      "Epoch 5/70\n",
      "2172/2172 - 2s - loss: 1.1744 - acc: 0.6100 - val_loss: 0.9165 - val_acc: 0.6942\n",
      "Epoch 6/70\n",
      "2172/2172 - 3s - loss: 1.0763 - acc: 0.6358 - val_loss: 0.8115 - val_acc: 0.7273\n",
      "Epoch 7/70\n",
      "2172/2172 - 2s - loss: 0.9872 - acc: 0.6634 - val_loss: 0.9499 - val_acc: 0.6612\n",
      "Epoch 8/70\n",
      "2172/2172 - 2s - loss: 0.9577 - acc: 0.6750 - val_loss: 0.7771 - val_acc: 0.7521\n",
      "Epoch 9/70\n",
      "2172/2172 - 2s - loss: 0.8969 - acc: 0.7030 - val_loss: 0.6341 - val_acc: 0.8017\n",
      "Epoch 10/70\n",
      "2172/2172 - 2s - loss: 0.8547 - acc: 0.7274 - val_loss: 0.6048 - val_acc: 0.8058\n",
      "Epoch 11/70\n",
      "2172/2172 - 2s - loss: 0.7972 - acc: 0.7431 - val_loss: 0.5423 - val_acc: 0.8140\n",
      "Epoch 12/70\n",
      "2172/2172 - 2s - loss: 0.7293 - acc: 0.7684 - val_loss: 0.7026 - val_acc: 0.7603\n",
      "Epoch 13/70\n",
      "2172/2172 - 2s - loss: 0.7607 - acc: 0.7615 - val_loss: 0.4617 - val_acc: 0.8264\n",
      "Epoch 14/70\n",
      "2172/2172 - 2s - loss: 0.6858 - acc: 0.7818 - val_loss: 0.4628 - val_acc: 0.8306\n",
      "Epoch 15/70\n",
      "2172/2172 - 2s - loss: 0.6815 - acc: 0.7827 - val_loss: 0.4368 - val_acc: 0.8347\n",
      "Epoch 16/70\n",
      "2172/2172 - 2s - loss: 0.6115 - acc: 0.8002 - val_loss: 0.3472 - val_acc: 0.8843\n",
      "Epoch 17/70\n",
      "2172/2172 - 2s - loss: 0.5937 - acc: 0.8186 - val_loss: 0.4108 - val_acc: 0.8760\n",
      "Epoch 18/70\n",
      "2172/2172 - 2s - loss: 0.5616 - acc: 0.8241 - val_loss: 0.2995 - val_acc: 0.8884\n",
      "Epoch 19/70\n",
      "2172/2172 - 2s - loss: 0.5370 - acc: 0.8292 - val_loss: 0.3424 - val_acc: 0.8636\n",
      "Epoch 20/70\n",
      "2172/2172 - 2s - loss: 0.5312 - acc: 0.8297 - val_loss: 0.2835 - val_acc: 0.8884\n",
      "Epoch 21/70\n",
      "2172/2172 - 2s - loss: 0.5105 - acc: 0.8370 - val_loss: 0.3228 - val_acc: 0.9008\n",
      "Epoch 22/70\n",
      "2172/2172 - 2s - loss: 0.5091 - acc: 0.8329 - val_loss: 0.2693 - val_acc: 0.9050\n",
      "Epoch 23/70\n",
      "2172/2172 - 2s - loss: 0.4764 - acc: 0.8517 - val_loss: 0.2535 - val_acc: 0.9050\n",
      "Epoch 24/70\n",
      "2172/2172 - 2s - loss: 0.4660 - acc: 0.8494 - val_loss: 0.2170 - val_acc: 0.9298\n",
      "Epoch 25/70\n",
      "2172/2172 - 2s - loss: 0.4426 - acc: 0.8596 - val_loss: 0.3075 - val_acc: 0.8967\n",
      "Epoch 26/70\n",
      "2172/2172 - 2s - loss: 0.4810 - acc: 0.8522 - val_loss: 0.2780 - val_acc: 0.9008\n",
      "Epoch 27/70\n",
      "2172/2172 - 2s - loss: 0.4186 - acc: 0.8623 - val_loss: 0.2307 - val_acc: 0.9298\n",
      "Epoch 28/70\n",
      "2172/2172 - 2s - loss: 0.3768 - acc: 0.8775 - val_loss: 0.2638 - val_acc: 0.9091\n",
      "Epoch 29/70\n",
      "2172/2172 - 2s - loss: 0.3972 - acc: 0.8743 - val_loss: 0.3272 - val_acc: 0.8843\n",
      "Epoch 30/70\n",
      "2172/2172 - 2s - loss: 0.4027 - acc: 0.8665 - val_loss: 0.2442 - val_acc: 0.9256\n",
      "Epoch 31/70\n",
      "2172/2172 - 2s - loss: 0.3906 - acc: 0.8720 - val_loss: 0.2185 - val_acc: 0.9091\n",
      "Epoch 32/70\n",
      "2172/2172 - 2s - loss: 0.3884 - acc: 0.8711 - val_loss: 0.2023 - val_acc: 0.9215\n",
      "Epoch 33/70\n",
      "2172/2172 - 2s - loss: 0.3599 - acc: 0.8831 - val_loss: 0.1856 - val_acc: 0.9463\n",
      "Epoch 34/70\n",
      "2172/2172 - 2s - loss: 0.3014 - acc: 0.8978 - val_loss: 0.1948 - val_acc: 0.9298\n",
      "Epoch 35/70\n",
      "2172/2172 - 2s - loss: 0.3185 - acc: 0.9001 - val_loss: 0.2284 - val_acc: 0.9298\n",
      "Epoch 36/70\n",
      "2172/2172 - 2s - loss: 0.3264 - acc: 0.8964 - val_loss: 0.2379 - val_acc: 0.9256\n",
      "Epoch 37/70\n",
      "2172/2172 - 2s - loss: 0.3656 - acc: 0.8854 - val_loss: 0.2585 - val_acc: 0.9091\n",
      "Epoch 38/70\n",
      "2172/2172 - 2s - loss: 0.3178 - acc: 0.8964 - val_loss: 0.2388 - val_acc: 0.9298\n",
      "Epoch 39/70\n",
      "2172/2172 - 2s - loss: 0.2875 - acc: 0.9047 - val_loss: 0.1985 - val_acc: 0.9215\n",
      "Epoch 40/70\n",
      "2172/2172 - 2s - loss: 0.3073 - acc: 0.9070 - val_loss: 0.3357 - val_acc: 0.9091\n",
      "Epoch 41/70\n",
      "2172/2172 - 2s - loss: 0.2842 - acc: 0.9084 - val_loss: 0.1801 - val_acc: 0.9421\n",
      "Epoch 42/70\n",
      "2172/2172 - 2s - loss: 0.3155 - acc: 0.9075 - val_loss: 0.1860 - val_acc: 0.9380\n",
      "Epoch 43/70\n",
      "2172/2172 - 2s - loss: 0.2901 - acc: 0.9111 - val_loss: 0.2659 - val_acc: 0.9132\n",
      "Epoch 44/70\n",
      "2172/2172 - 2s - loss: 0.2939 - acc: 0.9061 - val_loss: 0.2576 - val_acc: 0.8967\n",
      "Epoch 45/70\n",
      "2172/2172 - 2s - loss: 0.2807 - acc: 0.9075 - val_loss: 0.2806 - val_acc: 0.9132\n",
      "Epoch 46/70\n",
      "2172/2172 - 2s - loss: 0.2548 - acc: 0.9130 - val_loss: 0.1724 - val_acc: 0.9380\n",
      "Epoch 47/70\n",
      "2172/2172 - 2s - loss: 0.2788 - acc: 0.9121 - val_loss: 0.1407 - val_acc: 0.9504\n",
      "Epoch 48/70\n",
      "2172/2172 - 2s - loss: 0.2646 - acc: 0.9153 - val_loss: 0.1473 - val_acc: 0.9421\n",
      "Epoch 49/70\n",
      "2172/2172 - 2s - loss: 0.2457 - acc: 0.9268 - val_loss: 0.1884 - val_acc: 0.9256\n",
      "Epoch 50/70\n",
      "2172/2172 - 2s - loss: 0.2579 - acc: 0.9180 - val_loss: 0.2271 - val_acc: 0.9298\n",
      "Epoch 51/70\n",
      "2172/2172 - 2s - loss: 0.2246 - acc: 0.9291 - val_loss: 0.2227 - val_acc: 0.9132\n",
      "Epoch 52/70\n",
      "2172/2172 - 2s - loss: 0.2647 - acc: 0.9213 - val_loss: 0.1801 - val_acc: 0.9463\n",
      "Epoch 53/70\n",
      "2172/2172 - 2s - loss: 0.2150 - acc: 0.9305 - val_loss: 0.1404 - val_acc: 0.9545\n",
      "Epoch 54/70\n",
      "2172/2172 - 2s - loss: 0.2455 - acc: 0.9203 - val_loss: 0.2124 - val_acc: 0.9298\n",
      "Epoch 55/70\n",
      "2172/2172 - 2s - loss: 0.2423 - acc: 0.9213 - val_loss: 0.1496 - val_acc: 0.9339\n",
      "Epoch 56/70\n",
      "2172/2172 - 2s - loss: 0.2231 - acc: 0.9273 - val_loss: 0.2325 - val_acc: 0.9256\n",
      "Epoch 57/70\n",
      "2172/2172 - 2s - loss: 0.2766 - acc: 0.9176 - val_loss: 0.1690 - val_acc: 0.9463\n",
      "Epoch 58/70\n",
      "2172/2172 - 2s - loss: 0.2404 - acc: 0.9245 - val_loss: 0.1467 - val_acc: 0.9421\n",
      "Epoch 59/70\n",
      "2172/2172 - 2s - loss: 0.2427 - acc: 0.9273 - val_loss: 0.1290 - val_acc: 0.9545\n",
      "Epoch 60/70\n",
      "2172/2172 - 2s - loss: 0.2276 - acc: 0.9360 - val_loss: 0.1719 - val_acc: 0.9421\n",
      "Epoch 61/70\n",
      "2172/2172 - 2s - loss: 0.2189 - acc: 0.9286 - val_loss: 0.1652 - val_acc: 0.9504\n",
      "Epoch 62/70\n",
      "2172/2172 - 2s - loss: 0.2450 - acc: 0.9291 - val_loss: 0.1368 - val_acc: 0.9504\n",
      "Epoch 63/70\n",
      "2172/2172 - 2s - loss: 0.2134 - acc: 0.9378 - val_loss: 0.2228 - val_acc: 0.9380\n",
      "Epoch 64/70\n",
      "2172/2172 - 2s - loss: 0.2178 - acc: 0.9305 - val_loss: 0.1222 - val_acc: 0.9628\n",
      "Epoch 65/70\n",
      "2172/2172 - 2s - loss: 0.2041 - acc: 0.9392 - val_loss: 0.1209 - val_acc: 0.9587\n",
      "Epoch 66/70\n",
      "2172/2172 - 2s - loss: 0.2055 - acc: 0.9328 - val_loss: 0.1458 - val_acc: 0.9587\n",
      "Epoch 67/70\n",
      "2172/2172 - 2s - loss: 0.1913 - acc: 0.9424 - val_loss: 0.3018 - val_acc: 0.9256\n",
      "Epoch 68/70\n",
      "2172/2172 - 3s - loss: 0.1715 - acc: 0.9475 - val_loss: 0.1578 - val_acc: 0.9545\n",
      "Epoch 69/70\n",
      "2172/2172 - 2s - loss: 0.1762 - acc: 0.9471 - val_loss: 0.1264 - val_acc: 0.9504\n",
      "Epoch 70/70\n",
      "2172/2172 - 2s - loss: 0.1677 - acc: 0.9480 - val_loss: 0.2195 - val_acc: 0.9463\n",
      "Train on 2172 samples, validate on 242 samples\n",
      "Epoch 1/70\n",
      "2172/2172 - 3s - loss: 1.5810 - acc: 0.4903 - val_loss: 1.4257 - val_acc: 0.5950\n",
      "Epoch 2/70\n",
      "2172/2172 - 3s - loss: 1.3852 - acc: 0.5502 - val_loss: 1.2731 - val_acc: 0.5868\n",
      "Epoch 3/70\n",
      "2172/2172 - 3s - loss: 1.2939 - acc: 0.5746 - val_loss: 1.0680 - val_acc: 0.6157\n",
      "Epoch 4/70\n",
      "2172/2172 - 2s - loss: 1.2086 - acc: 0.6068 - val_loss: 1.0850 - val_acc: 0.6446\n",
      "Epoch 5/70\n",
      "2172/2172 - 3s - loss: 1.1645 - acc: 0.6100 - val_loss: 0.8253 - val_acc: 0.7066\n",
      "Epoch 6/70\n",
      "2172/2172 - 2s - loss: 1.0291 - acc: 0.6413 - val_loss: 1.0420 - val_acc: 0.6694\n",
      "Epoch 7/70\n",
      "2172/2172 - 3s - loss: 0.9708 - acc: 0.6823 - val_loss: 0.7609 - val_acc: 0.7273\n",
      "Epoch 8/70\n",
      "2172/2172 - 3s - loss: 0.9135 - acc: 0.6971 - val_loss: 0.6133 - val_acc: 0.8140\n",
      "Epoch 9/70\n",
      "2172/2172 - 3s - loss: 0.8973 - acc: 0.7049 - val_loss: 1.0842 - val_acc: 0.6570\n",
      "Epoch 10/70\n",
      "2172/2172 - 3s - loss: 0.8596 - acc: 0.7330 - val_loss: 0.6375 - val_acc: 0.7810\n",
      "Epoch 11/70\n",
      "2172/2172 - 2s - loss: 0.8445 - acc: 0.7334 - val_loss: 0.6064 - val_acc: 0.7769\n",
      "Epoch 12/70\n",
      "2172/2172 - 3s - loss: 0.7695 - acc: 0.7546 - val_loss: 0.5650 - val_acc: 0.8099\n",
      "Epoch 13/70\n",
      "2172/2172 - 3s - loss: 0.7646 - acc: 0.7578 - val_loss: 0.6220 - val_acc: 0.7893\n",
      "Epoch 14/70\n",
      "2172/2172 - 3s - loss: 0.7505 - acc: 0.7652 - val_loss: 0.4739 - val_acc: 0.8554\n",
      "Epoch 15/70\n",
      "2172/2172 - 2s - loss: 0.6907 - acc: 0.7831 - val_loss: 0.4333 - val_acc: 0.8595\n",
      "Epoch 16/70\n",
      "2172/2172 - 3s - loss: 0.6650 - acc: 0.7808 - val_loss: 0.4613 - val_acc: 0.8512\n",
      "Epoch 17/70\n",
      "2172/2172 - 3s - loss: 0.6178 - acc: 0.7993 - val_loss: 0.6060 - val_acc: 0.8017\n",
      "Epoch 18/70\n",
      "2172/2172 - 2s - loss: 0.6328 - acc: 0.8117 - val_loss: 0.4571 - val_acc: 0.8471\n"
     ]
    },
    {
     "name": "stdout",
     "output_type": "stream",
     "text": [
      "Epoch 19/70\n",
      "2172/2172 - 3s - loss: 0.5475 - acc: 0.8287 - val_loss: 0.3144 - val_acc: 0.8843\n",
      "Epoch 20/70\n",
      "2172/2172 - 2s - loss: 0.5244 - acc: 0.8398 - val_loss: 0.5094 - val_acc: 0.8347\n",
      "Epoch 21/70\n",
      "2172/2172 - 3s - loss: 0.4993 - acc: 0.8292 - val_loss: 0.7304 - val_acc: 0.7562\n",
      "Epoch 22/70\n",
      "2172/2172 - 3s - loss: 0.5167 - acc: 0.8361 - val_loss: 0.3191 - val_acc: 0.9091\n",
      "Epoch 23/70\n",
      "2172/2172 - 3s - loss: 0.4838 - acc: 0.8421 - val_loss: 0.3370 - val_acc: 0.8636\n",
      "Epoch 24/70\n",
      "2172/2172 - 3s - loss: 0.4478 - acc: 0.8550 - val_loss: 0.3499 - val_acc: 0.8884\n",
      "Epoch 25/70\n",
      "2172/2172 - 3s - loss: 0.4213 - acc: 0.8683 - val_loss: 0.2551 - val_acc: 0.9215\n",
      "Epoch 26/70\n",
      "2172/2172 - 2s - loss: 0.4403 - acc: 0.8628 - val_loss: 0.2679 - val_acc: 0.9256\n",
      "Epoch 27/70\n",
      "2172/2172 - 3s - loss: 0.4507 - acc: 0.8642 - val_loss: 0.3071 - val_acc: 0.8926\n",
      "Epoch 28/70\n",
      "2172/2172 - 3s - loss: 0.4071 - acc: 0.8729 - val_loss: 0.3152 - val_acc: 0.8926\n",
      "Epoch 29/70\n",
      "2172/2172 - 3s - loss: 0.4068 - acc: 0.8752 - val_loss: 0.2241 - val_acc: 0.9256\n",
      "Epoch 30/70\n",
      "2172/2172 - 2s - loss: 0.3961 - acc: 0.8697 - val_loss: 0.3310 - val_acc: 0.8926\n",
      "Epoch 31/70\n",
      "2172/2172 - 2s - loss: 0.3583 - acc: 0.8918 - val_loss: 0.1983 - val_acc: 0.9380\n",
      "Epoch 32/70\n",
      "2172/2172 - 2s - loss: 0.3882 - acc: 0.8766 - val_loss: 0.3275 - val_acc: 0.8884\n",
      "Epoch 33/70\n",
      "2172/2172 - 3s - loss: 0.3794 - acc: 0.8854 - val_loss: 0.2445 - val_acc: 0.9132\n",
      "Epoch 34/70\n",
      "2172/2172 - 2s - loss: 0.3620 - acc: 0.8840 - val_loss: 0.2178 - val_acc: 0.9298\n",
      "Epoch 35/70\n",
      "2172/2172 - 3s - loss: 0.3546 - acc: 0.8959 - val_loss: 0.2280 - val_acc: 0.9215\n",
      "Epoch 36/70\n",
      "2172/2172 - 2s - loss: 0.3203 - acc: 0.8992 - val_loss: 0.2188 - val_acc: 0.9215\n",
      "Epoch 37/70\n",
      "2172/2172 - 2s - loss: 0.3359 - acc: 0.8913 - val_loss: 0.2163 - val_acc: 0.9339\n",
      "Epoch 38/70\n",
      "2172/2172 - 3s - loss: 0.3481 - acc: 0.8890 - val_loss: 0.2035 - val_acc: 0.9339\n",
      "Epoch 39/70\n",
      "2172/2172 - 2s - loss: 0.3423 - acc: 0.9010 - val_loss: 0.1765 - val_acc: 0.9463\n",
      "Epoch 40/70\n",
      "2172/2172 - 2s - loss: 0.2922 - acc: 0.9125 - val_loss: 0.2289 - val_acc: 0.9256\n",
      "Epoch 41/70\n",
      "2172/2172 - 3s - loss: 0.2851 - acc: 0.9084 - val_loss: 0.2057 - val_acc: 0.9380\n",
      "Epoch 42/70\n",
      "2172/2172 - 3s - loss: 0.2784 - acc: 0.9070 - val_loss: 0.2243 - val_acc: 0.9174\n",
      "Epoch 43/70\n",
      "2172/2172 - 3s - loss: 0.3152 - acc: 0.9038 - val_loss: 0.1969 - val_acc: 0.9380\n",
      "Epoch 44/70\n",
      "2172/2172 - 2s - loss: 0.2641 - acc: 0.9171 - val_loss: 0.2174 - val_acc: 0.9298\n",
      "Epoch 45/70\n",
      "2172/2172 - 2s - loss: 0.2836 - acc: 0.9116 - val_loss: 0.1680 - val_acc: 0.9421\n",
      "Epoch 46/70\n",
      "2172/2172 - 3s - loss: 0.2833 - acc: 0.9213 - val_loss: 0.1670 - val_acc: 0.9421\n",
      "Epoch 47/70\n",
      "2172/2172 - 2s - loss: 0.2460 - acc: 0.9185 - val_loss: 0.1743 - val_acc: 0.9380\n",
      "Epoch 48/70\n",
      "2172/2172 - 3s - loss: 0.3134 - acc: 0.9042 - val_loss: 0.1699 - val_acc: 0.9380\n",
      "Epoch 49/70\n",
      "2172/2172 - 3s - loss: 0.2754 - acc: 0.9052 - val_loss: 0.1665 - val_acc: 0.9421\n",
      "Epoch 50/70\n",
      "2172/2172 - 3s - loss: 0.2825 - acc: 0.9102 - val_loss: 0.1387 - val_acc: 0.9587\n",
      "Epoch 51/70\n",
      "2172/2172 - 2s - loss: 0.2511 - acc: 0.9240 - val_loss: 0.1412 - val_acc: 0.9504\n",
      "Epoch 52/70\n",
      "2172/2172 - 3s - loss: 0.2093 - acc: 0.9392 - val_loss: 0.1730 - val_acc: 0.9380\n",
      "Epoch 53/70\n",
      "2172/2172 - 2s - loss: 0.2712 - acc: 0.9236 - val_loss: 0.1593 - val_acc: 0.9421\n",
      "Epoch 54/70\n",
      "2172/2172 - 2s - loss: 0.2857 - acc: 0.9231 - val_loss: 0.1716 - val_acc: 0.9421\n",
      "Epoch 55/70\n",
      "2172/2172 - 3s - loss: 0.2562 - acc: 0.9203 - val_loss: 0.2365 - val_acc: 0.9132\n",
      "Epoch 56/70\n",
      "2172/2172 - 3s - loss: 0.2286 - acc: 0.9282 - val_loss: 0.1763 - val_acc: 0.9421\n",
      "Epoch 57/70\n",
      "2172/2172 - 2s - loss: 0.2398 - acc: 0.9309 - val_loss: 0.1567 - val_acc: 0.9587\n",
      "Epoch 58/70\n",
      "2172/2172 - 3s - loss: 0.2214 - acc: 0.9305 - val_loss: 0.1359 - val_acc: 0.9380\n",
      "Epoch 59/70\n",
      "2172/2172 - 2s - loss: 0.2143 - acc: 0.9388 - val_loss: 0.1454 - val_acc: 0.9545\n",
      "Epoch 60/70\n",
      "2172/2172 - 3s - loss: 0.1989 - acc: 0.9401 - val_loss: 0.1493 - val_acc: 0.9463\n",
      "Epoch 61/70\n",
      "2172/2172 - 3s - loss: 0.1942 - acc: 0.9406 - val_loss: 0.1409 - val_acc: 0.9628\n",
      "Epoch 62/70\n",
      "2172/2172 - 2s - loss: 0.2335 - acc: 0.9332 - val_loss: 0.1413 - val_acc: 0.9545\n",
      "Epoch 63/70\n",
      "2172/2172 - 3s - loss: 0.1899 - acc: 0.9411 - val_loss: 0.1076 - val_acc: 0.9711\n",
      "Epoch 64/70\n",
      "2172/2172 - 2s - loss: 0.2106 - acc: 0.9388 - val_loss: 0.1338 - val_acc: 0.9504\n",
      "Epoch 65/70\n",
      "2172/2172 - 3s - loss: 0.2285 - acc: 0.9438 - val_loss: 0.1714 - val_acc: 0.9545\n",
      "Epoch 66/70\n",
      "2172/2172 - 2s - loss: 0.2187 - acc: 0.9383 - val_loss: 0.1427 - val_acc: 0.9545\n",
      "Epoch 67/70\n",
      "2172/2172 - 2s - loss: 0.1858 - acc: 0.9401 - val_loss: 0.1160 - val_acc: 0.9628\n",
      "Epoch 68/70\n",
      "2172/2172 - 3s - loss: 0.1742 - acc: 0.9540 - val_loss: 0.1160 - val_acc: 0.9628\n",
      "Epoch 69/70\n",
      "2172/2172 - 3s - loss: 0.1781 - acc: 0.9466 - val_loss: 0.2218 - val_acc: 0.9256\n",
      "Epoch 70/70\n",
      "2172/2172 - 3s - loss: 0.1748 - acc: 0.9498 - val_loss: 0.0907 - val_acc: 0.9752\n"
     ]
    },
    {
     "data": {
      "text/html": [
       "<span style=\"color:#4527A0\"><h1 style=\"font-size:18px\">Trial complete</h1></span>"
      ],
      "text/plain": [
       "<IPython.core.display.HTML object>"
      ]
     },
     "metadata": {},
     "output_type": "display_data"
    },
    {
     "data": {
      "text/html": [
       "<span style=\"color:#4527A0\"><h1 style=\"font-size:18px\">Trial summary</h1></span>"
      ],
      "text/plain": [
       "<IPython.core.display.HTML object>"
      ]
     },
     "metadata": {},
     "output_type": "display_data"
    },
    {
     "data": {
      "text/html": [
       "<span style=\"color:cyan\"> |-Trial ID: 610741bfd870ef6b7afa4781ce91baa7</span>"
      ],
      "text/plain": [
       "<IPython.core.display.HTML object>"
      ]
     },
     "metadata": {},
     "output_type": "display_data"
    },
    {
     "data": {
      "text/html": [
       "<span style=\"color:cyan\"> |-Score: 0.9690082669258118</span>"
      ],
      "text/plain": [
       "<IPython.core.display.HTML object>"
      ]
     },
     "metadata": {},
     "output_type": "display_data"
    },
    {
     "data": {
      "text/html": [
       "<span style=\"color:cyan\"> |-Best step: 0</span>"
      ],
      "text/plain": [
       "<IPython.core.display.HTML object>"
      ]
     },
     "metadata": {},
     "output_type": "display_data"
    },
    {
     "data": {
      "text/html": [
       "<span style=\"color:#7E57C2\"><h2 style=\"font-size:16px\">Hyperparameters:</h2></span>"
      ],
      "text/plain": [
       "<IPython.core.display.HTML object>"
      ]
     },
     "metadata": {},
     "output_type": "display_data"
    },
    {
     "data": {
      "text/html": [
       "<span style=\"color:cyan\"> |-conv1: 88</span>"
      ],
      "text/plain": [
       "<IPython.core.display.HTML object>"
      ]
     },
     "metadata": {},
     "output_type": "display_data"
    },
    {
     "data": {
      "text/html": [
       "<span style=\"color:blue\"> |-conv2: 104</span>"
      ],
      "text/plain": [
       "<IPython.core.display.HTML object>"
      ]
     },
     "metadata": {},
     "output_type": "display_data"
    },
    {
     "data": {
      "text/html": [
       "<span style=\"color:cyan\"> |-conv3: 40</span>"
      ],
      "text/plain": [
       "<IPython.core.display.HTML object>"
      ]
     },
     "metadata": {},
     "output_type": "display_data"
    },
    {
     "data": {
      "text/html": [
       "<span style=\"color:blue\"> |-conv4: 40</span>"
      ],
      "text/plain": [
       "<IPython.core.display.HTML object>"
      ]
     },
     "metadata": {},
     "output_type": "display_data"
    },
    {
     "name": "stdout",
     "output_type": "stream",
     "text": [
      "Train on 2172 samples, validate on 242 samples\n",
      "Epoch 1/70\n",
      "2172/2172 - 3s - loss: 1.5575 - acc: 0.5018 - val_loss: 1.3492 - val_acc: 0.5537\n",
      "Epoch 2/70\n",
      "2172/2172 - 2s - loss: 1.3824 - acc: 0.5529 - val_loss: 2.1477 - val_acc: 0.4298\n",
      "Epoch 3/70\n",
      "2172/2172 - 2s - loss: 1.3043 - acc: 0.5783 - val_loss: 1.4077 - val_acc: 0.6529\n",
      "Epoch 4/70\n",
      "2172/2172 - 2s - loss: 1.2493 - acc: 0.6050 - val_loss: 1.0778 - val_acc: 0.6529\n",
      "Epoch 5/70\n",
      "2172/2172 - 2s - loss: 1.2243 - acc: 0.6050 - val_loss: 0.9817 - val_acc: 0.6736\n",
      "Epoch 6/70\n",
      "2172/2172 - 2s - loss: 1.0805 - acc: 0.6404 - val_loss: 0.9051 - val_acc: 0.6860\n",
      "Epoch 7/70\n",
      "2172/2172 - 2s - loss: 1.0273 - acc: 0.6556 - val_loss: 0.9758 - val_acc: 0.7149\n",
      "Epoch 8/70\n",
      "2172/2172 - 2s - loss: 0.9335 - acc: 0.6713 - val_loss: 0.7788 - val_acc: 0.7314\n",
      "Epoch 9/70\n",
      "2172/2172 - 2s - loss: 0.9186 - acc: 0.6906 - val_loss: 1.4058 - val_acc: 0.5868\n",
      "Epoch 10/70\n",
      "2172/2172 - 2s - loss: 0.8740 - acc: 0.7155 - val_loss: 0.6936 - val_acc: 0.7686\n",
      "Epoch 11/70\n",
      "2172/2172 - 2s - loss: 0.8261 - acc: 0.7274 - val_loss: 0.5862 - val_acc: 0.7851\n",
      "Epoch 12/70\n",
      "2172/2172 - 2s - loss: 0.7592 - acc: 0.7500 - val_loss: 0.6170 - val_acc: 0.8099\n",
      "Epoch 13/70\n",
      "2172/2172 - 2s - loss: 0.7437 - acc: 0.7684 - val_loss: 0.4629 - val_acc: 0.8471\n",
      "Epoch 14/70\n",
      "2172/2172 - 2s - loss: 0.7054 - acc: 0.7744 - val_loss: 0.4473 - val_acc: 0.8306\n",
      "Epoch 15/70\n",
      "2172/2172 - 2s - loss: 0.7036 - acc: 0.7712 - val_loss: 0.4515 - val_acc: 0.8388\n",
      "Epoch 16/70\n",
      "2172/2172 - 2s - loss: 0.6179 - acc: 0.8048 - val_loss: 0.5360 - val_acc: 0.8223\n",
      "Epoch 17/70\n",
      "2172/2172 - 2s - loss: 0.5715 - acc: 0.8103 - val_loss: 0.4190 - val_acc: 0.8512\n",
      "Epoch 18/70\n",
      "2172/2172 - 2s - loss: 0.5987 - acc: 0.8177 - val_loss: 0.3464 - val_acc: 0.8760\n",
      "Epoch 19/70\n",
      "2172/2172 - 2s - loss: 0.5465 - acc: 0.8200 - val_loss: 0.4424 - val_acc: 0.8430\n",
      "Epoch 20/70\n",
      "2172/2172 - 2s - loss: 0.5554 - acc: 0.8320 - val_loss: 0.4108 - val_acc: 0.8430\n",
      "Epoch 21/70\n",
      "2172/2172 - 2s - loss: 0.4837 - acc: 0.8481 - val_loss: 0.2852 - val_acc: 0.9132\n",
      "Epoch 22/70\n",
      "2172/2172 - 2s - loss: 0.5197 - acc: 0.8375 - val_loss: 0.3137 - val_acc: 0.8802\n",
      "Epoch 23/70\n",
      "2172/2172 - 2s - loss: 0.4576 - acc: 0.8494 - val_loss: 0.4899 - val_acc: 0.8306\n",
      "Epoch 24/70\n",
      "2172/2172 - 2s - loss: 0.4741 - acc: 0.8531 - val_loss: 0.2789 - val_acc: 0.9091\n",
      "Epoch 25/70\n",
      "2172/2172 - 2s - loss: 0.4538 - acc: 0.8582 - val_loss: 0.2704 - val_acc: 0.9132\n",
      "Epoch 26/70\n",
      "2172/2172 - 2s - loss: 0.4214 - acc: 0.8651 - val_loss: 0.2201 - val_acc: 0.9421\n",
      "Epoch 27/70\n",
      "2172/2172 - 2s - loss: 0.4208 - acc: 0.8674 - val_loss: 0.2349 - val_acc: 0.9298\n",
      "Epoch 28/70\n",
      "2172/2172 - 2s - loss: 0.4139 - acc: 0.8679 - val_loss: 0.3711 - val_acc: 0.8678\n",
      "Epoch 29/70\n",
      "2172/2172 - 2s - loss: 0.3848 - acc: 0.8738 - val_loss: 0.2072 - val_acc: 0.9215\n",
      "Epoch 30/70\n",
      "2172/2172 - 2s - loss: 0.3964 - acc: 0.8812 - val_loss: 0.1884 - val_acc: 0.9256\n",
      "Epoch 31/70\n",
      "2172/2172 - 2s - loss: 0.3793 - acc: 0.8752 - val_loss: 0.2478 - val_acc: 0.9174\n",
      "Epoch 32/70\n",
      "2172/2172 - 2s - loss: 0.3493 - acc: 0.8877 - val_loss: 0.1861 - val_acc: 0.9256\n",
      "Epoch 33/70\n",
      "2172/2172 - 2s - loss: 0.3700 - acc: 0.8895 - val_loss: 0.1990 - val_acc: 0.9339\n",
      "Epoch 34/70\n",
      "2172/2172 - 2s - loss: 0.3154 - acc: 0.8973 - val_loss: 0.2288 - val_acc: 0.9256\n",
      "Epoch 35/70\n",
      "2172/2172 - 2s - loss: 0.3431 - acc: 0.8941 - val_loss: 0.2229 - val_acc: 0.9174\n",
      "Epoch 36/70\n",
      "2172/2172 - 2s - loss: 0.3404 - acc: 0.8881 - val_loss: 0.1732 - val_acc: 0.9380\n",
      "Epoch 37/70\n",
      "2172/2172 - 2s - loss: 0.3026 - acc: 0.9001 - val_loss: 0.1708 - val_acc: 0.9421\n",
      "Epoch 38/70\n",
      "2172/2172 - 2s - loss: 0.3302 - acc: 0.8987 - val_loss: 0.2245 - val_acc: 0.9174\n",
      "Epoch 39/70\n",
      "2172/2172 - 3s - loss: 0.2769 - acc: 0.9148 - val_loss: 0.1937 - val_acc: 0.9298\n",
      "Epoch 40/70\n",
      "2172/2172 - 2s - loss: 0.2812 - acc: 0.9144 - val_loss: 0.1949 - val_acc: 0.9380\n",
      "Epoch 41/70\n",
      "2172/2172 - 2s - loss: 0.2886 - acc: 0.9111 - val_loss: 0.1408 - val_acc: 0.9545\n",
      "Epoch 42/70\n",
      "2172/2172 - 2s - loss: 0.2859 - acc: 0.9102 - val_loss: 0.2132 - val_acc: 0.9215\n",
      "Epoch 43/70\n",
      "2172/2172 - 2s - loss: 0.3319 - acc: 0.9033 - val_loss: 0.5760 - val_acc: 0.8595\n",
      "Epoch 44/70\n",
      "2172/2172 - 2s - loss: 0.2826 - acc: 0.9157 - val_loss: 0.2234 - val_acc: 0.9256\n",
      "Epoch 45/70\n",
      "2172/2172 - 2s - loss: 0.2897 - acc: 0.9176 - val_loss: 0.1451 - val_acc: 0.9504\n",
      "Epoch 46/70\n",
      "2172/2172 - 2s - loss: 0.2877 - acc: 0.9088 - val_loss: 0.1069 - val_acc: 0.9669\n",
      "Epoch 47/70\n",
      "2172/2172 - 2s - loss: 0.2997 - acc: 0.9084 - val_loss: 0.2273 - val_acc: 0.9339\n",
      "Epoch 48/70\n",
      "2172/2172 - 2s - loss: 0.2805 - acc: 0.9148 - val_loss: 0.1358 - val_acc: 0.9587\n",
      "Epoch 49/70\n",
      "2172/2172 - 2s - loss: 0.2365 - acc: 0.9309 - val_loss: 0.2084 - val_acc: 0.9298\n",
      "Epoch 50/70\n",
      "2172/2172 - 2s - loss: 0.2582 - acc: 0.9231 - val_loss: 0.1628 - val_acc: 0.9463\n",
      "Epoch 51/70\n",
      "2172/2172 - 2s - loss: 0.2292 - acc: 0.9296 - val_loss: 0.2122 - val_acc: 0.9215\n",
      "Epoch 52/70\n",
      "2172/2172 - 2s - loss: 0.2725 - acc: 0.9213 - val_loss: 0.1742 - val_acc: 0.9380\n",
      "Epoch 53/70\n",
      "2172/2172 - 3s - loss: 0.2251 - acc: 0.9268 - val_loss: 0.1531 - val_acc: 0.9463\n",
      "Epoch 54/70\n",
      "2172/2172 - 2s - loss: 0.2487 - acc: 0.9319 - val_loss: 0.2659 - val_acc: 0.8967\n",
      "Epoch 55/70\n",
      "2172/2172 - 2s - loss: 0.2104 - acc: 0.9346 - val_loss: 0.1131 - val_acc: 0.9669\n",
      "Epoch 56/70\n",
      "2172/2172 - 2s - loss: 0.2365 - acc: 0.9240 - val_loss: 0.1887 - val_acc: 0.9421\n",
      "Epoch 57/70\n",
      "2172/2172 - 2s - loss: 0.2296 - acc: 0.9337 - val_loss: 0.1028 - val_acc: 0.9669\n",
      "Epoch 58/70\n",
      "2172/2172 - 2s - loss: 0.1840 - acc: 0.9406 - val_loss: 0.1572 - val_acc: 0.9380\n",
      "Epoch 59/70\n",
      "2172/2172 - 2s - loss: 0.1934 - acc: 0.9378 - val_loss: 0.1172 - val_acc: 0.9463\n",
      "Epoch 60/70\n",
      "2172/2172 - 2s - loss: 0.2148 - acc: 0.9314 - val_loss: 0.1883 - val_acc: 0.9463\n",
      "Epoch 61/70\n",
      "2172/2172 - 2s - loss: 0.2094 - acc: 0.9388 - val_loss: 0.1471 - val_acc: 0.9380\n",
      "Epoch 62/70\n",
      "2172/2172 - 2s - loss: 0.2128 - acc: 0.9406 - val_loss: 0.1532 - val_acc: 0.9545\n",
      "Epoch 63/70\n",
      "2172/2172 - 2s - loss: 0.2020 - acc: 0.9448 - val_loss: 0.1493 - val_acc: 0.9587\n",
      "Epoch 64/70\n",
      "2172/2172 - 2s - loss: 0.2047 - acc: 0.9342 - val_loss: 0.1460 - val_acc: 0.9463\n",
      "Epoch 65/70\n",
      "2172/2172 - 3s - loss: 0.1965 - acc: 0.9415 - val_loss: 0.1281 - val_acc: 0.9504\n",
      "Epoch 66/70\n",
      "2172/2172 - 2s - loss: 0.2414 - acc: 0.9282 - val_loss: 0.1640 - val_acc: 0.9421\n",
      "Epoch 67/70\n",
      "2172/2172 - 2s - loss: 0.1801 - acc: 0.9452 - val_loss: 0.1753 - val_acc: 0.9298\n",
      "Epoch 68/70\n",
      "2172/2172 - 2s - loss: 0.1484 - acc: 0.9563 - val_loss: 0.1783 - val_acc: 0.9339\n",
      "Epoch 69/70\n",
      "2172/2172 - 2s - loss: 0.1974 - acc: 0.9471 - val_loss: 0.1433 - val_acc: 0.9421\n",
      "Epoch 70/70\n",
      "2172/2172 - 2s - loss: 0.1469 - acc: 0.9553 - val_loss: 0.1233 - val_acc: 0.9545\n",
      "Train on 2172 samples, validate on 242 samples\n",
      "Epoch 1/70\n",
      "2172/2172 - 3s - loss: 1.5478 - acc: 0.4982 - val_loss: 1.4299 - val_acc: 0.5289\n",
      "Epoch 2/70\n",
      "2172/2172 - 2s - loss: 1.3258 - acc: 0.5746 - val_loss: 1.0809 - val_acc: 0.6322\n",
      "Epoch 3/70\n",
      "2172/2172 - 3s - loss: 1.2615 - acc: 0.5866 - val_loss: 1.2641 - val_acc: 0.6653\n",
      "Epoch 4/70\n",
      "2172/2172 - 2s - loss: 1.1657 - acc: 0.6188 - val_loss: 0.8912 - val_acc: 0.7190\n",
      "Epoch 5/70\n",
      "2172/2172 - 3s - loss: 1.0181 - acc: 0.6506 - val_loss: 1.3344 - val_acc: 0.5537\n",
      "Epoch 6/70\n",
      "2172/2172 - 3s - loss: 0.9556 - acc: 0.6731 - val_loss: 0.7795 - val_acc: 0.7479\n",
      "Epoch 7/70\n",
      "2172/2172 - 2s - loss: 0.9156 - acc: 0.6938 - val_loss: 0.8231 - val_acc: 0.7438\n",
      "Epoch 8/70\n",
      "2172/2172 - 3s - loss: 0.8958 - acc: 0.7012 - val_loss: 0.6196 - val_acc: 0.8223\n",
      "Epoch 9/70\n",
      "2172/2172 - 3s - loss: 0.8074 - acc: 0.7431 - val_loss: 1.0565 - val_acc: 0.6777\n",
      "Epoch 10/70\n",
      "2172/2172 - 3s - loss: 0.7692 - acc: 0.7560 - val_loss: 0.5071 - val_acc: 0.8388\n",
      "Epoch 11/70\n",
      "2172/2172 - 3s - loss: 0.7311 - acc: 0.7735 - val_loss: 0.5354 - val_acc: 0.8430\n",
      "Epoch 12/70\n",
      "2172/2172 - 2s - loss: 0.6782 - acc: 0.7818 - val_loss: 0.4522 - val_acc: 0.8595\n",
      "Epoch 13/70\n",
      "2172/2172 - 3s - loss: 0.6676 - acc: 0.7850 - val_loss: 0.4378 - val_acc: 0.8347\n",
      "Epoch 14/70\n",
      "2172/2172 - 2s - loss: 0.6515 - acc: 0.7960 - val_loss: 0.3544 - val_acc: 0.8678\n",
      "Epoch 15/70\n",
      "2172/2172 - 3s - loss: 0.5773 - acc: 0.8126 - val_loss: 0.3943 - val_acc: 0.8595\n",
      "Epoch 16/70\n",
      "2172/2172 - 3s - loss: 0.5468 - acc: 0.8223 - val_loss: 0.3879 - val_acc: 0.8719\n",
      "Epoch 17/70\n",
      "2172/2172 - 2s - loss: 0.5555 - acc: 0.8310 - val_loss: 0.6350 - val_acc: 0.8182\n",
      "Epoch 18/70\n",
      "2172/2172 - 3s - loss: 0.5098 - acc: 0.8320 - val_loss: 0.3326 - val_acc: 0.8760\n"
     ]
    },
    {
     "name": "stdout",
     "output_type": "stream",
     "text": [
      "Epoch 19/70\n",
      "2172/2172 - 2s - loss: 0.4940 - acc: 0.8416 - val_loss: 0.2887 - val_acc: 0.9050\n",
      "Epoch 20/70\n",
      "2172/2172 - 3s - loss: 0.4752 - acc: 0.8439 - val_loss: 0.3430 - val_acc: 0.8760\n",
      "Epoch 21/70\n",
      "2172/2172 - 2s - loss: 0.4334 - acc: 0.8559 - val_loss: 0.2638 - val_acc: 0.9174\n",
      "Epoch 22/70\n",
      "2172/2172 - 3s - loss: 0.4671 - acc: 0.8536 - val_loss: 0.3103 - val_acc: 0.8884\n",
      "Epoch 23/70\n",
      "2172/2172 - 3s - loss: 0.4405 - acc: 0.8605 - val_loss: 0.6406 - val_acc: 0.8099\n",
      "Epoch 24/70\n",
      "2172/2172 - 2s - loss: 0.4135 - acc: 0.8729 - val_loss: 0.2161 - val_acc: 0.9215\n",
      "Epoch 25/70\n",
      "2172/2172 - 3s - loss: 0.3909 - acc: 0.8780 - val_loss: 0.2211 - val_acc: 0.9174\n",
      "Epoch 26/70\n",
      "2172/2172 - 3s - loss: 0.3582 - acc: 0.8840 - val_loss: 0.2575 - val_acc: 0.8926\n",
      "Epoch 27/70\n",
      "2172/2172 - 3s - loss: 0.3983 - acc: 0.8757 - val_loss: 0.2283 - val_acc: 0.9091\n",
      "Epoch 28/70\n",
      "2172/2172 - 3s - loss: 0.3629 - acc: 0.8849 - val_loss: 0.2165 - val_acc: 0.9256\n",
      "Epoch 29/70\n",
      "2172/2172 - 2s - loss: 0.3373 - acc: 0.8890 - val_loss: 0.2291 - val_acc: 0.9174\n",
      "Epoch 30/70\n",
      "2172/2172 - 3s - loss: 0.3146 - acc: 0.8955 - val_loss: 0.2562 - val_acc: 0.8926\n",
      "Epoch 31/70\n",
      "2172/2172 - 3s - loss: 0.3074 - acc: 0.9006 - val_loss: 0.2055 - val_acc: 0.9339\n",
      "Epoch 32/70\n",
      "2172/2172 - 3s - loss: 0.3518 - acc: 0.8849 - val_loss: 0.1911 - val_acc: 0.9463\n",
      "Epoch 33/70\n",
      "2172/2172 - 3s - loss: 0.3279 - acc: 0.8927 - val_loss: 0.3928 - val_acc: 0.8719\n",
      "Epoch 34/70\n",
      "2172/2172 - 3s - loss: 0.2638 - acc: 0.9176 - val_loss: 0.4316 - val_acc: 0.8554\n",
      "Epoch 35/70\n",
      "2172/2172 - 2s - loss: 0.3289 - acc: 0.8950 - val_loss: 0.2727 - val_acc: 0.8884\n",
      "Epoch 36/70\n",
      "2172/2172 - 3s - loss: 0.3301 - acc: 0.8973 - val_loss: 0.2979 - val_acc: 0.8967\n",
      "Epoch 37/70\n",
      "2172/2172 - 3s - loss: 0.2533 - acc: 0.9203 - val_loss: 0.1426 - val_acc: 0.9421\n",
      "Epoch 38/70\n",
      "2172/2172 - 3s - loss: 0.3228 - acc: 0.9010 - val_loss: 0.2699 - val_acc: 0.9050\n",
      "Epoch 39/70\n",
      "2172/2172 - 3s - loss: 0.2504 - acc: 0.9273 - val_loss: 0.1417 - val_acc: 0.9463\n",
      "Epoch 40/70\n",
      "2172/2172 - 3s - loss: 0.2705 - acc: 0.9203 - val_loss: 0.3005 - val_acc: 0.8926\n",
      "Epoch 41/70\n",
      "2172/2172 - 3s - loss: 0.2596 - acc: 0.9208 - val_loss: 0.1968 - val_acc: 0.9339\n",
      "Epoch 42/70\n",
      "2172/2172 - 3s - loss: 0.2781 - acc: 0.9167 - val_loss: 0.1749 - val_acc: 0.9380\n",
      "Epoch 43/70\n",
      "2172/2172 - 3s - loss: 0.2467 - acc: 0.9190 - val_loss: 0.1727 - val_acc: 0.9421\n",
      "Epoch 44/70\n",
      "2172/2172 - 3s - loss: 0.2587 - acc: 0.9268 - val_loss: 0.1509 - val_acc: 0.9463\n",
      "Epoch 45/70\n",
      "2172/2172 - 3s - loss: 0.2282 - acc: 0.9300 - val_loss: 0.2729 - val_acc: 0.9174\n",
      "Epoch 46/70\n",
      "2172/2172 - 3s - loss: 0.2744 - acc: 0.9305 - val_loss: 0.3264 - val_acc: 0.8926\n",
      "Epoch 47/70\n",
      "2172/2172 - 3s - loss: 0.2541 - acc: 0.9180 - val_loss: 0.2108 - val_acc: 0.9298\n",
      "Epoch 48/70\n",
      "2172/2172 - 3s - loss: 0.1946 - acc: 0.9342 - val_loss: 0.2424 - val_acc: 0.9298\n",
      "Epoch 49/70\n",
      "2172/2172 - 3s - loss: 0.2121 - acc: 0.9355 - val_loss: 0.2833 - val_acc: 0.9174\n",
      "Epoch 50/70\n",
      "2172/2172 - 3s - loss: 0.1983 - acc: 0.9369 - val_loss: 0.1416 - val_acc: 0.9463\n",
      "Epoch 51/70\n",
      "2172/2172 - 3s - loss: 0.2266 - acc: 0.9369 - val_loss: 0.1949 - val_acc: 0.9380\n",
      "Epoch 52/70\n",
      "2172/2172 - 3s - loss: 0.2178 - acc: 0.9355 - val_loss: 0.2061 - val_acc: 0.9215\n",
      "Epoch 53/70\n",
      "2172/2172 - 3s - loss: 0.1632 - acc: 0.9489 - val_loss: 0.1154 - val_acc: 0.9587\n",
      "Epoch 54/70\n",
      "2172/2172 - 3s - loss: 0.1872 - acc: 0.9369 - val_loss: 0.1254 - val_acc: 0.9669\n",
      "Epoch 55/70\n",
      "2172/2172 - 3s - loss: 0.2137 - acc: 0.9438 - val_loss: 0.1811 - val_acc: 0.9504\n",
      "Epoch 56/70\n",
      "2172/2172 - 3s - loss: 0.1592 - acc: 0.9526 - val_loss: 0.1602 - val_acc: 0.9545\n",
      "Epoch 57/70\n",
      "2172/2172 - 2s - loss: 0.2027 - acc: 0.9388 - val_loss: 0.1063 - val_acc: 0.9504\n",
      "Epoch 58/70\n",
      "2172/2172 - 2s - loss: 0.1697 - acc: 0.9544 - val_loss: 0.1132 - val_acc: 0.9669\n",
      "Epoch 59/70\n",
      "2172/2172 - 2s - loss: 0.1756 - acc: 0.9503 - val_loss: 0.0806 - val_acc: 0.9628\n",
      "Epoch 60/70\n",
      "2172/2172 - 3s - loss: 0.2005 - acc: 0.9452 - val_loss: 0.1076 - val_acc: 0.9628\n",
      "Epoch 61/70\n",
      "2172/2172 - 3s - loss: 0.2403 - acc: 0.9314 - val_loss: 0.1035 - val_acc: 0.9628\n",
      "Epoch 62/70\n",
      "2172/2172 - 2s - loss: 0.1599 - acc: 0.9517 - val_loss: 0.0752 - val_acc: 0.9793\n",
      "Epoch 63/70\n",
      "2172/2172 - 3s - loss: 0.1687 - acc: 0.9567 - val_loss: 0.1743 - val_acc: 0.9504\n",
      "Epoch 64/70\n",
      "2172/2172 - 3s - loss: 0.1763 - acc: 0.9521 - val_loss: 0.1518 - val_acc: 0.9504\n",
      "Epoch 65/70\n",
      "2172/2172 - 3s - loss: 0.1348 - acc: 0.9581 - val_loss: 0.4009 - val_acc: 0.9091\n",
      "Epoch 66/70\n",
      "2172/2172 - 3s - loss: 0.2119 - acc: 0.9346 - val_loss: 0.1104 - val_acc: 0.9628\n",
      "Epoch 67/70\n",
      "2172/2172 - 3s - loss: 0.1902 - acc: 0.9452 - val_loss: 0.1634 - val_acc: 0.9587\n",
      "Epoch 68/70\n",
      "2172/2172 - 3s - loss: 0.1553 - acc: 0.9517 - val_loss: 0.1065 - val_acc: 0.9628\n",
      "Epoch 69/70\n",
      "2172/2172 - 2s - loss: 0.1908 - acc: 0.9498 - val_loss: 0.2031 - val_acc: 0.9669\n",
      "Epoch 70/70\n",
      "2172/2172 - 3s - loss: 0.1776 - acc: 0.9484 - val_loss: 0.1090 - val_acc: 0.9628\n"
     ]
    },
    {
     "data": {
      "text/html": [
       "<span style=\"color:#4527A0\"><h1 style=\"font-size:18px\">Trial complete</h1></span>"
      ],
      "text/plain": [
       "<IPython.core.display.HTML object>"
      ]
     },
     "metadata": {},
     "output_type": "display_data"
    },
    {
     "data": {
      "text/html": [
       "<span style=\"color:#4527A0\"><h1 style=\"font-size:18px\">Trial summary</h1></span>"
      ],
      "text/plain": [
       "<IPython.core.display.HTML object>"
      ]
     },
     "metadata": {},
     "output_type": "display_data"
    },
    {
     "data": {
      "text/html": [
       "<span style=\"color:cyan\"> |-Trial ID: 98be7b90f27671397a65d8417e5e721e</span>"
      ],
      "text/plain": [
       "<IPython.core.display.HTML object>"
      ]
     },
     "metadata": {},
     "output_type": "display_data"
    },
    {
     "data": {
      "text/html": [
       "<span style=\"color:cyan\"> |-Score: 0.9731404781341553</span>"
      ],
      "text/plain": [
       "<IPython.core.display.HTML object>"
      ]
     },
     "metadata": {},
     "output_type": "display_data"
    },
    {
     "data": {
      "text/html": [
       "<span style=\"color:cyan\"> |-Best step: 0</span>"
      ],
      "text/plain": [
       "<IPython.core.display.HTML object>"
      ]
     },
     "metadata": {},
     "output_type": "display_data"
    },
    {
     "data": {
      "text/html": [
       "<span style=\"color:#7E57C2\"><h2 style=\"font-size:16px\">Hyperparameters:</h2></span>"
      ],
      "text/plain": [
       "<IPython.core.display.HTML object>"
      ]
     },
     "metadata": {},
     "output_type": "display_data"
    },
    {
     "data": {
      "text/html": [
       "<span style=\"color:cyan\"> |-conv1: 56</span>"
      ],
      "text/plain": [
       "<IPython.core.display.HTML object>"
      ]
     },
     "metadata": {},
     "output_type": "display_data"
    },
    {
     "data": {
      "text/html": [
       "<span style=\"color:blue\"> |-conv2: 72</span>"
      ],
      "text/plain": [
       "<IPython.core.display.HTML object>"
      ]
     },
     "metadata": {},
     "output_type": "display_data"
    },
    {
     "data": {
      "text/html": [
       "<span style=\"color:cyan\"> |-conv3: 56</span>"
      ],
      "text/plain": [
       "<IPython.core.display.HTML object>"
      ]
     },
     "metadata": {},
     "output_type": "display_data"
    },
    {
     "data": {
      "text/html": [
       "<span style=\"color:blue\"> |-conv4: 72</span>"
      ],
      "text/plain": [
       "<IPython.core.display.HTML object>"
      ]
     },
     "metadata": {},
     "output_type": "display_data"
    },
    {
     "name": "stdout",
     "output_type": "stream",
     "text": [
      "2172/2172 - 2s - loss: 0.2441 - acc: 0.9240 - val_loss: 0.1699 - val_acc: 0.9463\n",
      "Epoch 57/70\n",
      "2172/2172 - 2s - loss: 0.2000 - acc: 0.9374 - val_loss: 0.1375 - val_acc: 0.9545\n",
      "Epoch 58/70\n",
      "2172/2172 - 2s - loss: 0.2668 - acc: 0.9199 - val_loss: 0.3466 - val_acc: 0.8967\n",
      "Epoch 59/70\n",
      "2172/2172 - 2s - loss: 0.2276 - acc: 0.9268 - val_loss: 0.1671 - val_acc: 0.9587\n",
      "Epoch 60/70\n",
      "2172/2172 - 2s - loss: 0.2571 - acc: 0.9213 - val_loss: 0.1930 - val_acc: 0.9504\n",
      "Epoch 61/70\n",
      "2172/2172 - 2s - loss: 0.1762 - acc: 0.9438 - val_loss: 0.1433 - val_acc: 0.9587\n",
      "Epoch 62/70\n",
      "2172/2172 - 2s - loss: 0.2460 - acc: 0.9309 - val_loss: 0.1542 - val_acc: 0.9463\n",
      "Epoch 63/70\n",
      "2172/2172 - 2s - loss: 0.1956 - acc: 0.9346 - val_loss: 0.1568 - val_acc: 0.9463\n",
      "Epoch 64/70\n",
      "2172/2172 - 2s - loss: 0.2349 - acc: 0.9300 - val_loss: 0.1459 - val_acc: 0.9421\n",
      "Epoch 65/70\n",
      "2172/2172 - 2s - loss: 0.2018 - acc: 0.9392 - val_loss: 0.1815 - val_acc: 0.9339\n",
      "Epoch 66/70\n",
      "2172/2172 - 2s - loss: 0.2052 - acc: 0.9369 - val_loss: 0.1103 - val_acc: 0.9628\n",
      "Epoch 67/70\n",
      "2172/2172 - 2s - loss: 0.2414 - acc: 0.9332 - val_loss: 0.1535 - val_acc: 0.9587\n",
      "Epoch 68/70\n",
      "2172/2172 - 2s - loss: 0.2154 - acc: 0.9378 - val_loss: 0.1929 - val_acc: 0.9421\n",
      "Epoch 69/70\n",
      "2172/2172 - 2s - loss: 0.1627 - acc: 0.9448 - val_loss: 0.1482 - val_acc: 0.9628\n",
      "Epoch 70/70\n",
      "2172/2172 - 2s - loss: 0.1887 - acc: 0.9457 - val_loss: 0.1344 - val_acc: 0.9628\n",
      "Train on 2172 samples, validate on 242 samples\n",
      "Epoch 1/70\n",
      "2172/2172 - 2s - loss: 1.5567 - acc: 0.4940 - val_loss: 1.6838 - val_acc: 0.4587\n",
      "Epoch 2/70\n",
      "2172/2172 - 2s - loss: 1.3436 - acc: 0.5654 - val_loss: 1.1821 - val_acc: 0.6074\n",
      "Epoch 3/70\n",
      "2172/2172 - 2s - loss: 1.2883 - acc: 0.5746 - val_loss: 1.1768 - val_acc: 0.6240\n",
      "Epoch 4/70\n",
      "2172/2172 - 2s - loss: 1.2345 - acc: 0.5990 - val_loss: 1.0305 - val_acc: 0.6736\n",
      "Epoch 5/70\n",
      "2172/2172 - 2s - loss: 1.1505 - acc: 0.6110 - val_loss: 0.9199 - val_acc: 0.6942\n",
      "Epoch 6/70\n",
      "2172/2172 - 2s - loss: 1.0579 - acc: 0.6441 - val_loss: 0.8845 - val_acc: 0.7231\n",
      "Epoch 7/70\n",
      "2172/2172 - 2s - loss: 0.9832 - acc: 0.6561 - val_loss: 0.7920 - val_acc: 0.7397\n",
      "Epoch 8/70\n",
      "2172/2172 - 2s - loss: 0.9057 - acc: 0.6989 - val_loss: 0.5909 - val_acc: 0.7851\n",
      "Epoch 9/70\n",
      "2172/2172 - 2s - loss: 0.8711 - acc: 0.7086 - val_loss: 0.7195 - val_acc: 0.7686\n",
      "Epoch 10/70\n",
      "2172/2172 - 2s - loss: 0.8282 - acc: 0.7403 - val_loss: 0.8704 - val_acc: 0.7603\n",
      "Epoch 11/70\n",
      "2172/2172 - 2s - loss: 0.7747 - acc: 0.7422 - val_loss: 0.5194 - val_acc: 0.8223\n",
      "Epoch 12/70\n",
      "2172/2172 - 2s - loss: 0.7238 - acc: 0.7744 - val_loss: 0.4545 - val_acc: 0.8512\n",
      "Epoch 13/70\n",
      "2172/2172 - 2s - loss: 0.7182 - acc: 0.7767 - val_loss: 0.6360 - val_acc: 0.7893\n",
      "Epoch 14/70\n",
      "2172/2172 - 2s - loss: 0.6760 - acc: 0.7882 - val_loss: 0.6349 - val_acc: 0.8306\n",
      "Epoch 15/70\n",
      "2172/2172 - 2s - loss: 0.6042 - acc: 0.8071 - val_loss: 0.8159 - val_acc: 0.7438\n",
      "Epoch 16/70\n",
      "2172/2172 - 2s - loss: 0.6087 - acc: 0.8103 - val_loss: 0.3194 - val_acc: 0.8843\n",
      "Epoch 17/70\n",
      "2172/2172 - 2s - loss: 0.5776 - acc: 0.8080 - val_loss: 0.4091 - val_acc: 0.8719\n",
      "Epoch 18/70\n",
      "2172/2172 - 2s - loss: 0.5609 - acc: 0.8168 - val_loss: 0.3196 - val_acc: 0.8884\n",
      "Epoch 19/70\n",
      "2172/2172 - 2s - loss: 0.5267 - acc: 0.8338 - val_loss: 0.3223 - val_acc: 0.8802\n",
      "Epoch 20/70\n",
      "2172/2172 - 2s - loss: 0.5140 - acc: 0.8366 - val_loss: 0.3594 - val_acc: 0.8926\n",
      "Epoch 21/70\n",
      "2172/2172 - 2s - loss: 0.4969 - acc: 0.8458 - val_loss: 0.4658 - val_acc: 0.8512\n",
      "Epoch 22/70\n",
      "2172/2172 - 2s - loss: 0.4398 - acc: 0.8619 - val_loss: 0.3332 - val_acc: 0.8802\n",
      "Epoch 23/70\n",
      "2172/2172 - 2s - loss: 0.4974 - acc: 0.8393 - val_loss: 0.2620 - val_acc: 0.8967\n",
      "Epoch 24/70\n",
      "2172/2172 - 2s - loss: 0.4333 - acc: 0.8642 - val_loss: 0.2937 - val_acc: 0.8926\n",
      "Epoch 25/70\n",
      "2172/2172 - 2s - loss: 0.4105 - acc: 0.8692 - val_loss: 0.2745 - val_acc: 0.9091\n",
      "Epoch 26/70\n",
      "2172/2172 - 2s - loss: 0.3872 - acc: 0.8738 - val_loss: 0.2922 - val_acc: 0.9132\n",
      "Epoch 27/70\n",
      "2172/2172 - 2s - loss: 0.3903 - acc: 0.8840 - val_loss: 0.3926 - val_acc: 0.8678\n",
      "Epoch 28/70\n",
      "2172/2172 - 2s - loss: 0.4056 - acc: 0.8692 - val_loss: 0.1904 - val_acc: 0.9380\n",
      "Epoch 29/70\n",
      "2172/2172 - 2s - loss: 0.4188 - acc: 0.8688 - val_loss: 0.2273 - val_acc: 0.9298\n",
      "Epoch 30/70\n",
      "2172/2172 - 2s - loss: 0.3520 - acc: 0.8831 - val_loss: 0.2703 - val_acc: 0.9339\n",
      "Epoch 31/70\n",
      "2172/2172 - 2s - loss: 0.3956 - acc: 0.8688 - val_loss: 0.2336 - val_acc: 0.9174\n",
      "Epoch 32/70\n",
      "2172/2172 - 2s - loss: 0.3414 - acc: 0.8844 - val_loss: 0.2354 - val_acc: 0.9298\n",
      "Epoch 33/70\n",
      "2172/2172 - 2s - loss: 0.3604 - acc: 0.8821 - val_loss: 0.2034 - val_acc: 0.9380\n",
      "Epoch 34/70\n",
      "2172/2172 - 2s - loss: 0.3612 - acc: 0.8849 - val_loss: 0.3194 - val_acc: 0.8843\n",
      "Epoch 35/70\n",
      "2172/2172 - 2s - loss: 0.3155 - acc: 0.8955 - val_loss: 0.2147 - val_acc: 0.9380\n",
      "Epoch 36/70\n",
      "2172/2172 - 2s - loss: 0.3391 - acc: 0.9001 - val_loss: 0.2757 - val_acc: 0.9091\n",
      "Epoch 37/70\n",
      "2172/2172 - 2s - loss: 0.2696 - acc: 0.9088 - val_loss: 0.2251 - val_acc: 0.9215\n",
      "Epoch 38/70\n",
      "2172/2172 - 2s - loss: 0.3678 - acc: 0.8904 - val_loss: 0.1897 - val_acc: 0.9421\n",
      "Epoch 39/70\n",
      "2172/2172 - 2s - loss: 0.3136 - acc: 0.9024 - val_loss: 0.1361 - val_acc: 0.9504\n",
      "Epoch 40/70\n",
      "2172/2172 - 2s - loss: 0.3167 - acc: 0.9015 - val_loss: 0.2118 - val_acc: 0.9339\n",
      "Epoch 41/70\n",
      "2172/2172 - 2s - loss: 0.2788 - acc: 0.9121 - val_loss: 0.1656 - val_acc: 0.9380\n",
      "Epoch 42/70\n",
      "2172/2172 - 2s - loss: 0.2931 - acc: 0.9121 - val_loss: 0.2119 - val_acc: 0.9339\n",
      "Epoch 43/70\n",
      "2172/2172 - 2s - loss: 0.2904 - acc: 0.9116 - val_loss: 0.1675 - val_acc: 0.9421\n",
      "Epoch 44/70\n",
      "2172/2172 - 2s - loss: 0.2620 - acc: 0.9157 - val_loss: 0.1723 - val_acc: 0.9339\n",
      "Epoch 45/70\n",
      "2172/2172 - 2s - loss: 0.3146 - acc: 0.8969 - val_loss: 0.2616 - val_acc: 0.9339\n",
      "Epoch 46/70\n",
      "2172/2172 - 2s - loss: 0.2779 - acc: 0.9093 - val_loss: 0.1994 - val_acc: 0.9421\n",
      "Epoch 47/70\n",
      "2172/2172 - 2s - loss: 0.2506 - acc: 0.9185 - val_loss: 0.1331 - val_acc: 0.9545\n",
      "Epoch 48/70\n",
      "2172/2172 - 2s - loss: 0.2887 - acc: 0.9157 - val_loss: 0.1532 - val_acc: 0.9545\n",
      "Epoch 49/70\n",
      "2172/2172 - 2s - loss: 0.2432 - acc: 0.9240 - val_loss: 0.1806 - val_acc: 0.9421\n",
      "Epoch 50/70\n",
      "2172/2172 - 2s - loss: 0.2439 - acc: 0.9231 - val_loss: 0.1307 - val_acc: 0.9463\n",
      "Epoch 51/70\n",
      "2172/2172 - 2s - loss: 0.2613 - acc: 0.9194 - val_loss: 0.1678 - val_acc: 0.9380\n",
      "Epoch 52/70\n",
      "2172/2172 - 2s - loss: 0.2285 - acc: 0.9259 - val_loss: 0.1815 - val_acc: 0.9421\n",
      "Epoch 53/70\n",
      "2172/2172 - 2s - loss: 0.2436 - acc: 0.9217 - val_loss: 0.2394 - val_acc: 0.9298\n",
      "Epoch 54/70\n",
      "2172/2172 - 2s - loss: 0.2420 - acc: 0.9213 - val_loss: 0.2747 - val_acc: 0.9298\n",
      "Epoch 55/70\n",
      "2172/2172 - 2s - loss: 0.2338 - acc: 0.9305 - val_loss: 0.2002 - val_acc: 0.9339\n",
      "Epoch 56/70\n",
      "2172/2172 - 2s - loss: 0.2775 - acc: 0.9162 - val_loss: 0.1465 - val_acc: 0.9339\n",
      "Epoch 57/70\n",
      "2172/2172 - 2s - loss: 0.1980 - acc: 0.9388 - val_loss: 0.1785 - val_acc: 0.9421\n",
      "Epoch 58/70\n",
      "2172/2172 - 2s - loss: 0.2184 - acc: 0.9319 - val_loss: 0.1360 - val_acc: 0.9545\n",
      "Epoch 59/70\n",
      "2172/2172 - 2s - loss: 0.2344 - acc: 0.9351 - val_loss: 0.3841 - val_acc: 0.8802\n",
      "Epoch 60/70\n",
      "2172/2172 - 2s - loss: 0.3042 - acc: 0.9107 - val_loss: 0.1563 - val_acc: 0.9504\n",
      "Epoch 61/70\n",
      "2172/2172 - 2s - loss: 0.2273 - acc: 0.9254 - val_loss: 0.1910 - val_acc: 0.9380\n",
      "Epoch 62/70\n",
      "2172/2172 - 2s - loss: 0.1842 - acc: 0.9429 - val_loss: 0.0940 - val_acc: 0.9711\n",
      "Epoch 63/70\n",
      "2172/2172 - 2s - loss: 0.2202 - acc: 0.9342 - val_loss: 0.1825 - val_acc: 0.9380\n",
      "Epoch 64/70\n",
      "2172/2172 - 2s - loss: 0.2278 - acc: 0.9305 - val_loss: 0.1568 - val_acc: 0.9504\n",
      "Epoch 65/70\n",
      "2172/2172 - 2s - loss: 0.2406 - acc: 0.9296 - val_loss: 0.1452 - val_acc: 0.9504\n",
      "Epoch 66/70\n",
      "2172/2172 - 2s - loss: 0.2099 - acc: 0.9360 - val_loss: 0.1677 - val_acc: 0.9587\n",
      "Epoch 67/70\n",
      "2172/2172 - 2s - loss: 0.1875 - acc: 0.9424 - val_loss: 0.1069 - val_acc: 0.9669\n",
      "Epoch 68/70\n",
      "2172/2172 - 2s - loss: 0.2071 - acc: 0.9438 - val_loss: 0.1471 - val_acc: 0.9587\n",
      "Epoch 69/70\n",
      "2172/2172 - 2s - loss: 0.2658 - acc: 0.9286 - val_loss: 0.1323 - val_acc: 0.9587\n",
      "Epoch 70/70\n",
      "2172/2172 - 2s - loss: 0.1767 - acc: 0.9429 - val_loss: 0.0872 - val_acc: 0.9669\n"
     ]
    },
    {
     "data": {
      "text/html": [
       "<span style=\"color:#4527A0\"><h1 style=\"font-size:18px\">Trial complete</h1></span>"
      ],
      "text/plain": [
       "<IPython.core.display.HTML object>"
      ]
     },
     "metadata": {},
     "output_type": "display_data"
    },
    {
     "data": {
      "text/html": [
       "<span style=\"color:#4527A0\"><h1 style=\"font-size:18px\">Trial summary</h1></span>"
      ],
      "text/plain": [
       "<IPython.core.display.HTML object>"
      ]
     },
     "metadata": {},
     "output_type": "display_data"
    },
    {
     "data": {
      "text/html": [
       "<span style=\"color:cyan\"> |-Trial ID: d5e266162e0fb420dd3292dad7f3dcee</span>"
      ],
      "text/plain": [
       "<IPython.core.display.HTML object>"
      ]
     },
     "metadata": {},
     "output_type": "display_data"
    },
    {
     "data": {
      "text/html": [
       "<span style=\"color:cyan\"> |-Score: 0.9669421911239624</span>"
      ],
      "text/plain": [
       "<IPython.core.display.HTML object>"
      ]
     },
     "metadata": {},
     "output_type": "display_data"
    },
    {
     "data": {
      "text/html": [
       "<span style=\"color:cyan\"> |-Best step: 0</span>"
      ],
      "text/plain": [
       "<IPython.core.display.HTML object>"
      ]
     },
     "metadata": {},
     "output_type": "display_data"
    },
    {
     "data": {
      "text/html": [
       "<span style=\"color:#7E57C2\"><h2 style=\"font-size:16px\">Hyperparameters:</h2></span>"
      ],
      "text/plain": [
       "<IPython.core.display.HTML object>"
      ]
     },
     "metadata": {},
     "output_type": "display_data"
    },
    {
     "data": {
      "text/html": [
       "<span style=\"color:cyan\"> |-conv1: 40</span>"
      ],
      "text/plain": [
       "<IPython.core.display.HTML object>"
      ]
     },
     "metadata": {},
     "output_type": "display_data"
    },
    {
     "data": {
      "text/html": [
       "<span style=\"color:blue\"> |-conv2: 24</span>"
      ],
      "text/plain": [
       "<IPython.core.display.HTML object>"
      ]
     },
     "metadata": {},
     "output_type": "display_data"
    },
    {
     "data": {
      "text/html": [
       "<span style=\"color:cyan\"> |-conv3: 120</span>"
      ],
      "text/plain": [
       "<IPython.core.display.HTML object>"
      ]
     },
     "metadata": {},
     "output_type": "display_data"
    },
    {
     "data": {
      "text/html": [
       "<span style=\"color:blue\"> |-conv4: 56</span>"
      ],
      "text/plain": [
       "<IPython.core.display.HTML object>"
      ]
     },
     "metadata": {},
     "output_type": "display_data"
    },
    {
     "name": "stdout",
     "output_type": "stream",
     "text": [
      "Train on 2172 samples, validate on 242 samples\n",
      "Epoch 1/70\n",
      "2172/2172 - 3s - loss: 1.5478 - acc: 0.5023 - val_loss: 1.4353 - val_acc: 0.5124\n",
      "Epoch 2/70\n",
      "2172/2172 - 2s - loss: 1.3536 - acc: 0.5493 - val_loss: 1.1669 - val_acc: 0.5992\n",
      "Epoch 3/70\n",
      "2172/2172 - 2s - loss: 1.2722 - acc: 0.5852 - val_loss: 1.0835 - val_acc: 0.6446\n",
      "Epoch 4/70\n",
      "2172/2172 - 2s - loss: 1.2222 - acc: 0.5893 - val_loss: 1.0913 - val_acc: 0.6322\n",
      "Epoch 5/70\n",
      "2172/2172 - 2s - loss: 1.1163 - acc: 0.6266 - val_loss: 1.0414 - val_acc: 0.6818\n",
      "Epoch 6/70\n",
      "2172/2172 - 2s - loss: 1.0091 - acc: 0.6625 - val_loss: 0.9342 - val_acc: 0.6488\n",
      "Epoch 7/70\n",
      "2172/2172 - 2s - loss: 0.9751 - acc: 0.6727 - val_loss: 0.9229 - val_acc: 0.7231\n",
      "Epoch 8/70\n",
      "2172/2172 - 2s - loss: 0.8855 - acc: 0.7063 - val_loss: 0.7109 - val_acc: 0.7479\n",
      "Epoch 9/70\n",
      "2172/2172 - 2s - loss: 0.8780 - acc: 0.7086 - val_loss: 0.6589 - val_acc: 0.7645\n",
      "Epoch 10/70\n",
      "2172/2172 - 2s - loss: 0.8016 - acc: 0.7394 - val_loss: 0.6236 - val_acc: 0.7851\n",
      "Epoch 11/70\n",
      "2172/2172 - 2s - loss: 0.7707 - acc: 0.7518 - val_loss: 0.8213 - val_acc: 0.7438\n",
      "Epoch 12/70\n",
      "2172/2172 - 2s - loss: 0.7465 - acc: 0.7620 - val_loss: 0.5250 - val_acc: 0.8182\n",
      "Epoch 13/70\n",
      "2172/2172 - 2s - loss: 0.6772 - acc: 0.7928 - val_loss: 0.4717 - val_acc: 0.8388\n",
      "Epoch 14/70\n",
      "2172/2172 - 2s - loss: 0.6539 - acc: 0.7864 - val_loss: 0.4655 - val_acc: 0.8099\n",
      "Epoch 15/70\n",
      "2172/2172 - 2s - loss: 0.6385 - acc: 0.7928 - val_loss: 0.4185 - val_acc: 0.8388\n",
      "Epoch 16/70\n",
      "2172/2172 - 2s - loss: 0.6238 - acc: 0.8006 - val_loss: 0.3361 - val_acc: 0.8802\n",
      "Epoch 17/70\n",
      "2172/2172 - 2s - loss: 0.5894 - acc: 0.8135 - val_loss: 0.3564 - val_acc: 0.8802\n",
      "Epoch 18/70\n",
      "2172/2172 - 2s - loss: 0.5536 - acc: 0.8218 - val_loss: 0.3715 - val_acc: 0.8595\n",
      "Epoch 19/70\n",
      "2172/2172 - 2s - loss: 0.5136 - acc: 0.8370 - val_loss: 0.3218 - val_acc: 0.8802\n",
      "Epoch 20/70\n",
      "2172/2172 - 2s - loss: 0.5324 - acc: 0.8347 - val_loss: 0.2688 - val_acc: 0.8884\n",
      "Epoch 21/70\n",
      "2172/2172 - 2s - loss: 0.5000 - acc: 0.8430 - val_loss: 0.5286 - val_acc: 0.8264\n",
      "Epoch 22/70\n",
      "2172/2172 - 2s - loss: 0.4606 - acc: 0.8550 - val_loss: 0.3304 - val_acc: 0.8843\n",
      "Epoch 23/70\n",
      "2172/2172 - 2s - loss: 0.4701 - acc: 0.8481 - val_loss: 0.2933 - val_acc: 0.8967\n",
      "Epoch 24/70\n",
      "2172/2172 - 2s - loss: 0.4274 - acc: 0.8610 - val_loss: 0.2372 - val_acc: 0.9008\n",
      "Epoch 25/70\n",
      "2172/2172 - 2s - loss: 0.4262 - acc: 0.8674 - val_loss: 0.2713 - val_acc: 0.9050\n",
      "Epoch 26/70\n",
      "2172/2172 - 2s - loss: 0.3808 - acc: 0.8794 - val_loss: 0.2430 - val_acc: 0.9050\n",
      "Epoch 27/70\n",
      "2172/2172 - 2s - loss: 0.3993 - acc: 0.8720 - val_loss: 0.1991 - val_acc: 0.9380\n",
      "Epoch 28/70\n",
      "2172/2172 - 2s - loss: 0.3979 - acc: 0.8794 - val_loss: 0.2033 - val_acc: 0.9380\n",
      "Epoch 29/70\n",
      "2172/2172 - 2s - loss: 0.3873 - acc: 0.8794 - val_loss: 0.3376 - val_acc: 0.8678\n",
      "Epoch 30/70\n",
      "2172/2172 - 2s - loss: 0.3828 - acc: 0.8844 - val_loss: 0.2640 - val_acc: 0.8967\n",
      "Epoch 31/70\n",
      "2172/2172 - 2s - loss: 0.3266 - acc: 0.8996 - val_loss: 0.2671 - val_acc: 0.9174\n",
      "Epoch 32/70\n",
      "2172/2172 - 2s - loss: 0.3384 - acc: 0.8923 - val_loss: 0.2375 - val_acc: 0.9256\n",
      "Epoch 33/70\n",
      "2172/2172 - 2s - loss: 0.3445 - acc: 0.8918 - val_loss: 0.2510 - val_acc: 0.9091\n",
      "Epoch 34/70\n",
      "2172/2172 - 2s - loss: 0.3367 - acc: 0.8950 - val_loss: 0.4047 - val_acc: 0.8719\n",
      "Epoch 35/70\n",
      "2172/2172 - 2s - loss: 0.3339 - acc: 0.8904 - val_loss: 0.2383 - val_acc: 0.9256\n",
      "Epoch 36/70\n",
      "2172/2172 - 2s - loss: 0.3090 - acc: 0.8987 - val_loss: 0.2108 - val_acc: 0.9380\n",
      "Epoch 37/70\n",
      "2172/2172 - 2s - loss: 0.3233 - acc: 0.8936 - val_loss: 0.1776 - val_acc: 0.9380\n",
      "Epoch 38/70\n",
      "2172/2172 - 2s - loss: 0.2686 - acc: 0.9084 - val_loss: 0.2307 - val_acc: 0.9091\n",
      "Epoch 39/70\n",
      "2172/2172 - 2s - loss: 0.2674 - acc: 0.9107 - val_loss: 0.2599 - val_acc: 0.9132\n",
      "Epoch 40/70\n",
      "2172/2172 - 2s - loss: 0.3018 - acc: 0.8996 - val_loss: 0.2046 - val_acc: 0.9298\n",
      "Epoch 41/70\n",
      "2172/2172 - 2s - loss: 0.3363 - acc: 0.8996 - val_loss: 0.2429 - val_acc: 0.8884\n",
      "Epoch 42/70\n",
      "2172/2172 - 2s - loss: 0.3027 - acc: 0.8996 - val_loss: 0.1949 - val_acc: 0.9339\n",
      "Epoch 43/70\n",
      "2172/2172 - 2s - loss: 0.3050 - acc: 0.9098 - val_loss: 0.2105 - val_acc: 0.9339\n",
      "Epoch 44/70\n",
      "2172/2172 - 2s - loss: 0.2963 - acc: 0.9088 - val_loss: 0.1541 - val_acc: 0.9380\n",
      "Epoch 45/70\n",
      "2172/2172 - 2s - loss: 0.3022 - acc: 0.9079 - val_loss: 0.1815 - val_acc: 0.9380\n",
      "Epoch 46/70\n",
      "2172/2172 - 2s - loss: 0.2481 - acc: 0.9236 - val_loss: 0.3567 - val_acc: 0.9008\n",
      "Epoch 47/70\n",
      "2172/2172 - 2s - loss: 0.2930 - acc: 0.9079 - val_loss: 0.1561 - val_acc: 0.9587\n",
      "Epoch 48/70\n",
      "2172/2172 - 2s - loss: 0.2203 - acc: 0.9268 - val_loss: 0.1983 - val_acc: 0.9256\n",
      "Epoch 49/70\n",
      "2172/2172 - 2s - loss: 0.2697 - acc: 0.9208 - val_loss: 0.1530 - val_acc: 0.9421\n",
      "Epoch 50/70\n",
      "2172/2172 - 2s - loss: 0.2791 - acc: 0.9153 - val_loss: 0.2006 - val_acc: 0.9339\n",
      "Epoch 51/70\n",
      "2172/2172 - 2s - loss: 0.3068 - acc: 0.9088 - val_loss: 0.1755 - val_acc: 0.9463\n",
      "Epoch 52/70\n",
      "2172/2172 - 2s - loss: 0.2451 - acc: 0.9259 - val_loss: 0.2087 - val_acc: 0.9339\n",
      "Epoch 53/70\n",
      "2172/2172 - 2s - loss: 0.2428 - acc: 0.9199 - val_loss: 0.1826 - val_acc: 0.9421\n",
      "Epoch 54/70\n",
      "2172/2172 - 2s - loss: 0.2782 - acc: 0.9250 - val_loss: 0.1680 - val_acc: 0.9463\n",
      "Epoch 55/70\n",
      "2172/2172 - 2s - loss: 0.2452 - acc: 0.9194 - val_loss: 0.2099 - val_acc: 0.9380\n",
      "Epoch 56/70\n",
      "2172/2172 - 2s - loss: 0.2865 - acc: 0.9111 - val_loss: 0.1987 - val_acc: 0.9339\n",
      "Epoch 57/70\n",
      "2172/2172 - 2s - loss: 0.2581 - acc: 0.9213 - val_loss: 0.1497 - val_acc: 0.9463\n",
      "Epoch 58/70\n",
      "2172/2172 - 2s - loss: 0.1862 - acc: 0.9443 - val_loss: 0.1377 - val_acc: 0.9504\n",
      "Epoch 59/70\n",
      "2172/2172 - 2s - loss: 0.2541 - acc: 0.9277 - val_loss: 0.1654 - val_acc: 0.9463\n",
      "Epoch 60/70\n",
      "2172/2172 - 2s - loss: 0.2224 - acc: 0.9351 - val_loss: 0.1453 - val_acc: 0.9463\n",
      "Epoch 61/70\n",
      "2172/2172 - 2s - loss: 0.1888 - acc: 0.9429 - val_loss: 0.1893 - val_acc: 0.9380\n",
      "Epoch 62/70\n",
      "2172/2172 - 2s - loss: 0.2166 - acc: 0.9346 - val_loss: 0.1609 - val_acc: 0.9463\n",
      "Epoch 63/70\n",
      "2172/2172 - 2s - loss: 0.2352 - acc: 0.9365 - val_loss: 0.1597 - val_acc: 0.9421\n",
      "Epoch 64/70\n",
      "2172/2172 - 2s - loss: 0.1830 - acc: 0.9429 - val_loss: 0.1528 - val_acc: 0.9587\n",
      "Epoch 65/70\n",
      "2172/2172 - 2s - loss: 0.2075 - acc: 0.9411 - val_loss: 0.1741 - val_acc: 0.9463\n",
      "Epoch 66/70\n",
      "2172/2172 - 2s - loss: 0.2065 - acc: 0.9383 - val_loss: 0.2128 - val_acc: 0.9380\n",
      "Epoch 67/70\n",
      "2172/2172 - 2s - loss: 0.1703 - acc: 0.9480 - val_loss: 0.1745 - val_acc: 0.9421\n",
      "Epoch 68/70\n",
      "2172/2172 - 2s - loss: 0.1782 - acc: 0.9434 - val_loss: 0.1508 - val_acc: 0.9504\n",
      "Epoch 69/70\n",
      "2172/2172 - 2s - loss: 0.1728 - acc: 0.9475 - val_loss: 0.1695 - val_acc: 0.9421\n",
      "Epoch 70/70\n",
      "2172/2172 - 2s - loss: 0.1725 - acc: 0.9457 - val_loss: 0.1769 - val_acc: 0.9463\n",
      "Train on 2172 samples, validate on 242 samples\n",
      "Epoch 1/70\n",
      "2172/2172 - 3s - loss: 1.5469 - acc: 0.5124 - val_loss: 1.5798 - val_acc: 0.5289\n",
      "Epoch 2/70\n",
      "2172/2172 - 2s - loss: 1.4121 - acc: 0.5539 - val_loss: 1.2876 - val_acc: 0.5909\n",
      "Epoch 3/70\n",
      "2172/2172 - 2s - loss: 1.3505 - acc: 0.5769 - val_loss: 1.2446 - val_acc: 0.5826\n",
      "Epoch 4/70\n",
      "2172/2172 - 2s - loss: 1.2744 - acc: 0.5806 - val_loss: 1.0400 - val_acc: 0.6529\n",
      "Epoch 5/70\n",
      "2172/2172 - 2s - loss: 1.1678 - acc: 0.6156 - val_loss: 0.9670 - val_acc: 0.6653\n",
      "Epoch 6/70\n",
      "2172/2172 - 2s - loss: 1.0424 - acc: 0.6487 - val_loss: 0.8138 - val_acc: 0.7355\n",
      "Epoch 7/70\n",
      "2172/2172 - 2s - loss: 0.9652 - acc: 0.6671 - val_loss: 0.7291 - val_acc: 0.7727\n",
      "Epoch 8/70\n",
      "2172/2172 - 2s - loss: 0.8990 - acc: 0.6971 - val_loss: 0.6379 - val_acc: 0.7810\n",
      "Epoch 9/70\n",
      "2172/2172 - 2s - loss: 0.8394 - acc: 0.7219 - val_loss: 0.6191 - val_acc: 0.7810\n",
      "Epoch 10/70\n",
      "2172/2172 - 2s - loss: 0.8789 - acc: 0.7072 - val_loss: 0.6269 - val_acc: 0.8099\n",
      "Epoch 11/70\n",
      "2172/2172 - 2s - loss: 0.7923 - acc: 0.7431 - val_loss: 0.6271 - val_acc: 0.7851\n",
      "Epoch 12/70\n",
      "2172/2172 - 2s - loss: 0.7989 - acc: 0.7385 - val_loss: 0.5380 - val_acc: 0.8430\n",
      "Epoch 13/70\n",
      "2172/2172 - 2s - loss: 0.7488 - acc: 0.7601 - val_loss: 0.4502 - val_acc: 0.8554\n",
      "Epoch 14/70\n",
      "2172/2172 - 2s - loss: 0.6902 - acc: 0.7753 - val_loss: 0.4000 - val_acc: 0.8595\n",
      "Epoch 15/70\n",
      "2172/2172 - 2s - loss: 0.6930 - acc: 0.7831 - val_loss: 0.4999 - val_acc: 0.8636\n",
      "Epoch 16/70\n",
      "2172/2172 - 2s - loss: 0.6348 - acc: 0.7979 - val_loss: 0.4099 - val_acc: 0.8678\n",
      "Epoch 17/70\n",
      "2172/2172 - 2s - loss: 0.6037 - acc: 0.8076 - val_loss: 0.3876 - val_acc: 0.8843\n",
      "Epoch 18/70\n",
      "2172/2172 - 2s - loss: 0.6103 - acc: 0.8034 - val_loss: 0.3614 - val_acc: 0.8719\n"
     ]
    },
    {
     "name": "stdout",
     "output_type": "stream",
     "text": [
      "Epoch 19/70\n",
      "2172/2172 - 2s - loss: 0.5637 - acc: 0.8218 - val_loss: 0.3671 - val_acc: 0.8636\n",
      "Epoch 20/70\n",
      "2172/2172 - 2s - loss: 0.5533 - acc: 0.8278 - val_loss: 0.3887 - val_acc: 0.8636\n",
      "Epoch 21/70\n",
      "2172/2172 - 2s - loss: 0.5246 - acc: 0.8278 - val_loss: 0.4198 - val_acc: 0.8554\n",
      "Epoch 22/70\n",
      "2172/2172 - 2s - loss: 0.4829 - acc: 0.8435 - val_loss: 0.3016 - val_acc: 0.8802\n",
      "Epoch 23/70\n",
      "2172/2172 - 2s - loss: 0.4946 - acc: 0.8402 - val_loss: 0.2920 - val_acc: 0.8967\n",
      "Epoch 24/70\n",
      "2172/2172 - 2s - loss: 0.4875 - acc: 0.8448 - val_loss: 0.3173 - val_acc: 0.8843\n",
      "Epoch 25/70\n",
      "2172/2172 - 2s - loss: 0.4745 - acc: 0.8513 - val_loss: 0.4158 - val_acc: 0.8719\n",
      "Epoch 26/70\n",
      "2172/2172 - 2s - loss: 0.4153 - acc: 0.8679 - val_loss: 0.2841 - val_acc: 0.8926\n",
      "Epoch 27/70\n",
      "2172/2172 - 2s - loss: 0.4424 - acc: 0.8642 - val_loss: 0.3682 - val_acc: 0.8719\n",
      "Epoch 28/70\n",
      "2172/2172 - 2s - loss: 0.3882 - acc: 0.8711 - val_loss: 0.2261 - val_acc: 0.9091\n",
      "Epoch 29/70\n",
      "2172/2172 - 2s - loss: 0.4417 - acc: 0.8651 - val_loss: 0.2736 - val_acc: 0.8884\n",
      "Epoch 30/70\n",
      "2172/2172 - 2s - loss: 0.3961 - acc: 0.8762 - val_loss: 0.2173 - val_acc: 0.9256\n",
      "Epoch 31/70\n",
      "2172/2172 - 2s - loss: 0.3931 - acc: 0.8711 - val_loss: 0.2907 - val_acc: 0.9339\n",
      "Epoch 32/70\n",
      "2172/2172 - 2s - loss: 0.3985 - acc: 0.8725 - val_loss: 0.2913 - val_acc: 0.9091\n",
      "Epoch 33/70\n",
      "2172/2172 - 2s - loss: 0.4041 - acc: 0.8748 - val_loss: 0.1889 - val_acc: 0.9504\n",
      "Epoch 34/70\n",
      "2172/2172 - 2s - loss: 0.3540 - acc: 0.8844 - val_loss: 0.2077 - val_acc: 0.9339\n",
      "Epoch 35/70\n",
      "2172/2172 - 2s - loss: 0.3462 - acc: 0.8858 - val_loss: 0.2204 - val_acc: 0.9339\n",
      "Epoch 36/70\n",
      "2172/2172 - 2s - loss: 0.3233 - acc: 0.8936 - val_loss: 0.2558 - val_acc: 0.9174\n",
      "Epoch 37/70\n",
      "2172/2172 - 2s - loss: 0.3041 - acc: 0.9042 - val_loss: 0.2721 - val_acc: 0.9132\n",
      "Epoch 38/70\n",
      "2172/2172 - 2s - loss: 0.3064 - acc: 0.8973 - val_loss: 0.2019 - val_acc: 0.9339\n",
      "Epoch 39/70\n",
      "2172/2172 - 2s - loss: 0.3467 - acc: 0.8913 - val_loss: 0.2171 - val_acc: 0.9256\n",
      "Epoch 40/70\n",
      "2172/2172 - 2s - loss: 0.3007 - acc: 0.9052 - val_loss: 0.2071 - val_acc: 0.9298\n",
      "Epoch 41/70\n",
      "2172/2172 - 2s - loss: 0.3136 - acc: 0.9029 - val_loss: 0.1483 - val_acc: 0.9421\n",
      "Epoch 42/70\n",
      "2172/2172 - 3s - loss: 0.2788 - acc: 0.9056 - val_loss: 0.2184 - val_acc: 0.9215\n",
      "Epoch 43/70\n",
      "2172/2172 - 2s - loss: 0.2562 - acc: 0.9203 - val_loss: 0.2069 - val_acc: 0.9380\n",
      "Epoch 44/70\n",
      "2172/2172 - 2s - loss: 0.3247 - acc: 0.9024 - val_loss: 0.1811 - val_acc: 0.9380\n",
      "Epoch 45/70\n",
      "2172/2172 - 2s - loss: 0.2814 - acc: 0.9167 - val_loss: 0.2295 - val_acc: 0.9421\n",
      "Epoch 46/70\n",
      "2172/2172 - 2s - loss: 0.2436 - acc: 0.9185 - val_loss: 0.1715 - val_acc: 0.9421\n",
      "Epoch 47/70\n",
      "2172/2172 - 2s - loss: 0.3135 - acc: 0.9038 - val_loss: 0.1773 - val_acc: 0.9380\n",
      "Epoch 48/70\n",
      "2172/2172 - 2s - loss: 0.2608 - acc: 0.9227 - val_loss: 0.2034 - val_acc: 0.9380\n",
      "Epoch 49/70\n",
      "2172/2172 - 2s - loss: 0.3064 - acc: 0.9056 - val_loss: 0.1947 - val_acc: 0.9545\n",
      "Epoch 50/70\n",
      "2172/2172 - 2s - loss: 0.2450 - acc: 0.9222 - val_loss: 0.1597 - val_acc: 0.9545\n",
      "Epoch 51/70\n",
      "2172/2172 - 2s - loss: 0.2840 - acc: 0.9185 - val_loss: 0.2131 - val_acc: 0.9256\n",
      "Epoch 52/70\n",
      "2172/2172 - 2s - loss: 0.2310 - acc: 0.9314 - val_loss: 0.1767 - val_acc: 0.9463\n",
      "Epoch 53/70\n",
      "2172/2172 - 2s - loss: 0.2817 - acc: 0.9167 - val_loss: 0.1989 - val_acc: 0.9421\n",
      "Epoch 54/70\n",
      "2172/2172 - 2s - loss: 0.2487 - acc: 0.9282 - val_loss: 0.1278 - val_acc: 0.9545\n",
      "Epoch 55/70\n",
      "2172/2172 - 2s - loss: 0.2748 - acc: 0.9203 - val_loss: 0.2591 - val_acc: 0.9339\n",
      "Epoch 56/70\n",
      "2172/2172 - 2s - loss: 0.2179 - acc: 0.9296 - val_loss: 0.1301 - val_acc: 0.9628\n",
      "Epoch 57/70\n",
      "2172/2172 - 2s - loss: 0.2026 - acc: 0.9355 - val_loss: 0.2018 - val_acc: 0.9256\n",
      "Epoch 58/70\n",
      "2172/2172 - 2s - loss: 0.2011 - acc: 0.9392 - val_loss: 0.1407 - val_acc: 0.9463\n",
      "Epoch 59/70\n",
      "2172/2172 - 2s - loss: 0.2228 - acc: 0.9268 - val_loss: 0.1936 - val_acc: 0.9421\n",
      "Epoch 60/70\n",
      "2172/2172 - 2s - loss: 0.1766 - acc: 0.9452 - val_loss: 0.1935 - val_acc: 0.9380\n",
      "Epoch 61/70\n",
      "2172/2172 - 2s - loss: 0.2032 - acc: 0.9328 - val_loss: 0.1785 - val_acc: 0.9298\n",
      "Epoch 62/70\n",
      "2172/2172 - 2s - loss: 0.2250 - acc: 0.9365 - val_loss: 0.1266 - val_acc: 0.9669\n",
      "Epoch 63/70\n",
      "2172/2172 - 2s - loss: 0.2107 - acc: 0.9374 - val_loss: 0.1540 - val_acc: 0.9545\n",
      "Epoch 64/70\n",
      "2172/2172 - 2s - loss: 0.1927 - acc: 0.9434 - val_loss: 0.1206 - val_acc: 0.9587\n",
      "Epoch 65/70\n",
      "2172/2172 - 2s - loss: 0.1768 - acc: 0.9503 - val_loss: 0.2333 - val_acc: 0.9174\n",
      "Epoch 66/70\n",
      "2172/2172 - 2s - loss: 0.1967 - acc: 0.9424 - val_loss: 0.1251 - val_acc: 0.9463\n",
      "Epoch 67/70\n",
      "2172/2172 - 2s - loss: 0.2471 - acc: 0.9369 - val_loss: 0.1766 - val_acc: 0.9256\n",
      "Epoch 68/70\n",
      "2172/2172 - 2s - loss: 0.2264 - acc: 0.9388 - val_loss: 0.1354 - val_acc: 0.9504\n",
      "Epoch 69/70\n",
      "2172/2172 - 2s - loss: 0.1688 - acc: 0.9475 - val_loss: 0.1394 - val_acc: 0.9463\n",
      "Epoch 70/70\n",
      "2172/2172 - 2s - loss: 0.1561 - acc: 0.9553 - val_loss: 0.0925 - val_acc: 0.9669\n"
     ]
    },
    {
     "data": {
      "text/html": [
       "<span style=\"color:#4527A0\"><h1 style=\"font-size:18px\">Trial complete</h1></span>"
      ],
      "text/plain": [
       "<IPython.core.display.HTML object>"
      ]
     },
     "metadata": {},
     "output_type": "display_data"
    },
    {
     "data": {
      "text/html": [
       "<span style=\"color:#4527A0\"><h1 style=\"font-size:18px\">Trial summary</h1></span>"
      ],
      "text/plain": [
       "<IPython.core.display.HTML object>"
      ]
     },
     "metadata": {},
     "output_type": "display_data"
    },
    {
     "data": {
      "text/html": [
       "<span style=\"color:cyan\"> |-Trial ID: 7bcbce895335cb95ae2ed8f1b47501a9</span>"
      ],
      "text/plain": [
       "<IPython.core.display.HTML object>"
      ]
     },
     "metadata": {},
     "output_type": "display_data"
    },
    {
     "data": {
      "text/html": [
       "<span style=\"color:cyan\"> |-Score: 0.9628099203109741</span>"
      ],
      "text/plain": [
       "<IPython.core.display.HTML object>"
      ]
     },
     "metadata": {},
     "output_type": "display_data"
    },
    {
     "data": {
      "text/html": [
       "<span style=\"color:cyan\"> |-Best step: 0</span>"
      ],
      "text/plain": [
       "<IPython.core.display.HTML object>"
      ]
     },
     "metadata": {},
     "output_type": "display_data"
    },
    {
     "data": {
      "text/html": [
       "<span style=\"color:#7E57C2\"><h2 style=\"font-size:16px\">Hyperparameters:</h2></span>"
      ],
      "text/plain": [
       "<IPython.core.display.HTML object>"
      ]
     },
     "metadata": {},
     "output_type": "display_data"
    },
    {
     "data": {
      "text/html": [
       "<span style=\"color:cyan\"> |-conv1: 72</span>"
      ],
      "text/plain": [
       "<IPython.core.display.HTML object>"
      ]
     },
     "metadata": {},
     "output_type": "display_data"
    },
    {
     "data": {
      "text/html": [
       "<span style=\"color:blue\"> |-conv2: 24</span>"
      ],
      "text/plain": [
       "<IPython.core.display.HTML object>"
      ]
     },
     "metadata": {},
     "output_type": "display_data"
    },
    {
     "data": {
      "text/html": [
       "<span style=\"color:cyan\"> |-conv3: 88</span>"
      ],
      "text/plain": [
       "<IPython.core.display.HTML object>"
      ]
     },
     "metadata": {},
     "output_type": "display_data"
    },
    {
     "data": {
      "text/html": [
       "<span style=\"color:blue\"> |-conv4: 120</span>"
      ],
      "text/plain": [
       "<IPython.core.display.HTML object>"
      ]
     },
     "metadata": {},
     "output_type": "display_data"
    },
    {
     "name": "stdout",
     "output_type": "stream",
     "text": [
      "INFO:tensorflow:Oracle triggered exit\n"
     ]
    }
   ],
   "source": [
    "tuner.search(X_train, Y_train, epochs=70, validation_split=0.1, batch_size=8, verbose=2)"
   ]
  },
  {
   "cell_type": "code",
   "execution_count": 26,
   "metadata": {},
   "outputs": [
    {
     "data": {
      "text/html": [
       "<span style=\"color:#4527A0\"><h1 style=\"font-size:18px\">Results summary</h1></span>"
      ],
      "text/plain": [
       "<IPython.core.display.HTML object>"
      ]
     },
     "metadata": {},
     "output_type": "display_data"
    },
    {
     "data": {
      "text/html": [
       "<span style=\"color:cyan\"> |-Results in random_search/bat</span>"
      ],
      "text/plain": [
       "<IPython.core.display.HTML object>"
      ]
     },
     "metadata": {},
     "output_type": "display_data"
    },
    {
     "data": {
      "text/html": [
       "<span style=\"color:cyan\"> |-Showing 10 best trials</span>"
      ],
      "text/plain": [
       "<IPython.core.display.HTML object>"
      ]
     },
     "metadata": {},
     "output_type": "display_data"
    },
    {
     "data": {
      "text/html": [
       "<span style=\"color:cyan\"> |-Objective(name='val_acc', direction='max')</span>"
      ],
      "text/plain": [
       "<IPython.core.display.HTML object>"
      ]
     },
     "metadata": {},
     "output_type": "display_data"
    },
    {
     "data": {
      "text/html": [
       "<span style=\"color:#4527A0\"><h1 style=\"font-size:18px\">Trial summary</h1></span>"
      ],
      "text/plain": [
       "<IPython.core.display.HTML object>"
      ]
     },
     "metadata": {},
     "output_type": "display_data"
    },
    {
     "data": {
      "text/html": [
       "<span style=\"color:cyan\"> |-Trial ID: 98be7b90f27671397a65d8417e5e721e</span>"
      ],
      "text/plain": [
       "<IPython.core.display.HTML object>"
      ]
     },
     "metadata": {},
     "output_type": "display_data"
    },
    {
     "data": {
      "text/html": [
       "<span style=\"color:cyan\"> |-Score: 0.9731404781341553</span>"
      ],
      "text/plain": [
       "<IPython.core.display.HTML object>"
      ]
     },
     "metadata": {},
     "output_type": "display_data"
    },
    {
     "data": {
      "text/html": [
       "<span style=\"color:cyan\"> |-Best step: 0</span>"
      ],
      "text/plain": [
       "<IPython.core.display.HTML object>"
      ]
     },
     "metadata": {},
     "output_type": "display_data"
    },
    {
     "data": {
      "text/html": [
       "<span style=\"color:#7E57C2\"><h2 style=\"font-size:16px\">Hyperparameters:</h2></span>"
      ],
      "text/plain": [
       "<IPython.core.display.HTML object>"
      ]
     },
     "metadata": {},
     "output_type": "display_data"
    },
    {
     "data": {
      "text/html": [
       "<span style=\"color:cyan\"> |-conv1: 56</span>"
      ],
      "text/plain": [
       "<IPython.core.display.HTML object>"
      ]
     },
     "metadata": {},
     "output_type": "display_data"
    },
    {
     "data": {
      "text/html": [
       "<span style=\"color:blue\"> |-conv2: 72</span>"
      ],
      "text/plain": [
       "<IPython.core.display.HTML object>"
      ]
     },
     "metadata": {},
     "output_type": "display_data"
    },
    {
     "data": {
      "text/html": [
       "<span style=\"color:cyan\"> |-conv3: 56</span>"
      ],
      "text/plain": [
       "<IPython.core.display.HTML object>"
      ]
     },
     "metadata": {},
     "output_type": "display_data"
    },
    {
     "data": {
      "text/html": [
       "<span style=\"color:blue\"> |-conv4: 72</span>"
      ],
      "text/plain": [
       "<IPython.core.display.HTML object>"
      ]
     },
     "metadata": {},
     "output_type": "display_data"
    },
    {
     "data": {
      "text/html": [
       "<span style=\"color:#4527A0\"><h1 style=\"font-size:18px\">Trial summary</h1></span>"
      ],
      "text/plain": [
       "<IPython.core.display.HTML object>"
      ]
     },
     "metadata": {},
     "output_type": "display_data"
    },
    {
     "data": {
      "text/html": [
       "<span style=\"color:cyan\"> |-Trial ID: 610741bfd870ef6b7afa4781ce91baa7</span>"
      ],
      "text/plain": [
       "<IPython.core.display.HTML object>"
      ]
     },
     "metadata": {},
     "output_type": "display_data"
    },
    {
     "data": {
      "text/html": [
       "<span style=\"color:cyan\"> |-Score: 0.9690082669258118</span>"
      ],
      "text/plain": [
       "<IPython.core.display.HTML object>"
      ]
     },
     "metadata": {},
     "output_type": "display_data"
    },
    {
     "data": {
      "text/html": [
       "<span style=\"color:cyan\"> |-Best step: 0</span>"
      ],
      "text/plain": [
       "<IPython.core.display.HTML object>"
      ]
     },
     "metadata": {},
     "output_type": "display_data"
    },
    {
     "data": {
      "text/html": [
       "<span style=\"color:#7E57C2\"><h2 style=\"font-size:16px\">Hyperparameters:</h2></span>"
      ],
      "text/plain": [
       "<IPython.core.display.HTML object>"
      ]
     },
     "metadata": {},
     "output_type": "display_data"
    },
    {
     "data": {
      "text/html": [
       "<span style=\"color:cyan\"> |-conv1: 88</span>"
      ],
      "text/plain": [
       "<IPython.core.display.HTML object>"
      ]
     },
     "metadata": {},
     "output_type": "display_data"
    },
    {
     "data": {
      "text/html": [
       "<span style=\"color:blue\"> |-conv2: 104</span>"
      ],
      "text/plain": [
       "<IPython.core.display.HTML object>"
      ]
     },
     "metadata": {},
     "output_type": "display_data"
    },
    {
     "data": {
      "text/html": [
       "<span style=\"color:cyan\"> |-conv3: 40</span>"
      ],
      "text/plain": [
       "<IPython.core.display.HTML object>"
      ]
     },
     "metadata": {},
     "output_type": "display_data"
    },
    {
     "data": {
      "text/html": [
       "<span style=\"color:blue\"> |-conv4: 40</span>"
      ],
      "text/plain": [
       "<IPython.core.display.HTML object>"
      ]
     },
     "metadata": {},
     "output_type": "display_data"
    },
    {
     "data": {
      "text/html": [
       "<span style=\"color:#4527A0\"><h1 style=\"font-size:18px\">Trial summary</h1></span>"
      ],
      "text/plain": [
       "<IPython.core.display.HTML object>"
      ]
     },
     "metadata": {},
     "output_type": "display_data"
    },
    {
     "data": {
      "text/html": [
       "<span style=\"color:cyan\"> |-Trial ID: d5e266162e0fb420dd3292dad7f3dcee</span>"
      ],
      "text/plain": [
       "<IPython.core.display.HTML object>"
      ]
     },
     "metadata": {},
     "output_type": "display_data"
    },
    {
     "data": {
      "text/html": [
       "<span style=\"color:cyan\"> |-Score: 0.9669421911239624</span>"
      ],
      "text/plain": [
       "<IPython.core.display.HTML object>"
      ]
     },
     "metadata": {},
     "output_type": "display_data"
    },
    {
     "data": {
      "text/html": [
       "<span style=\"color:cyan\"> |-Best step: 0</span>"
      ],
      "text/plain": [
       "<IPython.core.display.HTML object>"
      ]
     },
     "metadata": {},
     "output_type": "display_data"
    },
    {
     "data": {
      "text/html": [
       "<span style=\"color:#7E57C2\"><h2 style=\"font-size:16px\">Hyperparameters:</h2></span>"
      ],
      "text/plain": [
       "<IPython.core.display.HTML object>"
      ]
     },
     "metadata": {},
     "output_type": "display_data"
    },
    {
     "data": {
      "text/html": [
       "<span style=\"color:cyan\"> |-conv1: 40</span>"
      ],
      "text/plain": [
       "<IPython.core.display.HTML object>"
      ]
     },
     "metadata": {},
     "output_type": "display_data"
    },
    {
     "data": {
      "text/html": [
       "<span style=\"color:blue\"> |-conv2: 24</span>"
      ],
      "text/plain": [
       "<IPython.core.display.HTML object>"
      ]
     },
     "metadata": {},
     "output_type": "display_data"
    },
    {
     "data": {
      "text/html": [
       "<span style=\"color:cyan\"> |-conv3: 120</span>"
      ],
      "text/plain": [
       "<IPython.core.display.HTML object>"
      ]
     },
     "metadata": {},
     "output_type": "display_data"
    },
    {
     "data": {
      "text/html": [
       "<span style=\"color:blue\"> |-conv4: 56</span>"
      ],
      "text/plain": [
       "<IPython.core.display.HTML object>"
      ]
     },
     "metadata": {},
     "output_type": "display_data"
    },
    {
     "data": {
      "text/html": [
       "<span style=\"color:#4527A0\"><h1 style=\"font-size:18px\">Trial summary</h1></span>"
      ],
      "text/plain": [
       "<IPython.core.display.HTML object>"
      ]
     },
     "metadata": {},
     "output_type": "display_data"
    },
    {
     "data": {
      "text/html": [
       "<span style=\"color:cyan\"> |-Trial ID: 13b338704b2a2ffb6dfed5a6c50fea25</span>"
      ],
      "text/plain": [
       "<IPython.core.display.HTML object>"
      ]
     },
     "metadata": {},
     "output_type": "display_data"
    },
    {
     "data": {
      "text/html": [
       "<span style=\"color:cyan\"> |-Score: 0.9648760557174683</span>"
      ],
      "text/plain": [
       "<IPython.core.display.HTML object>"
      ]
     },
     "metadata": {},
     "output_type": "display_data"
    },
    {
     "data": {
      "text/html": [
       "<span style=\"color:cyan\"> |-Best step: 0</span>"
      ],
      "text/plain": [
       "<IPython.core.display.HTML object>"
      ]
     },
     "metadata": {},
     "output_type": "display_data"
    },
    {
     "data": {
      "text/html": [
       "<span style=\"color:#7E57C2\"><h2 style=\"font-size:16px\">Hyperparameters:</h2></span>"
      ],
      "text/plain": [
       "<IPython.core.display.HTML object>"
      ]
     },
     "metadata": {},
     "output_type": "display_data"
    },
    {
     "data": {
      "text/html": [
       "<span style=\"color:cyan\"> |-conv1: 24</span>"
      ],
      "text/plain": [
       "<IPython.core.display.HTML object>"
      ]
     },
     "metadata": {},
     "output_type": "display_data"
    },
    {
     "data": {
      "text/html": [
       "<span style=\"color:blue\"> |-conv2: 120</span>"
      ],
      "text/plain": [
       "<IPython.core.display.HTML object>"
      ]
     },
     "metadata": {},
     "output_type": "display_data"
    },
    {
     "data": {
      "text/html": [
       "<span style=\"color:cyan\"> |-conv3: 40</span>"
      ],
      "text/plain": [
       "<IPython.core.display.HTML object>"
      ]
     },
     "metadata": {},
     "output_type": "display_data"
    },
    {
     "data": {
      "text/html": [
       "<span style=\"color:blue\"> |-conv4: 40</span>"
      ],
      "text/plain": [
       "<IPython.core.display.HTML object>"
      ]
     },
     "metadata": {},
     "output_type": "display_data"
    },
    {
     "data": {
      "text/html": [
       "<span style=\"color:#4527A0\"><h1 style=\"font-size:18px\">Trial summary</h1></span>"
      ],
      "text/plain": [
       "<IPython.core.display.HTML object>"
      ]
     },
     "metadata": {},
     "output_type": "display_data"
    },
    {
     "data": {
      "text/html": [
       "<span style=\"color:cyan\"> |-Trial ID: 7bcbce895335cb95ae2ed8f1b47501a9</span>"
      ],
      "text/plain": [
       "<IPython.core.display.HTML object>"
      ]
     },
     "metadata": {},
     "output_type": "display_data"
    },
    {
     "data": {
      "text/html": [
       "<span style=\"color:cyan\"> |-Score: 0.9628099203109741</span>"
      ],
      "text/plain": [
       "<IPython.core.display.HTML object>"
      ]
     },
     "metadata": {},
     "output_type": "display_data"
    },
    {
     "data": {
      "text/html": [
       "<span style=\"color:cyan\"> |-Best step: 0</span>"
      ],
      "text/plain": [
       "<IPython.core.display.HTML object>"
      ]
     },
     "metadata": {},
     "output_type": "display_data"
    },
    {
     "data": {
      "text/html": [
       "<span style=\"color:#7E57C2\"><h2 style=\"font-size:16px\">Hyperparameters:</h2></span>"
      ],
      "text/plain": [
       "<IPython.core.display.HTML object>"
      ]
     },
     "metadata": {},
     "output_type": "display_data"
    },
    {
     "data": {
      "text/html": [
       "<span style=\"color:cyan\"> |-conv1: 72</span>"
      ],
      "text/plain": [
       "<IPython.core.display.HTML object>"
      ]
     },
     "metadata": {},
     "output_type": "display_data"
    },
    {
     "data": {
      "text/html": [
       "<span style=\"color:blue\"> |-conv2: 24</span>"
      ],
      "text/plain": [
       "<IPython.core.display.HTML object>"
      ]
     },
     "metadata": {},
     "output_type": "display_data"
    },
    {
     "data": {
      "text/html": [
       "<span style=\"color:cyan\"> |-conv3: 88</span>"
      ],
      "text/plain": [
       "<IPython.core.display.HTML object>"
      ]
     },
     "metadata": {},
     "output_type": "display_data"
    },
    {
     "data": {
      "text/html": [
       "<span style=\"color:blue\"> |-conv4: 120</span>"
      ],
      "text/plain": [
       "<IPython.core.display.HTML object>"
      ]
     },
     "metadata": {},
     "output_type": "display_data"
    }
   ],
   "source": [
    "tuner.results_summary()"
   ]
  },
  {
   "cell_type": "code",
   "execution_count": 27,
   "metadata": {},
   "outputs": [
    {
     "name": "stdout",
     "output_type": "stream",
     "text": [
      "604/604 [==============================] - ETA: 2s - loss: 0.0453 - acc: 1.000 - ETA: 0s - loss: 0.1390 - acc: 0.959 - ETA: 0s - loss: 0.1158 - acc: 0.963 - 0s 448us/sample - loss: 0.1119 - acc: 0.9652\n"
     ]
    }
   ],
   "source": [
    "best_model = tuner.get_best_models(num_models=1)[0]\n",
    "loss, accuracy = best_model.evaluate(X_test, Y_test)"
   ]
  },
  {
   "cell_type": "code",
   "execution_count": 28,
   "metadata": {},
   "outputs": [
    {
     "data": {
      "text/plain": [
       "0.9652318"
      ]
     },
     "execution_count": 28,
     "metadata": {},
     "output_type": "execute_result"
    }
   ],
   "source": [
    "accuracy"
   ]
  },
  {
   "cell_type": "markdown",
   "metadata": {},
   "source": [
    "<h2>Evaluate Best Model</h2>"
   ]
  },
  {
   "cell_type": "code",
   "execution_count": 29,
   "metadata": {},
   "outputs": [],
   "source": [
    "model = best_model"
   ]
  },
  {
   "cell_type": "code",
   "execution_count": 30,
   "metadata": {},
   "outputs": [
    {
     "name": "stdout",
     "output_type": "stream",
     "text": [
      "[[  4   0   0   0   1   0   0   0]\n",
      " [  0  24   1   0   0   0   0   0]\n",
      " [  0   0  20   0   0   0   1   1]\n",
      " [  0   1   0  57   0   1   0   1]\n",
      " [  0   0   0   0 330   0   0   3]\n",
      " [  0   1   0   2   0  50   1   0]\n",
      " [  0   0   0   0   2   0  22   0]\n",
      " [  0   0   0   0   4   0   1  76]]\n"
     ]
    },
    {
     "data": {
      "image/png": "[encoded data removed]",
      "text/plain": [
       "<Figure size 432x288 with 2 Axes>"
      ]
     },
     "metadata": {
      "needs_background": "light"
     },
     "output_type": "display_data"
    }
   ],
   "source": [
    "Y_pred = model.predict(X_test)\n",
    "actual, predicted = generate_actual_predicted(Y_pred, X_test, Y_test)\n",
    "\n",
    "##Confusion Matrix\n",
    "from sklearn.metrics import confusion_matrix\n",
    "actual_labeled = list()\n",
    "predict_labeled = list()\n",
    "for x,y in zip(actual,predicted):\n",
    "    actual_labeled.append(getSpecies(x))\n",
    "    predict_labeled.append(getSpecies(y))\n",
    "\n",
    "labels = ['A.tridens','E.bottae','M.emarginatus','P.kuhli','R.muscatellum','R.nasutus', 'R.aegyptius', 'T.perforatus']\n",
    "cm=confusion_matrix(actual_labeled,predict_labeled,labels=labels)\n",
    "print(cm)\n",
    "\n",
    "ax= plt.subplot()\n",
    "sns.heatmap(cm, annot=True, ax = ax); #annot=True to annotate cells\n",
    "\n",
    "# labels, title and ticks\n",
    "ax.set_xlabel('Predicted labels');ax.set_ylabel('True labels'); \n",
    "ax.set_title('Confusion Matrix'); \n",
    "ax.xaxis.set_ticklabels(labels,rotation=45); ax.yaxis.set_ticklabels(labels,rotation=45);"
   ]
  },
  {
   "cell_type": "code",
   "execution_count": 31,
   "metadata": {},
   "outputs": [
    {
     "name": "stdout",
     "output_type": "stream",
     "text": [
      "accuracy 0.9652317880794702\n"
     ]
    }
   ],
   "source": [
    "## Test accuracy\n",
    "from sklearn.metrics import accuracy_score\n",
    "print('accuracy', accuracy_score(actual, predicted))\n"
   ]
  },
  {
   "cell_type": "code",
   "execution_count": 32,
   "metadata": {},
   "outputs": [
    {
     "name": "stdout",
     "output_type": "stream",
     "text": [
      "               precision    recall  f1-score   support\n",
      "\n",
      "    A.tridens       1.00      0.80      0.89         5\n",
      "     E.bottae       0.92      0.96      0.94        25\n",
      "M.emarginatus       0.95      0.91      0.93        22\n",
      "      P.kuhli       0.97      0.95      0.96        60\n",
      "R.muscatellum       0.98      0.99      0.99       333\n",
      "    R.nasutus       0.98      0.93      0.95        54\n",
      "  R.aegyptius       0.88      0.92      0.90        24\n",
      " T.perforatus       0.94      0.94      0.94        81\n",
      "\n",
      "     accuracy                           0.97       604\n",
      "    macro avg       0.95      0.92      0.94       604\n",
      " weighted avg       0.97      0.97      0.97       604\n",
      "\n"
     ]
    }
   ],
   "source": [
    "## Precision, Recall, F1, Support\n",
    "from sklearn.metrics import classification_report\n",
    "print(classification_report(actual_labeled, predict_labeled,labels=labels))"
   ]
  },
  {
   "cell_type": "markdown",
   "metadata": {},
   "source": [
    "<h2>K-Fold Training and Evaluation</h2>"
   ]
  },
  {
   "cell_type": "code",
   "execution_count": 34,
   "metadata": {},
   "outputs": [],
   "source": [
    "def build_current_model():\n",
    "    inp = Input(shape=(112,170,3))\n",
    "    c1 = Convolution2D(filters=56,kernel_size=(7,7),strides=(2,2),padding='same')(inp)\n",
    "    bt = BatchNormalization()(c1)\n",
    "    bt = Activation('relu')(bt)\n",
    "    mpool = MaxPooling2D(pool_size=(2,2),strides=2,padding='same')(bt)\n",
    "    mpool = Dropout(0.2)(mpool)\n",
    "\n",
    "\n",
    "    c2 = Convolution2D(filters=72,kernel_size=(5,5),strides=(2,2),padding='same')(mpool)\n",
    "    bt = BatchNormalization()(c2)\n",
    "    bt = Activation('relu')(bt)\n",
    "    #bt = LeakyReLU(alpha=0.01)(bt)\n",
    "    mpool = AveragePooling2D(pool_size=(2,2),strides=2,padding='same')(bt)\n",
    "    mpool = Dropout(0.3)(mpool)\n",
    "\n",
    "    c2 = Convolution2D(filters=56,kernel_size=(3,3),strides=(1,1),padding='same')(mpool)\n",
    "    bt = BatchNormalization()(c2)\n",
    "    bt = Activation('relu')(bt)\n",
    "    #bt = LeakyReLU(alpha=0.01)(bt)\n",
    "    mpool = AveragePooling2D(pool_size=(2,2),strides=2,padding='same')(bt)\n",
    "    mpool = Dropout(rate=0.3)(mpool)\n",
    "\n",
    "    c3 = Convolution2D(filters=72,kernel_size=(3,3),strides=(1,1),padding='same')(mpool)\n",
    "    bt = BatchNormalization()(c3)\n",
    "    bt = Activation('relu')(bt)\n",
    "    #bt = LeakyReLU(alpha=0.01)(bt)\n",
    "    mpool = AveragePooling2D(pool_size=(2,2),strides=2,padding='same')(bt)\n",
    "    mpool = Dropout(rate=0.4)(mpool)\n",
    "\n",
    "    f = Flatten()(mpool)\n",
    "\n",
    "    x_dense = Dense(256)(f)\n",
    "    bt = BatchNormalization()(x_dense)\n",
    "    bt = Activation('relu')(bt)\n",
    "    bt = Dropout(0.4)(bt)\n",
    "\n",
    "\n",
    "    x_dense = Dense(128)(bt)\n",
    "    bt = BatchNormalization()(x_dense)\n",
    "    bt = Activation('relu')(bt)\n",
    "    bt = Dropout(0.3)(bt)\n",
    "\n",
    "    x_dense = Dense(64)(bt)\n",
    "    bt = BatchNormalization()(x_dense)\n",
    "    bt = Activation('relu')(bt)\n",
    "    bt = Dropout(0.2)(bt)\n",
    "\n",
    "    x_out = Dense(8, name='output', activation='softmax')(bt)\n",
    "    model = Model(inputs=inp, outputs=x_out)\n",
    "    model.compile(\n",
    "        optimizer=Adam(lr=0.003),\n",
    "        loss='categorical_crossentropy',\n",
    "        metrics=['accuracy']\n",
    "    )\n",
    "    return model\n"
   ]
  },
  {
   "cell_type": "code",
   "execution_count": 35,
   "metadata": {},
   "outputs": [
    {
     "name": "stdout",
     "output_type": "stream",
     "text": [
      "Model: \"model_1\"\n",
      "_________________________________________________________________\n",
      "Layer (type)                 Output Shape              Param #   \n",
      "=================================================================\n",
      "input_2 (InputLayer)         [(None, 112, 170, 3)]     0         \n",
      "_________________________________________________________________\n",
      "conv2d_4 (Conv2D)            (None, 56, 85, 56)        8288      \n",
      "_________________________________________________________________\n",
      "batch_normalization_7 (Batch (None, 56, 85, 56)        224       \n",
      "_________________________________________________________________\n",
      "activation_7 (Activation)    (None, 56, 85, 56)        0         \n",
      "_________________________________________________________________\n",
      "max_pooling2d_1 (MaxPooling2 (None, 28, 43, 56)        0         \n",
      "_________________________________________________________________\n",
      "dropout_7 (Dropout)          (None, 28, 43, 56)        0         \n",
      "_________________________________________________________________\n",
      "conv2d_5 (Conv2D)            (None, 14, 22, 72)        100872    \n",
      "_________________________________________________________________\n",
      "batch_normalization_8 (Batch (None, 14, 22, 72)        288       \n",
      "_________________________________________________________________\n",
      "activation_8 (Activation)    (None, 14, 22, 72)        0         \n",
      "_________________________________________________________________\n",
      "average_pooling2d_3 (Average (None, 7, 11, 72)         0         \n",
      "_________________________________________________________________\n",
      "dropout_8 (Dropout)          (None, 7, 11, 72)         0         \n",
      "_________________________________________________________________\n",
      "conv2d_6 (Conv2D)            (None, 7, 11, 56)         36344     \n",
      "_________________________________________________________________\n",
      "batch_normalization_9 (Batch (None, 7, 11, 56)         224       \n",
      "_________________________________________________________________\n",
      "activation_9 (Activation)    (None, 7, 11, 56)         0         \n",
      "_________________________________________________________________\n",
      "average_pooling2d_4 (Average (None, 4, 6, 56)          0         \n",
      "_________________________________________________________________\n",
      "dropout_9 (Dropout)          (None, 4, 6, 56)          0         \n",
      "_________________________________________________________________\n",
      "conv2d_7 (Conv2D)            (None, 4, 6, 72)          36360     \n",
      "_________________________________________________________________\n",
      "batch_normalization_10 (Batc (None, 4, 6, 72)          288       \n",
      "_________________________________________________________________\n",
      "activation_10 (Activation)   (None, 4, 6, 72)          0         \n",
      "_________________________________________________________________\n",
      "average_pooling2d_5 (Average (None, 2, 3, 72)          0         \n",
      "_________________________________________________________________\n",
      "dropout_10 (Dropout)         (None, 2, 3, 72)          0         \n",
      "_________________________________________________________________\n",
      "flatten_1 (Flatten)          (None, 432)               0         \n",
      "_________________________________________________________________\n",
      "dense_3 (Dense)              (None, 256)               110848    \n",
      "_________________________________________________________________\n",
      "batch_normalization_11 (Batc (None, 256)               1024      \n",
      "_________________________________________________________________\n",
      "activation_11 (Activation)   (None, 256)               0         \n",
      "_________________________________________________________________\n",
      "dropout_11 (Dropout)         (None, 256)               0         \n",
      "_________________________________________________________________\n",
      "dense_4 (Dense)              (None, 128)               32896     \n",
      "_________________________________________________________________\n",
      "batch_normalization_12 (Batc (None, 128)               512       \n",
      "_________________________________________________________________\n",
      "activation_12 (Activation)   (None, 128)               0         \n",
      "_________________________________________________________________\n",
      "dropout_12 (Dropout)         (None, 128)               0         \n",
      "_________________________________________________________________\n",
      "dense_5 (Dense)              (None, 64)                8256      \n",
      "_________________________________________________________________\n",
      "batch_normalization_13 (Batc (None, 64)                256       \n",
      "_________________________________________________________________\n",
      "activation_13 (Activation)   (None, 64)                0         \n",
      "_________________________________________________________________\n",
      "dropout_13 (Dropout)         (None, 64)                0         \n",
      "_________________________________________________________________\n",
      "output (Dense)               (None, 8)                 520       \n",
      "=================================================================\n",
      "Total params: 337,200\n",
      "Trainable params: 335,792\n",
      "Non-trainable params: 1,408\n",
      "_________________________________________________________________\n"
     ]
    }
   ],
   "source": [
    "model = build_current_model()\n",
    "model.summary()"
   ]
  },
  {
   "cell_type": "code",
   "execution_count": 36,
   "metadata": {},
   "outputs": [
    {
     "name": "stdout",
     "output_type": "stream",
     "text": [
      "Train on 2172 samples, validate on 242 samples\n",
      "Epoch 1/100\n",
      "2172/2172 - 3s - loss: 1.5368 - acc: 0.5023 - val_loss: 1.4551 - val_acc: 0.5413\n",
      "Epoch 2/100\n",
      "2172/2172 - 2s - loss: 1.3459 - acc: 0.5663 - val_loss: 1.2302 - val_acc: 0.5661\n",
      "Epoch 3/100\n",
      "2172/2172 - 2s - loss: 1.2857 - acc: 0.5907 - val_loss: 1.2171 - val_acc: 0.6033\n",
      "Epoch 4/100\n",
      "2172/2172 - 2s - loss: 1.2513 - acc: 0.5921 - val_loss: 1.0999 - val_acc: 0.6281\n",
      "Epoch 5/100\n",
      "2172/2172 - 2s - loss: 1.1468 - acc: 0.6225 - val_loss: 1.1518 - val_acc: 0.5950\n",
      "Epoch 6/100\n",
      "2172/2172 - 2s - loss: 1.0587 - acc: 0.6400 - val_loss: 1.0998 - val_acc: 0.6405\n",
      "Epoch 7/100\n",
      "2172/2172 - 2s - loss: 0.9814 - acc: 0.6653 - val_loss: 0.8787 - val_acc: 0.6818\n",
      "Epoch 8/100\n",
      "2172/2172 - 2s - loss: 0.9304 - acc: 0.6920 - val_loss: 0.8111 - val_acc: 0.7397\n",
      "Epoch 9/100\n",
      "2172/2172 - 2s - loss: 0.9294 - acc: 0.6929 - val_loss: 0.7016 - val_acc: 0.7438\n",
      "Epoch 10/100\n",
      "2172/2172 - 2s - loss: 0.8510 - acc: 0.7155 - val_loss: 0.6337 - val_acc: 0.7727\n",
      "Epoch 11/100\n",
      "2172/2172 - 2s - loss: 0.7755 - acc: 0.7293 - val_loss: 0.6627 - val_acc: 0.7397\n",
      "Epoch 12/100\n",
      "2172/2172 - 2s - loss: 0.7663 - acc: 0.7518 - val_loss: 0.6559 - val_acc: 0.7810\n",
      "Epoch 13/100\n",
      "2172/2172 - 2s - loss: 0.7382 - acc: 0.7592 - val_loss: 0.5547 - val_acc: 0.8182\n",
      "Epoch 14/100\n",
      "2172/2172 - 2s - loss: 0.6888 - acc: 0.7634 - val_loss: 0.4941 - val_acc: 0.8430\n",
      "Epoch 15/100\n",
      "2172/2172 - 2s - loss: 0.6703 - acc: 0.7827 - val_loss: 0.4531 - val_acc: 0.8554\n",
      "Epoch 16/100\n",
      "2172/2172 - 2s - loss: 0.6084 - acc: 0.7956 - val_loss: 0.4673 - val_acc: 0.8471\n",
      "Epoch 17/100\n",
      "2172/2172 - 2s - loss: 0.6251 - acc: 0.8122 - val_loss: 0.4900 - val_acc: 0.8306\n",
      "Epoch 18/100\n",
      "2172/2172 - 2s - loss: 0.5765 - acc: 0.8218 - val_loss: 0.5268 - val_acc: 0.8223\n",
      "Epoch 19/100\n",
      "2172/2172 - 2s - loss: 0.5634 - acc: 0.8172 - val_loss: 0.3507 - val_acc: 0.8802\n",
      "Epoch 20/100\n",
      "2172/2172 - 2s - loss: 0.5575 - acc: 0.8122 - val_loss: 0.4483 - val_acc: 0.8595\n",
      "Epoch 21/100\n",
      "2172/2172 - 2s - loss: 0.4799 - acc: 0.8430 - val_loss: 0.3449 - val_acc: 0.8678\n",
      "Epoch 22/100\n",
      "2172/2172 - 2s - loss: 0.4965 - acc: 0.8439 - val_loss: 0.3381 - val_acc: 0.8843\n",
      "Epoch 23/100\n",
      "2172/2172 - 2s - loss: 0.4766 - acc: 0.8458 - val_loss: 0.3018 - val_acc: 0.8802\n",
      "Epoch 24/100\n",
      "2172/2172 - 2s - loss: 0.4417 - acc: 0.8573 - val_loss: 0.4535 - val_acc: 0.8554\n",
      "Epoch 25/100\n",
      "2172/2172 - 2s - loss: 0.4599 - acc: 0.8559 - val_loss: 0.3187 - val_acc: 0.8967\n",
      "Epoch 26/100\n",
      "2172/2172 - 2s - loss: 0.4300 - acc: 0.8674 - val_loss: 0.2887 - val_acc: 0.9050\n",
      "Epoch 27/100\n",
      "2172/2172 - 2s - loss: 0.4179 - acc: 0.8642 - val_loss: 0.2506 - val_acc: 0.8926\n",
      "Epoch 28/100\n",
      "2172/2172 - 2s - loss: 0.4079 - acc: 0.8697 - val_loss: 0.2819 - val_acc: 0.9091\n",
      "Epoch 29/100\n",
      "2172/2172 - 2s - loss: 0.3981 - acc: 0.8706 - val_loss: 0.3102 - val_acc: 0.8926\n",
      "Epoch 30/100\n",
      "2172/2172 - 2s - loss: 0.3890 - acc: 0.8683 - val_loss: 0.2645 - val_acc: 0.9215\n",
      "Epoch 31/100\n",
      "2172/2172 - 2s - loss: 0.3829 - acc: 0.8798 - val_loss: 0.2740 - val_acc: 0.9215\n",
      "Epoch 32/100\n",
      "2172/2172 - 2s - loss: 0.3645 - acc: 0.8812 - val_loss: 0.2852 - val_acc: 0.8884\n",
      "Epoch 33/100\n",
      "2172/2172 - 2s - loss: 0.3848 - acc: 0.8692 - val_loss: 0.2302 - val_acc: 0.9380\n",
      "Epoch 34/100\n",
      "2172/2172 - 2s - loss: 0.3210 - acc: 0.8950 - val_loss: 0.4647 - val_acc: 0.8595\n",
      "Epoch 35/100\n",
      "2172/2172 - 2s - loss: 0.3413 - acc: 0.8913 - val_loss: 0.3080 - val_acc: 0.9174\n",
      "Epoch 36/100\n",
      "2172/2172 - 2s - loss: 0.3173 - acc: 0.8877 - val_loss: 0.2404 - val_acc: 0.9215\n",
      "Epoch 37/100\n",
      "2172/2172 - 2s - loss: 0.3115 - acc: 0.8996 - val_loss: 0.2286 - val_acc: 0.9091\n",
      "Epoch 38/100\n",
      "2172/2172 - 2s - loss: 0.3042 - acc: 0.9107 - val_loss: 0.3328 - val_acc: 0.8678\n",
      "Epoch 39/100\n",
      "2172/2172 - 2s - loss: 0.2870 - acc: 0.8987 - val_loss: 0.2230 - val_acc: 0.9298\n",
      "Epoch 40/100\n",
      "2172/2172 - 2s - loss: 0.3077 - acc: 0.9019 - val_loss: 0.1872 - val_acc: 0.9215\n",
      "Epoch 41/100\n",
      "2172/2172 - 2s - loss: 0.2462 - acc: 0.9208 - val_loss: 0.2131 - val_acc: 0.9298\n",
      "Epoch 42/100\n",
      "2172/2172 - 2s - loss: 0.2970 - acc: 0.9107 - val_loss: 0.2047 - val_acc: 0.9380\n",
      "Epoch 43/100\n",
      "2172/2172 - 2s - loss: 0.2334 - acc: 0.9263 - val_loss: 0.2588 - val_acc: 0.9215\n",
      "Epoch 44/100\n",
      "2172/2172 - 2s - loss: 0.3037 - acc: 0.9088 - val_loss: 0.1731 - val_acc: 0.9504\n",
      "Epoch 45/100\n",
      "2172/2172 - 2s - loss: 0.2738 - acc: 0.9157 - val_loss: 0.1745 - val_acc: 0.9380\n",
      "Epoch 46/100\n",
      "2172/2172 - 2s - loss: 0.2640 - acc: 0.9222 - val_loss: 0.1476 - val_acc: 0.9545\n",
      "Epoch 47/100\n",
      "2172/2172 - 2s - loss: 0.2581 - acc: 0.9194 - val_loss: 0.1413 - val_acc: 0.9628\n",
      "Epoch 48/100\n",
      "2172/2172 - 2s - loss: 0.2233 - acc: 0.9314 - val_loss: 0.1326 - val_acc: 0.9711\n",
      "Epoch 49/100\n",
      "2172/2172 - 2s - loss: 0.2031 - acc: 0.9332 - val_loss: 0.2160 - val_acc: 0.9421\n",
      "Epoch 50/100\n",
      "2172/2172 - 2s - loss: 0.2277 - acc: 0.9254 - val_loss: 0.1785 - val_acc: 0.9298\n",
      "Epoch 51/100\n",
      "2172/2172 - 2s - loss: 0.2557 - acc: 0.9213 - val_loss: 0.3896 - val_acc: 0.8926\n",
      "Epoch 52/100\n",
      "2172/2172 - 2s - loss: 0.2547 - acc: 0.9208 - val_loss: 0.1451 - val_acc: 0.9669\n",
      "Epoch 53/100\n",
      "2172/2172 - 2s - loss: 0.2051 - acc: 0.9351 - val_loss: 0.5067 - val_acc: 0.8554\n",
      "Epoch 54/100\n",
      "2172/2172 - 2s - loss: 0.2471 - acc: 0.9231 - val_loss: 0.1915 - val_acc: 0.9504\n",
      "Epoch 55/100\n",
      "2172/2172 - 2s - loss: 0.2097 - acc: 0.9383 - val_loss: 0.1263 - val_acc: 0.9752\n",
      "Epoch 56/100\n",
      "2172/2172 - 2s - loss: 0.2132 - acc: 0.9406 - val_loss: 0.1757 - val_acc: 0.9587\n",
      "Epoch 57/100\n",
      "2172/2172 - 2s - loss: 0.1851 - acc: 0.9378 - val_loss: 0.1969 - val_acc: 0.9504\n",
      "Epoch 58/100\n",
      "2172/2172 - 2s - loss: 0.1928 - acc: 0.9392 - val_loss: 0.1973 - val_acc: 0.9298\n",
      "Epoch 59/100\n",
      "2172/2172 - 2s - loss: 0.2368 - acc: 0.9208 - val_loss: 0.3791 - val_acc: 0.8926\n",
      "Epoch 60/100\n",
      "2172/2172 - 2s - loss: 0.2172 - acc: 0.9291 - val_loss: 0.1894 - val_acc: 0.9463\n",
      "Epoch 61/100\n",
      "2172/2172 - 2s - loss: 0.2031 - acc: 0.9424 - val_loss: 0.1344 - val_acc: 0.9628\n",
      "Epoch 62/100\n",
      "2172/2172 - 2s - loss: 0.2059 - acc: 0.9365 - val_loss: 0.1947 - val_acc: 0.9421\n",
      "Epoch 63/100\n",
      "2172/2172 - 2s - loss: 0.1726 - acc: 0.9448 - val_loss: 0.1350 - val_acc: 0.9669\n",
      "Epoch 64/100\n",
      "2172/2172 - 2s - loss: 0.1943 - acc: 0.9498 - val_loss: 0.2206 - val_acc: 0.9339\n",
      "Epoch 65/100\n",
      "2172/2172 - 2s - loss: 0.1627 - acc: 0.9471 - val_loss: 0.2017 - val_acc: 0.9463\n",
      "Epoch 66/100\n",
      "2172/2172 - 2s - loss: 0.1707 - acc: 0.9503 - val_loss: 0.1140 - val_acc: 0.9752\n",
      "Epoch 67/100\n",
      "2172/2172 - 2s - loss: 0.1579 - acc: 0.9521 - val_loss: 0.1843 - val_acc: 0.9587\n",
      "Epoch 68/100\n",
      "2172/2172 - 2s - loss: 0.1597 - acc: 0.9494 - val_loss: 0.1513 - val_acc: 0.9545\n",
      "Epoch 69/100\n",
      "2172/2172 - 2s - loss: 0.1685 - acc: 0.9498 - val_loss: 0.1918 - val_acc: 0.9421\n",
      "Epoch 70/100\n",
      "2172/2172 - 2s - loss: 0.1653 - acc: 0.9475 - val_loss: 0.0999 - val_acc: 0.9669\n",
      "Epoch 71/100\n",
      "2172/2172 - 2s - loss: 0.1713 - acc: 0.9503 - val_loss: 0.1652 - val_acc: 0.9504\n",
      "Epoch 72/100\n",
      "2172/2172 - 2s - loss: 0.2137 - acc: 0.9355 - val_loss: 0.2392 - val_acc: 0.9421\n",
      "Epoch 73/100\n",
      "2172/2172 - 2s - loss: 0.1511 - acc: 0.9576 - val_loss: 0.0994 - val_acc: 0.9752\n",
      "Epoch 74/100\n",
      "2172/2172 - 2s - loss: 0.1794 - acc: 0.9535 - val_loss: 0.1382 - val_acc: 0.9711\n",
      "Epoch 75/100\n",
      "2172/2172 - 2s - loss: 0.2087 - acc: 0.9378 - val_loss: 0.0666 - val_acc: 0.9835\n",
      "Epoch 76/100\n",
      "2172/2172 - 2s - loss: 0.1239 - acc: 0.9622 - val_loss: 0.1351 - val_acc: 0.9545\n",
      "Epoch 77/100\n",
      "2172/2172 - 2s - loss: 0.1812 - acc: 0.9461 - val_loss: 0.0933 - val_acc: 0.9669\n",
      "Epoch 78/100\n",
      "2172/2172 - 2s - loss: 0.1791 - acc: 0.9434 - val_loss: 0.1609 - val_acc: 0.9587\n",
      "Epoch 79/100\n",
      "2172/2172 - 2s - loss: 0.1326 - acc: 0.9595 - val_loss: 0.0830 - val_acc: 0.9793\n",
      "Epoch 80/100\n",
      "2172/2172 - 2s - loss: 0.1543 - acc: 0.9526 - val_loss: 0.1004 - val_acc: 0.9628\n",
      "Epoch 81/100\n",
      "2172/2172 - 2s - loss: 0.1924 - acc: 0.9498 - val_loss: 0.1286 - val_acc: 0.9711\n",
      "Epoch 82/100\n",
      "2172/2172 - 2s - loss: 0.1206 - acc: 0.9659 - val_loss: 0.2033 - val_acc: 0.9545\n",
      "Epoch 83/100\n",
      "2172/2172 - 2s - loss: 0.1777 - acc: 0.9471 - val_loss: 0.0805 - val_acc: 0.9793\n",
      "Epoch 84/100\n",
      "2172/2172 - 2s - loss: 0.2082 - acc: 0.9448 - val_loss: 0.1803 - val_acc: 0.9463\n",
      "Epoch 85/100\n",
      "2172/2172 - 2s - loss: 0.1180 - acc: 0.9627 - val_loss: 0.1283 - val_acc: 0.9711\n",
      "Epoch 86/100\n",
      "2172/2172 - 2s - loss: 0.1260 - acc: 0.9664 - val_loss: 0.1621 - val_acc: 0.9587\n",
      "Epoch 87/100\n",
      "2172/2172 - 2s - loss: 0.1079 - acc: 0.9673 - val_loss: 0.1523 - val_acc: 0.9545\n"
     ]
    },
    {
     "name": "stdout",
     "output_type": "stream",
     "text": [
      "Epoch 88/100\n",
      "2172/2172 - 2s - loss: 0.1750 - acc: 0.9526 - val_loss: 0.0909 - val_acc: 0.9711\n",
      "Epoch 89/100\n",
      "2172/2172 - 2s - loss: 0.1751 - acc: 0.9563 - val_loss: 0.1477 - val_acc: 0.9628\n",
      "Epoch 90/100\n",
      "2172/2172 - 2s - loss: 0.1480 - acc: 0.9553 - val_loss: 0.0701 - val_acc: 0.9793\n",
      "Epoch 91/100\n",
      "2172/2172 - 2s - loss: 0.1352 - acc: 0.9595 - val_loss: 0.0843 - val_acc: 0.9793\n",
      "Epoch 92/100\n",
      "2172/2172 - 2s - loss: 0.1276 - acc: 0.9645 - val_loss: 0.2211 - val_acc: 0.9463\n",
      "Epoch 93/100\n",
      "2172/2172 - 2s - loss: 0.1327 - acc: 0.9572 - val_loss: 0.1143 - val_acc: 0.9711\n",
      "Epoch 94/100\n",
      "2172/2172 - 2s - loss: 0.0930 - acc: 0.9715 - val_loss: 0.0728 - val_acc: 0.9793\n",
      "Epoch 95/100\n",
      "Restoring model weights from the end of the best epoch.\n",
      "2172/2172 - 2s - loss: 0.1435 - acc: 0.9586 - val_loss: 0.0801 - val_acc: 0.9835\n",
      "Epoch 00095: early stopping\n",
      "Train on 2172 samples, validate on 242 samples\n",
      "Epoch 1/100\n",
      "2172/2172 - 3s - loss: 1.5577 - acc: 0.5078 - val_loss: 2.4628 - val_acc: 0.3636\n",
      "Epoch 2/100\n",
      "2172/2172 - 2s - loss: 1.3780 - acc: 0.5594 - val_loss: 1.2598 - val_acc: 0.5909\n",
      "Epoch 3/100\n",
      "2172/2172 - 2s - loss: 1.3140 - acc: 0.5792 - val_loss: 1.3560 - val_acc: 0.5909\n",
      "Epoch 4/100\n",
      "2172/2172 - 2s - loss: 1.1846 - acc: 0.6027 - val_loss: 1.2462 - val_acc: 0.6405\n",
      "Epoch 5/100\n",
      "2172/2172 - 3s - loss: 1.0611 - acc: 0.6390 - val_loss: 0.9779 - val_acc: 0.6446\n",
      "Epoch 6/100\n",
      "2172/2172 - 2s - loss: 1.0515 - acc: 0.6386 - val_loss: 0.8086 - val_acc: 0.7355\n",
      "Epoch 7/100\n",
      "2172/2172 - 2s - loss: 0.9457 - acc: 0.6842 - val_loss: 0.7690 - val_acc: 0.7273\n",
      "Epoch 8/100\n",
      "2172/2172 - 2s - loss: 0.9224 - acc: 0.6934 - val_loss: 0.6483 - val_acc: 0.7934\n",
      "Epoch 9/100\n",
      "2172/2172 - 3s - loss: 0.8879 - acc: 0.7063 - val_loss: 0.6652 - val_acc: 0.7975\n",
      "Epoch 10/100\n",
      "2172/2172 - 2s - loss: 0.8239 - acc: 0.7205 - val_loss: 0.8500 - val_acc: 0.7025\n",
      "Epoch 11/100\n",
      "2172/2172 - 2s - loss: 0.8000 - acc: 0.7357 - val_loss: 0.5521 - val_acc: 0.8140\n",
      "Epoch 12/100\n",
      "2172/2172 - 2s - loss: 0.7668 - acc: 0.7574 - val_loss: 0.4761 - val_acc: 0.8595\n",
      "Epoch 13/100\n",
      "2172/2172 - 2s - loss: 0.6916 - acc: 0.7804 - val_loss: 0.5123 - val_acc: 0.8306\n",
      "Epoch 14/100\n",
      "2172/2172 - 2s - loss: 0.6557 - acc: 0.7947 - val_loss: 0.5757 - val_acc: 0.8264\n",
      "Epoch 15/100\n",
      "2172/2172 - 2s - loss: 0.6202 - acc: 0.7928 - val_loss: 0.4669 - val_acc: 0.8512\n",
      "Epoch 16/100\n",
      "2172/2172 - 2s - loss: 0.6161 - acc: 0.8025 - val_loss: 0.3718 - val_acc: 0.8802\n",
      "Epoch 17/100\n",
      "2172/2172 - 2s - loss: 0.5703 - acc: 0.8283 - val_loss: 0.4256 - val_acc: 0.8306\n",
      "Epoch 18/100\n",
      "2172/2172 - 2s - loss: 0.5375 - acc: 0.8255 - val_loss: 0.3806 - val_acc: 0.8595\n",
      "Epoch 19/100\n",
      "2172/2172 - 2s - loss: 0.4941 - acc: 0.8430 - val_loss: 0.3524 - val_acc: 0.8760\n",
      "Epoch 20/100\n",
      "2172/2172 - 2s - loss: 0.4683 - acc: 0.8517 - val_loss: 0.3191 - val_acc: 0.8843\n",
      "Epoch 21/100\n",
      "2172/2172 - 2s - loss: 0.4650 - acc: 0.8458 - val_loss: 0.2472 - val_acc: 0.9256\n",
      "Epoch 22/100\n",
      "2172/2172 - 2s - loss: 0.4591 - acc: 0.8559 - val_loss: 0.3215 - val_acc: 0.8967\n",
      "Epoch 23/100\n",
      "2172/2172 - 2s - loss: 0.3970 - acc: 0.8702 - val_loss: 0.4183 - val_acc: 0.8802\n",
      "Epoch 24/100\n",
      "2172/2172 - 3s - loss: 0.4614 - acc: 0.8582 - val_loss: 0.2262 - val_acc: 0.9215\n",
      "Epoch 25/100\n",
      "2172/2172 - 2s - loss: 0.3959 - acc: 0.8711 - val_loss: 0.2240 - val_acc: 0.9380\n",
      "Epoch 26/100\n",
      "2172/2172 - 2s - loss: 0.4215 - acc: 0.8665 - val_loss: 0.2127 - val_acc: 0.9298\n",
      "Epoch 27/100\n",
      "2172/2172 - 2s - loss: 0.3582 - acc: 0.8881 - val_loss: 0.2023 - val_acc: 0.9380\n",
      "Epoch 28/100\n",
      "2172/2172 - 2s - loss: 0.3270 - acc: 0.8909 - val_loss: 0.2696 - val_acc: 0.9050\n",
      "Epoch 29/100\n",
      "2172/2172 - 2s - loss: 0.3346 - acc: 0.8959 - val_loss: 0.2280 - val_acc: 0.9256\n",
      "Epoch 30/100\n",
      "2172/2172 - 2s - loss: 0.3684 - acc: 0.8849 - val_loss: 0.2438 - val_acc: 0.9215\n",
      "Epoch 31/100\n",
      "2172/2172 - 2s - loss: 0.3200 - acc: 0.8973 - val_loss: 0.1942 - val_acc: 0.9463\n",
      "Epoch 32/100\n",
      "2172/2172 - 2s - loss: 0.3045 - acc: 0.8996 - val_loss: 0.2745 - val_acc: 0.8926\n",
      "Epoch 33/100\n",
      "2172/2172 - 2s - loss: 0.3158 - acc: 0.8964 - val_loss: 0.1308 - val_acc: 0.9587\n",
      "Epoch 34/100\n",
      "2172/2172 - 2s - loss: 0.3174 - acc: 0.8936 - val_loss: 0.3272 - val_acc: 0.9008\n",
      "Epoch 35/100\n",
      "2172/2172 - 2s - loss: 0.3131 - acc: 0.9061 - val_loss: 0.3800 - val_acc: 0.9008\n",
      "Epoch 36/100\n",
      "2172/2172 - 2s - loss: 0.3427 - acc: 0.9010 - val_loss: 0.2599 - val_acc: 0.9174\n",
      "Epoch 37/100\n",
      "2172/2172 - 2s - loss: 0.2563 - acc: 0.9107 - val_loss: 0.2340 - val_acc: 0.9339\n",
      "Epoch 38/100\n",
      "2172/2172 - 2s - loss: 0.3046 - acc: 0.9084 - val_loss: 0.2540 - val_acc: 0.9215\n",
      "Epoch 39/100\n",
      "2172/2172 - 2s - loss: 0.2472 - acc: 0.9171 - val_loss: 0.1597 - val_acc: 0.9504\n",
      "Epoch 40/100\n",
      "2172/2172 - 2s - loss: 0.2991 - acc: 0.9098 - val_loss: 0.1457 - val_acc: 0.9587\n",
      "Epoch 41/100\n",
      "2172/2172 - 2s - loss: 0.2861 - acc: 0.9102 - val_loss: 0.1038 - val_acc: 0.9669\n",
      "Epoch 42/100\n",
      "2172/2172 - 2s - loss: 0.2356 - acc: 0.9250 - val_loss: 0.1392 - val_acc: 0.9587\n",
      "Epoch 43/100\n",
      "2172/2172 - 2s - loss: 0.2266 - acc: 0.9245 - val_loss: 0.7841 - val_acc: 0.7893\n",
      "Epoch 44/100\n",
      "2172/2172 - 2s - loss: 0.2357 - acc: 0.9300 - val_loss: 0.1257 - val_acc: 0.9628\n",
      "Epoch 45/100\n",
      "2172/2172 - 2s - loss: 0.2255 - acc: 0.9277 - val_loss: 0.2189 - val_acc: 0.9298\n",
      "Epoch 46/100\n",
      "2172/2172 - 2s - loss: 0.2519 - acc: 0.9199 - val_loss: 0.1692 - val_acc: 0.9545\n",
      "Epoch 47/100\n",
      "2172/2172 - 2s - loss: 0.2259 - acc: 0.9328 - val_loss: 0.1167 - val_acc: 0.9587\n",
      "Epoch 48/100\n",
      "2172/2172 - 2s - loss: 0.1821 - acc: 0.9438 - val_loss: 0.1355 - val_acc: 0.9628\n",
      "Epoch 49/100\n",
      "2172/2172 - 3s - loss: 0.2181 - acc: 0.9337 - val_loss: 0.1883 - val_acc: 0.9339\n",
      "Epoch 50/100\n",
      "2172/2172 - 2s - loss: 0.2833 - acc: 0.9194 - val_loss: 0.1504 - val_acc: 0.9669\n",
      "Epoch 51/100\n",
      "2172/2172 - 2s - loss: 0.2098 - acc: 0.9291 - val_loss: 0.2259 - val_acc: 0.9256\n",
      "Epoch 52/100\n",
      "2172/2172 - 2s - loss: 0.2012 - acc: 0.9383 - val_loss: 0.1205 - val_acc: 0.9711\n",
      "Epoch 53/100\n",
      "2172/2172 - 2s - loss: 0.1871 - acc: 0.9452 - val_loss: 0.1724 - val_acc: 0.9545\n",
      "Epoch 54/100\n",
      "2172/2172 - 2s - loss: 0.1672 - acc: 0.9484 - val_loss: 0.1279 - val_acc: 0.9669\n",
      "Epoch 55/100\n",
      "2172/2172 - 2s - loss: 0.1673 - acc: 0.9484 - val_loss: 0.1456 - val_acc: 0.9545\n",
      "Epoch 56/100\n",
      "2172/2172 - 2s - loss: 0.2052 - acc: 0.9411 - val_loss: 0.1273 - val_acc: 0.9504\n",
      "Epoch 57/100\n",
      "2172/2172 - 2s - loss: 0.2690 - acc: 0.9254 - val_loss: 0.1719 - val_acc: 0.9587\n",
      "Epoch 58/100\n",
      "2172/2172 - 2s - loss: 0.2392 - acc: 0.9259 - val_loss: 0.1393 - val_acc: 0.9628\n",
      "Epoch 59/100\n",
      "2172/2172 - 2s - loss: 0.1732 - acc: 0.9452 - val_loss: 0.2029 - val_acc: 0.9421\n",
      "Epoch 60/100\n",
      "2172/2172 - 2s - loss: 0.1877 - acc: 0.9411 - val_loss: 0.1113 - val_acc: 0.9628\n",
      "Epoch 61/100\n",
      "Restoring model weights from the end of the best epoch.\n",
      "2172/2172 - 2s - loss: 0.1450 - acc: 0.9535 - val_loss: 0.1343 - val_acc: 0.9587\n",
      "Epoch 00061: early stopping\n",
      "Train on 2172 samples, validate on 242 samples\n",
      "Epoch 1/100\n",
      "2172/2172 - 3s - loss: 1.5362 - acc: 0.5120 - val_loss: 1.3421 - val_acc: 0.5620\n",
      "Epoch 2/100\n",
      "2172/2172 - 2s - loss: 1.3306 - acc: 0.5640 - val_loss: 1.2444 - val_acc: 0.5868\n",
      "Epoch 3/100\n",
      "2172/2172 - 2s - loss: 1.2663 - acc: 0.5810 - val_loss: 1.1426 - val_acc: 0.5496\n",
      "Epoch 4/100\n",
      "2172/2172 - 3s - loss: 1.1992 - acc: 0.6050 - val_loss: 1.3021 - val_acc: 0.5579\n",
      "Epoch 5/100\n",
      "2172/2172 - 2s - loss: 1.0948 - acc: 0.6358 - val_loss: 1.3177 - val_acc: 0.6570\n",
      "Epoch 6/100\n",
      "2172/2172 - 2s - loss: 1.0113 - acc: 0.6506 - val_loss: 0.8482 - val_acc: 0.6860\n",
      "Epoch 7/100\n",
      "2172/2172 - 3s - loss: 0.9520 - acc: 0.6736 - val_loss: 0.7952 - val_acc: 0.7025\n",
      "Epoch 8/100\n",
      "2172/2172 - 2s - loss: 0.9154 - acc: 0.6906 - val_loss: 0.8665 - val_acc: 0.6777\n",
      "Epoch 9/100\n",
      "2172/2172 - 3s - loss: 0.8658 - acc: 0.7072 - val_loss: 0.6048 - val_acc: 0.7810\n",
      "Epoch 10/100\n",
      "2172/2172 - 3s - loss: 0.7880 - acc: 0.7371 - val_loss: 0.6007 - val_acc: 0.8223\n",
      "Epoch 11/100\n",
      "2172/2172 - 2s - loss: 0.7607 - acc: 0.7486 - val_loss: 0.5438 - val_acc: 0.8058\n",
      "Epoch 12/100\n",
      "2172/2172 - 2s - loss: 0.7004 - acc: 0.7795 - val_loss: 1.0928 - val_acc: 0.7231\n",
      "Epoch 13/100\n",
      "2172/2172 - 2s - loss: 0.6563 - acc: 0.7841 - val_loss: 0.4471 - val_acc: 0.8512\n",
      "Epoch 14/100\n",
      "2172/2172 - 2s - loss: 0.5783 - acc: 0.8043 - val_loss: 0.4087 - val_acc: 0.8512\n",
      "Epoch 15/100\n",
      "2172/2172 - 2s - loss: 0.5811 - acc: 0.8066 - val_loss: 0.4204 - val_acc: 0.8719\n",
      "Epoch 16/100\n",
      "2172/2172 - 2s - loss: 0.5717 - acc: 0.8200 - val_loss: 0.3420 - val_acc: 0.8719\n"
     ]
    },
    {
     "name": "stdout",
     "output_type": "stream",
     "text": [
      "Epoch 17/100\n",
      "2172/2172 - 2s - loss: 0.5586 - acc: 0.8094 - val_loss: 0.3956 - val_acc: 0.8636\n",
      "Epoch 18/100\n",
      "2172/2172 - 2s - loss: 0.4936 - acc: 0.8389 - val_loss: 0.3973 - val_acc: 0.8595\n",
      "Epoch 19/100\n",
      "2172/2172 - 2s - loss: 0.4955 - acc: 0.8453 - val_loss: 0.2906 - val_acc: 0.8926\n",
      "Epoch 20/100\n",
      "2172/2172 - 2s - loss: 0.4714 - acc: 0.8531 - val_loss: 0.4327 - val_acc: 0.8636\n",
      "Epoch 21/100\n",
      "2172/2172 - 2s - loss: 0.4280 - acc: 0.8587 - val_loss: 0.3592 - val_acc: 0.8926\n",
      "Epoch 22/100\n",
      "2172/2172 - 2s - loss: 0.4478 - acc: 0.8568 - val_loss: 0.3589 - val_acc: 0.8678\n",
      "Epoch 23/100\n",
      "2172/2172 - 2s - loss: 0.4102 - acc: 0.8688 - val_loss: 0.4397 - val_acc: 0.8388\n",
      "Epoch 24/100\n",
      "2172/2172 - 2s - loss: 0.4251 - acc: 0.8614 - val_loss: 0.5047 - val_acc: 0.8430\n",
      "Epoch 25/100\n",
      "2172/2172 - 2s - loss: 0.4156 - acc: 0.8798 - val_loss: 0.5056 - val_acc: 0.8430\n",
      "Epoch 26/100\n",
      "2172/2172 - 2s - loss: 0.3757 - acc: 0.8808 - val_loss: 0.2691 - val_acc: 0.9050\n",
      "Epoch 27/100\n",
      "2172/2172 - 2s - loss: 0.3619 - acc: 0.8817 - val_loss: 0.3659 - val_acc: 0.8678\n",
      "Epoch 28/100\n",
      "2172/2172 - 2s - loss: 0.4461 - acc: 0.8577 - val_loss: 0.2541 - val_acc: 0.9256\n",
      "Epoch 29/100\n",
      "2172/2172 - 2s - loss: 0.3630 - acc: 0.8849 - val_loss: 0.1772 - val_acc: 0.9504\n",
      "Epoch 30/100\n",
      "2172/2172 - 2s - loss: 0.3284 - acc: 0.8886 - val_loss: 0.2158 - val_acc: 0.9298\n",
      "Epoch 31/100\n",
      "2172/2172 - 2s - loss: 0.3526 - acc: 0.8909 - val_loss: 0.2288 - val_acc: 0.9298\n",
      "Epoch 32/100\n",
      "2172/2172 - 2s - loss: 0.3060 - acc: 0.9042 - val_loss: 0.1906 - val_acc: 0.9380\n",
      "Epoch 33/100\n",
      "2172/2172 - 2s - loss: 0.3266 - acc: 0.9038 - val_loss: 0.4767 - val_acc: 0.8512\n",
      "Epoch 34/100\n",
      "2172/2172 - 2s - loss: 0.3028 - acc: 0.9038 - val_loss: 0.1643 - val_acc: 0.9587\n",
      "Epoch 35/100\n",
      "2172/2172 - 2s - loss: 0.2655 - acc: 0.9171 - val_loss: 0.1486 - val_acc: 0.9504\n",
      "Epoch 36/100\n",
      "2172/2172 - 2s - loss: 0.2986 - acc: 0.9084 - val_loss: 0.1555 - val_acc: 0.9463\n",
      "Epoch 37/100\n",
      "2172/2172 - 2s - loss: 0.3613 - acc: 0.8996 - val_loss: 0.1944 - val_acc: 0.9298\n",
      "Epoch 38/100\n",
      "2172/2172 - 2s - loss: 0.2583 - acc: 0.9190 - val_loss: 0.1301 - val_acc: 0.9587\n",
      "Epoch 39/100\n",
      "2172/2172 - 2s - loss: 0.2560 - acc: 0.9171 - val_loss: 0.1524 - val_acc: 0.9463\n",
      "Epoch 40/100\n",
      "2172/2172 - 2s - loss: 0.2224 - acc: 0.9277 - val_loss: 0.1494 - val_acc: 0.9628\n",
      "Epoch 41/100\n",
      "2172/2172 - 2s - loss: 0.2893 - acc: 0.9070 - val_loss: 0.2030 - val_acc: 0.9339\n",
      "Epoch 42/100\n",
      "2172/2172 - 2s - loss: 0.2745 - acc: 0.9176 - val_loss: 0.1595 - val_acc: 0.9339\n",
      "Epoch 43/100\n",
      "2172/2172 - 2s - loss: 0.2656 - acc: 0.9121 - val_loss: 0.1908 - val_acc: 0.9215\n",
      "Epoch 44/100\n",
      "2172/2172 - 2s - loss: 0.2067 - acc: 0.9286 - val_loss: 0.1554 - val_acc: 0.9545\n",
      "Epoch 45/100\n",
      "2172/2172 - 2s - loss: 0.2601 - acc: 0.9171 - val_loss: 0.2676 - val_acc: 0.9215\n",
      "Epoch 46/100\n",
      "2172/2172 - 2s - loss: 0.2795 - acc: 0.9121 - val_loss: 0.5441 - val_acc: 0.8430\n",
      "Epoch 47/100\n",
      "2172/2172 - 3s - loss: 0.2473 - acc: 0.9227 - val_loss: 0.2024 - val_acc: 0.9421\n",
      "Epoch 48/100\n",
      "2172/2172 - 2s - loss: 0.2364 - acc: 0.9277 - val_loss: 0.1755 - val_acc: 0.9504\n",
      "Epoch 49/100\n",
      "2172/2172 - 2s - loss: 0.2015 - acc: 0.9355 - val_loss: 0.1408 - val_acc: 0.9628\n",
      "Epoch 50/100\n",
      "2172/2172 - 3s - loss: 0.2594 - acc: 0.9222 - val_loss: 0.2177 - val_acc: 0.9298\n",
      "Epoch 51/100\n",
      "2172/2172 - 2s - loss: 0.2528 - acc: 0.9125 - val_loss: 0.1402 - val_acc: 0.9628\n",
      "Epoch 52/100\n",
      "2172/2172 - 3s - loss: 0.2431 - acc: 0.9309 - val_loss: 0.1583 - val_acc: 0.9628\n",
      "Epoch 53/100\n",
      "2172/2172 - 3s - loss: 0.1986 - acc: 0.9383 - val_loss: 0.1117 - val_acc: 0.9628\n",
      "Epoch 54/100\n",
      "2172/2172 - 2s - loss: 0.1988 - acc: 0.9374 - val_loss: 0.1656 - val_acc: 0.9380\n",
      "Epoch 55/100\n",
      "2172/2172 - 2s - loss: 0.2211 - acc: 0.9300 - val_loss: 0.1575 - val_acc: 0.9421\n",
      "Epoch 56/100\n",
      "2172/2172 - 2s - loss: 0.2165 - acc: 0.9443 - val_loss: 1.1100 - val_acc: 0.7190\n",
      "Epoch 57/100\n",
      "2172/2172 - 2s - loss: 0.2011 - acc: 0.9300 - val_loss: 0.1202 - val_acc: 0.9669\n",
      "Epoch 58/100\n",
      "2172/2172 - 2s - loss: 0.2050 - acc: 0.9397 - val_loss: 0.1564 - val_acc: 0.9463\n",
      "Epoch 59/100\n",
      "2172/2172 - 3s - loss: 0.2095 - acc: 0.9360 - val_loss: 0.1765 - val_acc: 0.9587\n",
      "Epoch 60/100\n",
      "2172/2172 - 2s - loss: 0.2324 - acc: 0.9337 - val_loss: 0.1329 - val_acc: 0.9628\n",
      "Epoch 61/100\n",
      "2172/2172 - 2s - loss: 0.1951 - acc: 0.9461 - val_loss: 0.0893 - val_acc: 0.9793\n",
      "Epoch 62/100\n",
      "2172/2172 - 2s - loss: 0.2182 - acc: 0.9378 - val_loss: 0.1515 - val_acc: 0.9545\n",
      "Epoch 63/100\n",
      "2172/2172 - 2s - loss: 0.1801 - acc: 0.9471 - val_loss: 0.1461 - val_acc: 0.9669\n",
      "Epoch 64/100\n",
      "2172/2172 - 2s - loss: 0.1723 - acc: 0.9415 - val_loss: 0.1390 - val_acc: 0.9628\n",
      "Epoch 65/100\n",
      "2172/2172 - 2s - loss: 0.1893 - acc: 0.9397 - val_loss: 0.1266 - val_acc: 0.9628\n",
      "Epoch 66/100\n",
      "2172/2172 - 3s - loss: 0.1472 - acc: 0.9544 - val_loss: 0.1576 - val_acc: 0.9587\n",
      "Epoch 67/100\n",
      "2172/2172 - 2s - loss: 0.1672 - acc: 0.9480 - val_loss: 0.2197 - val_acc: 0.9380\n",
      "Epoch 68/100\n",
      "2172/2172 - 3s - loss: 0.1797 - acc: 0.9466 - val_loss: 0.0938 - val_acc: 0.9793\n",
      "Epoch 69/100\n",
      "2172/2172 - 2s - loss: 0.1580 - acc: 0.9540 - val_loss: 0.1497 - val_acc: 0.9628\n",
      "Epoch 70/100\n",
      "2172/2172 - 2s - loss: 0.1712 - acc: 0.9452 - val_loss: 0.1668 - val_acc: 0.9463\n",
      "Epoch 71/100\n",
      "2172/2172 - 3s - loss: 0.2088 - acc: 0.9411 - val_loss: 0.1663 - val_acc: 0.9463\n",
      "Epoch 72/100\n",
      "2172/2172 - 2s - loss: 0.1667 - acc: 0.9480 - val_loss: 0.1071 - val_acc: 0.9628\n",
      "Epoch 73/100\n",
      "2172/2172 - 2s - loss: 0.1525 - acc: 0.9540 - val_loss: 0.1370 - val_acc: 0.9587\n",
      "Epoch 74/100\n",
      "2172/2172 - 2s - loss: 0.1807 - acc: 0.9480 - val_loss: 0.2014 - val_acc: 0.9463\n",
      "Epoch 75/100\n",
      "2172/2172 - 2s - loss: 0.1542 - acc: 0.9521 - val_loss: 0.0886 - val_acc: 0.9793\n",
      "Epoch 76/100\n",
      "2172/2172 - 2s - loss: 0.1828 - acc: 0.9471 - val_loss: 1.1632 - val_acc: 0.7190\n",
      "Epoch 77/100\n",
      "2172/2172 - 3s - loss: 0.1734 - acc: 0.9429 - val_loss: 0.1335 - val_acc: 0.9752\n",
      "Epoch 78/100\n",
      "2172/2172 - 2s - loss: 0.1578 - acc: 0.9535 - val_loss: 0.1172 - val_acc: 0.9752\n",
      "Epoch 79/100\n",
      "2172/2172 - 2s - loss: 0.1485 - acc: 0.9572 - val_loss: 0.1535 - val_acc: 0.9711\n",
      "Epoch 80/100\n",
      "2172/2172 - 2s - loss: 0.1263 - acc: 0.9641 - val_loss: 0.1133 - val_acc: 0.9628\n",
      "Epoch 81/100\n",
      "2172/2172 - 2s - loss: 0.1825 - acc: 0.9471 - val_loss: 0.1928 - val_acc: 0.9421\n",
      "Epoch 82/100\n",
      "2172/2172 - 2s - loss: 0.1573 - acc: 0.9553 - val_loss: 0.1370 - val_acc: 0.9628\n",
      "Epoch 83/100\n",
      "2172/2172 - 2s - loss: 0.1454 - acc: 0.9521 - val_loss: 0.0963 - val_acc: 0.9628\n",
      "Epoch 84/100\n",
      "2172/2172 - 3s - loss: 0.1317 - acc: 0.9618 - val_loss: 0.1186 - val_acc: 0.9628\n",
      "Epoch 85/100\n",
      "2172/2172 - 2s - loss: 0.1644 - acc: 0.9544 - val_loss: 0.0966 - val_acc: 0.9669\n",
      "Epoch 86/100\n",
      "2172/2172 - 2s - loss: 0.1340 - acc: 0.9530 - val_loss: 0.2133 - val_acc: 0.9463\n",
      "Epoch 87/100\n",
      "2172/2172 - 2s - loss: 0.1979 - acc: 0.9424 - val_loss: 0.1395 - val_acc: 0.9587\n",
      "Epoch 88/100\n",
      "2172/2172 - 2s - loss: 0.1291 - acc: 0.9632 - val_loss: 0.1250 - val_acc: 0.9628\n",
      "Epoch 89/100\n",
      "2172/2172 - 2s - loss: 0.1665 - acc: 0.9553 - val_loss: 0.0991 - val_acc: 0.9711\n",
      "Epoch 90/100\n",
      "2172/2172 - 2s - loss: 0.1383 - acc: 0.9586 - val_loss: 0.1327 - val_acc: 0.9628\n",
      "Epoch 91/100\n",
      "2172/2172 - 2s - loss: 0.1744 - acc: 0.9553 - val_loss: 0.1344 - val_acc: 0.9669\n",
      "Epoch 92/100\n",
      "2172/2172 - 2s - loss: 0.1059 - acc: 0.9627 - val_loss: 0.1234 - val_acc: 0.9587\n",
      "Epoch 93/100\n",
      "2172/2172 - 2s - loss: 0.1479 - acc: 0.9609 - val_loss: 0.1554 - val_acc: 0.9628\n",
      "Epoch 94/100\n",
      "2172/2172 - 2s - loss: 0.1205 - acc: 0.9692 - val_loss: 0.1509 - val_acc: 0.9669\n",
      "Epoch 95/100\n",
      "Restoring model weights from the end of the best epoch.\n",
      "2172/2172 - 3s - loss: 0.1535 - acc: 0.9586 - val_loss: 0.1513 - val_acc: 0.9587\n",
      "Epoch 00095: early stopping\n",
      "Train on 2173 samples, validate on 242 samples\n",
      "Epoch 1/100\n",
      "2173/2173 - 3s - loss: 1.5262 - acc: 0.5108 - val_loss: 1.3876 - val_acc: 0.5165\n",
      "Epoch 2/100\n",
      "2173/2173 - 2s - loss: 1.3405 - acc: 0.5637 - val_loss: 1.3219 - val_acc: 0.5702\n",
      "Epoch 3/100\n",
      "2173/2173 - 2s - loss: 1.2826 - acc: 0.5794 - val_loss: 1.2955 - val_acc: 0.6157\n",
      "Epoch 4/100\n",
      "2173/2173 - 2s - loss: 1.2099 - acc: 0.6079 - val_loss: 1.0054 - val_acc: 0.6322\n",
      "Epoch 5/100\n",
      "2173/2173 - 2s - loss: 1.0931 - acc: 0.6378 - val_loss: 1.0125 - val_acc: 0.6364\n",
      "Epoch 6/100\n",
      "2173/2173 - 2s - loss: 1.0009 - acc: 0.6650 - val_loss: 0.9090 - val_acc: 0.6901\n",
      "Epoch 7/100\n",
      "2173/2173 - 2s - loss: 0.9332 - acc: 0.6820 - val_loss: 0.6939 - val_acc: 0.7727\n"
     ]
    },
    {
     "name": "stdout",
     "output_type": "stream",
     "text": [
      "Epoch 8/100\n",
      "2173/2173 - 2s - loss: 0.9179 - acc: 0.6977 - val_loss: 0.6582 - val_acc: 0.8017\n",
      "Epoch 9/100\n",
      "2173/2173 - 2s - loss: 0.8516 - acc: 0.7234 - val_loss: 0.6968 - val_acc: 0.7851\n",
      "Epoch 10/100\n",
      "2173/2173 - 2s - loss: 0.8351 - acc: 0.7303 - val_loss: 0.6951 - val_acc: 0.7438\n",
      "Epoch 11/100\n",
      "2173/2173 - 2s - loss: 0.8088 - acc: 0.7377 - val_loss: 0.6012 - val_acc: 0.8223\n",
      "Epoch 12/100\n",
      "2173/2173 - 2s - loss: 0.7052 - acc: 0.7717 - val_loss: 0.8715 - val_acc: 0.7521\n",
      "Epoch 13/100\n",
      "2173/2173 - 2s - loss: 0.6885 - acc: 0.7819 - val_loss: 0.6643 - val_acc: 0.7438\n",
      "Epoch 14/100\n",
      "2173/2173 - 2s - loss: 0.6716 - acc: 0.7865 - val_loss: 1.5142 - val_acc: 0.6818\n",
      "Epoch 15/100\n",
      "2173/2173 - 2s - loss: 0.6345 - acc: 0.7989 - val_loss: 0.4596 - val_acc: 0.8430\n",
      "Epoch 16/100\n",
      "2173/2173 - 2s - loss: 0.5895 - acc: 0.8150 - val_loss: 0.4707 - val_acc: 0.8512\n",
      "Epoch 17/100\n",
      "2173/2173 - 2s - loss: 0.5935 - acc: 0.8076 - val_loss: 0.3613 - val_acc: 0.8843\n",
      "Epoch 18/100\n",
      "2173/2173 - 2s - loss: 0.5636 - acc: 0.8205 - val_loss: 0.4068 - val_acc: 0.8471\n",
      "Epoch 19/100\n",
      "2173/2173 - 2s - loss: 0.5227 - acc: 0.8399 - val_loss: 0.3854 - val_acc: 0.8719\n",
      "Epoch 20/100\n",
      "2173/2173 - 2s - loss: 0.4963 - acc: 0.8417 - val_loss: 0.3110 - val_acc: 0.8760\n",
      "Epoch 21/100\n",
      "2173/2173 - 2s - loss: 0.5104 - acc: 0.8454 - val_loss: 0.2980 - val_acc: 0.8884\n",
      "Epoch 22/100\n",
      "2173/2173 - 2s - loss: 0.4386 - acc: 0.8555 - val_loss: 0.3259 - val_acc: 0.9091\n",
      "Epoch 23/100\n",
      "2173/2173 - 2s - loss: 0.4682 - acc: 0.8541 - val_loss: 0.3125 - val_acc: 0.8843\n",
      "Epoch 24/100\n",
      "2173/2173 - 2s - loss: 0.4215 - acc: 0.8675 - val_loss: 0.2800 - val_acc: 0.9174\n",
      "Epoch 25/100\n",
      "2173/2173 - 2s - loss: 0.3903 - acc: 0.8739 - val_loss: 0.3243 - val_acc: 0.9215\n",
      "Epoch 26/100\n",
      "2173/2173 - 2s - loss: 0.3785 - acc: 0.8734 - val_loss: 0.3424 - val_acc: 0.8802\n",
      "Epoch 27/100\n",
      "2173/2173 - 2s - loss: 0.4098 - acc: 0.8693 - val_loss: 0.3149 - val_acc: 0.8843\n",
      "Epoch 28/100\n",
      "2173/2173 - 2s - loss: 0.3683 - acc: 0.8808 - val_loss: 0.2424 - val_acc: 0.9132\n",
      "Epoch 29/100\n",
      "2173/2173 - 2s - loss: 0.3781 - acc: 0.8836 - val_loss: 0.2830 - val_acc: 0.8884\n",
      "Epoch 30/100\n",
      "2173/2173 - 2s - loss: 0.4073 - acc: 0.8665 - val_loss: 0.2589 - val_acc: 0.8967\n",
      "Epoch 31/100\n",
      "2173/2173 - 2s - loss: 0.4112 - acc: 0.8803 - val_loss: 0.2502 - val_acc: 0.9174\n",
      "Epoch 32/100\n",
      "2173/2173 - 2s - loss: 0.3361 - acc: 0.8900 - val_loss: 0.1977 - val_acc: 0.9339\n",
      "Epoch 33/100\n",
      "2173/2173 - 2s - loss: 0.3007 - acc: 0.9052 - val_loss: 0.1920 - val_acc: 0.9421\n",
      "Epoch 34/100\n",
      "2173/2173 - 2s - loss: 0.3271 - acc: 0.8951 - val_loss: 0.2418 - val_acc: 0.9380\n",
      "Epoch 35/100\n",
      "2173/2173 - 2s - loss: 0.3524 - acc: 0.8854 - val_loss: 0.2197 - val_acc: 0.9215\n",
      "Epoch 36/100\n",
      "2173/2173 - 2s - loss: 0.3154 - acc: 0.8960 - val_loss: 0.2258 - val_acc: 0.9215\n",
      "Epoch 37/100\n",
      "2173/2173 - 2s - loss: 0.3176 - acc: 0.8992 - val_loss: 0.2849 - val_acc: 0.9050\n",
      "Epoch 38/100\n",
      "2173/2173 - 2s - loss: 0.3151 - acc: 0.9034 - val_loss: 0.2244 - val_acc: 0.9380\n",
      "Epoch 39/100\n",
      "2173/2173 - 2s - loss: 0.3446 - acc: 0.8914 - val_loss: 0.2088 - val_acc: 0.9339\n",
      "Epoch 40/100\n",
      "2173/2173 - 3s - loss: 0.2878 - acc: 0.9093 - val_loss: 0.1649 - val_acc: 0.9587\n",
      "Epoch 41/100\n",
      "2173/2173 - 2s - loss: 0.2973 - acc: 0.9024 - val_loss: 0.2658 - val_acc: 0.9174\n",
      "Epoch 42/100\n",
      "2173/2173 - 2s - loss: 0.2769 - acc: 0.9130 - val_loss: 0.2005 - val_acc: 0.9339\n",
      "Epoch 43/100\n",
      "2173/2173 - 2s - loss: 0.2816 - acc: 0.9093 - val_loss: 0.1589 - val_acc: 0.9380\n",
      "Epoch 44/100\n",
      "2173/2173 - 2s - loss: 0.3101 - acc: 0.9034 - val_loss: 0.2012 - val_acc: 0.9421\n",
      "Epoch 45/100\n",
      "2173/2173 - 2s - loss: 0.2765 - acc: 0.9116 - val_loss: 0.2023 - val_acc: 0.9298\n",
      "Epoch 46/100\n",
      "2173/2173 - 2s - loss: 0.2827 - acc: 0.9098 - val_loss: 0.2650 - val_acc: 0.9091\n",
      "Epoch 47/100\n",
      "2173/2173 - 2s - loss: 0.2562 - acc: 0.9213 - val_loss: 0.1363 - val_acc: 0.9545\n",
      "Epoch 48/100\n",
      "2173/2173 - 2s - loss: 0.2033 - acc: 0.9328 - val_loss: 0.2952 - val_acc: 0.9050\n",
      "Epoch 49/100\n",
      "2173/2173 - 2s - loss: 0.2377 - acc: 0.9264 - val_loss: 0.1407 - val_acc: 0.9380\n",
      "Epoch 50/100\n",
      "2173/2173 - 2s - loss: 0.2830 - acc: 0.9204 - val_loss: 0.2379 - val_acc: 0.9215\n",
      "Epoch 51/100\n",
      "2173/2173 - 2s - loss: 0.2225 - acc: 0.9301 - val_loss: 0.1522 - val_acc: 0.9463\n",
      "Epoch 52/100\n",
      "2173/2173 - 2s - loss: 0.2335 - acc: 0.9241 - val_loss: 0.4038 - val_acc: 0.8719\n",
      "Epoch 53/100\n",
      "2173/2173 - 2s - loss: 0.2152 - acc: 0.9360 - val_loss: 0.1524 - val_acc: 0.9628\n",
      "Epoch 54/100\n",
      "2173/2173 - 2s - loss: 0.2790 - acc: 0.9195 - val_loss: 0.1889 - val_acc: 0.9298\n",
      "Epoch 55/100\n",
      "2173/2173 - 2s - loss: 0.2556 - acc: 0.9218 - val_loss: 0.1222 - val_acc: 0.9752\n",
      "Epoch 56/100\n",
      "2173/2173 - 2s - loss: 0.2237 - acc: 0.9291 - val_loss: 0.0933 - val_acc: 0.9669\n",
      "Epoch 57/100\n",
      "2173/2173 - 2s - loss: 0.2092 - acc: 0.9452 - val_loss: 0.1099 - val_acc: 0.9628\n",
      "Epoch 58/100\n",
      "2173/2173 - 2s - loss: 0.2006 - acc: 0.9356 - val_loss: 0.0973 - val_acc: 0.9711\n",
      "Epoch 59/100\n",
      "2173/2173 - 2s - loss: 0.1861 - acc: 0.9425 - val_loss: 0.2598 - val_acc: 0.9256\n",
      "Epoch 60/100\n",
      "2173/2173 - 2s - loss: 0.1988 - acc: 0.9397 - val_loss: 0.1526 - val_acc: 0.9628\n",
      "Epoch 61/100\n",
      "2173/2173 - 2s - loss: 0.2155 - acc: 0.9296 - val_loss: 0.4142 - val_acc: 0.8802\n",
      "Epoch 62/100\n",
      "2173/2173 - 2s - loss: 0.1744 - acc: 0.9411 - val_loss: 0.1240 - val_acc: 0.9669\n",
      "Epoch 63/100\n",
      "2173/2173 - 2s - loss: 0.1479 - acc: 0.9558 - val_loss: 0.2058 - val_acc: 0.9463\n",
      "Epoch 64/100\n",
      "2173/2173 - 2s - loss: 0.1840 - acc: 0.9420 - val_loss: 0.1408 - val_acc: 0.9628\n",
      "Epoch 65/100\n",
      "2173/2173 - 2s - loss: 0.1611 - acc: 0.9494 - val_loss: 0.1258 - val_acc: 0.9628\n",
      "Epoch 66/100\n",
      "2173/2173 - 2s - loss: 0.1870 - acc: 0.9434 - val_loss: 0.1041 - val_acc: 0.9711\n",
      "Epoch 67/100\n",
      "2173/2173 - 2s - loss: 0.1935 - acc: 0.9466 - val_loss: 0.1893 - val_acc: 0.9504\n",
      "Epoch 68/100\n",
      "2173/2173 - 2s - loss: 0.1785 - acc: 0.9420 - val_loss: 0.1164 - val_acc: 0.9628\n",
      "Epoch 69/100\n",
      "2173/2173 - 2s - loss: 0.1424 - acc: 0.9563 - val_loss: 0.1090 - val_acc: 0.9669\n",
      "Epoch 70/100\n",
      "2173/2173 - 2s - loss: 0.2169 - acc: 0.9452 - val_loss: 0.1425 - val_acc: 0.9587\n",
      "Epoch 71/100\n",
      "2173/2173 - 2s - loss: 0.1667 - acc: 0.9489 - val_loss: 0.1243 - val_acc: 0.9628\n",
      "Epoch 72/100\n",
      "2173/2173 - 2s - loss: 0.2177 - acc: 0.9462 - val_loss: 0.1003 - val_acc: 0.9752\n",
      "Epoch 73/100\n",
      "2173/2173 - 2s - loss: 0.1556 - acc: 0.9489 - val_loss: 0.0751 - val_acc: 0.9793\n",
      "Epoch 74/100\n",
      "2173/2173 - 2s - loss: 0.1783 - acc: 0.9526 - val_loss: 0.0946 - val_acc: 0.9793\n",
      "Epoch 75/100\n",
      "2173/2173 - 2s - loss: 0.1602 - acc: 0.9544 - val_loss: 0.2280 - val_acc: 0.9256\n",
      "Epoch 76/100\n",
      "2173/2173 - 2s - loss: 0.1256 - acc: 0.9590 - val_loss: 0.1410 - val_acc: 0.9628\n",
      "Epoch 77/100\n",
      "2173/2173 - 2s - loss: 0.1717 - acc: 0.9475 - val_loss: 0.1173 - val_acc: 0.9628\n",
      "Epoch 78/100\n",
      "2173/2173 - 2s - loss: 0.1681 - acc: 0.9494 - val_loss: 0.1059 - val_acc: 0.9711\n",
      "Epoch 79/100\n",
      "2173/2173 - 2s - loss: 0.1467 - acc: 0.9554 - val_loss: 0.2059 - val_acc: 0.9421\n",
      "Epoch 80/100\n",
      "2173/2173 - 2s - loss: 0.1688 - acc: 0.9549 - val_loss: 0.1219 - val_acc: 0.9628\n",
      "Epoch 81/100\n",
      "2173/2173 - 2s - loss: 0.1402 - acc: 0.9623 - val_loss: 0.1174 - val_acc: 0.9545\n",
      "Epoch 82/100\n",
      "2173/2173 - 2s - loss: 0.1641 - acc: 0.9489 - val_loss: 0.1778 - val_acc: 0.9339\n",
      "Epoch 83/100\n",
      "2173/2173 - 2s - loss: 0.1403 - acc: 0.9572 - val_loss: 0.1909 - val_acc: 0.9628\n",
      "Epoch 84/100\n",
      "2173/2173 - 2s - loss: 0.1516 - acc: 0.9567 - val_loss: 0.0966 - val_acc: 0.9752\n",
      "Epoch 85/100\n",
      "2173/2173 - 2s - loss: 0.1394 - acc: 0.9549 - val_loss: 0.1428 - val_acc: 0.9711\n",
      "Epoch 86/100\n",
      "2173/2173 - 2s - loss: 0.1869 - acc: 0.9535 - val_loss: 0.0999 - val_acc: 0.9752\n",
      "Epoch 87/100\n",
      "2173/2173 - 2s - loss: 0.1323 - acc: 0.9590 - val_loss: 0.1593 - val_acc: 0.9628\n",
      "Epoch 88/100\n",
      "2173/2173 - 2s - loss: 0.1223 - acc: 0.9636 - val_loss: 0.0823 - val_acc: 0.9793\n",
      "Epoch 89/100\n",
      "2173/2173 - 2s - loss: 0.1307 - acc: 0.9618 - val_loss: 0.0693 - val_acc: 0.9793\n",
      "Epoch 90/100\n",
      "2173/2173 - 2s - loss: 0.1352 - acc: 0.9595 - val_loss: 0.1275 - val_acc: 0.9669\n",
      "Epoch 91/100\n",
      "2173/2173 - 2s - loss: 0.1477 - acc: 0.9627 - val_loss: 0.1450 - val_acc: 0.9669\n",
      "Epoch 92/100\n",
      "2173/2173 - 2s - loss: 0.1734 - acc: 0.9512 - val_loss: 0.1607 - val_acc: 0.9587\n",
      "Epoch 93/100\n",
      "2173/2173 - 2s - loss: 0.1275 - acc: 0.9655 - val_loss: 0.0847 - val_acc: 0.9711\n",
      "Epoch 94/100\n",
      "2173/2173 - 2s - loss: 0.1341 - acc: 0.9563 - val_loss: 0.1471 - val_acc: 0.9587\n",
      "Epoch 95/100\n",
      "2173/2173 - 2s - loss: 0.1076 - acc: 0.9655 - val_loss: 0.0871 - val_acc: 0.9752\n"
     ]
    },
    {
     "name": "stdout",
     "output_type": "stream",
     "text": [
      "Epoch 96/100\n",
      "2173/2173 - 2s - loss: 0.1232 - acc: 0.9682 - val_loss: 0.2549 - val_acc: 0.9174\n",
      "Epoch 97/100\n",
      "2173/2173 - 2s - loss: 0.1233 - acc: 0.9659 - val_loss: 0.0573 - val_acc: 0.9835\n",
      "Epoch 98/100\n",
      "2173/2173 - 2s - loss: 0.1515 - acc: 0.9577 - val_loss: 0.3005 - val_acc: 0.9339\n",
      "Epoch 99/100\n",
      "2173/2173 - 2s - loss: 0.1601 - acc: 0.9590 - val_loss: 0.1652 - val_acc: 0.9587\n",
      "Epoch 100/100\n",
      "2173/2173 - 2s - loss: 0.1487 - acc: 0.9623 - val_loss: 0.1082 - val_acc: 0.9669\n",
      "Train on 2173 samples, validate on 242 samples\n",
      "Epoch 1/100\n",
      "2173/2173 - 3s - loss: 1.5192 - acc: 0.5076 - val_loss: 1.7007 - val_acc: 0.4504\n",
      "Epoch 2/100\n",
      "2173/2173 - 2s - loss: 1.3283 - acc: 0.5762 - val_loss: 2.5502 - val_acc: 0.3926\n",
      "Epoch 3/100\n",
      "2173/2173 - 2s - loss: 1.2956 - acc: 0.5858 - val_loss: 1.3756 - val_acc: 0.5207\n",
      "Epoch 4/100\n",
      "2173/2173 - 2s - loss: 1.2068 - acc: 0.6167 - val_loss: 2.1068 - val_acc: 0.5413\n",
      "Epoch 5/100\n",
      "2173/2173 - 2s - loss: 1.1416 - acc: 0.6300 - val_loss: 0.9976 - val_acc: 0.6364\n",
      "Epoch 6/100\n",
      "2173/2173 - 3s - loss: 1.0088 - acc: 0.6659 - val_loss: 1.1135 - val_acc: 0.6157\n",
      "Epoch 7/100\n",
      "2173/2173 - 2s - loss: 0.9377 - acc: 0.6710 - val_loss: 1.2089 - val_acc: 0.6074\n",
      "Epoch 8/100\n",
      "2173/2173 - 3s - loss: 0.8833 - acc: 0.7009 - val_loss: 0.9540 - val_acc: 0.6901\n",
      "Epoch 9/100\n",
      "2173/2173 - 2s - loss: 0.8530 - acc: 0.7115 - val_loss: 1.3276 - val_acc: 0.5950\n",
      "Epoch 10/100\n",
      "2173/2173 - 2s - loss: 0.8401 - acc: 0.7220 - val_loss: 0.8149 - val_acc: 0.6860\n",
      "Epoch 11/100\n",
      "2173/2173 - 2s - loss: 0.7562 - acc: 0.7409 - val_loss: 0.7629 - val_acc: 0.7562\n",
      "Epoch 12/100\n",
      "2173/2173 - 2s - loss: 0.7095 - acc: 0.7607 - val_loss: 0.6865 - val_acc: 0.7810\n",
      "Epoch 13/100\n",
      "2173/2173 - 2s - loss: 0.6860 - acc: 0.7796 - val_loss: 0.6739 - val_acc: 0.7893\n",
      "Epoch 14/100\n",
      "2173/2173 - 2s - loss: 0.6491 - acc: 0.7855 - val_loss: 0.6139 - val_acc: 0.8182\n",
      "Epoch 15/100\n",
      "2173/2173 - 2s - loss: 0.6063 - acc: 0.8067 - val_loss: 0.5583 - val_acc: 0.8388\n",
      "Epoch 16/100\n",
      "2173/2173 - 2s - loss: 0.5995 - acc: 0.8058 - val_loss: 0.5550 - val_acc: 0.8430\n",
      "Epoch 17/100\n",
      "2173/2173 - 2s - loss: 0.5575 - acc: 0.8228 - val_loss: 0.5936 - val_acc: 0.8140\n",
      "Epoch 18/100\n",
      "2173/2173 - 2s - loss: 0.4807 - acc: 0.8431 - val_loss: 0.4047 - val_acc: 0.8843\n",
      "Epoch 19/100\n",
      "2173/2173 - 2s - loss: 0.5200 - acc: 0.8325 - val_loss: 0.4982 - val_acc: 0.8388\n",
      "Epoch 20/100\n",
      "2173/2173 - 2s - loss: 0.4899 - acc: 0.8422 - val_loss: 0.5082 - val_acc: 0.8347\n",
      "Epoch 21/100\n",
      "2173/2173 - 2s - loss: 0.5001 - acc: 0.8394 - val_loss: 0.4233 - val_acc: 0.8678\n",
      "Epoch 22/100\n",
      "2173/2173 - 2s - loss: 0.5012 - acc: 0.8412 - val_loss: 0.3532 - val_acc: 0.8802\n",
      "Epoch 23/100\n",
      "2173/2173 - 2s - loss: 0.4147 - acc: 0.8642 - val_loss: 0.3004 - val_acc: 0.8967\n",
      "Epoch 24/100\n",
      "2173/2173 - 2s - loss: 0.3946 - acc: 0.8767 - val_loss: 0.7639 - val_acc: 0.7893\n",
      "Epoch 25/100\n",
      "2173/2173 - 2s - loss: 0.4128 - acc: 0.8606 - val_loss: 0.3287 - val_acc: 0.8802\n",
      "Epoch 26/100\n",
      "2173/2173 - 2s - loss: 0.3523 - acc: 0.8886 - val_loss: 0.3009 - val_acc: 0.8926\n",
      "Epoch 27/100\n",
      "2173/2173 - 2s - loss: 0.4385 - acc: 0.8619 - val_loss: 0.3092 - val_acc: 0.8884\n",
      "Epoch 28/100\n",
      "2173/2173 - 2s - loss: 0.3689 - acc: 0.8859 - val_loss: 0.2686 - val_acc: 0.9132\n",
      "Epoch 29/100\n",
      "2173/2173 - 2s - loss: 0.4174 - acc: 0.8721 - val_loss: 0.3943 - val_acc: 0.8554\n",
      "Epoch 30/100\n",
      "2173/2173 - 2s - loss: 0.3826 - acc: 0.8776 - val_loss: 0.3397 - val_acc: 0.8884\n",
      "Epoch 31/100\n",
      "2173/2173 - 2s - loss: 0.3402 - acc: 0.8992 - val_loss: 0.3696 - val_acc: 0.8678\n",
      "Epoch 32/100\n",
      "2173/2173 - 2s - loss: 0.3626 - acc: 0.8877 - val_loss: 0.3852 - val_acc: 0.8760\n",
      "Epoch 33/100\n",
      "2173/2173 - 2s - loss: 0.3188 - acc: 0.8978 - val_loss: 0.2600 - val_acc: 0.9132\n",
      "Epoch 34/100\n",
      "2173/2173 - 2s - loss: 0.3049 - acc: 0.9061 - val_loss: 0.2769 - val_acc: 0.8884\n",
      "Epoch 35/100\n",
      "2173/2173 - 2s - loss: 0.2820 - acc: 0.9047 - val_loss: 0.2195 - val_acc: 0.9132\n",
      "Epoch 36/100\n",
      "2173/2173 - 2s - loss: 0.3062 - acc: 0.9066 - val_loss: 0.2541 - val_acc: 0.9050\n",
      "Epoch 37/100\n",
      "2173/2173 - 2s - loss: 0.3045 - acc: 0.9084 - val_loss: 0.2663 - val_acc: 0.9215\n",
      "Epoch 38/100\n",
      "2173/2173 - 2s - loss: 0.3615 - acc: 0.8978 - val_loss: 0.7174 - val_acc: 0.8182\n",
      "Epoch 39/100\n",
      "2173/2173 - 2s - loss: 0.2914 - acc: 0.9093 - val_loss: 0.2657 - val_acc: 0.9298\n",
      "Epoch 40/100\n",
      "2173/2173 - 2s - loss: 0.2731 - acc: 0.9185 - val_loss: 0.2632 - val_acc: 0.9050\n",
      "Epoch 41/100\n",
      "2173/2173 - 2s - loss: 0.2758 - acc: 0.9103 - val_loss: 0.2236 - val_acc: 0.9215\n",
      "Epoch 42/100\n",
      "2173/2173 - 2s - loss: 0.2652 - acc: 0.9167 - val_loss: 0.2334 - val_acc: 0.9298\n",
      "Epoch 43/100\n",
      "2173/2173 - 2s - loss: 0.2502 - acc: 0.9135 - val_loss: 0.2294 - val_acc: 0.9215\n",
      "Epoch 44/100\n",
      "2173/2173 - 2s - loss: 0.2505 - acc: 0.9259 - val_loss: 0.2917 - val_acc: 0.9008\n",
      "Epoch 45/100\n",
      "2173/2173 - 2s - loss: 0.3076 - acc: 0.9190 - val_loss: 0.2731 - val_acc: 0.9215\n",
      "Epoch 46/100\n",
      "2173/2173 - 3s - loss: 0.2739 - acc: 0.9144 - val_loss: 0.1800 - val_acc: 0.9421\n",
      "Epoch 47/100\n",
      "2173/2173 - 2s - loss: 0.2309 - acc: 0.9245 - val_loss: 0.3725 - val_acc: 0.8884\n",
      "Epoch 48/100\n",
      "2173/2173 - 2s - loss: 0.2583 - acc: 0.9250 - val_loss: 0.2161 - val_acc: 0.9298\n",
      "Epoch 49/100\n",
      "2173/2173 - 2s - loss: 0.2382 - acc: 0.9222 - val_loss: 0.2708 - val_acc: 0.9256\n",
      "Epoch 50/100\n",
      "2173/2173 - 2s - loss: 0.2281 - acc: 0.9282 - val_loss: 0.1929 - val_acc: 0.9504\n",
      "Epoch 51/100\n",
      "2173/2173 - 2s - loss: 0.2105 - acc: 0.9324 - val_loss: 0.1902 - val_acc: 0.9380\n",
      "Epoch 52/100\n",
      "2173/2173 - 2s - loss: 0.2449 - acc: 0.9231 - val_loss: 0.1742 - val_acc: 0.9380\n",
      "Epoch 53/100\n",
      "2173/2173 - 2s - loss: 0.2027 - acc: 0.9324 - val_loss: 0.2175 - val_acc: 0.9256\n",
      "Epoch 54/100\n",
      "2173/2173 - 2s - loss: 0.1910 - acc: 0.9434 - val_loss: 0.3290 - val_acc: 0.9008\n",
      "Epoch 55/100\n",
      "2173/2173 - 2s - loss: 0.1836 - acc: 0.9420 - val_loss: 0.1777 - val_acc: 0.9298\n",
      "Epoch 56/100\n",
      "2173/2173 - 2s - loss: 0.2256 - acc: 0.9310 - val_loss: 0.1613 - val_acc: 0.9339\n",
      "Epoch 57/100\n",
      "2173/2173 - 2s - loss: 0.1959 - acc: 0.9425 - val_loss: 0.2836 - val_acc: 0.9256\n",
      "Epoch 58/100\n",
      "2173/2173 - 2s - loss: 0.2126 - acc: 0.9360 - val_loss: 0.1793 - val_acc: 0.9421\n",
      "Epoch 59/100\n",
      "2173/2173 - 3s - loss: 0.1898 - acc: 0.9397 - val_loss: 0.2060 - val_acc: 0.9504\n",
      "Epoch 60/100\n",
      "2173/2173 - 2s - loss: 0.1752 - acc: 0.9462 - val_loss: 0.2523 - val_acc: 0.9008\n",
      "Epoch 61/100\n",
      "2173/2173 - 2s - loss: 0.1799 - acc: 0.9457 - val_loss: 0.3280 - val_acc: 0.9132\n",
      "Epoch 62/100\n",
      "2173/2173 - 2s - loss: 0.2425 - acc: 0.9319 - val_loss: 0.2203 - val_acc: 0.9463\n",
      "Epoch 63/100\n",
      "2173/2173 - 2s - loss: 0.1724 - acc: 0.9383 - val_loss: 0.2065 - val_acc: 0.9463\n",
      "Epoch 64/100\n",
      "2173/2173 - 2s - loss: 0.1963 - acc: 0.9388 - val_loss: 0.5261 - val_acc: 0.8388\n",
      "Epoch 65/100\n",
      "2173/2173 - 2s - loss: 0.2459 - acc: 0.9310 - val_loss: 0.3650 - val_acc: 0.8760\n",
      "Epoch 66/100\n",
      "2173/2173 - 2s - loss: 0.1732 - acc: 0.9462 - val_loss: 0.2572 - val_acc: 0.9215\n",
      "Epoch 67/100\n",
      "2173/2173 - 3s - loss: 0.1958 - acc: 0.9393 - val_loss: 0.1606 - val_acc: 0.9587\n",
      "Epoch 68/100\n",
      "2173/2173 - 2s - loss: 0.2174 - acc: 0.9287 - val_loss: 0.1912 - val_acc: 0.9256\n",
      "Epoch 69/100\n",
      "2173/2173 - 2s - loss: 0.2118 - acc: 0.9301 - val_loss: 0.1450 - val_acc: 0.9628\n",
      "Epoch 70/100\n",
      "2173/2173 - 2s - loss: 0.1848 - acc: 0.9388 - val_loss: 0.1423 - val_acc: 0.9463\n",
      "Epoch 71/100\n",
      "2173/2173 - 2s - loss: 0.1509 - acc: 0.9503 - val_loss: 0.2930 - val_acc: 0.9008\n",
      "Epoch 72/100\n",
      "2173/2173 - 2s - loss: 0.2148 - acc: 0.9485 - val_loss: 0.1522 - val_acc: 0.9545\n",
      "Epoch 73/100\n",
      "2173/2173 - 2s - loss: 0.1348 - acc: 0.9581 - val_loss: 0.1636 - val_acc: 0.9463\n",
      "Epoch 74/100\n",
      "2173/2173 - 2s - loss: 0.1830 - acc: 0.9429 - val_loss: 0.2221 - val_acc: 0.9339\n",
      "Epoch 75/100\n",
      "2173/2173 - 2s - loss: 0.1441 - acc: 0.9540 - val_loss: 0.1411 - val_acc: 0.9504\n",
      "Epoch 76/100\n",
      "2173/2173 - 2s - loss: 0.1893 - acc: 0.9466 - val_loss: 0.2593 - val_acc: 0.9091\n",
      "Epoch 77/100\n",
      "2173/2173 - 2s - loss: 0.1565 - acc: 0.9572 - val_loss: 0.1486 - val_acc: 0.9504\n",
      "Epoch 78/100\n",
      "2173/2173 - 2s - loss: 0.1979 - acc: 0.9448 - val_loss: 0.1940 - val_acc: 0.9380\n",
      "Epoch 79/100\n",
      "2173/2173 - 3s - loss: 0.1531 - acc: 0.9503 - val_loss: 0.1342 - val_acc: 0.9545\n",
      "Epoch 80/100\n",
      "2173/2173 - 2s - loss: 0.1471 - acc: 0.9503 - val_loss: 0.1579 - val_acc: 0.9587\n",
      "Epoch 81/100\n",
      "2173/2173 - 2s - loss: 0.1613 - acc: 0.9517 - val_loss: 0.1898 - val_acc: 0.9339\n",
      "Epoch 82/100\n",
      "2173/2173 - 2s - loss: 0.1681 - acc: 0.9466 - val_loss: 0.1693 - val_acc: 0.9545\n"
     ]
    },
    {
     "name": "stdout",
     "output_type": "stream",
     "text": [
      "Epoch 83/100\n",
      "2173/2173 - 2s - loss: 0.1571 - acc: 0.9452 - val_loss: 0.1472 - val_acc: 0.9628\n",
      "Epoch 84/100\n",
      "2173/2173 - 2s - loss: 0.2003 - acc: 0.9351 - val_loss: 0.1993 - val_acc: 0.9545\n",
      "Epoch 85/100\n",
      "2173/2173 - 2s - loss: 0.1587 - acc: 0.9554 - val_loss: 0.1645 - val_acc: 0.9587\n",
      "Epoch 86/100\n",
      "2173/2173 - 2s - loss: 0.1410 - acc: 0.9590 - val_loss: 0.1689 - val_acc: 0.9504\n",
      "Epoch 87/100\n",
      "2173/2173 - 2s - loss: 0.1634 - acc: 0.9544 - val_loss: 0.1332 - val_acc: 0.9504\n",
      "Epoch 88/100\n",
      "2173/2173 - 2s - loss: 0.1382 - acc: 0.9655 - val_loss: 0.1244 - val_acc: 0.9545\n",
      "Epoch 89/100\n",
      "2173/2173 - 2s - loss: 0.1339 - acc: 0.9554 - val_loss: 0.2689 - val_acc: 0.9339\n",
      "Epoch 90/100\n",
      "2173/2173 - 2s - loss: 0.1157 - acc: 0.9682 - val_loss: 0.4562 - val_acc: 0.8678\n",
      "Epoch 91/100\n",
      "2173/2173 - 2s - loss: 0.1442 - acc: 0.9554 - val_loss: 0.1792 - val_acc: 0.9504\n",
      "Epoch 92/100\n",
      "2173/2173 - 2s - loss: 0.1716 - acc: 0.9563 - val_loss: 0.1794 - val_acc: 0.9504\n",
      "Epoch 93/100\n",
      "2173/2173 - 2s - loss: 0.1302 - acc: 0.9577 - val_loss: 0.1293 - val_acc: 0.9669\n",
      "Epoch 94/100\n",
      "2173/2173 - 3s - loss: 0.1339 - acc: 0.9636 - val_loss: 0.1320 - val_acc: 0.9504\n",
      "Epoch 95/100\n",
      "2173/2173 - 2s - loss: 0.1364 - acc: 0.9567 - val_loss: 0.1749 - val_acc: 0.9545\n",
      "Epoch 96/100\n",
      "2173/2173 - 2s - loss: 0.1409 - acc: 0.9627 - val_loss: 0.1370 - val_acc: 0.9669\n",
      "Epoch 97/100\n",
      "2173/2173 - 2s - loss: 0.1626 - acc: 0.9503 - val_loss: 0.1430 - val_acc: 0.9504\n",
      "Epoch 98/100\n",
      "2173/2173 - 2s - loss: 0.1272 - acc: 0.9618 - val_loss: 0.1695 - val_acc: 0.9545\n",
      "Epoch 99/100\n",
      "2173/2173 - 2s - loss: 0.1097 - acc: 0.9673 - val_loss: 0.1857 - val_acc: 0.9545\n",
      "Epoch 100/100\n",
      "2173/2173 - 2s - loss: 0.1383 - acc: 0.9586 - val_loss: 0.1670 - val_acc: 0.9463\n"
     ]
    }
   ],
   "source": [
    "from sklearn.metrics import precision_recall_fscore_support\n",
    "from sklearn.model_selection import StratifiedKFold\n",
    "from sklearn.metrics import accuracy_score, precision_score, recall_score, f1_score, roc_auc_score, roc_curve, auc, precision_recall_curve\n",
    "from sklearn.metrics import confusion_matrix\n",
    "\n",
    "all_base_precision = list()\n",
    "all_base_recall = list()\n",
    "all_macro_precision = list()\n",
    "all_macro_recall = list()\n",
    "all_f1 = list()\n",
    "all_macro_f1 = list()\n",
    "\n",
    "\n",
    "all_tpr = list()\n",
    "all_fpr = list()\n",
    "all_precision = list()\n",
    "all_recall = list()\n",
    "all_cm=list()\n",
    "all_accuracy = list()\n",
    "\n",
    "\n",
    "n_split=5\n",
    "n_classes=8\n",
    "\n",
    "y_all_labelled=[]\n",
    "for i in range(len(Y_all)):\n",
    "        y_all_labelled.append(np.argmax(Y_all[i]))\n",
    "        \n",
    "my_callbacks = [tf.keras.callbacks.EarlyStopping(monitor='val_loss',patience=20,verbose=1, mode='min',restore_best_weights=True)]\n",
    "       \n",
    "for train_index,test_index in StratifiedKFold(n_split).split(X_all,y_all_labelled):  \n",
    "    # use the index to generate training an testing sets\n",
    "    x_train,x_test=X_all[train_index],X_all[test_index]\n",
    "    y_train,y_test=Y_all[train_index],Y_all[test_index]\n",
    "    \n",
    "           \n",
    "    # create and fit the model\n",
    "    cv_model=build_current_model() # lr,dense,cnn\n",
    "    history = cv_model.fit(x_train, y_train,\n",
    "              batch_size=8,\n",
    "              epochs=100,\n",
    "              validation_split=0.1,\n",
    "              verbose=2,\n",
    "              callbacks=my_callbacks)\n",
    "    \n",
    "    #generate predictions\n",
    "    y_pred = cv_model.predict(x_test)\n",
    "    actual, predicted = generate_actual_predicted(y_pred, x_test, y_test)\n",
    "    \n",
    "    #calc metrics\n",
    "    curr_base_prec, curr_base_rec, curr_f1, _ = precision_recall_fscore_support(actual, predicted)\n",
    "    curr_macro_prec = precision_score(actual, predicted,average='macro')\n",
    "    curr_macro_rec = recall_score(actual, predicted,average='macro')\n",
    "    curr_macro_f1 = f1_score(actual, predicted,average='macro')\n",
    "    \n",
    "    \n",
    "    actual_labeled = list()\n",
    "    predict_labeled = list()\n",
    "    for x,y in zip(actual,predicted):\n",
    "        actual_labeled.append(getSpecies(x))\n",
    "        predict_labeled.append(getSpecies(y))\n",
    "        \n",
    "    labels = ['A.tridens','E.bottae','M.emarginatus','P.kuhli','R.muscatellum','R.nasutus', 'R.aegyptius', 'T.perforatus']\n",
    "    curr_cm=confusion_matrix(actual_labeled,predict_labeled,labels=labels)\n",
    "    \n",
    "    curr_fpr = [0] * n_classes\n",
    "    curr_tpr = [0] * n_classes\n",
    "    for i in range(n_classes):\n",
    "        curr_fpr[i], curr_tpr[i], _ = roc_curve(y_test[:,i], y_pred[:,i])\n",
    "        \n",
    "    curr_prec = [0] * n_classes\n",
    "    curr_rec = [0] * n_classes\n",
    "    for i in range(n_classes):\n",
    "        curr_prec[i], curr_rec[i], _ = precision_recall_curve(y_test[:,i], y_pred[:,i])\n",
    "\n",
    "        \n",
    "    curr_accuracy = accuracy_score(actual, predicted)\n",
    "    \n",
    "    #add to lists\n",
    "    all_base_precision.append(curr_base_prec)\n",
    "    all_base_recall.append(curr_base_rec)\n",
    "    all_macro_precision.append(curr_macro_prec)\n",
    "    all_macro_recall.append(curr_macro_rec)\n",
    "    \n",
    "    all_f1.append(curr_f1)\n",
    "    all_macro_f1.append(curr_macro_f1)\n",
    "    \n",
    "    all_accuracy.append(curr_accuracy)\n",
    "\n",
    "    \n",
    "    all_fpr.append(curr_fpr)\n",
    "    all_tpr.append(curr_tpr)\n",
    "    all_precision.append(curr_prec)\n",
    "    all_recall.append(curr_rec)\n",
    "    all_cm.append(curr_cm)\n",
    "    \n",
    "    \n",
    "    "
   ]
  },
  {
   "cell_type": "code",
   "execution_count": 37,
   "metadata": {},
   "outputs": [
    {
     "name": "stdout",
     "output_type": "stream",
     "text": [
      "precision mean by class [1.         0.92948474 0.93442356 0.96314074 0.97746463 0.96581465\n",
      " 0.8365733  0.95557934]\n",
      "precision sdev by class [0.         0.03505465 0.04465772 0.01207536 0.01024789 0.01876294\n",
      " 0.10162837 0.02168662]\n",
      "macro precision mean 0.9453101189689856\n",
      "macro precision sdev 0.016062126233565618\n",
      "recall mean [0.96       0.93466667 0.7687747  0.95661017 0.98738739 0.94046122\n",
      " 0.942      0.94058642]\n",
      "recall sdev [0.08       0.05663136 0.10241655 0.02488417 0.00695245 0.0141647\n",
      " 0.05662155 0.03248902]\n",
      "macro recall mean 0.9288108203486114\n",
      "macro recall sdev 0.020620516189094763\n",
      "f1 mean [0.97777778 0.93086375 0.84037464 0.95962918 0.98238739 0.95287842\n",
      " 0.88005879 0.94736354]\n",
      "f1 sdev [0.04444444 0.03452503 0.06969278 0.01269189 0.00798574 0.01354904\n",
      " 0.04430984 0.0121464 ]\n",
      "macro f1 mean 0.9339166863161154\n",
      "macro f1 sdev 0.017870182166983464\n",
      "accuracy mean 0.9615701843980979\n",
      "accuracy sdev 0.009488377139711799\n"
     ]
    }
   ],
   "source": [
    "print('precision mean by class', np.array(all_base_precision).mean(axis=0))\n",
    "print('precision sdev by class', np.array(all_base_precision).std(axis=0))\n",
    "\n",
    "print('macro precision mean', np.array(all_macro_precision).mean())\n",
    "print('macro precision sdev', np.array(all_macro_precision).std())\n",
    "\n",
    "\n",
    "print('recall mean', np.array(all_base_recall).mean(axis=0))\n",
    "print('recall sdev', np.array(all_base_recall).std(axis=0))\n",
    "\n",
    "print('macro recall mean', np.array(all_macro_recall).mean())\n",
    "print('macro recall sdev', np.array(all_macro_recall).std())\n",
    "\n",
    "print('f1 mean', np.array(all_f1).mean(axis=0))\n",
    "print('f1 sdev', np.array(all_f1).std(axis=0))\n",
    "\n",
    "print('macro f1 mean', np.array(all_macro_f1).mean())\n",
    "print('macro f1 sdev', np.array(all_macro_f1).std())\n",
    "\n",
    "print('accuracy mean', np.array(all_accuracy).mean())\n",
    "print('accuracy sdev', np.array(all_accuracy).std())\n",
    "\n"
   ]
  },
  {
   "cell_type": "code",
   "execution_count": 42,
   "metadata": {},
   "outputs": [
    {
     "data": {
      "image/png": "[encoded data removed]",
      "text/plain": [
       "<Figure size 432x288 with 1 Axes>"
      ]
     },
     "metadata": {
      "needs_background": "light"
     },
     "output_type": "display_data"
    },
    {
     "data": {
      "image/png": "[encoded data removed]",
      "text/plain": [
       "<Figure size 432x288 with 1 Axes>"
      ]
     },
     "metadata": {
      "needs_background": "light"
     },
     "output_type": "display_data"
    },
    {
     "data": {
      "image/png": "[encoded data removed]",
      "text/plain": [
       "<Figure size 432x288 with 1 Axes>"
      ]
     },
     "metadata": {
      "needs_background": "light"
     },
     "output_type": "display_data"
    },
    {
     "data": {
      "image/png": "[encoded data removed]",
      "text/plain": [
       "<Figure size 432x288 with 1 Axes>"
      ]
     },
     "metadata": {
      "needs_background": "light"
     },
     "output_type": "display_data"
    },
    {
     "data": {
      "image/png": "[encoded data removed]",
      "text/plain": [
       "<Figure size 432x288 with 1 Axes>"
      ]
     },
     "metadata": {
      "needs_background": "light"
     },
     "output_type": "display_data"
    }
   ],
   "source": [
    "# Plot all K-Fold ROC curves\n",
    "\n",
    "for i in range(n_split):\n",
    "    _, axs = plt.subplots(ncols=1)\n",
    "    axs.set(xlabel='False Positive Rate',ylabel='True Positive Rate', title='ROC Curve K-Fold#'+str(i+1))\n",
    "    for j in range(n_classes):\n",
    "        auc_val = auc(all_fpr[i][j], all_tpr[i][j])\n",
    "        auc_val = np.around(auc_val,4)\n",
    "        sns.lineplot(x=all_fpr[i][j],y=all_tpr[i][j],ax=axs, label='Class '+ getSpecies(j) +' (area = ' + str(auc_val) + ')', legend='brief')\n",
    "        "
   ]
  },
  {
   "cell_type": "code",
   "execution_count": 43,
   "metadata": {},
   "outputs": [
    {
     "data": {
      "image/png": "[encoded data removed]",
      "text/plain": [
       "<Figure size 432x288 with 1 Axes>"
      ]
     },
     "metadata": {
      "needs_background": "light"
     },
     "output_type": "display_data"
    },
    {
     "data": {
      "image/png": "[encoded data removed]",
      "text/plain": [
       "<Figure size 432x288 with 1 Axes>"
      ]
     },
     "metadata": {
      "needs_background": "light"
     },
     "output_type": "display_data"
    },
    {
     "data": {
      "image/png": "[encoded data removed]",
      "text/plain": [
       "<Figure size 432x288 with 1 Axes>"
      ]
     },
     "metadata": {
      "needs_background": "light"
     },
     "output_type": "display_data"
    },
    {
     "data": {
      "image/png": "[encoded data removed]",
      "text/plain": [
       "<Figure size 432x288 with 1 Axes>"
      ]
     },
     "metadata": {
      "needs_background": "light"
     },
     "output_type": "display_data"
    },
    {
     "data": {
      "image/png": "[encoded data removed]",
      "text/plain": [
       "<Figure size 432x288 with 1 Axes>"
      ]
     },
     "metadata": {
      "needs_background": "light"
     },
     "output_type": "display_data"
    }
   ],
   "source": [
    "#Plot all K-Fold Precision/Recall curves\n",
    "for i in range(n_split):\n",
    "    _, axs = plt.subplots(ncols=1)\n",
    "    axs.set(xlabel='Recall',ylabel='Precision', title='Precision/Recall Curve K-Fold#'+str(i+1))\n",
    "    for j in range(n_classes):\n",
    "        sns.lineplot(x=all_recall[i][j],y=all_precision[i][j],ax=axs, label='Class '+ getSpecies(j), legend='brief')"
   ]
  },
  {
   "cell_type": "code",
   "execution_count": 44,
   "metadata": {},
   "outputs": [
    {
     "name": "stdout",
     "output_type": "stream",
     "text": [
      "Confusion Matrix K-Fold #1\n",
      "\n",
      "[[  5   0   0   0   0   0   0   0]\n",
      " [  0  24   0   0   0   0   1   0]\n",
      " [  0   1  14   0   0   0   6   1]\n",
      " [  0   0   0  58   0   1   0   0]\n",
      " [  0   0   2   1 329   1   0   0]\n",
      " [  0   0   0   1   0  51   2   0]\n",
      " [  0   0   0   1   0   0  24   0]\n",
      " [  0   0   0   0   8   0   1  72]]\n",
      "\n",
      "\n",
      "Confusion Matrix K-Fold #2\n",
      "\n",
      "[[  5   0   0   0   0   0   0   0]\n",
      " [  0  23   0   0   1   1   0   0]\n",
      " [  0   0  16   1   3   0   3   0]\n",
      " [  0   0   0  55   2   2   0   1]\n",
      " [  0   3   0   0 325   0   4   1]\n",
      " [  0   0   0   1   3  49   0   0]\n",
      " [  0   0   0   0   1   0  23   0]\n",
      " [  0   0   0   0   4   0   0  77]]\n",
      "\n",
      "\n",
      "Confusion Matrix K-Fold #3\n",
      "\n",
      "[[  4   0   0   0   0   0   1   0]\n",
      " [  0  20   0   0   3   1   0   0]\n",
      " [  0   1  17   1   0   0   1   3]\n",
      " [  0   0   0  57   1   1   0   1]\n",
      " [  0   0   0   0 332   0   0   1]\n",
      " [  0   0   0   2   0  52   0   0]\n",
      " [  0   0   0   0   0   0  24   0]\n",
      " [  0   0   2   0   3   0   1  75]]\n",
      "\n",
      "\n",
      "Confusion Matrix K-Fold #4\n",
      "\n",
      "[[  5   0   0   0   0   0   0   0]\n",
      " [  0  25   0   0   0   0   0   0]\n",
      " [  0   0  20   0   0   0   0   2]\n",
      " [  0   0   0  59   1   0   0   0]\n",
      " [  0   0   0   0 330   0   0   3]\n",
      " [  0   1   0   1   1  51   0   0]\n",
      " [  0   0   1   1   1   0  20   1]\n",
      " [  0   0   0   0   1   0   0  79]]\n",
      "\n",
      "\n",
      "Confusion Matrix K-Fold #5\n",
      "\n",
      "[[  5   0   0   0   0   0   0   0]\n",
      " [  0  24   0   0   0   0   0   1]\n",
      " [  0   0  19   0   1   0   2   0]\n",
      " [  0   0   0  57   1   2   0   0]\n",
      " [  0   0   1   0 328   0   1   3]\n",
      " [  0   3   0   1   0  50   0   0]\n",
      " [  0   0   0   0   1   0  23   0]\n",
      " [  0   0   0   0   2   0   2  76]]\n",
      "\n",
      "\n"
     ]
    },
    {
     "data": {
      "image/png": "[encoded data removed]",
      "text/plain": [
       "<Figure size 432x288 with 2 Axes>"
      ]
     },
     "metadata": {
      "needs_background": "light"
     },
     "output_type": "display_data"
    },
    {
     "data": {
      "image/png": "[encoded data removed]",
      "text/plain": [
       "<Figure size 432x288 with 2 Axes>"
      ]
     },
     "metadata": {
      "needs_background": "light"
     },
     "output_type": "display_data"
    },
    {
     "data": {
      "image/png": "[encoded data removed]",
      "text/plain": [
       "<Figure size 432x288 with 2 Axes>"
      ]
     },
     "metadata": {
      "needs_background": "light"
     },
     "output_type": "display_data"
    },
    {
     "data": {
      "image/png": "[encoded data removed]",
      "text/plain": [
       "<Figure size 432x288 with 2 Axes>"
      ]
     },
     "metadata": {
      "needs_background": "light"
     },
     "output_type": "display_data"
    },
    {
     "data": {
      "image/png": "[encoded data removed]",
      "text/plain": [
       "<Figure size 432x288 with 2 Axes>"
      ]
     },
     "metadata": {
      "needs_background": "light"
     },
     "output_type": "display_data"
    }
   ],
   "source": [
    "## Plot all K-Fold confusion matrices\n",
    "import numpy as np\n",
    "import matplotlib.pylab as pl\n",
    "import matplotlib.gridspec as gridspec\n",
    "from matplotlib import pyplot as plt\n",
    "\n",
    "# Create 1X 5 sub plots\n",
    "# gs = gridspec.GridSpec(1,n_split)\n",
    "figs=[]\n",
    "for i in range(n_split):\n",
    "    figs.append(plt.figure())\n",
    "    \n",
    "for i in range(n_split):\n",
    "    print('Confusion Matrix K-Fold #'+ str(i+1)+\"\\n\")\n",
    "    print(all_cm[i])\n",
    "    print(\"\\n\")\n",
    "    \n",
    "    ax=figs[i].add_subplot()\n",
    "    sns.heatmap(all_cm[i], annot=True, ax = ax); #annot=True to annotate cells\n",
    "\n",
    "    \n",
    "    # labels, title and ticks\n",
    "    ax.set_xlabel('Predicted labels');ax.set_ylabel('True labels'); \n",
    "    ax.set_title('Confusion Matrix K-Fold #'+ str(i+1)); \n",
    "    ax.xaxis.set_ticklabels(labels,rotation=45); ax.yaxis.set_ticklabels(labels,rotation=45);"
   ]
  },
  {
   "cell_type": "code",
   "execution_count": 45,
   "metadata": {},
   "outputs": [
    {
     "name": "stdout",
     "output_type": "stream",
     "text": [
      "sum of all confuion matrices\n",
      " [[  24    0    0    0    0    0    1    0]\n",
      " [   0  116    0    0    4    2    1    1]\n",
      " [   0    2   86    2    4    0   12    6]\n",
      " [   0    0    0  286    5    6    0    2]\n",
      " [   0    3    3    1 1644    1    5    8]\n",
      " [   0    4    0    6    4  253    2    0]\n",
      " [   0    0    1    2    3    0  114    1]\n",
      " [   0    0    2    0   18    0    4  379]]\n",
      "\n",
      "average of all confuion matrices\n",
      " [[  4   0   0   0   0   0   0   0]\n",
      " [  0  23   0   0   0   0   0   0]\n",
      " [  0   0  17   0   0   0   2   1]\n",
      " [  0   0   0  57   1   1   0   0]\n",
      " [  0   0   0   0 328   0   1   1]\n",
      " [  0   0   0   1   0  50   0   0]\n",
      " [  0   0   0   0   0   0  22   0]\n",
      " [  0   0   0   0   3   0   0  75]]\n"
     ]
    },
    {
     "data": {
      "image/png": "[encoded data removed]",
      "text/plain": [
       "<Figure size 432x288 with 2 Axes>"
      ]
     },
     "metadata": {
      "needs_background": "light"
     },
     "output_type": "display_data"
    },
    {
     "data": {
      "image/png": "[encoded data removed]",
      "text/plain": [
       "<Figure size 432x288 with 2 Axes>"
      ]
     },
     "metadata": {
      "needs_background": "light"
     },
     "output_type": "display_data"
    }
   ],
   "source": [
    "## plot macro cm\n",
    "\n",
    "sum_all_cm=np.zeros((n_classes,n_classes)).astype('int64')\n",
    "for i in range(n_split):\n",
    "    sum_all_cm+=all_cm[i]\n",
    "    \n",
    "    \n",
    "#plot \n",
    "figs=[]\n",
    "for i in range(2):\n",
    "    figs.append(plt.figure())\n",
    "       \n",
    "print(\"sum of all confuion matrices\\n\",sum_all_cm)\n",
    "ax=figs[0].add_subplot()\n",
    "sns.heatmap(sum_all_cm, annot=True, ax = ax);\n",
    "\n",
    "avg_all_cm=np.divide(sum_all_cm,n_split).astype('int64')\n",
    "print(\"\\naverage of all confuion matrices\\n\",avg_all_cm)\n",
    "ax=figs[1].add_subplot()\n",
    "sns.heatmap(avg_all_cm, annot=True, ax = ax);"
   ]
  },
  {
   "cell_type": "code",
   "execution_count": 46,
   "metadata": {},
   "outputs": [
    {
     "name": "stdout",
     "output_type": "stream",
     "text": [
      "[[0.96 0.   0.   0.   0.   0.   0.04 0.  ]\n",
      " [0.   0.94 0.   0.   0.03 0.02 0.01 0.01]\n",
      " [0.   0.02 0.77 0.02 0.04 0.   0.11 0.05]\n",
      " [0.   0.   0.   0.96 0.02 0.02 0.   0.01]\n",
      " [0.   0.   0.   0.   0.99 0.   0.   0.  ]\n",
      " [0.   0.01 0.   0.02 0.01 0.94 0.01 0.  ]\n",
      " [0.   0.   0.01 0.02 0.02 0.   0.94 0.01]\n",
      " [0.   0.   0.   0.   0.04 0.   0.01 0.94]]\n"
     ]
    },
    {
     "data": {
      "image/png": "[encoded data removed]",
      "text/plain": [
       "<Figure size 432x288 with 2 Axes>"
      ]
     },
     "metadata": {
      "needs_background": "light"
     },
     "output_type": "display_data"
    }
   ],
   "source": [
    "import numpy as np\n",
    "import matplotlib.pyplot as plt\n",
    "import seaborn as sns\n",
    "\n",
    "\n",
    "cm= sum_all_cm/ sum_all_cm.astype(np.float).sum(axis=1,keepdims = True)\n",
    "cm = (np.around(cm,2))\n",
    "print(cm)\n",
    "\n",
    "\n",
    "labels = ['A.tridens','E.bottae','M.emarginatus','P.kuhli','R.muscatellum','R.nasutus', 'R.aegyptius', 'T.perforatus']\n",
    "\n",
    "\n",
    "ax= plt.subplot()\n",
    "sns.heatmap(cm, annot=True, ax = ax); #annot=True to annotate cells\n",
    "\n",
    "# labels, title and ticks\n",
    "ax.set_xlabel('Predicted labels');ax.set_ylabel('True labels'); \n",
    "ax.set_title('Confusion Matrix'); \n",
    "ax.xaxis.set_ticklabels(labels,rotation=45); ax.yaxis.set_ticklabels(labels,rotation=45);"
   ]
  },
  {
   "cell_type": "markdown",
   "metadata": {},
   "source": [
    "<h2>Storing/Loading history and model to file</h2>"
   ]
  },
  {
   "cell_type": "code",
   "execution_count": 23,
   "metadata": {},
   "outputs": [],
   "source": [
    "#Store History\n",
    "hist_df = pd.DataFrame(history.history) \n",
    "hist_json_file = 'Model2-P-bats.json' \n",
    "with open(hist_json_file, mode='w') as f:\n",
    "    hist_df.to_json(f)"
   ]
  },
  {
   "cell_type": "code",
   "execution_count": 25,
   "metadata": {},
   "outputs": [],
   "source": [
    "#Load History \n",
    "history_info = pd.read_json('Model2-P-bats.json')"
   ]
  },
  {
   "cell_type": "code",
   "execution_count": 26,
   "metadata": {},
   "outputs": [],
   "source": [
    "##Save Model\n",
    "model.save('Model2-P-bats_trained.model') #Save the model"
   ]
  },
  {
   "cell_type": "code",
   "execution_count": 27,
   "metadata": {},
   "outputs": [
    {
     "name": "stdout",
     "output_type": "stream",
     "text": [
      "WARNING:tensorflow:From /home/team3/anaconda3/envs/gpu/lib/python3.7/site-packages/tensorflow/python/ops/init_ops.py:97: calling GlorotUniform.__init__ (from tensorflow.python.ops.init_ops) with dtype is deprecated and will be removed in a future version.\n",
      "Instructions for updating:\n",
      "Call initializer instance with the dtype argument instead of passing it to the constructor\n",
      "WARNING:tensorflow:From /home/team3/anaconda3/envs/gpu/lib/python3.7/site-packages/tensorflow/python/ops/init_ops.py:97: calling Zeros.__init__ (from tensorflow.python.ops.init_ops) with dtype is deprecated and will be removed in a future version.\n",
      "Instructions for updating:\n",
      "Call initializer instance with the dtype argument instead of passing it to the constructor\n",
      "WARNING:tensorflow:From /home/team3/anaconda3/envs/gpu/lib/python3.7/site-packages/tensorflow/python/ops/init_ops.py:97: calling Ones.__init__ (from tensorflow.python.ops.init_ops) with dtype is deprecated and will be removed in a future version.\n",
      "Instructions for updating:\n",
      "Call initializer instance with the dtype argument instead of passing it to the constructor\n"
     ]
    }
   ],
   "source": [
    "## Load Model\n",
    "model = tf.keras.models.load_model('Model2V2-bats_trained.model') #Re load model"
   ]
  }
 ],
 "metadata": {
  "kernelspec": {
   "display_name": "Python 3",
   "language": "python",
   "name": "python3"
  },
  "language_info": {
   "codemirror_mode": {
    "name": "ipython",
    "version": 3
   },
   "file_extension": ".py",
   "mimetype": "text/x-python",
   "name": "python",
   "nbconvert_exporter": "python",
   "pygments_lexer": "ipython3",
   "version": "3.7.7"
  }
 },
 "nbformat": 4,
 "nbformat_minor": 4
}
