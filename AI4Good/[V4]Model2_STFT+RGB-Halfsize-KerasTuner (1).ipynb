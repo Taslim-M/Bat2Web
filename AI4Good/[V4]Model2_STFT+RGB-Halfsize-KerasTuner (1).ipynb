{
 "cells": [
  {
   "cell_type": "code",
   "execution_count": 2,
   "metadata": {
    "scrolled": true
   },
   "outputs": [
    {
     "name": "stderr",
     "output_type": "stream",
     "text": [
      "/home/team3/anaconda3/envs/gpu/lib/python3.7/site-packages/tensorflow/python/framework/dtypes.py:516: FutureWarning: Passing (type, 1) or '1type' as a synonym of type is deprecated; in a future version of numpy, it will be understood as (type, (1,)) / '(1,)type'.\n",
      "  _np_qint8 = np.dtype([(\"qint8\", np.int8, 1)])\n",
      "/home/team3/anaconda3/envs/gpu/lib/python3.7/site-packages/tensorflow/python/framework/dtypes.py:517: FutureWarning: Passing (type, 1) or '1type' as a synonym of type is deprecated; in a future version of numpy, it will be understood as (type, (1,)) / '(1,)type'.\n",
      "  _np_quint8 = np.dtype([(\"quint8\", np.uint8, 1)])\n",
      "/home/team3/anaconda3/envs/gpu/lib/python3.7/site-packages/tensorflow/python/framework/dtypes.py:518: FutureWarning: Passing (type, 1) or '1type' as a synonym of type is deprecated; in a future version of numpy, it will be understood as (type, (1,)) / '(1,)type'.\n",
      "  _np_qint16 = np.dtype([(\"qint16\", np.int16, 1)])\n",
      "/home/team3/anaconda3/envs/gpu/lib/python3.7/site-packages/tensorflow/python/framework/dtypes.py:519: FutureWarning: Passing (type, 1) or '1type' as a synonym of type is deprecated; in a future version of numpy, it will be understood as (type, (1,)) / '(1,)type'.\n",
      "  _np_quint16 = np.dtype([(\"quint16\", np.uint16, 1)])\n",
      "/home/team3/anaconda3/envs/gpu/lib/python3.7/site-packages/tensorflow/python/framework/dtypes.py:520: FutureWarning: Passing (type, 1) or '1type' as a synonym of type is deprecated; in a future version of numpy, it will be understood as (type, (1,)) / '(1,)type'.\n",
      "  _np_qint32 = np.dtype([(\"qint32\", np.int32, 1)])\n",
      "/home/team3/anaconda3/envs/gpu/lib/python3.7/site-packages/tensorflow/python/framework/dtypes.py:525: FutureWarning: Passing (type, 1) or '1type' as a synonym of type is deprecated; in a future version of numpy, it will be understood as (type, (1,)) / '(1,)type'.\n",
      "  np_resource = np.dtype([(\"resource\", np.ubyte, 1)])\n",
      "/home/team3/anaconda3/envs/gpu/lib/python3.7/site-packages/tensorboard/compat/tensorflow_stub/dtypes.py:541: FutureWarning: Passing (type, 1) or '1type' as a synonym of type is deprecated; in a future version of numpy, it will be understood as (type, (1,)) / '(1,)type'.\n",
      "  _np_qint8 = np.dtype([(\"qint8\", np.int8, 1)])\n",
      "/home/team3/anaconda3/envs/gpu/lib/python3.7/site-packages/tensorboard/compat/tensorflow_stub/dtypes.py:542: FutureWarning: Passing (type, 1) or '1type' as a synonym of type is deprecated; in a future version of numpy, it will be understood as (type, (1,)) / '(1,)type'.\n",
      "  _np_quint8 = np.dtype([(\"quint8\", np.uint8, 1)])\n",
      "/home/team3/anaconda3/envs/gpu/lib/python3.7/site-packages/tensorboard/compat/tensorflow_stub/dtypes.py:543: FutureWarning: Passing (type, 1) or '1type' as a synonym of type is deprecated; in a future version of numpy, it will be understood as (type, (1,)) / '(1,)type'.\n",
      "  _np_qint16 = np.dtype([(\"qint16\", np.int16, 1)])\n",
      "/home/team3/anaconda3/envs/gpu/lib/python3.7/site-packages/tensorboard/compat/tensorflow_stub/dtypes.py:544: FutureWarning: Passing (type, 1) or '1type' as a synonym of type is deprecated; in a future version of numpy, it will be understood as (type, (1,)) / '(1,)type'.\n",
      "  _np_quint16 = np.dtype([(\"quint16\", np.uint16, 1)])\n",
      "/home/team3/anaconda3/envs/gpu/lib/python3.7/site-packages/tensorboard/compat/tensorflow_stub/dtypes.py:545: FutureWarning: Passing (type, 1) or '1type' as a synonym of type is deprecated; in a future version of numpy, it will be understood as (type, (1,)) / '(1,)type'.\n",
      "  _np_qint32 = np.dtype([(\"qint32\", np.int32, 1)])\n",
      "/home/team3/anaconda3/envs/gpu/lib/python3.7/site-packages/tensorboard/compat/tensorflow_stub/dtypes.py:550: FutureWarning: Passing (type, 1) or '1type' as a synonym of type is deprecated; in a future version of numpy, it will be understood as (type, (1,)) / '(1,)type'.\n",
      "  np_resource = np.dtype([(\"resource\", np.ubyte, 1)])\n"
     ]
    }
   ],
   "source": [
    "import tensorflow as tf\n",
    "config = tf.ConfigProto()\n",
    "config.gpu_options.allow_growth = True\n",
    "session = tf.Session(config=config)"
   ]
  },
  {
   "cell_type": "code",
   "execution_count": 3,
   "metadata": {},
   "outputs": [
    {
     "name": "stderr",
     "output_type": "stream",
     "text": [
      "Using TensorFlow backend.\n"
     ]
    }
   ],
   "source": [
    "import keras\n",
    "import pandas as pd\n",
    "import tensorflow as tf\n",
    "\n",
    "import numpy as np\n",
    "# from keras.models import Sequential, Model\n",
    "# from keras.layers import Dense, Dropout, Activation, Flatten, Convolution2D, MaxPooling2D, GlobalAveragePooling2D\n",
    "from keras.utils import np_utils\n",
    "\n",
    "from tensorflow.keras.models import Sequential, Model\n",
    "from tensorflow.keras.layers import Dense, Dropout, Activation, Flatten, Convolution2D, MaxPooling2D, GlobalAveragePooling2D, Input,AveragePooling2D, BatchNormalization, LeakyReLU, SpatialDropout2D\n",
    "\n",
    "# from keras.applications import MobileNet\n",
    "# from keras.optimizers import Adam\n",
    "from tensorflow.keras.applications import MobileNetV2, InceptionV3\n",
    "from tensorflow.keras.optimizers import Adam\n",
    "\n",
    "from matplotlib import pyplot as plt\n",
    "import os\n",
    "from sklearn.model_selection import train_test_split\n",
    "\n",
    "import seaborn as sns\n",
    "from sklearn.metrics import recall_score\n",
    "from sklearn.metrics import precision_score\n",
    "from sklearn.model_selection import KFold\n",
    "\n",
    "from collections import defaultdict,Counter\n",
    "from imblearn.over_sampling import SMOTE\n",
    "from PIL import Image\n",
    "\n",
    "from kerastuner import HyperModel"
   ]
  },
  {
   "cell_type": "markdown",
   "metadata": {},
   "source": [
    "<h2>Data Loading and Preparation</h2>"
   ]
  },
  {
   "cell_type": "code",
   "execution_count": 4,
   "metadata": {},
   "outputs": [],
   "source": [
    "def getSpeciesCode(x):\n",
    "    part = x.split('_')\n",
    "    if part[0] == 'ASETRI':\n",
    "        return 0\n",
    "    elif part[0] == 'EPTBOT':\n",
    "        return 1\n",
    "    elif part[0] == 'MYOEMA':\n",
    "        return 2\n",
    "    elif part[0] == 'PIPKUH':\n",
    "        return 3\n",
    "    elif part[0] == 'RHIMUS':\n",
    "        return 4\n",
    "    elif part[0] == 'RHYNAS':\n",
    "        return 5\n",
    "    elif part[0] == 'ROUAEG':\n",
    "        return 6\n",
    "    elif part[0] == 'TAPPER':\n",
    "        return 7\n",
    "    else:\n",
    "        return 'Unknown'\n",
    "    \n",
    "def getSpecies(x):\n",
    "    if x == 0:\n",
    "        return 'A.tridens'\n",
    "    elif x == 1:\n",
    "        return 'E.bottae'\n",
    "    elif x == 2:\n",
    "        return 'M.emarginatus'\n",
    "    elif x == 3:\n",
    "        return 'P.kuhli'\n",
    "    elif x == 4:\n",
    "        return 'R.muscatellum'\n",
    "    elif x == 5:\n",
    "        return 'R.nasutus'\n",
    "    elif x == 6:\n",
    "        return 'R.aegyptius'\n",
    "    elif x == 7:\n",
    "        return 'T.perforatus'\n",
    "    else:\n",
    "        return 'Unknown'\n",
    "    \n",
    "    \n",
    "def generate_actual_predicted(Y_pred, X_test, Y_test): \n",
    "    predicted = list()\n",
    "    for i in range(len(Y_pred)):\n",
    "        predicted.append(np.argmax(Y_pred[i]))\n",
    "        \n",
    "    actual = list()\n",
    "    for i in range(len(Y_test)):\n",
    "        actual.append(np.argmax(Y_test[i]))\n",
    "        \n",
    "    return actual, predicted"
   ]
  },
  {
   "cell_type": "code",
   "execution_count": 5,
   "metadata": {
    "scrolled": true
   },
   "outputs": [
    {
     "data": {
      "text/plain": [
       "RHIMUS    1665\n",
       "TAPPER     403\n",
       "PIPKUH     299\n",
       "RHYNAS     269\n",
       "EPTBOT     124\n",
       "ROUAEG     121\n",
       "MYOEMA     112\n",
       "ASETRI      25\n",
       "Name: Species, dtype: int64"
      ]
     },
     "execution_count": 5,
     "metadata": {},
     "output_type": "execute_result"
    }
   ],
   "source": [
    "image_folder_path = '../data/SpectogramInitial'\n",
    "file_paths = [f for f in os.listdir(image_folder_path)]\n",
    "species = []\n",
    "for file_name in file_paths:\n",
    "    sp = file_name.split('_')\n",
    "    species.append(sp[0])\n",
    "\n",
    "df = pd.DataFrame(species, columns=['Species'])\n",
    "df['Species'].value_counts()"
   ]
  },
  {
   "cell_type": "code",
   "execution_count": 6,
   "metadata": {
    "scrolled": true
   },
   "outputs": [],
   "source": [
    "X_all = []\n",
    "Y_all = []\n",
    "\n",
    "image_folder_path = '../data/STFT'\n",
    "file_paths = [f for f in os.listdir(image_folder_path)]\n",
    "\n",
    "for file_name in file_paths:\n",
    "    spectrogram = Image.open(image_folder_path + '/' + file_name)\n",
    "    spectrogram = spectrogram.convert('RGB')\n",
    "    spectrogram = spectrogram.resize((170, 112)) \n",
    "    spectrogram = np.array(spectrogram)\n",
    "    #spectrogram = np.expand_dims(spectrogram, axis=2) \n",
    "    X_all.append(spectrogram)\n",
    "    Y_all.append(getSpeciesCode(file_name))\n"
   ]
  },
  {
   "cell_type": "code",
   "execution_count": 7,
   "metadata": {
    "scrolled": false
   },
   "outputs": [
    {
     "name": "stdout",
     "output_type": "stream",
     "text": [
      "(3018, 112, 170, 3)\n",
      "(3018,)\n"
     ]
    }
   ],
   "source": [
    "X_all = np.array(X_all)\n",
    "Y_all = np.array(Y_all)\n",
    "\n",
    "print(X_all.shape)\n",
    "print(Y_all.shape)\n",
    "\n",
    "X_all = X_all.astype('float32')\n",
    "X_all /= 255\n",
    "\n",
    "Y_all = np_utils.to_categorical(Y_all, num_classes=8) \n"
   ]
  },
  {
   "cell_type": "code",
   "execution_count": 8,
   "metadata": {},
   "outputs": [],
   "source": [
    "# train /test= 80/20% split\n",
    "# Data is stratified\n",
    "X_train, X_test, Y_train, Y_test = train_test_split(X_all, Y_all, test_size=0.2, random_state = 245, stratify=Y_all)\n"
   ]
  },
  {
   "cell_type": "markdown",
   "metadata": {},
   "source": [
    "<h2>Keras Tuner</h2>"
   ]
  },
  {
   "cell_type": "code",
   "execution_count": 28,
   "metadata": {},
   "outputs": [],
   "source": [
    "## vary the #of filters in each conv layer\n",
    "class CNNHyperModel(HyperModel):\n",
    "    def __init__(self, input_shape, num_classes):\n",
    "        self.input_shape = input_shape\n",
    "        self.num_classes = num_classes\n",
    "\n",
    "    def build(self, hp):        \n",
    "        inp = Input(shape=self.input_shape)\n",
    "        c1 = Convolution2D(filters=hp.Choice(\"Conv1\", values=[120,128,256,512]) ,kernel_size=(7,7),strides=(2,2),padding='same')(inp)\n",
    "        bt = BatchNormalization()(c1)\n",
    "        bt = Activation('relu')(bt)\n",
    "        mpool = MaxPooling2D(pool_size=(2,2),strides=2,padding='same')(bt)\n",
    "        mpool = Dropout(0.2)(mpool)\n",
    "\n",
    "\n",
    "        c2 = Convolution2D(filters=hp.Choice(\"Conv2\", values=[120,128,256,512]),kernel_size=(5,5),strides=(2,2),padding='same')(mpool)\n",
    "        bt = BatchNormalization()(c2)\n",
    "        bt = Activation('relu')(bt)\n",
    "\n",
    "        mpool = AveragePooling2D(pool_size=(2,2),strides=2,padding='same')(bt)\n",
    "        mpool = Dropout(0.3)(mpool)\n",
    "\n",
    "        c2 = Convolution2D(filters=hp.Choice(\"Conv3\", values=[120,128,256,512]),kernel_size=(3,3),strides=(1,1),padding='same')(mpool)\n",
    "        bt = BatchNormalization()(c2)\n",
    "        bt = Activation('relu')(bt)\n",
    "\n",
    "        mpool = AveragePooling2D(pool_size=(2,2),strides=2,padding='same')(bt)\n",
    "        mpool = Dropout(rate=0.3)(mpool)\n",
    "\n",
    "        c3 = Convolution2D(filters=hp.Choice(\"Conv4\", values=[120,128,256,512]),kernel_size=(3,3),strides=(1,1),padding='same')(mpool)\n",
    "        bt = BatchNormalization()(c3)\n",
    "        bt = Activation('relu')(bt)\n",
    "\n",
    "        mpool = AveragePooling2D(pool_size=(2,2),strides=2,padding='same')(bt)\n",
    "        mpool = Dropout(rate=0.4)(mpool)\n",
    "\n",
    "        f = Flatten()(mpool)\n",
    "\n",
    "        x_dense = Dense(512)(f)\n",
    "        bt = BatchNormalization()(x_dense)\n",
    "        bt = Activation('relu')(bt)\n",
    "        bt = Dropout(0.4)(bt)\n",
    "\n",
    "\n",
    "        x_dense = Dense(256)(bt)\n",
    "        bt = BatchNormalization()(x_dense)\n",
    "        bt = Activation('relu')(bt)\n",
    "        bt = Dropout(0.3)(bt)\n",
    "\n",
    "        x_dense = Dense(128)(bt)\n",
    "        bt = BatchNormalization()(x_dense)\n",
    "        bt = Activation('relu')(bt)\n",
    "        bt = Dropout(0.2)(bt)\n",
    "\n",
    "        x_out = Dense(8, name='output', activation='softmax')(bt)\n",
    "        model = Model(inputs=inp, outputs=x_out)\n",
    "        model.compile(\n",
    "            optimizer=Adam(lr=0.003),\n",
    "            loss='categorical_crossentropy',\n",
    "            metrics=['accuracy']\n",
    "        )\n",
    "        return model\n"
   ]
  },
  {
   "cell_type": "code",
   "execution_count": 29,
   "metadata": {
    "scrolled": false
   },
   "outputs": [],
   "source": [
    "from kerastuner.tuners import RandomSearch\n",
    "\n",
    "hypermodel = CNNHyperModel(input_shape=(112,170,3), num_classes=8)\n",
    "\n",
    "tuner = RandomSearch(\n",
    "    hypermodel,\n",
    "    objective='val_acc',\n",
    "    seed=1,\n",
    "    max_trials=5,\n",
    "    executions_per_trial=2,\n",
    "    directory='random_search',\n",
    "    project_name='bat',\n",
    "    overwrite=True\n",
    ")"
   ]
  },
  {
   "cell_type": "code",
   "execution_count": 30,
   "metadata": {
    "scrolled": true
   },
   "outputs": [
    {
     "name": "stdout",
     "output_type": "stream",
     "text": [
      "Train on 2172 samples, validate on 242 samples\n",
      "Epoch 1/70\n",
      "2172/2172 - 4s - loss: 1.6059 - acc: 0.4977 - val_loss: 1.6000 - val_acc: 0.5372\n",
      "Epoch 2/70\n",
      "2172/2172 - 3s - loss: 1.3027 - acc: 0.5589 - val_loss: 2.4220 - val_acc: 0.3595\n",
      "Epoch 3/70\n",
      "2172/2172 - 3s - loss: 1.1841 - acc: 0.5944 - val_loss: 1.0426 - val_acc: 0.6446\n",
      "Epoch 4/70\n",
      "2172/2172 - 3s - loss: 1.1642 - acc: 0.5930 - val_loss: 1.2511 - val_acc: 0.5207\n",
      "Epoch 5/70\n",
      "2172/2172 - 3s - loss: 1.1036 - acc: 0.6160 - val_loss: 1.0891 - val_acc: 0.6488\n",
      "Epoch 6/70\n",
      "2172/2172 - 3s - loss: 1.0450 - acc: 0.6266 - val_loss: 0.8386 - val_acc: 0.6694\n",
      "Epoch 7/70\n",
      "2172/2172 - 3s - loss: 0.9978 - acc: 0.6390 - val_loss: 0.8997 - val_acc: 0.7149\n",
      "Epoch 8/70\n",
      "2172/2172 - 3s - loss: 0.9174 - acc: 0.6814 - val_loss: 2.4399 - val_acc: 0.2727\n",
      "Epoch 9/70\n",
      "2172/2172 - 3s - loss: 0.8850 - acc: 0.6823 - val_loss: 1.2269 - val_acc: 0.5661\n",
      "Epoch 10/70\n",
      "2172/2172 - 3s - loss: 0.8158 - acc: 0.7210 - val_loss: 1.9070 - val_acc: 0.4917\n",
      "Epoch 11/70\n",
      "2172/2172 - 3s - loss: 0.8001 - acc: 0.7380 - val_loss: 2.6764 - val_acc: 0.4174\n",
      "Epoch 12/70\n",
      "2172/2172 - 3s - loss: 0.7807 - acc: 0.7311 - val_loss: 0.6951 - val_acc: 0.7521\n",
      "Epoch 13/70\n",
      "2172/2172 - 3s - loss: 0.7496 - acc: 0.7468 - val_loss: 1.4105 - val_acc: 0.5413\n",
      "Epoch 14/70\n",
      "2172/2172 - 3s - loss: 0.6749 - acc: 0.7693 - val_loss: 0.9738 - val_acc: 0.7149\n",
      "Epoch 15/70\n",
      "2172/2172 - 3s - loss: 0.7039 - acc: 0.7693 - val_loss: 0.6362 - val_acc: 0.7645\n",
      "Epoch 16/70\n",
      "2172/2172 - 3s - loss: 0.6143 - acc: 0.7924 - val_loss: 1.8218 - val_acc: 0.4050\n",
      "Epoch 17/70\n",
      "2172/2172 - 3s - loss: 0.6219 - acc: 0.7868 - val_loss: 0.4003 - val_acc: 0.8636\n",
      "Epoch 18/70\n",
      "2172/2172 - 3s - loss: 0.5614 - acc: 0.8039 - val_loss: 0.9091 - val_acc: 0.7438\n",
      "Epoch 19/70\n",
      "2172/2172 - 3s - loss: 0.5666 - acc: 0.8218 - val_loss: 0.6052 - val_acc: 0.8058\n",
      "Epoch 20/70\n",
      "2172/2172 - 3s - loss: 0.5201 - acc: 0.8324 - val_loss: 0.7102 - val_acc: 0.7686\n",
      "Epoch 21/70\n",
      "2172/2172 - 3s - loss: 0.5053 - acc: 0.8306 - val_loss: 1.1021 - val_acc: 0.6612\n",
      "Epoch 22/70\n",
      "2172/2172 - 3s - loss: 0.4793 - acc: 0.8320 - val_loss: 1.5688 - val_acc: 0.5207\n",
      "Epoch 23/70\n",
      "2172/2172 - 3s - loss: 0.4907 - acc: 0.8366 - val_loss: 0.4699 - val_acc: 0.8388\n",
      "Epoch 24/70\n",
      "2172/2172 - 3s - loss: 0.4725 - acc: 0.8467 - val_loss: 0.4411 - val_acc: 0.8678\n",
      "Epoch 25/70\n",
      "2172/2172 - 3s - loss: 0.4639 - acc: 0.8490 - val_loss: 0.7846 - val_acc: 0.7149\n",
      "Epoch 26/70\n",
      "2172/2172 - 3s - loss: 0.4743 - acc: 0.8541 - val_loss: 0.3299 - val_acc: 0.9174\n",
      "Epoch 27/70\n",
      "2172/2172 - 3s - loss: 0.4134 - acc: 0.8651 - val_loss: 0.3169 - val_acc: 0.8926\n",
      "Epoch 28/70\n",
      "2172/2172 - 3s - loss: 0.4407 - acc: 0.8605 - val_loss: 0.4263 - val_acc: 0.8471\n",
      "Epoch 29/70\n",
      "2172/2172 - 3s - loss: 0.3925 - acc: 0.8757 - val_loss: 0.4182 - val_acc: 0.8554\n",
      "Epoch 30/70\n",
      "2172/2172 - 3s - loss: 0.3927 - acc: 0.8743 - val_loss: 0.7564 - val_acc: 0.7521\n",
      "Epoch 31/70\n",
      "2172/2172 - 3s - loss: 0.3604 - acc: 0.8775 - val_loss: 0.3373 - val_acc: 0.8719\n",
      "Epoch 32/70\n",
      "2172/2172 - 3s - loss: 0.3872 - acc: 0.8702 - val_loss: 1.0278 - val_acc: 0.6612\n",
      "Epoch 33/70\n",
      "2172/2172 - 3s - loss: 0.3819 - acc: 0.8738 - val_loss: 0.5230 - val_acc: 0.8347\n",
      "Epoch 34/70\n",
      "2172/2172 - 3s - loss: 0.3966 - acc: 0.8785 - val_loss: 0.4166 - val_acc: 0.8760\n",
      "Epoch 35/70\n",
      "2172/2172 - 3s - loss: 0.3236 - acc: 0.8987 - val_loss: 0.4566 - val_acc: 0.8264\n",
      "Epoch 36/70\n",
      "2172/2172 - 3s - loss: 0.3215 - acc: 0.8867 - val_loss: 0.5703 - val_acc: 0.8264\n",
      "Epoch 37/70\n",
      "2172/2172 - 3s - loss: 0.3163 - acc: 0.9029 - val_loss: 1.0350 - val_acc: 0.6694\n",
      "Epoch 38/70\n",
      "2172/2172 - 3s - loss: 0.3452 - acc: 0.8831 - val_loss: 0.6569 - val_acc: 0.7975\n",
      "Epoch 39/70\n",
      "2172/2172 - 3s - loss: 0.3097 - acc: 0.8932 - val_loss: 0.2448 - val_acc: 0.9091\n",
      "Epoch 40/70\n",
      "2172/2172 - 3s - loss: 0.3264 - acc: 0.8946 - val_loss: 1.8332 - val_acc: 0.5165\n",
      "Epoch 41/70\n",
      "2172/2172 - 3s - loss: 0.3534 - acc: 0.8881 - val_loss: 0.3318 - val_acc: 0.8967\n",
      "Epoch 42/70\n",
      "2172/2172 - 3s - loss: 0.2915 - acc: 0.9038 - val_loss: 0.2583 - val_acc: 0.9091\n",
      "Epoch 43/70\n",
      "2172/2172 - 3s - loss: 0.2901 - acc: 0.9052 - val_loss: 0.5040 - val_acc: 0.8595\n",
      "Epoch 44/70\n",
      "2172/2172 - 3s - loss: 0.2565 - acc: 0.9203 - val_loss: 0.4306 - val_acc: 0.8802\n",
      "Epoch 45/70\n",
      "2172/2172 - 3s - loss: 0.2499 - acc: 0.9171 - val_loss: 0.2797 - val_acc: 0.9008\n",
      "Epoch 46/70\n",
      "2172/2172 - 3s - loss: 0.2443 - acc: 0.9185 - val_loss: 0.4064 - val_acc: 0.9008\n",
      "Epoch 47/70\n",
      "2172/2172 - 3s - loss: 0.2523 - acc: 0.9217 - val_loss: 0.3666 - val_acc: 0.8884\n",
      "Epoch 48/70\n",
      "2172/2172 - 3s - loss: 0.3011 - acc: 0.9056 - val_loss: 0.6472 - val_acc: 0.7975\n",
      "Epoch 49/70\n",
      "2172/2172 - 3s - loss: 0.2671 - acc: 0.9121 - val_loss: 0.3016 - val_acc: 0.8843\n",
      "Epoch 50/70\n",
      "2172/2172 - 3s - loss: 0.2553 - acc: 0.9176 - val_loss: 0.2063 - val_acc: 0.9256\n",
      "Epoch 51/70\n",
      "2172/2172 - 3s - loss: 0.2554 - acc: 0.9185 - val_loss: 0.2632 - val_acc: 0.9091\n",
      "Epoch 52/70\n",
      "2172/2172 - 3s - loss: 0.2579 - acc: 0.9222 - val_loss: 0.2887 - val_acc: 0.8967\n",
      "Epoch 53/70\n",
      "2172/2172 - 3s - loss: 0.2402 - acc: 0.9236 - val_loss: 0.5007 - val_acc: 0.8388\n",
      "Epoch 54/70\n",
      "2172/2172 - 3s - loss: 0.2074 - acc: 0.9314 - val_loss: 0.3576 - val_acc: 0.8967\n",
      "Epoch 55/70\n",
      "2172/2172 - 3s - loss: 0.2652 - acc: 0.9176 - val_loss: 0.6722 - val_acc: 0.7893\n",
      "Epoch 56/70\n",
      "2172/2172 - 3s - loss: 0.2412 - acc: 0.9231 - val_loss: 0.4950 - val_acc: 0.8471\n",
      "Epoch 57/70\n",
      "2172/2172 - 3s - loss: 0.2106 - acc: 0.9411 - val_loss: 0.3863 - val_acc: 0.8719\n",
      "Epoch 58/70\n",
      "2172/2172 - 3s - loss: 0.2426 - acc: 0.9259 - val_loss: 0.4282 - val_acc: 0.8678\n",
      "Epoch 59/70\n",
      "2172/2172 - 3s - loss: 0.2172 - acc: 0.9250 - val_loss: 0.7363 - val_acc: 0.7810\n",
      "Epoch 60/70\n",
      "2172/2172 - 3s - loss: 0.2253 - acc: 0.9323 - val_loss: 0.3005 - val_acc: 0.8967\n",
      "Epoch 61/70\n",
      "2172/2172 - 3s - loss: 0.1898 - acc: 0.9420 - val_loss: 0.3286 - val_acc: 0.9050\n",
      "Epoch 62/70\n",
      "2172/2172 - 3s - loss: 0.2232 - acc: 0.9222 - val_loss: 0.2337 - val_acc: 0.9132\n",
      "Epoch 63/70\n",
      "2172/2172 - 3s - loss: 0.2016 - acc: 0.9355 - val_loss: 0.2284 - val_acc: 0.9380\n",
      "Epoch 64/70\n",
      "2172/2172 - 3s - loss: 0.2204 - acc: 0.9305 - val_loss: 0.3705 - val_acc: 0.8719\n",
      "Epoch 65/70\n",
      "2172/2172 - 3s - loss: 0.2061 - acc: 0.9328 - val_loss: 0.2169 - val_acc: 0.9256\n",
      "Epoch 66/70\n",
      "2172/2172 - 3s - loss: 0.2147 - acc: 0.9332 - val_loss: 0.4130 - val_acc: 0.8719\n",
      "Epoch 67/70\n",
      "2172/2172 - 3s - loss: 0.1822 - acc: 0.9383 - val_loss: 0.2277 - val_acc: 0.9298\n",
      "Epoch 68/70\n",
      "2172/2172 - 3s - loss: 0.1866 - acc: 0.9388 - val_loss: 0.2845 - val_acc: 0.9091\n",
      "Epoch 69/70\n",
      "2172/2172 - 3s - loss: 0.2046 - acc: 0.9392 - val_loss: 0.2716 - val_acc: 0.9174\n",
      "Epoch 70/70\n",
      "2172/2172 - 3s - loss: 0.1503 - acc: 0.9507 - val_loss: 0.3226 - val_acc: 0.9091\n",
      "Train on 2172 samples, validate on 242 samples\n",
      "Epoch 1/70\n",
      "2172/2172 - 3s - loss: 1.5550 - acc: 0.5101 - val_loss: 2.4465 - val_acc: 0.5248\n",
      "Epoch 2/70\n",
      "2172/2172 - 3s - loss: 1.3208 - acc: 0.5626 - val_loss: 1.6951 - val_acc: 0.3678\n",
      "Epoch 3/70\n",
      "2172/2172 - 3s - loss: 1.1988 - acc: 0.5953 - val_loss: 1.4019 - val_acc: 0.6198\n",
      "Epoch 4/70\n",
      "2172/2172 - 3s - loss: 1.1145 - acc: 0.6091 - val_loss: 1.5744 - val_acc: 0.5950\n",
      "Epoch 5/70\n",
      "2172/2172 - 3s - loss: 1.1207 - acc: 0.6133 - val_loss: 1.0047 - val_acc: 0.6488\n",
      "Epoch 6/70\n",
      "2172/2172 - 3s - loss: 1.0569 - acc: 0.6197 - val_loss: 1.1000 - val_acc: 0.5909\n",
      "Epoch 7/70\n",
      "2172/2172 - 3s - loss: 0.9919 - acc: 0.6483 - val_loss: 1.7072 - val_acc: 0.4917\n",
      "Epoch 8/70\n",
      "2172/2172 - 3s - loss: 0.8954 - acc: 0.6943 - val_loss: 1.1741 - val_acc: 0.5041\n",
      "Epoch 9/70\n",
      "2172/2172 - 3s - loss: 0.8011 - acc: 0.7265 - val_loss: 1.7363 - val_acc: 0.5041\n",
      "Epoch 10/70\n",
      "2172/2172 - 3s - loss: 0.8216 - acc: 0.7196 - val_loss: 2.3790 - val_acc: 0.3017\n",
      "Epoch 11/70\n",
      "2172/2172 - 3s - loss: 0.7259 - acc: 0.7495 - val_loss: 1.1597 - val_acc: 0.5579\n",
      "Epoch 12/70\n",
      "2172/2172 - 3s - loss: 0.7112 - acc: 0.7592 - val_loss: 1.8463 - val_acc: 0.4669\n",
      "Epoch 13/70\n",
      "2172/2172 - 3s - loss: 0.7110 - acc: 0.7638 - val_loss: 0.6460 - val_acc: 0.7727\n",
      "Epoch 14/70\n",
      "2172/2172 - 3s - loss: 0.6576 - acc: 0.7804 - val_loss: 0.6491 - val_acc: 0.7810\n",
      "Epoch 15/70\n",
      "2172/2172 - 3s - loss: 0.6637 - acc: 0.7818 - val_loss: 0.6859 - val_acc: 0.7397\n",
      "Epoch 16/70\n",
      "2172/2172 - 3s - loss: 0.6179 - acc: 0.7859 - val_loss: 0.9038 - val_acc: 0.7438\n",
      "Epoch 17/70\n",
      "2172/2172 - 3s - loss: 0.5884 - acc: 0.8112 - val_loss: 0.8183 - val_acc: 0.6901\n",
      "Epoch 18/70\n",
      "2172/2172 - 3s - loss: 0.5790 - acc: 0.7997 - val_loss: 1.0013 - val_acc: 0.6942\n"
     ]
    },
    {
     "name": "stdout",
     "output_type": "stream",
     "text": [
      "Epoch 19/70\n",
      "2172/2172 - 3s - loss: 0.5826 - acc: 0.8034 - val_loss: 0.5830 - val_acc: 0.8347\n",
      "Epoch 20/70\n",
      "2172/2172 - 3s - loss: 0.5280 - acc: 0.8246 - val_loss: 0.7647 - val_acc: 0.7686\n",
      "Epoch 21/70\n",
      "2172/2172 - 3s - loss: 0.5237 - acc: 0.8232 - val_loss: 1.3562 - val_acc: 0.5992\n",
      "Epoch 22/70\n",
      "2172/2172 - 3s - loss: 0.4999 - acc: 0.8430 - val_loss: 0.4187 - val_acc: 0.8636\n",
      "Epoch 23/70\n",
      "2172/2172 - 3s - loss: 0.5115 - acc: 0.8361 - val_loss: 0.5747 - val_acc: 0.8017\n",
      "Epoch 24/70\n",
      "2172/2172 - 3s - loss: 0.4535 - acc: 0.8485 - val_loss: 0.5520 - val_acc: 0.8347\n",
      "Epoch 25/70\n",
      "2172/2172 - 3s - loss: 0.4657 - acc: 0.8471 - val_loss: 0.8583 - val_acc: 0.6736\n",
      "Epoch 26/70\n",
      "2172/2172 - 3s - loss: 0.4442 - acc: 0.8508 - val_loss: 0.5039 - val_acc: 0.8471\n",
      "Epoch 27/70\n",
      "2172/2172 - 3s - loss: 0.4170 - acc: 0.8568 - val_loss: 0.4597 - val_acc: 0.8554\n",
      "Epoch 28/70\n",
      "2172/2172 - 3s - loss: 0.4178 - acc: 0.8642 - val_loss: 0.4200 - val_acc: 0.8554\n",
      "Epoch 29/70\n",
      "2172/2172 - 3s - loss: 0.3843 - acc: 0.8748 - val_loss: 0.3398 - val_acc: 0.8802\n",
      "Epoch 30/70\n",
      "2172/2172 - 3s - loss: 0.4036 - acc: 0.8619 - val_loss: 0.6024 - val_acc: 0.8017\n",
      "Epoch 31/70\n",
      "2172/2172 - 3s - loss: 0.3767 - acc: 0.8743 - val_loss: 0.3892 - val_acc: 0.8802\n",
      "Epoch 32/70\n",
      "2172/2172 - 3s - loss: 0.3603 - acc: 0.8762 - val_loss: 0.3493 - val_acc: 0.8802\n",
      "Epoch 33/70\n",
      "2172/2172 - 3s - loss: 0.3678 - acc: 0.8812 - val_loss: 0.5386 - val_acc: 0.8058\n",
      "Epoch 34/70\n",
      "2172/2172 - 3s - loss: 0.3523 - acc: 0.8835 - val_loss: 0.7145 - val_acc: 0.8058\n",
      "Epoch 35/70\n",
      "2172/2172 - 3s - loss: 0.3223 - acc: 0.8932 - val_loss: 0.3470 - val_acc: 0.8595\n",
      "Epoch 36/70\n",
      "2172/2172 - 3s - loss: 0.3233 - acc: 0.8950 - val_loss: 0.2920 - val_acc: 0.9091\n",
      "Epoch 37/70\n",
      "2172/2172 - 3s - loss: 0.3610 - acc: 0.8844 - val_loss: 0.6703 - val_acc: 0.7727\n",
      "Epoch 38/70\n",
      "2172/2172 - 3s - loss: 0.3363 - acc: 0.8932 - val_loss: 0.6505 - val_acc: 0.8223\n",
      "Epoch 39/70\n",
      "2172/2172 - 3s - loss: 0.3331 - acc: 0.8877 - val_loss: 0.4853 - val_acc: 0.8140\n",
      "Epoch 40/70\n",
      "2172/2172 - 3s - loss: 0.3214 - acc: 0.8983 - val_loss: 0.6472 - val_acc: 0.7727\n",
      "Epoch 41/70\n",
      "2172/2172 - 3s - loss: 0.3154 - acc: 0.8987 - val_loss: 0.2957 - val_acc: 0.8802\n",
      "Epoch 42/70\n",
      "2172/2172 - 3s - loss: 0.3380 - acc: 0.8955 - val_loss: 0.3110 - val_acc: 0.8926\n",
      "Epoch 43/70\n",
      "2172/2172 - 3s - loss: 0.2509 - acc: 0.9176 - val_loss: 0.5321 - val_acc: 0.8347\n",
      "Epoch 44/70\n",
      "2172/2172 - 3s - loss: 0.2614 - acc: 0.9144 - val_loss: 1.1025 - val_acc: 0.6570\n",
      "Epoch 45/70\n",
      "2172/2172 - 3s - loss: 0.3023 - acc: 0.8978 - val_loss: 0.5053 - val_acc: 0.8223\n",
      "Epoch 46/70\n",
      "2172/2172 - 3s - loss: 0.2582 - acc: 0.9180 - val_loss: 0.6034 - val_acc: 0.7934\n",
      "Epoch 47/70\n",
      "2172/2172 - 3s - loss: 0.3011 - acc: 0.9024 - val_loss: 0.5131 - val_acc: 0.8512\n",
      "Epoch 48/70\n",
      "2172/2172 - 3s - loss: 0.2536 - acc: 0.9213 - val_loss: 0.2120 - val_acc: 0.9215\n",
      "Epoch 49/70\n",
      "2172/2172 - 3s - loss: 0.2530 - acc: 0.9139 - val_loss: 0.2709 - val_acc: 0.8843\n",
      "Epoch 50/70\n",
      "2172/2172 - 3s - loss: 0.2720 - acc: 0.9139 - val_loss: 0.3085 - val_acc: 0.9091\n",
      "Epoch 51/70\n",
      "2172/2172 - 3s - loss: 0.2233 - acc: 0.9254 - val_loss: 0.4810 - val_acc: 0.8512\n",
      "Epoch 52/70\n",
      "2172/2172 - 3s - loss: 0.2356 - acc: 0.9171 - val_loss: 0.3743 - val_acc: 0.8843\n",
      "Epoch 53/70\n",
      "2172/2172 - 3s - loss: 0.2125 - acc: 0.9263 - val_loss: 0.2865 - val_acc: 0.8926\n",
      "Epoch 54/70\n",
      "2172/2172 - 3s - loss: 0.2670 - acc: 0.9190 - val_loss: 0.4438 - val_acc: 0.8471\n",
      "Epoch 55/70\n",
      "2172/2172 - 3s - loss: 0.2110 - acc: 0.9309 - val_loss: 0.4764 - val_acc: 0.8554\n",
      "Epoch 56/70\n",
      "2172/2172 - 3s - loss: 0.2377 - acc: 0.9296 - val_loss: 0.4510 - val_acc: 0.8430\n",
      "Epoch 57/70\n",
      "2172/2172 - 3s - loss: 0.2434 - acc: 0.9259 - val_loss: 0.2547 - val_acc: 0.9215\n",
      "Epoch 58/70\n",
      "2172/2172 - 3s - loss: 0.2307 - acc: 0.9268 - val_loss: 0.2165 - val_acc: 0.9132\n",
      "Epoch 59/70\n",
      "2172/2172 - 3s - loss: 0.2029 - acc: 0.9314 - val_loss: 0.6119 - val_acc: 0.8182\n",
      "Epoch 60/70\n",
      "2172/2172 - 3s - loss: 0.2121 - acc: 0.9305 - val_loss: 0.1945 - val_acc: 0.9339\n",
      "Epoch 61/70\n",
      "2172/2172 - 3s - loss: 0.1832 - acc: 0.9388 - val_loss: 0.5045 - val_acc: 0.8388\n",
      "Epoch 62/70\n",
      "2172/2172 - 3s - loss: 0.2121 - acc: 0.9309 - val_loss: 0.2129 - val_acc: 0.9421\n",
      "Epoch 63/70\n",
      "2172/2172 - 3s - loss: 0.1907 - acc: 0.9374 - val_loss: 0.2589 - val_acc: 0.9380\n",
      "Epoch 64/70\n",
      "2172/2172 - 3s - loss: 0.1768 - acc: 0.9406 - val_loss: 0.2459 - val_acc: 0.9339\n",
      "Epoch 65/70\n",
      "2172/2172 - 3s - loss: 0.2397 - acc: 0.9277 - val_loss: 0.1935 - val_acc: 0.9339\n",
      "Epoch 66/70\n",
      "2172/2172 - 3s - loss: 0.1938 - acc: 0.9420 - val_loss: 0.7621 - val_acc: 0.7521\n",
      "Epoch 67/70\n",
      "2172/2172 - 3s - loss: 0.1688 - acc: 0.9448 - val_loss: 0.2473 - val_acc: 0.9215\n",
      "Epoch 68/70\n",
      "2172/2172 - 3s - loss: 0.1370 - acc: 0.9540 - val_loss: 0.2324 - val_acc: 0.9339\n",
      "Epoch 69/70\n",
      "2172/2172 - 3s - loss: 0.2216 - acc: 0.9346 - val_loss: 0.2591 - val_acc: 0.9091\n",
      "Epoch 70/70\n",
      "2172/2172 - 3s - loss: 0.1799 - acc: 0.9443 - val_loss: 0.2917 - val_acc: 0.9050\n"
     ]
    },
    {
     "data": {
      "text/html": [
       "<span style=\"color:#4527A0\"><h1 style=\"font-size:18px\">Trial complete</h1></span>"
      ],
      "text/plain": [
       "<IPython.core.display.HTML object>"
      ]
     },
     "metadata": {},
     "output_type": "display_data"
    },
    {
     "data": {
      "text/html": [
       "<span style=\"color:#4527A0\"><h1 style=\"font-size:18px\">Trial summary</h1></span>"
      ],
      "text/plain": [
       "<IPython.core.display.HTML object>"
      ]
     },
     "metadata": {},
     "output_type": "display_data"
    },
    {
     "data": {
      "text/html": [
       "<span style=\"color:cyan\"> |-Trial ID: c8be0aaab2b03152689a3fb0680669ff</span>"
      ],
      "text/plain": [
       "<IPython.core.display.HTML object>"
      ]
     },
     "metadata": {},
     "output_type": "display_data"
    },
    {
     "data": {
      "text/html": [
       "<span style=\"color:cyan\"> |-Score: 0.9400826692581177</span>"
      ],
      "text/plain": [
       "<IPython.core.display.HTML object>"
      ]
     },
     "metadata": {},
     "output_type": "display_data"
    },
    {
     "data": {
      "text/html": [
       "<span style=\"color:cyan\"> |-Best step: 0</span>"
      ],
      "text/plain": [
       "<IPython.core.display.HTML object>"
      ]
     },
     "metadata": {},
     "output_type": "display_data"
    },
    {
     "data": {
      "text/html": [
       "<span style=\"color:#7E57C2\"><h2 style=\"font-size:16px\">Hyperparameters:</h2></span>"
      ],
      "text/plain": [
       "<IPython.core.display.HTML object>"
      ]
     },
     "metadata": {},
     "output_type": "display_data"
    },
    {
     "data": {
      "text/html": [
       "<span style=\"color:cyan\"> |-Conv1: 128</span>"
      ],
      "text/plain": [
       "<IPython.core.display.HTML object>"
      ]
     },
     "metadata": {},
     "output_type": "display_data"
    },
    {
     "data": {
      "text/html": [
       "<span style=\"color:blue\"> |-Conv2: 120</span>"
      ],
      "text/plain": [
       "<IPython.core.display.HTML object>"
      ]
     },
     "metadata": {},
     "output_type": "display_data"
    },
    {
     "data": {
      "text/html": [
       "<span style=\"color:cyan\"> |-Conv3: 128</span>"
      ],
      "text/plain": [
       "<IPython.core.display.HTML object>"
      ]
     },
     "metadata": {},
     "output_type": "display_data"
    },
    {
     "data": {
      "text/html": [
       "<span style=\"color:blue\"> |-Conv4: 128</span>"
      ],
      "text/plain": [
       "<IPython.core.display.HTML object>"
      ]
     },
     "metadata": {},
     "output_type": "display_data"
    },
    {
     "name": "stdout",
     "output_type": "stream",
     "text": [
      "Train on 2172 samples, validate on 242 samples\n",
      "Epoch 1/70\n",
      "2172/2172 - 5s - loss: 1.5790 - acc: 0.4995 - val_loss: 1.4754 - val_acc: 0.5950\n",
      "Epoch 2/70\n",
      "2172/2172 - 5s - loss: 1.3236 - acc: 0.5677 - val_loss: 1.2020 - val_acc: 0.6364\n",
      "Epoch 3/70\n",
      "2172/2172 - 5s - loss: 1.2117 - acc: 0.5783 - val_loss: 1.2930 - val_acc: 0.5207\n",
      "Epoch 4/70\n",
      "2172/2172 - 5s - loss: 1.1407 - acc: 0.6013 - val_loss: 1.1710 - val_acc: 0.5413\n",
      "Epoch 5/70\n",
      "2172/2172 - 5s - loss: 1.1104 - acc: 0.6091 - val_loss: 0.9621 - val_acc: 0.6570\n",
      "Epoch 6/70\n",
      "2172/2172 - 5s - loss: 1.0659 - acc: 0.6174 - val_loss: 1.2980 - val_acc: 0.5744\n",
      "Epoch 7/70\n",
      "2172/2172 - 5s - loss: 1.0261 - acc: 0.6354 - val_loss: 1.0305 - val_acc: 0.6529\n",
      "Epoch 8/70\n",
      "2172/2172 - 5s - loss: 0.9840 - acc: 0.6464 - val_loss: 0.9786 - val_acc: 0.6818\n",
      "Epoch 9/70\n",
      "2172/2172 - 4s - loss: 0.9000 - acc: 0.6883 - val_loss: 0.9351 - val_acc: 0.6942\n",
      "Epoch 10/70\n",
      "2172/2172 - 5s - loss: 0.8467 - acc: 0.7099 - val_loss: 0.8070 - val_acc: 0.7149\n",
      "Epoch 11/70\n",
      "2172/2172 - 5s - loss: 0.7958 - acc: 0.7316 - val_loss: 1.1105 - val_acc: 0.6033\n",
      "Epoch 12/70\n",
      "2172/2172 - 5s - loss: 0.7877 - acc: 0.7454 - val_loss: 0.6505 - val_acc: 0.7810\n",
      "Epoch 13/70\n",
      "2172/2172 - 5s - loss: 0.7125 - acc: 0.7537 - val_loss: 0.5938 - val_acc: 0.8099\n",
      "Epoch 14/70\n",
      "2172/2172 - 5s - loss: 0.7210 - acc: 0.7445 - val_loss: 0.8546 - val_acc: 0.6777\n",
      "Epoch 15/70\n",
      "2172/2172 - 5s - loss: 0.6750 - acc: 0.7735 - val_loss: 1.8725 - val_acc: 0.3554\n",
      "Epoch 16/70\n",
      "2172/2172 - 5s - loss: 0.6423 - acc: 0.7896 - val_loss: 0.5477 - val_acc: 0.8017\n",
      "Epoch 17/70\n",
      "2172/2172 - 5s - loss: 0.5951 - acc: 0.8011 - val_loss: 0.4543 - val_acc: 0.8512\n",
      "Epoch 18/70\n",
      "2172/2172 - 5s - loss: 0.5996 - acc: 0.7988 - val_loss: 0.5121 - val_acc: 0.8347\n",
      "Epoch 19/70\n",
      "2172/2172 - 5s - loss: 0.5555 - acc: 0.8089 - val_loss: 1.5030 - val_acc: 0.5248\n",
      "Epoch 20/70\n",
      "2172/2172 - 5s - loss: 0.5437 - acc: 0.8218 - val_loss: 0.5645 - val_acc: 0.8347\n",
      "Epoch 21/70\n",
      "2172/2172 - 5s - loss: 0.5268 - acc: 0.8223 - val_loss: 0.3581 - val_acc: 0.8636\n",
      "Epoch 22/70\n",
      "2172/2172 - 5s - loss: 0.5007 - acc: 0.8324 - val_loss: 0.5725 - val_acc: 0.7810\n",
      "Epoch 23/70\n",
      "2172/2172 - 5s - loss: 0.5071 - acc: 0.8310 - val_loss: 0.4183 - val_acc: 0.8595\n",
      "Epoch 24/70\n",
      "2172/2172 - 5s - loss: 0.4885 - acc: 0.8407 - val_loss: 0.6732 - val_acc: 0.7645\n",
      "Epoch 25/70\n",
      "2172/2172 - 5s - loss: 0.4338 - acc: 0.8508 - val_loss: 0.5539 - val_acc: 0.8182\n",
      "Epoch 26/70\n",
      "2172/2172 - 5s - loss: 0.4379 - acc: 0.8499 - val_loss: 0.3588 - val_acc: 0.8719\n",
      "Epoch 27/70\n",
      "2172/2172 - 5s - loss: 0.4422 - acc: 0.8536 - val_loss: 0.4225 - val_acc: 0.8512\n",
      "Epoch 28/70\n",
      "2172/2172 - 5s - loss: 0.4189 - acc: 0.8564 - val_loss: 0.3410 - val_acc: 0.8926\n",
      "Epoch 29/70\n",
      "2172/2172 - 5s - loss: 0.4269 - acc: 0.8568 - val_loss: 0.3752 - val_acc: 0.8595\n",
      "Epoch 30/70\n",
      "2172/2172 - 5s - loss: 0.3940 - acc: 0.8743 - val_loss: 0.5048 - val_acc: 0.8182\n",
      "Epoch 31/70\n",
      "2172/2172 - 5s - loss: 0.3736 - acc: 0.8669 - val_loss: 0.3163 - val_acc: 0.8967\n",
      "Epoch 32/70\n",
      "2172/2172 - 5s - loss: 0.3361 - acc: 0.8890 - val_loss: 0.4447 - val_acc: 0.8595\n",
      "Epoch 33/70\n",
      "2172/2172 - 5s - loss: 0.4054 - acc: 0.8637 - val_loss: 0.9751 - val_acc: 0.6818\n",
      "Epoch 34/70\n",
      "2172/2172 - 5s - loss: 0.3748 - acc: 0.8780 - val_loss: 0.5052 - val_acc: 0.8182\n",
      "Epoch 35/70\n",
      "2172/2172 - 5s - loss: 0.3298 - acc: 0.8886 - val_loss: 0.2863 - val_acc: 0.8884\n",
      "Epoch 36/70\n",
      "2172/2172 - 5s - loss: 0.3329 - acc: 0.8941 - val_loss: 0.2320 - val_acc: 0.9421\n",
      "Epoch 37/70\n",
      "2172/2172 - 5s - loss: 0.3496 - acc: 0.8835 - val_loss: 0.4914 - val_acc: 0.8430\n",
      "Epoch 38/70\n",
      "2172/2172 - 5s - loss: 0.2974 - acc: 0.8950 - val_loss: 0.2373 - val_acc: 0.9215\n",
      "Epoch 39/70\n",
      "2172/2172 - 5s - loss: 0.3214 - acc: 0.8918 - val_loss: 0.4751 - val_acc: 0.8264\n",
      "Epoch 40/70\n",
      "2172/2172 - 5s - loss: 0.2974 - acc: 0.9029 - val_loss: 0.3447 - val_acc: 0.8926\n",
      "Epoch 41/70\n",
      "2172/2172 - 4s - loss: 0.2974 - acc: 0.8996 - val_loss: 0.2677 - val_acc: 0.9174\n",
      "Epoch 42/70\n",
      "2172/2172 - 5s - loss: 0.2680 - acc: 0.9167 - val_loss: 0.5469 - val_acc: 0.8140\n",
      "Epoch 43/70\n",
      "2172/2172 - 5s - loss: 0.2637 - acc: 0.9139 - val_loss: 0.3860 - val_acc: 0.8719\n",
      "Epoch 44/70\n",
      "2172/2172 - 5s - loss: 0.2650 - acc: 0.9171 - val_loss: 0.2628 - val_acc: 0.9174\n",
      "Epoch 45/70\n",
      "2172/2172 - 5s - loss: 0.2780 - acc: 0.9121 - val_loss: 0.7184 - val_acc: 0.7107\n",
      "Epoch 46/70\n",
      "2172/2172 - 5s - loss: 0.2498 - acc: 0.9167 - val_loss: 0.2293 - val_acc: 0.9380\n",
      "Epoch 47/70\n",
      "2172/2172 - 5s - loss: 0.2495 - acc: 0.9231 - val_loss: 1.4956 - val_acc: 0.6364\n",
      "Epoch 48/70\n",
      "2172/2172 - 5s - loss: 0.2617 - acc: 0.9102 - val_loss: 0.3435 - val_acc: 0.8843\n",
      "Epoch 49/70\n",
      "2172/2172 - 5s - loss: 0.2725 - acc: 0.9144 - val_loss: 1.6307 - val_acc: 0.4752\n",
      "Epoch 50/70\n",
      "2172/2172 - 5s - loss: 0.2421 - acc: 0.9268 - val_loss: 0.2580 - val_acc: 0.9298\n",
      "Epoch 51/70\n",
      "2172/2172 - 5s - loss: 0.2562 - acc: 0.9190 - val_loss: 0.4267 - val_acc: 0.8554\n",
      "Epoch 52/70\n",
      "2172/2172 - 5s - loss: 0.2256 - acc: 0.9314 - val_loss: 0.3395 - val_acc: 0.8884\n",
      "Epoch 53/70\n",
      "2172/2172 - 5s - loss: 0.2159 - acc: 0.9277 - val_loss: 0.2152 - val_acc: 0.9298\n",
      "Epoch 54/70\n",
      "2172/2172 - 5s - loss: 0.2788 - acc: 0.9194 - val_loss: 0.8783 - val_acc: 0.6983\n",
      "Epoch 55/70\n",
      "2172/2172 - 5s - loss: 0.2223 - acc: 0.9305 - val_loss: 0.4418 - val_acc: 0.8554\n",
      "Epoch 56/70\n",
      "2172/2172 - 5s - loss: 0.2105 - acc: 0.9342 - val_loss: 0.1934 - val_acc: 0.9339\n",
      "Epoch 57/70\n",
      "2172/2172 - 5s - loss: 0.1936 - acc: 0.9286 - val_loss: 0.3684 - val_acc: 0.8760\n",
      "Epoch 58/70\n",
      "2172/2172 - 5s - loss: 0.2303 - acc: 0.9254 - val_loss: 0.4666 - val_acc: 0.8347\n",
      "Epoch 59/70\n",
      "2172/2172 - 5s - loss: 0.1993 - acc: 0.9378 - val_loss: 1.7415 - val_acc: 0.6240\n",
      "Epoch 60/70\n",
      "2172/2172 - 5s - loss: 0.1911 - acc: 0.9415 - val_loss: 0.1619 - val_acc: 0.9380\n",
      "Epoch 61/70\n",
      "2172/2172 - 5s - loss: 0.2119 - acc: 0.9300 - val_loss: 0.2249 - val_acc: 0.9421\n",
      "Epoch 62/70\n",
      "2172/2172 - 5s - loss: 0.1854 - acc: 0.9461 - val_loss: 0.5789 - val_acc: 0.7934\n",
      "Epoch 63/70\n",
      "2172/2172 - 4s - loss: 0.2301 - acc: 0.9309 - val_loss: 0.3373 - val_acc: 0.9008\n",
      "Epoch 64/70\n",
      "2172/2172 - 4s - loss: 0.2182 - acc: 0.9351 - val_loss: 0.2182 - val_acc: 0.9421\n",
      "Epoch 65/70\n",
      "2172/2172 - 5s - loss: 0.1954 - acc: 0.9328 - val_loss: 0.2753 - val_acc: 0.9132\n",
      "Epoch 66/70\n",
      "2172/2172 - 5s - loss: 0.1627 - acc: 0.9480 - val_loss: 0.3651 - val_acc: 0.8967\n",
      "Epoch 67/70\n",
      "2172/2172 - 5s - loss: 0.1497 - acc: 0.9540 - val_loss: 0.3927 - val_acc: 0.9008\n",
      "Epoch 68/70\n",
      "2172/2172 - 5s - loss: 0.1721 - acc: 0.9475 - val_loss: 0.2897 - val_acc: 0.9174\n",
      "Epoch 69/70\n",
      "2172/2172 - 5s - loss: 0.1793 - acc: 0.9369 - val_loss: 0.1433 - val_acc: 0.9421\n",
      "Epoch 70/70\n",
      "2172/2172 - 5s - loss: 0.1736 - acc: 0.9452 - val_loss: 0.4916 - val_acc: 0.8554\n",
      "Train on 2172 samples, validate on 242 samples\n",
      "Epoch 1/70\n",
      "2172/2172 - 5s - loss: 1.5948 - acc: 0.5000 - val_loss: 1.7656 - val_acc: 0.4587\n",
      "Epoch 2/70\n",
      "2172/2172 - 5s - loss: 1.3681 - acc: 0.5552 - val_loss: 1.1457 - val_acc: 0.6157\n",
      "Epoch 3/70\n",
      "2172/2172 - 5s - loss: 1.2351 - acc: 0.5797 - val_loss: 1.8254 - val_acc: 0.5289\n",
      "Epoch 4/70\n",
      "2172/2172 - 5s - loss: 1.1588 - acc: 0.5916 - val_loss: 1.0003 - val_acc: 0.6281\n",
      "Epoch 5/70\n",
      "2172/2172 - 5s - loss: 1.1230 - acc: 0.6059 - val_loss: 1.2709 - val_acc: 0.5372\n",
      "Epoch 6/70\n",
      "2172/2172 - 5s - loss: 1.0705 - acc: 0.6225 - val_loss: 1.1559 - val_acc: 0.6488\n",
      "Epoch 7/70\n",
      "2172/2172 - 5s - loss: 1.0317 - acc: 0.6215 - val_loss: 1.1507 - val_acc: 0.5744\n",
      "Epoch 8/70\n",
      "2172/2172 - 5s - loss: 0.9812 - acc: 0.6483 - val_loss: 6.8497 - val_acc: 0.1074\n",
      "Epoch 9/70\n",
      "2172/2172 - 5s - loss: 0.9503 - acc: 0.6851 - val_loss: 0.7515 - val_acc: 0.7025\n",
      "Epoch 10/70\n",
      "2172/2172 - 5s - loss: 0.8445 - acc: 0.7076 - val_loss: 1.5497 - val_acc: 0.5372\n",
      "Epoch 11/70\n",
      "2172/2172 - 5s - loss: 0.7717 - acc: 0.7459 - val_loss: 3.6376 - val_acc: 0.4421\n",
      "Epoch 12/70\n",
      "2172/2172 - 5s - loss: 0.7911 - acc: 0.7371 - val_loss: 2.5577 - val_acc: 0.3223\n",
      "Epoch 13/70\n",
      "2172/2172 - 5s - loss: 0.6791 - acc: 0.7680 - val_loss: 0.8923 - val_acc: 0.6942\n",
      "Epoch 14/70\n",
      "2172/2172 - 5s - loss: 0.6800 - acc: 0.7643 - val_loss: 2.5984 - val_acc: 0.3430\n",
      "Epoch 15/70\n",
      "2172/2172 - 5s - loss: 0.6477 - acc: 0.7808 - val_loss: 0.4440 - val_acc: 0.8554\n",
      "Epoch 16/70\n",
      "2172/2172 - 5s - loss: 0.5769 - acc: 0.8112 - val_loss: 1.7271 - val_acc: 0.6653\n",
      "Epoch 17/70\n",
      "2172/2172 - 5s - loss: 0.5913 - acc: 0.8057 - val_loss: 0.7651 - val_acc: 0.7479\n",
      "Epoch 18/70\n",
      "2172/2172 - 5s - loss: 0.5677 - acc: 0.8052 - val_loss: 2.0536 - val_acc: 0.4215\n"
     ]
    },
    {
     "name": "stdout",
     "output_type": "stream",
     "text": [
      "Epoch 19/70\n",
      "2172/2172 - 5s - loss: 0.5458 - acc: 0.8273 - val_loss: 1.7975 - val_acc: 0.4917\n",
      "Epoch 20/70\n",
      "2172/2172 - 5s - loss: 0.5223 - acc: 0.8297 - val_loss: 1.2726 - val_acc: 0.6157\n",
      "Epoch 21/70\n",
      "2172/2172 - 5s - loss: 0.5086 - acc: 0.8343 - val_loss: 0.6527 - val_acc: 0.7934\n",
      "Epoch 22/70\n",
      "2172/2172 - 5s - loss: 0.4818 - acc: 0.8402 - val_loss: 0.3815 - val_acc: 0.8843\n",
      "Epoch 23/70\n",
      "2172/2172 - 5s - loss: 0.4763 - acc: 0.8407 - val_loss: 0.5858 - val_acc: 0.8264\n",
      "Epoch 24/70\n",
      "2172/2172 - 5s - loss: 0.4435 - acc: 0.8564 - val_loss: 0.3477 - val_acc: 0.8512\n",
      "Epoch 25/70\n",
      "2172/2172 - 5s - loss: 0.4516 - acc: 0.8504 - val_loss: 3.5140 - val_acc: 0.5826\n",
      "Epoch 26/70\n",
      "2172/2172 - 5s - loss: 0.4463 - acc: 0.8564 - val_loss: 0.4080 - val_acc: 0.8760\n",
      "Epoch 27/70\n",
      "2172/2172 - 5s - loss: 0.4128 - acc: 0.8679 - val_loss: 0.9712 - val_acc: 0.6736\n",
      "Epoch 28/70\n",
      "2172/2172 - 5s - loss: 0.4194 - acc: 0.8564 - val_loss: 0.4323 - val_acc: 0.8471\n",
      "Epoch 29/70\n",
      "2172/2172 - 5s - loss: 0.4021 - acc: 0.8711 - val_loss: 0.3391 - val_acc: 0.8884\n",
      "Epoch 30/70\n",
      "2172/2172 - 5s - loss: 0.3804 - acc: 0.8840 - val_loss: 0.3927 - val_acc: 0.8636\n",
      "Epoch 31/70\n",
      "2172/2172 - 5s - loss: 0.3705 - acc: 0.8872 - val_loss: 0.3780 - val_acc: 0.8843\n",
      "Epoch 32/70\n",
      "2172/2172 - 5s - loss: 0.3560 - acc: 0.8900 - val_loss: 0.5163 - val_acc: 0.8264\n",
      "Epoch 33/70\n",
      "2172/2172 - 5s - loss: 0.3836 - acc: 0.8812 - val_loss: 0.3629 - val_acc: 0.8802\n",
      "Epoch 34/70\n",
      "2172/2172 - 5s - loss: 0.3480 - acc: 0.8863 - val_loss: 1.9112 - val_acc: 0.5579\n",
      "Epoch 35/70\n",
      "2172/2172 - 5s - loss: 0.3737 - acc: 0.8881 - val_loss: 0.3178 - val_acc: 0.9091\n",
      "Epoch 36/70\n",
      "2172/2172 - 5s - loss: 0.2981 - acc: 0.8987 - val_loss: 0.7134 - val_acc: 0.7686\n",
      "Epoch 37/70\n",
      "2172/2172 - 5s - loss: 0.2845 - acc: 0.9047 - val_loss: 0.7148 - val_acc: 0.8017\n",
      "Epoch 38/70\n",
      "2172/2172 - 5s - loss: 0.3385 - acc: 0.9001 - val_loss: 0.3493 - val_acc: 0.8926\n",
      "Epoch 39/70\n",
      "2172/2172 - 5s - loss: 0.3116 - acc: 0.8978 - val_loss: 0.3881 - val_acc: 0.8678\n",
      "Epoch 40/70\n",
      "2172/2172 - 5s - loss: 0.2874 - acc: 0.9056 - val_loss: 0.3215 - val_acc: 0.8719\n",
      "Epoch 41/70\n",
      "2172/2172 - 5s - loss: 0.2874 - acc: 0.9052 - val_loss: 0.4431 - val_acc: 0.8719\n",
      "Epoch 42/70\n",
      "2172/2172 - 5s - loss: 0.3084 - acc: 0.9102 - val_loss: 0.3432 - val_acc: 0.8967\n",
      "Epoch 43/70\n",
      "2172/2172 - 5s - loss: 0.2562 - acc: 0.9180 - val_loss: 0.3579 - val_acc: 0.8760\n",
      "Epoch 44/70\n",
      "2172/2172 - 5s - loss: 0.2682 - acc: 0.9130 - val_loss: 0.5123 - val_acc: 0.8017\n",
      "Epoch 45/70\n",
      "2172/2172 - 5s - loss: 0.2306 - acc: 0.9254 - val_loss: 0.6229 - val_acc: 0.7893\n",
      "Epoch 46/70\n",
      "2172/2172 - 5s - loss: 0.2535 - acc: 0.9190 - val_loss: 0.5967 - val_acc: 0.7893\n",
      "Epoch 47/70\n",
      "2172/2172 - 5s - loss: 0.2454 - acc: 0.9240 - val_loss: 0.3195 - val_acc: 0.8926\n",
      "Epoch 48/70\n",
      "2172/2172 - 5s - loss: 0.3421 - acc: 0.8959 - val_loss: 0.3993 - val_acc: 0.8843\n",
      "Epoch 49/70\n",
      "2172/2172 - 5s - loss: 0.2479 - acc: 0.9162 - val_loss: 0.7830 - val_acc: 0.7521\n",
      "Epoch 50/70\n",
      "2172/2172 - 5s - loss: 0.2282 - acc: 0.9227 - val_loss: 0.2690 - val_acc: 0.9050\n",
      "Epoch 51/70\n",
      "2172/2172 - 5s - loss: 0.2061 - acc: 0.9378 - val_loss: 0.4798 - val_acc: 0.8471\n",
      "Epoch 52/70\n",
      "2172/2172 - 5s - loss: 0.2537 - acc: 0.9231 - val_loss: 1.0749 - val_acc: 0.7025\n",
      "Epoch 53/70\n",
      "2172/2172 - 5s - loss: 0.2295 - acc: 0.9245 - val_loss: 0.3790 - val_acc: 0.8636\n",
      "Epoch 54/70\n",
      "2172/2172 - 5s - loss: 0.2390 - acc: 0.9231 - val_loss: 3.0245 - val_acc: 0.1736\n",
      "Epoch 55/70\n",
      "2172/2172 - 5s - loss: 0.2098 - acc: 0.9300 - val_loss: 0.4699 - val_acc: 0.8636\n",
      "Epoch 56/70\n",
      "2172/2172 - 5s - loss: 0.2111 - acc: 0.9355 - val_loss: 0.3093 - val_acc: 0.9091\n",
      "Epoch 57/70\n",
      "2172/2172 - 5s - loss: 0.2267 - acc: 0.9273 - val_loss: 1.7860 - val_acc: 0.4835\n",
      "Epoch 58/70\n",
      "2172/2172 - 5s - loss: 0.2010 - acc: 0.9374 - val_loss: 0.4425 - val_acc: 0.8471\n",
      "Epoch 59/70\n",
      "2172/2172 - 5s - loss: 0.2059 - acc: 0.9365 - val_loss: 0.1675 - val_acc: 0.9463\n",
      "Epoch 60/70\n",
      "2172/2172 - 5s - loss: 0.1884 - acc: 0.9411 - val_loss: 0.2219 - val_acc: 0.9339\n",
      "Epoch 61/70\n",
      "2172/2172 - 5s - loss: 0.2198 - acc: 0.9351 - val_loss: 0.3542 - val_acc: 0.9215\n",
      "Epoch 62/70\n",
      "2172/2172 - 5s - loss: 0.2063 - acc: 0.9448 - val_loss: 2.7069 - val_acc: 0.3347\n",
      "Epoch 63/70\n",
      "2172/2172 - 5s - loss: 0.1921 - acc: 0.9424 - val_loss: 0.2713 - val_acc: 0.9008\n",
      "Epoch 64/70\n",
      "2172/2172 - 5s - loss: 0.2037 - acc: 0.9342 - val_loss: 0.3056 - val_acc: 0.9132\n",
      "Epoch 65/70\n",
      "2172/2172 - 5s - loss: 0.1629 - acc: 0.9521 - val_loss: 0.2513 - val_acc: 0.9256\n",
      "Epoch 66/70\n",
      "2172/2172 - 5s - loss: 0.1800 - acc: 0.9494 - val_loss: 0.3558 - val_acc: 0.8926\n",
      "Epoch 67/70\n",
      "2172/2172 - 5s - loss: 0.1671 - acc: 0.9457 - val_loss: 0.1650 - val_acc: 0.9421\n",
      "Epoch 68/70\n",
      "2172/2172 - 5s - loss: 0.1852 - acc: 0.9378 - val_loss: 0.2366 - val_acc: 0.9339\n",
      "Epoch 69/70\n",
      "2172/2172 - 5s - loss: 0.1384 - acc: 0.9595 - val_loss: 0.1607 - val_acc: 0.9504\n",
      "Epoch 70/70\n",
      "2172/2172 - 5s - loss: 0.1331 - acc: 0.9558 - val_loss: 0.2666 - val_acc: 0.9215\n"
     ]
    },
    {
     "data": {
      "text/html": [
       "<span style=\"color:#4527A0\"><h1 style=\"font-size:18px\">Trial complete</h1></span>"
      ],
      "text/plain": [
       "<IPython.core.display.HTML object>"
      ]
     },
     "metadata": {},
     "output_type": "display_data"
    },
    {
     "data": {
      "text/html": [
       "<span style=\"color:#4527A0\"><h1 style=\"font-size:18px\">Trial summary</h1></span>"
      ],
      "text/plain": [
       "<IPython.core.display.HTML object>"
      ]
     },
     "metadata": {},
     "output_type": "display_data"
    },
    {
     "data": {
      "text/html": [
       "<span style=\"color:cyan\"> |-Trial ID: 2425a9838ec11db6e688a541e4a2f33a</span>"
      ],
      "text/plain": [
       "<IPython.core.display.HTML object>"
      ]
     },
     "metadata": {},
     "output_type": "display_data"
    },
    {
     "data": {
      "text/html": [
       "<span style=\"color:cyan\"> |-Score: 0.9462809562683105</span>"
      ],
      "text/plain": [
       "<IPython.core.display.HTML object>"
      ]
     },
     "metadata": {},
     "output_type": "display_data"
    },
    {
     "data": {
      "text/html": [
       "<span style=\"color:cyan\"> |-Best step: 0</span>"
      ],
      "text/plain": [
       "<IPython.core.display.HTML object>"
      ]
     },
     "metadata": {},
     "output_type": "display_data"
    },
    {
     "data": {
      "text/html": [
       "<span style=\"color:#7E57C2\"><h2 style=\"font-size:16px\">Hyperparameters:</h2></span>"
      ],
      "text/plain": [
       "<IPython.core.display.HTML object>"
      ]
     },
     "metadata": {},
     "output_type": "display_data"
    },
    {
     "data": {
      "text/html": [
       "<span style=\"color:cyan\"> |-Conv1: 256</span>"
      ],
      "text/plain": [
       "<IPython.core.display.HTML object>"
      ]
     },
     "metadata": {},
     "output_type": "display_data"
    },
    {
     "data": {
      "text/html": [
       "<span style=\"color:blue\"> |-Conv2: 120</span>"
      ],
      "text/plain": [
       "<IPython.core.display.HTML object>"
      ]
     },
     "metadata": {},
     "output_type": "display_data"
    },
    {
     "data": {
      "text/html": [
       "<span style=\"color:cyan\"> |-Conv3: 256</span>"
      ],
      "text/plain": [
       "<IPython.core.display.HTML object>"
      ]
     },
     "metadata": {},
     "output_type": "display_data"
    },
    {
     "data": {
      "text/html": [
       "<span style=\"color:blue\"> |-Conv4: 128</span>"
      ],
      "text/plain": [
       "<IPython.core.display.HTML object>"
      ]
     },
     "metadata": {},
     "output_type": "display_data"
    },
    {
     "name": "stdout",
     "output_type": "stream",
     "text": [
      "Train on 2172 samples, validate on 242 samples\n",
      "Epoch 1/70\n",
      "2172/2172 - 8s - loss: 1.6109 - acc: 0.5037 - val_loss: 1.5062 - val_acc: 0.5455\n",
      "Epoch 2/70\n",
      "2172/2172 - 7s - loss: 1.3765 - acc: 0.5534 - val_loss: 1.1353 - val_acc: 0.6364\n",
      "Epoch 3/70\n",
      "2172/2172 - 7s - loss: 1.2002 - acc: 0.5939 - val_loss: 1.0301 - val_acc: 0.6488\n",
      "Epoch 4/70\n",
      "2172/2172 - 7s - loss: 1.1664 - acc: 0.6004 - val_loss: 1.1026 - val_acc: 0.6116\n",
      "Epoch 5/70\n",
      "2172/2172 - 7s - loss: 1.1188 - acc: 0.6133 - val_loss: 1.1761 - val_acc: 0.6198\n",
      "Epoch 6/70\n",
      "2172/2172 - 7s - loss: 1.0826 - acc: 0.6285 - val_loss: 1.2136 - val_acc: 0.4752\n",
      "Epoch 7/70\n",
      "2172/2172 - 7s - loss: 1.0134 - acc: 0.6436 - val_loss: 1.0274 - val_acc: 0.6612\n",
      "Epoch 8/70\n",
      "2172/2172 - 7s - loss: 0.9717 - acc: 0.6501 - val_loss: 1.5413 - val_acc: 0.3182\n",
      "Epoch 9/70\n",
      "2172/2172 - 7s - loss: 0.8908 - acc: 0.6878 - val_loss: 1.9673 - val_acc: 0.2686\n",
      "Epoch 10/70\n",
      "2172/2172 - 7s - loss: 0.8526 - acc: 0.7122 - val_loss: 3.2550 - val_acc: 0.1860\n",
      "Epoch 11/70\n",
      "2172/2172 - 7s - loss: 0.8174 - acc: 0.7238 - val_loss: 1.1679 - val_acc: 0.5289\n",
      "Epoch 12/70\n",
      "2172/2172 - 7s - loss: 0.7787 - acc: 0.7348 - val_loss: 0.6836 - val_acc: 0.7521\n",
      "Epoch 13/70\n",
      "2172/2172 - 7s - loss: 0.7268 - acc: 0.7574 - val_loss: 0.7951 - val_acc: 0.7273\n",
      "Epoch 14/70\n",
      "2172/2172 - 8s - loss: 0.6895 - acc: 0.7716 - val_loss: 0.6341 - val_acc: 0.7934\n",
      "Epoch 15/70\n",
      "2172/2172 - 7s - loss: 0.6370 - acc: 0.7864 - val_loss: 0.7178 - val_acc: 0.6942\n",
      "Epoch 16/70\n",
      "2172/2172 - 7s - loss: 0.6512 - acc: 0.7914 - val_loss: 1.0943 - val_acc: 0.6198\n",
      "Epoch 17/70\n",
      "2172/2172 - 7s - loss: 0.6623 - acc: 0.7882 - val_loss: 0.6853 - val_acc: 0.7355\n",
      "Epoch 18/70\n",
      "2172/2172 - 7s - loss: 0.5968 - acc: 0.7983 - val_loss: 1.3357 - val_acc: 0.5289\n",
      "Epoch 19/70\n",
      "2172/2172 - 8s - loss: 0.5777 - acc: 0.8181 - val_loss: 0.4370 - val_acc: 0.8347\n",
      "Epoch 20/70\n",
      "2172/2172 - 7s - loss: 0.5615 - acc: 0.8163 - val_loss: 0.4671 - val_acc: 0.8223\n",
      "Epoch 21/70\n",
      "2172/2172 - 8s - loss: 0.5504 - acc: 0.8168 - val_loss: 0.4245 - val_acc: 0.8595\n",
      "Epoch 22/70\n",
      "2172/2172 - 7s - loss: 0.5043 - acc: 0.8223 - val_loss: 0.5223 - val_acc: 0.8099\n",
      "Epoch 23/70\n",
      "2172/2172 - 7s - loss: 0.4803 - acc: 0.8366 - val_loss: 0.6230 - val_acc: 0.7686\n",
      "Epoch 24/70\n",
      "2172/2172 - 7s - loss: 0.4922 - acc: 0.8361 - val_loss: 0.5633 - val_acc: 0.7851\n",
      "Epoch 25/70\n",
      "2172/2172 - 7s - loss: 0.4695 - acc: 0.8531 - val_loss: 0.4425 - val_acc: 0.8678\n",
      "Epoch 26/70\n",
      "2172/2172 - 7s - loss: 0.4587 - acc: 0.8490 - val_loss: 0.5563 - val_acc: 0.7686\n",
      "Epoch 27/70\n",
      "2172/2172 - 7s - loss: 0.4292 - acc: 0.8536 - val_loss: 0.7237 - val_acc: 0.7603\n",
      "Epoch 28/70\n",
      "2172/2172 - 8s - loss: 0.4030 - acc: 0.8669 - val_loss: 0.3529 - val_acc: 0.8802\n",
      "Epoch 29/70\n",
      "2172/2172 - 7s - loss: 0.4320 - acc: 0.8610 - val_loss: 0.4153 - val_acc: 0.8347\n",
      "Epoch 30/70\n",
      "2172/2172 - 7s - loss: 0.3869 - acc: 0.8821 - val_loss: 0.7005 - val_acc: 0.7521\n",
      "Epoch 31/70\n",
      "2172/2172 - 7s - loss: 0.3777 - acc: 0.8757 - val_loss: 0.6248 - val_acc: 0.8017\n",
      "Epoch 32/70\n",
      "2172/2172 - 7s - loss: 0.3940 - acc: 0.8715 - val_loss: 0.5478 - val_acc: 0.8017\n",
      "Epoch 33/70\n",
      "2172/2172 - 7s - loss: 0.3747 - acc: 0.8775 - val_loss: 0.4392 - val_acc: 0.8512\n",
      "Epoch 34/70\n",
      "2172/2172 - 7s - loss: 0.3094 - acc: 0.8913 - val_loss: 0.3882 - val_acc: 0.8388\n",
      "Epoch 35/70\n",
      "2172/2172 - 7s - loss: 0.3461 - acc: 0.8987 - val_loss: 0.5100 - val_acc: 0.8223\n",
      "Epoch 36/70\n",
      "2172/2172 - 8s - loss: 0.3159 - acc: 0.9015 - val_loss: 0.3042 - val_acc: 0.9050\n",
      "Epoch 37/70\n",
      "2172/2172 - 7s - loss: 0.3438 - acc: 0.8872 - val_loss: 0.2854 - val_acc: 0.8884\n",
      "Epoch 38/70\n",
      "2172/2172 - 7s - loss: 0.3057 - acc: 0.8941 - val_loss: 0.4228 - val_acc: 0.8512\n",
      "Epoch 39/70\n",
      "2172/2172 - 7s - loss: 0.3111 - acc: 0.9033 - val_loss: 0.3507 - val_acc: 0.8802\n",
      "Epoch 40/70\n",
      "2172/2172 - 7s - loss: 0.2996 - acc: 0.8964 - val_loss: 0.2501 - val_acc: 0.9174\n",
      "Epoch 41/70\n",
      "2172/2172 - 7s - loss: 0.2466 - acc: 0.9208 - val_loss: 0.4394 - val_acc: 0.8719\n",
      "Epoch 42/70\n",
      "2172/2172 - 7s - loss: 0.2421 - acc: 0.9254 - val_loss: 0.3289 - val_acc: 0.8884\n",
      "Epoch 43/70\n",
      "2172/2172 - 7s - loss: 0.2538 - acc: 0.9134 - val_loss: 0.2555 - val_acc: 0.9215\n",
      "Epoch 44/70\n",
      "2172/2172 - 7s - loss: 0.2465 - acc: 0.9222 - val_loss: 0.2782 - val_acc: 0.9050\n",
      "Epoch 45/70\n",
      "2172/2172 - 7s - loss: 0.2346 - acc: 0.9199 - val_loss: 0.3366 - val_acc: 0.9008\n",
      "Epoch 46/70\n",
      "2172/2172 - 7s - loss: 0.2538 - acc: 0.9167 - val_loss: 0.3194 - val_acc: 0.8967\n",
      "Epoch 47/70\n",
      "2172/2172 - 7s - loss: 0.2804 - acc: 0.9121 - val_loss: 0.5831 - val_acc: 0.7769\n",
      "Epoch 48/70\n",
      "2172/2172 - 7s - loss: 0.2676 - acc: 0.9217 - val_loss: 0.5987 - val_acc: 0.8264\n",
      "Epoch 49/70\n",
      "2172/2172 - 7s - loss: 0.2218 - acc: 0.9268 - val_loss: 0.5337 - val_acc: 0.8430\n",
      "Epoch 50/70\n",
      "2172/2172 - 7s - loss: 0.2100 - acc: 0.9309 - val_loss: 0.7468 - val_acc: 0.7231\n",
      "Epoch 51/70\n",
      "2172/2172 - 7s - loss: 0.2312 - acc: 0.9203 - val_loss: 0.3033 - val_acc: 0.9091\n",
      "Epoch 52/70\n",
      "2172/2172 - 7s - loss: 0.1940 - acc: 0.9355 - val_loss: 0.6835 - val_acc: 0.8099\n",
      "Epoch 53/70\n",
      "2172/2172 - 7s - loss: 0.2138 - acc: 0.9291 - val_loss: 0.3545 - val_acc: 0.9050\n",
      "Epoch 54/70\n",
      "2172/2172 - 7s - loss: 0.1994 - acc: 0.9355 - val_loss: 0.2454 - val_acc: 0.9050\n",
      "Epoch 55/70\n",
      "2172/2172 - 7s - loss: 0.1727 - acc: 0.9452 - val_loss: 0.3306 - val_acc: 0.8678\n",
      "Epoch 56/70\n",
      "2172/2172 - 7s - loss: 0.1882 - acc: 0.9397 - val_loss: 0.2194 - val_acc: 0.9132\n",
      "Epoch 57/70\n",
      "2172/2172 - 7s - loss: 0.1862 - acc: 0.9457 - val_loss: 1.0710 - val_acc: 0.7273\n",
      "Epoch 58/70\n",
      "2172/2172 - 7s - loss: 0.1820 - acc: 0.9452 - val_loss: 0.2832 - val_acc: 0.9132\n",
      "Epoch 59/70\n",
      "2172/2172 - 7s - loss: 0.1849 - acc: 0.9424 - val_loss: 0.1768 - val_acc: 0.9380\n",
      "Epoch 60/70\n",
      "2172/2172 - 7s - loss: 0.2112 - acc: 0.9319 - val_loss: 0.2837 - val_acc: 0.9050\n",
      "Epoch 61/70\n",
      "2172/2172 - 7s - loss: 0.1689 - acc: 0.9434 - val_loss: 0.1868 - val_acc: 0.9298\n",
      "Epoch 62/70\n",
      "2172/2172 - 7s - loss: 0.2036 - acc: 0.9438 - val_loss: 0.2205 - val_acc: 0.9215\n",
      "Epoch 63/70\n",
      "2172/2172 - 7s - loss: 0.1853 - acc: 0.9438 - val_loss: 0.2345 - val_acc: 0.9298\n",
      "Epoch 64/70\n",
      "2172/2172 - 7s - loss: 0.1688 - acc: 0.9448 - val_loss: 0.4005 - val_acc: 0.8471\n",
      "Epoch 65/70\n",
      "2172/2172 - 7s - loss: 0.1448 - acc: 0.9489 - val_loss: 0.1960 - val_acc: 0.9463\n",
      "Epoch 66/70\n",
      "2172/2172 - 7s - loss: 0.1332 - acc: 0.9558 - val_loss: 0.2659 - val_acc: 0.9256\n",
      "Epoch 67/70\n",
      "2172/2172 - 7s - loss: 0.2289 - acc: 0.9291 - val_loss: 0.2818 - val_acc: 0.9256\n",
      "Epoch 68/70\n",
      "2172/2172 - 7s - loss: 0.1789 - acc: 0.9471 - val_loss: 0.2092 - val_acc: 0.9380\n",
      "Epoch 69/70\n",
      "2172/2172 - 7s - loss: 0.1541 - acc: 0.9480 - val_loss: 0.5536 - val_acc: 0.8554\n",
      "Epoch 70/70\n",
      "2172/2172 - 7s - loss: 0.1596 - acc: 0.9530 - val_loss: 0.2351 - val_acc: 0.9298\n",
      "Train on 2172 samples, validate on 242 samples\n",
      "Epoch 1/70\n",
      "2172/2172 - 8s - loss: 1.5434 - acc: 0.5166 - val_loss: 1.3704 - val_acc: 0.6033\n",
      "Epoch 2/70\n",
      "2172/2172 - 7s - loss: 1.3014 - acc: 0.5760 - val_loss: 1.8551 - val_acc: 0.5868\n",
      "Epoch 3/70\n",
      "2172/2172 - 7s - loss: 1.1750 - acc: 0.5810 - val_loss: 2.8851 - val_acc: 0.3264\n",
      "Epoch 4/70\n",
      "2172/2172 - 7s - loss: 1.1427 - acc: 0.5953 - val_loss: 1.0010 - val_acc: 0.6860\n",
      "Epoch 5/70\n",
      "2172/2172 - 7s - loss: 1.0786 - acc: 0.6151 - val_loss: 1.7056 - val_acc: 0.5289\n",
      "Epoch 6/70\n",
      "2172/2172 - 7s - loss: 1.0332 - acc: 0.6229 - val_loss: 1.7705 - val_acc: 0.5744\n",
      "Epoch 7/70\n",
      "2172/2172 - 7s - loss: 1.0081 - acc: 0.6418 - val_loss: 2.1238 - val_acc: 0.1860\n",
      "Epoch 8/70\n",
      "2172/2172 - 7s - loss: 0.9485 - acc: 0.6727 - val_loss: 0.8362 - val_acc: 0.7107\n",
      "Epoch 9/70\n",
      "2172/2172 - 7s - loss: 0.8642 - acc: 0.7026 - val_loss: 7.5577 - val_acc: 0.1074\n",
      "Epoch 10/70\n",
      "2172/2172 - 7s - loss: 0.8204 - acc: 0.7274 - val_loss: 0.8079 - val_acc: 0.7190\n",
      "Epoch 11/70\n",
      "2172/2172 - 7s - loss: 0.7879 - acc: 0.7394 - val_loss: 0.6629 - val_acc: 0.7810\n",
      "Epoch 12/70\n",
      "2172/2172 - 7s - loss: 0.7303 - acc: 0.7500 - val_loss: 1.3854 - val_acc: 0.5289\n",
      "Epoch 13/70\n",
      "2172/2172 - 7s - loss: 0.7195 - acc: 0.7643 - val_loss: 0.9743 - val_acc: 0.6694\n",
      "Epoch 14/70\n",
      "2172/2172 - 7s - loss: 0.6699 - acc: 0.7785 - val_loss: 1.1055 - val_acc: 0.5992\n",
      "Epoch 15/70\n",
      "2172/2172 - 7s - loss: 0.6412 - acc: 0.7808 - val_loss: 0.6313 - val_acc: 0.7851\n",
      "Epoch 16/70\n",
      "2172/2172 - 7s - loss: 0.6469 - acc: 0.7822 - val_loss: 0.8949 - val_acc: 0.7231\n",
      "Epoch 17/70\n",
      "2172/2172 - 7s - loss: 0.5666 - acc: 0.8145 - val_loss: 0.5354 - val_acc: 0.8306\n",
      "Epoch 18/70\n",
      "2172/2172 - 7s - loss: 0.5950 - acc: 0.8029 - val_loss: 0.7760 - val_acc: 0.7727\n"
     ]
    },
    {
     "name": "stdout",
     "output_type": "stream",
     "text": [
      "Epoch 19/70\n",
      "2172/2172 - 7s - loss: 0.5478 - acc: 0.8181 - val_loss: 0.7764 - val_acc: 0.8182\n",
      "Epoch 20/70\n",
      "2172/2172 - 7s - loss: 0.5068 - acc: 0.8227 - val_loss: 0.8619 - val_acc: 0.6446\n",
      "Epoch 21/70\n",
      "2172/2172 - 7s - loss: 0.5205 - acc: 0.8273 - val_loss: 0.4657 - val_acc: 0.8595\n",
      "Epoch 22/70\n",
      "2172/2172 - 7s - loss: 0.4877 - acc: 0.8439 - val_loss: 0.3811 - val_acc: 0.8636\n",
      "Epoch 23/70\n",
      "2172/2172 - 7s - loss: 0.4723 - acc: 0.8435 - val_loss: 0.5999 - val_acc: 0.7975\n",
      "Epoch 24/70\n",
      "2172/2172 - 7s - loss: 0.4243 - acc: 0.8517 - val_loss: 0.4393 - val_acc: 0.8223\n",
      "Epoch 25/70\n",
      "2172/2172 - 7s - loss: 0.5050 - acc: 0.8425 - val_loss: 0.8461 - val_acc: 0.6818\n",
      "Epoch 26/70\n",
      "2172/2172 - 7s - loss: 0.4020 - acc: 0.8651 - val_loss: 0.2871 - val_acc: 0.8884\n",
      "Epoch 27/70\n",
      "2172/2172 - 7s - loss: 0.4422 - acc: 0.8577 - val_loss: 2.4567 - val_acc: 0.2727\n",
      "Epoch 28/70\n",
      "2172/2172 - 7s - loss: 0.3981 - acc: 0.8725 - val_loss: 0.3872 - val_acc: 0.8512\n",
      "Epoch 29/70\n",
      "2172/2172 - 7s - loss: 0.4021 - acc: 0.8720 - val_loss: 0.3570 - val_acc: 0.8926\n",
      "Epoch 30/70\n",
      "2172/2172 - 7s - loss: 0.3800 - acc: 0.8748 - val_loss: 0.5474 - val_acc: 0.7810\n",
      "Epoch 31/70\n",
      "2172/2172 - 7s - loss: 0.3941 - acc: 0.8702 - val_loss: 0.3498 - val_acc: 0.8967\n",
      "Epoch 32/70\n",
      "2172/2172 - 7s - loss: 0.3843 - acc: 0.8766 - val_loss: 1.0386 - val_acc: 0.6364\n",
      "Epoch 33/70\n",
      "2172/2172 - 7s - loss: 0.3608 - acc: 0.8821 - val_loss: 0.3828 - val_acc: 0.8843\n",
      "Epoch 34/70\n",
      "2172/2172 - 7s - loss: 0.3671 - acc: 0.8840 - val_loss: 0.2666 - val_acc: 0.9008\n",
      "Epoch 35/70\n",
      "2172/2172 - 7s - loss: 0.3077 - acc: 0.8955 - val_loss: 0.4108 - val_acc: 0.8595\n",
      "Epoch 36/70\n",
      "2172/2172 - 7s - loss: 0.3018 - acc: 0.9038 - val_loss: 0.2581 - val_acc: 0.9132\n",
      "Epoch 37/70\n",
      "2172/2172 - 7s - loss: 0.3141 - acc: 0.8992 - val_loss: 0.3716 - val_acc: 0.8595\n",
      "Epoch 38/70\n",
      "2172/2172 - 7s - loss: 0.2917 - acc: 0.9038 - val_loss: 0.3193 - val_acc: 0.9050\n",
      "Epoch 39/70\n",
      "2172/2172 - 7s - loss: 0.2578 - acc: 0.9102 - val_loss: 0.3137 - val_acc: 0.9008\n",
      "Epoch 40/70\n",
      "2172/2172 - 7s - loss: 0.3004 - acc: 0.9006 - val_loss: 0.2884 - val_acc: 0.9091\n",
      "Epoch 41/70\n",
      "2172/2172 - 7s - loss: 0.3078 - acc: 0.9019 - val_loss: 0.6427 - val_acc: 0.7479\n",
      "Epoch 42/70\n",
      "2172/2172 - 7s - loss: 0.2554 - acc: 0.9213 - val_loss: 0.6379 - val_acc: 0.7893\n",
      "Epoch 43/70\n",
      "2172/2172 - 7s - loss: 0.2808 - acc: 0.9075 - val_loss: 0.3670 - val_acc: 0.8926\n",
      "Epoch 44/70\n",
      "2172/2172 - 7s - loss: 0.2550 - acc: 0.9167 - val_loss: 0.4076 - val_acc: 0.8719\n",
      "Epoch 45/70\n",
      "2172/2172 - 7s - loss: 0.2618 - acc: 0.9148 - val_loss: 0.5033 - val_acc: 0.8264\n",
      "Epoch 46/70\n",
      "2172/2172 - 7s - loss: 0.2401 - acc: 0.9286 - val_loss: 0.2419 - val_acc: 0.9174\n",
      "Epoch 47/70\n",
      "2172/2172 - 7s - loss: 0.2569 - acc: 0.9259 - val_loss: 0.4641 - val_acc: 0.8554\n",
      "Epoch 48/70\n",
      "2172/2172 - 7s - loss: 0.2306 - acc: 0.9213 - val_loss: 0.5005 - val_acc: 0.8388\n",
      "Epoch 49/70\n",
      "2172/2172 - 7s - loss: 0.2522 - acc: 0.9236 - val_loss: 0.8693 - val_acc: 0.7521\n",
      "Epoch 50/70\n",
      "2172/2172 - 7s - loss: 0.2307 - acc: 0.9273 - val_loss: 0.3345 - val_acc: 0.9091\n",
      "Epoch 51/70\n",
      "2172/2172 - 7s - loss: 0.2254 - acc: 0.9268 - val_loss: 0.2036 - val_acc: 0.9298\n",
      "Epoch 52/70\n",
      "2172/2172 - 7s - loss: 0.2276 - acc: 0.9263 - val_loss: 0.2635 - val_acc: 0.9256\n",
      "Epoch 53/70\n",
      "2172/2172 - 7s - loss: 0.2600 - acc: 0.9263 - val_loss: 2.3351 - val_acc: 0.5992\n",
      "Epoch 54/70\n",
      "2172/2172 - 7s - loss: 0.2133 - acc: 0.9296 - val_loss: 0.2353 - val_acc: 0.9215\n",
      "Epoch 55/70\n",
      "2172/2172 - 7s - loss: 0.1920 - acc: 0.9401 - val_loss: 0.2977 - val_acc: 0.9008\n",
      "Epoch 56/70\n",
      "2172/2172 - 7s - loss: 0.2298 - acc: 0.9286 - val_loss: 0.5335 - val_acc: 0.8182\n",
      "Epoch 57/70\n",
      "2172/2172 - 7s - loss: 0.2114 - acc: 0.9337 - val_loss: 0.1906 - val_acc: 0.9421\n",
      "Epoch 58/70\n",
      "2172/2172 - 7s - loss: 0.1984 - acc: 0.9406 - val_loss: 0.4892 - val_acc: 0.8306\n",
      "Epoch 59/70\n",
      "2172/2172 - 7s - loss: 0.1669 - acc: 0.9443 - val_loss: 0.4766 - val_acc: 0.8306\n",
      "Epoch 60/70\n",
      "2172/2172 - 7s - loss: 0.1799 - acc: 0.9471 - val_loss: 1.5100 - val_acc: 0.6942\n",
      "Epoch 61/70\n",
      "2172/2172 - 7s - loss: 0.1670 - acc: 0.9475 - val_loss: 0.5020 - val_acc: 0.8595\n",
      "Epoch 62/70\n",
      "2172/2172 - 7s - loss: 0.1708 - acc: 0.9466 - val_loss: 0.6889 - val_acc: 0.8017\n",
      "Epoch 63/70\n",
      "2172/2172 - 7s - loss: 0.1652 - acc: 0.9480 - val_loss: 0.2133 - val_acc: 0.9298\n",
      "Epoch 64/70\n",
      "2172/2172 - 7s - loss: 0.1816 - acc: 0.9415 - val_loss: 0.2257 - val_acc: 0.9339\n",
      "Epoch 65/70\n",
      "2172/2172 - 7s - loss: 0.1881 - acc: 0.9448 - val_loss: 0.1748 - val_acc: 0.9421\n",
      "Epoch 66/70\n",
      "2172/2172 - 7s - loss: 0.1338 - acc: 0.9590 - val_loss: 0.1455 - val_acc: 0.9587\n",
      "Epoch 67/70\n",
      "2172/2172 - 7s - loss: 0.1997 - acc: 0.9443 - val_loss: 0.2007 - val_acc: 0.9463\n",
      "Epoch 68/70\n",
      "2172/2172 - 7s - loss: 0.1773 - acc: 0.9503 - val_loss: 0.8663 - val_acc: 0.6529\n",
      "Epoch 69/70\n",
      "2172/2172 - 7s - loss: 0.1825 - acc: 0.9461 - val_loss: 0.3325 - val_acc: 0.8884\n",
      "Epoch 70/70\n",
      "2172/2172 - 7s - loss: 0.1570 - acc: 0.9521 - val_loss: 0.2216 - val_acc: 0.9421\n"
     ]
    },
    {
     "data": {
      "text/html": [
       "<span style=\"color:#4527A0\"><h1 style=\"font-size:18px\">Trial complete</h1></span>"
      ],
      "text/plain": [
       "<IPython.core.display.HTML object>"
      ]
     },
     "metadata": {},
     "output_type": "display_data"
    },
    {
     "data": {
      "text/html": [
       "<span style=\"color:#4527A0\"><h1 style=\"font-size:18px\">Trial summary</h1></span>"
      ],
      "text/plain": [
       "<IPython.core.display.HTML object>"
      ]
     },
     "metadata": {},
     "output_type": "display_data"
    },
    {
     "data": {
      "text/html": [
       "<span style=\"color:cyan\"> |-Trial ID: 2909bc2a1b7d65f730fcad527cf98954</span>"
      ],
      "text/plain": [
       "<IPython.core.display.HTML object>"
      ]
     },
     "metadata": {},
     "output_type": "display_data"
    },
    {
     "data": {
      "text/html": [
       "<span style=\"color:cyan\"> |-Score: 0.952479362487793</span>"
      ],
      "text/plain": [
       "<IPython.core.display.HTML object>"
      ]
     },
     "metadata": {},
     "output_type": "display_data"
    },
    {
     "data": {
      "text/html": [
       "<span style=\"color:cyan\"> |-Best step: 0</span>"
      ],
      "text/plain": [
       "<IPython.core.display.HTML object>"
      ]
     },
     "metadata": {},
     "output_type": "display_data"
    },
    {
     "data": {
      "text/html": [
       "<span style=\"color:#7E57C2\"><h2 style=\"font-size:16px\">Hyperparameters:</h2></span>"
      ],
      "text/plain": [
       "<IPython.core.display.HTML object>"
      ]
     },
     "metadata": {},
     "output_type": "display_data"
    },
    {
     "data": {
      "text/html": [
       "<span style=\"color:cyan\"> |-Conv1: 512</span>"
      ],
      "text/plain": [
       "<IPython.core.display.HTML object>"
      ]
     },
     "metadata": {},
     "output_type": "display_data"
    },
    {
     "data": {
      "text/html": [
       "<span style=\"color:blue\"> |-Conv2: 120</span>"
      ],
      "text/plain": [
       "<IPython.core.display.HTML object>"
      ]
     },
     "metadata": {},
     "output_type": "display_data"
    },
    {
     "data": {
      "text/html": [
       "<span style=\"color:cyan\"> |-Conv3: 512</span>"
      ],
      "text/plain": [
       "<IPython.core.display.HTML object>"
      ]
     },
     "metadata": {},
     "output_type": "display_data"
    },
    {
     "data": {
      "text/html": [
       "<span style=\"color:blue\"> |-Conv4: 512</span>"
      ],
      "text/plain": [
       "<IPython.core.display.HTML object>"
      ]
     },
     "metadata": {},
     "output_type": "display_data"
    },
    {
     "name": "stdout",
     "output_type": "stream",
     "text": [
      "Train on 2172 samples, validate on 242 samples\n",
      "Epoch 1/70\n",
      "2172/2172 - 5s - loss: 1.5853 - acc: 0.5078 - val_loss: 1.4614 - val_acc: 0.6074\n",
      "Epoch 2/70\n",
      "2172/2172 - 4s - loss: 1.3375 - acc: 0.5654 - val_loss: 1.3696 - val_acc: 0.5579\n",
      "Epoch 3/70\n",
      "2172/2172 - 4s - loss: 1.2078 - acc: 0.5856 - val_loss: 1.6772 - val_acc: 0.5744\n",
      "Epoch 4/70\n",
      "2172/2172 - 4s - loss: 1.1630 - acc: 0.6091 - val_loss: 1.3453 - val_acc: 0.5455\n",
      "Epoch 5/70\n",
      "2172/2172 - 4s - loss: 1.1208 - acc: 0.6110 - val_loss: 0.9694 - val_acc: 0.6653\n",
      "Epoch 6/70\n",
      "2172/2172 - 5s - loss: 1.0793 - acc: 0.6183 - val_loss: 0.9866 - val_acc: 0.6736\n",
      "Epoch 7/70\n",
      "2172/2172 - 4s - loss: 1.0665 - acc: 0.6192 - val_loss: 1.1038 - val_acc: 0.6364\n",
      "Epoch 8/70\n",
      "2172/2172 - 4s - loss: 0.9540 - acc: 0.6607 - val_loss: 1.7428 - val_acc: 0.2810\n",
      "Epoch 9/70\n",
      "2172/2172 - 4s - loss: 0.9302 - acc: 0.6855 - val_loss: 1.7233 - val_acc: 0.6281\n",
      "Epoch 10/70\n",
      "2172/2172 - 4s - loss: 0.8523 - acc: 0.7076 - val_loss: 0.6972 - val_acc: 0.7851\n",
      "Epoch 11/70\n",
      "2172/2172 - 4s - loss: 0.8182 - acc: 0.7233 - val_loss: 1.0814 - val_acc: 0.5579\n",
      "Epoch 12/70\n",
      "2172/2172 - 4s - loss: 0.7827 - acc: 0.7366 - val_loss: 1.2706 - val_acc: 0.6074\n",
      "Epoch 13/70\n",
      "2172/2172 - 5s - loss: 0.7364 - acc: 0.7486 - val_loss: 0.8009 - val_acc: 0.6901\n",
      "Epoch 14/70\n",
      "2172/2172 - 4s - loss: 0.6448 - acc: 0.7818 - val_loss: 2.7624 - val_acc: 0.2066\n",
      "Epoch 15/70\n",
      "2172/2172 - 4s - loss: 0.6667 - acc: 0.7781 - val_loss: 0.5217 - val_acc: 0.8306\n",
      "Epoch 16/70\n",
      "2172/2172 - 4s - loss: 0.6198 - acc: 0.8011 - val_loss: 0.4423 - val_acc: 0.8140\n",
      "Epoch 17/70\n",
      "2172/2172 - 4s - loss: 0.5766 - acc: 0.8048 - val_loss: 0.8475 - val_acc: 0.7066\n",
      "Epoch 18/70\n",
      "2172/2172 - 4s - loss: 0.6042 - acc: 0.8080 - val_loss: 0.4764 - val_acc: 0.8264\n",
      "Epoch 19/70\n",
      "2172/2172 - 4s - loss: 0.5309 - acc: 0.8356 - val_loss: 0.3837 - val_acc: 0.8595\n",
      "Epoch 20/70\n",
      "2172/2172 - 4s - loss: 0.5108 - acc: 0.8333 - val_loss: 1.1742 - val_acc: 0.7025\n",
      "Epoch 21/70\n",
      "2172/2172 - 4s - loss: 0.5216 - acc: 0.8218 - val_loss: 1.5920 - val_acc: 0.6074\n",
      "Epoch 22/70\n",
      "2172/2172 - 4s - loss: 0.4301 - acc: 0.8541 - val_loss: 0.4442 - val_acc: 0.8388\n",
      "Epoch 23/70\n",
      "2172/2172 - 4s - loss: 0.4381 - acc: 0.8517 - val_loss: 0.5168 - val_acc: 0.8554\n",
      "Epoch 24/70\n",
      "2172/2172 - 4s - loss: 0.3902 - acc: 0.8683 - val_loss: 0.4855 - val_acc: 0.8554\n",
      "Epoch 25/70\n",
      "2172/2172 - 4s - loss: 0.4490 - acc: 0.8541 - val_loss: 2.2959 - val_acc: 0.4876\n",
      "Epoch 26/70\n",
      "2172/2172 - 4s - loss: 0.4265 - acc: 0.8720 - val_loss: 1.2052 - val_acc: 0.6157\n",
      "Epoch 27/70\n",
      "2172/2172 - 4s - loss: 0.4782 - acc: 0.8485 - val_loss: 0.3485 - val_acc: 0.8884\n",
      "Epoch 28/70\n",
      "2172/2172 - 4s - loss: 0.4197 - acc: 0.8642 - val_loss: 0.4223 - val_acc: 0.8678\n",
      "Epoch 29/70\n",
      "2172/2172 - 4s - loss: 0.4254 - acc: 0.8623 - val_loss: 0.8522 - val_acc: 0.6364\n",
      "Epoch 30/70\n",
      "2172/2172 - 4s - loss: 0.4036 - acc: 0.8752 - val_loss: 0.3572 - val_acc: 0.8760\n",
      "Epoch 31/70\n",
      "2172/2172 - 4s - loss: 0.3828 - acc: 0.8821 - val_loss: 0.3496 - val_acc: 0.8967\n",
      "Epoch 32/70\n",
      "2172/2172 - 4s - loss: 0.3498 - acc: 0.8812 - val_loss: 0.5060 - val_acc: 0.8140\n",
      "Epoch 33/70\n",
      "2172/2172 - 4s - loss: 0.3601 - acc: 0.8808 - val_loss: 0.3235 - val_acc: 0.8967\n",
      "Epoch 34/70\n",
      "2172/2172 - 4s - loss: 0.3055 - acc: 0.9019 - val_loss: 0.8060 - val_acc: 0.6860\n",
      "Epoch 35/70\n",
      "2172/2172 - 5s - loss: 0.3494 - acc: 0.8844 - val_loss: 0.2878 - val_acc: 0.9050\n",
      "Epoch 36/70\n",
      "2172/2172 - 4s - loss: 0.3237 - acc: 0.9010 - val_loss: 0.4075 - val_acc: 0.8843\n",
      "Epoch 37/70\n",
      "2172/2172 - 4s - loss: 0.2920 - acc: 0.9093 - val_loss: 0.5171 - val_acc: 0.8512\n",
      "Epoch 38/70\n",
      "2172/2172 - 4s - loss: 0.3105 - acc: 0.8983 - val_loss: 0.7469 - val_acc: 0.7107\n",
      "Epoch 39/70\n",
      "2172/2172 - 5s - loss: 0.3243 - acc: 0.8978 - val_loss: 0.2512 - val_acc: 0.9132\n",
      "Epoch 40/70\n",
      "2172/2172 - 5s - loss: 0.3261 - acc: 0.8932 - val_loss: 0.2301 - val_acc: 0.9215\n",
      "Epoch 41/70\n",
      "2172/2172 - 4s - loss: 0.2882 - acc: 0.9029 - val_loss: 0.3355 - val_acc: 0.8678\n",
      "Epoch 42/70\n",
      "2172/2172 - 4s - loss: 0.3186 - acc: 0.8969 - val_loss: 0.3266 - val_acc: 0.8802\n",
      "Epoch 43/70\n",
      "2172/2172 - 4s - loss: 0.3075 - acc: 0.9065 - val_loss: 0.2389 - val_acc: 0.9050\n",
      "Epoch 44/70\n",
      "2172/2172 - 4s - loss: 0.2883 - acc: 0.9019 - val_loss: 0.2921 - val_acc: 0.9050\n",
      "Epoch 45/70\n",
      "2172/2172 - 4s - loss: 0.2789 - acc: 0.9130 - val_loss: 0.2005 - val_acc: 0.9380\n",
      "Epoch 46/70\n",
      "2172/2172 - 4s - loss: 0.2547 - acc: 0.9125 - val_loss: 0.6702 - val_acc: 0.8306\n",
      "Epoch 47/70\n",
      "2172/2172 - 4s - loss: 0.2433 - acc: 0.9176 - val_loss: 0.2131 - val_acc: 0.9298\n",
      "Epoch 48/70\n",
      "2172/2172 - 4s - loss: 0.2659 - acc: 0.9134 - val_loss: 0.2767 - val_acc: 0.9256\n",
      "Epoch 49/70\n",
      "2172/2172 - 4s - loss: 0.2688 - acc: 0.9227 - val_loss: 0.6491 - val_acc: 0.7645\n",
      "Epoch 50/70\n",
      "2172/2172 - 4s - loss: 0.2564 - acc: 0.9171 - val_loss: 0.9920 - val_acc: 0.6901\n",
      "Epoch 51/70\n",
      "2172/2172 - 4s - loss: 0.2472 - acc: 0.9208 - val_loss: 0.2191 - val_acc: 0.9298\n",
      "Epoch 52/70\n",
      "2172/2172 - 4s - loss: 0.2273 - acc: 0.9227 - val_loss: 0.3436 - val_acc: 0.9008\n",
      "Epoch 53/70\n",
      "2172/2172 - 4s - loss: 0.2240 - acc: 0.9185 - val_loss: 0.3845 - val_acc: 0.8843\n",
      "Epoch 54/70\n",
      "2172/2172 - 4s - loss: 0.1998 - acc: 0.9365 - val_loss: 0.6132 - val_acc: 0.7975\n",
      "Epoch 55/70\n",
      "2172/2172 - 4s - loss: 0.2411 - acc: 0.9203 - val_loss: 0.3117 - val_acc: 0.8884\n",
      "Epoch 56/70\n",
      "2172/2172 - 4s - loss: 0.2291 - acc: 0.9328 - val_loss: 0.6345 - val_acc: 0.7851\n",
      "Epoch 57/70\n",
      "2172/2172 - 4s - loss: 0.2310 - acc: 0.9254 - val_loss: 0.2701 - val_acc: 0.9132\n",
      "Epoch 58/70\n",
      "2172/2172 - 4s - loss: 0.2207 - acc: 0.9277 - val_loss: 0.1678 - val_acc: 0.9421\n",
      "Epoch 59/70\n",
      "2172/2172 - 4s - loss: 0.2399 - acc: 0.9277 - val_loss: 0.3342 - val_acc: 0.8967\n",
      "Epoch 60/70\n",
      "2172/2172 - 4s - loss: 0.1869 - acc: 0.9406 - val_loss: 0.1687 - val_acc: 0.9339\n",
      "Epoch 61/70\n",
      "2172/2172 - 5s - loss: 0.1826 - acc: 0.9397 - val_loss: 0.3909 - val_acc: 0.8636\n",
      "Epoch 62/70\n",
      "2172/2172 - 4s - loss: 0.2750 - acc: 0.9263 - val_loss: 0.1680 - val_acc: 0.9504\n",
      "Epoch 63/70\n",
      "2172/2172 - 4s - loss: 0.1837 - acc: 0.9415 - val_loss: 0.1394 - val_acc: 0.9545\n",
      "Epoch 64/70\n",
      "2172/2172 - 4s - loss: 0.1759 - acc: 0.9424 - val_loss: 0.2115 - val_acc: 0.9463\n",
      "Epoch 65/70\n",
      "2172/2172 - 4s - loss: 0.2015 - acc: 0.9305 - val_loss: 0.3827 - val_acc: 0.8967\n",
      "Epoch 66/70\n",
      "2172/2172 - 4s - loss: 0.2000 - acc: 0.9378 - val_loss: 0.4129 - val_acc: 0.8760\n",
      "Epoch 67/70\n",
      "2172/2172 - 4s - loss: 0.2010 - acc: 0.9365 - val_loss: 0.4393 - val_acc: 0.8760\n",
      "Epoch 68/70\n",
      "2172/2172 - 4s - loss: 0.1806 - acc: 0.9420 - val_loss: 0.3823 - val_acc: 0.8884\n",
      "Epoch 69/70\n",
      "2172/2172 - 4s - loss: 0.1665 - acc: 0.9429 - val_loss: 1.9989 - val_acc: 0.6405\n",
      "Epoch 70/70\n",
      "2172/2172 - 4s - loss: 0.1596 - acc: 0.9563 - val_loss: 0.2364 - val_acc: 0.9298\n",
      "Train on 2172 samples, validate on 242 samples\n",
      "Epoch 1/70\n",
      "2172/2172 - 5s - loss: 1.5449 - acc: 0.5143 - val_loss: 1.5976 - val_acc: 0.4711\n",
      "Epoch 2/70\n",
      "2172/2172 - 4s - loss: 1.3136 - acc: 0.5645 - val_loss: 3.6961 - val_acc: 0.5868\n",
      "Epoch 3/70\n",
      "2172/2172 - 5s - loss: 1.1957 - acc: 0.5939 - val_loss: 1.5302 - val_acc: 0.4463\n",
      "Epoch 4/70\n",
      "2172/2172 - 5s - loss: 1.1110 - acc: 0.6073 - val_loss: 0.9501 - val_acc: 0.6736\n",
      "Epoch 5/70\n",
      "2172/2172 - 4s - loss: 1.0661 - acc: 0.6105 - val_loss: 1.7527 - val_acc: 0.5868\n",
      "Epoch 6/70\n",
      "2172/2172 - 5s - loss: 1.0234 - acc: 0.6331 - val_loss: 0.7841 - val_acc: 0.7314\n",
      "Epoch 7/70\n",
      "2172/2172 - 5s - loss: 0.9746 - acc: 0.6556 - val_loss: 1.0899 - val_acc: 0.6488\n",
      "Epoch 8/70\n",
      "2172/2172 - 5s - loss: 0.8503 - acc: 0.7099 - val_loss: 2.0044 - val_acc: 0.5000\n",
      "Epoch 9/70\n",
      "2172/2172 - 5s - loss: 0.8124 - acc: 0.7251 - val_loss: 0.9726 - val_acc: 0.5992\n",
      "Epoch 10/70\n",
      "2172/2172 - 4s - loss: 0.7761 - acc: 0.7390 - val_loss: 1.2057 - val_acc: 0.5992\n",
      "Epoch 11/70\n",
      "2172/2172 - 5s - loss: 0.7741 - acc: 0.7330 - val_loss: 0.9663 - val_acc: 0.6736\n",
      "Epoch 12/70\n",
      "2172/2172 - 5s - loss: 0.7144 - acc: 0.7468 - val_loss: 0.4933 - val_acc: 0.8388\n",
      "Epoch 13/70\n",
      "2172/2172 - 5s - loss: 0.6941 - acc: 0.7537 - val_loss: 0.7523 - val_acc: 0.6818\n",
      "Epoch 14/70\n",
      "2172/2172 - 5s - loss: 0.6706 - acc: 0.7813 - val_loss: 1.2913 - val_acc: 0.5413\n",
      "Epoch 15/70\n",
      "2172/2172 - 5s - loss: 0.6398 - acc: 0.7878 - val_loss: 0.7564 - val_acc: 0.7438\n",
      "Epoch 16/70\n",
      "2172/2172 - 5s - loss: 0.6335 - acc: 0.7928 - val_loss: 0.4422 - val_acc: 0.8512\n",
      "Epoch 17/70\n",
      "2172/2172 - 4s - loss: 0.5907 - acc: 0.7997 - val_loss: 0.9990 - val_acc: 0.6446\n",
      "Epoch 18/70\n",
      "2172/2172 - 5s - loss: 0.5681 - acc: 0.8057 - val_loss: 1.0647 - val_acc: 0.6777\n"
     ]
    },
    {
     "name": "stdout",
     "output_type": "stream",
     "text": [
      "Epoch 19/70\n",
      "2172/2172 - 4s - loss: 0.5528 - acc: 0.8112 - val_loss: 0.6173 - val_acc: 0.8017\n",
      "Epoch 20/70\n",
      "2172/2172 - 5s - loss: 0.5354 - acc: 0.8227 - val_loss: 0.6714 - val_acc: 0.7645\n",
      "Epoch 21/70\n",
      "2172/2172 - 5s - loss: 0.4995 - acc: 0.8241 - val_loss: 1.0627 - val_acc: 0.6736\n",
      "Epoch 22/70\n",
      "2172/2172 - 5s - loss: 0.5669 - acc: 0.8158 - val_loss: 0.8673 - val_acc: 0.7025\n",
      "Epoch 23/70\n",
      "2172/2172 - 5s - loss: 0.5050 - acc: 0.8306 - val_loss: 0.4334 - val_acc: 0.8471\n",
      "Epoch 24/70\n",
      "2172/2172 - 5s - loss: 0.4774 - acc: 0.8402 - val_loss: 0.6008 - val_acc: 0.7934\n",
      "Epoch 25/70\n",
      "2172/2172 - 5s - loss: 0.4592 - acc: 0.8568 - val_loss: 0.5299 - val_acc: 0.8140\n",
      "Epoch 26/70\n",
      "2172/2172 - 4s - loss: 0.4574 - acc: 0.8605 - val_loss: 0.9943 - val_acc: 0.6488\n",
      "Epoch 27/70\n",
      "2172/2172 - 5s - loss: 0.4168 - acc: 0.8656 - val_loss: 0.3313 - val_acc: 0.8967\n",
      "Epoch 28/70\n",
      "2172/2172 - 5s - loss: 0.3967 - acc: 0.8775 - val_loss: 0.2849 - val_acc: 0.9091\n",
      "Epoch 29/70\n",
      "2172/2172 - 5s - loss: 0.3723 - acc: 0.8798 - val_loss: 0.4088 - val_acc: 0.8430\n",
      "Epoch 30/70\n",
      "2172/2172 - 5s - loss: 0.3746 - acc: 0.8840 - val_loss: 0.4747 - val_acc: 0.8182\n",
      "Epoch 31/70\n",
      "2172/2172 - 4s - loss: 0.3609 - acc: 0.8826 - val_loss: 0.5963 - val_acc: 0.8017\n",
      "Epoch 32/70\n",
      "2172/2172 - 5s - loss: 0.3571 - acc: 0.8798 - val_loss: 0.3584 - val_acc: 0.9008\n",
      "Epoch 33/70\n",
      "2172/2172 - 5s - loss: 0.3199 - acc: 0.8904 - val_loss: 0.4444 - val_acc: 0.8347\n",
      "Epoch 34/70\n",
      "2172/2172 - 5s - loss: 0.3508 - acc: 0.8863 - val_loss: 2.8555 - val_acc: 0.6405\n",
      "Epoch 35/70\n",
      "2172/2172 - 5s - loss: 0.2967 - acc: 0.8983 - val_loss: 0.6119 - val_acc: 0.7727\n",
      "Epoch 36/70\n",
      "2172/2172 - 5s - loss: 0.3514 - acc: 0.8890 - val_loss: 0.7811 - val_acc: 0.7934\n",
      "Epoch 37/70\n",
      "2172/2172 - 5s - loss: 0.2778 - acc: 0.9038 - val_loss: 0.3734 - val_acc: 0.8843\n",
      "Epoch 38/70\n",
      "2172/2172 - 4s - loss: 0.2918 - acc: 0.9098 - val_loss: 0.3969 - val_acc: 0.8554\n",
      "Epoch 39/70\n",
      "2172/2172 - 5s - loss: 0.3083 - acc: 0.9033 - val_loss: 0.5913 - val_acc: 0.7727\n",
      "Epoch 40/70\n",
      "2172/2172 - 5s - loss: 0.3015 - acc: 0.9033 - val_loss: 0.4771 - val_acc: 0.8512\n",
      "Epoch 41/70\n",
      "2172/2172 - 4s - loss: 0.2748 - acc: 0.9079 - val_loss: 0.3428 - val_acc: 0.8512\n",
      "Epoch 42/70\n",
      "2172/2172 - 5s - loss: 0.2564 - acc: 0.9162 - val_loss: 0.3088 - val_acc: 0.9050\n",
      "Epoch 43/70\n",
      "2172/2172 - 4s - loss: 0.3025 - acc: 0.9061 - val_loss: 0.4741 - val_acc: 0.8223\n",
      "Epoch 44/70\n",
      "2172/2172 - 5s - loss: 0.2612 - acc: 0.9167 - val_loss: 0.4289 - val_acc: 0.8926\n",
      "Epoch 45/70\n",
      "2172/2172 - 5s - loss: 0.2641 - acc: 0.9125 - val_loss: 0.9292 - val_acc: 0.7438\n",
      "Epoch 46/70\n",
      "2172/2172 - 5s - loss: 0.2874 - acc: 0.9056 - val_loss: 0.2795 - val_acc: 0.9008\n",
      "Epoch 47/70\n",
      "2172/2172 - 5s - loss: 0.2550 - acc: 0.9199 - val_loss: 0.3091 - val_acc: 0.8843\n",
      "Epoch 48/70\n",
      "2172/2172 - 5s - loss: 0.2709 - acc: 0.9157 - val_loss: 0.2197 - val_acc: 0.9298\n",
      "Epoch 49/70\n",
      "2172/2172 - 5s - loss: 0.2128 - acc: 0.9300 - val_loss: 0.2998 - val_acc: 0.9215\n",
      "Epoch 50/70\n",
      "2172/2172 - 5s - loss: 0.2363 - acc: 0.9227 - val_loss: 0.4085 - val_acc: 0.8636\n",
      "Epoch 51/70\n",
      "2172/2172 - 5s - loss: 0.3148 - acc: 0.8932 - val_loss: 0.4029 - val_acc: 0.8430\n",
      "Epoch 52/70\n",
      "2172/2172 - 5s - loss: 0.2595 - acc: 0.9176 - val_loss: 0.2474 - val_acc: 0.9008\n",
      "Epoch 53/70\n",
      "2172/2172 - 4s - loss: 0.2043 - acc: 0.9282 - val_loss: 0.2808 - val_acc: 0.9132\n",
      "Epoch 54/70\n",
      "2172/2172 - 5s - loss: 0.2253 - acc: 0.9314 - val_loss: 0.2677 - val_acc: 0.8967\n",
      "Epoch 55/70\n",
      "2172/2172 - 4s - loss: 0.2600 - acc: 0.9148 - val_loss: 0.2122 - val_acc: 0.9339\n",
      "Epoch 56/70\n",
      "2172/2172 - 4s - loss: 0.2132 - acc: 0.9273 - val_loss: 0.3389 - val_acc: 0.8802\n",
      "Epoch 57/70\n",
      "2172/2172 - 4s - loss: 0.2384 - acc: 0.9291 - val_loss: 0.4032 - val_acc: 0.8678\n",
      "Epoch 58/70\n",
      "2172/2172 - 4s - loss: 0.1934 - acc: 0.9388 - val_loss: 0.2902 - val_acc: 0.8967\n",
      "Epoch 59/70\n",
      "2172/2172 - 5s - loss: 0.1764 - acc: 0.9420 - val_loss: 0.2081 - val_acc: 0.9380\n",
      "Epoch 60/70\n",
      "2172/2172 - 5s - loss: 0.1770 - acc: 0.9438 - val_loss: 0.3393 - val_acc: 0.8678\n",
      "Epoch 61/70\n",
      "2172/2172 - 5s - loss: 0.1687 - acc: 0.9452 - val_loss: 0.4647 - val_acc: 0.8678\n",
      "Epoch 62/70\n",
      "2172/2172 - 5s - loss: 0.2008 - acc: 0.9351 - val_loss: 0.5316 - val_acc: 0.8264\n",
      "Epoch 63/70\n",
      "2172/2172 - 5s - loss: 0.1960 - acc: 0.9388 - val_loss: 0.3371 - val_acc: 0.9132\n",
      "Epoch 64/70\n",
      "2172/2172 - 5s - loss: 0.2542 - acc: 0.9250 - val_loss: 0.3131 - val_acc: 0.9008\n",
      "Epoch 65/70\n",
      "2172/2172 - 5s - loss: 0.1727 - acc: 0.9401 - val_loss: 0.2027 - val_acc: 0.9380\n",
      "Epoch 66/70\n",
      "2172/2172 - 5s - loss: 0.1594 - acc: 0.9420 - val_loss: 0.2224 - val_acc: 0.9339\n",
      "Epoch 67/70\n",
      "2172/2172 - 5s - loss: 0.2192 - acc: 0.9351 - val_loss: 0.2216 - val_acc: 0.9298\n",
      "Epoch 68/70\n",
      "2172/2172 - 5s - loss: 0.1656 - acc: 0.9484 - val_loss: 0.2627 - val_acc: 0.9215\n",
      "Epoch 69/70\n",
      "2172/2172 - 4s - loss: 0.1454 - acc: 0.9544 - val_loss: 0.2509 - val_acc: 0.9256\n",
      "Epoch 70/70\n",
      "2172/2172 - 4s - loss: 0.1607 - acc: 0.9507 - val_loss: 0.5203 - val_acc: 0.8512\n"
     ]
    },
    {
     "data": {
      "text/html": [
       "<span style=\"color:#4527A0\"><h1 style=\"font-size:18px\">Trial complete</h1></span>"
      ],
      "text/plain": [
       "<IPython.core.display.HTML object>"
      ]
     },
     "metadata": {},
     "output_type": "display_data"
    },
    {
     "data": {
      "text/html": [
       "<span style=\"color:#4527A0\"><h1 style=\"font-size:18px\">Trial summary</h1></span>"
      ],
      "text/plain": [
       "<IPython.core.display.HTML object>"
      ]
     },
     "metadata": {},
     "output_type": "display_data"
    },
    {
     "data": {
      "text/html": [
       "<span style=\"color:cyan\"> |-Trial ID: b4acdf832e0828c305be8d43169244d4</span>"
      ],
      "text/plain": [
       "<IPython.core.display.HTML object>"
      ]
     },
     "metadata": {},
     "output_type": "display_data"
    },
    {
     "data": {
      "text/html": [
       "<span style=\"color:cyan\"> |-Score: 0.9462809562683105</span>"
      ],
      "text/plain": [
       "<IPython.core.display.HTML object>"
      ]
     },
     "metadata": {},
     "output_type": "display_data"
    },
    {
     "data": {
      "text/html": [
       "<span style=\"color:cyan\"> |-Best step: 0</span>"
      ],
      "text/plain": [
       "<IPython.core.display.HTML object>"
      ]
     },
     "metadata": {},
     "output_type": "display_data"
    },
    {
     "data": {
      "text/html": [
       "<span style=\"color:#7E57C2\"><h2 style=\"font-size:16px\">Hyperparameters:</h2></span>"
      ],
      "text/plain": [
       "<IPython.core.display.HTML object>"
      ]
     },
     "metadata": {},
     "output_type": "display_data"
    },
    {
     "data": {
      "text/html": [
       "<span style=\"color:cyan\"> |-Conv1: 256</span>"
      ],
      "text/plain": [
       "<IPython.core.display.HTML object>"
      ]
     },
     "metadata": {},
     "output_type": "display_data"
    },
    {
     "data": {
      "text/html": [
       "<span style=\"color:blue\"> |-Conv2: 120</span>"
      ],
      "text/plain": [
       "<IPython.core.display.HTML object>"
      ]
     },
     "metadata": {},
     "output_type": "display_data"
    },
    {
     "data": {
      "text/html": [
       "<span style=\"color:cyan\"> |-Conv3: 128</span>"
      ],
      "text/plain": [
       "<IPython.core.display.HTML object>"
      ]
     },
     "metadata": {},
     "output_type": "display_data"
    },
    {
     "data": {
      "text/html": [
       "<span style=\"color:blue\"> |-Conv4: 256</span>"
      ],
      "text/plain": [
       "<IPython.core.display.HTML object>"
      ]
     },
     "metadata": {},
     "output_type": "display_data"
    },
    {
     "name": "stdout",
     "output_type": "stream",
     "text": [
      "Train on 2172 samples, validate on 242 samples\n",
      "Epoch 1/70\n",
      "2172/2172 - 7s - loss: 1.5305 - acc: 0.5175 - val_loss: 1.5627 - val_acc: 0.3967\n",
      "Epoch 2/70\n",
      "2172/2172 - 7s - loss: 1.3151 - acc: 0.5677 - val_loss: 1.3514 - val_acc: 0.6157\n",
      "Epoch 3/70\n",
      "2172/2172 - 6s - loss: 1.1817 - acc: 0.5967 - val_loss: 1.9575 - val_acc: 0.5744\n",
      "Epoch 4/70\n",
      "2172/2172 - 6s - loss: 1.1077 - acc: 0.6050 - val_loss: 1.1851 - val_acc: 0.5909\n",
      "Epoch 5/70\n",
      "2172/2172 - 7s - loss: 1.0736 - acc: 0.6206 - val_loss: 1.2453 - val_acc: 0.6033\n",
      "Epoch 6/70\n",
      "2172/2172 - 7s - loss: 1.0583 - acc: 0.6229 - val_loss: 1.3088 - val_acc: 0.6116\n",
      "Epoch 7/70\n",
      "2172/2172 - 7s - loss: 1.0085 - acc: 0.6367 - val_loss: 0.8294 - val_acc: 0.6901\n",
      "Epoch 8/70\n",
      "2172/2172 - 7s - loss: 0.9416 - acc: 0.6602 - val_loss: 0.9215 - val_acc: 0.6612\n",
      "Epoch 9/70\n",
      "2172/2172 - 7s - loss: 0.9147 - acc: 0.6888 - val_loss: 0.8327 - val_acc: 0.7025\n",
      "Epoch 10/70\n",
      "2172/2172 - 6s - loss: 0.8432 - acc: 0.7187 - val_loss: 1.9602 - val_acc: 0.3017\n",
      "Epoch 11/70\n",
      "2172/2172 - 7s - loss: 0.8016 - acc: 0.7210 - val_loss: 0.6419 - val_acc: 0.7397\n",
      "Epoch 12/70\n",
      "2172/2172 - 6s - loss: 0.7411 - acc: 0.7528 - val_loss: 0.7191 - val_acc: 0.7397\n",
      "Epoch 13/70\n",
      "2172/2172 - 6s - loss: 0.6997 - acc: 0.7615 - val_loss: 1.3483 - val_acc: 0.6364\n",
      "Epoch 14/70\n",
      "2172/2172 - 7s - loss: 0.7168 - acc: 0.7638 - val_loss: 0.5448 - val_acc: 0.8099\n",
      "Epoch 15/70\n",
      "2172/2172 - 6s - loss: 0.6463 - acc: 0.7795 - val_loss: 1.1631 - val_acc: 0.6818\n",
      "Epoch 16/70\n",
      "2172/2172 - 7s - loss: 0.6583 - acc: 0.7831 - val_loss: 0.9381 - val_acc: 0.6529\n",
      "Epoch 17/70\n",
      "2172/2172 - 7s - loss: 0.5739 - acc: 0.8039 - val_loss: 0.8391 - val_acc: 0.7314\n",
      "Epoch 18/70\n",
      "2172/2172 - 6s - loss: 0.6047 - acc: 0.8089 - val_loss: 0.5642 - val_acc: 0.7975\n",
      "Epoch 19/70\n",
      "2172/2172 - 6s - loss: 0.5640 - acc: 0.8126 - val_loss: 0.6054 - val_acc: 0.8058\n",
      "Epoch 20/70\n",
      "2172/2172 - 6s - loss: 0.5345 - acc: 0.8241 - val_loss: 0.5945 - val_acc: 0.8099\n",
      "Epoch 21/70\n",
      "2172/2172 - 7s - loss: 0.4990 - acc: 0.8343 - val_loss: 0.4170 - val_acc: 0.8678\n",
      "Epoch 22/70\n",
      "2172/2172 - 6s - loss: 0.4991 - acc: 0.8329 - val_loss: 0.3324 - val_acc: 0.8926\n",
      "Epoch 23/70\n",
      "2172/2172 - 6s - loss: 0.4655 - acc: 0.8471 - val_loss: 0.6129 - val_acc: 0.7645\n",
      "Epoch 24/70\n",
      "2172/2172 - 6s - loss: 0.5044 - acc: 0.8453 - val_loss: 0.6204 - val_acc: 0.7851\n",
      "Epoch 25/70\n",
      "2172/2172 - 6s - loss: 0.4517 - acc: 0.8476 - val_loss: 0.9560 - val_acc: 0.6405\n",
      "Epoch 26/70\n",
      "2172/2172 - 6s - loss: 0.4476 - acc: 0.8554 - val_loss: 0.4260 - val_acc: 0.8760\n",
      "Epoch 27/70\n",
      "2172/2172 - 6s - loss: 0.4286 - acc: 0.8531 - val_loss: 0.6460 - val_acc: 0.7397\n",
      "Epoch 28/70\n",
      "2172/2172 - 6s - loss: 0.4319 - acc: 0.8665 - val_loss: 0.4197 - val_acc: 0.8430\n",
      "Epoch 29/70\n",
      "2172/2172 - 6s - loss: 0.3779 - acc: 0.8757 - val_loss: 0.3911 - val_acc: 0.8802\n",
      "Epoch 30/70\n",
      "2172/2172 - 7s - loss: 0.4356 - acc: 0.8665 - val_loss: 0.2895 - val_acc: 0.9008\n",
      "Epoch 31/70\n",
      "2172/2172 - 7s - loss: 0.3652 - acc: 0.8867 - val_loss: 0.2761 - val_acc: 0.9008\n",
      "Epoch 32/70\n",
      "2172/2172 - 6s - loss: 0.3715 - acc: 0.8738 - val_loss: 0.3926 - val_acc: 0.8678\n",
      "Epoch 33/70\n",
      "2172/2172 - 6s - loss: 0.4087 - acc: 0.8743 - val_loss: 0.4652 - val_acc: 0.8719\n",
      "Epoch 34/70\n",
      "2172/2172 - 6s - loss: 0.3630 - acc: 0.8808 - val_loss: 0.7960 - val_acc: 0.7769\n",
      "Epoch 35/70\n",
      "2172/2172 - 6s - loss: 0.3379 - acc: 0.8913 - val_loss: 0.7404 - val_acc: 0.7893\n",
      "Epoch 36/70\n",
      "2172/2172 - 7s - loss: 0.3978 - acc: 0.8729 - val_loss: 0.3982 - val_acc: 0.8636\n",
      "Epoch 37/70\n",
      "2172/2172 - 6s - loss: 0.3591 - acc: 0.8771 - val_loss: 0.5133 - val_acc: 0.8017\n",
      "Epoch 38/70\n",
      "2172/2172 - 6s - loss: 0.3232 - acc: 0.8886 - val_loss: 0.4980 - val_acc: 0.8182\n",
      "Epoch 39/70\n",
      "2172/2172 - 6s - loss: 0.3404 - acc: 0.8969 - val_loss: 0.3178 - val_acc: 0.9008\n",
      "Epoch 40/70\n",
      "2172/2172 - 6s - loss: 0.3209 - acc: 0.8927 - val_loss: 0.9986 - val_acc: 0.6818\n",
      "Epoch 41/70\n",
      "2172/2172 - 6s - loss: 0.3225 - acc: 0.8983 - val_loss: 0.5943 - val_acc: 0.7851\n",
      "Epoch 42/70\n",
      "2172/2172 - 6s - loss: 0.3036 - acc: 0.9033 - val_loss: 0.3333 - val_acc: 0.8760\n",
      "Epoch 43/70\n",
      "2172/2172 - 6s - loss: 0.2797 - acc: 0.9130 - val_loss: 0.3623 - val_acc: 0.8719\n",
      "Epoch 44/70\n",
      "2172/2172 - 7s - loss: 0.2820 - acc: 0.9130 - val_loss: 0.3542 - val_acc: 0.8636\n",
      "Epoch 45/70\n",
      "2172/2172 - 6s - loss: 0.2728 - acc: 0.9065 - val_loss: 0.3442 - val_acc: 0.8678\n",
      "Epoch 46/70\n",
      "2172/2172 - 6s - loss: 0.2977 - acc: 0.9024 - val_loss: 0.4793 - val_acc: 0.8471\n",
      "Epoch 47/70\n",
      "2172/2172 - 6s - loss: 0.2794 - acc: 0.9125 - val_loss: 0.3566 - val_acc: 0.9008\n",
      "Epoch 48/70\n",
      "2172/2172 - 7s - loss: 0.2658 - acc: 0.9134 - val_loss: 0.2810 - val_acc: 0.9215\n",
      "Epoch 49/70\n",
      "2172/2172 - 7s - loss: 0.2362 - acc: 0.9236 - val_loss: 0.4041 - val_acc: 0.8678\n",
      "Epoch 50/70\n",
      "2172/2172 - 7s - loss: 0.3078 - acc: 0.9024 - val_loss: 0.2309 - val_acc: 0.9256\n",
      "Epoch 51/70\n",
      "2172/2172 - 7s - loss: 0.2277 - acc: 0.9254 - val_loss: 0.2080 - val_acc: 0.9463\n",
      "Epoch 52/70\n",
      "2172/2172 - 6s - loss: 0.2525 - acc: 0.9139 - val_loss: 0.3131 - val_acc: 0.8926\n",
      "Epoch 53/70\n",
      "2172/2172 - 6s - loss: 0.2466 - acc: 0.9236 - val_loss: 2.1077 - val_acc: 0.5868\n",
      "Epoch 54/70\n",
      "2172/2172 - 6s - loss: 0.2205 - acc: 0.9314 - val_loss: 0.2985 - val_acc: 0.9339\n",
      "Epoch 55/70\n",
      "2172/2172 - 6s - loss: 0.2584 - acc: 0.9190 - val_loss: 0.2931 - val_acc: 0.9008\n",
      "Epoch 56/70\n",
      "2172/2172 - 6s - loss: 0.2911 - acc: 0.9093 - val_loss: 0.4704 - val_acc: 0.8430\n",
      "Epoch 57/70\n",
      "2172/2172 - 6s - loss: 0.2205 - acc: 0.9263 - val_loss: 0.2180 - val_acc: 0.9174\n",
      "Epoch 58/70\n",
      "2172/2172 - 6s - loss: 0.1990 - acc: 0.9369 - val_loss: 0.2064 - val_acc: 0.9339\n",
      "Epoch 59/70\n",
      "2172/2172 - 6s - loss: 0.2684 - acc: 0.9148 - val_loss: 0.3513 - val_acc: 0.8802\n",
      "Epoch 60/70\n",
      "2172/2172 - 6s - loss: 0.2128 - acc: 0.9328 - val_loss: 0.2593 - val_acc: 0.9339\n",
      "Epoch 61/70\n",
      "2172/2172 - 6s - loss: 0.1984 - acc: 0.9337 - val_loss: 0.3536 - val_acc: 0.8843\n",
      "Epoch 62/70\n",
      "2172/2172 - 7s - loss: 0.1729 - acc: 0.9448 - val_loss: 0.1799 - val_acc: 0.9421\n",
      "Epoch 63/70\n",
      "2172/2172 - 6s - loss: 0.1979 - acc: 0.9328 - val_loss: 0.7006 - val_acc: 0.7645\n",
      "Epoch 64/70\n",
      "2172/2172 - 6s - loss: 0.2422 - acc: 0.9273 - val_loss: 0.4985 - val_acc: 0.8678\n",
      "Epoch 65/70\n",
      "2172/2172 - 7s - loss: 0.2135 - acc: 0.9351 - val_loss: 0.1652 - val_acc: 0.9587\n",
      "Epoch 66/70\n",
      "2172/2172 - 6s - loss: 0.1905 - acc: 0.9392 - val_loss: 0.2068 - val_acc: 0.9298\n",
      "Epoch 67/70\n",
      "2172/2172 - 7s - loss: 0.2127 - acc: 0.9369 - val_loss: 0.2384 - val_acc: 0.9339\n",
      "Epoch 68/70\n",
      "2172/2172 - 6s - loss: 0.1686 - acc: 0.9489 - val_loss: 0.3238 - val_acc: 0.9215\n",
      "Epoch 69/70\n",
      "2172/2172 - 6s - loss: 0.1953 - acc: 0.9424 - val_loss: 0.6376 - val_acc: 0.7893\n",
      "Epoch 70/70\n",
      "2172/2172 - 6s - loss: 0.1482 - acc: 0.9503 - val_loss: 0.1891 - val_acc: 0.9463\n",
      "Train on 2172 samples, validate on 242 samples\n",
      "Epoch 1/70\n",
      "2172/2172 - 7s - loss: 1.5705 - acc: 0.5028 - val_loss: 1.4221 - val_acc: 0.5909\n",
      "Epoch 2/70\n",
      "2172/2172 - 7s - loss: 1.3333 - acc: 0.5612 - val_loss: 1.1729 - val_acc: 0.6074\n",
      "Epoch 3/70\n",
      "2172/2172 - 7s - loss: 1.2341 - acc: 0.5925 - val_loss: 2.1361 - val_acc: 0.5248\n",
      "Epoch 4/70\n",
      "2172/2172 - 7s - loss: 1.1509 - acc: 0.6105 - val_loss: 2.8998 - val_acc: 0.2975\n",
      "Epoch 5/70\n",
      "2172/2172 - 7s - loss: 1.1141 - acc: 0.6105 - val_loss: 2.8310 - val_acc: 0.4174\n",
      "Epoch 6/70\n",
      "2172/2172 - 7s - loss: 1.0757 - acc: 0.6128 - val_loss: 3.3303 - val_acc: 0.1074\n",
      "Epoch 7/70\n",
      "2172/2172 - 7s - loss: 1.0640 - acc: 0.6308 - val_loss: 1.3896 - val_acc: 0.5702\n",
      "Epoch 8/70\n",
      "2172/2172 - 7s - loss: 1.0154 - acc: 0.6326 - val_loss: 0.9286 - val_acc: 0.6570\n",
      "Epoch 9/70\n",
      "2172/2172 - 7s - loss: 0.9394 - acc: 0.6584 - val_loss: 5.2085 - val_acc: 0.0826\n",
      "Epoch 10/70\n",
      "2172/2172 - 7s - loss: 0.8700 - acc: 0.7026 - val_loss: 0.7799 - val_acc: 0.6942\n",
      "Epoch 11/70\n",
      "2172/2172 - 7s - loss: 0.8321 - acc: 0.7155 - val_loss: 1.1235 - val_acc: 0.5950\n",
      "Epoch 12/70\n",
      "2172/2172 - 7s - loss: 0.7742 - acc: 0.7334 - val_loss: 0.6431 - val_acc: 0.7603\n",
      "Epoch 13/70\n",
      "2172/2172 - 7s - loss: 0.7533 - acc: 0.7417 - val_loss: 0.8122 - val_acc: 0.7355\n",
      "Epoch 14/70\n",
      "2172/2172 - 7s - loss: 0.7426 - acc: 0.7574 - val_loss: 0.6744 - val_acc: 0.7645\n",
      "Epoch 15/70\n",
      "2172/2172 - 7s - loss: 0.6610 - acc: 0.7749 - val_loss: 0.7016 - val_acc: 0.7355\n",
      "Epoch 16/70\n",
      "2172/2172 - 7s - loss: 0.6124 - acc: 0.7901 - val_loss: 0.6631 - val_acc: 0.8058\n",
      "Epoch 17/70\n",
      "2172/2172 - 7s - loss: 0.5949 - acc: 0.8006 - val_loss: 0.5145 - val_acc: 0.8347\n",
      "Epoch 18/70\n",
      "2172/2172 - 7s - loss: 0.5700 - acc: 0.8149 - val_loss: 0.3939 - val_acc: 0.8512\n"
     ]
    },
    {
     "name": "stdout",
     "output_type": "stream",
     "text": [
      "Epoch 19/70\n",
      "2172/2172 - 7s - loss: 0.5884 - acc: 0.8052 - val_loss: 0.5374 - val_acc: 0.8306\n",
      "Epoch 20/70\n",
      "2172/2172 - 7s - loss: 0.5257 - acc: 0.8237 - val_loss: 0.7763 - val_acc: 0.7397\n",
      "Epoch 21/70\n",
      "2172/2172 - 7s - loss: 0.5287 - acc: 0.8214 - val_loss: 0.5509 - val_acc: 0.8223\n",
      "Epoch 22/70\n",
      "2172/2172 - 7s - loss: 0.5379 - acc: 0.8246 - val_loss: 0.5363 - val_acc: 0.7934\n",
      "Epoch 23/70\n",
      "2172/2172 - 7s - loss: 0.4702 - acc: 0.8439 - val_loss: 0.5582 - val_acc: 0.8017\n",
      "Epoch 24/70\n",
      "2172/2172 - 7s - loss: 0.4855 - acc: 0.8462 - val_loss: 0.6399 - val_acc: 0.7851\n",
      "Epoch 25/70\n",
      "2172/2172 - 7s - loss: 0.4479 - acc: 0.8476 - val_loss: 0.5055 - val_acc: 0.8306\n",
      "Epoch 26/70\n",
      "2172/2172 - 7s - loss: 0.4844 - acc: 0.8439 - val_loss: 1.2818 - val_acc: 0.5868\n",
      "Epoch 27/70\n",
      "2172/2172 - 6s - loss: 0.4617 - acc: 0.8471 - val_loss: 0.6571 - val_acc: 0.7438\n",
      "Epoch 28/70\n",
      "2172/2172 - 7s - loss: 0.4290 - acc: 0.8587 - val_loss: 0.3241 - val_acc: 0.8926\n",
      "Epoch 29/70\n",
      "2172/2172 - 7s - loss: 0.4242 - acc: 0.8596 - val_loss: 0.4829 - val_acc: 0.8347\n",
      "Epoch 30/70\n",
      "2172/2172 - 7s - loss: 0.4166 - acc: 0.8711 - val_loss: 0.6682 - val_acc: 0.7686\n",
      "Epoch 31/70\n",
      "2172/2172 - 7s - loss: 0.4231 - acc: 0.8669 - val_loss: 0.3765 - val_acc: 0.8678\n",
      "Epoch 32/70\n",
      "2172/2172 - 7s - loss: 0.4001 - acc: 0.8711 - val_loss: 0.9805 - val_acc: 0.6653\n",
      "Epoch 33/70\n",
      "2172/2172 - 7s - loss: 0.3959 - acc: 0.8762 - val_loss: 0.6650 - val_acc: 0.7810\n",
      "Epoch 34/70\n",
      "2172/2172 - 7s - loss: 0.3766 - acc: 0.8771 - val_loss: 0.3551 - val_acc: 0.8967\n",
      "Epoch 35/70\n",
      "2172/2172 - 7s - loss: 0.3523 - acc: 0.8950 - val_loss: 0.8468 - val_acc: 0.6612\n",
      "Epoch 36/70\n",
      "2172/2172 - 7s - loss: 0.3868 - acc: 0.8743 - val_loss: 0.6389 - val_acc: 0.7975\n",
      "Epoch 37/70\n",
      "2172/2172 - 7s - loss: 0.3600 - acc: 0.8923 - val_loss: 0.3289 - val_acc: 0.8967\n",
      "Epoch 38/70\n",
      "2172/2172 - 7s - loss: 0.3148 - acc: 0.8964 - val_loss: 0.4809 - val_acc: 0.8182\n",
      "Epoch 39/70\n",
      "2172/2172 - 7s - loss: 0.3119 - acc: 0.9019 - val_loss: 0.4488 - val_acc: 0.8264\n",
      "Epoch 40/70\n",
      "2172/2172 - 7s - loss: 0.3209 - acc: 0.8992 - val_loss: 0.3866 - val_acc: 0.8595\n",
      "Epoch 41/70\n",
      "2172/2172 - 7s - loss: 0.3007 - acc: 0.8969 - val_loss: 0.4955 - val_acc: 0.8264\n",
      "Epoch 42/70\n",
      "2172/2172 - 7s - loss: 0.2965 - acc: 0.9075 - val_loss: 0.3391 - val_acc: 0.8760\n",
      "Epoch 43/70\n",
      "2172/2172 - 6s - loss: 0.3140 - acc: 0.9038 - val_loss: 0.4709 - val_acc: 0.8595\n",
      "Epoch 44/70\n",
      "2172/2172 - 7s - loss: 0.3175 - acc: 0.8973 - val_loss: 0.3319 - val_acc: 0.8926\n",
      "Epoch 45/70\n",
      "2172/2172 - 7s - loss: 0.2813 - acc: 0.9093 - val_loss: 0.6966 - val_acc: 0.7521\n",
      "Epoch 46/70\n",
      "2172/2172 - 7s - loss: 0.2582 - acc: 0.9171 - val_loss: 0.2428 - val_acc: 0.9215\n",
      "Epoch 47/70\n",
      "2172/2172 - 7s - loss: 0.3291 - acc: 0.8987 - val_loss: 1.1721 - val_acc: 0.7231\n",
      "Epoch 48/70\n",
      "2172/2172 - 7s - loss: 0.2858 - acc: 0.9153 - val_loss: 0.2169 - val_acc: 0.9132\n",
      "Epoch 49/70\n",
      "2172/2172 - 7s - loss: 0.2609 - acc: 0.9130 - val_loss: 0.6462 - val_acc: 0.8182\n",
      "Epoch 50/70\n",
      "2172/2172 - 7s - loss: 0.2406 - acc: 0.9185 - val_loss: 0.1911 - val_acc: 0.9256\n",
      "Epoch 51/70\n",
      "2172/2172 - 7s - loss: 0.2698 - acc: 0.9125 - val_loss: 0.5186 - val_acc: 0.8306\n",
      "Epoch 52/70\n",
      "2172/2172 - 7s - loss: 0.2590 - acc: 0.9144 - val_loss: 0.5011 - val_acc: 0.8182\n",
      "Epoch 53/70\n",
      "2172/2172 - 7s - loss: 0.2414 - acc: 0.9231 - val_loss: 0.2678 - val_acc: 0.9215\n",
      "Epoch 54/70\n",
      "2172/2172 - 6s - loss: 0.2469 - acc: 0.9231 - val_loss: 0.3626 - val_acc: 0.9050\n",
      "Epoch 55/70\n",
      "2172/2172 - 7s - loss: 0.2560 - acc: 0.9203 - val_loss: 0.1791 - val_acc: 0.9380\n",
      "Epoch 56/70\n",
      "2172/2172 - 7s - loss: 0.2018 - acc: 0.9378 - val_loss: 0.3661 - val_acc: 0.8967\n",
      "Epoch 57/70\n",
      "2172/2172 - 7s - loss: 0.2010 - acc: 0.9319 - val_loss: 5.1690 - val_acc: 0.5992\n",
      "Epoch 58/70\n",
      "2172/2172 - 7s - loss: 0.2120 - acc: 0.9300 - val_loss: 0.2061 - val_acc: 0.9215\n",
      "Epoch 59/70\n",
      "2172/2172 - 7s - loss: 0.2473 - acc: 0.9291 - val_loss: 0.2602 - val_acc: 0.8967\n",
      "Epoch 60/70\n",
      "2172/2172 - 7s - loss: 0.2400 - acc: 0.9332 - val_loss: 0.2829 - val_acc: 0.9174\n",
      "Epoch 61/70\n",
      "2172/2172 - 7s - loss: 0.2078 - acc: 0.9355 - val_loss: 0.1964 - val_acc: 0.9380\n",
      "Epoch 62/70\n",
      "2172/2172 - 7s - loss: 0.1956 - acc: 0.9424 - val_loss: 0.2818 - val_acc: 0.9008\n",
      "Epoch 63/70\n",
      "2172/2172 - 6s - loss: 0.2287 - acc: 0.9305 - val_loss: 0.3803 - val_acc: 0.8926\n",
      "Epoch 64/70\n",
      "2172/2172 - 7s - loss: 0.1775 - acc: 0.9383 - val_loss: 0.1815 - val_acc: 0.9256\n",
      "Epoch 65/70\n",
      "2172/2172 - 7s - loss: 0.2184 - acc: 0.9273 - val_loss: 0.1870 - val_acc: 0.9339\n",
      "Epoch 66/70\n",
      "2172/2172 - 6s - loss: 0.2336 - acc: 0.9263 - val_loss: 1.7487 - val_acc: 0.6157\n",
      "Epoch 67/70\n",
      "2172/2172 - 7s - loss: 0.2300 - acc: 0.9222 - val_loss: 0.4009 - val_acc: 0.8719\n",
      "Epoch 68/70\n",
      "2172/2172 - 7s - loss: 0.1725 - acc: 0.9475 - val_loss: 0.2631 - val_acc: 0.9132\n",
      "Epoch 69/70\n",
      "2172/2172 - 7s - loss: 0.2047 - acc: 0.9392 - val_loss: 1.9319 - val_acc: 0.4835\n",
      "Epoch 70/70\n",
      "2172/2172 - 7s - loss: 0.1974 - acc: 0.9406 - val_loss: 0.3140 - val_acc: 0.9008\n"
     ]
    },
    {
     "data": {
      "text/html": [
       "<span style=\"color:#4527A0\"><h1 style=\"font-size:18px\">Trial complete</h1></span>"
      ],
      "text/plain": [
       "<IPython.core.display.HTML object>"
      ]
     },
     "metadata": {},
     "output_type": "display_data"
    },
    {
     "data": {
      "text/html": [
       "<span style=\"color:#4527A0\"><h1 style=\"font-size:18px\">Trial summary</h1></span>"
      ],
      "text/plain": [
       "<IPython.core.display.HTML object>"
      ]
     },
     "metadata": {},
     "output_type": "display_data"
    },
    {
     "data": {
      "text/html": [
       "<span style=\"color:cyan\"> |-Trial ID: e443d9b1ec9015d9fef196deef53622b</span>"
      ],
      "text/plain": [
       "<IPython.core.display.HTML object>"
      ]
     },
     "metadata": {},
     "output_type": "display_data"
    },
    {
     "data": {
      "text/html": [
       "<span style=\"color:cyan\"> |-Score: 0.9483470916748047</span>"
      ],
      "text/plain": [
       "<IPython.core.display.HTML object>"
      ]
     },
     "metadata": {},
     "output_type": "display_data"
    },
    {
     "data": {
      "text/html": [
       "<span style=\"color:cyan\"> |-Best step: 0</span>"
      ],
      "text/plain": [
       "<IPython.core.display.HTML object>"
      ]
     },
     "metadata": {},
     "output_type": "display_data"
    },
    {
     "data": {
      "text/html": [
       "<span style=\"color:#7E57C2\"><h2 style=\"font-size:16px\">Hyperparameters:</h2></span>"
      ],
      "text/plain": [
       "<IPython.core.display.HTML object>"
      ]
     },
     "metadata": {},
     "output_type": "display_data"
    },
    {
     "data": {
      "text/html": [
       "<span style=\"color:cyan\"> |-Conv1: 512</span>"
      ],
      "text/plain": [
       "<IPython.core.display.HTML object>"
      ]
     },
     "metadata": {},
     "output_type": "display_data"
    },
    {
     "data": {
      "text/html": [
       "<span style=\"color:blue\"> |-Conv2: 128</span>"
      ],
      "text/plain": [
       "<IPython.core.display.HTML object>"
      ]
     },
     "metadata": {},
     "output_type": "display_data"
    },
    {
     "data": {
      "text/html": [
       "<span style=\"color:cyan\"> |-Conv3: 120</span>"
      ],
      "text/plain": [
       "<IPython.core.display.HTML object>"
      ]
     },
     "metadata": {},
     "output_type": "display_data"
    },
    {
     "data": {
      "text/html": [
       "<span style=\"color:blue\"> |-Conv4: 128</span>"
      ],
      "text/plain": [
       "<IPython.core.display.HTML object>"
      ]
     },
     "metadata": {},
     "output_type": "display_data"
    },
    {
     "name": "stdout",
     "output_type": "stream",
     "text": [
      "INFO:tensorflow:Oracle triggered exit\n"
     ]
    }
   ],
   "source": [
    "tuner.search(X_train, Y_train, epochs=70, validation_split=0.1, batch_size=8, verbose=2)"
   ]
  },
  {
   "cell_type": "code",
   "execution_count": 38,
   "metadata": {
    "scrolled": true
   },
   "outputs": [
    {
     "data": {
      "text/html": [
       "<span style=\"color:#4527A0\"><h1 style=\"font-size:18px\">Results summary</h1></span>"
      ],
      "text/plain": [
       "<IPython.core.display.HTML object>"
      ]
     },
     "metadata": {},
     "output_type": "display_data"
    },
    {
     "data": {
      "text/html": [
       "<span style=\"color:cyan\"> |-Results in random_search/bat</span>"
      ],
      "text/plain": [
       "<IPython.core.display.HTML object>"
      ]
     },
     "metadata": {},
     "output_type": "display_data"
    },
    {
     "data": {
      "text/html": [
       "<span style=\"color:cyan\"> |-Showing 10 best trials</span>"
      ],
      "text/plain": [
       "<IPython.core.display.HTML object>"
      ]
     },
     "metadata": {},
     "output_type": "display_data"
    },
    {
     "data": {
      "text/html": [
       "<span style=\"color:cyan\"> |-Objective(name='val_acc', direction='max')</span>"
      ],
      "text/plain": [
       "<IPython.core.display.HTML object>"
      ]
     },
     "metadata": {},
     "output_type": "display_data"
    },
    {
     "data": {
      "text/html": [
       "<span style=\"color:#4527A0\"><h1 style=\"font-size:18px\">Trial summary</h1></span>"
      ],
      "text/plain": [
       "<IPython.core.display.HTML object>"
      ]
     },
     "metadata": {},
     "output_type": "display_data"
    },
    {
     "data": {
      "text/html": [
       "<span style=\"color:cyan\"> |-Trial ID: 2909bc2a1b7d65f730fcad527cf98954</span>"
      ],
      "text/plain": [
       "<IPython.core.display.HTML object>"
      ]
     },
     "metadata": {},
     "output_type": "display_data"
    },
    {
     "data": {
      "text/html": [
       "<span style=\"color:cyan\"> |-Score: 0.952479362487793</span>"
      ],
      "text/plain": [
       "<IPython.core.display.HTML object>"
      ]
     },
     "metadata": {},
     "output_type": "display_data"
    },
    {
     "data": {
      "text/html": [
       "<span style=\"color:cyan\"> |-Best step: 0</span>"
      ],
      "text/plain": [
       "<IPython.core.display.HTML object>"
      ]
     },
     "metadata": {},
     "output_type": "display_data"
    },
    {
     "data": {
      "text/html": [
       "<span style=\"color:#7E57C2\"><h2 style=\"font-size:16px\">Hyperparameters:</h2></span>"
      ],
      "text/plain": [
       "<IPython.core.display.HTML object>"
      ]
     },
     "metadata": {},
     "output_type": "display_data"
    },
    {
     "data": {
      "text/html": [
       "<span style=\"color:cyan\"> |-Conv1: 512</span>"
      ],
      "text/plain": [
       "<IPython.core.display.HTML object>"
      ]
     },
     "metadata": {},
     "output_type": "display_data"
    },
    {
     "data": {
      "text/html": [
       "<span style=\"color:blue\"> |-Conv2: 120</span>"
      ],
      "text/plain": [
       "<IPython.core.display.HTML object>"
      ]
     },
     "metadata": {},
     "output_type": "display_data"
    },
    {
     "data": {
      "text/html": [
       "<span style=\"color:cyan\"> |-Conv3: 512</span>"
      ],
      "text/plain": [
       "<IPython.core.display.HTML object>"
      ]
     },
     "metadata": {},
     "output_type": "display_data"
    },
    {
     "data": {
      "text/html": [
       "<span style=\"color:blue\"> |-Conv4: 512</span>"
      ],
      "text/plain": [
       "<IPython.core.display.HTML object>"
      ]
     },
     "metadata": {},
     "output_type": "display_data"
    },
    {
     "data": {
      "text/html": [
       "<span style=\"color:#4527A0\"><h1 style=\"font-size:18px\">Trial summary</h1></span>"
      ],
      "text/plain": [
       "<IPython.core.display.HTML object>"
      ]
     },
     "metadata": {},
     "output_type": "display_data"
    },
    {
     "data": {
      "text/html": [
       "<span style=\"color:cyan\"> |-Trial ID: e443d9b1ec9015d9fef196deef53622b</span>"
      ],
      "text/plain": [
       "<IPython.core.display.HTML object>"
      ]
     },
     "metadata": {},
     "output_type": "display_data"
    },
    {
     "data": {
      "text/html": [
       "<span style=\"color:cyan\"> |-Score: 0.9483470916748047</span>"
      ],
      "text/plain": [
       "<IPython.core.display.HTML object>"
      ]
     },
     "metadata": {},
     "output_type": "display_data"
    },
    {
     "data": {
      "text/html": [
       "<span style=\"color:cyan\"> |-Best step: 0</span>"
      ],
      "text/plain": [
       "<IPython.core.display.HTML object>"
      ]
     },
     "metadata": {},
     "output_type": "display_data"
    },
    {
     "data": {
      "text/html": [
       "<span style=\"color:#7E57C2\"><h2 style=\"font-size:16px\">Hyperparameters:</h2></span>"
      ],
      "text/plain": [
       "<IPython.core.display.HTML object>"
      ]
     },
     "metadata": {},
     "output_type": "display_data"
    },
    {
     "data": {
      "text/html": [
       "<span style=\"color:cyan\"> |-Conv1: 512</span>"
      ],
      "text/plain": [
       "<IPython.core.display.HTML object>"
      ]
     },
     "metadata": {},
     "output_type": "display_data"
    },
    {
     "data": {
      "text/html": [
       "<span style=\"color:blue\"> |-Conv2: 128</span>"
      ],
      "text/plain": [
       "<IPython.core.display.HTML object>"
      ]
     },
     "metadata": {},
     "output_type": "display_data"
    },
    {
     "data": {
      "text/html": [
       "<span style=\"color:cyan\"> |-Conv3: 120</span>"
      ],
      "text/plain": [
       "<IPython.core.display.HTML object>"
      ]
     },
     "metadata": {},
     "output_type": "display_data"
    },
    {
     "data": {
      "text/html": [
       "<span style=\"color:blue\"> |-Conv4: 128</span>"
      ],
      "text/plain": [
       "<IPython.core.display.HTML object>"
      ]
     },
     "metadata": {},
     "output_type": "display_data"
    },
    {
     "data": {
      "text/html": [
       "<span style=\"color:#4527A0\"><h1 style=\"font-size:18px\">Trial summary</h1></span>"
      ],
      "text/plain": [
       "<IPython.core.display.HTML object>"
      ]
     },
     "metadata": {},
     "output_type": "display_data"
    },
    {
     "data": {
      "text/html": [
       "<span style=\"color:cyan\"> |-Trial ID: 2425a9838ec11db6e688a541e4a2f33a</span>"
      ],
      "text/plain": [
       "<IPython.core.display.HTML object>"
      ]
     },
     "metadata": {},
     "output_type": "display_data"
    },
    {
     "data": {
      "text/html": [
       "<span style=\"color:cyan\"> |-Score: 0.9462809562683105</span>"
      ],
      "text/plain": [
       "<IPython.core.display.HTML object>"
      ]
     },
     "metadata": {},
     "output_type": "display_data"
    },
    {
     "data": {
      "text/html": [
       "<span style=\"color:cyan\"> |-Best step: 0</span>"
      ],
      "text/plain": [
       "<IPython.core.display.HTML object>"
      ]
     },
     "metadata": {},
     "output_type": "display_data"
    },
    {
     "data": {
      "text/html": [
       "<span style=\"color:#7E57C2\"><h2 style=\"font-size:16px\">Hyperparameters:</h2></span>"
      ],
      "text/plain": [
       "<IPython.core.display.HTML object>"
      ]
     },
     "metadata": {},
     "output_type": "display_data"
    },
    {
     "data": {
      "text/html": [
       "<span style=\"color:cyan\"> |-Conv1: 256</span>"
      ],
      "text/plain": [
       "<IPython.core.display.HTML object>"
      ]
     },
     "metadata": {},
     "output_type": "display_data"
    },
    {
     "data": {
      "text/html": [
       "<span style=\"color:blue\"> |-Conv2: 120</span>"
      ],
      "text/plain": [
       "<IPython.core.display.HTML object>"
      ]
     },
     "metadata": {},
     "output_type": "display_data"
    },
    {
     "data": {
      "text/html": [
       "<span style=\"color:cyan\"> |-Conv3: 256</span>"
      ],
      "text/plain": [
       "<IPython.core.display.HTML object>"
      ]
     },
     "metadata": {},
     "output_type": "display_data"
    },
    {
     "data": {
      "text/html": [
       "<span style=\"color:blue\"> |-Conv4: 128</span>"
      ],
      "text/plain": [
       "<IPython.core.display.HTML object>"
      ]
     },
     "metadata": {},
     "output_type": "display_data"
    },
    {
     "data": {
      "text/html": [
       "<span style=\"color:#4527A0\"><h1 style=\"font-size:18px\">Trial summary</h1></span>"
      ],
      "text/plain": [
       "<IPython.core.display.HTML object>"
      ]
     },
     "metadata": {},
     "output_type": "display_data"
    },
    {
     "data": {
      "text/html": [
       "<span style=\"color:cyan\"> |-Trial ID: b4acdf832e0828c305be8d43169244d4</span>"
      ],
      "text/plain": [
       "<IPython.core.display.HTML object>"
      ]
     },
     "metadata": {},
     "output_type": "display_data"
    },
    {
     "data": {
      "text/html": [
       "<span style=\"color:cyan\"> |-Score: 0.9462809562683105</span>"
      ],
      "text/plain": [
       "<IPython.core.display.HTML object>"
      ]
     },
     "metadata": {},
     "output_type": "display_data"
    },
    {
     "data": {
      "text/html": [
       "<span style=\"color:cyan\"> |-Best step: 0</span>"
      ],
      "text/plain": [
       "<IPython.core.display.HTML object>"
      ]
     },
     "metadata": {},
     "output_type": "display_data"
    },
    {
     "data": {
      "text/html": [
       "<span style=\"color:#7E57C2\"><h2 style=\"font-size:16px\">Hyperparameters:</h2></span>"
      ],
      "text/plain": [
       "<IPython.core.display.HTML object>"
      ]
     },
     "metadata": {},
     "output_type": "display_data"
    },
    {
     "data": {
      "text/html": [
       "<span style=\"color:cyan\"> |-Conv1: 256</span>"
      ],
      "text/plain": [
       "<IPython.core.display.HTML object>"
      ]
     },
     "metadata": {},
     "output_type": "display_data"
    },
    {
     "data": {
      "text/html": [
       "<span style=\"color:blue\"> |-Conv2: 120</span>"
      ],
      "text/plain": [
       "<IPython.core.display.HTML object>"
      ]
     },
     "metadata": {},
     "output_type": "display_data"
    },
    {
     "data": {
      "text/html": [
       "<span style=\"color:cyan\"> |-Conv3: 128</span>"
      ],
      "text/plain": [
       "<IPython.core.display.HTML object>"
      ]
     },
     "metadata": {},
     "output_type": "display_data"
    },
    {
     "data": {
      "text/html": [
       "<span style=\"color:blue\"> |-Conv4: 256</span>"
      ],
      "text/plain": [
       "<IPython.core.display.HTML object>"
      ]
     },
     "metadata": {},
     "output_type": "display_data"
    },
    {
     "data": {
      "text/html": [
       "<span style=\"color:#4527A0\"><h1 style=\"font-size:18px\">Trial summary</h1></span>"
      ],
      "text/plain": [
       "<IPython.core.display.HTML object>"
      ]
     },
     "metadata": {},
     "output_type": "display_data"
    },
    {
     "data": {
      "text/html": [
       "<span style=\"color:cyan\"> |-Trial ID: c8be0aaab2b03152689a3fb0680669ff</span>"
      ],
      "text/plain": [
       "<IPython.core.display.HTML object>"
      ]
     },
     "metadata": {},
     "output_type": "display_data"
    },
    {
     "data": {
      "text/html": [
       "<span style=\"color:cyan\"> |-Score: 0.9400826692581177</span>"
      ],
      "text/plain": [
       "<IPython.core.display.HTML object>"
      ]
     },
     "metadata": {},
     "output_type": "display_data"
    },
    {
     "data": {
      "text/html": [
       "<span style=\"color:cyan\"> |-Best step: 0</span>"
      ],
      "text/plain": [
       "<IPython.core.display.HTML object>"
      ]
     },
     "metadata": {},
     "output_type": "display_data"
    },
    {
     "data": {
      "text/html": [
       "<span style=\"color:#7E57C2\"><h2 style=\"font-size:16px\">Hyperparameters:</h2></span>"
      ],
      "text/plain": [
       "<IPython.core.display.HTML object>"
      ]
     },
     "metadata": {},
     "output_type": "display_data"
    },
    {
     "data": {
      "text/html": [
       "<span style=\"color:cyan\"> |-Conv1: 128</span>"
      ],
      "text/plain": [
       "<IPython.core.display.HTML object>"
      ]
     },
     "metadata": {},
     "output_type": "display_data"
    },
    {
     "data": {
      "text/html": [
       "<span style=\"color:blue\"> |-Conv2: 120</span>"
      ],
      "text/plain": [
       "<IPython.core.display.HTML object>"
      ]
     },
     "metadata": {},
     "output_type": "display_data"
    },
    {
     "data": {
      "text/html": [
       "<span style=\"color:cyan\"> |-Conv3: 128</span>"
      ],
      "text/plain": [
       "<IPython.core.display.HTML object>"
      ]
     },
     "metadata": {},
     "output_type": "display_data"
    },
    {
     "data": {
      "text/html": [
       "<span style=\"color:blue\"> |-Conv4: 128</span>"
      ],
      "text/plain": [
       "<IPython.core.display.HTML object>"
      ]
     },
     "metadata": {},
     "output_type": "display_data"
    }
   ],
   "source": [
    "tuner.results_summary()"
   ]
  },
  {
   "cell_type": "code",
   "execution_count": 40,
   "metadata": {
    "scrolled": true
   },
   "outputs": [
    {
     "name": "stdout",
     "output_type": "stream",
     "text": [
      "WARNING:tensorflow:Unresolved object in checkpoint: (root).optimizer.iter\n",
      "WARNING:tensorflow:Unresolved object in checkpoint: (root).optimizer.beta_1\n",
      "WARNING:tensorflow:Unresolved object in checkpoint: (root).optimizer.beta_2\n",
      "WARNING:tensorflow:Unresolved object in checkpoint: (root).optimizer.decay\n",
      "WARNING:tensorflow:Unresolved object in checkpoint: (root).optimizer.learning_rate\n",
      "WARNING:tensorflow:Unresolved object in checkpoint: (root).optimizer's state 'm' for (root).layer_with_weights-0.kernel\n",
      "WARNING:tensorflow:Unresolved object in checkpoint: (root).optimizer's state 'm' for (root).layer_with_weights-0.bias\n",
      "WARNING:tensorflow:Unresolved object in checkpoint: (root).optimizer's state 'm' for (root).layer_with_weights-1.gamma\n",
      "WARNING:tensorflow:Unresolved object in checkpoint: (root).optimizer's state 'm' for (root).layer_with_weights-1.beta\n",
      "WARNING:tensorflow:Unresolved object in checkpoint: (root).optimizer's state 'm' for (root).layer_with_weights-2.kernel\n",
      "WARNING:tensorflow:Unresolved object in checkpoint: (root).optimizer's state 'm' for (root).layer_with_weights-2.bias\n",
      "WARNING:tensorflow:Unresolved object in checkpoint: (root).optimizer's state 'm' for (root).layer_with_weights-3.gamma\n",
      "WARNING:tensorflow:Unresolved object in checkpoint: (root).optimizer's state 'm' for (root).layer_with_weights-3.beta\n",
      "WARNING:tensorflow:Unresolved object in checkpoint: (root).optimizer's state 'm' for (root).layer_with_weights-4.kernel\n",
      "WARNING:tensorflow:Unresolved object in checkpoint: (root).optimizer's state 'm' for (root).layer_with_weights-4.bias\n",
      "WARNING:tensorflow:Unresolved object in checkpoint: (root).optimizer's state 'm' for (root).layer_with_weights-5.gamma\n",
      "WARNING:tensorflow:Unresolved object in checkpoint: (root).optimizer's state 'm' for (root).layer_with_weights-5.beta\n",
      "WARNING:tensorflow:Unresolved object in checkpoint: (root).optimizer's state 'm' for (root).layer_with_weights-6.kernel\n",
      "WARNING:tensorflow:Unresolved object in checkpoint: (root).optimizer's state 'm' for (root).layer_with_weights-6.bias\n",
      "WARNING:tensorflow:Unresolved object in checkpoint: (root).optimizer's state 'm' for (root).layer_with_weights-7.gamma\n",
      "WARNING:tensorflow:Unresolved object in checkpoint: (root).optimizer's state 'm' for (root).layer_with_weights-7.beta\n",
      "WARNING:tensorflow:Unresolved object in checkpoint: (root).optimizer's state 'm' for (root).layer_with_weights-8.kernel\n",
      "WARNING:tensorflow:Unresolved object in checkpoint: (root).optimizer's state 'm' for (root).layer_with_weights-8.bias\n",
      "WARNING:tensorflow:Unresolved object in checkpoint: (root).optimizer's state 'm' for (root).layer_with_weights-9.gamma\n",
      "WARNING:tensorflow:Unresolved object in checkpoint: (root).optimizer's state 'm' for (root).layer_with_weights-9.beta\n",
      "WARNING:tensorflow:Unresolved object in checkpoint: (root).optimizer's state 'm' for (root).layer_with_weights-10.kernel\n",
      "WARNING:tensorflow:Unresolved object in checkpoint: (root).optimizer's state 'm' for (root).layer_with_weights-10.bias\n",
      "WARNING:tensorflow:Unresolved object in checkpoint: (root).optimizer's state 'm' for (root).layer_with_weights-11.gamma\n",
      "WARNING:tensorflow:Unresolved object in checkpoint: (root).optimizer's state 'm' for (root).layer_with_weights-11.beta\n",
      "WARNING:tensorflow:Unresolved object in checkpoint: (root).optimizer's state 'm' for (root).layer_with_weights-12.kernel\n",
      "WARNING:tensorflow:Unresolved object in checkpoint: (root).optimizer's state 'm' for (root).layer_with_weights-12.bias\n",
      "WARNING:tensorflow:Unresolved object in checkpoint: (root).optimizer's state 'm' for (root).layer_with_weights-13.gamma\n",
      "WARNING:tensorflow:Unresolved object in checkpoint: (root).optimizer's state 'm' for (root).layer_with_weights-13.beta\n",
      "WARNING:tensorflow:Unresolved object in checkpoint: (root).optimizer's state 'm' for (root).layer_with_weights-14.kernel\n",
      "WARNING:tensorflow:Unresolved object in checkpoint: (root).optimizer's state 'm' for (root).layer_with_weights-14.bias\n",
      "WARNING:tensorflow:Unresolved object in checkpoint: (root).optimizer's state 'v' for (root).layer_with_weights-0.kernel\n",
      "WARNING:tensorflow:Unresolved object in checkpoint: (root).optimizer's state 'v' for (root).layer_with_weights-0.bias\n",
      "WARNING:tensorflow:Unresolved object in checkpoint: (root).optimizer's state 'v' for (root).layer_with_weights-1.gamma\n",
      "WARNING:tensorflow:Unresolved object in checkpoint: (root).optimizer's state 'v' for (root).layer_with_weights-1.beta\n",
      "WARNING:tensorflow:Unresolved object in checkpoint: (root).optimizer's state 'v' for (root).layer_with_weights-2.kernel\n",
      "WARNING:tensorflow:Unresolved object in checkpoint: (root).optimizer's state 'v' for (root).layer_with_weights-2.bias\n",
      "WARNING:tensorflow:Unresolved object in checkpoint: (root).optimizer's state 'v' for (root).layer_with_weights-3.gamma\n",
      "WARNING:tensorflow:Unresolved object in checkpoint: (root).optimizer's state 'v' for (root).layer_with_weights-3.beta\n",
      "WARNING:tensorflow:Unresolved object in checkpoint: (root).optimizer's state 'v' for (root).layer_with_weights-4.kernel\n",
      "WARNING:tensorflow:Unresolved object in checkpoint: (root).optimizer's state 'v' for (root).layer_with_weights-4.bias\n",
      "WARNING:tensorflow:Unresolved object in checkpoint: (root).optimizer's state 'v' for (root).layer_with_weights-5.gamma\n",
      "WARNING:tensorflow:Unresolved object in checkpoint: (root).optimizer's state 'v' for (root).layer_with_weights-5.beta\n",
      "WARNING:tensorflow:Unresolved object in checkpoint: (root).optimizer's state 'v' for (root).layer_with_weights-6.kernel\n",
      "WARNING:tensorflow:Unresolved object in checkpoint: (root).optimizer's state 'v' for (root).layer_with_weights-6.bias\n",
      "WARNING:tensorflow:Unresolved object in checkpoint: (root).optimizer's state 'v' for (root).layer_with_weights-7.gamma\n",
      "WARNING:tensorflow:Unresolved object in checkpoint: (root).optimizer's state 'v' for (root).layer_with_weights-7.beta\n",
      "WARNING:tensorflow:Unresolved object in checkpoint: (root).optimizer's state 'v' for (root).layer_with_weights-8.kernel\n",
      "WARNING:tensorflow:Unresolved object in checkpoint: (root).optimizer's state 'v' for (root).layer_with_weights-8.bias\n",
      "WARNING:tensorflow:Unresolved object in checkpoint: (root).optimizer's state 'v' for (root).layer_with_weights-9.gamma\n",
      "WARNING:tensorflow:Unresolved object in checkpoint: (root).optimizer's state 'v' for (root).layer_with_weights-9.beta\n",
      "WARNING:tensorflow:Unresolved object in checkpoint: (root).optimizer's state 'v' for (root).layer_with_weights-10.kernel\n",
      "WARNING:tensorflow:Unresolved object in checkpoint: (root).optimizer's state 'v' for (root).layer_with_weights-10.bias\n",
      "WARNING:tensorflow:Unresolved object in checkpoint: (root).optimizer's state 'v' for (root).layer_with_weights-11.gamma\n",
      "WARNING:tensorflow:Unresolved object in checkpoint: (root).optimizer's state 'v' for (root).layer_with_weights-11.beta\n",
      "WARNING:tensorflow:Unresolved object in checkpoint: (root).optimizer's state 'v' for (root).layer_with_weights-12.kernel\n",
      "WARNING:tensorflow:Unresolved object in checkpoint: (root).optimizer's state 'v' for (root).layer_with_weights-12.bias\n",
      "WARNING:tensorflow:Unresolved object in checkpoint: (root).optimizer's state 'v' for (root).layer_with_weights-13.gamma\n",
      "WARNING:tensorflow:Unresolved object in checkpoint: (root).optimizer's state 'v' for (root).layer_with_weights-13.beta\n",
      "WARNING:tensorflow:Unresolved object in checkpoint: (root).optimizer's state 'v' for (root).layer_with_weights-14.kernel\n",
      "WARNING:tensorflow:Unresolved object in checkpoint: (root).optimizer's state 'v' for (root).layer_with_weights-14.bias\n",
      "WARNING:tensorflow:A checkpoint was restored (e.g. tf.train.Checkpoint.restore or tf.keras.Model.load_weights) but not all checkpointed values were used. See above for specific issues. Use expect_partial() on the load status object, e.g. tf.train.Checkpoint.restore(...).expect_partial(), to silence these warnings, or use assert_consumed() to make the check explicit. See https://www.tensorflow.org/alpha/guide/checkpoints#loading_mechanics for details.\n",
      "604/604 [==============================] - ETA: 2s - loss: 0.0867 - acc: 1.000 - ETA: 0s - loss: 0.1172 - acc: 0.968 - ETA: 0s - loss: 0.1358 - acc: 0.950 - ETA: 0s - loss: 0.1591 - acc: 0.942 - ETA: 0s - loss: 0.1552 - acc: 0.943 - ETA: 0s - loss: 0.1569 - acc: 0.945 - ETA: 0s - loss: 0.1525 - acc: 0.950 - ETA: 0s - loss: 0.1512 - acc: 0.953 - ETA: 0s - loss: 0.1432 - acc: 0.954 - 1s 986us/sample - loss: 0.1395 - acc: 0.9570\n",
      "{'Conv1': 512, 'Conv2': 120, 'Conv3': 512, 'Conv4': 512}\n"
     ]
    }
   ],
   "source": [
    "best_model = tuner.get_best_models(num_models=1)[0]\n",
    "loss, accuracy = best_model.evaluate(X_test, Y_test)\n",
    "best_hp = tuner.get_best_hyperparameters()[0]\n",
    "print(best_hp.values)"
   ]
  },
  {
   "cell_type": "code",
   "execution_count": 41,
   "metadata": {
    "scrolled": true
   },
   "outputs": [
    {
     "name": "stdout",
     "output_type": "stream",
     "text": [
      "Model: \"model\"\n",
      "_________________________________________________________________\n",
      "Layer (type)                 Output Shape              Param #   \n",
      "=================================================================\n",
      "input_1 (InputLayer)         [(None, 112, 170, 3)]     0         \n",
      "_________________________________________________________________\n",
      "conv2d (Conv2D)              (None, 56, 85, 512)       75776     \n",
      "_________________________________________________________________\n",
      "batch_normalization (BatchNo (None, 56, 85, 512)       2048      \n",
      "_________________________________________________________________\n",
      "activation (Activation)      (None, 56, 85, 512)       0         \n",
      "_________________________________________________________________\n",
      "max_pooling2d (MaxPooling2D) (None, 28, 43, 512)       0         \n",
      "_________________________________________________________________\n",
      "dropout (Dropout)            (None, 28, 43, 512)       0         \n",
      "_________________________________________________________________\n",
      "conv2d_1 (Conv2D)            (None, 14, 22, 120)       1536120   \n",
      "_________________________________________________________________\n",
      "batch_normalization_1 (Batch (None, 14, 22, 120)       480       \n",
      "_________________________________________________________________\n",
      "activation_1 (Activation)    (None, 14, 22, 120)       0         \n",
      "_________________________________________________________________\n",
      "average_pooling2d (AveragePo (None, 7, 11, 120)        0         \n",
      "_________________________________________________________________\n",
      "dropout_1 (Dropout)          (None, 7, 11, 120)        0         \n",
      "_________________________________________________________________\n",
      "conv2d_2 (Conv2D)            (None, 7, 11, 512)        553472    \n",
      "_________________________________________________________________\n",
      "batch_normalization_2 (Batch (None, 7, 11, 512)        2048      \n",
      "_________________________________________________________________\n",
      "activation_2 (Activation)    (None, 7, 11, 512)        0         \n",
      "_________________________________________________________________\n",
      "average_pooling2d_1 (Average (None, 4, 6, 512)         0         \n",
      "_________________________________________________________________\n",
      "dropout_2 (Dropout)          (None, 4, 6, 512)         0         \n",
      "_________________________________________________________________\n",
      "conv2d_3 (Conv2D)            (None, 4, 6, 512)         2359808   \n",
      "_________________________________________________________________\n",
      "batch_normalization_3 (Batch (None, 4, 6, 512)         2048      \n",
      "_________________________________________________________________\n",
      "activation_3 (Activation)    (None, 4, 6, 512)         0         \n",
      "_________________________________________________________________\n",
      "average_pooling2d_2 (Average (None, 2, 3, 512)         0         \n",
      "_________________________________________________________________\n",
      "dropout_3 (Dropout)          (None, 2, 3, 512)         0         \n",
      "_________________________________________________________________\n",
      "flatten (Flatten)            (None, 3072)              0         \n",
      "_________________________________________________________________\n",
      "dense (Dense)                (None, 512)               1573376   \n",
      "_________________________________________________________________\n",
      "batch_normalization_4 (Batch (None, 512)               2048      \n",
      "_________________________________________________________________\n",
      "activation_4 (Activation)    (None, 512)               0         \n",
      "_________________________________________________________________\n",
      "dropout_4 (Dropout)          (None, 512)               0         \n",
      "_________________________________________________________________\n",
      "dense_1 (Dense)              (None, 256)               131328    \n",
      "_________________________________________________________________\n",
      "batch_normalization_5 (Batch (None, 256)               1024      \n",
      "_________________________________________________________________\n",
      "activation_5 (Activation)    (None, 256)               0         \n",
      "_________________________________________________________________\n",
      "dropout_5 (Dropout)          (None, 256)               0         \n",
      "_________________________________________________________________\n",
      "dense_2 (Dense)              (None, 128)               32896     \n",
      "_________________________________________________________________\n",
      "batch_normalization_6 (Batch (None, 128)               512       \n",
      "_________________________________________________________________\n",
      "activation_6 (Activation)    (None, 128)               0         \n",
      "_________________________________________________________________\n",
      "dropout_6 (Dropout)          (None, 128)               0         \n",
      "_________________________________________________________________\n",
      "output (Dense)               (None, 8)                 1032      \n",
      "=================================================================\n",
      "Total params: 6,274,016\n",
      "Trainable params: 6,268,912\n",
      "Non-trainable params: 5,104\n",
      "_________________________________________________________________\n"
     ]
    }
   ],
   "source": [
    "\n",
    "best_model.summary()\n"
   ]
  },
  {
   "cell_type": "code",
   "execution_count": 42,
   "metadata": {},
   "outputs": [
    {
     "data": {
      "text/plain": [
       "0.95695364"
      ]
     },
     "execution_count": 42,
     "metadata": {},
     "output_type": "execute_result"
    }
   ],
   "source": [
    "accuracy"
   ]
  },
  {
   "cell_type": "markdown",
   "metadata": {},
   "source": [
    "<h2>Evaluate Best Model</h2>"
   ]
  },
  {
   "cell_type": "code",
   "execution_count": 44,
   "metadata": {},
   "outputs": [],
   "source": [
    "def build_current_model():\n",
    "    inp = inp = Input(shape=(112,170,3))\n",
    "    c1 = Convolution2D(filters=512 ,kernel_size=(7,7),strides=(2,2),padding='same')(inp)\n",
    "    bt = BatchNormalization()(c1)\n",
    "    bt = Activation('relu')(bt)\n",
    "    mpool = MaxPooling2D(pool_size=(2,2),strides=2,padding='same')(bt)\n",
    "    mpool = Dropout(0.2)(mpool)\n",
    "\n",
    "\n",
    "    c2 = Convolution2D(filters=120,kernel_size=(5,5),strides=(2,2),padding='same')(mpool)\n",
    "    bt = BatchNormalization()(c2)\n",
    "    bt = Activation('relu')(bt)\n",
    "\n",
    "    mpool = AveragePooling2D(pool_size=(2,2),strides=2,padding='same')(bt)\n",
    "    mpool = Dropout(0.3)(mpool)\n",
    "\n",
    "    c2 = Convolution2D(filters=512,kernel_size=(3,3),strides=(1,1),padding='same')(mpool)\n",
    "    bt = BatchNormalization()(c2)\n",
    "    bt = Activation('relu')(bt)\n",
    "\n",
    "    mpool = AveragePooling2D(pool_size=(2,2),strides=2,padding='same')(bt)\n",
    "    mpool = Dropout(rate=0.3)(mpool)\n",
    "\n",
    "    c3 = Convolution2D(filters=512,kernel_size=(3,3),strides=(1,1),padding='same')(mpool)\n",
    "    bt = BatchNormalization()(c3)\n",
    "    bt = Activation('relu')(bt)\n",
    "\n",
    "    mpool = AveragePooling2D(pool_size=(2,2),strides=2,padding='same')(bt)\n",
    "    mpool = Dropout(rate=0.4)(mpool)\n",
    "\n",
    "    f = Flatten()(mpool)\n",
    "\n",
    "    x_dense = Dense(512)(f)\n",
    "    bt = BatchNormalization()(x_dense)\n",
    "    bt = Activation('relu')(bt)\n",
    "    bt = Dropout(0.4)(bt)\n",
    "\n",
    "\n",
    "    x_dense = Dense(256)(bt)\n",
    "    bt = BatchNormalization()(x_dense)\n",
    "    bt = Activation('relu')(bt)\n",
    "    bt = Dropout(0.3)(bt)\n",
    "\n",
    "    x_dense = Dense(128)(bt)\n",
    "    bt = BatchNormalization()(x_dense)\n",
    "    bt = Activation('relu')(bt)\n",
    "    bt = Dropout(0.2)(bt)\n",
    "\n",
    "    x_out = Dense(8, name='output', activation='softmax')(bt)\n",
    "    model = Model(inputs=inp, outputs=x_out)\n",
    "    model.compile(\n",
    "            optimizer=Adam(lr=0.003),\n",
    "            loss='categorical_crossentropy',\n",
    "            metrics=['accuracy']\n",
    "        )\n",
    "    return model\n"
   ]
  },
  {
   "cell_type": "code",
   "execution_count": 45,
   "metadata": {
    "scrolled": false
   },
   "outputs": [
    {
     "name": "stdout",
     "output_type": "stream",
     "text": [
      "Model: \"model_1\"\n",
      "_________________________________________________________________\n",
      "Layer (type)                 Output Shape              Param #   \n",
      "=================================================================\n",
      "input_2 (InputLayer)         [(None, 112, 170, 3)]     0         \n",
      "_________________________________________________________________\n",
      "conv2d_4 (Conv2D)            (None, 56, 85, 512)       75776     \n",
      "_________________________________________________________________\n",
      "batch_normalization_7 (Batch (None, 56, 85, 512)       2048      \n",
      "_________________________________________________________________\n",
      "activation_7 (Activation)    (None, 56, 85, 512)       0         \n",
      "_________________________________________________________________\n",
      "max_pooling2d_1 (MaxPooling2 (None, 28, 43, 512)       0         \n",
      "_________________________________________________________________\n",
      "dropout_7 (Dropout)          (None, 28, 43, 512)       0         \n",
      "_________________________________________________________________\n",
      "conv2d_5 (Conv2D)            (None, 14, 22, 120)       1536120   \n",
      "_________________________________________________________________\n",
      "batch_normalization_8 (Batch (None, 14, 22, 120)       480       \n",
      "_________________________________________________________________\n",
      "activation_8 (Activation)    (None, 14, 22, 120)       0         \n",
      "_________________________________________________________________\n",
      "average_pooling2d_3 (Average (None, 7, 11, 120)        0         \n",
      "_________________________________________________________________\n",
      "dropout_8 (Dropout)          (None, 7, 11, 120)        0         \n",
      "_________________________________________________________________\n",
      "conv2d_6 (Conv2D)            (None, 7, 11, 512)        553472    \n",
      "_________________________________________________________________\n",
      "batch_normalization_9 (Batch (None, 7, 11, 512)        2048      \n",
      "_________________________________________________________________\n",
      "activation_9 (Activation)    (None, 7, 11, 512)        0         \n",
      "_________________________________________________________________\n",
      "average_pooling2d_4 (Average (None, 4, 6, 512)         0         \n",
      "_________________________________________________________________\n",
      "dropout_9 (Dropout)          (None, 4, 6, 512)         0         \n",
      "_________________________________________________________________\n",
      "conv2d_7 (Conv2D)            (None, 4, 6, 512)         2359808   \n",
      "_________________________________________________________________\n",
      "batch_normalization_10 (Batc (None, 4, 6, 512)         2048      \n",
      "_________________________________________________________________\n",
      "activation_10 (Activation)   (None, 4, 6, 512)         0         \n",
      "_________________________________________________________________\n",
      "average_pooling2d_5 (Average (None, 2, 3, 512)         0         \n",
      "_________________________________________________________________\n",
      "dropout_10 (Dropout)         (None, 2, 3, 512)         0         \n",
      "_________________________________________________________________\n",
      "flatten_1 (Flatten)          (None, 3072)              0         \n",
      "_________________________________________________________________\n",
      "dense_3 (Dense)              (None, 512)               1573376   \n",
      "_________________________________________________________________\n",
      "batch_normalization_11 (Batc (None, 512)               2048      \n",
      "_________________________________________________________________\n",
      "activation_11 (Activation)   (None, 512)               0         \n",
      "_________________________________________________________________\n",
      "dropout_11 (Dropout)         (None, 512)               0         \n",
      "_________________________________________________________________\n",
      "dense_4 (Dense)              (None, 256)               131328    \n",
      "_________________________________________________________________\n",
      "batch_normalization_12 (Batc (None, 256)               1024      \n",
      "_________________________________________________________________\n",
      "activation_12 (Activation)   (None, 256)               0         \n",
      "_________________________________________________________________\n",
      "dropout_12 (Dropout)         (None, 256)               0         \n",
      "_________________________________________________________________\n",
      "dense_5 (Dense)              (None, 128)               32896     \n",
      "_________________________________________________________________\n",
      "batch_normalization_13 (Batc (None, 128)               512       \n",
      "_________________________________________________________________\n",
      "activation_13 (Activation)   (None, 128)               0         \n",
      "_________________________________________________________________\n",
      "dropout_13 (Dropout)         (None, 128)               0         \n",
      "_________________________________________________________________\n",
      "output (Dense)               (None, 8)                 1032      \n",
      "=================================================================\n",
      "Total params: 6,274,016\n",
      "Trainable params: 6,268,912\n",
      "Non-trainable params: 5,104\n",
      "_________________________________________________________________\n"
     ]
    }
   ],
   "source": [
    "model = build_current_model()\n",
    "model.summary()"
   ]
  },
  {
   "cell_type": "code",
   "execution_count": 46,
   "metadata": {},
   "outputs": [
    {
     "name": "stdout",
     "output_type": "stream",
     "text": [
      "Train on 2172 samples, validate on 242 samples\n",
      "WARNING:tensorflow:Unresolved object in checkpoint: (root).optimizer.iter\n",
      "WARNING:tensorflow:Unresolved object in checkpoint: (root).optimizer.beta_1\n",
      "WARNING:tensorflow:Unresolved object in checkpoint: (root).optimizer.beta_2\n",
      "WARNING:tensorflow:Unresolved object in checkpoint: (root).optimizer.decay\n",
      "WARNING:tensorflow:Unresolved object in checkpoint: (root).optimizer.learning_rate\n",
      "WARNING:tensorflow:Unresolved object in checkpoint: (root).optimizer's state 'm' for (root).layer_with_weights-0.kernel\n",
      "WARNING:tensorflow:Unresolved object in checkpoint: (root).optimizer's state 'm' for (root).layer_with_weights-0.bias\n",
      "WARNING:tensorflow:Unresolved object in checkpoint: (root).optimizer's state 'm' for (root).layer_with_weights-1.gamma\n",
      "WARNING:tensorflow:Unresolved object in checkpoint: (root).optimizer's state 'm' for (root).layer_with_weights-1.beta\n",
      "WARNING:tensorflow:Unresolved object in checkpoint: (root).optimizer's state 'm' for (root).layer_with_weights-2.kernel\n",
      "WARNING:tensorflow:Unresolved object in checkpoint: (root).optimizer's state 'm' for (root).layer_with_weights-2.bias\n",
      "WARNING:tensorflow:Unresolved object in checkpoint: (root).optimizer's state 'm' for (root).layer_with_weights-3.gamma\n",
      "WARNING:tensorflow:Unresolved object in checkpoint: (root).optimizer's state 'm' for (root).layer_with_weights-3.beta\n",
      "WARNING:tensorflow:Unresolved object in checkpoint: (root).optimizer's state 'm' for (root).layer_with_weights-4.kernel\n",
      "WARNING:tensorflow:Unresolved object in checkpoint: (root).optimizer's state 'm' for (root).layer_with_weights-4.bias\n",
      "WARNING:tensorflow:Unresolved object in checkpoint: (root).optimizer's state 'm' for (root).layer_with_weights-5.gamma\n",
      "WARNING:tensorflow:Unresolved object in checkpoint: (root).optimizer's state 'm' for (root).layer_with_weights-5.beta\n",
      "WARNING:tensorflow:Unresolved object in checkpoint: (root).optimizer's state 'm' for (root).layer_with_weights-6.kernel\n",
      "WARNING:tensorflow:Unresolved object in checkpoint: (root).optimizer's state 'm' for (root).layer_with_weights-6.bias\n",
      "WARNING:tensorflow:Unresolved object in checkpoint: (root).optimizer's state 'm' for (root).layer_with_weights-7.gamma\n",
      "WARNING:tensorflow:Unresolved object in checkpoint: (root).optimizer's state 'm' for (root).layer_with_weights-7.beta\n",
      "WARNING:tensorflow:Unresolved object in checkpoint: (root).optimizer's state 'm' for (root).layer_with_weights-8.kernel\n",
      "WARNING:tensorflow:Unresolved object in checkpoint: (root).optimizer's state 'm' for (root).layer_with_weights-8.bias\n",
      "WARNING:tensorflow:Unresolved object in checkpoint: (root).optimizer's state 'm' for (root).layer_with_weights-9.gamma\n",
      "WARNING:tensorflow:Unresolved object in checkpoint: (root).optimizer's state 'm' for (root).layer_with_weights-9.beta\n",
      "WARNING:tensorflow:Unresolved object in checkpoint: (root).optimizer's state 'm' for (root).layer_with_weights-10.kernel\n",
      "WARNING:tensorflow:Unresolved object in checkpoint: (root).optimizer's state 'm' for (root).layer_with_weights-10.bias\n",
      "WARNING:tensorflow:Unresolved object in checkpoint: (root).optimizer's state 'm' for (root).layer_with_weights-11.gamma\n",
      "WARNING:tensorflow:Unresolved object in checkpoint: (root).optimizer's state 'm' for (root).layer_with_weights-11.beta\n",
      "WARNING:tensorflow:Unresolved object in checkpoint: (root).optimizer's state 'm' for (root).layer_with_weights-12.kernel\n",
      "WARNING:tensorflow:Unresolved object in checkpoint: (root).optimizer's state 'm' for (root).layer_with_weights-12.bias\n",
      "WARNING:tensorflow:Unresolved object in checkpoint: (root).optimizer's state 'm' for (root).layer_with_weights-13.gamma\n",
      "WARNING:tensorflow:Unresolved object in checkpoint: (root).optimizer's state 'm' for (root).layer_with_weights-13.beta\n",
      "WARNING:tensorflow:Unresolved object in checkpoint: (root).optimizer's state 'm' for (root).layer_with_weights-14.kernel\n",
      "WARNING:tensorflow:Unresolved object in checkpoint: (root).optimizer's state 'm' for (root).layer_with_weights-14.bias\n",
      "WARNING:tensorflow:Unresolved object in checkpoint: (root).optimizer's state 'v' for (root).layer_with_weights-0.kernel\n",
      "WARNING:tensorflow:Unresolved object in checkpoint: (root).optimizer's state 'v' for (root).layer_with_weights-0.bias\n",
      "WARNING:tensorflow:Unresolved object in checkpoint: (root).optimizer's state 'v' for (root).layer_with_weights-1.gamma\n",
      "WARNING:tensorflow:Unresolved object in checkpoint: (root).optimizer's state 'v' for (root).layer_with_weights-1.beta\n",
      "WARNING:tensorflow:Unresolved object in checkpoint: (root).optimizer's state 'v' for (root).layer_with_weights-2.kernel\n",
      "WARNING:tensorflow:Unresolved object in checkpoint: (root).optimizer's state 'v' for (root).layer_with_weights-2.bias\n",
      "WARNING:tensorflow:Unresolved object in checkpoint: (root).optimizer's state 'v' for (root).layer_with_weights-3.gamma\n",
      "WARNING:tensorflow:Unresolved object in checkpoint: (root).optimizer's state 'v' for (root).layer_with_weights-3.beta\n",
      "WARNING:tensorflow:Unresolved object in checkpoint: (root).optimizer's state 'v' for (root).layer_with_weights-4.kernel\n",
      "WARNING:tensorflow:Unresolved object in checkpoint: (root).optimizer's state 'v' for (root).layer_with_weights-4.bias\n",
      "WARNING:tensorflow:Unresolved object in checkpoint: (root).optimizer's state 'v' for (root).layer_with_weights-5.gamma\n",
      "WARNING:tensorflow:Unresolved object in checkpoint: (root).optimizer's state 'v' for (root).layer_with_weights-5.beta\n",
      "WARNING:tensorflow:Unresolved object in checkpoint: (root).optimizer's state 'v' for (root).layer_with_weights-6.kernel\n",
      "WARNING:tensorflow:Unresolved object in checkpoint: (root).optimizer's state 'v' for (root).layer_with_weights-6.bias\n",
      "WARNING:tensorflow:Unresolved object in checkpoint: (root).optimizer's state 'v' for (root).layer_with_weights-7.gamma\n",
      "WARNING:tensorflow:Unresolved object in checkpoint: (root).optimizer's state 'v' for (root).layer_with_weights-7.beta\n",
      "WARNING:tensorflow:Unresolved object in checkpoint: (root).optimizer's state 'v' for (root).layer_with_weights-8.kernel\n",
      "WARNING:tensorflow:Unresolved object in checkpoint: (root).optimizer's state 'v' for (root).layer_with_weights-8.bias\n",
      "WARNING:tensorflow:Unresolved object in checkpoint: (root).optimizer's state 'v' for (root).layer_with_weights-9.gamma\n",
      "WARNING:tensorflow:Unresolved object in checkpoint: (root).optimizer's state 'v' for (root).layer_with_weights-9.beta\n",
      "WARNING:tensorflow:Unresolved object in checkpoint: (root).optimizer's state 'v' for (root).layer_with_weights-10.kernel\n",
      "WARNING:tensorflow:Unresolved object in checkpoint: (root).optimizer's state 'v' for (root).layer_with_weights-10.bias\n",
      "WARNING:tensorflow:Unresolved object in checkpoint: (root).optimizer's state 'v' for (root).layer_with_weights-11.gamma\n",
      "WARNING:tensorflow:Unresolved object in checkpoint: (root).optimizer's state 'v' for (root).layer_with_weights-11.beta\n",
      "WARNING:tensorflow:Unresolved object in checkpoint: (root).optimizer's state 'v' for (root).layer_with_weights-12.kernel\n",
      "WARNING:tensorflow:Unresolved object in checkpoint: (root).optimizer's state 'v' for (root).layer_with_weights-12.bias\n",
      "WARNING:tensorflow:Unresolved object in checkpoint: (root).optimizer's state 'v' for (root).layer_with_weights-13.gamma\n",
      "WARNING:tensorflow:Unresolved object in checkpoint: (root).optimizer's state 'v' for (root).layer_with_weights-13.beta\n",
      "WARNING:tensorflow:Unresolved object in checkpoint: (root).optimizer's state 'v' for (root).layer_with_weights-14.kernel\n",
      "WARNING:tensorflow:Unresolved object in checkpoint: (root).optimizer's state 'v' for (root).layer_with_weights-14.bias\n",
      "WARNING:tensorflow:A checkpoint was restored (e.g. tf.train.Checkpoint.restore or tf.keras.Model.load_weights) but not all checkpointed values were used. See above for specific issues. Use expect_partial() on the load status object, e.g. tf.train.Checkpoint.restore(...).expect_partial(), to silence these warnings, or use assert_consumed() to make the check explicit. See https://www.tensorflow.org/alpha/guide/checkpoints#loading_mechanics for details.\n",
      "Epoch 1/75\n",
      "2172/2172 - 7s - loss: 1.5613 - acc: 0.5028 - val_loss: 2.3099 - val_acc: 0.3347\n",
      "Epoch 2/75\n",
      "2172/2172 - 7s - loss: 1.3334 - acc: 0.5695 - val_loss: 1.2615 - val_acc: 0.5868\n"
     ]
    },
    {
     "name": "stdout",
     "output_type": "stream",
     "text": [
      "Epoch 3/75\n",
      "2172/2172 - 7s - loss: 1.2170 - acc: 0.5953 - val_loss: 1.7463 - val_acc: 0.1901\n",
      "Epoch 4/75\n",
      "2172/2172 - 7s - loss: 1.1573 - acc: 0.6110 - val_loss: 1.3664 - val_acc: 0.4463\n",
      "Epoch 5/75\n",
      "2172/2172 - 7s - loss: 1.0899 - acc: 0.6165 - val_loss: 1.0390 - val_acc: 0.6281\n",
      "Epoch 6/75\n",
      "2172/2172 - 7s - loss: 1.0444 - acc: 0.6298 - val_loss: 1.0368 - val_acc: 0.5992\n",
      "Epoch 7/75\n",
      "2172/2172 - 7s - loss: 0.9999 - acc: 0.6423 - val_loss: 1.5871 - val_acc: 0.2934\n",
      "Epoch 8/75\n",
      "2172/2172 - 7s - loss: 0.9699 - acc: 0.6496 - val_loss: 1.0260 - val_acc: 0.5826\n",
      "Epoch 9/75\n",
      "2172/2172 - 7s - loss: 0.8759 - acc: 0.6975 - val_loss: 0.8977 - val_acc: 0.7149\n",
      "Epoch 10/75\n",
      "2172/2172 - 7s - loss: 0.8390 - acc: 0.7076 - val_loss: 1.2366 - val_acc: 0.4669\n",
      "Epoch 11/75\n",
      "2172/2172 - 7s - loss: 0.7643 - acc: 0.7330 - val_loss: 1.7915 - val_acc: 0.2107\n",
      "Epoch 12/75\n",
      "2172/2172 - 7s - loss: 0.7669 - acc: 0.7353 - val_loss: 0.7475 - val_acc: 0.7149\n",
      "Epoch 13/75\n",
      "2172/2172 - 7s - loss: 0.7162 - acc: 0.7592 - val_loss: 1.0356 - val_acc: 0.6529\n",
      "Epoch 14/75\n",
      "2172/2172 - 7s - loss: 0.6671 - acc: 0.7739 - val_loss: 0.6879 - val_acc: 0.7810\n",
      "Epoch 15/75\n",
      "2172/2172 - 7s - loss: 0.6538 - acc: 0.7749 - val_loss: 0.9219 - val_acc: 0.6281\n",
      "Epoch 16/75\n",
      "2172/2172 - 7s - loss: 0.5955 - acc: 0.7928 - val_loss: 0.9137 - val_acc: 0.6116\n",
      "Epoch 17/75\n",
      "2172/2172 - 7s - loss: 0.6333 - acc: 0.7864 - val_loss: 0.5823 - val_acc: 0.8058\n",
      "Epoch 18/75\n",
      "2172/2172 - 7s - loss: 0.5860 - acc: 0.7970 - val_loss: 0.5216 - val_acc: 0.8264\n",
      "Epoch 19/75\n",
      "2172/2172 - 7s - loss: 0.5436 - acc: 0.8214 - val_loss: 1.1849 - val_acc: 0.6157\n",
      "Epoch 20/75\n",
      "2172/2172 - 7s - loss: 0.5408 - acc: 0.8237 - val_loss: 3.1507 - val_acc: 0.3058\n",
      "Epoch 21/75\n",
      "2172/2172 - 7s - loss: 0.5050 - acc: 0.8292 - val_loss: 0.7855 - val_acc: 0.6983\n",
      "Epoch 22/75\n",
      "2172/2172 - 7s - loss: 0.4999 - acc: 0.8379 - val_loss: 0.5418 - val_acc: 0.8099\n",
      "Epoch 23/75\n",
      "2172/2172 - 7s - loss: 0.4588 - acc: 0.8527 - val_loss: 0.3551 - val_acc: 0.8843\n",
      "Epoch 24/75\n",
      "2172/2172 - 7s - loss: 0.4523 - acc: 0.8494 - val_loss: 0.7033 - val_acc: 0.7603\n",
      "Epoch 25/75\n",
      "2172/2172 - 7s - loss: 0.4240 - acc: 0.8559 - val_loss: 0.4532 - val_acc: 0.8512\n",
      "Epoch 26/75\n",
      "2172/2172 - 7s - loss: 0.4146 - acc: 0.8623 - val_loss: 0.6866 - val_acc: 0.8264\n",
      "Epoch 27/75\n",
      "2172/2172 - 7s - loss: 0.4109 - acc: 0.8623 - val_loss: 0.7484 - val_acc: 0.7645\n",
      "Epoch 28/75\n",
      "2172/2172 - 7s - loss: 0.3975 - acc: 0.8582 - val_loss: 0.5447 - val_acc: 0.7934\n",
      "Epoch 29/75\n",
      "2172/2172 - 7s - loss: 0.3726 - acc: 0.8743 - val_loss: 1.3976 - val_acc: 0.6694\n",
      "Epoch 30/75\n",
      "2172/2172 - 7s - loss: 0.3479 - acc: 0.8858 - val_loss: 0.5794 - val_acc: 0.8058\n",
      "Epoch 31/75\n",
      "2172/2172 - 7s - loss: 0.3566 - acc: 0.8743 - val_loss: 0.6057 - val_acc: 0.7893\n",
      "Epoch 32/75\n",
      "2172/2172 - 7s - loss: 0.3792 - acc: 0.8817 - val_loss: 1.0756 - val_acc: 0.6736\n",
      "Epoch 33/75\n",
      "2172/2172 - 7s - loss: 0.3261 - acc: 0.9006 - val_loss: 1.0414 - val_acc: 0.6157\n",
      "Epoch 34/75\n",
      "2172/2172 - 7s - loss: 0.3249 - acc: 0.8913 - val_loss: 0.3316 - val_acc: 0.8719\n",
      "Epoch 35/75\n",
      "2172/2172 - 7s - loss: 0.3566 - acc: 0.8766 - val_loss: 0.5319 - val_acc: 0.8140\n",
      "Epoch 36/75\n",
      "2172/2172 - 7s - loss: 0.3257 - acc: 0.8941 - val_loss: 0.5082 - val_acc: 0.8223\n",
      "Epoch 37/75\n",
      "2172/2172 - 7s - loss: 0.2790 - acc: 0.9056 - val_loss: 0.4305 - val_acc: 0.8430\n",
      "Epoch 38/75\n",
      "2172/2172 - 7s - loss: 0.2434 - acc: 0.9194 - val_loss: 5.0996 - val_acc: 0.2603\n",
      "Epoch 39/75\n",
      "2172/2172 - 7s - loss: 0.2969 - acc: 0.9033 - val_loss: 0.2726 - val_acc: 0.9050\n",
      "Epoch 40/75\n",
      "2172/2172 - 7s - loss: 0.3614 - acc: 0.8821 - val_loss: 0.7404 - val_acc: 0.7521\n",
      "Epoch 41/75\n",
      "2172/2172 - 7s - loss: 0.3513 - acc: 0.8863 - val_loss: 0.2686 - val_acc: 0.9008\n",
      "Epoch 42/75\n",
      "2172/2172 - 7s - loss: 0.2821 - acc: 0.9093 - val_loss: 0.5752 - val_acc: 0.8140\n",
      "Epoch 43/75\n",
      "2172/2172 - 7s - loss: 0.2436 - acc: 0.9176 - val_loss: 0.2159 - val_acc: 0.9215\n",
      "Epoch 44/75\n",
      "2172/2172 - 7s - loss: 0.2444 - acc: 0.9291 - val_loss: 0.2205 - val_acc: 0.9298\n",
      "Epoch 45/75\n",
      "2172/2172 - 7s - loss: 0.2274 - acc: 0.9314 - val_loss: 0.3009 - val_acc: 0.9256\n",
      "Epoch 46/75\n",
      "2172/2172 - 7s - loss: 0.2425 - acc: 0.9254 - val_loss: 0.3341 - val_acc: 0.8760\n",
      "Epoch 47/75\n",
      "2172/2172 - 7s - loss: 0.2099 - acc: 0.9323 - val_loss: 0.3177 - val_acc: 0.9050\n",
      "Epoch 48/75\n",
      "2172/2172 - 7s - loss: 0.2388 - acc: 0.9282 - val_loss: 0.3259 - val_acc: 0.8843\n",
      "Epoch 49/75\n",
      "2172/2172 - 7s - loss: 0.2165 - acc: 0.9346 - val_loss: 0.4163 - val_acc: 0.8967\n",
      "Epoch 50/75\n",
      "2172/2172 - 7s - loss: 0.2574 - acc: 0.9227 - val_loss: 0.2557 - val_acc: 0.8967\n",
      "Epoch 51/75\n",
      "2172/2172 - 7s - loss: 0.2105 - acc: 0.9300 - val_loss: 0.7239 - val_acc: 0.7727\n",
      "Epoch 52/75\n",
      "2172/2172 - 7s - loss: 0.2659 - acc: 0.9180 - val_loss: 0.2696 - val_acc: 0.9091\n",
      "Epoch 53/75\n",
      "2172/2172 - 7s - loss: 0.2028 - acc: 0.9397 - val_loss: 0.2631 - val_acc: 0.9091\n",
      "Epoch 54/75\n",
      "2172/2172 - 7s - loss: 0.1852 - acc: 0.9448 - val_loss: 0.2197 - val_acc: 0.9298\n",
      "Epoch 55/75\n",
      "2172/2172 - 7s - loss: 0.1785 - acc: 0.9434 - val_loss: 0.1673 - val_acc: 0.9504\n",
      "Epoch 56/75\n",
      "2172/2172 - 7s - loss: 0.1864 - acc: 0.9388 - val_loss: 0.4066 - val_acc: 0.8719\n",
      "Epoch 57/75\n",
      "2172/2172 - 7s - loss: 0.1777 - acc: 0.9388 - val_loss: 3.2260 - val_acc: 0.4463\n",
      "Epoch 58/75\n",
      "2172/2172 - 7s - loss: 0.1565 - acc: 0.9507 - val_loss: 1.7699 - val_acc: 0.6033\n",
      "Epoch 59/75\n",
      "2172/2172 - 7s - loss: 0.2431 - acc: 0.9263 - val_loss: 0.4091 - val_acc: 0.8388\n",
      "Epoch 60/75\n",
      "2172/2172 - 7s - loss: 0.2196 - acc: 0.9319 - val_loss: 0.4555 - val_acc: 0.8802\n",
      "Epoch 61/75\n",
      "2172/2172 - 7s - loss: 0.1537 - acc: 0.9489 - val_loss: 0.3005 - val_acc: 0.9008\n",
      "Epoch 62/75\n",
      "2172/2172 - 7s - loss: 0.1890 - acc: 0.9438 - val_loss: 0.1866 - val_acc: 0.9545\n",
      "Epoch 63/75\n",
      "2172/2172 - 7s - loss: 0.1631 - acc: 0.9489 - val_loss: 0.3378 - val_acc: 0.9050\n",
      "Epoch 64/75\n",
      "2172/2172 - 7s - loss: 0.1881 - acc: 0.9429 - val_loss: 0.1090 - val_acc: 0.9835\n",
      "Epoch 65/75\n",
      "2172/2172 - 7s - loss: 0.1617 - acc: 0.9443 - val_loss: 0.1752 - val_acc: 0.9380\n",
      "Epoch 66/75\n",
      "2172/2172 - 7s - loss: 0.1805 - acc: 0.9448 - val_loss: 0.8073 - val_acc: 0.7893\n",
      "Epoch 67/75\n",
      "2172/2172 - 7s - loss: 0.1691 - acc: 0.9457 - val_loss: 1.5602 - val_acc: 0.6983\n",
      "Epoch 68/75\n",
      "2172/2172 - 7s - loss: 0.1541 - acc: 0.9521 - val_loss: 0.1806 - val_acc: 0.9298\n",
      "Epoch 69/75\n",
      "2172/2172 - 7s - loss: 0.1481 - acc: 0.9549 - val_loss: 0.3989 - val_acc: 0.8760\n",
      "Epoch 70/75\n",
      "2172/2172 - 7s - loss: 0.1690 - acc: 0.9424 - val_loss: 0.1802 - val_acc: 0.9421\n",
      "Epoch 71/75\n",
      "2172/2172 - 7s - loss: 0.1275 - acc: 0.9641 - val_loss: 0.1932 - val_acc: 0.9587\n",
      "Epoch 72/75\n",
      "2172/2172 - 7s - loss: 0.1328 - acc: 0.9645 - val_loss: 0.2987 - val_acc: 0.9050\n",
      "Epoch 73/75\n",
      "2172/2172 - 7s - loss: 0.1198 - acc: 0.9609 - val_loss: 0.2645 - val_acc: 0.9215\n",
      "Epoch 74/75\n",
      "2172/2172 - 7s - loss: 0.1424 - acc: 0.9586 - val_loss: 0.3040 - val_acc: 0.9215\n",
      "Epoch 75/75\n",
      "2172/2172 - 7s - loss: 0.1400 - acc: 0.9563 - val_loss: 0.4588 - val_acc: 0.8554\n",
      "Train on 2172 samples, validate on 242 samples\n",
      "Epoch 1/75\n",
      "2172/2172 - 8s - loss: 1.5193 - acc: 0.5249 - val_loss: 1.5119 - val_acc: 0.4545\n",
      "Epoch 2/75\n",
      "2172/2172 - 7s - loss: 1.3354 - acc: 0.5645 - val_loss: 1.2236 - val_acc: 0.5744\n",
      "Epoch 3/75\n",
      "2172/2172 - 7s - loss: 1.1864 - acc: 0.5958 - val_loss: 1.5998 - val_acc: 0.5620\n",
      "Epoch 4/75\n",
      "2172/2172 - 7s - loss: 1.1351 - acc: 0.6100 - val_loss: 1.0413 - val_acc: 0.6240\n",
      "Epoch 5/75\n",
      "2172/2172 - 7s - loss: 1.0827 - acc: 0.6211 - val_loss: 1.1258 - val_acc: 0.6074\n",
      "Epoch 6/75\n",
      "2172/2172 - 7s - loss: 1.0432 - acc: 0.6156 - val_loss: 1.4414 - val_acc: 0.5165\n",
      "Epoch 7/75\n",
      "2172/2172 - 7s - loss: 0.9480 - acc: 0.6529 - val_loss: 1.1051 - val_acc: 0.5868\n",
      "Epoch 8/75\n",
      "2172/2172 - 7s - loss: 0.8841 - acc: 0.6915 - val_loss: 1.9486 - val_acc: 0.2149\n",
      "Epoch 9/75\n",
      "2172/2172 - 7s - loss: 0.8257 - acc: 0.7205 - val_loss: 0.8603 - val_acc: 0.6860\n",
      "Epoch 10/75\n",
      "2172/2172 - 7s - loss: 0.7842 - acc: 0.7247 - val_loss: 1.1926 - val_acc: 0.6281\n",
      "Epoch 11/75\n",
      "2172/2172 - 7s - loss: 0.7697 - acc: 0.7380 - val_loss: 4.4006 - val_acc: 0.1653\n",
      "Epoch 12/75\n",
      "2172/2172 - 7s - loss: 0.7260 - acc: 0.7422 - val_loss: 1.6448 - val_acc: 0.4256\n",
      "Epoch 13/75\n",
      "2172/2172 - 7s - loss: 0.6825 - acc: 0.7730 - val_loss: 0.7723 - val_acc: 0.7273\n",
      "Epoch 14/75\n",
      "2172/2172 - 7s - loss: 0.6490 - acc: 0.7799 - val_loss: 0.5494 - val_acc: 0.8306\n",
      "Epoch 15/75\n",
      "2172/2172 - 7s - loss: 0.6337 - acc: 0.7730 - val_loss: 0.5832 - val_acc: 0.8223\n"
     ]
    },
    {
     "name": "stdout",
     "output_type": "stream",
     "text": [
      "Epoch 16/75\n",
      "2172/2172 - 7s - loss: 0.5980 - acc: 0.8025 - val_loss: 2.6743 - val_acc: 0.1612\n",
      "Epoch 17/75\n",
      "2172/2172 - 7s - loss: 0.5883 - acc: 0.8052 - val_loss: 0.7455 - val_acc: 0.6777\n",
      "Epoch 18/75\n",
      "2172/2172 - 7s - loss: 0.5582 - acc: 0.8112 - val_loss: 0.6318 - val_acc: 0.7686\n",
      "Epoch 19/75\n",
      "2172/2172 - 7s - loss: 0.5402 - acc: 0.8237 - val_loss: 0.3500 - val_acc: 0.8926\n",
      "Epoch 20/75\n",
      "2172/2172 - 8s - loss: 0.5651 - acc: 0.8177 - val_loss: 0.4296 - val_acc: 0.8388\n",
      "Epoch 21/75\n",
      "2172/2172 - 7s - loss: 0.5217 - acc: 0.8301 - val_loss: 0.4216 - val_acc: 0.8306\n",
      "Epoch 22/75\n",
      "2172/2172 - 7s - loss: 0.4950 - acc: 0.8379 - val_loss: 0.7407 - val_acc: 0.7355\n",
      "Epoch 23/75\n",
      "2172/2172 - 7s - loss: 0.4783 - acc: 0.8375 - val_loss: 0.4807 - val_acc: 0.8306\n",
      "Epoch 24/75\n",
      "2172/2172 - 7s - loss: 0.4486 - acc: 0.8550 - val_loss: 0.4428 - val_acc: 0.8636\n",
      "Epoch 25/75\n",
      "2172/2172 - 7s - loss: 0.4202 - acc: 0.8587 - val_loss: 0.4767 - val_acc: 0.8264\n",
      "Epoch 26/75\n",
      "2172/2172 - 7s - loss: 0.4779 - acc: 0.8393 - val_loss: 1.0346 - val_acc: 0.5455\n",
      "Epoch 27/75\n",
      "2172/2172 - 7s - loss: 0.3910 - acc: 0.8702 - val_loss: 0.7261 - val_acc: 0.7603\n",
      "Epoch 28/75\n",
      "2172/2172 - 7s - loss: 0.3854 - acc: 0.8762 - val_loss: 0.4261 - val_acc: 0.8636\n",
      "Epoch 29/75\n",
      "2172/2172 - 7s - loss: 0.3772 - acc: 0.8743 - val_loss: 0.6912 - val_acc: 0.7479\n",
      "Epoch 30/75\n",
      "2172/2172 - 7s - loss: 0.3877 - acc: 0.8775 - val_loss: 0.4327 - val_acc: 0.8264\n",
      "Epoch 31/75\n",
      "2172/2172 - 7s - loss: 0.3570 - acc: 0.8904 - val_loss: 0.6176 - val_acc: 0.8017\n",
      "Epoch 32/75\n",
      "2172/2172 - 7s - loss: 0.3492 - acc: 0.8812 - val_loss: 0.9561 - val_acc: 0.6405\n",
      "Epoch 33/75\n",
      "2172/2172 - 7s - loss: 0.3485 - acc: 0.8863 - val_loss: 0.4571 - val_acc: 0.8595\n",
      "Epoch 34/75\n",
      "2172/2172 - 7s - loss: 0.3153 - acc: 0.9042 - val_loss: 0.2601 - val_acc: 0.9174\n",
      "Epoch 35/75\n",
      "2172/2172 - 7s - loss: 0.3720 - acc: 0.8826 - val_loss: 0.6161 - val_acc: 0.7893\n",
      "Epoch 36/75\n",
      "2172/2172 - 7s - loss: 0.3232 - acc: 0.8913 - val_loss: 0.9751 - val_acc: 0.7107\n",
      "Epoch 37/75\n",
      "2172/2172 - 7s - loss: 0.3101 - acc: 0.8996 - val_loss: 0.2017 - val_acc: 0.9339\n",
      "Epoch 38/75\n",
      "2172/2172 - 7s - loss: 0.2863 - acc: 0.9015 - val_loss: 0.4806 - val_acc: 0.8306\n",
      "Epoch 39/75\n",
      "2172/2172 - 7s - loss: 0.2988 - acc: 0.9075 - val_loss: 0.2773 - val_acc: 0.9174\n",
      "Epoch 40/75\n",
      "2172/2172 - 7s - loss: 0.2976 - acc: 0.9047 - val_loss: 0.8173 - val_acc: 0.7314\n",
      "Epoch 41/75\n",
      "2172/2172 - 7s - loss: 0.2678 - acc: 0.9162 - val_loss: 0.8549 - val_acc: 0.6901\n",
      "Epoch 42/75\n",
      "2172/2172 - 7s - loss: 0.2707 - acc: 0.9084 - val_loss: 0.2940 - val_acc: 0.8884\n",
      "Epoch 43/75\n",
      "2172/2172 - 7s - loss: 0.2440 - acc: 0.9190 - val_loss: 0.7251 - val_acc: 0.8058\n",
      "Epoch 44/75\n",
      "2172/2172 - 7s - loss: 0.1965 - acc: 0.9309 - val_loss: 0.1679 - val_acc: 0.9587\n",
      "Epoch 45/75\n",
      "2172/2172 - 7s - loss: 0.2567 - acc: 0.9176 - val_loss: 0.5015 - val_acc: 0.8430\n",
      "Epoch 46/75\n",
      "2172/2172 - 7s - loss: 0.2486 - acc: 0.9134 - val_loss: 0.2470 - val_acc: 0.9174\n",
      "Epoch 47/75\n",
      "2172/2172 - 7s - loss: 0.2574 - acc: 0.9213 - val_loss: 0.3236 - val_acc: 0.8678\n",
      "Epoch 48/75\n",
      "2172/2172 - 7s - loss: 0.2504 - acc: 0.9153 - val_loss: 0.2868 - val_acc: 0.8843\n",
      "Epoch 49/75\n",
      "2172/2172 - 7s - loss: 0.2698 - acc: 0.9162 - val_loss: 0.3232 - val_acc: 0.8926\n",
      "Epoch 50/75\n",
      "2172/2172 - 7s - loss: 0.2455 - acc: 0.9185 - val_loss: 0.1724 - val_acc: 0.9504\n",
      "Epoch 51/75\n",
      "2172/2172 - 7s - loss: 0.2384 - acc: 0.9250 - val_loss: 0.3404 - val_acc: 0.8967\n",
      "Epoch 52/75\n",
      "2172/2172 - 7s - loss: 0.1989 - acc: 0.9392 - val_loss: 0.2596 - val_acc: 0.8967\n",
      "Epoch 53/75\n",
      "2172/2172 - 7s - loss: 0.1993 - acc: 0.9351 - val_loss: 0.2090 - val_acc: 0.9421\n",
      "Epoch 54/75\n",
      "2172/2172 - 7s - loss: 0.2009 - acc: 0.9319 - val_loss: 1.4135 - val_acc: 0.6488\n",
      "Epoch 55/75\n",
      "2172/2172 - 7s - loss: 0.2095 - acc: 0.9360 - val_loss: 0.2715 - val_acc: 0.8967\n",
      "Epoch 56/75\n",
      "2172/2172 - 7s - loss: 0.2122 - acc: 0.9296 - val_loss: 0.1724 - val_acc: 0.9339\n",
      "Epoch 57/75\n",
      "2172/2172 - 7s - loss: 0.1833 - acc: 0.9448 - val_loss: 0.3570 - val_acc: 0.8595\n",
      "Epoch 58/75\n",
      "2172/2172 - 7s - loss: 0.1700 - acc: 0.9411 - val_loss: 0.8849 - val_acc: 0.7562\n",
      "Epoch 59/75\n",
      "2172/2172 - 7s - loss: 0.1887 - acc: 0.9415 - val_loss: 0.4859 - val_acc: 0.8140\n",
      "Epoch 60/75\n",
      "2172/2172 - 7s - loss: 0.1604 - acc: 0.9424 - val_loss: 0.1797 - val_acc: 0.9339\n",
      "Epoch 61/75\n",
      "2172/2172 - 7s - loss: 0.1846 - acc: 0.9369 - val_loss: 0.3365 - val_acc: 0.8760\n",
      "Epoch 62/75\n",
      "2172/2172 - 7s - loss: 0.1512 - acc: 0.9517 - val_loss: 0.2859 - val_acc: 0.9050\n",
      "Epoch 63/75\n",
      "2172/2172 - 7s - loss: 0.1494 - acc: 0.9512 - val_loss: 0.1452 - val_acc: 0.9587\n",
      "Epoch 64/75\n",
      "2172/2172 - 7s - loss: 0.2028 - acc: 0.9323 - val_loss: 0.4165 - val_acc: 0.8678\n",
      "Epoch 65/75\n",
      "2172/2172 - 7s - loss: 0.1858 - acc: 0.9494 - val_loss: 0.8694 - val_acc: 0.7479\n",
      "Epoch 66/75\n",
      "2172/2172 - 7s - loss: 0.2103 - acc: 0.9300 - val_loss: 0.3413 - val_acc: 0.8843\n",
      "Epoch 67/75\n",
      "2172/2172 - 7s - loss: 0.1452 - acc: 0.9475 - val_loss: 0.1584 - val_acc: 0.9380\n",
      "Epoch 68/75\n",
      "2172/2172 - 7s - loss: 0.1238 - acc: 0.9595 - val_loss: 0.1157 - val_acc: 0.9669\n",
      "Epoch 69/75\n",
      "2172/2172 - 7s - loss: 0.1301 - acc: 0.9553 - val_loss: 0.0760 - val_acc: 0.9669\n",
      "Epoch 70/75\n",
      "2172/2172 - 7s - loss: 0.1660 - acc: 0.9457 - val_loss: 0.4229 - val_acc: 0.8678\n",
      "Epoch 71/75\n",
      "2172/2172 - 7s - loss: 0.1580 - acc: 0.9494 - val_loss: 0.6032 - val_acc: 0.8182\n",
      "Epoch 72/75\n",
      "2172/2172 - 7s - loss: 0.1447 - acc: 0.9558 - val_loss: 0.2804 - val_acc: 0.8884\n",
      "Epoch 73/75\n",
      "2172/2172 - 7s - loss: 0.1568 - acc: 0.9530 - val_loss: 0.0930 - val_acc: 0.9545\n",
      "Epoch 74/75\n",
      "2172/2172 - 7s - loss: 0.1202 - acc: 0.9595 - val_loss: 0.2188 - val_acc: 0.9091\n",
      "Epoch 75/75\n",
      "2172/2172 - 7s - loss: 0.1244 - acc: 0.9609 - val_loss: 0.1396 - val_acc: 0.9545\n",
      "Train on 2172 samples, validate on 242 samples\n",
      "Epoch 1/75\n",
      "2172/2172 - 8s - loss: 1.5740 - acc: 0.5046 - val_loss: 1.8019 - val_acc: 0.2810\n",
      "Epoch 2/75\n",
      "2172/2172 - 7s - loss: 1.3514 - acc: 0.5640 - val_loss: 1.2125 - val_acc: 0.5992\n",
      "Epoch 3/75\n",
      "2172/2172 - 7s - loss: 1.2040 - acc: 0.5944 - val_loss: 1.4975 - val_acc: 0.5661\n",
      "Epoch 4/75\n",
      "2172/2172 - 7s - loss: 1.1415 - acc: 0.6100 - val_loss: 1.1712 - val_acc: 0.5785\n",
      "Epoch 5/75\n",
      "2172/2172 - 7s - loss: 1.1035 - acc: 0.6192 - val_loss: 1.2638 - val_acc: 0.5496\n",
      "Epoch 6/75\n",
      "2172/2172 - 7s - loss: 1.0500 - acc: 0.6289 - val_loss: 1.2026 - val_acc: 0.6074\n",
      "Epoch 7/75\n",
      "2172/2172 - 7s - loss: 1.0543 - acc: 0.6271 - val_loss: 1.0245 - val_acc: 0.6116\n",
      "Epoch 8/75\n",
      "2172/2172 - 7s - loss: 1.0101 - acc: 0.6367 - val_loss: 1.3549 - val_acc: 0.5579\n",
      "Epoch 9/75\n",
      "2172/2172 - 7s - loss: 0.9177 - acc: 0.6731 - val_loss: 1.0606 - val_acc: 0.5744\n",
      "Epoch 10/75\n",
      "2172/2172 - 8s - loss: 0.9068 - acc: 0.6855 - val_loss: 1.0387 - val_acc: 0.5992\n",
      "Epoch 11/75\n",
      "2172/2172 - 7s - loss: 0.8178 - acc: 0.7302 - val_loss: 0.9173 - val_acc: 0.6157\n",
      "Epoch 12/75\n",
      "2172/2172 - 7s - loss: 0.7898 - acc: 0.7201 - val_loss: 0.6702 - val_acc: 0.7603\n",
      "Epoch 13/75\n",
      "2172/2172 - 7s - loss: 0.7846 - acc: 0.7408 - val_loss: 1.7892 - val_acc: 0.4174\n",
      "Epoch 14/75\n",
      "2172/2172 - 7s - loss: 0.7244 - acc: 0.7551 - val_loss: 0.6364 - val_acc: 0.7851\n",
      "Epoch 15/75\n",
      "2172/2172 - 7s - loss: 0.6825 - acc: 0.7795 - val_loss: 1.2109 - val_acc: 0.5289\n",
      "Epoch 16/75\n",
      "2172/2172 - 7s - loss: 0.6543 - acc: 0.7762 - val_loss: 0.7249 - val_acc: 0.7810\n",
      "Epoch 17/75\n",
      "2172/2172 - 7s - loss: 0.6430 - acc: 0.7808 - val_loss: 0.8524 - val_acc: 0.7066\n",
      "Epoch 18/75\n",
      "2172/2172 - 7s - loss: 0.6160 - acc: 0.7965 - val_loss: 0.8211 - val_acc: 0.6818\n",
      "Epoch 19/75\n",
      "2172/2172 - 7s - loss: 0.6099 - acc: 0.8034 - val_loss: 0.5884 - val_acc: 0.8017\n",
      "Epoch 20/75\n",
      "2172/2172 - 7s - loss: 0.6268 - acc: 0.7878 - val_loss: 0.6229 - val_acc: 0.7769\n",
      "Epoch 21/75\n",
      "2172/2172 - 7s - loss: 0.5212 - acc: 0.8269 - val_loss: 2.0110 - val_acc: 0.5372\n",
      "Epoch 22/75\n",
      "2172/2172 - 7s - loss: 0.5141 - acc: 0.8320 - val_loss: 1.0465 - val_acc: 0.6240\n",
      "Epoch 23/75\n",
      "2172/2172 - 7s - loss: 0.5059 - acc: 0.8366 - val_loss: 0.4323 - val_acc: 0.8843\n",
      "Epoch 24/75\n",
      "2172/2172 - 7s - loss: 0.5087 - acc: 0.8356 - val_loss: 0.8766 - val_acc: 0.6570\n",
      "Epoch 25/75\n",
      "2172/2172 - 7s - loss: 0.4792 - acc: 0.8412 - val_loss: 0.5727 - val_acc: 0.8099\n",
      "Epoch 26/75\n",
      "2172/2172 - 7s - loss: 0.4352 - acc: 0.8541 - val_loss: 1.1846 - val_acc: 0.5909\n",
      "Epoch 27/75\n",
      "2172/2172 - 7s - loss: 0.4366 - acc: 0.8554 - val_loss: 1.0021 - val_acc: 0.6694\n",
      "Epoch 28/75\n",
      "2172/2172 - 7s - loss: 0.4443 - acc: 0.8554 - val_loss: 0.4678 - val_acc: 0.8347\n"
     ]
    },
    {
     "name": "stdout",
     "output_type": "stream",
     "text": [
      "Epoch 29/75\n",
      "2172/2172 - 7s - loss: 0.3836 - acc: 0.8628 - val_loss: 1.8535 - val_acc: 0.4669\n",
      "Epoch 30/75\n",
      "2172/2172 - 7s - loss: 0.4887 - acc: 0.8444 - val_loss: 0.6636 - val_acc: 0.7479\n",
      "Epoch 31/75\n",
      "2172/2172 - 7s - loss: 0.3968 - acc: 0.8771 - val_loss: 0.4200 - val_acc: 0.8306\n",
      "Epoch 32/75\n",
      "2172/2172 - 7s - loss: 0.3624 - acc: 0.8743 - val_loss: 0.6153 - val_acc: 0.7727\n",
      "Epoch 33/75\n",
      "2172/2172 - 7s - loss: 0.3692 - acc: 0.8803 - val_loss: 0.9173 - val_acc: 0.7149\n",
      "Epoch 34/75\n",
      "2172/2172 - 7s - loss: 0.3527 - acc: 0.8831 - val_loss: 0.5013 - val_acc: 0.8223\n",
      "Epoch 35/75\n",
      "2172/2172 - 7s - loss: 0.3287 - acc: 0.8858 - val_loss: 0.4560 - val_acc: 0.8182\n",
      "Epoch 36/75\n",
      "2172/2172 - 7s - loss: 0.3384 - acc: 0.8969 - val_loss: 0.6467 - val_acc: 0.7603\n",
      "Epoch 37/75\n",
      "2172/2172 - 7s - loss: 0.3257 - acc: 0.8927 - val_loss: 1.0320 - val_acc: 0.6405\n",
      "Epoch 38/75\n",
      "2172/2172 - 7s - loss: 0.3255 - acc: 0.8909 - val_loss: 0.4047 - val_acc: 0.8760\n",
      "Epoch 39/75\n",
      "2172/2172 - 8s - loss: 0.3290 - acc: 0.8909 - val_loss: 0.8773 - val_acc: 0.6983\n",
      "Epoch 40/75\n",
      "2172/2172 - 7s - loss: 0.3092 - acc: 0.8936 - val_loss: 0.7318 - val_acc: 0.8099\n",
      "Epoch 41/75\n",
      "2172/2172 - 7s - loss: 0.2690 - acc: 0.9088 - val_loss: 1.0352 - val_acc: 0.7231\n",
      "Epoch 42/75\n",
      "2172/2172 - 7s - loss: 0.2699 - acc: 0.9084 - val_loss: 0.6267 - val_acc: 0.7810\n",
      "Epoch 43/75\n",
      "2172/2172 - 7s - loss: 0.2847 - acc: 0.9070 - val_loss: 0.3038 - val_acc: 0.9008\n",
      "Epoch 44/75\n",
      "2172/2172 - 7s - loss: 0.2409 - acc: 0.9245 - val_loss: 0.4147 - val_acc: 0.8636\n",
      "Epoch 45/75\n",
      "2172/2172 - 7s - loss: 0.2725 - acc: 0.9121 - val_loss: 0.2349 - val_acc: 0.9339\n",
      "Epoch 46/75\n",
      "2172/2172 - 7s - loss: 0.2213 - acc: 0.9180 - val_loss: 0.2531 - val_acc: 0.9091\n",
      "Epoch 47/75\n",
      "2172/2172 - 7s - loss: 0.2284 - acc: 0.9240 - val_loss: 0.2832 - val_acc: 0.9174\n",
      "Epoch 48/75\n",
      "2172/2172 - 7s - loss: 0.2665 - acc: 0.9144 - val_loss: 1.2046 - val_acc: 0.6198\n",
      "Epoch 49/75\n",
      "2172/2172 - 7s - loss: 0.2218 - acc: 0.9328 - val_loss: 0.3068 - val_acc: 0.8802\n",
      "Epoch 50/75\n",
      "2172/2172 - 7s - loss: 0.2070 - acc: 0.9309 - val_loss: 0.4121 - val_acc: 0.8719\n",
      "Epoch 51/75\n",
      "2172/2172 - 7s - loss: 0.1918 - acc: 0.9309 - val_loss: 0.3304 - val_acc: 0.8926\n",
      "Epoch 52/75\n",
      "2172/2172 - 7s - loss: 0.2191 - acc: 0.9291 - val_loss: 0.2133 - val_acc: 0.9421\n",
      "Epoch 53/75\n",
      "2172/2172 - 7s - loss: 0.2156 - acc: 0.9319 - val_loss: 0.2982 - val_acc: 0.8967\n",
      "Epoch 54/75\n",
      "2172/2172 - 7s - loss: 0.2030 - acc: 0.9378 - val_loss: 0.3550 - val_acc: 0.8471\n",
      "Epoch 55/75\n",
      "2172/2172 - 7s - loss: 0.2358 - acc: 0.9263 - val_loss: 0.3406 - val_acc: 0.8760\n",
      "Epoch 56/75\n",
      "2172/2172 - 7s - loss: 0.1844 - acc: 0.9346 - val_loss: 0.3853 - val_acc: 0.8595\n",
      "Epoch 57/75\n",
      "2172/2172 - 7s - loss: 0.1985 - acc: 0.9355 - val_loss: 0.7955 - val_acc: 0.7686\n",
      "Epoch 58/75\n",
      "2172/2172 - 7s - loss: 0.2206 - acc: 0.9309 - val_loss: 0.2945 - val_acc: 0.8884\n",
      "Epoch 59/75\n",
      "2172/2172 - 7s - loss: 0.1940 - acc: 0.9415 - val_loss: 0.3278 - val_acc: 0.9091\n",
      "Epoch 60/75\n",
      "2172/2172 - 7s - loss: 0.1584 - acc: 0.9558 - val_loss: 0.3661 - val_acc: 0.8760\n",
      "Epoch 61/75\n",
      "2172/2172 - 7s - loss: 0.1869 - acc: 0.9461 - val_loss: 0.3327 - val_acc: 0.8843\n",
      "Epoch 62/75\n",
      "2172/2172 - 7s - loss: 0.2138 - acc: 0.9397 - val_loss: 1.6564 - val_acc: 0.5661\n",
      "Epoch 63/75\n",
      "2172/2172 - 7s - loss: 0.2086 - acc: 0.9337 - val_loss: 0.2455 - val_acc: 0.9298\n",
      "Epoch 64/75\n",
      "2172/2172 - 7s - loss: 0.1583 - acc: 0.9521 - val_loss: 0.3379 - val_acc: 0.8926\n",
      "Epoch 65/75\n",
      "2172/2172 - 7s - loss: 0.1880 - acc: 0.9429 - val_loss: 3.4132 - val_acc: 0.4132\n",
      "Epoch 66/75\n",
      "2172/2172 - 7s - loss: 0.1673 - acc: 0.9503 - val_loss: 0.1858 - val_acc: 0.9380\n",
      "Epoch 67/75\n",
      "2172/2172 - 7s - loss: 0.2020 - acc: 0.9351 - val_loss: 0.2881 - val_acc: 0.8967\n",
      "Epoch 68/75\n",
      "2172/2172 - 7s - loss: 0.1806 - acc: 0.9438 - val_loss: 0.1601 - val_acc: 0.9628\n",
      "Epoch 69/75\n",
      "2172/2172 - 7s - loss: 0.1352 - acc: 0.9517 - val_loss: 0.1863 - val_acc: 0.9504\n",
      "Epoch 70/75\n",
      "2172/2172 - 7s - loss: 0.1438 - acc: 0.9558 - val_loss: 0.2177 - val_acc: 0.9339\n",
      "Epoch 71/75\n",
      "2172/2172 - 7s - loss: 0.1303 - acc: 0.9599 - val_loss: 0.2674 - val_acc: 0.9256\n",
      "Epoch 72/75\n",
      "2172/2172 - 7s - loss: 0.1496 - acc: 0.9521 - val_loss: 0.8389 - val_acc: 0.7479\n",
      "Epoch 73/75\n",
      "2172/2172 - 7s - loss: 0.1452 - acc: 0.9572 - val_loss: 0.2721 - val_acc: 0.9215\n",
      "Epoch 74/75\n",
      "2172/2172 - 7s - loss: 0.1558 - acc: 0.9576 - val_loss: 0.2642 - val_acc: 0.9132\n",
      "Epoch 75/75\n",
      "2172/2172 - 7s - loss: 0.1193 - acc: 0.9576 - val_loss: 0.2758 - val_acc: 0.9050\n",
      "Train on 2173 samples, validate on 242 samples\n",
      "Epoch 1/75\n",
      "2173/2173 - 8s - loss: 1.5383 - acc: 0.5085 - val_loss: 1.3863 - val_acc: 0.4959\n",
      "Epoch 2/75\n",
      "2173/2173 - 7s - loss: 1.3061 - acc: 0.5771 - val_loss: 1.1943 - val_acc: 0.5868\n",
      "Epoch 3/75\n",
      "2173/2173 - 7s - loss: 1.2048 - acc: 0.5983 - val_loss: 1.3830 - val_acc: 0.5372\n",
      "Epoch 4/75\n",
      "2173/2173 - 7s - loss: 1.1303 - acc: 0.6033 - val_loss: 1.3049 - val_acc: 0.5909\n",
      "Epoch 5/75\n",
      "2173/2173 - 7s - loss: 1.1126 - acc: 0.6162 - val_loss: 1.0703 - val_acc: 0.5909\n",
      "Epoch 6/75\n",
      "2173/2173 - 7s - loss: 1.0283 - acc: 0.6355 - val_loss: 1.0850 - val_acc: 0.6322\n",
      "Epoch 7/75\n",
      "2173/2173 - 7s - loss: 0.9869 - acc: 0.6415 - val_loss: 2.3267 - val_acc: 0.3182\n",
      "Epoch 8/75\n",
      "2173/2173 - 7s - loss: 0.9458 - acc: 0.6728 - val_loss: 0.8847 - val_acc: 0.6612\n",
      "Epoch 9/75\n",
      "2173/2173 - 7s - loss: 0.8794 - acc: 0.6806 - val_loss: 1.2066 - val_acc: 0.5785\n",
      "Epoch 10/75\n",
      "2173/2173 - 7s - loss: 0.8330 - acc: 0.7069 - val_loss: 1.3596 - val_acc: 0.4752\n",
      "Epoch 11/75\n",
      "2173/2173 - 7s - loss: 0.7933 - acc: 0.7271 - val_loss: 1.1624 - val_acc: 0.5331\n",
      "Epoch 12/75\n",
      "2173/2173 - 8s - loss: 0.7346 - acc: 0.7510 - val_loss: 4.2573 - val_acc: 0.1694\n",
      "Epoch 13/75\n",
      "2173/2173 - 7s - loss: 0.7396 - acc: 0.7506 - val_loss: 1.7124 - val_acc: 0.3802\n",
      "Epoch 14/75\n",
      "2173/2173 - 7s - loss: 0.6862 - acc: 0.7736 - val_loss: 1.3238 - val_acc: 0.5661\n",
      "Epoch 15/75\n",
      "2173/2173 - 7s - loss: 0.6520 - acc: 0.7791 - val_loss: 1.1573 - val_acc: 0.5950\n",
      "Epoch 16/75\n",
      "2173/2173 - 7s - loss: 0.6545 - acc: 0.7727 - val_loss: 0.5654 - val_acc: 0.8017\n",
      "Epoch 17/75\n",
      "2173/2173 - 7s - loss: 0.5860 - acc: 0.8049 - val_loss: 1.2886 - val_acc: 0.6322\n",
      "Epoch 18/75\n",
      "2173/2173 - 7s - loss: 0.6079 - acc: 0.8035 - val_loss: 0.7593 - val_acc: 0.7603\n",
      "Epoch 19/75\n",
      "2173/2173 - 7s - loss: 0.5676 - acc: 0.8173 - val_loss: 1.0100 - val_acc: 0.6860\n",
      "Epoch 20/75\n",
      "2173/2173 - 7s - loss: 0.5411 - acc: 0.8256 - val_loss: 0.8076 - val_acc: 0.7479\n",
      "Epoch 21/75\n",
      "2173/2173 - 7s - loss: 0.5042 - acc: 0.8306 - val_loss: 2.0546 - val_acc: 0.4959\n",
      "Epoch 22/75\n",
      "2173/2173 - 7s - loss: 0.5120 - acc: 0.8320 - val_loss: 0.9255 - val_acc: 0.6736\n",
      "Epoch 23/75\n",
      "2173/2173 - 7s - loss: 0.5364 - acc: 0.8270 - val_loss: 0.5140 - val_acc: 0.8471\n",
      "Epoch 24/75\n",
      "2173/2173 - 7s - loss: 0.4801 - acc: 0.8385 - val_loss: 0.4831 - val_acc: 0.8512\n",
      "Epoch 25/75\n",
      "2173/2173 - 7s - loss: 0.5028 - acc: 0.8353 - val_loss: 0.4371 - val_acc: 0.8388\n",
      "Epoch 26/75\n",
      "2173/2173 - 7s - loss: 0.4552 - acc: 0.8514 - val_loss: 0.5211 - val_acc: 0.8058\n",
      "Epoch 27/75\n",
      "2173/2173 - 7s - loss: 0.4109 - acc: 0.8638 - val_loss: 0.5912 - val_acc: 0.8099\n",
      "Epoch 28/75\n",
      "2173/2173 - 7s - loss: 0.4533 - acc: 0.8546 - val_loss: 0.4416 - val_acc: 0.8595\n",
      "Epoch 29/75\n",
      "2173/2173 - 7s - loss: 0.4190 - acc: 0.8583 - val_loss: 1.0319 - val_acc: 0.6653\n",
      "Epoch 30/75\n",
      "2173/2173 - 7s - loss: 0.4011 - acc: 0.8675 - val_loss: 1.4087 - val_acc: 0.6529\n",
      "Epoch 31/75\n",
      "2173/2173 - 7s - loss: 0.3856 - acc: 0.8725 - val_loss: 0.9007 - val_acc: 0.6281\n",
      "Epoch 32/75\n",
      "2173/2173 - 7s - loss: 0.3792 - acc: 0.8711 - val_loss: 1.1140 - val_acc: 0.6364\n",
      "Epoch 33/75\n",
      "2173/2173 - 7s - loss: 0.3273 - acc: 0.8817 - val_loss: 0.3465 - val_acc: 0.8512\n",
      "Epoch 34/75\n",
      "2173/2173 - 7s - loss: 0.3703 - acc: 0.8822 - val_loss: 0.2696 - val_acc: 0.9050\n",
      "Epoch 35/75\n",
      "2173/2173 - 7s - loss: 0.3254 - acc: 0.8937 - val_loss: 1.5001 - val_acc: 0.6488\n",
      "Epoch 36/75\n",
      "2173/2173 - 7s - loss: 0.3539 - acc: 0.8891 - val_loss: 0.6687 - val_acc: 0.8264\n",
      "Epoch 37/75\n",
      "2173/2173 - 7s - loss: 0.3134 - acc: 0.8877 - val_loss: 0.4896 - val_acc: 0.8223\n",
      "Epoch 38/75\n",
      "2173/2173 - 7s - loss: 0.3206 - acc: 0.8873 - val_loss: 2.4278 - val_acc: 0.5413\n",
      "Epoch 39/75\n",
      "2173/2173 - 7s - loss: 0.3537 - acc: 0.8762 - val_loss: 0.5912 - val_acc: 0.8223\n",
      "Epoch 40/75\n",
      "2173/2173 - 7s - loss: 0.3088 - acc: 0.9043 - val_loss: 0.2035 - val_acc: 0.9339\n",
      "Epoch 41/75\n",
      "2173/2173 - 7s - loss: 0.2592 - acc: 0.9080 - val_loss: 0.3142 - val_acc: 0.8719\n"
     ]
    },
    {
     "name": "stdout",
     "output_type": "stream",
     "text": [
      "Epoch 42/75\n",
      "2173/2173 - 7s - loss: 0.2691 - acc: 0.9084 - val_loss: 0.7376 - val_acc: 0.7273\n",
      "Epoch 43/75\n",
      "2173/2173 - 7s - loss: 0.3003 - acc: 0.8974 - val_loss: 0.6313 - val_acc: 0.7686\n",
      "Epoch 44/75\n",
      "2173/2173 - 7s - loss: 0.2871 - acc: 0.9181 - val_loss: 0.4994 - val_acc: 0.7934\n",
      "Epoch 45/75\n",
      "2173/2173 - 7s - loss: 0.2391 - acc: 0.9181 - val_loss: 0.4259 - val_acc: 0.8678\n",
      "Epoch 46/75\n",
      "2173/2173 - 7s - loss: 0.2679 - acc: 0.9158 - val_loss: 0.6880 - val_acc: 0.7893\n",
      "Epoch 47/75\n",
      "2173/2173 - 7s - loss: 0.2509 - acc: 0.9250 - val_loss: 0.4522 - val_acc: 0.8595\n",
      "Epoch 48/75\n",
      "2173/2173 - 7s - loss: 0.2305 - acc: 0.9264 - val_loss: 0.1624 - val_acc: 0.9463\n",
      "Epoch 49/75\n",
      "2173/2173 - 7s - loss: 0.2256 - acc: 0.9227 - val_loss: 0.1412 - val_acc: 0.9587\n",
      "Epoch 50/75\n",
      "2173/2173 - 7s - loss: 0.2260 - acc: 0.9236 - val_loss: 3.2841 - val_acc: 0.5083\n",
      "Epoch 51/75\n",
      "2173/2173 - 7s - loss: 0.2088 - acc: 0.9328 - val_loss: 0.2956 - val_acc: 0.9132\n",
      "Epoch 52/75\n",
      "2173/2173 - 7s - loss: 0.2364 - acc: 0.9268 - val_loss: 0.2963 - val_acc: 0.8802\n",
      "Epoch 53/75\n",
      "2173/2173 - 7s - loss: 0.2008 - acc: 0.9347 - val_loss: 0.5587 - val_acc: 0.8264\n",
      "Epoch 54/75\n",
      "2173/2173 - 7s - loss: 0.2463 - acc: 0.9176 - val_loss: 0.3269 - val_acc: 0.8719\n",
      "Epoch 55/75\n",
      "2173/2173 - 7s - loss: 0.2115 - acc: 0.9296 - val_loss: 0.2955 - val_acc: 0.8926\n",
      "Epoch 56/75\n",
      "2173/2173 - 7s - loss: 0.1998 - acc: 0.9360 - val_loss: 0.6153 - val_acc: 0.7603\n",
      "Epoch 57/75\n",
      "2173/2173 - 7s - loss: 0.2253 - acc: 0.9314 - val_loss: 0.4083 - val_acc: 0.8264\n",
      "Epoch 58/75\n",
      "2173/2173 - 7s - loss: 0.1520 - acc: 0.9526 - val_loss: 0.1564 - val_acc: 0.9298\n",
      "Epoch 59/75\n",
      "2173/2173 - 7s - loss: 0.1839 - acc: 0.9425 - val_loss: 0.1772 - val_acc: 0.9298\n",
      "Epoch 60/75\n",
      "2173/2173 - 7s - loss: 0.1295 - acc: 0.9581 - val_loss: 0.2621 - val_acc: 0.9050\n",
      "Epoch 61/75\n",
      "2173/2173 - 7s - loss: 0.1957 - acc: 0.9439 - val_loss: 1.3882 - val_acc: 0.6777\n",
      "Epoch 62/75\n",
      "2173/2173 - 7s - loss: 0.2310 - acc: 0.9347 - val_loss: 0.1562 - val_acc: 0.9587\n",
      "Epoch 63/75\n",
      "2173/2173 - 7s - loss: 0.1810 - acc: 0.9397 - val_loss: 0.1704 - val_acc: 0.9463\n",
      "Epoch 64/75\n",
      "2173/2173 - 7s - loss: 0.1458 - acc: 0.9531 - val_loss: 1.0101 - val_acc: 0.7479\n",
      "Epoch 65/75\n",
      "2173/2173 - 7s - loss: 0.1764 - acc: 0.9457 - val_loss: 2.0601 - val_acc: 0.5826\n",
      "Epoch 66/75\n",
      "2173/2173 - 7s - loss: 0.1746 - acc: 0.9471 - val_loss: 0.3531 - val_acc: 0.8967\n",
      "Epoch 67/75\n",
      "2173/2173 - 7s - loss: 0.1782 - acc: 0.9379 - val_loss: 0.6439 - val_acc: 0.7438\n",
      "Epoch 68/75\n",
      "2173/2173 - 7s - loss: 0.1526 - acc: 0.9485 - val_loss: 0.3121 - val_acc: 0.8926\n",
      "Epoch 69/75\n",
      "2173/2173 - 7s - loss: 0.1416 - acc: 0.9549 - val_loss: 0.4903 - val_acc: 0.8264\n",
      "Epoch 70/75\n",
      "2173/2173 - 7s - loss: 0.1535 - acc: 0.9531 - val_loss: 0.5111 - val_acc: 0.8140\n",
      "Epoch 71/75\n",
      "2173/2173 - 7s - loss: 0.1863 - acc: 0.9416 - val_loss: 0.6903 - val_acc: 0.7727\n",
      "Epoch 72/75\n",
      "2173/2173 - 7s - loss: 0.1479 - acc: 0.9526 - val_loss: 0.1274 - val_acc: 0.9628\n",
      "Epoch 73/75\n",
      "2173/2173 - 7s - loss: 0.1089 - acc: 0.9655 - val_loss: 0.9130 - val_acc: 0.7769\n",
      "Epoch 74/75\n",
      "2173/2173 - 7s - loss: 0.1174 - acc: 0.9641 - val_loss: 0.1154 - val_acc: 0.9711\n",
      "Epoch 75/75\n",
      "2173/2173 - 7s - loss: 0.1229 - acc: 0.9646 - val_loss: 0.5484 - val_acc: 0.8678\n",
      "Train on 2173 samples, validate on 242 samples\n",
      "Epoch 1/75\n",
      "2173/2173 - 8s - loss: 1.5472 - acc: 0.5177 - val_loss: 1.3761 - val_acc: 0.5579\n",
      "Epoch 2/75\n",
      "2173/2173 - 7s - loss: 1.3644 - acc: 0.5725 - val_loss: 1.4057 - val_acc: 0.5744\n",
      "Epoch 3/75\n",
      "2173/2173 - 7s - loss: 1.1970 - acc: 0.5992 - val_loss: 1.0311 - val_acc: 0.6116\n",
      "Epoch 4/75\n",
      "2173/2173 - 7s - loss: 1.1397 - acc: 0.6019 - val_loss: 1.9579 - val_acc: 0.2851\n",
      "Epoch 5/75\n",
      "2173/2173 - 7s - loss: 1.0912 - acc: 0.6176 - val_loss: 1.9330 - val_acc: 0.4752\n",
      "Epoch 6/75\n",
      "2173/2173 - 7s - loss: 1.0757 - acc: 0.6213 - val_loss: 1.8012 - val_acc: 0.5207\n",
      "Epoch 7/75\n",
      "2173/2173 - 7s - loss: 1.0216 - acc: 0.6268 - val_loss: 0.9646 - val_acc: 0.6570\n",
      "Epoch 8/75\n",
      "2173/2173 - 7s - loss: 1.0023 - acc: 0.6452 - val_loss: 2.0711 - val_acc: 0.4132\n",
      "Epoch 9/75\n",
      "2173/2173 - 7s - loss: 0.9519 - acc: 0.6558 - val_loss: 1.2754 - val_acc: 0.5289\n",
      "Epoch 10/75\n",
      "2173/2173 - 7s - loss: 0.8560 - acc: 0.7082 - val_loss: 1.0136 - val_acc: 0.6653\n",
      "Epoch 11/75\n",
      "2173/2173 - 7s - loss: 0.8316 - acc: 0.7115 - val_loss: 0.8510 - val_acc: 0.7149\n",
      "Epoch 12/75\n",
      "2173/2173 - 7s - loss: 0.7674 - acc: 0.7308 - val_loss: 0.9757 - val_acc: 0.7479\n",
      "Epoch 13/75\n",
      "2173/2173 - 7s - loss: 0.7781 - acc: 0.7326 - val_loss: 1.9692 - val_acc: 0.3802\n",
      "Epoch 14/75\n",
      "2173/2173 - 7s - loss: 0.7069 - acc: 0.7598 - val_loss: 0.6930 - val_acc: 0.7851\n",
      "Epoch 15/75\n",
      "2173/2173 - 7s - loss: 0.6771 - acc: 0.7777 - val_loss: 0.8954 - val_acc: 0.7107\n",
      "Epoch 16/75\n",
      "2173/2173 - 7s - loss: 0.6557 - acc: 0.7791 - val_loss: 0.9371 - val_acc: 0.7231\n",
      "Epoch 17/75\n",
      "2173/2173 - 7s - loss: 0.6016 - acc: 0.7837 - val_loss: 0.7465 - val_acc: 0.7190\n",
      "Epoch 18/75\n",
      "2173/2173 - 7s - loss: 0.5930 - acc: 0.8003 - val_loss: 0.5544 - val_acc: 0.8140\n",
      "Epoch 19/75\n",
      "2173/2173 - 7s - loss: 0.5655 - acc: 0.8173 - val_loss: 0.7871 - val_acc: 0.6942\n",
      "Epoch 20/75\n",
      "2173/2173 - 7s - loss: 0.5696 - acc: 0.8224 - val_loss: 0.8035 - val_acc: 0.7066\n",
      "Epoch 21/75\n",
      "2173/2173 - 7s - loss: 0.5063 - acc: 0.8283 - val_loss: 1.3241 - val_acc: 0.5909\n",
      "Epoch 22/75\n",
      "2173/2173 - 7s - loss: 0.4790 - acc: 0.8408 - val_loss: 1.0505 - val_acc: 0.6570\n",
      "Epoch 23/75\n",
      "2173/2173 - 7s - loss: 0.4774 - acc: 0.8435 - val_loss: 0.4325 - val_acc: 0.8306\n",
      "Epoch 24/75\n",
      "2173/2173 - 7s - loss: 0.4453 - acc: 0.8445 - val_loss: 0.5686 - val_acc: 0.7851\n",
      "Epoch 25/75\n",
      "2173/2173 - 7s - loss: 0.4150 - acc: 0.8656 - val_loss: 1.7660 - val_acc: 0.5744\n",
      "Epoch 26/75\n",
      "2173/2173 - 7s - loss: 0.4125 - acc: 0.8569 - val_loss: 0.6084 - val_acc: 0.8223\n",
      "Epoch 27/75\n",
      "2173/2173 - 7s - loss: 0.3970 - acc: 0.8675 - val_loss: 0.5927 - val_acc: 0.8099\n",
      "Epoch 28/75\n",
      "2173/2173 - 7s - loss: 0.3848 - acc: 0.8670 - val_loss: 0.5976 - val_acc: 0.7686\n",
      "Epoch 29/75\n",
      "2173/2173 - 7s - loss: 0.3805 - acc: 0.8684 - val_loss: 0.5120 - val_acc: 0.8182\n",
      "Epoch 30/75\n",
      "2173/2173 - 7s - loss: 0.3470 - acc: 0.8817 - val_loss: 0.4876 - val_acc: 0.8140\n",
      "Epoch 31/75\n",
      "2173/2173 - 7s - loss: 0.3542 - acc: 0.8914 - val_loss: 1.4483 - val_acc: 0.5868\n",
      "Epoch 32/75\n",
      "2173/2173 - 7s - loss: 0.3303 - acc: 0.8808 - val_loss: 0.5220 - val_acc: 0.8017\n",
      "Epoch 33/75\n",
      "2173/2173 - 7s - loss: 0.3771 - acc: 0.8785 - val_loss: 0.5240 - val_acc: 0.8264\n",
      "Epoch 34/75\n",
      "2173/2173 - 7s - loss: 0.3629 - acc: 0.8877 - val_loss: 1.2596 - val_acc: 0.5702\n",
      "Epoch 35/75\n",
      "2173/2173 - 7s - loss: 0.3056 - acc: 0.9047 - val_loss: 0.3098 - val_acc: 0.8967\n",
      "Epoch 36/75\n",
      "2173/2173 - 7s - loss: 0.3284 - acc: 0.9001 - val_loss: 0.6888 - val_acc: 0.7645\n",
      "Epoch 37/75\n",
      "2173/2173 - 7s - loss: 0.3154 - acc: 0.8978 - val_loss: 0.5243 - val_acc: 0.8347\n",
      "Epoch 38/75\n",
      "2173/2173 - 7s - loss: 0.2639 - acc: 0.9195 - val_loss: 0.7043 - val_acc: 0.7314\n",
      "Epoch 39/75\n",
      "2173/2173 - 7s - loss: 0.3032 - acc: 0.9084 - val_loss: 2.8458 - val_acc: 0.5868\n",
      "Epoch 40/75\n",
      "2173/2173 - 7s - loss: 0.2576 - acc: 0.9139 - val_loss: 1.1257 - val_acc: 0.7066\n",
      "Epoch 41/75\n",
      "2173/2173 - 7s - loss: 0.2881 - acc: 0.9052 - val_loss: 0.6351 - val_acc: 0.7769\n",
      "Epoch 42/75\n",
      "2173/2173 - 7s - loss: 0.2763 - acc: 0.9126 - val_loss: 1.0327 - val_acc: 0.6116\n",
      "Epoch 43/75\n",
      "2173/2173 - 7s - loss: 0.2693 - acc: 0.9162 - val_loss: 0.4583 - val_acc: 0.8430\n",
      "Epoch 44/75\n",
      "2173/2173 - 7s - loss: 0.2417 - acc: 0.9222 - val_loss: 0.1739 - val_acc: 0.9339\n",
      "Epoch 45/75\n",
      "2173/2173 - 7s - loss: 0.2640 - acc: 0.9259 - val_loss: 0.2658 - val_acc: 0.9132\n",
      "Epoch 46/75\n",
      "2173/2173 - 7s - loss: 0.2351 - acc: 0.9218 - val_loss: 0.4534 - val_acc: 0.8430\n",
      "Epoch 47/75\n",
      "2173/2173 - 7s - loss: 0.2104 - acc: 0.9333 - val_loss: 0.8976 - val_acc: 0.7521\n",
      "Epoch 48/75\n",
      "2173/2173 - 7s - loss: 0.2492 - acc: 0.9236 - val_loss: 2.5473 - val_acc: 0.4793\n",
      "Epoch 49/75\n",
      "2173/2173 - 7s - loss: 0.2046 - acc: 0.9333 - val_loss: 0.1518 - val_acc: 0.9504\n",
      "Epoch 50/75\n",
      "2173/2173 - 7s - loss: 0.2481 - acc: 0.9324 - val_loss: 1.1589 - val_acc: 0.6818\n",
      "Epoch 51/75\n",
      "2173/2173 - 7s - loss: 0.2112 - acc: 0.9319 - val_loss: 0.5984 - val_acc: 0.8264\n",
      "Epoch 52/75\n",
      "2173/2173 - 7s - loss: 0.2244 - acc: 0.9337 - val_loss: 0.7633 - val_acc: 0.7810\n",
      "Epoch 53/75\n",
      "2173/2173 - 7s - loss: 0.1747 - acc: 0.9457 - val_loss: 0.6343 - val_acc: 0.8058\n",
      "Epoch 54/75\n",
      "2173/2173 - 7s - loss: 0.2160 - acc: 0.9370 - val_loss: 0.1978 - val_acc: 0.9256\n"
     ]
    },
    {
     "name": "stdout",
     "output_type": "stream",
     "text": [
      "Epoch 55/75\n",
      "2173/2173 - 7s - loss: 0.1699 - acc: 0.9489 - val_loss: 0.2323 - val_acc: 0.9174\n",
      "Epoch 56/75\n",
      "2173/2173 - 7s - loss: 0.1541 - acc: 0.9549 - val_loss: 0.1273 - val_acc: 0.9463\n",
      "Epoch 57/75\n",
      "2173/2173 - 7s - loss: 0.2042 - acc: 0.9480 - val_loss: 0.1929 - val_acc: 0.9421\n",
      "Epoch 58/75\n",
      "2173/2173 - 7s - loss: 0.2433 - acc: 0.9277 - val_loss: 0.2242 - val_acc: 0.9256\n",
      "Epoch 59/75\n",
      "2173/2173 - 7s - loss: 0.2028 - acc: 0.9393 - val_loss: 0.3461 - val_acc: 0.8802\n",
      "Epoch 60/75\n",
      "2173/2173 - 7s - loss: 0.2017 - acc: 0.9388 - val_loss: 0.3942 - val_acc: 0.8760\n",
      "Epoch 61/75\n",
      "2173/2173 - 7s - loss: 0.1780 - acc: 0.9466 - val_loss: 0.2312 - val_acc: 0.9380\n",
      "Epoch 62/75\n",
      "2173/2173 - 7s - loss: 0.1705 - acc: 0.9452 - val_loss: 0.2539 - val_acc: 0.9298\n",
      "Epoch 63/75\n",
      "2173/2173 - 7s - loss: 0.1631 - acc: 0.9462 - val_loss: 0.2248 - val_acc: 0.9380\n",
      "Epoch 64/75\n",
      "2173/2173 - 7s - loss: 0.1614 - acc: 0.9420 - val_loss: 0.3693 - val_acc: 0.8678\n",
      "Epoch 65/75\n",
      "2173/2173 - 8s - loss: 0.1846 - acc: 0.9434 - val_loss: 1.4073 - val_acc: 0.7231\n",
      "Epoch 66/75\n",
      "2173/2173 - 7s - loss: 0.1870 - acc: 0.9480 - val_loss: 0.2266 - val_acc: 0.9463\n",
      "Epoch 67/75\n",
      "2173/2173 - 7s - loss: 0.1491 - acc: 0.9535 - val_loss: 0.2375 - val_acc: 0.9339\n",
      "Epoch 68/75\n",
      "2173/2173 - 7s - loss: 0.1187 - acc: 0.9636 - val_loss: 0.2076 - val_acc: 0.9504\n",
      "Epoch 69/75\n",
      "2173/2173 - 8s - loss: 0.1399 - acc: 0.9540 - val_loss: 1.0307 - val_acc: 0.7479\n",
      "Epoch 70/75\n",
      "2173/2173 - 7s - loss: 0.1242 - acc: 0.9623 - val_loss: 0.6226 - val_acc: 0.8264\n",
      "Epoch 71/75\n",
      "2173/2173 - 7s - loss: 0.1260 - acc: 0.9600 - val_loss: 0.1619 - val_acc: 0.9587\n",
      "Epoch 72/75\n",
      "2173/2173 - 7s - loss: 0.1663 - acc: 0.9457 - val_loss: 1.0585 - val_acc: 0.7314\n",
      "Epoch 73/75\n",
      "2173/2173 - 7s - loss: 0.1331 - acc: 0.9590 - val_loss: 0.2007 - val_acc: 0.9545\n",
      "Epoch 74/75\n",
      "2173/2173 - 7s - loss: 0.1239 - acc: 0.9627 - val_loss: 0.6061 - val_acc: 0.8430\n",
      "Epoch 75/75\n",
      "2173/2173 - 7s - loss: 0.1436 - acc: 0.9526 - val_loss: 0.8373 - val_acc: 0.7521\n"
     ]
    }
   ],
   "source": [
    "from sklearn.metrics import precision_recall_fscore_support\n",
    "from sklearn.model_selection import StratifiedKFold\n",
    "from sklearn.metrics import accuracy_score, precision_score, recall_score, f1_score, roc_auc_score, roc_curve, auc, precision_recall_curve\n",
    "from sklearn.metrics import confusion_matrix\n",
    "\n",
    "all_base_precision = list()\n",
    "all_base_recall = list()\n",
    "all_macro_precision = list()\n",
    "all_macro_recall = list()\n",
    "all_f1 = list()\n",
    "all_macro_f1 = list()\n",
    "\n",
    "\n",
    "all_tpr = list()\n",
    "all_fpr = list()\n",
    "all_precision = list()\n",
    "all_recall = list()\n",
    "all_cm=list()\n",
    "all_accuracy = list()\n",
    "\n",
    "\n",
    "n_split=5\n",
    "n_classes=8\n",
    "\n",
    "y_all_labelled=[]\n",
    "for i in range(len(Y_all)):\n",
    "        y_all_labelled.append(np.argmax(Y_all[i]))\n",
    "        \n",
    "my_callbacks = [tf.keras.callbacks.EarlyStopping(monitor='val_loss',patience=20,verbose=1, mode='min',restore_best_weights=True)]\n",
    "       \n",
    "for train_index,test_index in StratifiedKFold(n_split, shuffle=True, random_state=123).split(X_all,y_all_labelled):  \n",
    "    # use the index to generate training an testing sets\n",
    "    x_train,x_test=X_all[train_index],X_all[test_index]\n",
    "    y_train,y_test=Y_all[train_index],Y_all[test_index]\n",
    "    \n",
    "           \n",
    "    # create and fit the model\n",
    "    cv_model=build_current_model() # lr,dense,cnn\n",
    "    history = cv_model.fit(x_train, y_train,\n",
    "              batch_size=8,\n",
    "              epochs=75,\n",
    "              validation_split=0.1,\n",
    "              verbose=2)\n",
    "    \n",
    "    #generate predictions\n",
    "    y_pred = cv_model.predict(x_test)\n",
    "    actual, predicted = generate_actual_predicted(y_pred, x_test, y_test)\n",
    "    \n",
    "    #calc metrics\n",
    "    curr_base_prec, curr_base_rec, curr_f1, _ = precision_recall_fscore_support(actual, predicted)\n",
    "    curr_macro_prec = precision_score(actual, predicted,average='macro')\n",
    "    curr_macro_rec = recall_score(actual, predicted,average='macro')\n",
    "    curr_macro_f1 = f1_score(actual, predicted,average='macro')\n",
    "    \n",
    "    \n",
    "    actual_labeled = list()\n",
    "    predict_labeled = list()\n",
    "    for x,y in zip(actual,predicted):\n",
    "        actual_labeled.append(getSpecies(x))\n",
    "        predict_labeled.append(getSpecies(y))\n",
    "        \n",
    "    labels = ['A.tridens','E.bottae','M.emarginatus','P.kuhli','R.muscatellum','R.nasutus', 'R.aegyptius', 'T.perforatus']\n",
    "    curr_cm=confusion_matrix(actual_labeled,predict_labeled,labels=labels)\n",
    "    \n",
    "    curr_fpr = [0] * n_classes\n",
    "    curr_tpr = [0] * n_classes\n",
    "    for i in range(n_classes):\n",
    "        curr_fpr[i], curr_tpr[i], _ = roc_curve(y_test[:,i], y_pred[:,i])\n",
    "        \n",
    "    curr_prec = [0] * n_classes\n",
    "    curr_rec = [0] * n_classes\n",
    "    for i in range(n_classes):\n",
    "        curr_prec[i], curr_rec[i], _ = precision_recall_curve(y_test[:,i], y_pred[:,i])\n",
    "\n",
    "        \n",
    "    curr_accuracy = accuracy_score(actual, predicted)\n",
    "    \n",
    "    #add to lists\n",
    "    all_base_precision.append(curr_base_prec)\n",
    "    all_base_recall.append(curr_base_rec)\n",
    "    all_macro_precision.append(curr_macro_prec)\n",
    "    all_macro_recall.append(curr_macro_rec)\n",
    "    \n",
    "    all_f1.append(curr_f1)\n",
    "    all_macro_f1.append(curr_macro_f1)\n",
    "    \n",
    "    all_accuracy.append(curr_accuracy)\n",
    "\n",
    "    \n",
    "    all_fpr.append(curr_fpr)\n",
    "    all_tpr.append(curr_tpr)\n",
    "    all_precision.append(curr_prec)\n",
    "    all_recall.append(curr_rec)\n",
    "    all_cm.append(curr_cm)\n",
    "    \n",
    "    \n",
    "    "
   ]
  },
  {
   "cell_type": "code",
   "execution_count": 53,
   "metadata": {},
   "outputs": [
    {
     "name": "stdout",
     "output_type": "stream",
     "text": [
      "precision mean by class [0.89166667 0.81458333 0.51731855 0.93060738 0.92821159 0.9436098\n",
      " 0.89354396 0.86759475]\n",
      "precision sdev by class [0.14813657 0.15229722 0.22365967 0.06216098 0.05024609 0.07623425\n",
      " 0.08493189 0.073319  ]\n",
      "macro precision mean 0.848392002721179\n",
      "macro precision sdev 0.053902494408721004\n",
      "recall mean [0.84       0.74366667 0.81225296 0.78864407 0.95615616 0.78867925\n",
      " 0.446      0.77691358]\n",
      "recall sdev [0.1496663  0.20765463 0.11992645 0.15249899 0.05084218 0.15454957\n",
      " 0.23111469 0.17564233]\n",
      "macro recall mean 0.7690390850720303\n",
      "macro recall sdev 0.07761959099112158\n",
      "f1 mean [0.84121989 0.74079335 0.58359889 0.84726554 0.94011858 0.84431481\n",
      " 0.54817959 0.799     ]\n",
      "f1 sdev [0.06731217 0.1236421  0.15591681 0.10581355 0.02989137 0.08211684\n",
      " 0.21005442 0.09509126]\n",
      "macro f1 mean 0.7680613306713502\n",
      "macro f1 sdev 0.0756095218587991\n",
      "accuracy mean 0.8651175688884496\n",
      "accuracy sdev 0.05660233581548239\n"
     ]
    }
   ],
   "source": [
    "print('precision mean by class', np.array(all_base_precision).mean(axis=0))\n",
    "print('precision sdev by class', np.array(all_base_precision).std(axis=0))\n",
    "\n",
    "print('macro precision mean', np.array(all_macro_precision).mean())\n",
    "print('macro precision sdev', np.array(all_macro_precision).std())\n",
    "\n",
    "\n",
    "print('recall mean', np.array(all_base_recall).mean(axis=0))\n",
    "print('recall sdev', np.array(all_base_recall).std(axis=0))\n",
    "\n",
    "print('macro recall mean', np.array(all_macro_recall).mean())\n",
    "print('macro recall sdev', np.array(all_macro_recall).std())\n",
    "\n",
    "print('f1 mean', np.array(all_f1).mean(axis=0))\n",
    "print('f1 sdev', np.array(all_f1).std(axis=0))\n",
    "\n",
    "print('macro f1 mean', np.array(all_macro_f1).mean())\n",
    "print('macro f1 sdev', np.array(all_macro_f1).std())\n",
    "\n",
    "print('accuracy mean', np.array(all_accuracy).mean())\n",
    "print('accuracy sdev', np.array(all_accuracy).std())\n",
    "\n"
   ]
  },
  {
   "cell_type": "code",
   "execution_count": 54,
   "metadata": {},
   "outputs": [
    {
     "data": {
      "image/png": "[encoded data removed]",
      "text/plain": [
       "<Figure size 432x288 with 1 Axes>"
      ]
     },
     "metadata": {
      "needs_background": "light"
     },
     "output_type": "display_data"
    },
    {
     "data": {
      "image/png": "[encoded data removed]",
      "text/plain": [
       "<Figure size 432x288 with 1 Axes>"
      ]
     },
     "metadata": {
      "needs_background": "light"
     },
     "output_type": "display_data"
    },
    {
     "data": {
      "image/png": "[encoded data removed]",
      "text/plain": [
       "<Figure size 432x288 with 1 Axes>"
      ]
     },
     "metadata": {
      "needs_background": "light"
     },
     "output_type": "display_data"
    },
    {
     "data": {
      "image/png": "[encoded data removed]",
      "text/plain": [
       "<Figure size 432x288 with 1 Axes>"
      ]
     },
     "metadata": {
      "needs_background": "light"
     },
     "output_type": "display_data"
    },
    {
     "data": {
      "image/png": "[encoded data removed]",
      "text/plain": [
       "<Figure size 432x288 with 1 Axes>"
      ]
     },
     "metadata": {
      "needs_background": "light"
     },
     "output_type": "display_data"
    }
   ],
   "source": [
    "# Plot all K-Fold ROC curves\n",
    "\n",
    "for i in range(n_split):\n",
    "    _, axs = plt.subplots(ncols=1)\n",
    "    axs.set(xlabel='False Positive Rate',ylabel='True Positive Rate', title='ROC Curve K-Fold#'+str(i+1))\n",
    "    for j in range(n_classes):\n",
    "        auc_val = auc(all_fpr[i][j], all_tpr[i][j])\n",
    "        auc_val = np.around(auc_val,4)\n",
    "        sns.lineplot(x=all_fpr[i][j],y=all_tpr[i][j],ax=axs, label='Class '+ getSpecies(j) +' (area = ' + str(auc_val) + ')', legend='brief')\n",
    "        "
   ]
  },
  {
   "cell_type": "code",
   "execution_count": 55,
   "metadata": {},
   "outputs": [
    {
     "data": {
      "image/png": "[encoded data removed]",
      "text/plain": [
       "<Figure size 432x288 with 1 Axes>"
      ]
     },
     "metadata": {
      "needs_background": "light"
     },
     "output_type": "display_data"
    },
    {
     "data": {
      "image/png": "[encoded data removed]",
      "text/plain": [
       "<Figure size 432x288 with 1 Axes>"
      ]
     },
     "metadata": {
      "needs_background": "light"
     },
     "output_type": "display_data"
    },
    {
     "data": {
      "image/png": "[encoded data removed]",
      "text/plain": [
       "<Figure size 432x288 with 1 Axes>"
      ]
     },
     "metadata": {
      "needs_background": "light"
     },
     "output_type": "display_data"
    },
    {
     "data": {
      "image/png": "[encoded data removed]",
      "text/plain": [
       "<Figure size 432x288 with 1 Axes>"
      ]
     },
     "metadata": {
      "needs_background": "light"
     },
     "output_type": "display_data"
    },
    {
     "data": {
      "image/png": "[encoded data removed]",
      "text/plain": [
       "<Figure size 432x288 with 1 Axes>"
      ]
     },
     "metadata": {
      "needs_background": "light"
     },
     "output_type": "display_data"
    }
   ],
   "source": [
    "#Plot all K-Fold Precision/Recall curves\n",
    "for i in range(n_split):\n",
    "    _, axs = plt.subplots(ncols=1)\n",
    "    axs.set(xlabel='Recall',ylabel='Precision', title='Precision/Recall Curve K-Fold#'+str(i+1))\n",
    "    for j in range(n_classes):\n",
    "        sns.lineplot(x=all_recall[i][j],y=all_precision[i][j],ax=axs, label='Class '+ getSpecies(j), legend='brief')"
   ]
  },
  {
   "cell_type": "code",
   "execution_count": 56,
   "metadata": {},
   "outputs": [
    {
     "name": "stdout",
     "output_type": "stream",
     "text": [
      "Confusion Matrix K-Fold #1\n",
      "\n",
      "[[  4   0   0   0   1   0   0   0]\n",
      " [  0  22   0   0   3   0   0   0]\n",
      " [  0   0  20   0   1   0   1   0]\n",
      " [  0   0  20  35   4   0   0   0]\n",
      " [  0   0   3   0 330   0   0   0]\n",
      " [  0   9   0   7   0  38   0   0]\n",
      " [  0   1   4   0   8   0  12   0]\n",
      " [  0   0  12   1  32   0   0  36]]\n",
      "\n",
      "\n",
      "Confusion Matrix K-Fold #2\n",
      "\n",
      "[[  5   0   0   0   0   0   0   0]\n",
      " [  0  20   0   0   1   3   1   0]\n",
      " [  0   0  20   0   0   0   1   2]\n",
      " [  0   0   3  57   0   0   0   0]\n",
      " [  0   0   1   3 317   0   2  10]\n",
      " [  0   0   1   2   0  50   0   0]\n",
      " [  1   0   2   0   0   0  18   3]\n",
      " [  0   0   2   0   0   0   2  77]]\n",
      "\n",
      "\n",
      "Confusion Matrix K-Fold #3\n",
      "\n",
      "[[  3   0   1   0   0   0   0   1]\n",
      " [  0  23   0   0   1   0   0   0]\n",
      " [  0   0  18   0   1   0   0   4]\n",
      " [  0   0   2  52   0   1   0   5]\n",
      " [  0   1   1   0 329   0   0   2]\n",
      " [  0   8   1   1   0  44   0   0]\n",
      " [  0   0   9   0   0   0  15   0]\n",
      " [  0   0   1   0  11   0   1  68]]\n",
      "\n",
      "\n",
      "Confusion Matrix K-Fold #4\n",
      "\n",
      "[[  4   0   0   0   1   0   0   0]\n",
      " [  0   9   0   0   5  11   0   0]\n",
      " [  0   0  13   0   6   1   0   2]\n",
      " [  0   0   0  55   1   1   0   3]\n",
      " [  0   0   0   0 330   0   0   3]\n",
      " [  0   0   0   2   0  51   0   1]\n",
      " [  0   0   1   0  20   0   3   0]\n",
      " [  0   0   2   0  16   0   0  62]]\n",
      "\n",
      "\n",
      "Confusion Matrix K-Fold #5\n",
      "\n",
      "[[  5   0   0   0   0   0   0   0]\n",
      " [  0  18   4   0   3   0   0   0]\n",
      " [  0   0  20   0   2   0   0   0]\n",
      " [  3   0  13  37   5   0   0   2]\n",
      " [  0   0  28   0 286   0   1  18]\n",
      " [  0   9  12   1   3  29   0   0]\n",
      " [  0   0  17   0   1   0   6   0]\n",
      " [  0   0   6   0   4   0   0  70]]\n",
      "\n",
      "\n"
     ]
    },
    {
     "data": {
      "image/png": "[encoded data removed]",
      "text/plain": [
       "<Figure size 432x288 with 2 Axes>"
      ]
     },
     "metadata": {
      "needs_background": "light"
     },
     "output_type": "display_data"
    },
    {
     "data": {
      "image/png": "[encoded data removed]",
      "text/plain": [
       "<Figure size 432x288 with 2 Axes>"
      ]
     },
     "metadata": {
      "needs_background": "light"
     },
     "output_type": "display_data"
    },
    {
     "data": {
      "image/png": "[encoded data removed]",
      "text/plain": [
       "<Figure size 432x288 with 2 Axes>"
      ]
     },
     "metadata": {
      "needs_background": "light"
     },
     "output_type": "display_data"
    },
    {
     "data": {
      "image/png": "[encoded data removed]",
      "text/plain": [
       "<Figure size 432x288 with 2 Axes>"
      ]
     },
     "metadata": {
      "needs_background": "light"
     },
     "output_type": "display_data"
    },
    {
     "data": {
      "image/png": "[encoded data removed]",
      "text/plain": [
       "<Figure size 432x288 with 2 Axes>"
      ]
     },
     "metadata": {
      "needs_background": "light"
     },
     "output_type": "display_data"
    }
   ],
   "source": [
    "## Plot all K-Fold confusion matrices\n",
    "import numpy as np\n",
    "import matplotlib.pylab as pl\n",
    "import matplotlib.gridspec as gridspec\n",
    "from matplotlib import pyplot as plt\n",
    "\n",
    "# Create 1X 5 sub plots\n",
    "# gs = gridspec.GridSpec(1,n_split)\n",
    "figs=[]\n",
    "for i in range(n_split):\n",
    "    figs.append(plt.figure())\n",
    "    \n",
    "for i in range(n_split):\n",
    "    print('Confusion Matrix K-Fold #'+ str(i+1)+\"\\n\")\n",
    "    print(all_cm[i])\n",
    "    print(\"\\n\")\n",
    "    \n",
    "    ax=figs[i].add_subplot()\n",
    "    sns.heatmap(all_cm[i], annot=True, ax = ax); #annot=True to annotate cells\n",
    "\n",
    "    \n",
    "    # labels, title and ticks\n",
    "    ax.set_xlabel('Predicted labels');ax.set_ylabel('True labels'); \n",
    "    ax.set_title('Confusion Matrix K-Fold #'+ str(i+1)); \n",
    "    ax.xaxis.set_ticklabels(labels,rotation=45); ax.yaxis.set_ticklabels(labels,rotation=45);"
   ]
  },
  {
   "cell_type": "code",
   "execution_count": 57,
   "metadata": {},
   "outputs": [
    {
     "name": "stdout",
     "output_type": "stream",
     "text": [
      "sum of all confuion matrices\n",
      " [[  21    0    1    0    2    0    0    1]\n",
      " [   0   92    4    0   13   14    1    0]\n",
      " [   0    0   91    0   10    1    2    8]\n",
      " [   3    0   38  236   10    2    0   10]\n",
      " [   0    1   33    3 1592    0    3   33]\n",
      " [   0   26   14   13    3  212    0    1]\n",
      " [   1    1   33    0   29    0   54    3]\n",
      " [   0    0   23    1   63    0    3  313]]\n",
      "\n",
      "average of all confuion matrices\n",
      " [[  4   0   0   0   0   0   0   0]\n",
      " [  0  18   0   0   2   2   0   0]\n",
      " [  0   0  18   0   2   0   0   1]\n",
      " [  0   0   7  47   2   0   0   2]\n",
      " [  0   0   6   0 318   0   0   6]\n",
      " [  0   5   2   2   0  42   0   0]\n",
      " [  0   0   6   0   5   0  10   0]\n",
      " [  0   0   4   0  12   0   0  62]]\n"
     ]
    },
    {
     "data": {
      "image/png": "[encoded data removed]",
      "text/plain": [
       "<Figure size 432x288 with 2 Axes>"
      ]
     },
     "metadata": {
      "needs_background": "light"
     },
     "output_type": "display_data"
    },
    {
     "data": {
      "image/png": "[encoded data removed]",
      "text/plain": [
       "<Figure size 432x288 with 2 Axes>"
      ]
     },
     "metadata": {
      "needs_background": "light"
     },
     "output_type": "display_data"
    }
   ],
   "source": [
    "## plot macro cm\n",
    "\n",
    "sum_all_cm=np.zeros((n_classes,n_classes)).astype('int64')\n",
    "for i in range(n_split):\n",
    "    sum_all_cm+=all_cm[i]\n",
    "    \n",
    "    \n",
    "#plot \n",
    "figs=[]\n",
    "for i in range(2):\n",
    "    figs.append(plt.figure())\n",
    "       \n",
    "print(\"sum of all confuion matrices\\n\",sum_all_cm)\n",
    "ax=figs[0].add_subplot()\n",
    "sns.heatmap(sum_all_cm, annot=True, ax = ax);\n",
    "\n",
    "avg_all_cm=np.divide(sum_all_cm,n_split).astype('int64')\n",
    "print(\"\\naverage of all confuion matrices\\n\",avg_all_cm)\n",
    "ax=figs[1].add_subplot()\n",
    "sns.heatmap(avg_all_cm, annot=True, ax = ax);"
   ]
  },
  {
   "cell_type": "code",
   "execution_count": 58,
   "metadata": {},
   "outputs": [
    {
     "name": "stdout",
     "output_type": "stream",
     "text": [
      "[[0.84 0.   0.04 0.   0.08 0.   0.   0.04]\n",
      " [0.   0.74 0.03 0.   0.1  0.11 0.01 0.  ]\n",
      " [0.   0.   0.81 0.   0.09 0.01 0.02 0.07]\n",
      " [0.01 0.   0.13 0.79 0.03 0.01 0.   0.03]\n",
      " [0.   0.   0.02 0.   0.96 0.   0.   0.02]\n",
      " [0.   0.1  0.05 0.05 0.01 0.79 0.   0.  ]\n",
      " [0.01 0.01 0.27 0.   0.24 0.   0.45 0.02]\n",
      " [0.   0.   0.06 0.   0.16 0.   0.01 0.78]]\n"
     ]
    },
    {
     "data": {
      "image/png": "[encoded data removed]",
      "text/plain": [
       "<Figure size 432x288 with 2 Axes>"
      ]
     },
     "metadata": {
      "needs_background": "light"
     },
     "output_type": "display_data"
    }
   ],
   "source": [
    "import numpy as np\n",
    "import matplotlib.pyplot as plt\n",
    "import seaborn as sns\n",
    "\n",
    "\n",
    "cm= sum_all_cm/ sum_all_cm.astype(np.float).sum(axis=1,keepdims = True)\n",
    "cm = (np.around(cm,2))\n",
    "print(cm)\n",
    "\n",
    "\n",
    "labels = ['A.tridens','E.bottae','M.emarginatus','P.kuhli','R.muscatellum','R.nasutus', 'R.aegyptius', 'T.perforatus']\n",
    "\n",
    "\n",
    "ax= plt.subplot()\n",
    "sns.heatmap(cm, annot=True, ax = ax); #annot=True to annotate cells\n",
    "\n",
    "# labels, title and ticks\n",
    "ax.set_xlabel('Predicted labels');ax.set_ylabel('True labels'); \n",
    "ax.set_title('Confusion Matrix'); \n",
    "ax.xaxis.set_ticklabels(labels,rotation=45); ax.yaxis.set_ticklabels(labels,rotation=45);"
   ]
  },
  {
   "cell_type": "markdown",
   "metadata": {},
   "source": [
    "<h2>Storing/Loading history and model to file</h2>"
   ]
  },
  {
   "cell_type": "code",
   "execution_count": null,
   "metadata": {},
   "outputs": [],
   "source": [
    "#Store History\n",
    "hist_df = pd.DataFrame(history.history) \n",
    "hist_json_file = 'Model2-P-bats.json' \n",
    "with open(hist_json_file, mode='w') as f:\n",
    "    hist_df.to_json(f)"
   ]
  },
  {
   "cell_type": "code",
   "execution_count": null,
   "metadata": {},
   "outputs": [],
   "source": [
    "#Load History \n",
    "history_info = pd.read_json('Model2-P-bats.json')"
   ]
  },
  {
   "cell_type": "code",
   "execution_count": null,
   "metadata": {},
   "outputs": [],
   "source": [
    "##Save Model\n",
    "model.save('Model2-P-bats_trained.model') #Save the model"
   ]
  },
  {
   "cell_type": "code",
   "execution_count": null,
   "metadata": {},
   "outputs": [],
   "source": [
    "## Load Model\n",
    "model = tf.keras.models.load_model('Model2V2-bats_trained.model') #Re load model"
   ]
  }
 ],
 "metadata": {
  "kernelspec": {
   "display_name": "Python 3",
   "language": "python",
   "name": "python3"
  },
  "language_info": {
   "codemirror_mode": {
    "name": "ipython",
    "version": 3
   },
   "file_extension": ".py",
   "mimetype": "text/x-python",
   "name": "python",
   "nbconvert_exporter": "python",
   "pygments_lexer": "ipython3",
   "version": "3.7.7"
  }
 },
 "nbformat": 4,
 "nbformat_minor": 4
}
