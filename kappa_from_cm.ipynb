{
 "cells": [
  {
   "cell_type": "code",
   "execution_count": 2,
   "metadata": {},
   "outputs": [],
   "source": [
    "import numpy as np"
   ]
  },
  {
   "cell_type": "code",
   "execution_count": 11,
   "metadata": {},
   "outputs": [],
   "source": [
    "x ='21    0    1    0    0    0    3    0'\n",
    "x2='0  106    2    0    6    6    4    0'\n",
    "x3 ='0    1   76    4   10    0   15    6'\n",
    "x4 = '4    2   12  234   30    8    6    3'\n",
    "x5 ='2    8    5    1 1593    1   35   20'\n",
    "x6 = '0    7    6   15    8  231    2    0'\n",
    "x7 ='3    1    8    2    8    0   97    2'\n",
    "x8 ='0    1    3    1   23    0   14  361'"
   ]
  },
  {
   "cell_type": "code",
   "execution_count": 12,
   "metadata": {},
   "outputs": [],
   "source": [
    "x = [int(i) for i in x.split()]\n",
    "x2 = [int(i) for i in x2.split()]\n",
    "x3 = [int(i) for i in x3.split()]\n",
    "x4 = [int(i) for i in x4.split()]\n",
    "x5 = [int(i) for i in x5.split()]\n",
    "x6 = [int(i) for i in x6.split()]\n",
    "x7 = [int(i) for i in x7.split()]\n",
    "x8 = [int(i) for i in x8.split()]\n",
    "\n",
    "cm = np.array([x,x2,x3,x4,x5,x6,x7,x8])"
   ]
  },
  {
   "cell_type": "code",
   "execution_count": 13,
   "metadata": {},
   "outputs": [
    {
     "name": "stdout",
     "output_type": "stream",
     "text": [
      "[[  21    0    1    0    0    0    3    0]\n",
      " [   0  106    2    0    6    6    4    0]\n",
      " [   0    1   76    4   10    0   15    6]\n",
      " [   4    2   12  234   30    8    6    3]\n",
      " [   2    8    5    1 1593    1   35   20]\n",
      " [   0    7    6   15    8  231    2    0]\n",
      " [   3    1    8    2    8    0   97    2]\n",
      " [   0    1    3    1   23    0   14  361]]\n"
     ]
    }
   ],
   "source": [
    "print(cm)"
   ]
  },
  {
   "cell_type": "code",
   "execution_count": 23,
   "metadata": {},
   "outputs": [],
   "source": [
    "actual = list()\n",
    "predicted = list()\n",
    "\n",
    "for row in range(8):\n",
    "    for col in range(8):\n",
    "        for quantity in range(cm[row][col]):\n",
    "            actual.append(row)\n",
    "            predicted.append(col)"
   ]
  },
  {
   "cell_type": "code",
   "execution_count": 30,
   "metadata": {},
   "outputs": [],
   "source": [
    "from sklearn.metrics import precision_recall_fscore_support,cohen_kappa_score\n",
    "from sklearn.model_selection import StratifiedKFold\n",
    "from sklearn.metrics import accuracy_score, precision_score, recall_score, f1_score, roc_auc_score, roc_curve, auc, precision_recall_curve\n",
    "from sklearn.metrics import confusion_matrix"
   ]
  },
  {
   "cell_type": "code",
   "execution_count": 32,
   "metadata": {},
   "outputs": [
    {
     "data": {
      "text/plain": [
       "0.9009277667329357"
      ]
     },
     "execution_count": 32,
     "metadata": {},
     "output_type": "execute_result"
    }
   ],
   "source": [
    "accuracy_score(actual,predicted)"
   ]
  },
  {
   "cell_type": "code",
   "execution_count": 29,
   "metadata": {},
   "outputs": [
    {
     "name": "stdout",
     "output_type": "stream",
     "text": [
      "[[  21    0    1    0    0    0    3    0]\n",
      " [   0  106    2    0    6    6    4    0]\n",
      " [   0    1   76    4   10    0   15    6]\n",
      " [   4    2   12  234   30    8    6    3]\n",
      " [   2    8    5    1 1593    1   35   20]\n",
      " [   0    7    6   15    8  231    2    0]\n",
      " [   3    1    8    2    8    0   97    2]\n",
      " [   0    1    3    1   23    0   14  361]]\n"
     ]
    }
   ],
   "source": [
    "curr_cm=confusion_matrix(actual,predicted)\n",
    "print(curr_cm)"
   ]
  },
  {
   "cell_type": "code",
   "execution_count": 31,
   "metadata": {},
   "outputs": [
    {
     "data": {
      "text/plain": [
       "0.8486732230613595"
      ]
     },
     "execution_count": 31,
     "metadata": {},
     "output_type": "execute_result"
    }
   ],
   "source": [
    "cohen_kappa_score(actual,predicted)"
   ]
  },
  {
   "cell_type": "code",
   "execution_count": null,
   "metadata": {},
   "outputs": [],
   "source": []
  }
 ],
 "metadata": {
  "kernelspec": {
   "display_name": "Python 3",
   "language": "python",
   "name": "python3"
  },
  "language_info": {
   "codemirror_mode": {
    "name": "ipython",
    "version": 3
   },
   "file_extension": ".py",
   "mimetype": "text/x-python",
   "name": "python",
   "nbconvert_exporter": "python",
   "pygments_lexer": "ipython3",
   "version": "3.7.7"
  }
 },
 "nbformat": 4,
 "nbformat_minor": 4
}
