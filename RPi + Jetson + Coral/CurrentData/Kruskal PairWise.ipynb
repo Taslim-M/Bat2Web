{
 "cells": [
  {
   "cell_type": "code",
   "execution_count": 2,
   "metadata": {},
   "outputs": [],
   "source": [
    "from scipy import stats\n",
    "import pandas as pd"
   ]
  },
  {
   "cell_type": "code",
   "execution_count": 7,
   "metadata": {},
   "outputs": [],
   "source": [
    "df = pd.read_excel('CombinedData.xlsx')  "
   ]
  },
  {
   "cell_type": "code",
   "execution_count": 8,
   "metadata": {},
   "outputs": [
    {
     "data": {
      "text/html": [
       "<div>\n",
       "<style scoped>\n",
       "    .dataframe tbody tr th:only-of-type {\n",
       "        vertical-align: middle;\n",
       "    }\n",
       "\n",
       "    .dataframe tbody tr th {\n",
       "        vertical-align: top;\n",
       "    }\n",
       "\n",
       "    .dataframe thead th {\n",
       "        text-align: right;\n",
       "    }\n",
       "</style>\n",
       "<table border=\"1\" class=\"dataframe\">\n",
       "  <thead>\n",
       "    <tr style=\"text-align: right;\">\n",
       "      <th></th>\n",
       "      <th>Jetson TensorRT</th>\n",
       "      <th>Jetson TFLITe</th>\n",
       "      <th>Google Coral</th>\n",
       "      <th>RPI 3B</th>\n",
       "    </tr>\n",
       "  </thead>\n",
       "  <tbody>\n",
       "    <tr>\n",
       "      <th>0</th>\n",
       "      <td>703</td>\n",
       "      <td>701.0</td>\n",
       "      <td>693.0</td>\n",
       "      <td>474.0</td>\n",
       "    </tr>\n",
       "    <tr>\n",
       "      <th>1</th>\n",
       "      <td>716</td>\n",
       "      <td>703.0</td>\n",
       "      <td>694.0</td>\n",
       "      <td>475.0</td>\n",
       "    </tr>\n",
       "    <tr>\n",
       "      <th>2</th>\n",
       "      <td>693</td>\n",
       "      <td>703.0</td>\n",
       "      <td>694.0</td>\n",
       "      <td>474.0</td>\n",
       "    </tr>\n",
       "    <tr>\n",
       "      <th>3</th>\n",
       "      <td>669</td>\n",
       "      <td>701.0</td>\n",
       "      <td>690.0</td>\n",
       "      <td>474.0</td>\n",
       "    </tr>\n",
       "    <tr>\n",
       "      <th>4</th>\n",
       "      <td>641</td>\n",
       "      <td>703.0</td>\n",
       "      <td>690.0</td>\n",
       "      <td>472.0</td>\n",
       "    </tr>\n",
       "  </tbody>\n",
       "</table>\n",
       "</div>"
      ],
      "text/plain": [
       "   Jetson TensorRT  Jetson TFLITe  Google Coral  RPI 3B\n",
       "0              703          701.0         693.0   474.0\n",
       "1              716          703.0         694.0   475.0\n",
       "2              693          703.0         694.0   474.0\n",
       "3              669          701.0         690.0   474.0\n",
       "4              641          703.0         690.0   472.0"
      ]
     },
     "execution_count": 8,
     "metadata": {},
     "output_type": "execute_result"
    }
   ],
   "source": [
    "df.head()"
   ]
  },
  {
   "cell_type": "code",
   "execution_count": 9,
   "metadata": {},
   "outputs": [
    {
     "data": {
      "text/plain": [
       "0        703\n",
       "1        716\n",
       "2        693\n",
       "3        669\n",
       "4        641\n",
       "        ... \n",
       "36641    701\n",
       "36642    632\n",
       "36643    584\n",
       "36644    577\n",
       "36645    566\n",
       "Name: Jetson TensorRT, Length: 36646, dtype: int64"
      ]
     },
     "execution_count": 9,
     "metadata": {},
     "output_type": "execute_result"
    }
   ],
   "source": [
    "df['Jetson TensorRT']"
   ]
  },
  {
   "cell_type": "code",
   "execution_count": 14,
   "metadata": {},
   "outputs": [],
   "source": [
    "data_dict = {\n",
    "    \"Jetson_Tensor_RT\": df['Jetson TensorRT'].tolist(),\n",
    "    \"Jetson_TFLITe\":df['Jetson TFLITe'].tolist(),\n",
    "    \"Google_Coral\" : df['Google Coral'].tolist(),\n",
    "    \"RPI_3B\" : df['RPI 3B'].tolist()\n",
    "}"
   ]
  },
  {
   "cell_type": "code",
   "execution_count": 41,
   "metadata": {},
   "outputs": [],
   "source": [
    "x = df['Jetson TensorRT'].tolist()\n",
    "y = df['RPI 3B'].tolist()"
   ]
  },
  {
   "cell_type": "code",
   "execution_count": 42,
   "metadata": {},
   "outputs": [
    {
     "data": {
      "text/plain": [
       "KruskalResult(statistic=12905.771278686208, pvalue=0.0)"
      ]
     },
     "execution_count": 42,
     "metadata": {},
     "output_type": "execute_result"
    }
   ],
   "source": [
    "stats.kruskal(x, y,nan_policy='omit')"
   ]
  },
  {
   "cell_type": "code",
   "execution_count": 43,
   "metadata": {},
   "outputs": [
    {
     "name": "stdout",
     "output_type": "stream",
     "text": [
      "36646 36646\n"
     ]
    }
   ],
   "source": [
    "print(len(x),len(y))"
   ]
  },
  {
   "cell_type": "code",
   "execution_count": 51,
   "metadata": {},
   "outputs": [],
   "source": [
    "d = []\n",
    "\n",
    "\n",
    "zip_object = zip(x, y)\n",
    "for list1_i, list2_i in zip_object:\n",
    "    d.append(list1_i-list2_i)\n"
   ]
  },
  {
   "cell_type": "code",
   "execution_count": 54,
   "metadata": {},
   "outputs": [
    {
     "name": "stdout",
     "output_type": "stream",
     "text": [
      "161971356.0 0.0\n"
     ]
    }
   ],
   "source": [
    "w, p = stats.wilcoxon(x,y)\n",
    "print(w,p)"
   ]
  },
  {
   "cell_type": "code",
   "execution_count": 56,
   "metadata": {},
   "outputs": [
    {
     "name": "stdout",
     "output_type": "stream",
     "text": [
      "Jetson_Tensor_RT Jetson_TFLITe\n",
      "KruskalResult(statistic=8740.720827215215, pvalue=0.0)\n",
      "WilcoxonResult(statistic=134195368.0, pvalue=0.0)\n",
      "\n",
      "Jetson_Tensor_RT Google_Coral\n",
      "KruskalResult(statistic=43683.05904704793, pvalue=0.0)\n",
      "WilcoxonResult(statistic=6239639.5, pvalue=0.0)\n",
      "\n",
      "Jetson_Tensor_RT RPI_3B\n",
      "KruskalResult(statistic=12905.771278686208, pvalue=0.0)\n",
      "WilcoxonResult(statistic=161971356.0, pvalue=0.0)\n",
      "\n",
      "Jetson_TFLITe Jetson_Tensor_RT\n",
      "KruskalResult(statistic=8740.720827215215, pvalue=0.0)\n",
      "WilcoxonResult(statistic=134195368.0, pvalue=0.0)\n",
      "\n",
      "Jetson_TFLITe Google_Coral\n",
      "KruskalResult(statistic=48398.82791009605, pvalue=0.0)\n",
      "WilcoxonResult(statistic=344586.5, pvalue=0.0)\n",
      "\n",
      "Jetson_TFLITe RPI_3B\n",
      "KruskalResult(statistic=14527.998454416758, pvalue=0.0)\n",
      "WilcoxonResult(statistic=133270149.0, pvalue=0.0)\n",
      "\n",
      "Google_Coral Jetson_Tensor_RT\n",
      "KruskalResult(statistic=43683.05904704793, pvalue=0.0)\n",
      "WilcoxonResult(statistic=6239639.5, pvalue=0.0)\n",
      "\n",
      "Google_Coral Jetson_TFLITe\n",
      "KruskalResult(statistic=48398.82791009605, pvalue=0.0)\n",
      "WilcoxonResult(statistic=344586.5, pvalue=0.0)\n",
      "\n",
      "Google_Coral RPI_3B\n",
      "KruskalResult(statistic=48387.562673438515, pvalue=0.0)\n",
      "WilcoxonResult(statistic=1164529.5, pvalue=0.0)\n",
      "\n",
      "RPI_3B Jetson_Tensor_RT\n",
      "KruskalResult(statistic=12905.771278686208, pvalue=0.0)\n",
      "WilcoxonResult(statistic=161971356.0, pvalue=0.0)\n",
      "\n",
      "RPI_3B Jetson_TFLITe\n",
      "KruskalResult(statistic=14527.998454416758, pvalue=0.0)\n",
      "WilcoxonResult(statistic=133270149.0, pvalue=0.0)\n",
      "\n",
      "RPI_3B Google_Coral\n",
      "KruskalResult(statistic=48387.562673438515, pvalue=0.0)\n",
      "WilcoxonResult(statistic=1164529.5, pvalue=0.0)\n",
      "\n"
     ]
    }
   ],
   "source": [
    "for key1,value1 in data_dict.items():\n",
    "    for key2,value2 in data_dict.items():\n",
    "        if key1 != key2:\n",
    "            print(key1,key2)\n",
    "            print(stats.kruskal(value1, value2,nan_policy='omit'))\n",
    "            print(stats.wilcoxon(value1,value2))\n",
    "            print()"
   ]
  },
  {
   "cell_type": "code",
   "execution_count": null,
   "metadata": {},
   "outputs": [],
   "source": []
  }
 ],
 "metadata": {
  "kernelspec": {
   "display_name": "Python 3",
   "language": "python",
   "name": "python3"
  },
  "language_info": {
   "codemirror_mode": {
    "name": "ipython",
    "version": 3
   },
   "file_extension": ".py",
   "mimetype": "text/x-python",
   "name": "python",
   "nbconvert_exporter": "python",
   "pygments_lexer": "ipython3",
   "version": "3.6.10"
  }
 },
 "nbformat": 4,
 "nbformat_minor": 2
}
